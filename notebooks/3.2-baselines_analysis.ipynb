{
 "cells": [
  {
   "cell_type": "code",
   "execution_count": 1,
   "id": "initial_id",
   "metadata": {
    "collapsed": true,
    "ExecuteTime": {
     "end_time": "2024-07-20T09:56:40.825109Z",
     "start_time": "2024-07-20T09:56:40.237226Z"
    }
   },
   "outputs": [],
   "source": [
    "from config import BASE_DIR\n",
    "import pandas as pd\n",
    "BASELINE_DIR = f\"{BASE_DIR}/reports/baselines\"\n"
   ]
  },
  {
   "cell_type": "code",
   "outputs": [
    {
     "data": {
      "text/plain": "['composition_unsupervised.csv',\n 'section_supervised.csv',\n 'section_unsupervised.csv',\n 'book_unsupervised.csv',\n 'composition_supervised.csv',\n 'book_supervised.csv']"
     },
     "execution_count": 2,
     "metadata": {},
     "output_type": "execute_result"
    }
   ],
   "source": [
    "import os\n",
    "filenames = []\n",
    "for root, dirs, files in os.walk(BASELINE_DIR):\n",
    "    for file in files:\n",
    "        filenames.append(file)\n",
    "filenames"
   ],
   "metadata": {
    "collapsed": false,
    "ExecuteTime": {
     "end_time": "2024-07-20T09:56:40.837912Z",
     "start_time": "2024-07-20T09:56:40.826831Z"
    }
   },
   "id": "c75fe282a4d73e9e",
   "execution_count": 2
  },
  {
   "cell_type": "code",
   "outputs": [
    {
     "data": {
      "text/plain": "                 model  accuracy  precision    recall  f1_score  \\\n0        MLPClassifier  0.509158   0.477562  0.509158  0.479332   \n1   LogisticRegression  0.490842   0.440226  0.490842  0.448215   \n2        MLPClassifier  0.468864   0.453156  0.468864  0.447291   \n3   LogisticRegression  0.476190   0.420416  0.476190  0.438009   \n4        MLPClassifier  0.446886   0.424621  0.446886  0.425396   \n..                 ...       ...        ...       ...       ...   \n61  AdaBoostClassifier  0.128205   0.024828  0.128205  0.039893   \n62  AdaBoostClassifier  0.095238   0.036885  0.095238  0.037180   \n63  AdaBoostClassifier  0.135531   0.020436  0.135531  0.035450   \n64  AdaBoostClassifier  0.113553   0.020012  0.113553  0.033186   \n65           LinearSVC  0.003663   0.000019  0.003663  0.000037   \n\n                                           vectorizer  \n0             yonatanlou/BEREL-finetuned-DSS-maskedLM  \n1             yonatanlou/BEREL-finetuned-DSS-maskedLM  \n2   yonatanlou/BEREL-finetuned-DSS-composition-cla...  \n3   yonatanlou/BEREL-finetuned-DSS-composition-cla...  \n4                              onlplab/alephbert-base  \n..                                                ...  \n61            yonatanlou/BEREL-finetuned-DSS-maskedLM  \n62                           dicta-il/dictabert-large  \n63                                 dicta-il/dictabert  \n64                                     dicta-il/BEREL  \n65                                              starr  \n\n[66 rows x 6 columns]",
      "text/html": "<div>\n<style scoped>\n    .dataframe tbody tr th:only-of-type {\n        vertical-align: middle;\n    }\n\n    .dataframe tbody tr th {\n        vertical-align: top;\n    }\n\n    .dataframe thead th {\n        text-align: right;\n    }\n</style>\n<table border=\"1\" class=\"dataframe\">\n  <thead>\n    <tr style=\"text-align: right;\">\n      <th></th>\n      <th>model</th>\n      <th>accuracy</th>\n      <th>precision</th>\n      <th>recall</th>\n      <th>f1_score</th>\n      <th>vectorizer</th>\n    </tr>\n  </thead>\n  <tbody>\n    <tr>\n      <th>0</th>\n      <td>MLPClassifier</td>\n      <td>0.509158</td>\n      <td>0.477562</td>\n      <td>0.509158</td>\n      <td>0.479332</td>\n      <td>yonatanlou/BEREL-finetuned-DSS-maskedLM</td>\n    </tr>\n    <tr>\n      <th>1</th>\n      <td>LogisticRegression</td>\n      <td>0.490842</td>\n      <td>0.440226</td>\n      <td>0.490842</td>\n      <td>0.448215</td>\n      <td>yonatanlou/BEREL-finetuned-DSS-maskedLM</td>\n    </tr>\n    <tr>\n      <th>2</th>\n      <td>MLPClassifier</td>\n      <td>0.468864</td>\n      <td>0.453156</td>\n      <td>0.468864</td>\n      <td>0.447291</td>\n      <td>yonatanlou/BEREL-finetuned-DSS-composition-cla...</td>\n    </tr>\n    <tr>\n      <th>3</th>\n      <td>LogisticRegression</td>\n      <td>0.476190</td>\n      <td>0.420416</td>\n      <td>0.476190</td>\n      <td>0.438009</td>\n      <td>yonatanlou/BEREL-finetuned-DSS-composition-cla...</td>\n    </tr>\n    <tr>\n      <th>4</th>\n      <td>MLPClassifier</td>\n      <td>0.446886</td>\n      <td>0.424621</td>\n      <td>0.446886</td>\n      <td>0.425396</td>\n      <td>onlplab/alephbert-base</td>\n    </tr>\n    <tr>\n      <th>...</th>\n      <td>...</td>\n      <td>...</td>\n      <td>...</td>\n      <td>...</td>\n      <td>...</td>\n      <td>...</td>\n    </tr>\n    <tr>\n      <th>61</th>\n      <td>AdaBoostClassifier</td>\n      <td>0.128205</td>\n      <td>0.024828</td>\n      <td>0.128205</td>\n      <td>0.039893</td>\n      <td>yonatanlou/BEREL-finetuned-DSS-maskedLM</td>\n    </tr>\n    <tr>\n      <th>62</th>\n      <td>AdaBoostClassifier</td>\n      <td>0.095238</td>\n      <td>0.036885</td>\n      <td>0.095238</td>\n      <td>0.037180</td>\n      <td>dicta-il/dictabert-large</td>\n    </tr>\n    <tr>\n      <th>63</th>\n      <td>AdaBoostClassifier</td>\n      <td>0.135531</td>\n      <td>0.020436</td>\n      <td>0.135531</td>\n      <td>0.035450</td>\n      <td>dicta-il/dictabert</td>\n    </tr>\n    <tr>\n      <th>64</th>\n      <td>AdaBoostClassifier</td>\n      <td>0.113553</td>\n      <td>0.020012</td>\n      <td>0.113553</td>\n      <td>0.033186</td>\n      <td>dicta-il/BEREL</td>\n    </tr>\n    <tr>\n      <th>65</th>\n      <td>LinearSVC</td>\n      <td>0.003663</td>\n      <td>0.000019</td>\n      <td>0.003663</td>\n      <td>0.000037</td>\n      <td>starr</td>\n    </tr>\n  </tbody>\n</table>\n<p>66 rows × 6 columns</p>\n</div>"
     },
     "execution_count": 9,
     "metadata": {},
     "output_type": "execute_result"
    }
   ],
   "source": [
    "pd.read_csv(f\"{BASELINE_DIR}/book_supervised.csv\")"
   ],
   "metadata": {
    "collapsed": false,
    "ExecuteTime": {
     "end_time": "2024-07-20T11:17:34.405109Z",
     "start_time": "2024-07-20T11:17:34.383868Z"
    }
   },
   "id": "d229cd95fd28aa3b",
   "execution_count": 9
  },
  {
   "cell_type": "code",
   "outputs": [
    {
     "data": {
      "text/plain": "                 model  accuracy  precision    recall  f1_score  \\\n0        MLPClassifier  0.717791   0.746513  0.717791  0.714774   \n1            LinearSVC  0.711656   0.723196  0.711656  0.709600   \n2        MLPClassifier  0.711656   0.708218  0.711656  0.700728   \n3   LogisticRegression  0.711656   0.715879  0.711656  0.700188   \n4            LinearSVC  0.699387   0.720969  0.699387  0.697229   \n..                 ...       ...        ...       ...       ...   \n61  AdaBoostClassifier  0.208589   0.122775  0.208589  0.126162   \n62  AdaBoostClassifier  0.233129   0.081504  0.233129  0.115184   \n63  AdaBoostClassifier  0.245399   0.072182  0.245399  0.110031   \n64  AdaBoostClassifier  0.208589   0.092711  0.208589  0.104171   \n65  AdaBoostClassifier  0.208589   0.094591  0.208589  0.103422   \n\n                                 vectorizer  \n0                    onlplab/alephbert-base  \n1                  dicta-il/dictabert-large  \n2   yonatanlou/BEREL-finetuned-DSS-maskedLM  \n3   yonatanlou/BEREL-finetuned-DSS-maskedLM  \n4   yonatanlou/BEREL-finetuned-DSS-maskedLM  \n..                                      ...  \n61                 dicta-il/dictabert-large  \n62                           dicta-il/BEREL  \n63                                    starr  \n64                                  trigram  \n65                                    tfidf  \n\n[66 rows x 6 columns]",
      "text/html": "<div>\n<style scoped>\n    .dataframe tbody tr th:only-of-type {\n        vertical-align: middle;\n    }\n\n    .dataframe tbody tr th {\n        vertical-align: top;\n    }\n\n    .dataframe thead th {\n        text-align: right;\n    }\n</style>\n<table border=\"1\" class=\"dataframe\">\n  <thead>\n    <tr style=\"text-align: right;\">\n      <th></th>\n      <th>model</th>\n      <th>accuracy</th>\n      <th>precision</th>\n      <th>recall</th>\n      <th>f1_score</th>\n      <th>vectorizer</th>\n    </tr>\n  </thead>\n  <tbody>\n    <tr>\n      <th>0</th>\n      <td>MLPClassifier</td>\n      <td>0.717791</td>\n      <td>0.746513</td>\n      <td>0.717791</td>\n      <td>0.714774</td>\n      <td>onlplab/alephbert-base</td>\n    </tr>\n    <tr>\n      <th>1</th>\n      <td>LinearSVC</td>\n      <td>0.711656</td>\n      <td>0.723196</td>\n      <td>0.711656</td>\n      <td>0.709600</td>\n      <td>dicta-il/dictabert-large</td>\n    </tr>\n    <tr>\n      <th>2</th>\n      <td>MLPClassifier</td>\n      <td>0.711656</td>\n      <td>0.708218</td>\n      <td>0.711656</td>\n      <td>0.700728</td>\n      <td>yonatanlou/BEREL-finetuned-DSS-maskedLM</td>\n    </tr>\n    <tr>\n      <th>3</th>\n      <td>LogisticRegression</td>\n      <td>0.711656</td>\n      <td>0.715879</td>\n      <td>0.711656</td>\n      <td>0.700188</td>\n      <td>yonatanlou/BEREL-finetuned-DSS-maskedLM</td>\n    </tr>\n    <tr>\n      <th>4</th>\n      <td>LinearSVC</td>\n      <td>0.699387</td>\n      <td>0.720969</td>\n      <td>0.699387</td>\n      <td>0.697229</td>\n      <td>yonatanlou/BEREL-finetuned-DSS-maskedLM</td>\n    </tr>\n    <tr>\n      <th>...</th>\n      <td>...</td>\n      <td>...</td>\n      <td>...</td>\n      <td>...</td>\n      <td>...</td>\n      <td>...</td>\n    </tr>\n    <tr>\n      <th>61</th>\n      <td>AdaBoostClassifier</td>\n      <td>0.208589</td>\n      <td>0.122775</td>\n      <td>0.208589</td>\n      <td>0.126162</td>\n      <td>dicta-il/dictabert-large</td>\n    </tr>\n    <tr>\n      <th>62</th>\n      <td>AdaBoostClassifier</td>\n      <td>0.233129</td>\n      <td>0.081504</td>\n      <td>0.233129</td>\n      <td>0.115184</td>\n      <td>dicta-il/BEREL</td>\n    </tr>\n    <tr>\n      <th>63</th>\n      <td>AdaBoostClassifier</td>\n      <td>0.245399</td>\n      <td>0.072182</td>\n      <td>0.245399</td>\n      <td>0.110031</td>\n      <td>starr</td>\n    </tr>\n    <tr>\n      <th>64</th>\n      <td>AdaBoostClassifier</td>\n      <td>0.208589</td>\n      <td>0.092711</td>\n      <td>0.208589</td>\n      <td>0.104171</td>\n      <td>trigram</td>\n    </tr>\n    <tr>\n      <th>65</th>\n      <td>AdaBoostClassifier</td>\n      <td>0.208589</td>\n      <td>0.094591</td>\n      <td>0.208589</td>\n      <td>0.103422</td>\n      <td>tfidf</td>\n    </tr>\n  </tbody>\n</table>\n<p>66 rows × 6 columns</p>\n</div>"
     },
     "execution_count": 10,
     "metadata": {},
     "output_type": "execute_result"
    }
   ],
   "source": [
    "pd.read_csv(f\"{BASELINE_DIR}/composition_supervised.csv\")"
   ],
   "metadata": {
    "collapsed": false,
    "ExecuteTime": {
     "end_time": "2024-07-20T11:17:36.933579Z",
     "start_time": "2024-07-20T11:17:36.913809Z"
    }
   },
   "id": "517f3aa77a7aacf2",
   "execution_count": 10
  },
  {
   "cell_type": "code",
   "outputs": [
    {
     "data": {
      "text/plain": "                     model  accuracy  precision    recall  f1_score  \\\n0            MLPClassifier  0.971098   0.971807  0.971098  0.969385   \n1                LinearSVC  0.959538   0.960555  0.959538  0.957980   \n2       LogisticRegression  0.959538   0.960851  0.959538  0.956787   \n3                LinearSVC  0.953757   0.952504  0.953757  0.951226   \n4            MLPClassifier  0.953757   0.952573  0.953757  0.951223   \n..                     ...       ...        ...       ...       ...   \n61  RandomForestClassifier  0.815029   0.823292  0.815029  0.783485   \n62           MLPClassifier  0.797688   0.794497  0.797688  0.756687   \n63      LogisticRegression  0.768786   0.767994  0.768786  0.740034   \n64               LinearSVC  0.699422   0.743201  0.699422  0.700119   \n65      AdaBoostClassifier  0.676301   0.709000  0.676301  0.689170   \n\n                                           vectorizer  \n0   yonatanlou/BEREL-finetuned-DSS-sectarian-class...  \n1   yonatanlou/BEREL-finetuned-DSS-sectarian-class...  \n2   yonatanlou/BEREL-finetuned-DSS-sectarian-class...  \n3                                      dicta-il/BEREL  \n4   yonatanlou/BEREL-finetuned-DSS-composition-cla...  \n..                                                ...  \n61                                              starr  \n62                                              starr  \n63                                              starr  \n64                                              starr  \n65                                              starr  \n\n[66 rows x 6 columns]",
      "text/html": "<div>\n<style scoped>\n    .dataframe tbody tr th:only-of-type {\n        vertical-align: middle;\n    }\n\n    .dataframe tbody tr th {\n        vertical-align: top;\n    }\n\n    .dataframe thead th {\n        text-align: right;\n    }\n</style>\n<table border=\"1\" class=\"dataframe\">\n  <thead>\n    <tr style=\"text-align: right;\">\n      <th></th>\n      <th>model</th>\n      <th>accuracy</th>\n      <th>precision</th>\n      <th>recall</th>\n      <th>f1_score</th>\n      <th>vectorizer</th>\n    </tr>\n  </thead>\n  <tbody>\n    <tr>\n      <th>0</th>\n      <td>MLPClassifier</td>\n      <td>0.971098</td>\n      <td>0.971807</td>\n      <td>0.971098</td>\n      <td>0.969385</td>\n      <td>yonatanlou/BEREL-finetuned-DSS-sectarian-class...</td>\n    </tr>\n    <tr>\n      <th>1</th>\n      <td>LinearSVC</td>\n      <td>0.959538</td>\n      <td>0.960555</td>\n      <td>0.959538</td>\n      <td>0.957980</td>\n      <td>yonatanlou/BEREL-finetuned-DSS-sectarian-class...</td>\n    </tr>\n    <tr>\n      <th>2</th>\n      <td>LogisticRegression</td>\n      <td>0.959538</td>\n      <td>0.960851</td>\n      <td>0.959538</td>\n      <td>0.956787</td>\n      <td>yonatanlou/BEREL-finetuned-DSS-sectarian-class...</td>\n    </tr>\n    <tr>\n      <th>3</th>\n      <td>LinearSVC</td>\n      <td>0.953757</td>\n      <td>0.952504</td>\n      <td>0.953757</td>\n      <td>0.951226</td>\n      <td>dicta-il/BEREL</td>\n    </tr>\n    <tr>\n      <th>4</th>\n      <td>MLPClassifier</td>\n      <td>0.953757</td>\n      <td>0.952573</td>\n      <td>0.953757</td>\n      <td>0.951223</td>\n      <td>yonatanlou/BEREL-finetuned-DSS-composition-cla...</td>\n    </tr>\n    <tr>\n      <th>...</th>\n      <td>...</td>\n      <td>...</td>\n      <td>...</td>\n      <td>...</td>\n      <td>...</td>\n      <td>...</td>\n    </tr>\n    <tr>\n      <th>61</th>\n      <td>RandomForestClassifier</td>\n      <td>0.815029</td>\n      <td>0.823292</td>\n      <td>0.815029</td>\n      <td>0.783485</td>\n      <td>starr</td>\n    </tr>\n    <tr>\n      <th>62</th>\n      <td>MLPClassifier</td>\n      <td>0.797688</td>\n      <td>0.794497</td>\n      <td>0.797688</td>\n      <td>0.756687</td>\n      <td>starr</td>\n    </tr>\n    <tr>\n      <th>63</th>\n      <td>LogisticRegression</td>\n      <td>0.768786</td>\n      <td>0.767994</td>\n      <td>0.768786</td>\n      <td>0.740034</td>\n      <td>starr</td>\n    </tr>\n    <tr>\n      <th>64</th>\n      <td>LinearSVC</td>\n      <td>0.699422</td>\n      <td>0.743201</td>\n      <td>0.699422</td>\n      <td>0.700119</td>\n      <td>starr</td>\n    </tr>\n    <tr>\n      <th>65</th>\n      <td>AdaBoostClassifier</td>\n      <td>0.676301</td>\n      <td>0.709000</td>\n      <td>0.676301</td>\n      <td>0.689170</td>\n      <td>starr</td>\n    </tr>\n  </tbody>\n</table>\n<p>66 rows × 6 columns</p>\n</div>"
     },
     "execution_count": 11,
     "metadata": {},
     "output_type": "execute_result"
    }
   ],
   "source": [
    "pd.read_csv(f\"{BASELINE_DIR}/section_supervised.csv\")"
   ],
   "metadata": {
    "collapsed": false,
    "ExecuteTime": {
     "end_time": "2024-07-20T11:17:46.224321Z",
     "start_time": "2024-07-20T11:17:46.206011Z"
    }
   },
   "id": "8f4574ab45c2e371",
   "execution_count": 11
  },
  {
   "cell_type": "code",
   "outputs": [
    {
     "data": {
      "text/plain": "'2.0.1'"
     },
     "execution_count": 13,
     "metadata": {},
     "output_type": "execute_result"
    }
   ],
   "source": [
    "import torch\n",
    "torch.__version__"
   ],
   "metadata": {
    "collapsed": false,
    "ExecuteTime": {
     "end_time": "2024-07-20T11:19:33.687777Z",
     "start_time": "2024-07-20T11:19:33.681117Z"
    }
   },
   "id": "1c1c88fff90ffa8c",
   "execution_count": 13
  },
  {
   "cell_type": "code",
   "outputs": [
    {
     "name": "stdout",
     "output_type": "stream",
     "text": [
      "torch-scatter -f https://data.pyg.org/whl/torch-2.0.1.html\n",
      "\n",
      "torch-sparse -f https://data.pyg.org/whl/torch-2.0.1.html\n",
      "\n",
      "git+https://github.com/pyg-team/pytorch_geometric.git\n"
     ]
    }
   ],
   "source": [
    "s = f'''torch-scatter -f https://data.pyg.org/whl/torch-{torch.__version__}.html\\n\n",
    "torch-sparse -f https://data.pyg.org/whl/torch-{torch.__version__}.html\\n\n",
    "git+https://github.com/pyg-team/pytorch_geometric.git'''\n",
    "print(s)\n"
   ],
   "metadata": {
    "collapsed": false,
    "ExecuteTime": {
     "end_time": "2024-07-20T11:21:31.309819Z",
     "start_time": "2024-07-20T11:21:31.303272Z"
    }
   },
   "id": "3fd4b7d29b876051",
   "execution_count": 16
  },
  {
   "cell_type": "code",
   "outputs": [],
   "source": [],
   "metadata": {
    "collapsed": false
   },
   "id": "cf103f5eababbc05"
  }
 ],
 "metadata": {
  "kernelspec": {
   "display_name": "Python 3",
   "language": "python",
   "name": "python3"
  },
  "language_info": {
   "codemirror_mode": {
    "name": "ipython",
    "version": 2
   },
   "file_extension": ".py",
   "mimetype": "text/x-python",
   "name": "python",
   "nbconvert_exporter": "python",
   "pygments_lexer": "ipython2",
   "version": "2.7.6"
  }
 },
 "nbformat": 4,
 "nbformat_minor": 5
}
