{
 "cells": [
  {
   "cell_type": "code",
   "outputs": [],
   "source": [
    "import numpy as np\n",
    "import pandas as pd\n",
    "\n",
    "from config import BASE_DIR\n",
    "from notebooks.notebooks_utils import set_seed_globaly\n",
    "\n",
    "\n",
    "RERUN = False"
   ],
   "metadata": {
    "collapsed": false,
    "ExecuteTime": {
     "end_time": "2024-06-30T16:47:08.681110Z",
     "start_time": "2024-06-30T16:47:06.276593Z"
    }
   },
   "id": "bd7742e7ea8ba826",
   "execution_count": 1
  },
  {
   "cell_type": "code",
   "execution_count": 2,
   "id": "initial_id",
   "metadata": {
    "collapsed": true,
    "ExecuteTime": {
     "end_time": "2024-06-30T16:47:08.750245Z",
     "start_time": "2024-06-30T16:47:08.683456Z"
    }
   },
   "outputs": [
    {
     "name": "stdout",
     "output_type": "stream",
     "text": [
      "<class 'pandas.core.frame.DataFrame'>\n",
      "RangeIndex: 1365 entries, 0 to 1364\n",
      "Data columns (total 25 columns):\n",
      " #   Column                                                              Non-Null Count  Dtype  \n",
      "---  ------                                                              --------------  -----  \n",
      " 0   book                                                                1365 non-null   object \n",
      " 1   sentence_path                                                       1365 non-null   object \n",
      " 2   text_lex                                                            1362 non-null   object \n",
      " 3   text                                                                1365 non-null   object \n",
      " 4   n_words_lex                                                         1365 non-null   int64  \n",
      " 5   n_words                                                             1365 non-null   int64  \n",
      " 6   construct to absolute nouns ratio                                   1365 non-null   float64\n",
      " 7   construct nouns and adjectives percentage                           1365 non-null   float64\n",
      " 8   noun to verb ratio                                                  1365 non-null   float64\n",
      " 9   definite_article_percentage                                         1365 non-null   float64\n",
      " 10  direct object marker percentage                                     1365 non-null   float64\n",
      " 11  pronouns bound to nouns or verbs percentage                         1365 non-null   float64\n",
      " 12  persuasive verb forms (imperative, jussive, cohorative) percentage  1365 non-null   float64\n",
      " 13  preterite percentage                                                1365 non-null   float64\n",
      " 14  ky percentage                                                       1365 non-null   float64\n",
      " 15  aCr percentage                                                      1365 non-null   float64\n",
      " 16  oM percentage                                                       1365 non-null   float64\n",
      " 17  kya percentage                                                      1365 non-null   float64\n",
      " 18  all conjunctions percentage                                         1365 non-null   float64\n",
      " 19  non-finite to finite verbs ratio                                    1365 non-null   float64\n",
      " 20  passive verb forms percentage                                       1365 non-null   float64\n",
      " 21  total word count                                                    1365 non-null   float64\n",
      " 22  bib                                                                 1365 non-null   object \n",
      " 23  section                                                             861 non-null    object \n",
      " 24  composition                                                         812 non-null    object \n",
      "dtypes: float64(16), int64(2), object(7)\n",
      "memory usage: 266.7+ KB\n"
     ]
    }
   ],
   "source": [
    "\n",
    "\n",
    "clustering_label = \"composition\"\n",
    "CHUNK_SIZE = 100\n",
    "DATA_PATH = f\"{BASE_DIR}/notebooks/data/filtered_text_and_starr_features_{CHUNK_SIZE}_words_nonbib_17_06_2024.csv\"\n",
    "df = pd.read_csv(DATA_PATH)\n",
    "df.info()\n"
   ]
  },
  {
   "cell_type": "code",
   "outputs": [
    {
     "name": "stderr",
     "output_type": "stream",
     "text": [
      "/var/folders/yv/8bscwg3x6m5934xb_mry4d_m0000gr/T/ipykernel_28258/1318954615.py:14: SettingWithCopyWarning: \n",
      "A value is trying to be set on a copy of a slice from a DataFrame.\n",
      "Try using .loc[row_indexer,col_indexer] = value instead\n",
      "\n",
      "See the caveats in the documentation: https://pandas.pydata.org/pandas-docs/stable/user_guide/indexing.html#returning-a-view-versus-a-copy\n",
      "  df_compoisition_classification.loc[train_idx, 'split'] = 'train'\n",
      "/var/folders/yv/8bscwg3x6m5934xb_mry4d_m0000gr/T/ipykernel_28258/1318954615.py:14: FutureWarning: Setting an item of incompatible dtype is deprecated and will raise in a future error of pandas. Value 'train' has dtype incompatible with float64, please explicitly cast to a compatible dtype first.\n",
      "  df_compoisition_classification.loc[train_idx, 'split'] = 'train'\n"
     ]
    },
    {
     "data": {
      "text/plain": "split\ntrain    568\ntest     244\nName: count, dtype: int64"
     },
     "execution_count": 3,
     "metadata": {},
     "output_type": "execute_result"
    }
   ],
   "source": [
    "\n",
    "from sklearn.preprocessing import LabelEncoder\n",
    "from sklearn.model_selection import train_test_split\n",
    "\n",
    "from notebooks.clustering_main import stratified_sample\n",
    "set_seed_globaly()\n",
    "idx_to_remove_composition = df['composition'].isna()\n",
    "df_compoisition_classification = df[~idx_to_remove_composition]\n",
    "# df_compoisition_classification = stratified_sample(df_compoisition_classification, 'composition', fr)\n",
    "# comp_counts = df_compoisition_classification[\"composition\"].value_counts()\n",
    "# relevant_comps = comp_counts[comp_counts>5]\n",
    "# df_compoisition_classification[df_compoisition_classification[\"composition\"].isin(relevant_comps)]\n",
    "\n",
    "train_idx, test_idx = train_test_split(df_compoisition_classification.index, test_size=0.3, random_state=42, stratify=df_compoisition_classification['composition'])\n",
    "df_compoisition_classification.loc[train_idx, 'split'] = 'train'\n",
    "df_compoisition_classification.loc[test_idx, 'split'] = 'test'\n",
    "df_compoisition_classification[\"split\"].value_counts()\n"
   ],
   "metadata": {
    "collapsed": false,
    "ExecuteTime": {
     "end_time": "2024-06-30T16:47:09.982544Z",
     "start_time": "2024-06-30T16:47:08.752585Z"
    }
   },
   "id": "92ed42866af7b206",
   "execution_count": 3
  },
  {
   "cell_type": "code",
   "outputs": [],
   "source": [
    "df_compoisition_classification.to_csv(f\"{BASE_DIR}/notebooks/data/df_compoisition_classification.csv\", index=False)"
   ],
   "metadata": {
    "collapsed": false,
    "ExecuteTime": {
     "end_time": "2024-06-30T16:47:43.545074Z",
     "start_time": "2024-06-30T16:47:43.487449Z"
    }
   },
   "id": "67f305380018a952",
   "execution_count": 4
  },
  {
   "cell_type": "code",
   "outputs": [],
   "source": [
    "PATH_TO_FILE = \"/Users/yonatanlou/dev/BertGCN/data\"\n",
    "df_compoisition_classification[[\"sentence_path\", \"split\",\"composition\"]].to_csv(f\"{PATH_TO_FILE}/DSS_composition_classification_labels.txt\", index=False, header=False, sep=\"\\t\")\n",
    "df_compoisition_classification[[\"text\"]].to_csv(f\"{PATH_TO_FILE}/corpus/DSS_composition_classification_text.txt\", index=False, header=False, sep=\"\\t\")\n",
    "# idx_to_remove_sectarian = (df['section'].isna()) | (df['section'] == \"unknown\")\n",
    "# df_sectarian_classification = df[~idx_to_remove_sectarian]"
   ],
   "metadata": {
    "collapsed": false,
    "ExecuteTime": {
     "end_time": "2024-06-30T16:47:50.663623Z",
     "start_time": "2024-06-30T16:47:50.625429Z"
    }
   },
   "id": "d3e10b3843a846ca",
   "execution_count": 5
  },
  {
   "cell_type": "code",
   "outputs": [],
   "source": [],
   "metadata": {
    "collapsed": false
   },
   "id": "bdb21ec5a306a883"
  },
  {
   "cell_type": "code",
   "outputs": [],
   "source": [
    "\n",
    "from sklearn.ensemble import RandomForestClassifier\n",
    "from sklearn.linear_model import LogisticRegression\n",
    "from sklearn.svm import SVC\n",
    "\n",
    "from sklearn.metrics import accuracy_score, precision_score, recall_score, f1_score\n",
    "from sklearn.model_selection import train_test_split\n",
    "import pandas as pd\n",
    "from tqdm.notebook import tqdm\n",
    "from sklearn.neighbors import KNeighborsClassifier\n",
    "from sklearn.ensemble import AdaBoostClassifier\n",
    "from sklearn.preprocessing import LabelEncoder\n",
    "def compute_classification_metrics(model, vectorizer_matrix, df, train_idx, test_idx, label_column):\n",
    "    \n",
    "    le = LabelEncoder()\n",
    "    df['encoded_labels'] = le.fit_transform(df[label_column])\n",
    "\n",
    "    X_train, y_train = vectorizer_matrix[train_idx],df.loc[train_idx,'encoded_labels']\n",
    "    X_test, y_test = vectorizer_matrix[test_idx],df.loc[test_idx,'encoded_labels'] \n",
    "    # Fit the model\n",
    "    model.fit(X_train, y_train)\n",
    "    y_pred = model.predict(X_test)\n",
    "\n",
    "    # Compute evaluation metrics\n",
    "    accuracy = accuracy_score(y_test, y_pred)\n",
    "    precision = precision_score(y_test, y_pred, average='weighted')\n",
    "    recall = recall_score(y_test, y_pred, average='weighted')\n",
    "    f1 = f1_score(y_test, y_pred, average='weighted')\n",
    "\n",
    "    metrics = {\n",
    "        'model': type(model).__name__,\n",
    "        'accuracy': accuracy,\n",
    "        'precision': precision,\n",
    "        'recall': recall,\n",
    "        'f1_score': f1\n",
    "    }\n",
    "\n",
    "    return metrics\n"
   ],
   "metadata": {
    "collapsed": false,
    "ExecuteTime": {
     "end_time": "2024-06-30T16:14:16.556962Z",
     "start_time": "2024-06-30T16:14:16.547350Z"
    }
   },
   "id": "37a7c8b6bfe3f54e",
   "execution_count": 18
  },
  {
   "cell_type": "code",
   "outputs": [],
   "source": [
    "df_compoisition_classification =  pd.read_csv(f\"{PATH_TO_FILE}/DSS_composition_classification_labels.txt\", sep=\"\\t\", names=[\"sentence_path\", \"split\",\"composition\"])\n"
   ],
   "metadata": {
    "collapsed": false,
    "ExecuteTime": {
     "end_time": "2024-06-30T16:48:16.110782Z",
     "start_time": "2024-06-30T16:48:16.102Z"
    }
   },
   "id": "1751e437cdc271f4",
   "execution_count": 6
  },
  {
   "cell_type": "code",
   "outputs": [
    {
     "name": "stderr",
     "output_type": "stream",
     "text": [
      "/Users/yonatanlou/.pyenv/versions/3.10.0/envs/QumranNLP/lib/python3.10/site-packages/huggingface_hub/file_download.py:1132: FutureWarning: `resume_download` is deprecated and will be removed in version 1.0.0. Downloads always resume when possible. If you want to force a new download, use `force_download=True`.\n",
      "  warnings.warn(\n",
      "\n",
      "KeyboardInterrupt\n",
      "\n"
     ]
    }
   ],
   "source": [
    "from notebooks.features import vectorize_text\n",
    "\n",
    "X = vectorize_text(df, \"text\", \"dicta-il/BEREL\")"
   ],
   "metadata": {
    "collapsed": false,
    "ExecuteTime": {
     "end_time": "2024-06-30T16:12:46.148851Z",
     "start_time": "2024-06-30T16:12:41.797309Z"
    }
   },
   "id": "bcf4301535adb597",
   "execution_count": 11
  },
  {
   "cell_type": "code",
   "outputs": [
    {
     "data": {
      "text/plain": "model:   0%|          | 0/5 [00:00<?, ?it/s]",
      "application/vnd.jupyter.widget-view+json": {
       "version_major": 2,
       "version_minor": 0,
       "model_id": "addbfea8ccc8468594b0aad734b79999"
      }
     },
     "metadata": {},
     "output_type": "display_data"
    },
    {
     "name": "stderr",
     "output_type": "stream",
     "text": [
      "/Users/yonatanlou/.pyenv/versions/3.10.0/envs/QumranNLP/lib/python3.10/site-packages/sklearn/metrics/_classification.py:1327: UndefinedMetricWarning: Precision is ill-defined and being set to 0.0 in labels with no predicted samples. Use `zero_division` parameter to control this behavior.\n",
      "  _warn_prf(average, modifier, msg_start, len(result))\n",
      "/Users/yonatanlou/.pyenv/versions/3.10.0/envs/QumranNLP/lib/python3.10/site-packages/sklearn/linear_model/_logistic.py:444: ConvergenceWarning: lbfgs failed to converge (status=1):\n",
      "STOP: TOTAL NO. of ITERATIONS REACHED LIMIT.\n",
      "\n",
      "Increase the number of iterations (max_iter) or scale the data as shown in:\n",
      "    https://scikit-learn.org/stable/modules/preprocessing.html\n",
      "Please also refer to the documentation for alternative solver options:\n",
      "    https://scikit-learn.org/stable/modules/linear_model.html#logistic-regression\n",
      "  n_iter_i = _check_optimize_result(\n",
      "/Users/yonatanlou/.pyenv/versions/3.10.0/envs/QumranNLP/lib/python3.10/site-packages/sklearn/metrics/_classification.py:1327: UndefinedMetricWarning: Precision is ill-defined and being set to 0.0 in labels with no predicted samples. Use `zero_division` parameter to control this behavior.\n",
      "  _warn_prf(average, modifier, msg_start, len(result))\n",
      "/Users/yonatanlou/.pyenv/versions/3.10.0/envs/QumranNLP/lib/python3.10/site-packages/sklearn/metrics/_classification.py:1327: UndefinedMetricWarning: Precision is ill-defined and being set to 0.0 in labels with no predicted samples. Use `zero_division` parameter to control this behavior.\n",
      "  _warn_prf(average, modifier, msg_start, len(result))\n",
      "/Users/yonatanlou/.pyenv/versions/3.10.0/envs/QumranNLP/lib/python3.10/site-packages/sklearn/metrics/_classification.py:1327: UndefinedMetricWarning: Precision is ill-defined and being set to 0.0 in labels with no predicted samples. Use `zero_division` parameter to control this behavior.\n",
      "  _warn_prf(average, modifier, msg_start, len(result))\n",
      "/Users/yonatanlou/.pyenv/versions/3.10.0/envs/QumranNLP/lib/python3.10/site-packages/sklearn/metrics/_classification.py:1327: UndefinedMetricWarning: Precision is ill-defined and being set to 0.0 in labels with no predicted samples. Use `zero_division` parameter to control this behavior.\n",
      "  _warn_prf(average, modifier, msg_start, len(result))\n"
     ]
    },
    {
     "data": {
      "text/plain": "                    model  accuracy  precision    recall  f1_score\n0  RandomForestClassifier  0.429752   0.384114  0.429752  0.376516\n1      LogisticRegression  0.537190   0.516249  0.537190  0.509444\n2                     SVC  0.297521   0.145616  0.297521  0.181927\n3    KNeighborsClassifier  0.479339   0.520041  0.479339  0.478244\n4      AdaBoostClassifier  0.132231   0.079574  0.132231  0.076868",
      "text/html": "<div>\n<style scoped>\n    .dataframe tbody tr th:only-of-type {\n        vertical-align: middle;\n    }\n\n    .dataframe tbody tr th {\n        vertical-align: top;\n    }\n\n    .dataframe thead th {\n        text-align: right;\n    }\n</style>\n<table border=\"1\" class=\"dataframe\">\n  <thead>\n    <tr style=\"text-align: right;\">\n      <th></th>\n      <th>model</th>\n      <th>accuracy</th>\n      <th>precision</th>\n      <th>recall</th>\n      <th>f1_score</th>\n    </tr>\n  </thead>\n  <tbody>\n    <tr>\n      <th>0</th>\n      <td>RandomForestClassifier</td>\n      <td>0.429752</td>\n      <td>0.384114</td>\n      <td>0.429752</td>\n      <td>0.376516</td>\n    </tr>\n    <tr>\n      <th>1</th>\n      <td>LogisticRegression</td>\n      <td>0.537190</td>\n      <td>0.516249</td>\n      <td>0.537190</td>\n      <td>0.509444</td>\n    </tr>\n    <tr>\n      <th>2</th>\n      <td>SVC</td>\n      <td>0.297521</td>\n      <td>0.145616</td>\n      <td>0.297521</td>\n      <td>0.181927</td>\n    </tr>\n    <tr>\n      <th>3</th>\n      <td>KNeighborsClassifier</td>\n      <td>0.479339</td>\n      <td>0.520041</td>\n      <td>0.479339</td>\n      <td>0.478244</td>\n    </tr>\n    <tr>\n      <th>4</th>\n      <td>AdaBoostClassifier</td>\n      <td>0.132231</td>\n      <td>0.079574</td>\n      <td>0.132231</td>\n      <td>0.076868</td>\n    </tr>\n  </tbody>\n</table>\n</div>"
     },
     "execution_count": 22,
     "metadata": {},
     "output_type": "execute_result"
    }
   ],
   "source": [
    "# Define the models and vectorizers to be evaluated\n",
    "models = [\n",
    "    RandomForestClassifier(random_state=42),\n",
    "    LogisticRegression(max_iter=200),\n",
    "    SVC(),\n",
    "    KNeighborsClassifier(),\n",
    "    AdaBoostClassifier(random_state=42),\n",
    "]\n",
    "metrics_list = []\n",
    "label_column=\"composition\"\n",
    "train_idx, test_idx = df_compoisition_classification[df_compoisition_classification['split']==\"train\"].index, df_compoisition_classification[df_compoisition_classification['split']==\"test\"].index\n",
    "# Iterate over each model and vectorizer, compute metrics\n",
    "for model in tqdm(models, desc=\"model\"):\n",
    "    metrics = compute_classification_metrics(model, X, df_compoisition_classification.reset_index(), train_idx, test_idx, label_column)\n",
    "    metrics_list.append(metrics)\n",
    "\n",
    "# Convert metrics list to a DataFrame for easier analysis\n",
    "metrics_df = pd.DataFrame(metrics_list)\n",
    "metrics_df"
   ],
   "metadata": {
    "collapsed": false,
    "ExecuteTime": {
     "end_time": "2024-06-30T16:15:54.985113Z",
     "start_time": "2024-06-30T16:15:52.195329Z"
    }
   },
   "id": "10d95847b550f8ae",
   "execution_count": 22
  },
  {
   "cell_type": "code",
   "outputs": [
    {
     "data": {
      "text/plain": "array([[ 0.02792844,  0.02792844,  0.02792844, ..., -0.06268632,\n        -0.06268632, -0.06268632],\n       [ 0.15373543,  0.15373543,  0.15373543, ..., -0.08678609,\n        -0.08678609, -0.08678609],\n       [ 0.16478008,  0.16478008,  0.16478008, ..., -0.10580266,\n        -0.10580266, -0.10580266],\n       ...,\n       [ 0.11626823,  0.11626823,  0.11626823, ..., -0.01143604,\n        -0.01143604, -0.01143604],\n       [ 0.01994579,  0.01994579,  0.01994579, ..., -0.17171119,\n        -0.17171119, -0.17171119],\n       [ 0.31367338,  0.31367338,  0.31367338, ..., -0.18568449,\n        -0.18568449, -0.18568449]], dtype=float32)"
     },
     "execution_count": 49,
     "metadata": {},
     "output_type": "execute_result"
    }
   ],
   "source": [
    "X_tfidf = vectorize_text(df, \"text\", \"tfidf\")\n",
    "# combined_X = np.hstack((X, X_starr))\n",
    "# combined_X = np.hstack((X_starr,X))\n",
    "# Repeat X_starr elements across the columns of X\n",
    "X_bert_expanded = np.repeat(X, X_tfidf.shape[1] // X.shape[0], axis=1)\n",
    "\n",
    "combined_X = X * X_bert_expanded\n",
    "# combined_X"
   ],
   "metadata": {
    "collapsed": false,
    "ExecuteTime": {
     "end_time": "2024-06-30T16:25:16.512422Z",
     "start_time": "2024-06-30T16:25:16.316950Z"
    }
   },
   "id": "535bd8f7f5f13f18",
   "execution_count": 49
  },
  {
   "cell_type": "code",
   "outputs": [
    {
     "data": {
      "text/plain": "model:   0%|          | 0/5 [00:00<?, ?it/s]",
      "application/vnd.jupyter.widget-view+json": {
       "version_major": 2,
       "version_minor": 0,
       "model_id": "463f14814ce147f5bd47c2186425d8c4"
      }
     },
     "metadata": {},
     "output_type": "display_data"
    },
    {
     "name": "stderr",
     "output_type": "stream",
     "text": [
      "/Users/yonatanlou/.pyenv/versions/3.10.0/envs/QumranNLP/lib/python3.10/site-packages/sklearn/metrics/_classification.py:1327: UndefinedMetricWarning: Precision is ill-defined and being set to 0.0 in labels with no predicted samples. Use `zero_division` parameter to control this behavior.\n",
      "  _warn_prf(average, modifier, msg_start, len(result))\n",
      "/Users/yonatanlou/.pyenv/versions/3.10.0/envs/QumranNLP/lib/python3.10/site-packages/sklearn/linear_model/_logistic.py:444: ConvergenceWarning: lbfgs failed to converge (status=1):\n",
      "STOP: TOTAL NO. of ITERATIONS REACHED LIMIT.\n",
      "\n",
      "Increase the number of iterations (max_iter) or scale the data as shown in:\n",
      "    https://scikit-learn.org/stable/modules/preprocessing.html\n",
      "Please also refer to the documentation for alternative solver options:\n",
      "    https://scikit-learn.org/stable/modules/linear_model.html#logistic-regression\n",
      "  n_iter_i = _check_optimize_result(\n",
      "/Users/yonatanlou/.pyenv/versions/3.10.0/envs/QumranNLP/lib/python3.10/site-packages/sklearn/metrics/_classification.py:1327: UndefinedMetricWarning: Precision is ill-defined and being set to 0.0 in labels with no predicted samples. Use `zero_division` parameter to control this behavior.\n",
      "  _warn_prf(average, modifier, msg_start, len(result))\n",
      "/Users/yonatanlou/.pyenv/versions/3.10.0/envs/QumranNLP/lib/python3.10/site-packages/sklearn/metrics/_classification.py:1327: UndefinedMetricWarning: Precision is ill-defined and being set to 0.0 in labels with no predicted samples. Use `zero_division` parameter to control this behavior.\n",
      "  _warn_prf(average, modifier, msg_start, len(result))\n",
      "/Users/yonatanlou/.pyenv/versions/3.10.0/envs/QumranNLP/lib/python3.10/site-packages/sklearn/metrics/_classification.py:1327: UndefinedMetricWarning: Precision is ill-defined and being set to 0.0 in labels with no predicted samples. Use `zero_division` parameter to control this behavior.\n",
      "  _warn_prf(average, modifier, msg_start, len(result))\n",
      "/Users/yonatanlou/.pyenv/versions/3.10.0/envs/QumranNLP/lib/python3.10/site-packages/sklearn/metrics/_classification.py:1327: UndefinedMetricWarning: Precision is ill-defined and being set to 0.0 in labels with no predicted samples. Use `zero_division` parameter to control this behavior.\n",
      "  _warn_prf(average, modifier, msg_start, len(result))\n"
     ]
    },
    {
     "data": {
      "text/plain": "                    model  accuracy  precision    recall  f1_score\n0  RandomForestClassifier  0.413223   0.321741  0.413223  0.344265\n1      LogisticRegression  0.438017   0.401141  0.438017  0.414078\n2                     SVC  0.148760   0.041274  0.148760  0.049599\n3    KNeighborsClassifier  0.330579   0.316234  0.330579  0.313565\n4      AdaBoostClassifier  0.132231   0.079574  0.132231  0.076868",
      "text/html": "<div>\n<style scoped>\n    .dataframe tbody tr th:only-of-type {\n        vertical-align: middle;\n    }\n\n    .dataframe tbody tr th {\n        vertical-align: top;\n    }\n\n    .dataframe thead th {\n        text-align: right;\n    }\n</style>\n<table border=\"1\" class=\"dataframe\">\n  <thead>\n    <tr style=\"text-align: right;\">\n      <th></th>\n      <th>model</th>\n      <th>accuracy</th>\n      <th>precision</th>\n      <th>recall</th>\n      <th>f1_score</th>\n    </tr>\n  </thead>\n  <tbody>\n    <tr>\n      <th>0</th>\n      <td>RandomForestClassifier</td>\n      <td>0.413223</td>\n      <td>0.321741</td>\n      <td>0.413223</td>\n      <td>0.344265</td>\n    </tr>\n    <tr>\n      <th>1</th>\n      <td>LogisticRegression</td>\n      <td>0.438017</td>\n      <td>0.401141</td>\n      <td>0.438017</td>\n      <td>0.414078</td>\n    </tr>\n    <tr>\n      <th>2</th>\n      <td>SVC</td>\n      <td>0.148760</td>\n      <td>0.041274</td>\n      <td>0.148760</td>\n      <td>0.049599</td>\n    </tr>\n    <tr>\n      <th>3</th>\n      <td>KNeighborsClassifier</td>\n      <td>0.330579</td>\n      <td>0.316234</td>\n      <td>0.330579</td>\n      <td>0.313565</td>\n    </tr>\n    <tr>\n      <th>4</th>\n      <td>AdaBoostClassifier</td>\n      <td>0.132231</td>\n      <td>0.079574</td>\n      <td>0.132231</td>\n      <td>0.076868</td>\n    </tr>\n  </tbody>\n</table>\n</div>"
     },
     "execution_count": 37,
     "metadata": {},
     "output_type": "execute_result"
    }
   ],
   "source": [
    "models = [\n",
    "    RandomForestClassifier(random_state=42),\n",
    "    LogisticRegression(max_iter=200),\n",
    "    SVC(),\n",
    "    KNeighborsClassifier(),\n",
    "    AdaBoostClassifier(random_state=42),\n",
    "]\n",
    "metrics_list = []\n",
    "label_column=\"composition\"\n",
    "train_idx, test_idx = df_compoisition_classification[df_compoisition_classification['split']==\"train\"].index, df_compoisition_classification[df_compoisition_classification['split']==\"test\"].index\n",
    "# Iterate over each model and vectorizer, compute metrics\n",
    "for model in tqdm(models, desc=\"model\"):\n",
    "    metrics = compute_classification_metrics(model, combined_X, df_compoisition_classification.reset_index(), train_idx, test_idx, label_column)\n",
    "    metrics_list.append(metrics)\n",
    "\n",
    "# Convert metrics list to a DataFrame for easier analysis\n",
    "metrics_df = pd.DataFrame(metrics_list)\n",
    "metrics_df"
   ],
   "metadata": {
    "collapsed": false,
    "ExecuteTime": {
     "end_time": "2024-06-30T16:21:59.195554Z",
     "start_time": "2024-06-30T16:21:55.852413Z"
    }
   },
   "id": "272dc02b94bf8202",
   "execution_count": 37
  },
  {
   "cell_type": "code",
   "outputs": [],
   "source": [],
   "metadata": {
    "collapsed": false
   },
   "id": "ed4cab846a5509a"
  }
 ],
 "metadata": {
  "kernelspec": {
   "display_name": "Python 3",
   "language": "python",
   "name": "python3"
  },
  "language_info": {
   "codemirror_mode": {
    "name": "ipython",
    "version": 2
   },
   "file_extension": ".py",
   "mimetype": "text/x-python",
   "name": "python",
   "nbconvert_exporter": "python",
   "pygments_lexer": "ipython2",
   "version": "2.7.6"
  }
 },
 "nbformat": 4,
 "nbformat_minor": 5
}
