{
 "cells": [
  {
   "cell_type": "code",
   "outputs": [],
   "source": [
    "import pandas as pd"
   ],
   "metadata": {
    "collapsed": false,
    "ExecuteTime": {
     "end_time": "2024-04-19T11:54:30.586642Z",
     "start_time": "2024-04-19T11:54:30.583113Z"
    }
   },
   "id": "5be356d3fcbbd562",
   "execution_count": 1
  },
  {
   "cell_type": "code",
   "outputs": [
    {
     "name": "stdout",
     "output_type": "stream",
     "text": [
      "Collecting lxml\r\n",
      "  Downloading lxml-5.2.1-cp310-cp310-macosx_10_9_x86_64.whl (4.6 MB)\r\n",
      "\u001B[K     |████████████████████████████████| 4.6 MB 1.2 MB/s eta 0:00:01\r\n",
      "\u001B[?25hInstalling collected packages: lxml\r\n",
      "Successfully installed lxml-5.2.1\r\n",
      "\u001B[33mWARNING: You are using pip version 21.2.3; however, version 24.0 is available.\r\n",
      "You should consider upgrading via the '/Users/yonatanlou/.pyenv/versions/3.10.0/envs/QumranNLP/bin/python3.10 -m pip install --upgrade pip' command.\u001B[0m\r\n"
     ]
    }
   ],
   "source": [
    "!pip install lxml"
   ],
   "metadata": {
    "collapsed": false,
    "ExecuteTime": {
     "end_time": "2024-04-19T11:55:06.413039Z",
     "start_time": "2024-04-19T11:54:59.962786Z"
    }
   },
   "id": "9a0a24844380c55c",
   "execution_count": 3
  },
  {
   "cell_type": "code",
   "execution_count": 4,
   "id": "initial_id",
   "metadata": {
    "collapsed": true,
    "ExecuteTime": {
     "end_time": "2024-04-19T11:55:08.136923Z",
     "start_time": "2024-04-19T11:55:06.417120Z"
    }
   },
   "outputs": [
    {
     "name": "stdout",
     "output_type": "stream",
     "text": [
      "Total tables loaded: 17\n"
     ]
    }
   ],
   "source": [
    "\n",
    "\n",
    "# Load all tables from the Wikipedia page\n",
    "wikipedia_tables = pd.read_html(\"https://en.wikipedia.org/wiki/List_of_the_Dead_Sea_Scrolls#Qumran_Cave_4\")\n",
    "wikipedia_tables = wikipedia_tables[1:-1]\n",
    "# Check how many tables were loaded\n",
    "print(f\"Total tables loaded: {len(wikipedia_tables)}\")\n",
    "\n",
    "# Define the table names as per the user's specification\n",
    "tables = \"Cave 1,Cave 2,Cave 3,Cave 4Q1–4Q100,Cave 4Q101–4Q200,Cave 4Q201–4Q300,4Q301-,Cave 5,Cave 6,Cave 7,Cave 8,Cave 9,Cave 10,Cave 11,Wadi Murabba'at Cave 1,Nahal Hever Cave 8,Masada\".split(\",\")\n",
    "\n",
    "standard_columns = ['Fragment or scroll identifier', 'Fragment or scroll name', 'Alternative identifier', 'English Bible Association', 'Language', 'Date/script', 'Description', 'Reference']\n",
    "\n",
    "# Initialize an empty DataFrame for the aggregated data with the standardized column names plus 'table_name'\n",
    "wikipedia_data = pd.DataFrame(columns=standard_columns + ['table_name'])\n",
    "\n",
    "# Iterate over each table, standardize its column names, and add the table name\n",
    "for i, table in enumerate(wikipedia_tables):\n",
    "    # Skip if the table doesn't match the expected size to prevent errors\n",
    "    if len(table.columns) == len(standard_columns):\n",
    "        # Rename the columns of the current table\n",
    "        table.columns = standard_columns\n",
    "        # Since we are unsure of the exact tables user intends to exclude or include, we'll process all tables\n",
    "        table['table_name'] = f\"Table {tables[i]}\"  # You can adjust the naming convention as needed\n",
    "        # Concatenate the current table with the aggregated DataFrame\n",
    "        wikipedia_data = pd.concat([wikipedia_data, table], ignore_index=True)\n",
    "wikipedia_data.to_csv(f\"DSS_origin_of_each_book.csv\", index=False)"
   ]
  },
  {
   "cell_type": "code",
   "outputs": [],
   "source": [
    "wikipedia_data = pd.read_csv(f\"DSS_origin_of_each_book.csv\")"
   ],
   "metadata": {
    "collapsed": false,
    "ExecuteTime": {
     "end_time": "2024-04-19T11:55:21.719802Z",
     "start_time": "2024-04-19T11:55:21.710007Z"
    }
   },
   "id": "34808ff683a6f2ef",
   "execution_count": 5
  },
  {
   "cell_type": "code",
   "outputs": [
    {
     "data": {
      "text/plain": "    Fragment or scroll identifier              Fragment or scroll name  \\\n0                          1QIsaa                  Great Isaiah Scroll   \n1                          1QIsab                               Isaiah   \n2                             1QS  Serekh ha-Yahad or \"Community Rule\"   \n3                          1QpHab                   Pesher on Habakkuk   \n4                             1QM               Milhamah or War Scroll   \n..                            ...                                  ...   \n432            Masada Deuteronomy                          Deuteronomy   \n433                Masada Psalmsa                               Psalms   \n434                Masada Psalmsb                               Psalms   \n435                Masada Ezekiel                              Ezekiel   \n436                 Masada Sirach                               Sirach   \n\n    Alternative identifier                          English Bible Association  \\\n0                      NaN  Isaiah 1:1–31; 2:1–22; 3:1–5:30; 6:1–13; 7:1–2...   \n1                  cf. 1Q8                                 The Book of Isaiah   \n2                      NaN                                                NaN   \n3                      NaN                                       Habakkuk 1–2   \n4                      NaN                                                NaN   \n..                     ...                                                ...   \n432                MasDeut                       Deuteronomy 33:17–24; 34:2–6   \n433             MasPsalmsa                     Psalms 81–85, ending with 85:5   \n434             MasPsalmsb                                         Psalms 150   \n435                MasEzek  Ezekiel 35:11–15; 36:1–10, 13–14, 17–35; 37:1–...   \n436                 MasSir  Sir 39:27–32; 40:8, 11–20, 26–30; 41:1–43:21; ...   \n\n    Language                       Date/script  \\\n0     Hebrew           356–103 BCE/150–100 BCE   \n1     Hebrew                Hasmonean/Herodian   \n2     Hebrew                               NaN   \n3     Hebrew  Later half of the 1st century BC   \n4     Hebrew                               NaN   \n..       ...                               ...   \n432   Hebrew                               NaN   \n433   Hebrew                               NaN   \n434   Hebrew                               NaN   \n435   Hebrew                               NaN   \n436   Hebrew                         Hasmonean   \n\n                                           Description Reference    table_name  \n0    Contains all 66 chapters with occasional lacun...   [9][10]  Table Cave 1  \n1      A second copy of portions of the Book of Isaiah  [11][12]  Table Cave 1  \n2                          cf. 4QSa-j = 4Q255–64, 5Q11      [13]  Table Cave 1  \n3                Commentary on Habakkuk 1:2–17; 2:1–20  [14][15]  Table Cave 1  \n4                             cf. 4Q491, 4Q493; 11Q14?       NaN  Table Cave 1  \n..                                                 ...       ...           ...  \n432                                                NaN       NaN  Table Masada  \n433                                                NaN       NaN  Table Masada  \n434                                                NaN       NaN  Table Masada  \n435                                                NaN       NaN  Table Masada  \n436                                                NaN     [410]  Table Masada  \n\n[437 rows x 9 columns]",
      "text/html": "<div>\n<style scoped>\n    .dataframe tbody tr th:only-of-type {\n        vertical-align: middle;\n    }\n\n    .dataframe tbody tr th {\n        vertical-align: top;\n    }\n\n    .dataframe thead th {\n        text-align: right;\n    }\n</style>\n<table border=\"1\" class=\"dataframe\">\n  <thead>\n    <tr style=\"text-align: right;\">\n      <th></th>\n      <th>Fragment or scroll identifier</th>\n      <th>Fragment or scroll name</th>\n      <th>Alternative identifier</th>\n      <th>English Bible Association</th>\n      <th>Language</th>\n      <th>Date/script</th>\n      <th>Description</th>\n      <th>Reference</th>\n      <th>table_name</th>\n    </tr>\n  </thead>\n  <tbody>\n    <tr>\n      <th>0</th>\n      <td>1QIsaa</td>\n      <td>Great Isaiah Scroll</td>\n      <td>NaN</td>\n      <td>Isaiah 1:1–31; 2:1–22; 3:1–5:30; 6:1–13; 7:1–2...</td>\n      <td>Hebrew</td>\n      <td>356–103 BCE/150–100 BCE</td>\n      <td>Contains all 66 chapters with occasional lacun...</td>\n      <td>[9][10]</td>\n      <td>Table Cave 1</td>\n    </tr>\n    <tr>\n      <th>1</th>\n      <td>1QIsab</td>\n      <td>Isaiah</td>\n      <td>cf. 1Q8</td>\n      <td>The Book of Isaiah</td>\n      <td>Hebrew</td>\n      <td>Hasmonean/Herodian</td>\n      <td>A second copy of portions of the Book of Isaiah</td>\n      <td>[11][12]</td>\n      <td>Table Cave 1</td>\n    </tr>\n    <tr>\n      <th>2</th>\n      <td>1QS</td>\n      <td>Serekh ha-Yahad or \"Community Rule\"</td>\n      <td>NaN</td>\n      <td>NaN</td>\n      <td>Hebrew</td>\n      <td>NaN</td>\n      <td>cf. 4QSa-j = 4Q255–64, 5Q11</td>\n      <td>[13]</td>\n      <td>Table Cave 1</td>\n    </tr>\n    <tr>\n      <th>3</th>\n      <td>1QpHab</td>\n      <td>Pesher on Habakkuk</td>\n      <td>NaN</td>\n      <td>Habakkuk 1–2</td>\n      <td>Hebrew</td>\n      <td>Later half of the 1st century BC</td>\n      <td>Commentary on Habakkuk 1:2–17; 2:1–20</td>\n      <td>[14][15]</td>\n      <td>Table Cave 1</td>\n    </tr>\n    <tr>\n      <th>4</th>\n      <td>1QM</td>\n      <td>Milhamah or War Scroll</td>\n      <td>NaN</td>\n      <td>NaN</td>\n      <td>Hebrew</td>\n      <td>NaN</td>\n      <td>cf. 4Q491, 4Q493; 11Q14?</td>\n      <td>NaN</td>\n      <td>Table Cave 1</td>\n    </tr>\n    <tr>\n      <th>...</th>\n      <td>...</td>\n      <td>...</td>\n      <td>...</td>\n      <td>...</td>\n      <td>...</td>\n      <td>...</td>\n      <td>...</td>\n      <td>...</td>\n      <td>...</td>\n    </tr>\n    <tr>\n      <th>432</th>\n      <td>Masada Deuteronomy</td>\n      <td>Deuteronomy</td>\n      <td>MasDeut</td>\n      <td>Deuteronomy 33:17–24; 34:2–6</td>\n      <td>Hebrew</td>\n      <td>NaN</td>\n      <td>NaN</td>\n      <td>NaN</td>\n      <td>Table Masada</td>\n    </tr>\n    <tr>\n      <th>433</th>\n      <td>Masada Psalmsa</td>\n      <td>Psalms</td>\n      <td>MasPsalmsa</td>\n      <td>Psalms 81–85, ending with 85:5</td>\n      <td>Hebrew</td>\n      <td>NaN</td>\n      <td>NaN</td>\n      <td>NaN</td>\n      <td>Table Masada</td>\n    </tr>\n    <tr>\n      <th>434</th>\n      <td>Masada Psalmsb</td>\n      <td>Psalms</td>\n      <td>MasPsalmsb</td>\n      <td>Psalms 150</td>\n      <td>Hebrew</td>\n      <td>NaN</td>\n      <td>NaN</td>\n      <td>NaN</td>\n      <td>Table Masada</td>\n    </tr>\n    <tr>\n      <th>435</th>\n      <td>Masada Ezekiel</td>\n      <td>Ezekiel</td>\n      <td>MasEzek</td>\n      <td>Ezekiel 35:11–15; 36:1–10, 13–14, 17–35; 37:1–...</td>\n      <td>Hebrew</td>\n      <td>NaN</td>\n      <td>NaN</td>\n      <td>NaN</td>\n      <td>Table Masada</td>\n    </tr>\n    <tr>\n      <th>436</th>\n      <td>Masada Sirach</td>\n      <td>Sirach</td>\n      <td>MasSir</td>\n      <td>Sir 39:27–32; 40:8, 11–20, 26–30; 41:1–43:21; ...</td>\n      <td>Hebrew</td>\n      <td>Hasmonean</td>\n      <td>NaN</td>\n      <td>[410]</td>\n      <td>Table Masada</td>\n    </tr>\n  </tbody>\n</table>\n<p>437 rows × 9 columns</p>\n</div>"
     },
     "execution_count": 6,
     "metadata": {},
     "output_type": "execute_result"
    }
   ],
   "source": [
    "wikipedia_data"
   ],
   "metadata": {
    "collapsed": false,
    "ExecuteTime": {
     "end_time": "2024-04-19T11:55:23.610875Z",
     "start_time": "2024-04-19T11:55:23.587460Z"
    }
   },
   "id": "7f16958d3ac86c6",
   "execution_count": 6
  },
  {
   "cell_type": "code",
   "outputs": [
    {
     "data": {
      "text/plain": "  Fragment or scroll identifier              Fragment or scroll name  \\\n2                           1QS  Serekh ha-Yahad or \"Community Rule\"   \n\n  Alternative identifier English Bible Association Language Date/script  \\\n2                    NaN                       NaN   Hebrew         NaN   \n\n                   Description Reference    table_name  \n2  cf. 4QSa-j = 4Q255–64, 5Q11      [13]  Table Cave 1  ",
      "text/html": "<div>\n<style scoped>\n    .dataframe tbody tr th:only-of-type {\n        vertical-align: middle;\n    }\n\n    .dataframe tbody tr th {\n        vertical-align: top;\n    }\n\n    .dataframe thead th {\n        text-align: right;\n    }\n</style>\n<table border=\"1\" class=\"dataframe\">\n  <thead>\n    <tr style=\"text-align: right;\">\n      <th></th>\n      <th>Fragment or scroll identifier</th>\n      <th>Fragment or scroll name</th>\n      <th>Alternative identifier</th>\n      <th>English Bible Association</th>\n      <th>Language</th>\n      <th>Date/script</th>\n      <th>Description</th>\n      <th>Reference</th>\n      <th>table_name</th>\n    </tr>\n  </thead>\n  <tbody>\n    <tr>\n      <th>2</th>\n      <td>1QS</td>\n      <td>Serekh ha-Yahad or \"Community Rule\"</td>\n      <td>NaN</td>\n      <td>NaN</td>\n      <td>Hebrew</td>\n      <td>NaN</td>\n      <td>cf. 4QSa-j = 4Q255–64, 5Q11</td>\n      <td>[13]</td>\n      <td>Table Cave 1</td>\n    </tr>\n  </tbody>\n</table>\n</div>"
     },
     "execution_count": 8,
     "metadata": {},
     "output_type": "execute_result"
    }
   ],
   "source": [
    "wikipedia_data[wikipedia_data[\"Fragment or scroll name\"]=='Serekh ha-Yahad or \"Community Rule\"']"
   ],
   "metadata": {
    "collapsed": false,
    "ExecuteTime": {
     "end_time": "2024-04-19T11:56:21.752231Z",
     "start_time": "2024-04-19T11:56:21.738188Z"
    }
   },
   "id": "2be44a4b7bf51e63",
   "execution_count": 8
  },
  {
   "cell_type": "code",
   "outputs": [
    {
     "data": {
      "text/plain": "{'4QS': ['4Q255',\n  '4Q256',\n  '4Q257',\n  '4Q258',\n  '4Q259',\n  '4Q260',\n  '4Q261',\n  '4Q262',\n  '4Q263',\n  '4Q264',\n  '5Q11'],\n 'CD': ['CD'],\n '4QD': ['4Q266',\n  '4Q267',\n  '4Q268',\n  '4Q269',\n  '4Q270',\n  '4Q271',\n  '4Q272',\n  '4Q273',\n  '6Q15'],\n 'Hodayot': ['1QHa', '1Q35'],\n '4QH': ['4Q427', '4Q428', '4Q429', '4Q430', '4Q431', '4Q432'],\n '1QM': ['1QM'],\n '4QM': ['4Q491', '4Q492', '4Q493', '4Q494', '4Q495', '4Q496'],\n 'Songs_of_Maskil': ['4Q510', '4Q511'],\n 'Pesharim': ['1QpHab',\n  '1Q14',\n  '1Q15',\n  '1Q16',\n  '4Q161',\n  '4Q162',\n  '4Q163',\n  '4Q164',\n  '4Q165',\n  '4Q166',\n  '4Q167',\n  '4Q168',\n  '4Q169',\n  '4Q170',\n  '4Q171',\n  '4Q173'],\n 'Mysteries': ['1Q27', '4Q299', '4Q300', '4Q301'],\n 'Catena_Florilegium': ['4Q174', '4Q177'],\n 'Berakhot': ['4Q286', '4Q287', '4Q288', '4Q289'],\n 'Instruction': ['4Q415',\n  '4Q416',\n  '4Q417',\n  '4Q418',\n  '4Q418a',\n  '4Q418b',\n  '4Q418c',\n  '4Q423'],\n 'Book_of_Jubilees': ['1Q17',\n  '1Q18',\n  '4Q216',\n  '4Q217',\n  '4Q218',\n  '4Q219',\n  '4Q220',\n  '4Q221',\n  '4Q222',\n  '4Q223_224',\n  '11Q12'],\n 'Collections_of_psalms': ['4Q380', '4Q381'],\n 'non_biblical_psalms': ['11Q5'],\n 'Shir Shabat': ['4Q400',\n  '4Q401',\n  '4Q402',\n  '4Q403',\n  '4Q404',\n  '4Q405',\n  '4Q406',\n  '4Q407'],\n 'Temple Scroll': ['11Q19', '11Q20', '11Q21'],\n 'community_rule': ['1QS'],\n 'the_rule_of_the_congregation': ['1QSa'],\n 'the_rule_of_the_blessings': ['1QSb'],\n 'ben_sira': ['2Q18'],\n 'Pseudo_Jeremiah': ['4Q383',\n  '4Q384',\n  '4Q385',\n  '4Q386',\n  '4Q387',\n  '4Q388',\n  '4Q389',\n  '4Q390',\n  '4Q391'],\n '4QMMT': ['4Q394', '4Q395', '4Q396', '4Q397', '4Q398', '4Q399'],\n 'Barkhi_Nafshi': ['4Q434', '4Q435', '4Q436', '4Q437', '4Q438'],\n '1Kgs': ['4Q54', '5Q2', '6Q4'],\n '1Sam': ['1Q7', '4Q51', '4Q52', '4Q53'],\n '2Chr': ['4Q118'],\n '2Kgs': ['6Q4'],\n '2Sam': ['1Q7', '4Q51', '4Q53', '11Q5'],\n 'Amos': ['4Q78', '4Q82', '5Q4', 'Mur88'],\n 'Dan': ['1Q71', '1Q72', '4Q112', '4Q113', '4Q114', '4Q115', '4Q116', '6Q7'],\n 'Deut': ['1Q4',\n  '1Q5',\n  '1Q13',\n  '2Q10',\n  '2Q11',\n  '2Q12',\n  '4Q28',\n  '4Q29',\n  '4Q30',\n  '4Q31',\n  '4Q32',\n  '4Q33',\n  '4Q34',\n  '4Q35',\n  '4Q36',\n  '4Q37',\n  '4Q38',\n  '4Q38a',\n  '4Q38b',\n  '4Q38c',\n  '4Q38d',\n  '4Q39',\n  '4Q40',\n  '4Q41',\n  '4Q42',\n  '4Q43',\n  '4Q44',\n  '4Q45',\n  '4Q46',\n  '4Q128',\n  '4Q129',\n  '4Q130',\n  '4Q131',\n  '4Q134',\n  '4Q135',\n  '4Q136',\n  '4Q137',\n  '4Q138',\n  '4Q139',\n  '4Q140',\n  '4Q141',\n  '4Q142',\n  '4Q143',\n  '4Q144',\n  '4Q146',\n  '4Q150',\n  '4Q151',\n  '4Q152',\n  '4Q153',\n  '5Q1',\n  '6Q3',\n  '8Q3',\n  '8Q4',\n  '11Q3',\n  'XQ1',\n  'XQ2',\n  'XQ3',\n  'Mur2',\n  'Mur4',\n  'XHev/Se3',\n  'XHev/Se5',\n  'Mas1c'],\n 'Eccl': ['4Q109', '4Q110'],\n 'Ex': ['1Q2',\n  '1Q13',\n  '2Q2',\n  '2Q3',\n  '2Q4',\n  '4Q1',\n  '4Q11',\n  '4Q13',\n  '4Q14',\n  '4Q15',\n  '4Q16',\n  '4Q17',\n  '4Q18',\n  '4Q19',\n  '4Q20',\n  '4Q21',\n  '4Q22',\n  '4Q37',\n  '4Q41',\n  '4Q128',\n  '4Q129',\n  '4Q130',\n  '4Q132',\n  '4Q133',\n  '4Q134',\n  '4Q135',\n  '4Q136',\n  '4Q140',\n  '4Q144',\n  '4Q145',\n  '4Q149',\n  '4Q154',\n  '4Q155',\n  '8Q3',\n  'XQ1',\n  'XQ3',\n  'Mur1',\n  'Mur4',\n  'XHev/Se5',\n  '34Se1'],\n 'Ezek': ['1Q9', '3Q1', '4Q73', '4Q74', '4Q75', '11Q4', 'Mas1d'],\n 'Ezra': ['4Q117'],\n 'Gen': ['1Q1',\n  '2Q1',\n  '4Q1',\n  '4Q2',\n  '4Q3',\n  '4Q4',\n  '4Q5',\n  '4Q6',\n  '4Q7',\n  '4Q8a',\n  '4Q8b',\n  '4Q8c',\n  '4Q8d',\n  '4Q9',\n  '4Q10',\n  '4Q11',\n  '4Q12',\n  '4Q12a',\n  '4Q483',\n  '4Q576',\n  '6Q1',\n  '8Q1',\n  'Mur1',\n  'MurX',\n  'Sdeir1',\n  'Mas1'],\n 'Hab': ['4Q82', 'Mur88'],\n 'Hag': ['4Q77', '4Q80', 'Mur88'],\n 'Hos': ['4Q78', '4Q79', '4Q82'],\n 'Is': ['1QIsaa',\n  '1Q8',\n  '4Q55',\n  '4Q56',\n  '4Q57',\n  '4Q58',\n  '4Q59',\n  '4Q60',\n  '4Q61',\n  '4Q62',\n  '4Q62a',\n  '4Q63',\n  '4Q64',\n  '4Q65',\n  '4Q66',\n  '4Q67',\n  '4Q68',\n  '4Q69',\n  '4Q69a',\n  '4Q69b',\n  '5Q3',\n  'Mur3'],\n 'Jer': ['2Q13', '4Q70', '4Q71', '4Q72', '4Q72a', '4Q72b'],\n 'Job': ['2Q15', '4Q99', '4Q100', '4Q101'],\n 'Joel': ['4Q78', '4Q82', 'Mur88'],\n 'Jonah': ['4Q76', '4Q81', '4Q82', 'Mur88'],\n 'Josh': ['4Q47', '4Q48', 'XJoshua'],\n 'Judg': ['1Q6', '4Q49', '4Q50', 'XJudges'],\n 'Lam': ['3Q3', '4Q111', '5Q6', '5Q7'],\n 'Lev': ['1Q3',\n  '2Q5',\n  '4Q17',\n  '4Q23',\n  '4Q24',\n  '4Q25',\n  '4Q26',\n  '4Q26a',\n  '4Q26b',\n  '4Q26c',\n  '4Q249j',\n  '6Q2',\n  '11Q1',\n  '11Q2',\n  'Mas1a',\n  'Mas1b',\n  'ArugLev'],\n 'Mal': ['4Q76', '4Q78'],\n 'Mic': ['4Q81', '4Q82', 'Mur88'],\n 'Nah': ['4Q82', 'Mur88'],\n 'Num': ['1Q3',\n  '2Q6',\n  '2Q7',\n  '2Q8',\n  '2Q9',\n  '2Q29',\n  '4Q23',\n  '4Q27',\n  'Mur1',\n  '5/6Hev1a',\n  'XHev/Se2',\n  '34Se2'],\n 'Obad': ['4Q82', 'Mur88'],\n 'Prov': ['4Q102', '4Q103', '4Q103a'],\n 'Ps': ['1Q10',\n  '1Q11',\n  '1Q12',\n  '2Q14',\n  '3Q2',\n  '4Q83',\n  '4Q84',\n  '4Q85',\n  '4Q86',\n  '4Q87',\n  '4Q88',\n  '4Q89',\n  '4Q90',\n  '4Q91',\n  '4Q92',\n  '4Q93',\n  '4Q94',\n  '4Q95',\n  '4Q96',\n  '4Q97',\n  '4Q98',\n  '4Q98a',\n  '4Q98b',\n  '4Q98c',\n  '4Q98d',\n  '4Q98e',\n  '4Q98f',\n  '4Q98g',\n  '5Q5',\n  '6Q5',\n  '8Q2',\n  '11Q5',\n  '11Q6',\n  '11Q7',\n  '11Q8',\n  '11Q9',\n  '5/6Hev1b',\n  'Mas1e',\n  'Mas1f'],\n 'Ruth': ['2Q16', '2Q17', '4Q104', '4Q105'],\n 'Song': ['4Q106', '4Q107', '4Q108', '6Q6'],\n 'Zech': ['4Q76', '4Q80', '4Q82', 'Mur88'],\n 'Zeph': ['4Q77', '4Q78', '4Q82', 'Mur88']}"
     },
     "execution_count": 16,
     "metadata": {},
     "output_type": "execute_result"
    }
   ],
   "source": [
    "import yaml\n",
    "with open(\"/Users/yonatanlou/dev/QumranNLP/data/yamls/all_texts_by_composition.yaml\") as f:\n",
    "    all_texts_by_composition = yaml.safe_load(f)\n",
    "    \n",
    "all_texts_by_composition"
   ],
   "metadata": {
    "collapsed": false,
    "ExecuteTime": {
     "end_time": "2024-04-19T12:08:28.124040Z",
     "start_time": "2024-04-19T12:08:28.071742Z"
    }
   },
   "id": "83bbf5a76b295468",
   "execution_count": 16
  },
  {
   "cell_type": "code",
   "outputs": [],
   "source": [
    "df_list = []\n",
    "for key, value in all_texts_by_composition.items():\n",
    "    temp_df = pd.DataFrame(value, columns=['book'])\n",
    "    temp_df['composition'] = key\n",
    "    df_list.append(temp_df)\n",
    "\n",
    "# Concatenate all DataFrames\n",
    "df = pd.concat(df_list, ignore_index=True)\n",
    "df.to_csv(\"composition_to_book.csv\", index=False)\n"
   ],
   "metadata": {
    "collapsed": false,
    "ExecuteTime": {
     "end_time": "2024-04-19T12:11:21.905272Z",
     "start_time": "2024-04-19T12:11:21.868101Z"
    }
   },
   "id": "28edbf2c990e14fc",
   "execution_count": 21
  },
  {
   "cell_type": "code",
   "outputs": [
    {
     "data": {
      "text/plain": "    Fragment or scroll identifier              Fragment or scroll name  \\\n0                          1QIsaa                  Great Isaiah Scroll   \n1                          1QIsab                               Isaiah   \n2                             1QS  Serekh ha-Yahad or \"Community Rule\"   \n3                          1QpHab                   Pesher on Habakkuk   \n4                             1QM               Milhamah or War Scroll   \n..                            ...                                  ...   \n432            Masada Deuteronomy                          Deuteronomy   \n433                Masada Psalmsa                               Psalms   \n434                Masada Psalmsb                               Psalms   \n435                Masada Ezekiel                              Ezekiel   \n436                 Masada Sirach                               Sirach   \n\n    Alternative identifier                          English Bible Association  \\\n0                      NaN  Isaiah 1:1–31; 2:1–22; 3:1–5:30; 6:1–13; 7:1–2...   \n1                  cf. 1Q8                                 The Book of Isaiah   \n2                      NaN                                                NaN   \n3                      NaN                                       Habakkuk 1–2   \n4                      NaN                                                NaN   \n..                     ...                                                ...   \n432                MasDeut                       Deuteronomy 33:17–24; 34:2–6   \n433             MasPsalmsa                     Psalms 81–85, ending with 85:5   \n434             MasPsalmsb                                         Psalms 150   \n435                MasEzek  Ezekiel 35:11–15; 36:1–10, 13–14, 17–35; 37:1–...   \n436                 MasSir  Sir 39:27–32; 40:8, 11–20, 26–30; 41:1–43:21; ...   \n\n    Language                       Date/script  \\\n0     Hebrew           356–103 BCE/150–100 BCE   \n1     Hebrew                Hasmonean/Herodian   \n2     Hebrew                               NaN   \n3     Hebrew  Later half of the 1st century BC   \n4     Hebrew                               NaN   \n..       ...                               ...   \n432   Hebrew                               NaN   \n433   Hebrew                               NaN   \n434   Hebrew                               NaN   \n435   Hebrew                               NaN   \n436   Hebrew                         Hasmonean   \n\n                                           Description Reference    table_name  \n0    Contains all 66 chapters with occasional lacun...   [9][10]  Table Cave 1  \n1      A second copy of portions of the Book of Isaiah  [11][12]  Table Cave 1  \n2                          cf. 4QSa-j = 4Q255–64, 5Q11      [13]  Table Cave 1  \n3                Commentary on Habakkuk 1:2–17; 2:1–20  [14][15]  Table Cave 1  \n4                             cf. 4Q491, 4Q493; 11Q14?       NaN  Table Cave 1  \n..                                                 ...       ...           ...  \n432                                                NaN       NaN  Table Masada  \n433                                                NaN       NaN  Table Masada  \n434                                                NaN       NaN  Table Masada  \n435                                                NaN       NaN  Table Masada  \n436                                                NaN     [410]  Table Masada  \n\n[437 rows x 9 columns]",
      "text/html": "<div>\n<style scoped>\n    .dataframe tbody tr th:only-of-type {\n        vertical-align: middle;\n    }\n\n    .dataframe tbody tr th {\n        vertical-align: top;\n    }\n\n    .dataframe thead th {\n        text-align: right;\n    }\n</style>\n<table border=\"1\" class=\"dataframe\">\n  <thead>\n    <tr style=\"text-align: right;\">\n      <th></th>\n      <th>Fragment or scroll identifier</th>\n      <th>Fragment or scroll name</th>\n      <th>Alternative identifier</th>\n      <th>English Bible Association</th>\n      <th>Language</th>\n      <th>Date/script</th>\n      <th>Description</th>\n      <th>Reference</th>\n      <th>table_name</th>\n    </tr>\n  </thead>\n  <tbody>\n    <tr>\n      <th>0</th>\n      <td>1QIsaa</td>\n      <td>Great Isaiah Scroll</td>\n      <td>NaN</td>\n      <td>Isaiah 1:1–31; 2:1–22; 3:1–5:30; 6:1–13; 7:1–2...</td>\n      <td>Hebrew</td>\n      <td>356–103 BCE/150–100 BCE</td>\n      <td>Contains all 66 chapters with occasional lacun...</td>\n      <td>[9][10]</td>\n      <td>Table Cave 1</td>\n    </tr>\n    <tr>\n      <th>1</th>\n      <td>1QIsab</td>\n      <td>Isaiah</td>\n      <td>cf. 1Q8</td>\n      <td>The Book of Isaiah</td>\n      <td>Hebrew</td>\n      <td>Hasmonean/Herodian</td>\n      <td>A second copy of portions of the Book of Isaiah</td>\n      <td>[11][12]</td>\n      <td>Table Cave 1</td>\n    </tr>\n    <tr>\n      <th>2</th>\n      <td>1QS</td>\n      <td>Serekh ha-Yahad or \"Community Rule\"</td>\n      <td>NaN</td>\n      <td>NaN</td>\n      <td>Hebrew</td>\n      <td>NaN</td>\n      <td>cf. 4QSa-j = 4Q255–64, 5Q11</td>\n      <td>[13]</td>\n      <td>Table Cave 1</td>\n    </tr>\n    <tr>\n      <th>3</th>\n      <td>1QpHab</td>\n      <td>Pesher on Habakkuk</td>\n      <td>NaN</td>\n      <td>Habakkuk 1–2</td>\n      <td>Hebrew</td>\n      <td>Later half of the 1st century BC</td>\n      <td>Commentary on Habakkuk 1:2–17; 2:1–20</td>\n      <td>[14][15]</td>\n      <td>Table Cave 1</td>\n    </tr>\n    <tr>\n      <th>4</th>\n      <td>1QM</td>\n      <td>Milhamah or War Scroll</td>\n      <td>NaN</td>\n      <td>NaN</td>\n      <td>Hebrew</td>\n      <td>NaN</td>\n      <td>cf. 4Q491, 4Q493; 11Q14?</td>\n      <td>NaN</td>\n      <td>Table Cave 1</td>\n    </tr>\n    <tr>\n      <th>...</th>\n      <td>...</td>\n      <td>...</td>\n      <td>...</td>\n      <td>...</td>\n      <td>...</td>\n      <td>...</td>\n      <td>...</td>\n      <td>...</td>\n      <td>...</td>\n    </tr>\n    <tr>\n      <th>432</th>\n      <td>Masada Deuteronomy</td>\n      <td>Deuteronomy</td>\n      <td>MasDeut</td>\n      <td>Deuteronomy 33:17–24; 34:2–6</td>\n      <td>Hebrew</td>\n      <td>NaN</td>\n      <td>NaN</td>\n      <td>NaN</td>\n      <td>Table Masada</td>\n    </tr>\n    <tr>\n      <th>433</th>\n      <td>Masada Psalmsa</td>\n      <td>Psalms</td>\n      <td>MasPsalmsa</td>\n      <td>Psalms 81–85, ending with 85:5</td>\n      <td>Hebrew</td>\n      <td>NaN</td>\n      <td>NaN</td>\n      <td>NaN</td>\n      <td>Table Masada</td>\n    </tr>\n    <tr>\n      <th>434</th>\n      <td>Masada Psalmsb</td>\n      <td>Psalms</td>\n      <td>MasPsalmsb</td>\n      <td>Psalms 150</td>\n      <td>Hebrew</td>\n      <td>NaN</td>\n      <td>NaN</td>\n      <td>NaN</td>\n      <td>Table Masada</td>\n    </tr>\n    <tr>\n      <th>435</th>\n      <td>Masada Ezekiel</td>\n      <td>Ezekiel</td>\n      <td>MasEzek</td>\n      <td>Ezekiel 35:11–15; 36:1–10, 13–14, 17–35; 37:1–...</td>\n      <td>Hebrew</td>\n      <td>NaN</td>\n      <td>NaN</td>\n      <td>NaN</td>\n      <td>Table Masada</td>\n    </tr>\n    <tr>\n      <th>436</th>\n      <td>Masada Sirach</td>\n      <td>Sirach</td>\n      <td>MasSir</td>\n      <td>Sir 39:27–32; 40:8, 11–20, 26–30; 41:1–43:21; ...</td>\n      <td>Hebrew</td>\n      <td>Hasmonean</td>\n      <td>NaN</td>\n      <td>[410]</td>\n      <td>Table Masada</td>\n    </tr>\n  </tbody>\n</table>\n<p>437 rows × 9 columns</p>\n</div>"
     },
     "execution_count": 22,
     "metadata": {},
     "output_type": "execute_result"
    }
   ],
   "source": [
    "wikipedia_data"
   ],
   "metadata": {
    "collapsed": false,
    "ExecuteTime": {
     "end_time": "2024-04-19T12:17:30.661819Z",
     "start_time": "2024-04-19T12:17:30.646217Z"
    }
   },
   "id": "e003e940a897db47",
   "execution_count": 22
  },
  {
   "cell_type": "code",
   "outputs": [],
   "source": [],
   "metadata": {
    "collapsed": false,
    "ExecuteTime": {
     "end_time": "2024-04-19T12:22:09.897176Z",
     "start_time": "2024-04-19T12:22:09.894649Z"
    }
   },
   "id": "b05b308c3638d12a",
   "execution_count": 33
  },
  {
   "cell_type": "code",
   "outputs": [],
   "source": [],
   "metadata": {
    "collapsed": false
   },
   "id": "facbdf0792415d92"
  }
 ],
 "metadata": {
  "kernelspec": {
   "display_name": "Python 3",
   "language": "python",
   "name": "python3"
  },
  "language_info": {
   "codemirror_mode": {
    "name": "ipython",
    "version": 2
   },
   "file_extension": ".py",
   "mimetype": "text/x-python",
   "name": "python",
   "nbconvert_exporter": "python",
   "pygments_lexer": "ipython2",
   "version": "2.7.6"
  }
 },
 "nbformat": 4,
 "nbformat_minor": 5
}
