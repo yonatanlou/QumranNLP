{
 "cells": [
  {
   "cell_type": "code",
   "execution_count": 1,
   "id": "initial_id",
   "metadata": {
    "execution": {
     "iopub.execute_input": "2024-11-23T08:27:06.108424Z",
     "iopub.status.busy": "2024-11-23T08:27:06.107181Z",
     "iopub.status.idle": "2024-11-23T08:27:07.021354Z",
     "shell.execute_reply": "2024-11-23T08:27:07.020382Z",
     "shell.execute_reply.started": "2024-11-23T08:27:06.108365Z"
    },
    "ExecuteTime": {
     "end_time": "2025-01-12T12:54:46.954560Z",
     "start_time": "2025-01-12T12:54:46.949638Z"
    }
   },
   "outputs": [],
   "source": [
    "import pandas as pd\n",
    "\n",
    "from config import BASE_DIR\n",
    "\n",
    "domain = \"bible\"\n",
    "gnn_exp_name = \"gcn_init_v2\"\n",
    "BASELINE_DIR = f\"{BASE_DIR}/experiments/{domain}/baselines\"\n",
    "BASELINE_GNN_DIR = f\"{BASE_DIR}/experiments/{domain}/gnn/{gnn_exp_name}\"\n"
   ]
  },
  {
   "cell_type": "code",
   "execution_count": 2,
   "id": "c75fe282a4d73e9e",
   "metadata": {
    "collapsed": false,
    "execution": {
     "iopub.execute_input": "2024-11-23T08:27:07.025572Z",
     "iopub.status.busy": "2024-11-23T08:27:07.025080Z",
     "iopub.status.idle": "2024-11-23T08:27:07.038965Z",
     "shell.execute_reply": "2024-11-23T08:27:07.036603Z",
     "shell.execute_reply.started": "2024-11-23T08:27:07.025520Z"
    },
    "ExecuteTime": {
     "end_time": "2025-01-12T12:54:46.966849Z",
     "start_time": "2025-01-12T12:54:46.957681Z"
    }
   },
   "outputs": [
    {
     "name": "stdout",
     "output_type": "stream",
     "text": [
      "['book_unsupervised.csv', 'book_supervised.csv']\n",
      "['gcn_init_v2_book_1_adj_types.csv']\n"
     ]
    }
   ],
   "source": [
    "import os\n",
    "\n",
    "\n",
    "def list_files(dir):\n",
    "    filenames = []\n",
    "    for root, dirs, files in os.walk(dir):\n",
    "        for file in files:\n",
    "            filenames.append(file)\n",
    "    return filenames\n",
    "\n",
    "\n",
    "print(list_files(BASELINE_DIR))\n",
    "print(list_files(BASELINE_GNN_DIR))"
   ]
  },
  {
   "cell_type": "code",
   "execution_count": 3,
   "id": "a43efdf023bcb594",
   "metadata": {
    "collapsed": false,
    "execution": {
     "iopub.execute_input": "2024-11-23T08:27:07.048445Z",
     "iopub.status.busy": "2024-11-23T08:27:07.046970Z",
     "iopub.status.idle": "2024-11-23T08:27:07.057466Z",
     "shell.execute_reply": "2024-11-23T08:27:07.055931Z",
     "shell.execute_reply.started": "2024-11-23T08:27:07.048379Z"
    },
    "ExecuteTime": {
     "end_time": "2025-01-12T12:54:46.974570Z",
     "start_time": "2025-01-12T12:54:46.969761Z"
    }
   },
   "outputs": [],
   "source": [
    "task_by_domain = {\"dss\": [\"book\", \"composition\", \"section\"], \"bible\": [\"book\"]}\n",
    "tasks = task_by_domain[domain]\n",
    "\n",
    "gnn_name_format = \"{}_{}_1_adj_types.csv\"\n",
    "\n",
    "# Dynamically construct compare_list for tasks in the selected domain\n",
    "compare_list = {\n",
    "    task: [\n",
    "        f\"{BASELINE_DIR}/{task}_supervised.csv\",\n",
    "        f\"{BASELINE_GNN_DIR}/{gnn_name_format.format(gnn_exp_name, task)}\"\n",
    "    ]\n",
    "    for task in tasks\n",
    "}\n"
   ]
  },
  {
   "cell_type": "code",
   "execution_count": 4,
   "id": "236d011afef15cb4",
   "metadata": {
    "collapsed": false,
    "execution": {
     "iopub.execute_input": "2024-11-23T08:27:07.060720Z",
     "iopub.status.busy": "2024-11-23T08:27:07.059861Z",
     "iopub.status.idle": "2024-11-23T08:27:07.071529Z",
     "shell.execute_reply": "2024-11-23T08:27:07.069179Z",
     "shell.execute_reply.started": "2024-11-23T08:27:07.060630Z"
    },
    "ExecuteTime": {
     "end_time": "2025-01-12T12:54:46.981551Z",
     "start_time": "2025-01-12T12:54:46.977498Z"
    }
   },
   "outputs": [],
   "source": [
    "\n",
    "COMPARISON_SCHEME = [\"task\", \"model\", \"vectorizer\", \"test_acc\", \"weighted_f1\", \"micro_f1\", \"macro_f1\", \"adj_type\"]"
   ]
  },
  {
   "cell_type": "code",
   "execution_count": 5,
   "id": "d229cd95fd28aa3b",
   "metadata": {
    "collapsed": false,
    "execution": {
     "iopub.execute_input": "2024-11-23T08:27:07.254458Z",
     "iopub.status.busy": "2024-11-23T08:27:07.253609Z",
     "iopub.status.idle": "2024-11-23T08:27:07.329944Z",
     "shell.execute_reply": "2024-11-23T08:27:07.328840Z",
     "shell.execute_reply.started": "2024-11-23T08:27:07.254399Z"
    },
    "ExecuteTime": {
     "end_time": "2025-01-12T12:54:47.786672Z",
     "start_time": "2025-01-12T12:54:47.739100Z"
    }
   },
   "outputs": [
    {
     "data": {
      "text/plain": "    task               model              vectorizer  test_acc  weighted_f1  \\\n0   book       MLPClassifier         dicta-il/MsBERT  0.838687     0.835974   \n1   book  LogisticRegression         dicta-il/MsBERT  0.836592     0.832241   \n2   book       MLPClassifier                   tfidf  0.824721     0.809621   \n3   book       MLPClassifier                 trigram  0.800978     0.791835   \n4   book  LogisticRegression                 trigram  0.775838     0.769281   \n5   book  LogisticRegression          dicta-il/BEREL  0.766061     0.756979   \n6   book       MLPClassifier          dicta-il/BEREL  0.762570     0.755792   \n7   book  LogisticRegression      dicta-il/dictabert  0.733939     0.722712   \n8   book       MLPClassifier      dicta-il/dictabert  0.720670     0.713924   \n9   book  LogisticRegression                   tfidf  0.708799     0.672439   \n10  book  LogisticRegression  onlplab/alephbert-base  0.695531     0.683620   \n11  book       MLPClassifier  onlplab/alephbert-base  0.672486     0.664415   \n12  book                 GCN          dicta-il/BEREL  0.819134     0.815343   \n13  book                 GCN         dicta-il/MsBERT  0.825419     0.822019   \n14  book                 GCN      dicta-il/dictabert  0.819832     0.816423   \n15  book                 GCN  onlplab/alephbert-base  0.798883     0.793335   \n\n    micro_f1  macro_f1 adj_type  \n0   0.838687  0.769432     None  \n1   0.836592  0.738799     None  \n2   0.824721  0.639458     None  \n3   0.800978  0.698184     None  \n4   0.775838  0.672088     None  \n5   0.766061  0.630200     None  \n6   0.762570  0.647297     None  \n7   0.733939  0.587545     None  \n8   0.720670  0.591470     None  \n9   0.708799  0.411115     None  \n10  0.695531  0.550676     None  \n11  0.672486  0.563769     None  \n12  0.819134  0.776165    tfidf  \n13  0.825419  0.792638    tfidf  \n14  0.819832  0.776971    tfidf  \n15  0.798883  0.752760    tfidf  ",
      "text/html": "<div>\n<style scoped>\n    .dataframe tbody tr th:only-of-type {\n        vertical-align: middle;\n    }\n\n    .dataframe tbody tr th {\n        vertical-align: top;\n    }\n\n    .dataframe thead th {\n        text-align: right;\n    }\n</style>\n<table border=\"1\" class=\"dataframe\">\n  <thead>\n    <tr style=\"text-align: right;\">\n      <th></th>\n      <th>task</th>\n      <th>model</th>\n      <th>vectorizer</th>\n      <th>test_acc</th>\n      <th>weighted_f1</th>\n      <th>micro_f1</th>\n      <th>macro_f1</th>\n      <th>adj_type</th>\n    </tr>\n  </thead>\n  <tbody>\n    <tr>\n      <th>0</th>\n      <td>book</td>\n      <td>MLPClassifier</td>\n      <td>dicta-il/MsBERT</td>\n      <td>0.838687</td>\n      <td>0.835974</td>\n      <td>0.838687</td>\n      <td>0.769432</td>\n      <td>None</td>\n    </tr>\n    <tr>\n      <th>1</th>\n      <td>book</td>\n      <td>LogisticRegression</td>\n      <td>dicta-il/MsBERT</td>\n      <td>0.836592</td>\n      <td>0.832241</td>\n      <td>0.836592</td>\n      <td>0.738799</td>\n      <td>None</td>\n    </tr>\n    <tr>\n      <th>2</th>\n      <td>book</td>\n      <td>MLPClassifier</td>\n      <td>tfidf</td>\n      <td>0.824721</td>\n      <td>0.809621</td>\n      <td>0.824721</td>\n      <td>0.639458</td>\n      <td>None</td>\n    </tr>\n    <tr>\n      <th>3</th>\n      <td>book</td>\n      <td>MLPClassifier</td>\n      <td>trigram</td>\n      <td>0.800978</td>\n      <td>0.791835</td>\n      <td>0.800978</td>\n      <td>0.698184</td>\n      <td>None</td>\n    </tr>\n    <tr>\n      <th>4</th>\n      <td>book</td>\n      <td>LogisticRegression</td>\n      <td>trigram</td>\n      <td>0.775838</td>\n      <td>0.769281</td>\n      <td>0.775838</td>\n      <td>0.672088</td>\n      <td>None</td>\n    </tr>\n    <tr>\n      <th>5</th>\n      <td>book</td>\n      <td>LogisticRegression</td>\n      <td>dicta-il/BEREL</td>\n      <td>0.766061</td>\n      <td>0.756979</td>\n      <td>0.766061</td>\n      <td>0.630200</td>\n      <td>None</td>\n    </tr>\n    <tr>\n      <th>6</th>\n      <td>book</td>\n      <td>MLPClassifier</td>\n      <td>dicta-il/BEREL</td>\n      <td>0.762570</td>\n      <td>0.755792</td>\n      <td>0.762570</td>\n      <td>0.647297</td>\n      <td>None</td>\n    </tr>\n    <tr>\n      <th>7</th>\n      <td>book</td>\n      <td>LogisticRegression</td>\n      <td>dicta-il/dictabert</td>\n      <td>0.733939</td>\n      <td>0.722712</td>\n      <td>0.733939</td>\n      <td>0.587545</td>\n      <td>None</td>\n    </tr>\n    <tr>\n      <th>8</th>\n      <td>book</td>\n      <td>MLPClassifier</td>\n      <td>dicta-il/dictabert</td>\n      <td>0.720670</td>\n      <td>0.713924</td>\n      <td>0.720670</td>\n      <td>0.591470</td>\n      <td>None</td>\n    </tr>\n    <tr>\n      <th>9</th>\n      <td>book</td>\n      <td>LogisticRegression</td>\n      <td>tfidf</td>\n      <td>0.708799</td>\n      <td>0.672439</td>\n      <td>0.708799</td>\n      <td>0.411115</td>\n      <td>None</td>\n    </tr>\n    <tr>\n      <th>10</th>\n      <td>book</td>\n      <td>LogisticRegression</td>\n      <td>onlplab/alephbert-base</td>\n      <td>0.695531</td>\n      <td>0.683620</td>\n      <td>0.695531</td>\n      <td>0.550676</td>\n      <td>None</td>\n    </tr>\n    <tr>\n      <th>11</th>\n      <td>book</td>\n      <td>MLPClassifier</td>\n      <td>onlplab/alephbert-base</td>\n      <td>0.672486</td>\n      <td>0.664415</td>\n      <td>0.672486</td>\n      <td>0.563769</td>\n      <td>None</td>\n    </tr>\n    <tr>\n      <th>12</th>\n      <td>book</td>\n      <td>GCN</td>\n      <td>dicta-il/BEREL</td>\n      <td>0.819134</td>\n      <td>0.815343</td>\n      <td>0.819134</td>\n      <td>0.776165</td>\n      <td>tfidf</td>\n    </tr>\n    <tr>\n      <th>13</th>\n      <td>book</td>\n      <td>GCN</td>\n      <td>dicta-il/MsBERT</td>\n      <td>0.825419</td>\n      <td>0.822019</td>\n      <td>0.825419</td>\n      <td>0.792638</td>\n      <td>tfidf</td>\n    </tr>\n    <tr>\n      <th>14</th>\n      <td>book</td>\n      <td>GCN</td>\n      <td>dicta-il/dictabert</td>\n      <td>0.819832</td>\n      <td>0.816423</td>\n      <td>0.819832</td>\n      <td>0.776971</td>\n      <td>tfidf</td>\n    </tr>\n    <tr>\n      <th>15</th>\n      <td>book</td>\n      <td>GCN</td>\n      <td>onlplab/alephbert-base</td>\n      <td>0.798883</td>\n      <td>0.793335</td>\n      <td>0.798883</td>\n      <td>0.752760</td>\n      <td>tfidf</td>\n    </tr>\n  </tbody>\n</table>\n</div>"
     },
     "execution_count": 5,
     "metadata": {},
     "output_type": "execute_result"
    }
   ],
   "source": [
    "\n",
    "results = []\n",
    "for task in tasks:\n",
    "    baseline = pd.read_csv(compare_list[task][0])\n",
    "    baseline = baseline.rename(columns={\"accuracy\": \"test_acc\"})\n",
    "    baseline = baseline[baseline[\"model\"].isin([\"LogisticRegression\", \"MLPClassifier\"])]\n",
    "    baseline = baseline.sort_values(by=\"test_acc\", ascending=False)\n",
    "    baseline[\"task\"] = task\n",
    "    baseline[\"adj_type\"] = None\n",
    "    results.append(baseline[COMPARISON_SCHEME].to_dict(orient=\"records\"))\n",
    "\n",
    "    gnn = pd.read_csv(compare_list[task][1])\n",
    "    gnn = gnn.rename(columns={\"bert_model\": \"vectorizer\"})\n",
    "\n",
    "    max_idx = gnn.groupby('vectorizer')['val_acc'].idxmax()\n",
    "    max_test_acc_rows = gnn.loc[max_idx]\n",
    "    max_test_acc_rows[\"model\"] = \"GCN\"\n",
    "    max_test_acc_rows[\"task\"] = task\n",
    "    results.append(max_test_acc_rows[COMPARISON_SCHEME].to_dict(orient=\"records\"))\n",
    "\n",
    "all_results = pd.DataFrame([item for sublist in results for item in sublist])\n",
    "all_results"
   ]
  },
  {
   "cell_type": "code",
   "execution_count": 6,
   "id": "a3e9f842-4dfc-445f-b7e8-7cbbc1f10338",
   "metadata": {
    "collapsed": false,
    "execution": {
     "iopub.execute_input": "2024-11-23T08:27:07.527576Z",
     "iopub.status.busy": "2024-11-23T08:27:07.527034Z",
     "iopub.status.idle": "2024-11-23T08:27:07.537590Z",
     "shell.execute_reply": "2024-11-23T08:27:07.535838Z",
     "shell.execute_reply.started": "2024-11-23T08:27:07.527534Z"
    },
    "ExecuteTime": {
     "end_time": "2025-01-12T12:54:48.559790Z",
     "start_time": "2025-01-12T12:54:48.554335Z"
    }
   },
   "outputs": [],
   "source": [
    "for task in all_results['task'].unique():\n",
    "    tmp = all_results[all_results['task'] == task].sort_values(by=\"test_acc\", ascending=False).head(20)\n",
    "    # tmp.to_csv(f\"{BASE_DIR}/reports/tables/{task}_classification_top_20.csv\", index=False)\n"
   ]
  },
  {
   "cell_type": "code",
   "execution_count": 7,
   "id": "9c1a6ee2a154ec5d",
   "metadata": {
    "collapsed": false,
    "execution": {
     "iopub.execute_input": "2024-11-23T08:27:08.139135Z",
     "iopub.status.busy": "2024-11-23T08:27:08.138374Z",
     "iopub.status.idle": "2024-11-23T08:27:08.149565Z",
     "shell.execute_reply": "2024-11-23T08:27:08.147633Z",
     "shell.execute_reply.started": "2024-11-23T08:27:08.139068Z"
    },
    "ExecuteTime": {
     "end_time": "2025-01-12T12:54:49.232674Z",
     "start_time": "2025-01-12T12:54:49.227480Z"
    }
   },
   "outputs": [],
   "source": [
    "\n",
    "def get_group_by_vectorizer(i):\n",
    "    if \"yonatanlou\" in i:\n",
    "        return 'fine_tuned'\n",
    "    elif \"dicta\" in i or \"onlplab\" in i:\n",
    "        return 'pre_trained_bert'\n",
    "    else:\n",
    "        return 'classic_text_features'\n",
    "\n",
    "\n",
    "all_results[\"vectorizer_type\"] = all_results[\"vectorizer\"].apply(get_group_by_vectorizer)\n",
    "\n"
   ]
  },
  {
   "cell_type": "code",
   "outputs": [
    {
     "name": "stdout",
     "output_type": "stream",
     "text": [
      "\\begin{tabular}{lrr}\n",
      "\\toprule\n",
      "model & GCN & MLPClassifier \\\\\n",
      "vectorizer &  &  \\\\\n",
      "\\midrule\n",
      "dicta-il/BEREL & 0.81 & 0.76 \\\\\n",
      "dicta-il/MsBERT & 0.81 & 0.84 \\\\\n",
      "dicta-il/dictabert & 0.81 & 0.71 \\\\\n",
      "onlplab/alephbert-base & 0.79 & 0.66 \\\\\n",
      "tfidf & NaN & 0.81 \\\\\n",
      "trigram & NaN & 0.79 \\\\\n",
      "\\bottomrule\n",
      "\\end{tabular}\n"
     ]
    }
   ],
   "source": [
    "# all_results\n",
    "all_results = all_results[all_results[\"model\"].isin([\"GCN\", \"MLPClassifier\"])]\n",
    "print(pd.pivot_table(all_results, index=\"model\", columns=\"vectorizer\", values=\"weighted_f1\", aggfunc=\"mean\").T.to_latex(float_format=\"%.2f\"))"
   ],
   "metadata": {
    "collapsed": false,
    "ExecuteTime": {
     "end_time": "2024-12-08T18:03:49.353683Z",
     "start_time": "2024-12-08T18:03:49.334056Z"
    }
   },
   "id": "38b9e25f43d8a8c9",
   "execution_count": 10
  },
  {
   "cell_type": "code",
   "execution_count": 8,
   "id": "10d8fb87f31ebb52",
   "metadata": {
    "collapsed": false,
    "execution": {
     "iopub.execute_input": "2024-11-23T08:27:08.882208Z",
     "iopub.status.busy": "2024-11-23T08:27:08.881599Z",
     "iopub.status.idle": "2024-11-23T08:27:08.891819Z",
     "shell.execute_reply": "2024-11-23T08:27:08.890217Z",
     "shell.execute_reply.started": "2024-11-23T08:27:08.882146Z"
    },
    "ExecuteTime": {
     "end_time": "2025-01-12T12:54:54.245242Z",
     "start_time": "2025-01-12T12:54:54.237044Z"
    }
   },
   "outputs": [],
   "source": [
    "\n",
    "def generate_color_map(df, col, group_name, base_color=\"PuOr\", base_color_by_group=None):\n",
    "    groups = df.groupby(group_name)[col].apply(list).to_dict()\n",
    "    num_groups = df[col].nunique()\n",
    "    all_colors = list(sns.color_palette(base_color, num_groups))\n",
    "    color_map = {}\n",
    "    i = 0\n",
    "    if not base_color_by_group:\n",
    "        for group, items in groups.items():\n",
    "            items = list(set(items))\n",
    "\n",
    "            for item in items:\n",
    "                color_map[item] = all_colors[i]\n",
    "                i += 1\n",
    "        return color_map\n",
    "\n",
    "    # Function to generate shades of a base color\n",
    "    def generate_shades(base_color, num_shades):\n",
    "        # return sns.hls_palette(num_shades, h=base_color, l=0.5, s=0.5)\n",
    "\n",
    "        return sns.color_palette(base_color, n_colors=num_shades + 1)\n",
    "\n",
    "    # Create the color map\n",
    "    color_map = {}\n",
    "    for group, items in groups.items():\n",
    "        shades = generate_shades(base_color_by_group[group], len(items))\n",
    "        for item, shade in zip(items, shades):\n",
    "            color_map[item] = shade\n",
    "    return color_map\n",
    "\n",
    "\n",
    "\n"
   ]
  },
  {
   "cell_type": "code",
   "execution_count": 9,
   "id": "beec2c3a-ac20-4f11-af3a-843499aa19b5",
   "metadata": {
    "execution": {
     "iopub.execute_input": "2024-11-23T08:27:09.330449Z",
     "iopub.status.busy": "2024-11-23T08:27:09.329700Z",
     "iopub.status.idle": "2024-11-23T08:27:11.580454Z",
     "shell.execute_reply": "2024-11-23T08:27:11.578965Z",
     "shell.execute_reply.started": "2024-11-23T08:27:09.330406Z"
    },
    "ExecuteTime": {
     "end_time": "2025-01-12T12:54:54.944633Z",
     "start_time": "2025-01-12T12:54:54.931406Z"
    }
   },
   "outputs": [],
   "source": [
    "import seaborn as sns\n",
    "import matplotlib.pyplot as plt\n",
    "import pandas as pd\n",
    "\n",
    "\n",
    "def generate_bar_plot(all_results, x_col, y_col, hue_col, vectorizer_type_col, color_map, filename,\n",
    "                      which_hue_cols=False, base_color_by_group=None):\n",
    "    # Create a figure and a set of subplots\n",
    "    fig, axes = plt.subplots(nrows=len(all_results['task'].unique()), ncols=1,\n",
    "                             figsize=(12, 6 * len(all_results['task'].unique())), sharey=False)\n",
    "    all_results['task'] = all_results['task'].replace(\"section\", \"sectarian\")\n",
    "\n",
    "    # Create a custom order based on base_color_by_group\n",
    "    if base_color_by_group:\n",
    "        custom_order = []\n",
    "        for group in base_color_by_group.keys():\n",
    "            group_items = all_results[all_results['vectorizer_type'] == group][hue_col].unique()\n",
    "            custom_order.extend(group_items)\n",
    "    else:\n",
    "        custom_order = None\n",
    "\n",
    "    # Generate colors for each group\n",
    "    if base_color_by_group:\n",
    "        group_colors = {}\n",
    "        for group, cmap_name in base_color_by_group.items():\n",
    "            cmap = plt.get_cmap(cmap_name)\n",
    "            group_colors[group] = cmap(0.6)  # Use a specific point in the colormap\n",
    "\n",
    "    for i, task in enumerate(all_results['task'].unique()):\n",
    "        # Filter data for the current task\n",
    "        task_data = all_results[all_results['task'] == task]\n",
    "        if which_hue_cols is not None:\n",
    "            task_data = task_data[task_data[hue_col].isin(which_hue_cols)]\n",
    "\n",
    "        # Sort the data according to the custom order\n",
    "        if custom_order:\n",
    "            task_data[hue_col] = pd.Categorical(task_data[hue_col], categories=custom_order, ordered=True)\n",
    "            task_data = task_data.sort_values(hue_col)\n",
    "\n",
    "        # Create the plot with sorted bars\n",
    "        ax = axes[i] if len(all_results['task'].unique()) > 1 else axes\n",
    "        sns.barplot(ax=ax, x=x_col, y=y_col, hue=hue_col, data=task_data, palette=color_map, hue_order=custom_order)\n",
    "        ax.set_title(f'{y_col} by {hue_col} for {task}', fontsize=16)\n",
    "\n",
    "        # Adjusting the y-axis limits\n",
    "        min_y_col = task_data[y_col].min()\n",
    "        max_y_col = task_data[y_col].max()\n",
    "        padding = (max_y_col - min_y_col) * 0.1\n",
    "        ax.set_ylim(min_y_col - padding, max_y_col + padding)\n",
    "\n",
    "        ax.set_xlabel('Model', fontsize=14)\n",
    "        ax.set_ylabel(y_col, fontsize=14)\n",
    "        ax.tick_params(axis='x', rotation=45)\n",
    "\n",
    "        # Customize legend\n",
    "        handles, labels = ax.get_legend_handles_labels()\n",
    "        ax.legend(handles, labels, title='Vectorizer', bbox_to_anchor=(1.05, 1), loc='upper left', borderaxespad=0.)\n",
    "        ax.grid(alpha=0.5)\n",
    "\n",
    "    plt.tight_layout()\n",
    "    if filename:\n",
    "        plt.savefig(filename)\n",
    "    plt.show()"
   ]
  },
  {
   "cell_type": "code",
   "execution_count": 10,
   "id": "bccc2f59-f093-4ce7-99c6-3b256de34b35",
   "metadata": {
    "execution": {
     "iopub.execute_input": "2024-11-23T08:27:11.583659Z",
     "iopub.status.busy": "2024-11-23T08:27:11.583088Z",
     "iopub.status.idle": "2024-11-23T08:27:12.215770Z",
     "shell.execute_reply": "2024-11-23T08:27:12.214219Z",
     "shell.execute_reply.started": "2024-11-23T08:27:11.583619Z"
    },
    "ExecuteTime": {
     "end_time": "2025-01-12T12:54:56.306927Z",
     "start_time": "2025-01-12T12:54:55.806184Z"
    }
   },
   "outputs": [
    {
     "name": "stderr",
     "output_type": "stream",
     "text": [
      "/var/folders/yv/8bscwg3x6m5934xb_mry4d_m0000gr/T/ipykernel_29137/1387938981.py:11: SettingWithCopyWarning: \n",
      "A value is trying to be set on a copy of a slice from a DataFrame.\n",
      "Try using .loc[row_indexer,col_indexer] = value instead\n",
      "\n",
      "See the caveats in the documentation: https://pandas.pydata.org/pandas-docs/stable/user_guide/indexing.html#returning-a-view-versus-a-copy\n",
      "  all_results['task'] = all_results['task'].replace(\"section\", \"sectarian\")\n"
     ]
    },
    {
     "data": {
      "text/plain": "<Figure size 1200x600 with 1 Axes>",
      "image/png": "[encoded data removed]"
     },
     "metadata": {},
     "output_type": "display_data"
    }
   ],
   "source": [
    "base_color_by_group = {\n",
    "    'classic_text_features': \"coolwarm\",  # Red\n",
    "    'pre_trained_bert': \"viridis\",  # Green\n",
    "    'fine_tuned': \"Spectral\"  # Blue\n",
    "}\n",
    "\n",
    "color_map = generate_color_map(all_results, \"vectorizer\", \"vectorizer_type\", \"RdYlGn\", base_color_by_group)\n",
    "\n",
    "file_name = f\"{BASE_DIR}/experiments/dss/gnn/comparsion_plot_all_tasks.png\"\n",
    "file_name = None\n",
    "# hue_cols = list(all_results[all_results[\"model\"]==\"GCN\"][\"vectorizer\"].unique())+[\"trigram\"]\n",
    "all_results = all_results[all_results[\"vectorizer\"] != \"dicta-il/MsBERT\"]\n",
    "hue_cols = all_results[\"vectorizer\"].unique()\n",
    "plot_obj = generate_bar_plot(all_results, \"model\", \"weighted_f1\", \"vectorizer\", \"vectorizer_type\", color_map,\n",
    "                             filename=file_name, which_hue_cols=hue_cols, base_color_by_group=base_color_by_group)"
   ]
  },
  {
   "cell_type": "code",
   "execution_count": 68,
   "id": "5ac546e1a3ebde02",
   "metadata": {
    "ExecuteTime": {
     "end_time": "2024-11-17T09:39:14.186564Z",
     "start_time": "2024-11-17T09:39:14.153769Z"
    },
    "collapsed": false,
    "execution": {
     "iopub.execute_input": "2024-11-09T16:02:36.178781Z",
     "iopub.status.busy": "2024-11-09T16:02:36.178337Z",
     "iopub.status.idle": "2024-11-09T16:02:36.230414Z",
     "shell.execute_reply": "2024-11-09T16:02:36.229593Z",
     "shell.execute_reply.started": "2024-11-09T16:02:36.178747Z"
    }
   },
   "outputs": [
    {
     "data": {
      "text/html": [
       "<div>\n",
       "<style scoped>\n",
       "    .dataframe tbody tr th:only-of-type {\n",
       "        vertical-align: middle;\n",
       "    }\n",
       "\n",
       "    .dataframe tbody tr th {\n",
       "        vertical-align: top;\n",
       "    }\n",
       "\n",
       "    .dataframe thead th {\n",
       "        text-align: right;\n",
       "    }\n",
       "</style>\n",
       "<table border=\"1\" class=\"dataframe\">\n",
       "  <thead>\n",
       "    <tr style=\"text-align: right;\">\n",
       "      <th></th>\n",
       "      <th>task</th>\n",
       "      <th>vectorizer</th>\n",
       "      <th>model</th>\n",
       "      <th>weighted_f1</th>\n",
       "      <th>hidden_dim</th>\n",
       "      <th>adj_type</th>\n",
       "      <th>learning_rate</th>\n",
       "      <th>hidden_dim</th>\n",
       "      <th>epochs</th>\n",
       "    </tr>\n",
       "  </thead>\n",
       "  <tbody>\n",
       "    <tr>\n",
       "      <th>0</th>\n",
       "      <td>book</td>\n",
       "      <td>dicta-il/BEREL</td>\n",
       "      <td>GCN</td>\n",
       "      <td>0.787517</td>\n",
       "      <td>500</td>\n",
       "      <td>tfidf</td>\n",
       "      <td>0.001</td>\n",
       "      <td>500</td>\n",
       "      <td>500</td>\n",
       "    </tr>\n",
       "    <tr>\n",
       "      <th>9</th>\n",
       "      <td>book</td>\n",
       "      <td>dicta-il/MsBERT</td>\n",
       "      <td>GCN</td>\n",
       "      <td>0.781410</td>\n",
       "      <td>500</td>\n",
       "      <td>tfidf</td>\n",
       "      <td>0.001</td>\n",
       "      <td>500</td>\n",
       "      <td>500</td>\n",
       "    </tr>\n",
       "    <tr>\n",
       "      <th>6</th>\n",
       "      <td>book</td>\n",
       "      <td>dicta-il/dictabert</td>\n",
       "      <td>GCN</td>\n",
       "      <td>0.770210</td>\n",
       "      <td>500</td>\n",
       "      <td>tfidf</td>\n",
       "      <td>0.001</td>\n",
       "      <td>500</td>\n",
       "      <td>500</td>\n",
       "    </tr>\n",
       "    <tr>\n",
       "      <th>3</th>\n",
       "      <td>book</td>\n",
       "      <td>onlplab/alephbert-base</td>\n",
       "      <td>GCN</td>\n",
       "      <td>0.753068</td>\n",
       "      <td>500</td>\n",
       "      <td>tfidf</td>\n",
       "      <td>0.001</td>\n",
       "      <td>500</td>\n",
       "      <td>500</td>\n",
       "    </tr>\n",
       "    <tr>\n",
       "      <th>11</th>\n",
       "      <td>book</td>\n",
       "      <td>dicta-il/MsBERT</td>\n",
       "      <td>GCN</td>\n",
       "      <td>0.713580</td>\n",
       "      <td>500</td>\n",
       "      <td>BOW-n_gram</td>\n",
       "      <td>0.001</td>\n",
       "      <td>500</td>\n",
       "      <td>500</td>\n",
       "    </tr>\n",
       "  </tbody>\n",
       "</table>\n",
       "</div>"
      ],
      "text/plain": [
       "    task              vectorizer model  weighted_f1  hidden_dim    adj_type  \\\n",
       "0   book          dicta-il/BEREL   GCN     0.787517         500       tfidf   \n",
       "9   book         dicta-il/MsBERT   GCN     0.781410         500       tfidf   \n",
       "6   book      dicta-il/dictabert   GCN     0.770210         500       tfidf   \n",
       "3   book  onlplab/alephbert-base   GCN     0.753068         500       tfidf   \n",
       "11  book         dicta-il/MsBERT   GCN     0.713580         500  BOW-n_gram   \n",
       "\n",
       "    learning_rate  hidden_dim  epochs  \n",
       "0           0.001         500     500  \n",
       "9           0.001         500     500  \n",
       "6           0.001         500     500  \n",
       "3           0.001         500     500  \n",
       "11          0.001         500     500  "
      ]
     },
     "execution_count": 68,
     "metadata": {},
     "output_type": "execute_result"
    }
   ],
   "source": [
    "\n",
    "results_gnn = []\n",
    "for task in tasks:\n",
    "    gnn = pd.read_csv(compare_list[task][1])\n",
    "    gnn = gnn.rename(columns={\"bert_model\": \"vectorizer\"})\n",
    "\n",
    "    gnn[\"model\"] = \"GCN\"\n",
    "    gnn[\"task\"] = task\n",
    "\n",
    "    results_gnn.append(gnn.to_dict(orient=\"records\"))\n",
    "\n",
    "all_results_gnn = pd.DataFrame([item for sublist in results_gnn for item in sublist])\n",
    "COMPARISON_SCHEME = [\"task\", \"vectorizer\", \"model\", \"weighted_f1\", \"hidden_dim\", \"adj_type\", \"learning_rate\",\n",
    "                     \"hidden_dim\", \"epochs\"]\n",
    "\n",
    "MAIN_METRIC = \"weighted_f1\"\n",
    "all_results_gnn[all_results_gnn[\"model\"] == \"GCN\"].sort_values(by=MAIN_METRIC, ascending=False).groupby(\"task\").head(\n",
    "    5).sort_values(by=[\"task\", MAIN_METRIC], ascending=False)[COMPARISON_SCHEME]\n"
   ]
  },
  {
   "cell_type": "code",
   "execution_count": 11,
   "id": "db59f071-e0b5-4bfb-9848-2e75aa1a3d8a",
   "metadata": {
    "ExecuteTime": {
     "end_time": "2024-11-14T14:52:22.049529Z",
     "start_time": "2024-11-14T14:52:22.044842Z"
    }
   },
   "outputs": [],
   "source": []
  },
  {
   "cell_type": "code",
   "execution_count": null,
   "id": "f2e4f5b6-774e-423a-9796-7ef67c0555a3",
   "metadata": {},
   "outputs": [],
   "source": []
  }
 ],
 "metadata": {
  "kernelspec": {
   "display_name": "Python 3 (ipykernel)",
   "language": "python",
   "name": "python3"
  },
  "language_info": {
   "codemirror_mode": {
    "name": "ipython",
    "version": 3
   },
   "file_extension": ".py",
   "mimetype": "text/x-python",
   "name": "python",
   "nbconvert_exporter": "python",
   "pygments_lexer": "ipython3",
   "version": "3.10.0"
  }
 },
 "nbformat": 4,
 "nbformat_minor": 5
}
