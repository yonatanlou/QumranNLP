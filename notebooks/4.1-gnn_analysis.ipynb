{
 "cells": [
  {
   "cell_type": "code",
   "execution_count": 92,
   "id": "initial_id",
   "metadata": {
    "execution": {
     "iopub.execute_input": "2024-11-09T15:50:58.977108Z",
     "iopub.status.busy": "2024-11-09T15:50:58.976637Z",
     "iopub.status.idle": "2024-11-09T15:50:59.455241Z",
     "shell.execute_reply": "2024-11-09T15:50:59.454288Z",
     "shell.execute_reply.started": "2024-11-09T15:50:58.977065Z"
    },
    "ExecuteTime": {
     "end_time": "2024-11-17T10:59:04.000849Z",
     "start_time": "2024-11-17T10:59:03.995601Z"
    }
   },
   "outputs": [],
   "source": [
    "import pandas as pd\n",
    "\n",
    "from config import BASE_DIR\n",
    "\n",
    "domain = \"bible\"\n",
    "gnn_exp_name = \"gcn_hm_opt\"\n",
    "BASELINE_DIR = f\"{BASE_DIR}/experiments/{domain}/baselines\"\n",
    "BASELINE_GNN_DIR = f\"{BASE_DIR}/experiments/{domain}/gnn/{gnn_exp_name}\"\n"
   ]
  },
  {
   "cell_type": "code",
   "execution_count": 93,
   "id": "c75fe282a4d73e9e",
   "metadata": {
    "collapsed": false,
    "execution": {
     "iopub.execute_input": "2024-11-09T15:50:59.457347Z",
     "iopub.status.busy": "2024-11-09T15:50:59.456904Z",
     "iopub.status.idle": "2024-11-09T15:50:59.467539Z",
     "shell.execute_reply": "2024-11-09T15:50:59.466460Z",
     "shell.execute_reply.started": "2024-11-09T15:50:59.457315Z"
    },
    "ExecuteTime": {
     "end_time": "2024-11-17T10:59:04.186240Z",
     "start_time": "2024-11-17T10:59:04.177716Z"
    }
   },
   "outputs": [
    {
     "name": "stdout",
     "output_type": "stream",
     "text": [
      "['book_unsupervised.csv', 'book_supervised.csv']\n",
      "['gcn_hm_opt_book_2_adj_types.csv']\n"
     ]
    }
   ],
   "source": [
    "import os\n",
    "\n",
    "\n",
    "def list_files(dir):\n",
    "    filenames = []\n",
    "    for root, dirs, files in os.walk(dir):\n",
    "        for file in files:\n",
    "            filenames.append(file)\n",
    "    return filenames\n",
    "\n",
    "\n",
    "print(list_files(BASELINE_DIR))\n",
    "print(list_files(BASELINE_GNN_DIR))"
   ]
  },
  {
   "cell_type": "code",
   "execution_count": 94,
   "id": "a43efdf023bcb594",
   "metadata": {
    "collapsed": false,
    "execution": {
     "iopub.execute_input": "2024-11-09T15:50:59.547649Z",
     "iopub.status.busy": "2024-11-09T15:50:59.547235Z",
     "iopub.status.idle": "2024-11-09T15:50:59.552989Z",
     "shell.execute_reply": "2024-11-09T15:50:59.551700Z",
     "shell.execute_reply.started": "2024-11-09T15:50:59.547615Z"
    },
    "ExecuteTime": {
     "end_time": "2024-11-17T10:59:04.317577Z",
     "start_time": "2024-11-17T10:59:04.311116Z"
    }
   },
   "outputs": [],
   "source": [
    "task_by_domain = {\"dss\": [\"book\", \"composition\", \"section\"], \"bible\": [\"book\"]}\n",
    "tasks = task_by_domain[domain]\n",
    "\n",
    "gnn_name_format = \"{}_{}_2_adj_types.csv\"\n",
    "\n",
    "# Dynamically construct compare_list for tasks in the selected domain\n",
    "compare_list = {\n",
    "    task: [\n",
    "        f\"{BASELINE_DIR}/{task}_supervised.csv\",\n",
    "        f\"{BASELINE_GNN_DIR}/{gnn_name_format.format(gnn_exp_name, task)}\"\n",
    "    ]\n",
    "    for task in tasks\n",
    "}\n"
   ]
  },
  {
   "cell_type": "code",
   "execution_count": 96,
   "id": "236d011afef15cb4",
   "metadata": {
    "collapsed": false,
    "execution": {
     "iopub.execute_input": "2024-11-09T15:50:59.838618Z",
     "iopub.status.busy": "2024-11-09T15:50:59.838171Z",
     "iopub.status.idle": "2024-11-09T15:50:59.843549Z",
     "shell.execute_reply": "2024-11-09T15:50:59.842254Z",
     "shell.execute_reply.started": "2024-11-09T15:50:59.838585Z"
    },
    "ExecuteTime": {
     "end_time": "2024-11-17T10:59:05.084758Z",
     "start_time": "2024-11-17T10:59:05.078916Z"
    }
   },
   "outputs": [],
   "source": [
    "\n",
    "COMPARISON_SCHEME = [\"task\", \"model\", \"vectorizer\", \"test_acc\", \"weighted_f1\", \"micro_f1\", \"macro_f1\", \"adj_type\"]"
   ]
  },
  {
   "cell_type": "code",
   "execution_count": 97,
   "id": "d229cd95fd28aa3b",
   "metadata": {
    "collapsed": false,
    "execution": {
     "iopub.execute_input": "2024-11-09T15:51:00.263921Z",
     "iopub.status.busy": "2024-11-09T15:51:00.263514Z",
     "iopub.status.idle": "2024-11-09T15:51:00.339413Z",
     "shell.execute_reply": "2024-11-09T15:51:00.338576Z",
     "shell.execute_reply.started": "2024-11-09T15:51:00.263889Z"
    },
    "ExecuteTime": {
     "end_time": "2024-11-17T10:59:09.206388Z",
     "start_time": "2024-11-17T10:59:09.169863Z"
    }
   },
   "outputs": [
    {
     "data": {
      "text/plain": "    task               model              vectorizer  test_acc  weighted_f1  \\\n0   book       MLPClassifier         dicta-il/MsBERT  0.838687     0.835974   \n1   book  LogisticRegression         dicta-il/MsBERT  0.836592     0.832241   \n2   book       MLPClassifier                   tfidf  0.824721     0.809621   \n3   book       MLPClassifier                 trigram  0.800978     0.791835   \n4   book  LogisticRegression                 trigram  0.775838     0.769281   \n5   book  LogisticRegression          dicta-il/BEREL  0.766061     0.756979   \n6   book       MLPClassifier          dicta-il/BEREL  0.762570     0.755792   \n7   book  LogisticRegression      dicta-il/dictabert  0.733939     0.722712   \n8   book       MLPClassifier      dicta-il/dictabert  0.720670     0.713924   \n9   book  LogisticRegression                   tfidf  0.708799     0.672439   \n10  book  LogisticRegression  onlplab/alephbert-base  0.695531     0.683620   \n11  book       MLPClassifier  onlplab/alephbert-base  0.672486     0.664415   \n12  book                 GCN          dicta-il/BEREL  0.812849     0.807440   \n13  book                 GCN         dicta-il/MsBERT  0.838687     0.834834   \n14  book                 GCN      dicta-il/dictabert  0.780028     0.774582   \n15  book                 GCN  onlplab/alephbert-base  0.748603     0.742244   \n\n    micro_f1  macro_f1 adj_type  \n0   0.838687  0.769432     None  \n1   0.836592  0.738799     None  \n2   0.824721  0.639458     None  \n3   0.800978  0.698184     None  \n4   0.775838  0.672088     None  \n5   0.766061  0.630200     None  \n6   0.762570  0.647297     None  \n7   0.733939  0.587545     None  \n8   0.720670  0.591470     None  \n9   0.708799  0.411115     None  \n10  0.695531  0.550676     None  \n11  0.672486  0.563769     None  \n12  0.812849  0.733718    tfidf  \n13  0.838687  0.778886    tfidf  \n14  0.780028  0.680072    tfidf  \n15  0.748603  0.650128    tfidf  ",
      "text/html": "<div>\n<style scoped>\n    .dataframe tbody tr th:only-of-type {\n        vertical-align: middle;\n    }\n\n    .dataframe tbody tr th {\n        vertical-align: top;\n    }\n\n    .dataframe thead th {\n        text-align: right;\n    }\n</style>\n<table border=\"1\" class=\"dataframe\">\n  <thead>\n    <tr style=\"text-align: right;\">\n      <th></th>\n      <th>task</th>\n      <th>model</th>\n      <th>vectorizer</th>\n      <th>test_acc</th>\n      <th>weighted_f1</th>\n      <th>micro_f1</th>\n      <th>macro_f1</th>\n      <th>adj_type</th>\n    </tr>\n  </thead>\n  <tbody>\n    <tr>\n      <th>0</th>\n      <td>book</td>\n      <td>MLPClassifier</td>\n      <td>dicta-il/MsBERT</td>\n      <td>0.838687</td>\n      <td>0.835974</td>\n      <td>0.838687</td>\n      <td>0.769432</td>\n      <td>None</td>\n    </tr>\n    <tr>\n      <th>1</th>\n      <td>book</td>\n      <td>LogisticRegression</td>\n      <td>dicta-il/MsBERT</td>\n      <td>0.836592</td>\n      <td>0.832241</td>\n      <td>0.836592</td>\n      <td>0.738799</td>\n      <td>None</td>\n    </tr>\n    <tr>\n      <th>2</th>\n      <td>book</td>\n      <td>MLPClassifier</td>\n      <td>tfidf</td>\n      <td>0.824721</td>\n      <td>0.809621</td>\n      <td>0.824721</td>\n      <td>0.639458</td>\n      <td>None</td>\n    </tr>\n    <tr>\n      <th>3</th>\n      <td>book</td>\n      <td>MLPClassifier</td>\n      <td>trigram</td>\n      <td>0.800978</td>\n      <td>0.791835</td>\n      <td>0.800978</td>\n      <td>0.698184</td>\n      <td>None</td>\n    </tr>\n    <tr>\n      <th>4</th>\n      <td>book</td>\n      <td>LogisticRegression</td>\n      <td>trigram</td>\n      <td>0.775838</td>\n      <td>0.769281</td>\n      <td>0.775838</td>\n      <td>0.672088</td>\n      <td>None</td>\n    </tr>\n    <tr>\n      <th>5</th>\n      <td>book</td>\n      <td>LogisticRegression</td>\n      <td>dicta-il/BEREL</td>\n      <td>0.766061</td>\n      <td>0.756979</td>\n      <td>0.766061</td>\n      <td>0.630200</td>\n      <td>None</td>\n    </tr>\n    <tr>\n      <th>6</th>\n      <td>book</td>\n      <td>MLPClassifier</td>\n      <td>dicta-il/BEREL</td>\n      <td>0.762570</td>\n      <td>0.755792</td>\n      <td>0.762570</td>\n      <td>0.647297</td>\n      <td>None</td>\n    </tr>\n    <tr>\n      <th>7</th>\n      <td>book</td>\n      <td>LogisticRegression</td>\n      <td>dicta-il/dictabert</td>\n      <td>0.733939</td>\n      <td>0.722712</td>\n      <td>0.733939</td>\n      <td>0.587545</td>\n      <td>None</td>\n    </tr>\n    <tr>\n      <th>8</th>\n      <td>book</td>\n      <td>MLPClassifier</td>\n      <td>dicta-il/dictabert</td>\n      <td>0.720670</td>\n      <td>0.713924</td>\n      <td>0.720670</td>\n      <td>0.591470</td>\n      <td>None</td>\n    </tr>\n    <tr>\n      <th>9</th>\n      <td>book</td>\n      <td>LogisticRegression</td>\n      <td>tfidf</td>\n      <td>0.708799</td>\n      <td>0.672439</td>\n      <td>0.708799</td>\n      <td>0.411115</td>\n      <td>None</td>\n    </tr>\n    <tr>\n      <th>10</th>\n      <td>book</td>\n      <td>LogisticRegression</td>\n      <td>onlplab/alephbert-base</td>\n      <td>0.695531</td>\n      <td>0.683620</td>\n      <td>0.695531</td>\n      <td>0.550676</td>\n      <td>None</td>\n    </tr>\n    <tr>\n      <th>11</th>\n      <td>book</td>\n      <td>MLPClassifier</td>\n      <td>onlplab/alephbert-base</td>\n      <td>0.672486</td>\n      <td>0.664415</td>\n      <td>0.672486</td>\n      <td>0.563769</td>\n      <td>None</td>\n    </tr>\n    <tr>\n      <th>12</th>\n      <td>book</td>\n      <td>GCN</td>\n      <td>dicta-il/BEREL</td>\n      <td>0.812849</td>\n      <td>0.807440</td>\n      <td>0.812849</td>\n      <td>0.733718</td>\n      <td>tfidf</td>\n    </tr>\n    <tr>\n      <th>13</th>\n      <td>book</td>\n      <td>GCN</td>\n      <td>dicta-il/MsBERT</td>\n      <td>0.838687</td>\n      <td>0.834834</td>\n      <td>0.838687</td>\n      <td>0.778886</td>\n      <td>tfidf</td>\n    </tr>\n    <tr>\n      <th>14</th>\n      <td>book</td>\n      <td>GCN</td>\n      <td>dicta-il/dictabert</td>\n      <td>0.780028</td>\n      <td>0.774582</td>\n      <td>0.780028</td>\n      <td>0.680072</td>\n      <td>tfidf</td>\n    </tr>\n    <tr>\n      <th>15</th>\n      <td>book</td>\n      <td>GCN</td>\n      <td>onlplab/alephbert-base</td>\n      <td>0.748603</td>\n      <td>0.742244</td>\n      <td>0.748603</td>\n      <td>0.650128</td>\n      <td>tfidf</td>\n    </tr>\n  </tbody>\n</table>\n</div>"
     },
     "execution_count": 97,
     "metadata": {},
     "output_type": "execute_result"
    }
   ],
   "source": [
    "\n",
    "results = []\n",
    "for task in tasks:\n",
    "    baseline = pd.read_csv(compare_list[task][0])\n",
    "    baseline = baseline.rename(columns={\"accuracy\": \"test_acc\"})\n",
    "    baseline = baseline[baseline[\"model\"].isin([\"LogisticRegression\", \"MLPClassifier\"])]\n",
    "    baseline = baseline.sort_values(by=\"test_acc\", ascending=False)\n",
    "    baseline[\"task\"] = task\n",
    "    baseline[\"adj_type\"] = None\n",
    "    results.append(baseline[COMPARISON_SCHEME].to_dict(orient=\"records\"))\n",
    "\n",
    "    gnn = pd.read_csv(compare_list[task][1])\n",
    "    gnn = gnn.rename(columns={\"bert_model\": \"vectorizer\"})\n",
    "\n",
    "    max_idx = gnn.groupby('vectorizer')['val_acc'].idxmax()\n",
    "    max_test_acc_rows = gnn.loc[max_idx]\n",
    "    max_test_acc_rows[\"model\"] = \"GCN\"\n",
    "    max_test_acc_rows[\"task\"] = task\n",
    "    results.append(max_test_acc_rows[COMPARISON_SCHEME].to_dict(orient=\"records\"))\n",
    "\n",
    "all_results = pd.DataFrame([item for sublist in results for item in sublist])\n",
    "all_results"
   ]
  },
  {
   "cell_type": "code",
   "execution_count": 98,
   "id": "a3e9f842-4dfc-445f-b7e8-7cbbc1f10338",
   "metadata": {
    "collapsed": false,
    "execution": {
     "iopub.execute_input": "2024-11-09T15:51:00.688788Z",
     "iopub.status.busy": "2024-11-09T15:51:00.688428Z",
     "iopub.status.idle": "2024-11-09T15:51:00.696284Z",
     "shell.execute_reply": "2024-11-09T15:51:00.695209Z",
     "shell.execute_reply.started": "2024-11-09T15:51:00.688759Z"
    },
    "ExecuteTime": {
     "end_time": "2024-11-17T10:59:09.887778Z",
     "start_time": "2024-11-17T10:59:09.882461Z"
    }
   },
   "outputs": [],
   "source": [
    "for task in all_results['task'].unique():\n",
    "    tmp = all_results[all_results['task'] == task].sort_values(by=\"test_acc\", ascending=False).head(20)\n",
    "    # tmp.to_csv(f\"{BASE_DIR}/reports/tables/{task}_classification_top_20.csv\", index=False)\n"
   ]
  },
  {
   "cell_type": "code",
   "execution_count": 99,
   "id": "9c1a6ee2a154ec5d",
   "metadata": {
    "collapsed": false,
    "execution": {
     "iopub.execute_input": "2024-11-09T15:51:01.051733Z",
     "iopub.status.busy": "2024-11-09T15:51:01.051125Z",
     "iopub.status.idle": "2024-11-09T15:51:01.057480Z",
     "shell.execute_reply": "2024-11-09T15:51:01.056165Z",
     "shell.execute_reply.started": "2024-11-09T15:51:01.051698Z"
    },
    "ExecuteTime": {
     "end_time": "2024-11-17T10:59:10.512137Z",
     "start_time": "2024-11-17T10:59:10.506068Z"
    }
   },
   "outputs": [],
   "source": [
    "\n",
    "def get_group_by_vectorizer(i):\n",
    "    if \"yonatanlou\" in i:\n",
    "        return 'fine_tuned'\n",
    "    elif \"dicta\" in i or \"onlplab\" in i:\n",
    "        return 'pre_trained_bert'\n",
    "    else:\n",
    "        return 'classic_text_features'\n",
    "\n",
    "\n",
    "all_results[\"vectorizer_type\"] = all_results[\"vectorizer\"].apply(get_group_by_vectorizer)\n",
    "\n"
   ]
  },
  {
   "cell_type": "code",
   "execution_count": 100,
   "id": "10d8fb87f31ebb52",
   "metadata": {
    "collapsed": false,
    "execution": {
     "iopub.execute_input": "2024-11-09T15:51:01.385228Z",
     "iopub.status.busy": "2024-11-09T15:51:01.384842Z",
     "iopub.status.idle": "2024-11-09T15:51:01.393753Z",
     "shell.execute_reply": "2024-11-09T15:51:01.392284Z",
     "shell.execute_reply.started": "2024-11-09T15:51:01.385197Z"
    },
    "ExecuteTime": {
     "end_time": "2024-11-17T10:59:10.933052Z",
     "start_time": "2024-11-17T10:59:10.923887Z"
    }
   },
   "outputs": [],
   "source": [
    "\n",
    "def generate_color_map(df, col, group_name, base_color=\"PuOr\", base_color_by_group=None):\n",
    "    groups = df.groupby(group_name)[col].apply(list).to_dict()\n",
    "    num_groups = df[col].nunique()\n",
    "    all_colors = list(sns.color_palette(base_color, num_groups))\n",
    "    color_map = {}\n",
    "    i = 0\n",
    "    if not base_color_by_group:\n",
    "        for group, items in groups.items():\n",
    "            items = list(set(items))\n",
    "\n",
    "            for item in items:\n",
    "                color_map[item] = all_colors[i]\n",
    "                i += 1\n",
    "        return color_map\n",
    "\n",
    "    # Function to generate shades of a base color\n",
    "    def generate_shades(base_color, num_shades):\n",
    "        # return sns.hls_palette(num_shades, h=base_color, l=0.5, s=0.5)\n",
    "\n",
    "        return sns.color_palette(base_color, n_colors=num_shades + 1)\n",
    "\n",
    "    # Create the color map\n",
    "    color_map = {}\n",
    "    for group, items in groups.items():\n",
    "        shades = generate_shades(base_color_by_group[group], len(items))\n",
    "        for item, shade in zip(items, shades):\n",
    "            color_map[item] = shade\n",
    "    return color_map\n",
    "\n",
    "\n",
    "\n"
   ]
  },
  {
   "cell_type": "code",
   "execution_count": 101,
   "id": "beec2c3a-ac20-4f11-af3a-843499aa19b5",
   "metadata": {
    "execution": {
     "iopub.execute_input": "2024-11-09T15:51:01.883859Z",
     "iopub.status.busy": "2024-11-09T15:51:01.883429Z",
     "iopub.status.idle": "2024-11-09T15:51:03.126350Z",
     "shell.execute_reply": "2024-11-09T15:51:03.125527Z",
     "shell.execute_reply.started": "2024-11-09T15:51:01.883823Z"
    },
    "ExecuteTime": {
     "end_time": "2024-11-17T10:59:11.865817Z",
     "start_time": "2024-11-17T10:59:11.848332Z"
    }
   },
   "outputs": [],
   "source": [
    "import seaborn as sns\n",
    "import matplotlib.pyplot as plt\n",
    "import pandas as pd\n",
    "\n",
    "\n",
    "def generate_bar_plot(all_results, x_col, y_col, hue_col, vectorizer_type_col, color_map, filename,\n",
    "                      which_hue_cols=False, base_color_by_group=None):\n",
    "    # Create a figure and a set of subplots\n",
    "    fig, axes = plt.subplots(nrows=len(all_results['task'].unique()), ncols=1,\n",
    "                             figsize=(12, 6 * len(all_results['task'].unique())), sharey=False)\n",
    "    all_results['task'] = all_results['task'].replace(\"section\", \"sectarian\")\n",
    "\n",
    "    # Create a custom order based on base_color_by_group\n",
    "    if base_color_by_group:\n",
    "        custom_order = []\n",
    "        for group in base_color_by_group.keys():\n",
    "            group_items = all_results[all_results['vectorizer_type'] == group][hue_col].unique()\n",
    "            custom_order.extend(group_items)\n",
    "    else:\n",
    "        custom_order = None\n",
    "\n",
    "    # Generate colors for each group\n",
    "    if base_color_by_group:\n",
    "        group_colors = {}\n",
    "        for group, cmap_name in base_color_by_group.items():\n",
    "            cmap = plt.get_cmap(cmap_name)\n",
    "            group_colors[group] = cmap(0.6)  # Use a specific point in the colormap\n",
    "\n",
    "    for i, task in enumerate(all_results['task'].unique()):\n",
    "        # Filter data for the current task\n",
    "        task_data = all_results[all_results['task'] == task]\n",
    "        if which_hue_cols is not None:\n",
    "            task_data = task_data[task_data[hue_col].isin(which_hue_cols)]\n",
    "\n",
    "        # Sort the data according to the custom order\n",
    "        if custom_order:\n",
    "            task_data[hue_col] = pd.Categorical(task_data[hue_col], categories=custom_order, ordered=True)\n",
    "            task_data = task_data.sort_values(hue_col)\n",
    "\n",
    "        # Create the plot with sorted bars\n",
    "        ax = axes[i] if len(all_results['task'].unique()) > 1 else axes\n",
    "        sns.barplot(ax=ax, x=x_col, y=y_col, hue=hue_col, data=task_data, palette=color_map, hue_order=custom_order)\n",
    "        ax.set_title(f'{y_col} by {hue_col} for {task}', fontsize=16)\n",
    "\n",
    "        # Adjusting the y-axis limits\n",
    "        min_y_col = task_data[y_col].min()\n",
    "        max_y_col = task_data[y_col].max()\n",
    "        padding = (max_y_col - min_y_col) * 0.1\n",
    "        ax.set_ylim(min_y_col - padding, max_y_col + padding)\n",
    "\n",
    "        ax.set_xlabel('Model', fontsize=14)\n",
    "        ax.set_ylabel(y_col, fontsize=14)\n",
    "        ax.tick_params(axis='x', rotation=45)\n",
    "\n",
    "        # Customize legend\n",
    "        handles, labels = ax.get_legend_handles_labels()\n",
    "        ax.legend(handles, labels, title='Vectorizer', bbox_to_anchor=(1.05, 1), loc='upper left', borderaxespad=0.)\n",
    "        ax.grid(alpha=0.5)\n",
    "\n",
    "    plt.tight_layout()\n",
    "    if filename:\n",
    "        plt.savefig(filename)\n",
    "    plt.show()"
   ]
  },
  {
   "cell_type": "code",
   "execution_count": 102,
   "id": "bccc2f59-f093-4ce7-99c6-3b256de34b35",
   "metadata": {
    "execution": {
     "iopub.execute_input": "2024-11-09T15:51:03.128621Z",
     "iopub.status.busy": "2024-11-09T15:51:03.128205Z",
     "iopub.status.idle": "2024-11-09T15:51:04.507620Z",
     "shell.execute_reply": "2024-11-09T15:51:04.506990Z",
     "shell.execute_reply.started": "2024-11-09T15:51:03.128590Z"
    },
    "ExecuteTime": {
     "end_time": "2024-11-17T10:59:13.143814Z",
     "start_time": "2024-11-17T10:59:12.473452Z"
    }
   },
   "outputs": [
    {
     "data": {
      "text/plain": "<Figure size 1200x600 with 1 Axes>",
      "image/png": "[encoded data removed]"
     },
     "metadata": {},
     "output_type": "display_data"
    }
   ],
   "source": [
    "base_color_by_group = {\n",
    "    'classic_text_features': \"coolwarm\",  # Red\n",
    "    'pre_trained_bert': \"viridis\",  # Green\n",
    "    'fine_tuned': \"Spectral\"  # Blue\n",
    "}\n",
    "\n",
    "color_map = generate_color_map(all_results, \"vectorizer\", \"vectorizer_type\", \"RdYlGn\", base_color_by_group)\n",
    "\n",
    "file_name = f\"{BASE_DIR}/experiments/dss/gnn/comparsion_plot_all_tasks.png\"\n",
    "file_name = None\n",
    "# hue_cols = list(all_results[all_results[\"model\"]==\"GCN\"][\"vectorizer\"].unique())+[\"trigram\"]\n",
    "hue_cols = all_results[\"vectorizer\"].unique()\n",
    "plot_obj = generate_bar_plot(all_results, \"model\", \"weighted_f1\", \"vectorizer\", \"vectorizer_type\", color_map,\n",
    "                             filename=file_name, which_hue_cols=hue_cols, base_color_by_group=base_color_by_group)"
   ]
  },
  {
   "cell_type": "code",
   "execution_count": 68,
   "id": "5ac546e1a3ebde02",
   "metadata": {
    "collapsed": false,
    "execution": {
     "iopub.execute_input": "2024-11-09T16:02:36.178781Z",
     "iopub.status.busy": "2024-11-09T16:02:36.178337Z",
     "iopub.status.idle": "2024-11-09T16:02:36.230414Z",
     "shell.execute_reply": "2024-11-09T16:02:36.229593Z",
     "shell.execute_reply.started": "2024-11-09T16:02:36.178747Z"
    },
    "ExecuteTime": {
     "end_time": "2024-11-17T09:39:14.186564Z",
     "start_time": "2024-11-17T09:39:14.153769Z"
    }
   },
   "outputs": [
    {
     "data": {
      "text/plain": "    task              vectorizer model  weighted_f1  hidden_dim    adj_type  \\\n0   book          dicta-il/BEREL   GCN     0.787517         500       tfidf   \n9   book         dicta-il/MsBERT   GCN     0.781410         500       tfidf   \n6   book      dicta-il/dictabert   GCN     0.770210         500       tfidf   \n3   book  onlplab/alephbert-base   GCN     0.753068         500       tfidf   \n11  book         dicta-il/MsBERT   GCN     0.713580         500  BOW-n_gram   \n\n    learning_rate  hidden_dim  epochs  \n0           0.001         500     500  \n9           0.001         500     500  \n6           0.001         500     500  \n3           0.001         500     500  \n11          0.001         500     500  ",
      "text/html": "<div>\n<style scoped>\n    .dataframe tbody tr th:only-of-type {\n        vertical-align: middle;\n    }\n\n    .dataframe tbody tr th {\n        vertical-align: top;\n    }\n\n    .dataframe thead th {\n        text-align: right;\n    }\n</style>\n<table border=\"1\" class=\"dataframe\">\n  <thead>\n    <tr style=\"text-align: right;\">\n      <th></th>\n      <th>task</th>\n      <th>vectorizer</th>\n      <th>model</th>\n      <th>weighted_f1</th>\n      <th>hidden_dim</th>\n      <th>adj_type</th>\n      <th>learning_rate</th>\n      <th>hidden_dim</th>\n      <th>epochs</th>\n    </tr>\n  </thead>\n  <tbody>\n    <tr>\n      <th>0</th>\n      <td>book</td>\n      <td>dicta-il/BEREL</td>\n      <td>GCN</td>\n      <td>0.787517</td>\n      <td>500</td>\n      <td>tfidf</td>\n      <td>0.001</td>\n      <td>500</td>\n      <td>500</td>\n    </tr>\n    <tr>\n      <th>9</th>\n      <td>book</td>\n      <td>dicta-il/MsBERT</td>\n      <td>GCN</td>\n      <td>0.781410</td>\n      <td>500</td>\n      <td>tfidf</td>\n      <td>0.001</td>\n      <td>500</td>\n      <td>500</td>\n    </tr>\n    <tr>\n      <th>6</th>\n      <td>book</td>\n      <td>dicta-il/dictabert</td>\n      <td>GCN</td>\n      <td>0.770210</td>\n      <td>500</td>\n      <td>tfidf</td>\n      <td>0.001</td>\n      <td>500</td>\n      <td>500</td>\n    </tr>\n    <tr>\n      <th>3</th>\n      <td>book</td>\n      <td>onlplab/alephbert-base</td>\n      <td>GCN</td>\n      <td>0.753068</td>\n      <td>500</td>\n      <td>tfidf</td>\n      <td>0.001</td>\n      <td>500</td>\n      <td>500</td>\n    </tr>\n    <tr>\n      <th>11</th>\n      <td>book</td>\n      <td>dicta-il/MsBERT</td>\n      <td>GCN</td>\n      <td>0.713580</td>\n      <td>500</td>\n      <td>BOW-n_gram</td>\n      <td>0.001</td>\n      <td>500</td>\n      <td>500</td>\n    </tr>\n  </tbody>\n</table>\n</div>"
     },
     "execution_count": 68,
     "metadata": {},
     "output_type": "execute_result"
    }
   ],
   "source": [
    "\n",
    "results_gnn = []\n",
    "for task in tasks:\n",
    "    gnn = pd.read_csv(compare_list[task][1])\n",
    "    gnn = gnn.rename(columns={\"bert_model\": \"vectorizer\"})\n",
    "\n",
    "    gnn[\"model\"] = \"GCN\"\n",
    "    gnn[\"task\"] = task\n",
    "\n",
    "    results_gnn.append(gnn.to_dict(orient=\"records\"))\n",
    "\n",
    "all_results_gnn = pd.DataFrame([item for sublist in results_gnn for item in sublist])\n",
    "COMPARISON_SCHEME = [\"task\", \"vectorizer\", \"model\", \"weighted_f1\", \"hidden_dim\", \"adj_type\", \"learning_rate\",\n",
    "                     \"hidden_dim\", \"epochs\"]\n",
    "\n",
    "MAIN_METRIC = \"weighted_f1\"\n",
    "all_results_gnn[all_results_gnn[\"model\"] == \"GCN\"].sort_values(by=MAIN_METRIC, ascending=False).groupby(\"task\").head(\n",
    "    5).sort_values(by=[\"task\", MAIN_METRIC], ascending=False)[COMPARISON_SCHEME]\n"
   ]
  },
  {
   "cell_type": "code",
   "execution_count": 11,
   "id": "db59f071-e0b5-4bfb-9848-2e75aa1a3d8a",
   "metadata": {
    "ExecuteTime": {
     "end_time": "2024-11-14T14:52:22.049529Z",
     "start_time": "2024-11-14T14:52:22.044842Z"
    }
   },
   "outputs": [],
   "source": []
  },
  {
   "cell_type": "code",
   "execution_count": null,
   "id": "f2e4f5b6-774e-423a-9796-7ef67c0555a3",
   "metadata": {},
   "outputs": [],
   "source": []
  }
 ],
 "metadata": {
  "kernelspec": {
   "display_name": "Python 3 (ipykernel)",
   "language": "python",
   "name": "python3"
  },
  "language_info": {
   "codemirror_mode": {
    "name": "ipython",
    "version": 3
   },
   "file_extension": ".py",
   "mimetype": "text/x-python",
   "name": "python",
   "nbconvert_exporter": "python",
   "pygments_lexer": "ipython3",
   "version": "3.10.0"
  }
 },
 "nbformat": 4,
 "nbformat_minor": 5
}
