{
 "cells": [
  {
   "cell_type": "code",
   "outputs": [
    {
     "data": {
      "text/plain": "<IPython.core.display.Markdown object>",
      "text/markdown": "**Locating corpus resources ...**"
     },
     "metadata": {},
     "output_type": "display_data"
    },
    {
     "data": {
      "text/plain": "<IPython.core.display.HTML object>",
      "text/html": "<b title=\"local release\">app:</b> <span title=\"rv1.8.1=#gb112c161cfd21eae403d51a2733740d8743460e7 offline under /Users/yonatanlou/text-fabric-data/github\">~/text-fabric-data/github/etcbc/bhsa/app</span>"
     },
     "metadata": {},
     "output_type": "display_data"
    },
    {
     "data": {
      "text/plain": "<IPython.core.display.HTML object>",
      "text/html": "<b title=\"local release\">data:</b> <span title=\"rv1.8.1=#gb112c161cfd21eae403d51a2733740d8743460e7 offline under /Users/yonatanlou/text-fabric-data/github\">~/text-fabric-data/github/etcbc/bhsa/tf/2021</span>"
     },
     "metadata": {},
     "output_type": "display_data"
    },
    {
     "data": {
      "text/plain": "<IPython.core.display.HTML object>",
      "text/html": "<b title=\"local release\">data:</b> <span title=\"rv2.1=#gaba4367b49750089e4e4122415a77cac43bd97bc offline under /Users/yonatanlou/text-fabric-data/github\">~/text-fabric-data/github/etcbc/phono/tf/2021</span>"
     },
     "metadata": {},
     "output_type": "display_data"
    },
    {
     "data": {
      "text/plain": "<IPython.core.display.HTML object>",
      "text/html": "<b title=\"local release\">data:</b> <span title=\"rv2.1=#gf45f6cc3c4f933dba6e649f49cdb14a40dcf333f offline under /Users/yonatanlou/text-fabric-data/github\">~/text-fabric-data/github/etcbc/parallels/tf/2021</span>"
     },
     "metadata": {},
     "output_type": "display_data"
    },
    {
     "data": {
      "text/plain": "<IPython.core.display.HTML object>",
      "text/html": "<b title=\"local release\">data:</b> <span title=\"rv1.8.1=#gb112c161cfd21eae403d51a2733740d8743460e7 offline under /Users/yonatanlou/text-fabric-data/github\">~/text-fabric-data/github/etcbc/bhsa/ner</span>"
     },
     "metadata": {},
     "output_type": "display_data"
    },
    {
     "name": "stdout",
     "output_type": "stream",
     "text": [
      "   |       51s T oslots               from ~/text-fabric-data/github/etcbc/bhsa/tf/2021\n",
      "   |     0.01s T book@fa              from ~/text-fabric-data/github/etcbc/bhsa/tf/2021\n",
      "   |     5.29s T g_word               from ~/text-fabric-data/github/etcbc/bhsa/tf/2021\n",
      "   |     0.01s T book@ko              from ~/text-fabric-data/github/etcbc/bhsa/tf/2021\n",
      "   |     4.94s T g_lex_utf8           from ~/text-fabric-data/github/etcbc/bhsa/tf/2021\n",
      "   |     0.25s T book                 from ~/text-fabric-data/github/etcbc/bhsa/tf/2021\n",
      "   |     0.00s T book@ru              from ~/text-fabric-data/github/etcbc/bhsa/tf/2021\n",
      "   |     0.00s T book@el              from ~/text-fabric-data/github/etcbc/bhsa/tf/2021\n",
      "   |     0.00s T book@pa              from ~/text-fabric-data/github/etcbc/bhsa/tf/2021\n",
      "   |     5.18s T phono                from ~/text-fabric-data/github/etcbc/phono/tf/2021\n",
      "   |     4.34s T trailer_utf8         from ~/text-fabric-data/github/etcbc/bhsa/tf/2021\n",
      "   |     4.99s T voc_lex_utf8         from ~/text-fabric-data/github/etcbc/bhsa/tf/2021\n",
      "   |     4.91s T lex                  from ~/text-fabric-data/github/etcbc/bhsa/tf/2021\n",
      "   |     0.00s T book@la              from ~/text-fabric-data/github/etcbc/bhsa/tf/2021\n",
      "   |     0.00s T book@ur              from ~/text-fabric-data/github/etcbc/bhsa/tf/2021\n",
      "   |     0.00s T book@en              from ~/text-fabric-data/github/etcbc/bhsa/tf/2021\n",
      "   |     4.71s T g_cons_utf8          from ~/text-fabric-data/github/etcbc/bhsa/tf/2021\n",
      "   |     0.00s T book@zh              from ~/text-fabric-data/github/etcbc/bhsa/tf/2021\n",
      "   |     0.00s T book@da              from ~/text-fabric-data/github/etcbc/bhsa/tf/2021\n",
      "   |     0.00s T book@yo              from ~/text-fabric-data/github/etcbc/bhsa/tf/2021\n",
      "   |     0.04s T qere_utf8            from ~/text-fabric-data/github/etcbc/bhsa/tf/2021\n",
      "   |     0.00s T book@ar              from ~/text-fabric-data/github/etcbc/bhsa/tf/2021\n",
      "   |     0.00s T book@bn              from ~/text-fabric-data/github/etcbc/bhsa/tf/2021\n",
      "   |     0.00s T book@ja              from ~/text-fabric-data/github/etcbc/bhsa/tf/2021\n",
      "   |     0.00s T book@nl              from ~/text-fabric-data/github/etcbc/bhsa/tf/2021\n",
      "   |     4.93s T g_cons               from ~/text-fabric-data/github/etcbc/bhsa/tf/2021\n",
      "   |     5.50s T g_word_utf8          from ~/text-fabric-data/github/etcbc/bhsa/tf/2021\n",
      "   |     0.00s T book@tr              from ~/text-fabric-data/github/etcbc/bhsa/tf/2021\n",
      "   |     0.00s T book@syc             from ~/text-fabric-data/github/etcbc/bhsa/tf/2021\n",
      "   |     0.00s T book@de              from ~/text-fabric-data/github/etcbc/bhsa/tf/2021\n",
      "   |     0.00s T book@fr              from ~/text-fabric-data/github/etcbc/bhsa/tf/2021\n",
      "   |     5.24s T g_lex                from ~/text-fabric-data/github/etcbc/bhsa/tf/2021\n",
      "   |     0.03s T qere_trailer         from ~/text-fabric-data/github/etcbc/bhsa/tf/2021\n",
      "   |     4.46s T trailer              from ~/text-fabric-data/github/etcbc/bhsa/tf/2021\n",
      "   |     0.24s T verse                from ~/text-fabric-data/github/etcbc/bhsa/tf/2021\n",
      "   |     0.02s T book@he              from ~/text-fabric-data/github/etcbc/bhsa/tf/2021\n",
      "   |     0.00s T book@id              from ~/text-fabric-data/github/etcbc/bhsa/tf/2021\n",
      "   |     5.05s T lex_utf8             from ~/text-fabric-data/github/etcbc/bhsa/tf/2021\n",
      "   |     0.00s T book@am              from ~/text-fabric-data/github/etcbc/bhsa/tf/2021\n",
      "   |     0.00s T book@hi              from ~/text-fabric-data/github/etcbc/bhsa/tf/2021\n",
      "   |     0.22s T chapter              from ~/text-fabric-data/github/etcbc/bhsa/tf/2021\n",
      "   |     0.03s T qere_trailer_utf8    from ~/text-fabric-data/github/etcbc/bhsa/tf/2021\n",
      "   |     4.29s T phono_trailer        from ~/text-fabric-data/github/etcbc/phono/tf/2021\n",
      "   |     0.00s T book@sw              from ~/text-fabric-data/github/etcbc/bhsa/tf/2021\n",
      "   |     0.03s T qere                 from ~/text-fabric-data/github/etcbc/bhsa/tf/2021\n",
      "   |     0.00s T book@pt              from ~/text-fabric-data/github/etcbc/bhsa/tf/2021\n",
      "   |     0.00s T book@es              from ~/text-fabric-data/github/etcbc/bhsa/tf/2021\n",
      "   |      |     1.18s C __levels__           from otype, oslots, otext\n",
      "   |      |       29s C __order__            from otype, oslots, __levels__\n",
      "   |      |     1.02s C __rank__             from otype, __order__\n",
      "   |      |    1m 22s C __levUp__            from otype, oslots, __rank__\n",
      "   |      |       52s C __levDown__          from otype, __levUp__, __rank__\n",
      "   |      |     3.68s C __characters__       from otext\n",
      "   |      |       18s C __boundary__         from otype, oslots, __rank__\n",
      "   |      |     0.41s C __sections__         from otype, oslots, otext, __levUp__, __levels__, book, chapter, verse\n",
      "   |     1.39s T code                 from ~/text-fabric-data/github/etcbc/bhsa/tf/2021\n",
      "   |     0.47s T crossref             from ~/text-fabric-data/github/etcbc/parallels/tf/2021\n",
      "   |     7.12s T det                  from ~/text-fabric-data/github/etcbc/bhsa/tf/2021\n",
      "   |     1.01s T domain               from ~/text-fabric-data/github/etcbc/bhsa/tf/2021\n",
      "   |     4.75s T freq_lex             from ~/text-fabric-data/github/etcbc/bhsa/tf/2021\n",
      "   |     2.46s T function             from ~/text-fabric-data/github/etcbc/bhsa/tf/2021\n",
      "   |     4.68s T gloss                from ~/text-fabric-data/github/etcbc/bhsa/tf/2021\n",
      "   |     4.03s T gn                   from ~/text-fabric-data/github/etcbc/bhsa/tf/2021\n",
      "   |     0.77s T label                from ~/text-fabric-data/github/etcbc/bhsa/tf/2021\n",
      "   |     4.61s T language             from ~/text-fabric-data/github/etcbc/bhsa/tf/2021\n",
      "   |     4.50s T ls                   from ~/text-fabric-data/github/etcbc/bhsa/tf/2021\n",
      "   |     3.54s T mother               from ~/text-fabric-data/github/etcbc/bhsa/tf/2021\n",
      "   |     0.50s T nametype             from ~/text-fabric-data/github/etcbc/bhsa/tf/2021\n",
      "   |     4.30s T nme                  from ~/text-fabric-data/github/etcbc/bhsa/tf/2021\n",
      "   |     4.49s T nu                   from ~/text-fabric-data/github/etcbc/bhsa/tf/2021\n",
      "   |       12s T number               from ~/text-fabric-data/github/etcbc/bhsa/tf/2021\n",
      "   |     1.02s T pargr                from ~/text-fabric-data/github/etcbc/bhsa/tf/2021\n",
      "   |     4.54s T pdp                  from ~/text-fabric-data/github/etcbc/bhsa/tf/2021\n",
      "   |     4.62s T pfm                  from ~/text-fabric-data/github/etcbc/bhsa/tf/2021\n",
      "   |     4.74s T prs                  from ~/text-fabric-data/github/etcbc/bhsa/tf/2021\n",
      "   |     4.84s T prs_gn               from ~/text-fabric-data/github/etcbc/bhsa/tf/2021\n",
      "   |     4.94s T prs_nu               from ~/text-fabric-data/github/etcbc/bhsa/tf/2021\n",
      "   |     4.31s T prs_ps               from ~/text-fabric-data/github/etcbc/bhsa/tf/2021\n",
      "   |     4.41s T ps                   from ~/text-fabric-data/github/etcbc/bhsa/tf/2021\n",
      "   |     3.94s T rank_lex             from ~/text-fabric-data/github/etcbc/bhsa/tf/2021\n",
      "   |     7.58s T rela                 from ~/text-fabric-data/github/etcbc/bhsa/tf/2021\n",
      "   |     4.79s T sp                   from ~/text-fabric-data/github/etcbc/bhsa/tf/2021\n",
      "   |     4.66s T st                   from ~/text-fabric-data/github/etcbc/bhsa/tf/2021\n",
      "   |     0.85s T tab                  from ~/text-fabric-data/github/etcbc/bhsa/tf/2021\n",
      "   |     0.98s T txt                  from ~/text-fabric-data/github/etcbc/bhsa/tf/2021\n",
      "   |     8.50s T typ                  from ~/text-fabric-data/github/etcbc/bhsa/tf/2021\n",
      "   |     4.41s T uvf                  from ~/text-fabric-data/github/etcbc/bhsa/tf/2021\n",
      "   |     4.42s T vbe                  from ~/text-fabric-data/github/etcbc/bhsa/tf/2021\n",
      "   |     4.66s T vbs                  from ~/text-fabric-data/github/etcbc/bhsa/tf/2021\n",
      "   |     5.20s T voc_lex              from ~/text-fabric-data/github/etcbc/bhsa/tf/2021\n",
      "   |     4.53s T vs                   from ~/text-fabric-data/github/etcbc/bhsa/tf/2021\n",
      "   |     4.97s T vt                   from ~/text-fabric-data/github/etcbc/bhsa/tf/2021\n"
     ]
    },
    {
     "data": {
      "text/plain": "<IPython.core.display.HTML object>",
      "text/html": "\n            <b>TF:</b> <a target=\"_blank\" href=\"https://annotation.github.io/text-fabric/tf/cheatsheet.html\" title=\"text-fabric api\">TF API 12.3.5</a>, <a target=\"_blank\" href=\"https://github.com/etcbc/bhsa/blob/master/app\" title=\"etcbc/bhsa app\">etcbc/bhsa/app  v3</a>, <a target=\"_blank\" href=\"https://annotation.github.io/text-fabric/tf/about/searchusage.html\" title=\"Search Templates Introduction and Reference\">Search Reference</a><br>\n            <b>Data:</b> <a target=\"_blank\" href=\"https://etcbc.github.io/bhsa/\" title=\"provenance of BHSA = Biblia Hebraica Stuttgartensia Amstelodamensis\">etcbc - bhsa 2021</a>, <a target=\"_blank\" href=\"https://annotation.github.io/text-fabric/tf/writing/hebrew.html\" title=\"How TF features represent text\">Character table</a>, <a target=\"_blank\" href=\"https://etcbc.github.io/bhsa/features/0_home\" title=\"etcbc - bhsa feature documentation\">Feature docs</a><br>\n            <details class=\"nodeinfo\"><summary><b>Node types</b></summary>\n<table class=\"nodeinfo\">\n    <tr>\n        <th>Name</th>\n        <th># of nodes</th>\n        <th># slots / node</th>\n        <th>% coverage</th>\n    </tr>\n\n<tr>\n    <th>book</th>\n    <td>39</td>\n    <td>10938.21</td>\n    <td><b>100</b></td>\n</tr>\n\n<tr>\n    <th>chapter</th>\n    <td>929</td>\n    <td>459.19</td>\n    <td><b>100</b></td>\n</tr>\n\n<tr>\n    <th>lex</th>\n    <td>9230</td>\n    <td>46.22</td>\n    <td><b>100</b></td>\n</tr>\n\n<tr>\n    <th>verse</th>\n    <td>23213</td>\n    <td>18.38</td>\n    <td><b>100</b></td>\n</tr>\n\n<tr>\n    <th>half_verse</th>\n    <td>45179</td>\n    <td>9.44</td>\n    <td><b>100</b></td>\n</tr>\n\n<tr>\n    <th>sentence</th>\n    <td>63717</td>\n    <td>6.70</td>\n    <td><b>100</b></td>\n</tr>\n\n<tr>\n    <th>sentence_atom</th>\n    <td>64514</td>\n    <td>6.61</td>\n    <td><b>100</b></td>\n</tr>\n\n<tr>\n    <th>clause</th>\n    <td>88131</td>\n    <td>4.84</td>\n    <td><b>100</b></td>\n</tr>\n\n<tr>\n    <th>clause_atom</th>\n    <td>90704</td>\n    <td>4.70</td>\n    <td><b>100</b></td>\n</tr>\n\n<tr>\n    <th>phrase</th>\n    <td>253203</td>\n    <td>1.68</td>\n    <td><b>100</b></td>\n</tr>\n\n<tr>\n    <th>phrase_atom</th>\n    <td>267532</td>\n    <td>1.59</td>\n    <td><b>100</b></td>\n</tr>\n\n<tr>\n    <th>subphrase</th>\n    <td>113850</td>\n    <td>1.42</td>\n    <td>38</td>\n</tr>\n\n<tr>\n    <th><i>word</i></th>\n    <td>426590</td>\n    <td>1.00</td>\n    <td><b>100</b></td>\n</tr>\n</table></details>\n            <b>Sets:</b> no custom sets<br>\n            <b>Features:</b><br>\n<details><summary><b>Parallel Passages</b></summary>\n    <div class=\"fcorpus\">\n\n<div class=\"frow\">\n    <div class=\"fnamecat edge\">\n<a target=\"_blank\" href=\"https://nbviewer.jupyter.org/github/etcbc/parallels/blob/master/programs/parallels.ipynb\" title=\"~/text-fabric-data/github/etcbc/parallels/tf/2021/crossref.tf\">crossref</a>\n</div>\n<div class=\"fmono\">int</div>\n\n<span> 🆗 links between similar passages</span>\n\n</div>\n\n    </div>\n</details>\n\n<details><summary><b>BHSA = Biblia Hebraica Stuttgartensia Amstelodamensis</b></summary>\n    <div class=\"fcorpus\">\n\n<div class=\"frow\">\n    <div class=\"fnamecat \">\n<a target=\"_blank\" href=\"https://etcbc.github.io/bhsa/features/book\" title=\"~/text-fabric-data/github/etcbc/bhsa/tf/2021/book.tf\">book</a>\n</div>\n<div class=\"fmono\">str</div>\n\n<span> ✅ book name in Latin (Genesis; Numeri; Reges1; ...)</span>\n\n</div>\n\n<div class=\"frow\">\n    <div class=\"fnamecat \">\n<a target=\"_blank\" href=\"https://etcbc.github.io/bhsa/features/book@ll\" title=\"~/text-fabric-data/github/etcbc/bhsa/tf/2021/book@am.tf\">book@ll</a>\n</div>\n<div class=\"fmono\">str</div>\n\n<span> ✅ book name in amharic (ኣማርኛ)</span>\n\n</div>\n\n<div class=\"frow\">\n    <div class=\"fnamecat \">\n<a target=\"_blank\" href=\"https://etcbc.github.io/bhsa/features/chapter\" title=\"~/text-fabric-data/github/etcbc/bhsa/tf/2021/chapter.tf\">chapter</a>\n</div>\n<div class=\"fmono\">int</div>\n\n<span> ✅ chapter number (1; 2; 3; ...)</span>\n\n</div>\n\n<div class=\"frow\">\n    <div class=\"fnamecat \">\n<a target=\"_blank\" href=\"https://etcbc.github.io/bhsa/features/code\" title=\"~/text-fabric-data/github/etcbc/bhsa/tf/2021/code.tf\">code</a>\n</div>\n<div class=\"fmono\">int</div>\n\n<span> ✅ identifier of a clause atom relationship (0; 74; 367; ...)</span>\n\n</div>\n\n<div class=\"frow\">\n    <div class=\"fnamecat \">\n<a target=\"_blank\" href=\"https://etcbc.github.io/bhsa/features/det\" title=\"~/text-fabric-data/github/etcbc/bhsa/tf/2021/det.tf\">det</a>\n</div>\n<div class=\"fmono\">str</div>\n\n<span> ✅ determinedness of phrase(atom) (det; und; NA.)</span>\n\n</div>\n\n<div class=\"frow\">\n    <div class=\"fnamecat \">\n<a target=\"_blank\" href=\"https://etcbc.github.io/bhsa/features/domain\" title=\"~/text-fabric-data/github/etcbc/bhsa/tf/2021/domain.tf\">domain</a>\n</div>\n<div class=\"fmono\">str</div>\n\n<span> ✅ text type of clause (? (Unknown); N (narrative); D (discursive); Q (Quotation).)</span>\n\n</div>\n\n<div class=\"frow\">\n    <div class=\"fnamecat \">\n<a target=\"_blank\" href=\"https://etcbc.github.io/bhsa/features/freq_lex\" title=\"~/text-fabric-data/github/etcbc/bhsa/tf/2021/freq_lex.tf\">freq_lex</a>\n</div>\n<div class=\"fmono\">int</div>\n\n<span> ✅ frequency of lexemes</span>\n\n</div>\n\n<div class=\"frow\">\n    <div class=\"fnamecat \">\n<a target=\"_blank\" href=\"https://etcbc.github.io/bhsa/features/function\" title=\"~/text-fabric-data/github/etcbc/bhsa/tf/2021/function.tf\">function</a>\n</div>\n<div class=\"fmono\">str</div>\n\n<span> ✅ syntactic function of phrase (Cmpl; Objc; Pred; ...)</span>\n\n</div>\n\n<div class=\"frow\">\n    <div class=\"fnamecat \">\n<a target=\"_blank\" href=\"https://etcbc.github.io/bhsa/features/g_cons\" title=\"~/text-fabric-data/github/etcbc/bhsa/tf/2021/g_cons.tf\">g_cons</a>\n</div>\n<div class=\"fmono\">str</div>\n\n<span> ✅ word consonantal-transliterated (B R>CJT BR> >LHJM ...)</span>\n\n</div>\n\n<div class=\"frow\">\n    <div class=\"fnamecat \">\n<a target=\"_blank\" href=\"https://etcbc.github.io/bhsa/features/g_cons_utf8\" title=\"~/text-fabric-data/github/etcbc/bhsa/tf/2021/g_cons_utf8.tf\">g_cons_utf8</a>\n</div>\n<div class=\"fmono\">str</div>\n\n<span> ✅ word consonantal-Hebrew (ב ראשׁית ברא אלהים)</span>\n\n</div>\n\n<div class=\"frow\">\n    <div class=\"fnamecat \">\n<a target=\"_blank\" href=\"https://etcbc.github.io/bhsa/features/g_lex\" title=\"~/text-fabric-data/github/etcbc/bhsa/tf/2021/g_lex.tf\">g_lex</a>\n</div>\n<div class=\"fmono\">str</div>\n\n<span> ✅ lexeme pointed-transliterated (B.:- R;>CIJT B.@R@> >:ELOH ...)</span>\n\n</div>\n\n<div class=\"frow\">\n    <div class=\"fnamecat \">\n<a target=\"_blank\" href=\"https://etcbc.github.io/bhsa/features/g_lex_utf8\" title=\"~/text-fabric-data/github/etcbc/bhsa/tf/2021/g_lex_utf8.tf\">g_lex_utf8</a>\n</div>\n<div class=\"fmono\">str</div>\n\n<span> ✅ lexeme pointed-Hebrew (בְּ רֵאשִׁית בָּרָא אֱלֹה)</span>\n\n</div>\n\n<div class=\"frow\">\n    <div class=\"fnamecat \">\n<a target=\"_blank\" href=\"https://etcbc.github.io/bhsa/features/g_word\" title=\"~/text-fabric-data/github/etcbc/bhsa/tf/2021/g_word.tf\">g_word</a>\n</div>\n<div class=\"fmono\">str</div>\n\n<span> ✅ word pointed-transliterated (B.:- R;>CI73JT B.@R@74> >:ELOHI92JM)</span>\n\n</div>\n\n<div class=\"frow\">\n    <div class=\"fnamecat \">\n<a target=\"_blank\" href=\"https://etcbc.github.io/bhsa/features/g_word_utf8\" title=\"~/text-fabric-data/github/etcbc/bhsa/tf/2021/g_word_utf8.tf\">g_word_utf8</a>\n</div>\n<div class=\"fmono\">str</div>\n\n<span> ✅ word pointed-Hebrew (בְּ רֵאשִׁ֖ית בָּרָ֣א אֱלֹהִ֑ים)</span>\n\n</div>\n\n<div class=\"frow\">\n    <div class=\"fnamecat \">\n<a target=\"_blank\" href=\"https://etcbc.github.io/bhsa/features/gloss\" title=\"~/text-fabric-data/github/etcbc/bhsa/tf/2021/gloss.tf\">gloss</a>\n</div>\n<div class=\"fmono\">str</div>\n\n<span> 🆗 english translation of lexeme (beginning create god(s))</span>\n\n</div>\n\n<div class=\"frow\">\n    <div class=\"fnamecat \">\n<a target=\"_blank\" href=\"https://etcbc.github.io/bhsa/features/gn\" title=\"~/text-fabric-data/github/etcbc/bhsa/tf/2021/gn.tf\">gn</a>\n</div>\n<div class=\"fmono\">str</div>\n\n<span> ✅ grammatical gender (m; f; NA; unknown.)</span>\n\n</div>\n\n<div class=\"frow\">\n    <div class=\"fnamecat \">\n<a target=\"_blank\" href=\"https://etcbc.github.io/bhsa/features/label\" title=\"~/text-fabric-data/github/etcbc/bhsa/tf/2021/label.tf\">label</a>\n</div>\n<div class=\"fmono\">str</div>\n\n<span> ✅ (half-)verse label (half verses: A; B; C; verses:  GEN 01,02)</span>\n\n</div>\n\n<div class=\"frow\">\n    <div class=\"fnamecat \">\n<a target=\"_blank\" href=\"https://etcbc.github.io/bhsa/features/language\" title=\"~/text-fabric-data/github/etcbc/bhsa/tf/2021/language.tf\">language</a>\n</div>\n<div class=\"fmono\">str</div>\n\n<span> ✅ of word or lexeme (Hebrew; Aramaic.)</span>\n\n</div>\n\n<div class=\"frow\">\n    <div class=\"fnamecat \">\n<a target=\"_blank\" href=\"https://etcbc.github.io/bhsa/features/lex\" title=\"~/text-fabric-data/github/etcbc/bhsa/tf/2021/lex.tf\">lex</a>\n</div>\n<div class=\"fmono\">str</div>\n\n<span> ✅ lexeme consonantal-transliterated (B R>CJT/ BR>[ >LHJM/)</span>\n\n</div>\n\n<div class=\"frow\">\n    <div class=\"fnamecat \">\n<a target=\"_blank\" href=\"https://etcbc.github.io/bhsa/features/lex_utf8\" title=\"~/text-fabric-data/github/etcbc/bhsa/tf/2021/lex_utf8.tf\">lex_utf8</a>\n</div>\n<div class=\"fmono\">str</div>\n\n<span> ✅ lexeme consonantal-Hebrew (ב ראשׁית֜ ברא אלהים֜)</span>\n\n</div>\n\n<div class=\"frow\">\n    <div class=\"fnamecat \">\n<a target=\"_blank\" href=\"https://etcbc.github.io/bhsa/features/ls\" title=\"~/text-fabric-data/github/etcbc/bhsa/tf/2021/ls.tf\">ls</a>\n</div>\n<div class=\"fmono\">str</div>\n\n<span> ✅ lexical set, subclassification of part-of-speech (card; ques; mult)</span>\n\n</div>\n\n<div class=\"frow\">\n    <div class=\"fnamecat \">\n<a target=\"_blank\" href=\"https://etcbc.github.io/bhsa/features/nametype\" title=\"~/text-fabric-data/github/etcbc/bhsa/tf/2021/nametype.tf\">nametype</a>\n</div>\n<div class=\"fmono\">str</div>\n\n<span> ⚠️ named entity type (pers; mens; gens; topo; ppde.)</span>\n\n</div>\n\n<div class=\"frow\">\n    <div class=\"fnamecat \">\n<a target=\"_blank\" href=\"https://etcbc.github.io/bhsa/features/nme\" title=\"~/text-fabric-data/github/etcbc/bhsa/tf/2021/nme.tf\">nme</a>\n</div>\n<div class=\"fmono\">str</div>\n\n<span> ✅ nominal ending consonantal-transliterated (absent; n/a; JM, ...)</span>\n\n</div>\n\n<div class=\"frow\">\n    <div class=\"fnamecat \">\n<a target=\"_blank\" href=\"https://etcbc.github.io/bhsa/features/nu\" title=\"~/text-fabric-data/github/etcbc/bhsa/tf/2021/nu.tf\">nu</a>\n</div>\n<div class=\"fmono\">str</div>\n\n<span> ✅ grammatical number (sg; du; pl; NA; unknown.)</span>\n\n</div>\n\n<div class=\"frow\">\n    <div class=\"fnamecat \">\n<a target=\"_blank\" href=\"https://etcbc.github.io/bhsa/features/number\" title=\"~/text-fabric-data/github/etcbc/bhsa/tf/2021/number.tf\">number</a>\n</div>\n<div class=\"fmono\">int</div>\n\n<span> ✅ sequence number of an object within its context</span>\n\n</div>\n\n<div class=\"frow\">\n    <div class=\"fnamecat \">\n<a target=\"_blank\" href=\"https://etcbc.github.io/bhsa/features/otype\" title=\"~/text-fabric-data/github/etcbc/bhsa/tf/2021/otype.tf\">otype</a>\n</div>\n<div class=\"fmono\">str</div>\n\n<span> </span>\n\n</div>\n\n<div class=\"frow\">\n    <div class=\"fnamecat \">\n<a target=\"_blank\" href=\"https://etcbc.github.io/bhsa/features/pargr\" title=\"~/text-fabric-data/github/etcbc/bhsa/tf/2021/pargr.tf\">pargr</a>\n</div>\n<div class=\"fmono\">str</div>\n\n<span> 🆗 hierarchical paragraph number (1; 1.2; 1.2.3.4; ...)</span>\n\n</div>\n\n<div class=\"frow\">\n    <div class=\"fnamecat \">\n<a target=\"_blank\" href=\"https://etcbc.github.io/bhsa/features/pdp\" title=\"~/text-fabric-data/github/etcbc/bhsa/tf/2021/pdp.tf\">pdp</a>\n</div>\n<div class=\"fmono\">str</div>\n\n<span> ✅ phrase dependent part-of-speech (art; verb; subs; nmpr, ...)</span>\n\n</div>\n\n<div class=\"frow\">\n    <div class=\"fnamecat \">\n<a target=\"_blank\" href=\"https://etcbc.github.io/bhsa/features/pfm\" title=\"~/text-fabric-data/github/etcbc/bhsa/tf/2021/pfm.tf\">pfm</a>\n</div>\n<div class=\"fmono\">str</div>\n\n<span> ✅ preformative consonantal-transliterated (absent; n/a; J, ...)</span>\n\n</div>\n\n<div class=\"frow\">\n    <div class=\"fnamecat \">\n<a target=\"_blank\" href=\"https://etcbc.github.io/bhsa/features/prs\" title=\"~/text-fabric-data/github/etcbc/bhsa/tf/2021/prs.tf\">prs</a>\n</div>\n<div class=\"fmono\">str</div>\n\n<span> ✅ pronominal suffix consonantal-transliterated (absent; n/a; W; ...)</span>\n\n</div>\n\n<div class=\"frow\">\n    <div class=\"fnamecat \">\n<a target=\"_blank\" href=\"https://etcbc.github.io/bhsa/features/prs_gn\" title=\"~/text-fabric-data/github/etcbc/bhsa/tf/2021/prs_gn.tf\">prs_gn</a>\n</div>\n<div class=\"fmono\">str</div>\n\n<span> ✅ pronominal suffix gender (m; f; NA; unknown.)</span>\n\n</div>\n\n<div class=\"frow\">\n    <div class=\"fnamecat \">\n<a target=\"_blank\" href=\"https://etcbc.github.io/bhsa/features/prs_nu\" title=\"~/text-fabric-data/github/etcbc/bhsa/tf/2021/prs_nu.tf\">prs_nu</a>\n</div>\n<div class=\"fmono\">str</div>\n\n<span> ✅ pronominal suffix number (sg; du; pl; NA; unknown.)</span>\n\n</div>\n\n<div class=\"frow\">\n    <div class=\"fnamecat \">\n<a target=\"_blank\" href=\"https://etcbc.github.io/bhsa/features/prs_ps\" title=\"~/text-fabric-data/github/etcbc/bhsa/tf/2021/prs_ps.tf\">prs_ps</a>\n</div>\n<div class=\"fmono\">str</div>\n\n<span> ✅ pronominal suffix person (p1; p2; p3; NA; unknown.)</span>\n\n</div>\n\n<div class=\"frow\">\n    <div class=\"fnamecat \">\n<a target=\"_blank\" href=\"https://etcbc.github.io/bhsa/features/ps\" title=\"~/text-fabric-data/github/etcbc/bhsa/tf/2021/ps.tf\">ps</a>\n</div>\n<div class=\"fmono\">str</div>\n\n<span> ✅ grammatical person (p1; p2; p3; NA; unknown.)</span>\n\n</div>\n\n<div class=\"frow\">\n    <div class=\"fnamecat \">\n<a target=\"_blank\" href=\"https://etcbc.github.io/bhsa/features/qere\" title=\"~/text-fabric-data/github/etcbc/bhsa/tf/2021/qere.tf\">qere</a>\n</div>\n<div class=\"fmono\">str</div>\n\n<span> ✅ word pointed-transliterated masoretic reading correction</span>\n\n</div>\n\n<div class=\"frow\">\n    <div class=\"fnamecat \">\n<a target=\"_blank\" href=\"https://etcbc.github.io/bhsa/features/qere_trailer\" title=\"~/text-fabric-data/github/etcbc/bhsa/tf/2021/qere_trailer.tf\">qere_trailer</a>\n</div>\n<div class=\"fmono\">str</div>\n\n<span> ✅ interword material -pointed-transliterated (Masoretic correction)</span>\n\n</div>\n\n<div class=\"frow\">\n    <div class=\"fnamecat \">\n<a target=\"_blank\" href=\"https://etcbc.github.io/bhsa/features/qere_trailer_utf8\" title=\"~/text-fabric-data/github/etcbc/bhsa/tf/2021/qere_trailer_utf8.tf\">qere_trailer_utf8</a>\n</div>\n<div class=\"fmono\">str</div>\n\n<span> ✅ interword material -pointed-transliterated (Masoretic correction)</span>\n\n</div>\n\n<div class=\"frow\">\n    <div class=\"fnamecat \">\n<a target=\"_blank\" href=\"https://etcbc.github.io/bhsa/features/qere_utf8\" title=\"~/text-fabric-data/github/etcbc/bhsa/tf/2021/qere_utf8.tf\">qere_utf8</a>\n</div>\n<div class=\"fmono\">str</div>\n\n<span> ✅ word pointed-Hebrew masoretic reading correction</span>\n\n</div>\n\n<div class=\"frow\">\n    <div class=\"fnamecat \">\n<a target=\"_blank\" href=\"https://etcbc.github.io/bhsa/features/rank_lex\" title=\"~/text-fabric-data/github/etcbc/bhsa/tf/2021/rank_lex.tf\">rank_lex</a>\n</div>\n<div class=\"fmono\">int</div>\n\n<span> ✅ ranking of lexemes based on freqnuecy</span>\n\n</div>\n\n<div class=\"frow\">\n    <div class=\"fnamecat \">\n<a target=\"_blank\" href=\"https://etcbc.github.io/bhsa/features/rela\" title=\"~/text-fabric-data/github/etcbc/bhsa/tf/2021/rela.tf\">rela</a>\n</div>\n<div class=\"fmono\">str</div>\n\n<span> ✅ linguistic relation between clause/(sub)phrase(atom) (ADJ; MOD; ATR; ...)</span>\n\n</div>\n\n<div class=\"frow\">\n    <div class=\"fnamecat \">\n<a target=\"_blank\" href=\"https://etcbc.github.io/bhsa/features/sp\" title=\"~/text-fabric-data/github/etcbc/bhsa/tf/2021/sp.tf\">sp</a>\n</div>\n<div class=\"fmono\">str</div>\n\n<span> ✅ part-of-speech (art; verb; subs; nmpr, ...)</span>\n\n</div>\n\n<div class=\"frow\">\n    <div class=\"fnamecat \">\n<a target=\"_blank\" href=\"https://etcbc.github.io/bhsa/features/st\" title=\"~/text-fabric-data/github/etcbc/bhsa/tf/2021/st.tf\">st</a>\n</div>\n<div class=\"fmono\">str</div>\n\n<span> ✅ state of a noun (a (absolute); c (construct); e (emphatic).)</span>\n\n</div>\n\n<div class=\"frow\">\n    <div class=\"fnamecat \">\n<a target=\"_blank\" href=\"https://etcbc.github.io/bhsa/features/tab\" title=\"~/text-fabric-data/github/etcbc/bhsa/tf/2021/tab.tf\">tab</a>\n</div>\n<div class=\"fmono\">int</div>\n\n<span> ✅ clause atom: its level in the linguistic embedding</span>\n\n</div>\n\n<div class=\"frow\">\n    <div class=\"fnamecat \">\n<a target=\"_blank\" href=\"https://etcbc.github.io/bhsa/features/trailer\" title=\"~/text-fabric-data/github/etcbc/bhsa/tf/2021/trailer.tf\">trailer</a>\n</div>\n<div class=\"fmono\">str</div>\n\n<span> ✅ interword material pointed-transliterated (& 00 05 00_P ...)</span>\n\n</div>\n\n<div class=\"frow\">\n    <div class=\"fnamecat \">\n<a target=\"_blank\" href=\"https://etcbc.github.io/bhsa/features/trailer_utf8\" title=\"~/text-fabric-data/github/etcbc/bhsa/tf/2021/trailer_utf8.tf\">trailer_utf8</a>\n</div>\n<div class=\"fmono\">str</div>\n\n<span> ✅ interword material pointed-Hebrew (־ ׃)</span>\n\n</div>\n\n<div class=\"frow\">\n    <div class=\"fnamecat \">\n<a target=\"_blank\" href=\"https://etcbc.github.io/bhsa/features/txt\" title=\"~/text-fabric-data/github/etcbc/bhsa/tf/2021/txt.tf\">txt</a>\n</div>\n<div class=\"fmono\">str</div>\n\n<span> ✅ text type of clause and surrounding (repetion of ? N D Q as in feature domain)</span>\n\n</div>\n\n<div class=\"frow\">\n    <div class=\"fnamecat \">\n<a target=\"_blank\" href=\"https://etcbc.github.io/bhsa/features/typ\" title=\"~/text-fabric-data/github/etcbc/bhsa/tf/2021/typ.tf\">typ</a>\n</div>\n<div class=\"fmono\">str</div>\n\n<span> ✅ clause/phrase(atom) type (VP; NP; Ellp; Ptcp; WayX)</span>\n\n</div>\n\n<div class=\"frow\">\n    <div class=\"fnamecat \">\n<a target=\"_blank\" href=\"https://etcbc.github.io/bhsa/features/uvf\" title=\"~/text-fabric-data/github/etcbc/bhsa/tf/2021/uvf.tf\">uvf</a>\n</div>\n<div class=\"fmono\">str</div>\n\n<span> ✅ univalent final consonant consonantal-transliterated (absent; N; J; ...)</span>\n\n</div>\n\n<div class=\"frow\">\n    <div class=\"fnamecat \">\n<a target=\"_blank\" href=\"https://etcbc.github.io/bhsa/features/vbe\" title=\"~/text-fabric-data/github/etcbc/bhsa/tf/2021/vbe.tf\">vbe</a>\n</div>\n<div class=\"fmono\">str</div>\n\n<span> ✅ verbal ending consonantal-transliterated (n/a; W; ...)</span>\n\n</div>\n\n<div class=\"frow\">\n    <div class=\"fnamecat \">\n<a target=\"_blank\" href=\"https://etcbc.github.io/bhsa/features/vbs\" title=\"~/text-fabric-data/github/etcbc/bhsa/tf/2021/vbs.tf\">vbs</a>\n</div>\n<div class=\"fmono\">str</div>\n\n<span> ✅ root formation consonantal-transliterated (absent; n/a; H; ...)</span>\n\n</div>\n\n<div class=\"frow\">\n    <div class=\"fnamecat \">\n<a target=\"_blank\" href=\"https://etcbc.github.io/bhsa/features/verse\" title=\"~/text-fabric-data/github/etcbc/bhsa/tf/2021/verse.tf\">verse</a>\n</div>\n<div class=\"fmono\">int</div>\n\n<span> ✅ verse number</span>\n\n</div>\n\n<div class=\"frow\">\n    <div class=\"fnamecat \">\n<a target=\"_blank\" href=\"https://etcbc.github.io/bhsa/features/voc_lex\" title=\"~/text-fabric-data/github/etcbc/bhsa/tf/2021/voc_lex.tf\">voc_lex</a>\n</div>\n<div class=\"fmono\">str</div>\n\n<span> ✅ vocalized lexeme pointed-transliterated (B.: R;>CIJT BR> >:ELOHIJM)</span>\n\n</div>\n\n<div class=\"frow\">\n    <div class=\"fnamecat \">\n<a target=\"_blank\" href=\"https://etcbc.github.io/bhsa/features/voc_lex_utf8\" title=\"~/text-fabric-data/github/etcbc/bhsa/tf/2021/voc_lex_utf8.tf\">voc_lex_utf8</a>\n</div>\n<div class=\"fmono\">str</div>\n\n<span> ✅ vocalized lexeme pointed-Hebrew (בְּ רֵאשִׁית ברא אֱלֹהִים)</span>\n\n</div>\n\n<div class=\"frow\">\n    <div class=\"fnamecat \">\n<a target=\"_blank\" href=\"https://etcbc.github.io/bhsa/features/vs\" title=\"~/text-fabric-data/github/etcbc/bhsa/tf/2021/vs.tf\">vs</a>\n</div>\n<div class=\"fmono\">str</div>\n\n<span> ✅ verbal stem (qal; piel; hif; apel; pael)</span>\n\n</div>\n\n<div class=\"frow\">\n    <div class=\"fnamecat \">\n<a target=\"_blank\" href=\"https://etcbc.github.io/bhsa/features/vt\" title=\"~/text-fabric-data/github/etcbc/bhsa/tf/2021/vt.tf\">vt</a>\n</div>\n<div class=\"fmono\">str</div>\n\n<span> ✅ verbal tense (perf; impv; wayq; infc)</span>\n\n</div>\n\n<div class=\"frow\">\n    <div class=\"fnamecat edge\">\n<a target=\"_blank\" href=\"https://etcbc.github.io/bhsa/features/mother\" title=\"~/text-fabric-data/github/etcbc/bhsa/tf/2021/mother.tf\">mother</a>\n</div>\n<div class=\"fmono\">none</div>\n\n<span> ✅ linguistic dependency between textual objects</span>\n\n</div>\n\n<div class=\"frow\">\n    <div class=\"fnamecat edge\">\n<a target=\"_blank\" href=\"https://etcbc.github.io/bhsa/features/oslots\" title=\"~/text-fabric-data/github/etcbc/bhsa/tf/2021/oslots.tf\">oslots</a>\n</div>\n<div class=\"fmono\">none</div>\n\n<span> </span>\n\n</div>\n\n    </div>\n</details>\n\n<details><summary><b>Phonetic Transcriptions</b></summary>\n    <div class=\"fcorpus\">\n\n<div class=\"frow\">\n    <div class=\"fnamecat \">\n<a target=\"_blank\" href=\"https://nbviewer.jupyter.org/github/etcbc/phono/blob/master/programs/phono.ipynb\" title=\"~/text-fabric-data/github/etcbc/phono/tf/2021/phono.tf\">phono</a>\n</div>\n<div class=\"fmono\">str</div>\n\n<span> 🆗 phonological transcription (bᵊ rēšˌîṯ bārˈā ʔᵉlōhˈîm)</span>\n\n</div>\n\n<div class=\"frow\">\n    <div class=\"fnamecat \">\n<a target=\"_blank\" href=\"https://nbviewer.jupyter.org/github/etcbc/phono/blob/master/programs/phono.ipynb\" title=\"~/text-fabric-data/github/etcbc/phono/tf/2021/phono_trailer.tf\">phono_trailer</a>\n</div>\n<div class=\"fmono\">str</div>\n\n<span> 🆗 interword material in phonological transcription</span>\n\n</div>\n\n    </div>\n</details>\n\n            <b>Settings:</b><br><details ><summary><b>specified</b></summary><ol><li><b>apiVersion</b>: <code>3</code></li><li><b>appName</b>: <code>etcbc/bhsa</code></li><li><b>appPath</b>: <code>/Users/yonatanlou/text-fabric-data/github/etcbc/bhsa/app</code></li><li><b>commit</b>: <code>gb112c161cfd21eae403d51a2733740d8743460e7</code></li><li><b>css</b>: <code>''</code></li><li><details><summary><b>dataDisplay</b>:</summary><ul><li><details><summary><b>exampleSectionHtml</b>:</summary><code>&lt;code&gt;Genesis 1:1&lt;/code&gt; (use &lt;a href=\"https://github.com/{org}/{repo}/blob/master/tf/{version}/book%40en.tf\" target=\"_blank\"&gt;English book names&lt;/a&gt;)</code></details></li><li><details><summary><b>excludedFeatures</b>:</summary><ul><li><code>g_uvf_utf8</code></li><li><code>g_vbs</code></li><li><code>kq_hybrid</code></li><li><code>languageISO</code></li><li><code>g_nme</code></li><li><code>lex0</code></li><li><code>is_root</code></li><li><code>g_vbs_utf8</code></li><li><code>g_uvf</code></li><li><code>dist</code></li><li><code>root</code></li><li><code>suffix_person</code></li><li><code>g_vbe</code></li><li><code>dist_unit</code></li><li><code>suffix_number</code></li><li><code>distributional_parent</code></li><li><code>kq_hybrid_utf8</code></li><li><code>crossrefSET</code></li><li><code>instruction</code></li><li><code>g_prs</code></li><li><code>lexeme_count</code></li><li><code>rank_occ</code></li><li><code>g_pfm_utf8</code></li><li><code>freq_occ</code></li><li><code>crossrefLCS</code></li><li><code>functional_parent</code></li><li><code>g_pfm</code></li><li><code>g_nme_utf8</code></li><li><code>g_vbe_utf8</code></li><li><code>kind</code></li><li><code>g_prs_utf8</code></li><li><code>suffix_gender</code></li><li><code>mother_object_type</code></li></ul></details></li><li><details><summary><b>noneValues</b>:</summary><ul><li><code>absent</code></li><li><code>n/a</code></li><li><code>none</code></li><li><code>unknown</code></li><li><i>no value</i></li><li><code>NA</code></li></ul></details></li></ul></details></li><li><details><summary><b>docs</b>:</summary><ul><li><b>docBase</b>: <code>{docRoot}/{repo}</code></li><li><b>docExt</b>: <code>''</code></li><li><b>docPage</b>: <code>''</code></li><li><b>docRoot</b>: <code>https://{org}.github.io</code></li><li><b>featurePage</b>: <code>0_home</code></li></ul></details></li><li><b>interfaceDefaults</b>: <code>{}</code></li><li><b>isCompatible</b>: <code>True</code></li><li><b>local</b>: <code>local</code></li><li><b>localDir</b>: <code>/Users/yonatanlou/text-fabric-data/github/etcbc/bhsa/_temp</code></li><li><details><summary><b>provenanceSpec</b>:</summary><ul><li><b>corpus</b>: <code>BHSA = Biblia Hebraica Stuttgartensia Amstelodamensis</code></li><li><b>doi</b>: <code>10.5281/zenodo.1007624</code></li><li><b>extraData</b>: <code>ner</code></li><li><details><summary><b>moduleSpecs</b>:</summary><ul><li><details><summary>:</summary><ul><li><b>backend</b>: <i>no value</i></li><li><b>corpus</b>: <code>Phonetic Transcriptions</code></li><li><details><summary><b>docUrl</b>:</summary><code>https://nbviewer.jupyter.org/github/etcbc/phono/blob/master/programs/phono.ipynb</code></details></li><li><b>doi</b>: <code>10.5281/zenodo.1007636</code></li><li><b>org</b>: <code>etcbc</code></li><li><b>relative</b>: <code>/tf</code></li><li><b>repo</b>: <code>phono</code></li></ul></details></li><li><details><summary>:</summary><ul><li><b>backend</b>: <i>no value</i></li><li><b>corpus</b>: <code>Parallel Passages</code></li><li><details><summary><b>docUrl</b>:</summary><code>https://nbviewer.jupyter.org/github/etcbc/parallels/blob/master/programs/parallels.ipynb</code></details></li><li><b>doi</b>: <code>10.5281/zenodo.1007642</code></li><li><b>org</b>: <code>etcbc</code></li><li><b>relative</b>: <code>/tf</code></li><li><b>repo</b>: <code>parallels</code></li></ul></details></li></ul></details></li><li><b>org</b>: <code>etcbc</code></li><li><b>relative</b>: <code>/tf</code></li><li><b>repo</b>: <code>bhsa</code></li><li><b>version</b>: <code>2021</code></li><li><b>webBase</b>: <code>https://shebanq.ancient-data.org/hebrew</code></li><li><b>webHint</b>: <code>Show this on SHEBANQ</code></li><li><b>webLang</b>: <code>la</code></li><li><b>webLexId</b>: <code>True</code></li><li><details><summary><b>webUrl</b>:</summary><code>{webBase}/text?book=&lt;1&gt;&amp;chapter=&lt;2&gt;&amp;verse=&lt;3&gt;&amp;version={version}&amp;mr=m&amp;qw=q&amp;tp=txt_p&amp;tr=hb&amp;wget=v&amp;qget=v&amp;nget=vt</code></details></li><li><b>webUrlLex</b>: <code>{webBase}/word?version={version}&amp;id=&lt;lid&gt;</code></li></ul></details></li><li><b>release</b>: <code>v1.8.1</code></li><li><details><summary><b>typeDisplay</b>:</summary><ul><li><details><summary><b>clause</b>:</summary><ul><li><b>label</b>: <code>{typ} {rela}</code></li><li><b>style</b>: <code>''</code></li></ul></details></li><li><details><summary><b>clause_atom</b>:</summary><ul><li><b>hidden</b>: <code>True</code></li><li><b>label</b>: <code>{code}</code></li><li><b>level</b>: <code>1</code></li><li><b>style</b>: <code>''</code></li></ul></details></li><li><details><summary><b>half_verse</b>:</summary><ul><li><b>hidden</b>: <code>True</code></li><li><b>label</b>: <code>{label}</code></li><li><b>style</b>: <code>''</code></li><li><b>verselike</b>: <code>True</code></li></ul></details></li><li><details><summary><b>lex</b>:</summary><ul><li><b>featuresBare</b>: <code>gloss</code></li><li><b>label</b>: <code>{voc_lex_utf8}</code></li><li><b>lexOcc</b>: <code>word</code></li><li><b>style</b>: <code>orig</code></li><li><b>template</b>: <code>{voc_lex_utf8}</code></li></ul></details></li><li><details><summary><b>phrase</b>:</summary><ul><li><b>label</b>: <code>{typ} {function}</code></li><li><b>style</b>: <code>''</code></li></ul></details></li><li><details><summary><b>phrase_atom</b>:</summary><ul><li><b>hidden</b>: <code>True</code></li><li><b>label</b>: <code>{typ} {rela}</code></li><li><b>level</b>: <code>1</code></li><li><b>style</b>: <code>''</code></li></ul></details></li><li><details><summary><b>sentence</b>:</summary><ul><li><b>label</b>: <code>{number}</code></li><li><b>style</b>: <code>''</code></li></ul></details></li><li><details><summary><b>sentence_atom</b>:</summary><ul><li><b>hidden</b>: <code>True</code></li><li><b>label</b>: <code>{number}</code></li><li><b>level</b>: <code>1</code></li><li><b>style</b>: <code>''</code></li></ul></details></li><li><details><summary><b>subphrase</b>:</summary><ul><li><b>hidden</b>: <code>True</code></li><li><b>label</b>: <code>{number}</code></li><li><b>style</b>: <code>''</code></li></ul></details></li><li><details><summary><b>word</b>:</summary><ul><li><b>features</b>: <code>pdp vs vt</code></li><li><b>featuresBare</b>: <code>lex:gloss</code></li></ul></details></li></ul></details></li><li><b>writing</b>: <code>hbo</code></li></ol></details>\n"
     },
     "metadata": {},
     "output_type": "display_data"
    },
    {
     "data": {
      "text/plain": "<IPython.core.display.HTML object>",
      "text/html": "<style>tr.tf.ltr, td.tf.ltr, th.tf.ltr { text-align: left ! important;}\ntr.tf.rtl, td.tf.rtl, th.tf.rtl { text-align: right ! important;}\n@font-face {\n  font-family: \"Gentium Plus\";\n  src: local('Gentium Plus'), local('GentiumPlus'),\n    url('/browser/static/fonts/GentiumPlus-R.woff') format('woff'),\n    url('https://github.com/annotation/text-fabric/blob/master/tf/browser/static/fonts/GentiumPlus-R.woff?raw=true') format('woff');\n}\n\n@font-face {\n  font-family: \"Ezra SIL\";\n  src: local('Ezra SIL'), local('EzraSIL'),\n    url('/browser/static/fonts/SILEOT.woff') format('woff'),\n    url('https://github.com/annotation/text-fabric/blob/master/tf/browser/static/fonts/SILEOT.woff?raw=true') format('woff');\n}\n\n@font-face {\n  font-family: \"SBL Hebrew\";\n  src: local('SBL Hebrew'), local('SBLHebrew'),\n    url('/browser/static/fonts/SBL_Hbrw.woff') format('woff'),\n    url('https://github.com/annotation/text-fabric/blob/master/tf/browser/static/fonts/SBL_Hbrw.woff?raw=true') format('woff');\n}\n\n@font-face {\n  font-family: \"Estrangelo Edessa\";\n  src: local('Estrangelo Edessa'), local('EstrangeloEdessa');\n    url('/browser/static/fonts/SyrCOMEdessa.woff') format('woff'),\n    url('https://github.com/annotation/text-fabric/blob/master/tf/browser/static/fonts/SyrCOMEdessa.woff?raw=true') format('woff');\n}\n\n@font-face {\n  font-family: AmiriQuran;\n  font-style: normal;\n  font-weight: 400;\n  src: local('Amiri Quran'), local('AmiriQuran'),\n    url('/browser/static/fonts/AmiriQuran.woff') format('woff'),\n    url('https://github.com/annotation/text-fabric/blob/master/tf/browser/static/fonts/AmiriQuran.woff?raw=true') format('woff');\n}\n\n@font-face {\n  font-family: AmiriQuranColored;\n  font-style: normal;\n  font-weight: 400;\n  src: local('Amiri Quran Colored'), local('AmiriQuranColored'),\n    url('/browser/static/fonts/AmiriQuranColored.woff') format('woff'),\n    url('https://github.com/annotation/text-fabric/blob/master/tf/browser/static/fonts/AmiriQuranColored.woff?raw=true') format('woff');\n}\n\n@font-face {\n  font-family: \"Santakku\";\n  src: local('Santakku'),\n    url('/browser/static/fonts/Santakku.woff') format('woff'),\n    url('https://github.com/annotation/text-fabric/blob/master/tf/browser/static/fonts/Santakku.woff?raw=true') format('woff');\n}\n\n@font-face {\n  font-family: \"SantakkuM\";\n  src: local('SantakkuM'),\n    url('/browser/static/fonts/SantakkuM.woff') format('woff'),\n    url('https://github.com/annotation/text-fabric/blob/master/tf/browser/static/fonts/SantakkuM.woff?raw=true') format('woff');\n}\n\n/* bypassing some classical notebook settings */\ndiv#notebook {\n  line-height: unset;\n}\n/* neutral text */\n.txtn,.txtn a:visited,.txtn a:link {\n    font-family: sans-serif;\n    font-size: medium;\n    direction: ltr;\n    unicode-bidi: embed;\n    text-decoration: none;\n    color: var(--text-color);\n}\n/* transcription text */\n.txtt,.txtt a:visited,.txtt a:link {\n    font-family: monospace;\n    font-size: medium;\n    direction: ltr;\n    unicode-bidi: embed;\n    text-decoration: none;\n    color: var(--text-color);\n}\n/* source text */\n.txto,.txto a:visited,.txto a:link {\n    font-family: serif;\n    font-size: medium;\n    direction: ltr;\n    unicode-bidi: embed;\n    text-decoration: none;\n    color: var(--text-color);\n}\n/* phonetic text */\n.txtp,.txtp a:visited,.txtp a:link {\n    font-family: Gentium, sans-serif;\n    font-size: medium;\n    direction: ltr;\n    unicode-bidi: embed;\n    text-decoration: none;\n    color: var(--text-color);\n}\n/* original script text */\n.txtu,.txtu a:visited,.txtu a:link {\n    font-family: Gentium, sans-serif;\n    font-size: medium;\n    text-decoration: none;\n    color: var(--text-color);\n}\n/* hebrew */\n.txtu.hbo,.lex.hbo {\n    font-family: \"Ezra SIL\", \"SBL Hebrew\", sans-serif;\n    font-size: large;\n    direction: rtl ! important;\n    unicode-bidi: embed;\n}\n/* syriac */\n.txtu.syc,.lex.syc {\n    font-family: \"Estrangelo Edessa\", sans-serif;\n    font-size: medium;\n    direction: rtl ! important;\n    unicode-bidi: embed;\n}\n/* neo aramaic */\n.txtu.cld,.lex.cld {\n    font-family: \"CharisSIL-R\", sans-serif;\n    font-size: medium;\n    direction: ltr ! important;\n    unicode-bidi: embed;\n}\n/* standard arabic */\n.txtu.ara,.lex.ara {\n    font-family: \"AmiriQuran\", sans-serif;\n    font-size: large;\n    direction: rtl ! important;\n    unicode-bidi: embed;\n}\n/* cuneiform */\n.txtu.akk,.lex.akk {\n    font-family: Santakku, sans-serif;\n    font-size: large;\n    direction: ltr ! important;\n    unicode-bidi: embed;\n}\n.txtu.uga,.lex.uga {\n    font-family: sans-serif;\n    /*font-family: Noto Sans Ugaritic, sans-serif;*/\n    font-size: large;\n    direction: ltr ! important;\n    unicode-bidi: embed;\n}\n/* greek */\n.txtu.grc,.lex.grc a:link {\n    font-family: Gentium, sans-serif;\n    font-size: medium;\n    direction: ltr ! important;\n    unicode-bidi: embed;\n}\na:hover {\n    text-decoration: underline | important;\n    color: #0000ff | important;\n}\n.ltr {\n    direction: ltr ! important;\n    unicode-bidi: embed;\n}\n.rtl {\n    direction: rtl ! important;\n    unicode-bidi: embed;\n}\n.ubd {\n    unicode-bidi: embed;\n}\n.col {\n   display: inline-block;\n}\n.features {\n    font-family: monospace;\n    font-size: medium;\n    font-weight: bold;\n    color: var(--features);\n    display: flex;\n    flex-flow: column nowrap;\n    justify-content: flex-start;\n    align-items: flex-start;\n    align-content: flex-start;\n    padding: 2px;\n    margin: 2px;\n    direction: ltr;\n    unicode-bidi: embed;\n    border: var(--meta-width) solid var(--meta-color);\n    border-radius: var(--meta-width);\n}\n.features div,.features span {\n    padding: 0;\n    margin: -2px 0;\n}\n.features .f {\n    font-family: sans-serif;\n    font-size: small;\n    font-weight: normal;\n    color: #5555bb;\n}\n.features .xft {\n  color: #000000;\n  background-color: #eeeeee;\n  font-size: medium;\n  margin: 2px 0px;\n}\n.features .xft .f {\n  color: #000000;\n  background-color: #eeeeee;\n  font-size: small;\n  font-weight: normal;\n}\n.tfsechead {\n    font-family: sans-serif;\n    font-size: small;\n    font-weight: bold;\n    color: var(--tfsechead);\n    unicode-bidi: embed;\n    text-align: start;\n}\n.structure {\n    font-family: sans-serif;\n    font-size: small;\n    font-weight: bold;\n    color: var(--structure);\n    unicode-bidi: embed;\n    text-align: start;\n}\n.comments {\n    display: flex;\n    justify-content: flex-start;\n    align-items: flex-start;\n    align-content: flex-start;\n    flex-flow: column nowrap;\n}\n.nd, a:link.nd {\n    font-family: sans-serif;\n    font-size: small;\n    color: var(--node);\n    vertical-align: super;\n    direction: ltr ! important;\n    unicode-bidi: embed;\n}\n.nde, a:link.nde {\n    font-family: sans-serif;\n    font-size: small;\n    color: var(--node);\n    direction: ltr ! important;\n    unicode-bidi: embed;\n}\n.etf {\n    font-size: normal;\n    border-radius: 0.2rem;\n    border: 1pt solid white;\n    padding: 0 0.2rem ! important;\n    margin: 0 0.2rem ! important;\n}\n.etfx {\n    font-size: x-large;\n}\n.lex {\n  color: var(--lex-color);;\n}\n#colormapplus, #colormapmin, .ecolormapmin {\n  font-weight: bold;\n  border-radius: 0.1rem;\n  background-color: #eeeeff;\n  padding: 0 1rem;\n  margin: 0 1rem;\n}\n.clr {\n  font-style: italic;\n  font-size: small;\n}\n.clmap,.eclmap {\n  padding: 0;\n}\n.children,.children.ltr {\n    display: flex;\n    border: 0;\n    background-color: #ffffff;\n    justify-content: flex-start;\n    align-items: flex-start;\n    align-content: flex-start;\n}\n.children.stretch {\n    align-items: stretch;\n}\n.children.hor {\n    flex-flow: row nowrap;\n}\n.children.hor.wrap {\n    flex-flow: row wrap;\n}\n.children.ver {\n    flex-flow: column nowrap;\n}\n.children.ver.wrap {\n    flex-flow: column wrap;\n}\n.contnr {\n    width: fit-content;\n    display: flex;\n    justify-content: flex-start;\n    align-items: flex-start;\n    align-content: flex-start;\n    flex-flow: column nowrap;\n    background: #ffffff none repeat scroll 0 0;\n    padding:  10px 2px 2px 2px;\n    margin: 16px 2px 2px 2px;\n    border-style: solid;\n    font-size: small;\n}\n.contnr.trm {\n    background-attachment: local;\n}\n.contnr.cnul {\n    padding:  0;\n    margin: 0;\n    border-style: solid;\n    font-size: xx-small;\n}\n.contnr.cnul,.lbl.cnul {\n    border-color: var(--border-color-nul);\n    border-width: var(--border-width-nul);\n    border-radius: var(--border-width-nul);\n}\n.contnr.c0,.lbl.c0 {\n    border-color: var(--border-color0);\n    border-width: var(--border-width0);\n    border-radius: var(--border-width0);\n}\n.contnr.c1,.lbl.c1 {\n    border-color: var(--border-color1);\n    border-width: var(--border-width1);\n    border-radius: var(--border-width1);\n}\n.contnr.c2,.lbl.c2 {\n    border-color: var(--border-color2);\n    border-width: var(--border-width2);\n    border-radius: var(--border-width2);\n}\n.contnr.c3,.lbl.c3 {\n    border-color: var(--border-color3);\n    border-width: var(--border-width3);\n    border-radius: var(--border-width3);\n}\n.contnr.c4,.lbl.c4 {\n    border-color: var(--border-color4);\n    border-width: var(--border-width4);\n    border-radius: var(--border-width4);\n}\nspan.plain {\n    /*display: inline-block;*/\n    display: inline-flex;\n    flex-flow: row wrap;\n    white-space: pre-wrap;\n}\nspan.break {\n  flex-basis: 100%;\n  height: 0;\n}\n.plain {\n    background-color: #ffffff;\n}\n.plain.l,.contnr.l,.contnr.l>.lbl {\n    border-left-style: dotted\n}\n.plain.r,.contnr.r,.contnr.r>.lbl {\n    border-right-style: dotted\n}\n.plain.lno,.contnr.lno,.contnr.lno>.lbl {\n    border-left-style: none\n}\n.plain.rno,.contnr.rno,.contnr.rno>.lbl {\n    border-right-style: none\n}\n.plain.l {\n    padding-left: 4px;\n    margin-left: 2px;\n    border-width: var(--border-width-plain);\n}\n.plain.r {\n    padding-right: 4px;\n    margin-right: 2px;\n    border-width: var(--border-width-plain);\n}\n.lbl {\n    font-family: monospace;\n    margin-top: -24px;\n    margin-left: 20px;\n    background: #ffffff none repeat scroll 0 0;\n    padding: 0 6px;\n    border-style: solid;\n    display: block;\n    color: var(--label)\n}\n.lbl.trm {\n    background-attachment: local;\n    margin-top: 2px;\n    margin-left: 2px;\n    padding: 2px 2px;\n    border-style: none;\n}\n.lbl.cnul {\n    font-size: xx-small;\n}\n.lbl.c0 {\n    font-size: small;\n}\n.lbl.c1 {\n    font-size: small;\n}\n.lbl.c2 {\n    font-size: medium;\n}\n.lbl.c3 {\n    font-size: medium;\n}\n.lbl.c4 {\n    font-size: large;\n}\n.occs, a:link.occs {\n    font-size: small;\n}\n\n/* PROVENANCE */\n\ndiv.prov {\n\tmargin: 40px;\n\tpadding: 20px;\n\tborder: 2px solid var(--fog-rim);\n}\ndiv.pline {\n\tdisplay: flex;\n\tflex-flow: row nowrap;\n\tjustify-content: stretch;\n\talign-items: baseline;\n}\ndiv.p2line {\n\tmargin-left: 2em;\n\tdisplay: flex;\n\tflex-flow: row nowrap;\n\tjustify-content: stretch;\n\talign-items: baseline;\n}\ndiv.psline {\n\tdisplay: flex;\n\tflex-flow: row nowrap;\n\tjustify-content: stretch;\n\talign-items: baseline;\n\tbackground-color: var(--gold-mist-back);\n}\ndiv.pname {\n\tflex: 0 0 5rem;\n\tfont-weight: bold;\n}\ndiv.pval {\n    flex: 1 1 auto;\n}\n\n/* KEYBOARD */\n.ccoff {\n  background-color: inherit;\n}\n.ccon {\n  background-color: yellow ! important;\n}\n.ccon,.ccoff {\n  padding: 0.2rem;\n  margin: 0.2rem;\n  border: 0.1rem solid var(--letter-box-border);\n  border-radius: 0.1rem;\n}\n.ccline {\n  font-size: xx-large ! important;\n  font-weight: bold;\n  line-height: 2em ! important;\n}\n/* TF header */\n\nsummary {\n  /* needed to override the normalize.less\n   * in the classical Jupyter Notebook\n   */\n  display: list-item ! important;\n}\n\n.fcorpus {\n  display: flex;\n  flex-flow: column nowrap;\n  justify-content: flex-start;\n  align-items: flex-start;\n  align-content: flex-start;\n  overflow: auto;\n}\n.frow {\n  display: flex;\n  flex-flow: row nowrap;\n  justify-content: flex-start;\n  align-items: flex-start;\n  align-content: flex-start;\n}\n.fmeta {\n  display: flex;\n  flex-flow: column nowrap;\n  justify-content: flex-start;\n  align-items: flex-start;\n  align-content: flex-start;\n}\n.fmetarow {\n  display: flex;\n  flex-flow: row nowrap;\n  justify-content: flex-start;\n  align-items: flex-start;\n  align-content: flex-start;\n}\n.fmetakey {\n  min-width: 8em;\n  font-family: monospace;\n}\n.fnamecat {\n  min-width: 8em;\n}\n.fnamecat.edge {\n  font-weight: bold;\n  font-style: italic;\n}\n.fmono {\n    font-family: monospace;\n}\n\n:root {\n\t--node:               hsla(120, 100%,  20%, 1.0  );\n\t--label:              hsla(  0, 100%,  20%, 1.0  );\n\t--tfsechead:          hsla(  0, 100%,  25%, 1.0  );\n\t--structure:          hsla(120, 100%,  25%, 1.0  );\n\t--features:           hsla(  0,   0%,  30%, 1.0  );\n  --text-color:         hsla( 60,  80%,  10%, 1.0  );\n  --lex-color:          hsla(220,  90%,  60%, 1.0  );\n  --meta-color:         hsla(  0,   0%,  90%, 0.7  );\n  --meta-width:         3px;\n  --border-color-nul:   hsla(  0,   0%,  90%, 0.5  );\n  --border-color0:      hsla(  0,   0%,  90%, 0.9  );\n  --border-color1:      hsla(  0,   0%,  80%, 0.9  );\n  --border-color2:      hsla(  0,   0%,  70%, 0.9  );\n  --border-color3:      hsla(  0,   0%,  80%, 0.8  );\n  --border-color4:      hsla(  0,   0%,  60%, 0.9  );\n\t--letter-box-border:  hsla(  0,   0%,  80%, 0.5  );\n  --border-width-nul:   2px;\n  --border-width0:      2px;\n  --border-width1:      3px;\n  --border-width2:      4px;\n  --border-width3:      6px;\n  --border-width4:      5px;\n  --border-width-plain: 2px;\n}\n.hl {\n  background-color: var(--hl-strong);\n}\nspan.hl {\n\tbackground-color: var(--hl-strong);\n\tborder-width: 0;\n\tborder-radius: 2px;\n\tborder-style: solid;\n}\ndiv.contnr.hl,div.lbl.hl {\n  background-color: var(--hl-strong);\n}\ndiv.contnr.hl {\n  border-color: var(--hl-rim) ! important;\n\tborder-width: 4px ! important;\n}\n\nspan.hlbx {\n\tborder-color: var(--hl-rim);\n\tborder-width: 4px ! important;\n\tborder-style: solid;\n\tborder-radius: 6px;\n  padding: 4px;\n  margin: 4px;\n}\n.ehl {\n  background-color: var(--ehl-strong);\n}\n\n:root {\n\t--hl-strong:        hsla( 60, 100%,  70%, 0.9  );\n\t--hl-rim:           hsla( 55,  80%,  50%, 1.0  );\n\t--ehl-strong:       hsla(240, 100%,  70%, 0.9  );\n}\n</style>"
     },
     "metadata": {},
     "output_type": "display_data"
    },
    {
     "data": {
      "text/plain": "<IPython.core.display.HTML object>",
      "text/html": "\n<script>\nglobalThis.copyChar = (el, c) => {\n    for (const el of document.getElementsByClassName('ccon')) {\n        el.className = 'ccoff'\n    }\n    el.className = 'ccon'\n    navigator.clipboard.writeText(String.fromCharCode(c))\n}\n</script>\n"
     },
     "metadata": {},
     "output_type": "display_data"
    },
    {
     "data": {
      "text/plain": "<IPython.core.display.HTML object>",
      "text/html": "<div><b>TF API:</b> names <a target=\"_blank\" href=\"https://annotation.github.io/text-fabric/tf/cheatsheet.html\" title=\"doc\">N F E L T S C TF Fs Fall Es Eall Cs Call</a> directly usable</div><hr>"
     },
     "metadata": {},
     "output_type": "display_data"
    }
   ],
   "source": [
    "# Import Text-Fabric and load a dataset\n",
    "from tf.app import use\n",
    "\n",
    "# Load the Hebrew Bible (ETCBC dataset)\n",
    "A = use('etcbc/bhsa', hoist=globals())"
   ],
   "metadata": {
    "collapsed": false,
    "ExecuteTime": {
     "end_time": "2024-11-14T10:37:23.833306Z",
     "start_time": "2024-11-14T10:29:45.487541Z"
    }
   },
   "id": "b595fbe84645d0cc",
   "execution_count": 1
  },
  {
   "cell_type": "code",
   "execution_count": 29,
   "id": "initial_id",
   "metadata": {
    "collapsed": true,
    "ExecuteTime": {
     "end_time": "2024-11-14T15:34:04.179075Z",
     "start_time": "2024-11-14T15:33:59.421203Z"
    }
   },
   "outputs": [
    {
     "data": {
      "text/plain": "  0%|          | 0/2 [00:00<?, ?it/s]",
      "application/vnd.jupyter.widget-view+json": {
       "version_major": 2,
       "version_minor": 0,
       "model_id": "9f7d529aaef7468cb0f7724c1dac5859"
      }
     },
     "metadata": {},
     "output_type": "display_data"
    }
   ],
   "source": [
    "from tqdm.notebook import tqdm\n",
    "from collections import defaultdict\n",
    "\n",
    "def get_scroll_and_chapter_info(word):\n",
    "    \"\"\"Get scroll and chapter information for a given word node.\"\"\"\n",
    "    scroll_and_chapter = A.sectionStrFromNode(word)\n",
    "    scroll, chapter_info = scroll_and_chapter.split(\" \")\n",
    "    frag_label, frag_line_num = chapter_info.split(\":\")\n",
    "    return scroll_and_chapter, scroll, frag_label, frag_line_num\n",
    "\n",
    "def get_morphological_features(word):\n",
    "    \"\"\"Extract morphological features for a given word node.\"\"\"\n",
    "    return {\n",
    "        \"sp\": F.sp.v(word),\n",
    "        \"cl\": F.ls.v(word),\n",
    "        \"ps\": F.ps.v(word),\n",
    "        \"gn\": F.gn.v(word),\n",
    "        \"nu\": F.nu.v(word),\n",
    "        \"st\": F.st.v(word),\n",
    "        \"vs\": F.vs.v(word),\n",
    "        \"vt\": F.vt.v(word),\n",
    "        # \"md\": F.md.v(word),\n",
    "    }\n",
    "\n",
    "def process_word(scroll_node, word_line_num, sub_word_num):\n",
    "    filtered_data = defaultdict(list)\n",
    "    for word in L.d(scroll_node, otype=\"word\"):\n",
    "        (\n",
    "            scroll_and_chapter,\n",
    "            scroll,\n",
    "            frag_label,\n",
    "            frag_line_num,\n",
    "        ) = get_scroll_and_chapter_info(word)\n",
    "        transcript = T.text(word)\n",
    "        lexeme = F.lex.v(word)\n",
    "        morphological_features = get_morphological_features(word)\n",
    "        # biblical_info = get_biblical_info(word)\n",
    "        # lang = F.lang.v(word)\n",
    "        # srcLn = F.srcLn.v(word)\n",
    "        # word_type = F.type.v(word)\n",
    "        if transcript:\n",
    "            after = True if transcript[-1] == \" \" else False\n",
    "        else:\n",
    "            after = False\n",
    "\n",
    "        word_entry = {\n",
    "            \"frag_label\": frag_label,\n",
    "            \"frag_line_num\": frag_line_num,\n",
    "            # \"word_line_num\": str(word_line_num),\n",
    "            # \"sub_word_num\": str(sub_word_num),\n",
    "            # \"book_and_chapter\": scroll_and_chapter,\n",
    "            # \"scroll_name\": scroll,\n",
    "            \"transcript\": transcript,\n",
    "            \"lex\": lexeme,\n",
    "            \"parsed_morph\": morphological_features,\n",
    "            # \"lang\": lang,\n",
    "            # \"srcLn\": srcLn,\n",
    "            # \"type_of\": word_type,\n",
    "            \"after\": after,\n",
    "        }\n",
    "        # word_entry.update(biblical_info)\n",
    "\n",
    "        if (\n",
    "            not after\n",
    "        ):  # If there is no space after the word, it means it's a conjunction like ו or ב.\n",
    "            sub_word_num += 1\n",
    "        else:\n",
    "            sub_word_num = 1\n",
    "            word_line_num += 1\n",
    "\n",
    "        scroll_name = F.book.v(scroll_node)\n",
    "        filtered_data[scroll_name].append(word_entry)\n",
    "    return filtered_data\n",
    "\n",
    "\n",
    "filtered_data = defaultdict(list)\n",
    "for scroll_node in tqdm(F.otype.s('book')[:2]):\n",
    "    # if specific_scrolls:\n",
    "    #     if not A.sectionStrFromNode(scroll_node) in specific_scrolls:\n",
    "    #         continue\n",
    "    word_line_num = 1\n",
    "    sub_word_num = 1\n",
    "    scroll_data = process_word(scroll_node, word_line_num, sub_word_num)\n",
    "    filtered_data.update(scroll_data)\n",
    "\n",
    "\n"
   ]
  },
  {
   "cell_type": "code",
   "outputs": [
    {
     "data": {
      "text/plain": "[{'frag_label': '1',\n  'frag_line_num': '1',\n  'transcript': 'אָֽרֶץ׃ ',\n  'lex': '>RY/',\n  'parsed_morph': {'sp': 'subs',\n   'cl': 'none',\n   'ps': 'NA',\n   'gn': 'unknown',\n   'nu': 'sg',\n   'st': 'a',\n   'vs': 'NA',\n   'vt': 'NA'},\n  'after': True},\n {'frag_label': '1',\n  'frag_line_num': '2',\n  'transcript': 'וְ',\n  'lex': 'W',\n  'parsed_morph': {'sp': 'conj',\n   'cl': 'none',\n   'ps': 'NA',\n   'gn': 'NA',\n   'nu': 'NA',\n   'st': 'NA',\n   'vs': 'NA',\n   'vt': 'NA'},\n  'after': False},\n {'frag_label': '1',\n  'frag_line_num': '2',\n  'transcript': 'הָ',\n  'lex': 'H',\n  'parsed_morph': {'sp': 'art',\n   'cl': 'none',\n   'ps': 'NA',\n   'gn': 'NA',\n   'nu': 'NA',\n   'st': 'NA',\n   'vs': 'NA',\n   'vt': 'NA'},\n  'after': False},\n {'frag_label': '1',\n  'frag_line_num': '2',\n  'transcript': 'אָ֗רֶץ ',\n  'lex': '>RY/',\n  'parsed_morph': {'sp': 'subs',\n   'cl': 'none',\n   'ps': 'NA',\n   'gn': 'unknown',\n   'nu': 'sg',\n   'st': 'a',\n   'vs': 'NA',\n   'vt': 'NA'},\n  'after': True},\n {'frag_label': '1',\n  'frag_line_num': '2',\n  'transcript': 'הָיְתָ֥ה ',\n  'lex': 'HJH[',\n  'parsed_morph': {'sp': 'verb',\n   'cl': 'vbcp',\n   'ps': 'p3',\n   'gn': 'f',\n   'nu': 'sg',\n   'st': 'NA',\n   'vs': 'qal',\n   'vt': 'perf'},\n  'after': True},\n {'frag_label': '1',\n  'frag_line_num': '2',\n  'transcript': 'תֹ֨הוּ֙ ',\n  'lex': 'THW/',\n  'parsed_morph': {'sp': 'subs',\n   'cl': 'none',\n   'ps': 'NA',\n   'gn': 'm',\n   'nu': 'sg',\n   'st': 'a',\n   'vs': 'NA',\n   'vt': 'NA'},\n  'after': True},\n {'frag_label': '1',\n  'frag_line_num': '2',\n  'transcript': 'וָ',\n  'lex': 'W',\n  'parsed_morph': {'sp': 'conj',\n   'cl': 'none',\n   'ps': 'NA',\n   'gn': 'NA',\n   'nu': 'NA',\n   'st': 'NA',\n   'vs': 'NA',\n   'vt': 'NA'},\n  'after': False},\n {'frag_label': '1',\n  'frag_line_num': '2',\n  'transcript': 'בֹ֔הוּ ',\n  'lex': 'BHW/',\n  'parsed_morph': {'sp': 'subs',\n   'cl': 'none',\n   'ps': 'NA',\n   'gn': 'm',\n   'nu': 'sg',\n   'st': 'a',\n   'vs': 'NA',\n   'vt': 'NA'},\n  'after': True},\n {'frag_label': '1',\n  'frag_line_num': '2',\n  'transcript': 'וְ',\n  'lex': 'W',\n  'parsed_morph': {'sp': 'conj',\n   'cl': 'none',\n   'ps': 'NA',\n   'gn': 'NA',\n   'nu': 'NA',\n   'st': 'NA',\n   'vs': 'NA',\n   'vt': 'NA'},\n  'after': False},\n {'frag_label': '1',\n  'frag_line_num': '2',\n  'transcript': 'חֹ֖שֶׁךְ ',\n  'lex': 'XCK/',\n  'parsed_morph': {'sp': 'subs',\n   'cl': 'none',\n   'ps': 'NA',\n   'gn': 'm',\n   'nu': 'sg',\n   'st': 'a',\n   'vs': 'NA',\n   'vt': 'NA'},\n  'after': True},\n {'frag_label': '1',\n  'frag_line_num': '2',\n  'transcript': 'עַל־',\n  'lex': '<L',\n  'parsed_morph': {'sp': 'prep',\n   'cl': 'none',\n   'ps': 'NA',\n   'gn': 'NA',\n   'nu': 'NA',\n   'st': 'NA',\n   'vs': 'NA',\n   'vt': 'NA'},\n  'after': False},\n {'frag_label': '1',\n  'frag_line_num': '2',\n  'transcript': 'פְּנֵ֣י ',\n  'lex': 'PNH/',\n  'parsed_morph': {'sp': 'subs',\n   'cl': 'none',\n   'ps': 'NA',\n   'gn': 'm',\n   'nu': 'pl',\n   'st': 'c',\n   'vs': 'NA',\n   'vt': 'NA'},\n  'after': True},\n {'frag_label': '1',\n  'frag_line_num': '2',\n  'transcript': 'תְהֹ֑ום ',\n  'lex': 'THWM/',\n  'parsed_morph': {'sp': 'subs',\n   'cl': 'none',\n   'ps': 'NA',\n   'gn': 'f',\n   'nu': 'sg',\n   'st': 'a',\n   'vs': 'NA',\n   'vt': 'NA'},\n  'after': True},\n {'frag_label': '1',\n  'frag_line_num': '2',\n  'transcript': 'וְ',\n  'lex': 'W',\n  'parsed_morph': {'sp': 'conj',\n   'cl': 'none',\n   'ps': 'NA',\n   'gn': 'NA',\n   'nu': 'NA',\n   'st': 'NA',\n   'vs': 'NA',\n   'vt': 'NA'},\n  'after': False},\n {'frag_label': '1',\n  'frag_line_num': '2',\n  'transcript': 'ר֣וּחַ ',\n  'lex': 'RWX/',\n  'parsed_morph': {'sp': 'subs',\n   'cl': 'none',\n   'ps': 'NA',\n   'gn': 'unknown',\n   'nu': 'sg',\n   'st': 'c',\n   'vs': 'NA',\n   'vt': 'NA'},\n  'after': True},\n {'frag_label': '1',\n  'frag_line_num': '2',\n  'transcript': 'אֱלֹהִ֔ים ',\n  'lex': '>LHJM/',\n  'parsed_morph': {'sp': 'subs',\n   'cl': 'none',\n   'ps': 'NA',\n   'gn': 'm',\n   'nu': 'pl',\n   'st': 'a',\n   'vs': 'NA',\n   'vt': 'NA'},\n  'after': True},\n {'frag_label': '1',\n  'frag_line_num': '2',\n  'transcript': 'מְרַחֶ֖פֶת ',\n  'lex': 'RXP[',\n  'parsed_morph': {'sp': 'verb',\n   'cl': 'none',\n   'ps': 'unknown',\n   'gn': 'f',\n   'nu': 'sg',\n   'st': 'a',\n   'vs': 'piel',\n   'vt': 'ptca'},\n  'after': True},\n {'frag_label': '1',\n  'frag_line_num': '2',\n  'transcript': 'עַל־',\n  'lex': '<L',\n  'parsed_morph': {'sp': 'prep',\n   'cl': 'none',\n   'ps': 'NA',\n   'gn': 'NA',\n   'nu': 'NA',\n   'st': 'NA',\n   'vs': 'NA',\n   'vt': 'NA'},\n  'after': False},\n {'frag_label': '1',\n  'frag_line_num': '2',\n  'transcript': 'פְּנֵ֥י ',\n  'lex': 'PNH/',\n  'parsed_morph': {'sp': 'subs',\n   'cl': 'none',\n   'ps': 'NA',\n   'gn': 'm',\n   'nu': 'pl',\n   'st': 'c',\n   'vs': 'NA',\n   'vt': 'NA'},\n  'after': True},\n {'frag_label': '1',\n  'frag_line_num': '2',\n  'transcript': 'הַ',\n  'lex': 'H',\n  'parsed_morph': {'sp': 'art',\n   'cl': 'none',\n   'ps': 'NA',\n   'gn': 'NA',\n   'nu': 'NA',\n   'st': 'NA',\n   'vs': 'NA',\n   'vt': 'NA'},\n  'after': False}]"
     },
     "execution_count": 30,
     "metadata": {},
     "output_type": "execute_result"
    }
   ],
   "source": [
    "filtered_data[\"Genesis\"][10:30]"
   ],
   "metadata": {
    "collapsed": false,
    "ExecuteTime": {
     "end_time": "2024-11-14T15:34:06.420784Z",
     "start_time": "2024-11-14T15:34:06.392824Z"
    }
   },
   "id": "da5216bec204002b",
   "execution_count": 30
  },
  {
   "cell_type": "code",
   "outputs": [],
   "source": [
    "from collections import Counter\n",
    "\n",
    "l = []\n",
    "\n",
    "for w in F.otype.s(\"word\"):\n",
    "    l.append(w)\n",
    "counter = Counter(l)    \n",
    "    "
   ],
   "metadata": {
    "collapsed": false,
    "ExecuteTime": {
     "end_time": "2024-11-14T15:20:30.785928Z",
     "start_time": "2024-11-14T15:20:30.288724Z"
    }
   },
   "id": "6e43dd9451d071f1",
   "execution_count": 20
  },
  {
   "cell_type": "code",
   "outputs": [
    {
     "data": {
      "text/plain": "<tf.core.otypefeature.OtypeFeature at 0x14b305420>"
     },
     "execution_count": 23,
     "metadata": {},
     "output_type": "execute_result"
    }
   ],
   "source": [
    "F.otype"
   ],
   "metadata": {
    "collapsed": false,
    "ExecuteTime": {
     "end_time": "2024-11-14T15:21:03.004991Z",
     "start_time": "2024-11-14T15:21:02.997039Z"
    }
   },
   "id": "804e22e83e1b5b41",
   "execution_count": 23
  },
  {
   "cell_type": "code",
   "outputs": [],
   "source": [],
   "metadata": {
    "collapsed": false
   },
   "id": "3167de587c9ee538"
  }
 ],
 "metadata": {
  "kernelspec": {
   "display_name": "Python 3",
   "language": "python",
   "name": "python3"
  },
  "language_info": {
   "codemirror_mode": {
    "name": "ipython",
    "version": 2
   },
   "file_extension": ".py",
   "mimetype": "text/x-python",
   "name": "python",
   "nbconvert_exporter": "python",
   "pygments_lexer": "ipython2",
   "version": "2.7.6"
  }
 },
 "nbformat": 4,
 "nbformat_minor": 5
}
