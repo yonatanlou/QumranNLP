{
 "cells": [
  {
   "cell_type": "markdown",
   "metadata": {},
   "source": [
    "## Clustering"
   ]
  },
  {
   "cell_type": "markdown",
   "metadata": {},
   "source": [
    "Before implementing a complex Graph Neural Network (GNN) for unsupervised clustering, I want to clarify the problem, as the current research proposal seems vague. This step will help me understand our current leads and establish solid baselines. I aim for this research to be reproducible and fully open-sourced, facilitating easy use of our codebase and baselines by other researchers trying different methods.\n",
    "\n",
    "### Settings\n",
    "\n",
    "1. **Chunk Definition:**\n",
    "   - A Chunk is a of 100 words.\n",
    "   - For a book with 160 words, it will be split into: 1 chunk of 100 words each, plus 1 sentence of 60 words.\n",
    "\n",
    "2. **Data Source:**\n",
    "   - Using non-biblical Hebrew Qumran scrolls (383 books).\n",
    "\n",
    "3. **Composition Labels:**\n",
    "   - A composition is a label consisting of several books together.\n",
    "   - For example, books 11Q20 and 11Q19 are from the Temple Scroll composition.\n",
    "   - We currently have 25 unique compositions over 98 books.\n",
    "\n",
    "4. **Clustering Methodology:**\n",
    "   - **Step 1:** Convert each book into sentences.\n",
    "   - **Step 2:** Vectorize the text (using n-grams, TF-IDF, Word2Vec, BERT, etc.).\n",
    "   - **Step 3:** Clustering:\n",
    "     - **Unsupervised Clustering:** \n",
    "       - Hierarchical Clustering\n",
    "   - **Step 4:** Evaluation:\n",
    "     - **Unsupervised Evaluation:** Metrics from [Cluster Analysis: Evaluation and Assessment](https://en.wikipedia.org/wiki/Cluster_analysis#Evaluation_and_assessment).\n",
    "       - Examples: [Rand Index](https://en.wikipedia.org/wiki/Rand_index), [Silhouette Score](https://en.wikipedia.org/wiki/Silhouette_(clustering)), [Calinski-Harabasz Index](https://en.wikipedia.org/wiki/Calinski%E2%80%93Harabasz_index), etc.\n",
    "       - The main objective will be the dasgupta score.\n",
    "\n",
    "### Consideration for Supervised Clustering\n",
    "\n",
    "- **Question:** Should we also perform supervised clustering?\n",
    "  - **Labels:** Could be book or composition.\n",
    "  - **Benefit:** This step could enhance confidence in our unsupervised methods.\n",
    "\n",
    "### Clustering Objectives\n",
    "We can explore various clustering strategies:\n",
    "\n",
    "1. **Clustering by Chunk:**\n",
    "   - Cluster chunks across all scrolls, when we wish to have chunks from the same composition together, and chunks that are close in the scrolls, also close together.\n",
    "\n",
    "2. **Clustering by Composition:**\n",
    "   - Cluster chunks to ensure they belong to the correct composition.\n",
    "\n",
    "3. **Clustering within a Book:**\n",
    "   - Cluster chunks to group those that are textually close within each book (as proposed in the research proposal).\n",
    "\n",
    "4. **Clustering of Serech Hayahad:**\n",
    "   - Focus specifically on clustering within the Serech Hayahad text.\n",
    "\n",
    "5. **Temple Scroll Clustering:**\n",
    "   - Differentiate between sectarian and non-sectarian content within the Temple Scroll.\n"
   ]
  },
  {
   "cell_type": "markdown",
   "metadata": {},
   "source": [
    "### Reading list\n",
    "1. [Document Embedding Techniques](https://towardsdatascience.com/document-embedding-techniques-fed3e7a6a25d)\n",
    "2. Mining text data - book\n",
    "3. [clustering-sentence-embeddings-to-identify-intents-in-short-text - PRACTICAL](https://towardsdatascience.com/clustering-sentence-embeddings-to-identify-intents-in-short-text-48d22d3bf02e)\n",
    "4. [Sentence-BERT: Sentence Embeddings using Siamese BERT-Networks](https://arxiv.org/abs/1908.10084)\n",
    "5. [Open Intent Discovery through Unsupervised\n",
    "Semantic Clustering and Dependency Parsing](https://arxiv.org/pdf/2104.12114)\n",
    "6. [Is Everything in Order? A Simple Way to Order Sentences](https://aclanthology.org/2021.emnlp-main.841.pdf)\n",
    "7. [The performance of BERT as data representation of text clustering](https://journalofbigdata.springeropen.com/articles/10.1186/s40537-022-00564-9)\n",
    "8. [Understanding and explaining Delta measures for authorship attribution](https://academic.oup.com/dsh/article/32/suppl_2/ii4/3865676)\n",
    "\n",
    "Word ordering:\n",
    "1. [Word Ordering as Unsupervised Learning\n",
    "Towards Syntactically Plausible Word Representations](https://aclanthology.org/I17-1008.pdf)\n",
    "2. [UNSUPERVISED ORDER LEARNING](https://openreview.net/pdf?id=1CK45cqkEh)\n",
    "3. [Graph based Neural Sentence Ordering](https://github.com/DeepLearnXMU/NSEG)\n",
    "4. [Graph based Neural Sentence Ordering](https://arxiv.org/pdf/1611.02654v2)\n",
    "5. [A New Sentence Ordering Method Using BERT\n",
    "Pretrained Model](https://arxiv.org/pdf/2108.11994)\n",
    "6. https://openreview.net/pdf?id=S1AG8zYeg\n",
    "\n",
    "Surveys:\n",
    "1. [Short Text Clustering Algorithms, Application and Challenges: A Survey](https://www.mdpi.com/2076-3417/13/1/342)\n",
    "2. [Incremental hierarchical text clustering methods: a review](https://arxiv.org/html/2312.07769v1)\n",
    "3. [A comprehensive survey of clustering algorithms: State-of-the-art machine learning applications, taxonomy, challenges, and future research prospects](https://www.sciencedirect.com/science/article/pii/S095219762200046X)\n",
    "4. [A Systematic Literature Review on Identifying Patterns Using Unsupervised Clustering Algorithms: A Data Mining Perspective](https://www.mdpi.com/2073-8994/15/9/1679)\n",
    "5. [Constrained Clustering: Current and New Trends](https://link.springer.com/chapter/10.1007/978-3-030-06167-8_14) - offline\n",
    "\n",
    "Clustering:\n",
    "1. [Evaluation of Hierarchical Clustering Algorithms for\n",
    "Document Datasets∗](https://dl.acm.org/doi/pdf/10.1145/584792.584877)\n",
    "2. [An Objective for Hierarchical Clustering in Euclidean Space and its Connection to\n",
    "Bisecting K-means∗](https://arxiv.org/pdf/2008.13235)\n",
    "3. [Hierarchical Clustering: Objective Functions and Algorithms](https://arxiv.org/pdf/1704.02147)\n",
    "4. [Evaluation Metrics for Unsupervised Learning\n",
    "Algorithms](https://arxiv.org/pdf/1905.05667)\n",
    "\n",
    "Stylometry:\n",
    "1. [https://pan.webis.de/organization.html](PAN - organiztion fot text forensics)\n",
    "2. [Surveying Stylometry Techniques and Applications](https://dl.acm.org/doi/10.1145/3132039)\n",
    "3. Advanced Models for Stylometric Applications - offline\n",
    "4. [A review on authorship attribution in text mining\n",
    "](https://wires.onlinelibrary.wiley.com/doi/abs/10.1002/wics.1584)\n",
    "\n",
    "\n",
    "Graphs:\n",
    "1. [Graph Embedding Techniques, Applications, and Performance: A Survey](https://arxiv.org/pdf/1705.02801)\n"
   ]
  },
  {
   "cell_type": "markdown",
   "metadata": {},
   "source": [
    "TODO:\n",
    "1. Reading:\n",
    "    2. EOSL - page 485(504) - unsupervised learning.\n",
    "    3. Dasgupta - https://arxiv.org/pdf/1510.05043 "
   ]
  },
  {
   "cell_type": "code",
   "execution_count": 1,
   "metadata": {
    "execution": {
     "iopub.execute_input": "2024-06-17T06:12:10.034291Z",
     "iopub.status.busy": "2024-06-17T06:12:10.033808Z",
     "iopub.status.idle": "2024-06-17T06:12:10.636367Z",
     "shell.execute_reply": "2024-06-17T06:12:10.635329Z",
     "shell.execute_reply.started": "2024-06-17T06:12:10.034254Z"
    },
    "ExecuteTime": {
     "end_time": "2024-06-19T05:50:24.585621Z",
     "start_time": "2024-06-19T05:50:24.580298Z"
    }
   },
   "outputs": [],
   "source": [
    "\n",
    "import pandas as pd\n",
    "\n",
    "from config import BASE_DIR\n",
    "\n",
    "RERUN = True"
   ]
  },
  {
   "cell_type": "code",
   "execution_count": 2,
   "metadata": {
    "execution": {
     "iopub.execute_input": "2024-06-18T18:28:52.624620Z",
     "iopub.status.busy": "2024-06-18T18:28:52.624239Z",
     "iopub.status.idle": "2024-06-18T18:28:52.700730Z",
     "shell.execute_reply": "2024-06-18T18:28:52.699826Z",
     "shell.execute_reply.started": "2024-06-18T18:28:52.624589Z"
    },
    "ExecuteTime": {
     "end_time": "2024-06-19T05:50:24.734054Z",
     "start_time": "2024-06-19T05:50:24.676491Z"
    }
   },
   "outputs": [],
   "source": [
    "\n",
    "\n",
    "clustering_label = \"composition\"\n",
    "CHUNK_SIZE = 100\n",
    "DATA_PATH = f\"{BASE_DIR}/notebooks/data/filtered_text_and_starr_features_{CHUNK_SIZE}_words_nonbib_17_06_2024.csv\"\n",
    "df = pd.read_csv(DATA_PATH)\n",
    "df_grouped = df.groupby(\"book\")[\"text\"].apply(' '.join).reset_index()\n",
    "book_info = df[[\"book\", \"composition\", \"section\", \"text_lex\"]].drop_duplicates()\n",
    "df_by_book = pd.merge(df_grouped, book_info, on=\"book\", how=\"inner\").drop_duplicates([\"book\"])\n",
    "\n",
    "df_by_book_non_nulls = df_by_book[~(df_by_book[clustering_label].isna())]"
   ]
  },
  {
   "cell_type": "code",
   "execution_count": 3,
   "metadata": {
    "execution": {
     "iopub.execute_input": "2024-06-17T06:12:11.860741Z",
     "iopub.status.busy": "2024-06-17T06:12:11.859758Z",
     "iopub.status.idle": "2024-06-17T06:12:11.876210Z",
     "shell.execute_reply": "2024-06-17T06:12:11.874553Z",
     "shell.execute_reply.started": "2024-06-17T06:12:11.860704Z"
    },
    "ExecuteTime": {
     "end_time": "2024-06-19T05:50:24.749483Z",
     "start_time": "2024-06-19T05:50:24.736625Z"
    }
   },
   "outputs": [
    {
     "name": "stdout",
     "output_type": "stream",
     "text": [
      "<class 'pandas.core.frame.DataFrame'>\n",
      "RangeIndex: 1365 entries, 0 to 1364\n",
      "Data columns (total 25 columns):\n",
      " #   Column                                                              Non-Null Count  Dtype  \n",
      "---  ------                                                              --------------  -----  \n",
      " 0   book                                                                1365 non-null   object \n",
      " 1   sentence_path                                                       1365 non-null   object \n",
      " 2   text_lex                                                            1362 non-null   object \n",
      " 3   text                                                                1365 non-null   object \n",
      " 4   n_words_lex                                                         1365 non-null   int64  \n",
      " 5   n_words                                                             1365 non-null   int64  \n",
      " 6   construct to absolute nouns ratio                                   1365 non-null   float64\n",
      " 7   construct nouns and adjectives percentage                           1365 non-null   float64\n",
      " 8   noun to verb ratio                                                  1365 non-null   float64\n",
      " 9   definite_article_percentage                                         1365 non-null   float64\n",
      " 10  direct object marker percentage                                     1365 non-null   float64\n",
      " 11  pronouns bound to nouns or verbs percentage                         1365 non-null   float64\n",
      " 12  persuasive verb forms (imperative, jussive, cohorative) percentage  1365 non-null   float64\n",
      " 13  preterite percentage                                                1365 non-null   float64\n",
      " 14  ky percentage                                                       1365 non-null   float64\n",
      " 15  aCr percentage                                                      1365 non-null   float64\n",
      " 16  oM percentage                                                       1365 non-null   float64\n",
      " 17  kya percentage                                                      1365 non-null   float64\n",
      " 18  all conjunctions percentage                                         1365 non-null   float64\n",
      " 19  non-finite to finite verbs ratio                                    1365 non-null   float64\n",
      " 20  passive verb forms percentage                                       1365 non-null   float64\n",
      " 21  total word count                                                    1365 non-null   float64\n",
      " 22  bib                                                                 1365 non-null   object \n",
      " 23  section                                                             861 non-null    object \n",
      " 24  composition                                                         812 non-null    object \n",
      "dtypes: float64(16), int64(2), object(7)\n",
      "memory usage: 266.7+ KB\n"
     ]
    }
   ],
   "source": [
    "df.info()"
   ]
  },
  {
   "cell_type": "code",
   "execution_count": 4,
   "metadata": {
    "execution": {
     "iopub.execute_input": "2024-06-17T06:12:11.878317Z",
     "iopub.status.busy": "2024-06-17T06:12:11.877394Z",
     "iopub.status.idle": "2024-06-17T06:12:11.892002Z",
     "shell.execute_reply": "2024-06-17T06:12:11.891022Z",
     "shell.execute_reply.started": "2024-06-17T06:12:11.878281Z"
    },
    "ExecuteTime": {
     "end_time": "2024-06-19T05:50:24.836728Z",
     "start_time": "2024-06-19T05:50:24.825Z"
    }
   },
   "outputs": [
    {
     "data": {
      "text/plain": "array(['CD', '1QS', '1QSa', '1QSb', '1QpHab', '1QM', '1QHa', '1Q22',\n       '3Q15', '4Q158', '4Q161', '4Q163', '4Q169', '4Q171', '4Q174',\n       '4Q176', '4Q177', '4Q200', '4Q216', '4Q219', '4Q221', '4Q223_224',\n       '4Q249z', '4Q251', '4Q252', '4Q256', '4Q257', '4Q258', '4Q259',\n       '4Q265', '4Q266', '4Q267', '4Q269', '4Q270', '4Q271', '4Q274',\n       '4Q286', '4Q299', '4Q317', '4Q319', '4Q320', '4Q321', '4Q321a',\n       '4Q364', '4Q365', '4Q365a', '4Q366', '4Q367', '4Q368', '4Q372',\n       '4Q378', '4Q379', '4Q381', '4Q382', '4Q385a', '4Q387', '4Q391',\n       '4Q394', '4Q397', '4Q400', '4Q403', '4Q405', '4Q415', '4Q416',\n       '4Q417', '4Q418', '4Q422', '4Q423', '4Q427', '4Q428', '4Q429',\n       '4Q432', '4Q434', '4Q491', '4Q496', '4Q502', '4Q503', '4Q504',\n       '4Q509', '4Q511', '4Q512', '4Q522', '4Q524', '4Q525', '11Q11',\n       '11Q12', '11Q13', '11Q17', '11Q19', '11Q20'], dtype=object)"
     },
     "execution_count": 4,
     "metadata": {},
     "output_type": "execute_result"
    }
   ],
   "source": [
    "df[\"book\"].unique()"
   ]
  },
  {
   "cell_type": "markdown",
   "metadata": {},
   "source": [
    "Our dataset contains chunks of 100 words (using scrolls that have more than 300 words and written in hebrew).\n",
    "I will use 4 different vectorizers: Starr, trigrams, BERT, tf-idf. When our metric for clustering will be the dgapusta score."
   ]
  },
  {
   "cell_type": "markdown",
   "metadata": {},
   "source": [
    "## Functions"
   ]
  },
  {
   "cell_type": "code",
   "execution_count": 6,
   "metadata": {
    "execution": {
     "iopub.execute_input": "2024-06-17T06:12:15.751104Z",
     "iopub.status.busy": "2024-06-17T06:12:15.750537Z",
     "iopub.status.idle": "2024-06-17T06:12:15.763686Z",
     "shell.execute_reply": "2024-06-17T06:12:15.761421Z",
     "shell.execute_reply.started": "2024-06-17T06:12:15.751068Z"
    },
    "ExecuteTime": {
     "end_time": "2024-06-19T05:50:24.999661Z",
     "start_time": "2024-06-19T05:50:24.995405Z"
    }
   },
   "outputs": [],
   "source": [
    "# def run_clustering_cv(df, frac, num_cvs, context_similiarity_window, vectorizers, linkage_method):\n",
    "#     scores = []\n",
    "#     for i in tqdm(range(num_cvs)):\n",
    "#         # Sample 90% of the data\n",
    "#         sampled_df = stratified_sample(df, 'book', frac=frac, random_state=42 + i)\n",
    "#         print(f\"{datetime.now()} - {sampled_df.shape=}\")\n",
    "#         adjacency_matrix = create_adjacency_matrix(sampled_df, context_similiarity_window=context_similiarity_window,\n",
    "#                                                    composition_level=True)\n",
    "# \n",
    "#         for vectorizer_type in tqdm(vectorizers):\n",
    "#             vectorizer_matrix = vectorize_text(sampled_df, \"text\", vectorizer_type)\n",
    "#             print(f\"{datetime.now()} - {vectorizer_type=},{vectorizer_matrix.shape=}\")\n",
    "# \n",
    "#             dasgupta_score, linkage_matrix = get_clusters_scores(sampled_df, \"sentence_path\", vectorizer_matrix,\n",
    "#                                                                  linkage_method, adjacency_matrix, plot=False,\n",
    "#                                                                  metadata={\"vectorizer_type\": vectorizer_type})\n",
    "#             dasgupta_score_rand = get_random_clusters_score(sampled_df, \"sentence_path\", vectorizer_matrix, \"ward\",\n",
    "#                                                             iters=2)\n",
    "#             print(f\"{dasgupta_score=}, {dasgupta_score_rand=}\\n\")\n",
    "# \n",
    "#             feature_order = get_dendrogram_feature_order(linkage_matrix, df[\"sentence_path\"].to_list())\n",
    "#             _, LCA_metric_mean, LCA_metric_std = get_metrics_from_LCA(feature_order)\n",
    "# \n",
    "#             scores.append({\"vectorizer\": vectorizer_type, \"dasgupta_score\": dasgupta_score,\n",
    "#                            \"dasgupta_score_rand\": dasgupta_score_rand, \"max_dist_metric_mean\": LCA_metric_mean,\n",
    "#                            \"cv\": i})\n",
    "# \n",
    "#     # Convert scores to a DataFrame for easier analysis\n",
    "#     scores_df = pd.DataFrame(scores)\n",
    "#     return scores_df\n",
    "# \n"
   ]
  },
  {
   "cell_type": "markdown",
   "metadata": {},
   "source": [
    "## Hirerchial clustering baseline with different vectorizers"
   ]
  },
  {
   "cell_type": "code",
   "execution_count": 7,
   "metadata": {
    "execution": {
     "iopub.execute_input": "2024-06-17T09:56:15.291895Z",
     "iopub.status.busy": "2024-06-17T09:56:15.291430Z",
     "iopub.status.idle": "2024-06-17T09:56:15.299487Z",
     "shell.execute_reply": "2024-06-17T09:56:15.297307Z",
     "shell.execute_reply.started": "2024-06-17T09:56:15.291860Z"
    },
    "ExecuteTime": {
     "end_time": "2024-06-19T05:50:25.062989Z",
     "start_time": "2024-06-19T05:50:25.060021Z"
    }
   },
   "outputs": [],
   "source": [
    "# import random\n",
    "# def set_seed_globaly(seed=42):\n",
    "#     #Set seeds\n",
    "#     np.random.seed(seed)\n",
    "#     random.seed(seed)\n",
    "#     torch.manual_seed(seed)\n",
    "#     if torch.cuda.is_available():\n",
    "#         torch.cuda.manual_seed(seed)\n",
    "#         torch.cuda.manual_seed_all(seed)\n",
    "#     torch.backends.cudnn.deterministic = True\n",
    "#     torch.backends.cudnn.benchmark = False\n",
    "# \n",
    "#     "
   ]
  },
  {
   "cell_type": "code",
   "execution_count": 8,
   "metadata": {
    "execution": {
     "iopub.execute_input": "2024-06-17T16:16:17.759256Z",
     "iopub.status.busy": "2024-06-17T16:16:17.758580Z",
     "iopub.status.idle": "2024-06-17T18:51:51.751228Z",
     "shell.execute_reply": "2024-06-17T18:51:51.750452Z",
     "shell.execute_reply.started": "2024-06-17T16:16:17.759223Z"
    },
    "ExecuteTime": {
     "end_time": "2024-06-19T05:51:59.620106Z",
     "start_time": "2024-06-19T05:50:32.408348Z"
    }
   },
   "outputs": [
    {
     "data": {
      "text/plain": "  0%|          | 0/2 [00:00<?, ?it/s]",
      "application/vnd.jupyter.widget-view+json": {
       "version_major": 2,
       "version_minor": 0,
       "model_id": "05d5645c04ee4491a7694909d14c4504"
      }
     },
     "metadata": {},
     "output_type": "display_data"
    },
    {
     "name": "stdout",
     "output_type": "stream",
     "text": [
      "2024-06-19 08:50:35.704017 - sampled_df.shape=(58, 26)\n"
     ]
    },
    {
     "data": {
      "text/plain": "Building adjacency matrix:   0%|          | 0/58 [00:00<?, ?it/s]",
      "application/vnd.jupyter.widget-view+json": {
       "version_major": 2,
       "version_minor": 0,
       "model_id": "1b01a56b78ef4ac0bac00341c194cf49"
      }
     },
     "metadata": {},
     "output_type": "display_data"
    },
    {
     "data": {
      "text/plain": "  0%|          | 0/8 [00:00<?, ?it/s]",
      "application/vnd.jupyter.widget-view+json": {
       "version_major": 2,
       "version_minor": 0,
       "model_id": "2a00771208944b00affb166129ec5c95"
      }
     },
     "metadata": {},
     "output_type": "display_data"
    },
    {
     "name": "stderr",
     "output_type": "stream",
     "text": [
      "/Users/yonatanlou/.pyenv/versions/3.10.0/envs/QumranNLP/lib/python3.10/site-packages/huggingface_hub/file_download.py:1132: FutureWarning: `resume_download` is deprecated and will be removed in version 1.0.0. Downloads always resume when possible. If you want to force a new download, use `force_download=True`.\n",
      "  warnings.warn(\n",
      "Some weights of BertModel were not initialized from the model checkpoint at dicta-il/BEREL and are newly initialized: ['bert.pooler.dense.bias', 'bert.pooler.dense.weight']\n",
      "You should probably TRAIN this model on a down-stream task to be able to use it for predictions and inference.\n"
     ]
    },
    {
     "data": {
      "text/plain": "bert:   0%|          | 0/58 [00:00<?, ?it/s]",
      "application/vnd.jupyter.widget-view+json": {
       "version_major": 2,
       "version_minor": 0,
       "model_id": "058fd0e232084c54b74517396a49d374"
      }
     },
     "metadata": {},
     "output_type": "display_data"
    },
    {
     "name": "stdout",
     "output_type": "stream",
     "text": [
      "2024-06-19 08:50:41.859217 - vectorizer_type='dicta-il/BEREL',vectorizer_matrix.shape=(58, 768)\n",
      "2024-06-19 08:50:41.859504 - fitting AgglomerativeClustering\n",
      "2024-06-19 08:50:41.862464 - getting linkage matrix\n",
      "2024-06-19 08:50:41.862617 - calculate_dasgupta_score\n",
      "2024-06-19 08:50:41.864502 - calculate rand dasgupta_score\n"
     ]
    },
    {
     "data": {
      "text/plain": "  0%|          | 0/2 [00:00<?, ?it/s]",
      "application/vnd.jupyter.widget-view+json": {
       "version_major": 2,
       "version_minor": 0,
       "model_id": "25e3f153be194a95b1929e15e06c9f22"
      }
     },
     "metadata": {},
     "output_type": "display_data"
    },
    {
     "name": "stdout",
     "output_type": "stream",
     "text": [
      "dasgupta_score=0.579244047263475, dasgupta_score_rand=0.32955232909860865\n"
     ]
    },
    {
     "name": "stderr",
     "output_type": "stream",
     "text": [
      "/Users/yonatanlou/.pyenv/versions/3.10.0/envs/QumranNLP/lib/python3.10/site-packages/huggingface_hub/file_download.py:1132: FutureWarning: `resume_download` is deprecated and will be removed in version 1.0.0. Downloads always resume when possible. If you want to force a new download, use `force_download=True`.\n",
      "  warnings.warn(\n",
      "/Users/yonatanlou/.pyenv/versions/3.10.0/envs/QumranNLP/lib/python3.10/site-packages/torch/_utils.py:776: UserWarning: TypedStorage is deprecated. It will be removed in the future and UntypedStorage will be the only storage class. This should only matter to you if you are using storages directly.  To access UntypedStorage directly, use tensor.untyped_storage() instead of tensor.storage()\n",
      "  return self.fget.__get__(instance, owner)()\n",
      "Some weights of BertModel were not initialized from the model checkpoint at onlplab/alephbert-base and are newly initialized: ['bert.pooler.dense.bias', 'bert.pooler.dense.weight']\n",
      "You should probably TRAIN this model on a down-stream task to be able to use it for predictions and inference.\n"
     ]
    },
    {
     "data": {
      "text/plain": "bert:   0%|          | 0/58 [00:00<?, ?it/s]",
      "application/vnd.jupyter.widget-view+json": {
       "version_major": 2,
       "version_minor": 0,
       "model_id": "aae1aa35fe314d7b8345ae90ba704553"
      }
     },
     "metadata": {},
     "output_type": "display_data"
    },
    {
     "name": "stdout",
     "output_type": "stream",
     "text": [
      "2024-06-19 08:50:48.141234 - vectorizer_type='onlplab/alephbert-base',vectorizer_matrix.shape=(58, 768)\n",
      "2024-06-19 08:50:48.141402 - fitting AgglomerativeClustering\n",
      "2024-06-19 08:50:48.142741 - getting linkage matrix\n",
      "2024-06-19 08:50:48.142849 - calculate_dasgupta_score\n",
      "2024-06-19 08:50:48.144052 - calculate rand dasgupta_score\n"
     ]
    },
    {
     "data": {
      "text/plain": "  0%|          | 0/2 [00:00<?, ?it/s]",
      "application/vnd.jupyter.widget-view+json": {
       "version_major": 2,
       "version_minor": 0,
       "model_id": "f4b96c0251c145e6bd9cb4a9cfb25f50"
      }
     },
     "metadata": {},
     "output_type": "display_data"
    },
    {
     "name": "stdout",
     "output_type": "stream",
     "text": [
      "dasgupta_score=0.5779177873651724, dasgupta_score_rand=0.29310344827586216\n"
     ]
    },
    {
     "name": "stderr",
     "output_type": "stream",
     "text": [
      "/Users/yonatanlou/.pyenv/versions/3.10.0/envs/QumranNLP/lib/python3.10/site-packages/huggingface_hub/file_download.py:1132: FutureWarning: `resume_download` is deprecated and will be removed in version 1.0.0. Downloads always resume when possible. If you want to force a new download, use `force_download=True`.\n",
      "  warnings.warn(\n",
      "Some weights of BertModel were not initialized from the model checkpoint at dicta-il/dictabert-tiny and are newly initialized: ['bert.pooler.dense.bias', 'bert.pooler.dense.weight']\n",
      "You should probably TRAIN this model on a down-stream task to be able to use it for predictions and inference.\n"
     ]
    },
    {
     "data": {
      "text/plain": "bert:   0%|          | 0/58 [00:00<?, ?it/s]",
      "application/vnd.jupyter.widget-view+json": {
       "version_major": 2,
       "version_minor": 0,
       "model_id": "300b302f763443c4b83f0098a883b616"
      }
     },
     "metadata": {},
     "output_type": "display_data"
    },
    {
     "name": "stdout",
     "output_type": "stream",
     "text": [
      "2024-06-19 08:50:49.805357 - vectorizer_type='dicta-il/dictabert-tiny',vectorizer_matrix.shape=(58, 312)\n",
      "2024-06-19 08:50:49.805524 - fitting AgglomerativeClustering\n",
      "2024-06-19 08:50:49.806645 - getting linkage matrix\n",
      "2024-06-19 08:50:49.806781 - calculate_dasgupta_score\n",
      "2024-06-19 08:50:49.808005 - calculate rand dasgupta_score\n"
     ]
    },
    {
     "data": {
      "text/plain": "  0%|          | 0/2 [00:00<?, ?it/s]",
      "application/vnd.jupyter.widget-view+json": {
       "version_major": 2,
       "version_minor": 0,
       "model_id": "b082e93856044801a0f1b725cdda52cf"
      }
     },
     "metadata": {},
     "output_type": "display_data"
    },
    {
     "name": "stdout",
     "output_type": "stream",
     "text": [
      "dasgupta_score=0.7019230878564728, dasgupta_score_rand=0.3582879612825166\n"
     ]
    },
    {
     "name": "stderr",
     "output_type": "stream",
     "text": [
      "/Users/yonatanlou/.pyenv/versions/3.10.0/envs/QumranNLP/lib/python3.10/site-packages/huggingface_hub/file_download.py:1132: FutureWarning: `resume_download` is deprecated and will be removed in version 1.0.0. Downloads always resume when possible. If you want to force a new download, use `force_download=True`.\n",
      "  warnings.warn(\n",
      "Some weights of BertModel were not initialized from the model checkpoint at dicta-il/dictabert-large and are newly initialized: ['bert.pooler.dense.bias', 'bert.pooler.dense.weight']\n",
      "You should probably TRAIN this model on a down-stream task to be able to use it for predictions and inference.\n"
     ]
    },
    {
     "data": {
      "text/plain": "bert:   0%|          | 0/58 [00:00<?, ?it/s]",
      "application/vnd.jupyter.widget-view+json": {
       "version_major": 2,
       "version_minor": 0,
       "model_id": "b241ce22d1d5402cbb3a54673347b1f1"
      }
     },
     "metadata": {},
     "output_type": "display_data"
    },
    {
     "name": "stdout",
     "output_type": "stream",
     "text": [
      "2024-06-19 08:51:08.697617 - vectorizer_type='dicta-il/dictabert-large',vectorizer_matrix.shape=(58, 1024)\n",
      "2024-06-19 08:51:08.697817 - fitting AgglomerativeClustering\n",
      "2024-06-19 08:51:08.699564 - getting linkage matrix\n",
      "2024-06-19 08:51:08.699704 - calculate_dasgupta_score\n",
      "2024-06-19 08:51:08.701292 - calculate rand dasgupta_score\n"
     ]
    },
    {
     "data": {
      "text/plain": "  0%|          | 0/2 [00:00<?, ?it/s]",
      "application/vnd.jupyter.widget-view+json": {
       "version_major": 2,
       "version_minor": 0,
       "model_id": "8201c4d34237443996b21208713e1ff0"
      }
     },
     "metadata": {},
     "output_type": "display_data"
    },
    {
     "name": "stdout",
     "output_type": "stream",
     "text": [
      "dasgupta_score=0.6432360873565793, dasgupta_score_rand=0.36645493042952215\n"
     ]
    },
    {
     "name": "stderr",
     "output_type": "stream",
     "text": [
      "/Users/yonatanlou/.pyenv/versions/3.10.0/envs/QumranNLP/lib/python3.10/site-packages/huggingface_hub/file_download.py:1132: FutureWarning: `resume_download` is deprecated and will be removed in version 1.0.0. Downloads always resume when possible. If you want to force a new download, use `force_download=True`.\n",
      "  warnings.warn(\n",
      "Some weights of BertModel were not initialized from the model checkpoint at dicta-il/dictabert and are newly initialized: ['bert.pooler.dense.bias', 'bert.pooler.dense.weight']\n",
      "You should probably TRAIN this model on a down-stream task to be able to use it for predictions and inference.\n"
     ]
    },
    {
     "data": {
      "text/plain": "bert:   0%|          | 0/58 [00:00<?, ?it/s]",
      "application/vnd.jupyter.widget-view+json": {
       "version_major": 2,
       "version_minor": 0,
       "model_id": "22801882eb6c4892b67070453ea1ca8c"
      }
     },
     "metadata": {},
     "output_type": "display_data"
    },
    {
     "name": "stdout",
     "output_type": "stream",
     "text": [
      "2024-06-19 08:51:14.604180 - vectorizer_type='dicta-il/dictabert',vectorizer_matrix.shape=(58, 768)\n",
      "2024-06-19 08:51:14.604370 - fitting AgglomerativeClustering\n",
      "2024-06-19 08:51:14.605824 - getting linkage matrix\n",
      "2024-06-19 08:51:14.605963 - calculate_dasgupta_score\n",
      "2024-06-19 08:51:14.607470 - calculate rand dasgupta_score\n"
     ]
    },
    {
     "data": {
      "text/plain": "  0%|          | 0/2 [00:00<?, ?it/s]",
      "application/vnd.jupyter.widget-view+json": {
       "version_major": 2,
       "version_minor": 0,
       "model_id": "a0d65b40253f456f8190c74dd0ed80da"
      }
     },
     "metadata": {},
     "output_type": "display_data"
    },
    {
     "name": "stdout",
     "output_type": "stream",
     "text": [
      "dasgupta_score=0.5901856914244722, dasgupta_score_rand=0.27616454930429535\n",
      "\n",
      "2024-06-19 08:51:14.655246 - vectorizer_type='tfidf',vectorizer_matrix.shape=(58, 2089)\n",
      "2024-06-19 08:51:14.655764 - fitting AgglomerativeClustering\n",
      "2024-06-19 08:51:14.659388 - getting linkage matrix\n",
      "2024-06-19 08:51:14.659587 - calculate_dasgupta_score\n",
      "2024-06-19 08:51:14.661235 - calculate rand dasgupta_score\n"
     ]
    },
    {
     "data": {
      "text/plain": "  0%|          | 0/2 [00:00<?, ?it/s]",
      "application/vnd.jupyter.widget-view+json": {
       "version_major": 2,
       "version_minor": 0,
       "model_id": "06e147fc523a481dbe8e300e8b0a72e5"
      }
     },
     "metadata": {},
     "output_type": "display_data"
    },
    {
     "name": "stdout",
     "output_type": "stream",
     "text": [
      "dasgupta_score=0.506962882805979, dasgupta_score_rand=0.3136721113127646\n",
      "\n",
      "2024-06-19 08:51:14.715500 - vectorizer_type='trigram',vectorizer_matrix.shape=(58, 3269)\n",
      "2024-06-19 08:51:14.715787 - fitting AgglomerativeClustering\n",
      "2024-06-19 08:51:14.718981 - getting linkage matrix\n",
      "2024-06-19 08:51:14.719128 - calculate_dasgupta_score\n",
      "2024-06-19 08:51:14.720768 - calculate rand dasgupta_score\n"
     ]
    },
    {
     "data": {
      "text/plain": "  0%|          | 0/2 [00:00<?, ?it/s]",
      "application/vnd.jupyter.widget-view+json": {
       "version_major": 2,
       "version_minor": 0,
       "model_id": "20764f5cef094003be602919ad4b760f"
      }
     },
     "metadata": {},
     "output_type": "display_data"
    },
    {
     "name": "stdout",
     "output_type": "stream",
     "text": [
      "dasgupta_score=0.4214191193654563, dasgupta_score_rand=0.32456140350877194\n",
      "\n",
      "2024-06-19 08:51:14.760142 - vectorizer_type='starr',vectorizer_matrix.shape=(58, 16)\n",
      "2024-06-19 08:51:14.760227 - fitting AgglomerativeClustering\n",
      "2024-06-19 08:51:14.761013 - getting linkage matrix\n",
      "2024-06-19 08:51:14.761254 - calculate_dasgupta_score\n",
      "2024-06-19 08:51:14.763170 - calculate rand dasgupta_score\n"
     ]
    },
    {
     "data": {
      "text/plain": "  0%|          | 0/2 [00:00<?, ?it/s]",
      "application/vnd.jupyter.widget-view+json": {
       "version_major": 2,
       "version_minor": 0,
       "model_id": "d21c146e4d3445a6884e2addb1f475a3"
      }
     },
     "metadata": {},
     "output_type": "display_data"
    },
    {
     "name": "stdout",
     "output_type": "stream",
     "text": [
      "dasgupta_score=0.5394562503143947, dasgupta_score_rand=0.2923472474289171\n",
      "2024-06-19 08:51:14.864624 - sampled_df.shape=(58, 26)\n"
     ]
    },
    {
     "data": {
      "text/plain": "Building adjacency matrix:   0%|          | 0/58 [00:00<?, ?it/s]",
      "application/vnd.jupyter.widget-view+json": {
       "version_major": 2,
       "version_minor": 0,
       "model_id": "248fbc3aa52c405a86f3462594ae5faf"
      }
     },
     "metadata": {},
     "output_type": "display_data"
    },
    {
     "data": {
      "text/plain": "  0%|          | 0/8 [00:00<?, ?it/s]",
      "application/vnd.jupyter.widget-view+json": {
       "version_major": 2,
       "version_minor": 0,
       "model_id": "4954d527d24b49e587035eef9a9a4fcf"
      }
     },
     "metadata": {},
     "output_type": "display_data"
    },
    {
     "name": "stderr",
     "output_type": "stream",
     "text": [
      "/Users/yonatanlou/.pyenv/versions/3.10.0/envs/QumranNLP/lib/python3.10/site-packages/huggingface_hub/file_download.py:1132: FutureWarning: `resume_download` is deprecated and will be removed in version 1.0.0. Downloads always resume when possible. If you want to force a new download, use `force_download=True`.\n",
      "  warnings.warn(\n",
      "Some weights of BertModel were not initialized from the model checkpoint at dicta-il/BEREL and are newly initialized: ['bert.pooler.dense.bias', 'bert.pooler.dense.weight']\n",
      "You should probably TRAIN this model on a down-stream task to be able to use it for predictions and inference.\n"
     ]
    },
    {
     "data": {
      "text/plain": "bert:   0%|          | 0/58 [00:00<?, ?it/s]",
      "application/vnd.jupyter.widget-view+json": {
       "version_major": 2,
       "version_minor": 0,
       "model_id": "9043743bdc91464587c5594b635e0c84"
      }
     },
     "metadata": {},
     "output_type": "display_data"
    },
    {
     "name": "stdout",
     "output_type": "stream",
     "text": [
      "2024-06-19 08:51:20.411096 - vectorizer_type='dicta-il/BEREL',vectorizer_matrix.shape=(58, 768)\n",
      "2024-06-19 08:51:20.411362 - fitting AgglomerativeClustering\n",
      "2024-06-19 08:51:20.412840 - getting linkage matrix\n",
      "2024-06-19 08:51:20.413022 - calculate_dasgupta_score\n",
      "2024-06-19 08:51:20.414593 - calculate rand dasgupta_score\n"
     ]
    },
    {
     "data": {
      "text/plain": "  0%|          | 0/2 [00:00<?, ?it/s]",
      "application/vnd.jupyter.widget-view+json": {
       "version_major": 2,
       "version_minor": 0,
       "model_id": "95de57777b2541c28fbf7101bb6aaaa4"
      }
     },
     "metadata": {},
     "output_type": "display_data"
    },
    {
     "name": "stdout",
     "output_type": "stream",
     "text": [
      "dasgupta_score=0.33228840125391845, dasgupta_score_rand=0.29249848759830616\n"
     ]
    },
    {
     "name": "stderr",
     "output_type": "stream",
     "text": [
      "/Users/yonatanlou/.pyenv/versions/3.10.0/envs/QumranNLP/lib/python3.10/site-packages/huggingface_hub/file_download.py:1132: FutureWarning: `resume_download` is deprecated and will be removed in version 1.0.0. Downloads always resume when possible. If you want to force a new download, use `force_download=True`.\n",
      "  warnings.warn(\n",
      "Some weights of BertModel were not initialized from the model checkpoint at onlplab/alephbert-base and are newly initialized: ['bert.pooler.dense.bias', 'bert.pooler.dense.weight']\n",
      "You should probably TRAIN this model on a down-stream task to be able to use it for predictions and inference.\n"
     ]
    },
    {
     "data": {
      "text/plain": "bert:   0%|          | 0/58 [00:00<?, ?it/s]",
      "application/vnd.jupyter.widget-view+json": {
       "version_major": 2,
       "version_minor": 0,
       "model_id": "2ccf07aadddc4d31a5df65001e586fc5"
      }
     },
     "metadata": {},
     "output_type": "display_data"
    },
    {
     "name": "stdout",
     "output_type": "stream",
     "text": [
      "2024-06-19 08:51:25.688974 - vectorizer_type='onlplab/alephbert-base',vectorizer_matrix.shape=(58, 768)\n",
      "2024-06-19 08:51:25.689192 - fitting AgglomerativeClustering\n",
      "2024-06-19 08:51:25.690962 - getting linkage matrix\n",
      "2024-06-19 08:51:25.691100 - calculate_dasgupta_score\n",
      "2024-06-19 08:51:25.692610 - calculate rand dasgupta_score\n"
     ]
    },
    {
     "data": {
      "text/plain": "  0%|          | 0/2 [00:00<?, ?it/s]",
      "application/vnd.jupyter.widget-view+json": {
       "version_major": 2,
       "version_minor": 0,
       "model_id": "7e2fc54720f54e8a82fe7eb9b5744883"
      }
     },
     "metadata": {},
     "output_type": "display_data"
    },
    {
     "name": "stdout",
     "output_type": "stream",
     "text": [
      "dasgupta_score=0.34378265412748166, dasgupta_score_rand=0.3042952208106474\n"
     ]
    },
    {
     "name": "stderr",
     "output_type": "stream",
     "text": [
      "/Users/yonatanlou/.pyenv/versions/3.10.0/envs/QumranNLP/lib/python3.10/site-packages/huggingface_hub/file_download.py:1132: FutureWarning: `resume_download` is deprecated and will be removed in version 1.0.0. Downloads always resume when possible. If you want to force a new download, use `force_download=True`.\n",
      "  warnings.warn(\n",
      "Some weights of BertModel were not initialized from the model checkpoint at dicta-il/dictabert-tiny and are newly initialized: ['bert.pooler.dense.bias', 'bert.pooler.dense.weight']\n",
      "You should probably TRAIN this model on a down-stream task to be able to use it for predictions and inference.\n"
     ]
    },
    {
     "data": {
      "text/plain": "bert:   0%|          | 0/58 [00:00<?, ?it/s]",
      "application/vnd.jupyter.widget-view+json": {
       "version_major": 2,
       "version_minor": 0,
       "model_id": "d88091bb061a4b20ad16543a2a7fc7c7"
      }
     },
     "metadata": {},
     "output_type": "display_data"
    },
    {
     "name": "stdout",
     "output_type": "stream",
     "text": [
      "2024-06-19 08:51:27.111834 - vectorizer_type='dicta-il/dictabert-tiny',vectorizer_matrix.shape=(58, 312)\n",
      "2024-06-19 08:51:27.112016 - fitting AgglomerativeClustering\n",
      "2024-06-19 08:51:27.113061 - getting linkage matrix\n",
      "2024-06-19 08:51:27.113175 - calculate_dasgupta_score\n",
      "2024-06-19 08:51:27.114443 - calculate rand dasgupta_score\n"
     ]
    },
    {
     "data": {
      "text/plain": "  0%|          | 0/2 [00:00<?, ?it/s]",
      "application/vnd.jupyter.widget-view+json": {
       "version_major": 2,
       "version_minor": 0,
       "model_id": "a4be22e136c84a09a135277a447d7ea5"
      }
     },
     "metadata": {},
     "output_type": "display_data"
    },
    {
     "name": "stdout",
     "output_type": "stream",
     "text": [
      "dasgupta_score=0.3704284221525601, dasgupta_score_rand=0.3573805202661827\n"
     ]
    },
    {
     "name": "stderr",
     "output_type": "stream",
     "text": [
      "/Users/yonatanlou/.pyenv/versions/3.10.0/envs/QumranNLP/lib/python3.10/site-packages/huggingface_hub/file_download.py:1132: FutureWarning: `resume_download` is deprecated and will be removed in version 1.0.0. Downloads always resume when possible. If you want to force a new download, use `force_download=True`.\n",
      "  warnings.warn(\n",
      "Some weights of BertModel were not initialized from the model checkpoint at dicta-il/dictabert-large and are newly initialized: ['bert.pooler.dense.bias', 'bert.pooler.dense.weight']\n",
      "You should probably TRAIN this model on a down-stream task to be able to use it for predictions and inference.\n"
     ]
    },
    {
     "data": {
      "text/plain": "bert:   0%|          | 0/58 [00:00<?, ?it/s]",
      "application/vnd.jupyter.widget-view+json": {
       "version_major": 2,
       "version_minor": 0,
       "model_id": "38f34e49dfee4a958f82e66c89e9c057"
      }
     },
     "metadata": {},
     "output_type": "display_data"
    },
    {
     "name": "stdout",
     "output_type": "stream",
     "text": [
      "2024-06-19 08:51:48.242776 - vectorizer_type='dicta-il/dictabert-large',vectorizer_matrix.shape=(58, 1024)\n",
      "2024-06-19 08:51:48.243048 - fitting AgglomerativeClustering\n",
      "2024-06-19 08:51:48.257889 - getting linkage matrix\n",
      "2024-06-19 08:51:48.258083 - calculate_dasgupta_score\n",
      "2024-06-19 08:51:48.260070 - calculate rand dasgupta_score\n"
     ]
    },
    {
     "data": {
      "text/plain": "  0%|          | 0/2 [00:00<?, ?it/s]",
      "application/vnd.jupyter.widget-view+json": {
       "version_major": 2,
       "version_minor": 0,
       "model_id": "81368f5dcfe84a619de13423f028e11d"
      }
     },
     "metadata": {},
     "output_type": "display_data"
    },
    {
     "name": "stdout",
     "output_type": "stream",
     "text": [
      "dasgupta_score=0.29832810867293624, dasgupta_score_rand=0.33106473079249854\n"
     ]
    },
    {
     "name": "stderr",
     "output_type": "stream",
     "text": [
      "/Users/yonatanlou/.pyenv/versions/3.10.0/envs/QumranNLP/lib/python3.10/site-packages/huggingface_hub/file_download.py:1132: FutureWarning: `resume_download` is deprecated and will be removed in version 1.0.0. Downloads always resume when possible. If you want to force a new download, use `force_download=True`.\n",
      "  warnings.warn(\n",
      "Some weights of BertModel were not initialized from the model checkpoint at dicta-il/dictabert and are newly initialized: ['bert.pooler.dense.bias', 'bert.pooler.dense.weight']\n",
      "You should probably TRAIN this model on a down-stream task to be able to use it for predictions and inference.\n"
     ]
    },
    {
     "data": {
      "text/plain": "bert:   0%|          | 0/58 [00:00<?, ?it/s]",
      "application/vnd.jupyter.widget-view+json": {
       "version_major": 2,
       "version_minor": 0,
       "model_id": "20f8d1e5d4ac46e68b44dcfbedcc6e71"
      }
     },
     "metadata": {},
     "output_type": "display_data"
    },
    {
     "name": "stdout",
     "output_type": "stream",
     "text": [
      "2024-06-19 08:51:56.380651 - vectorizer_type='dicta-il/dictabert',vectorizer_matrix.shape=(58, 768)\n",
      "2024-06-19 08:51:56.380879 - fitting AgglomerativeClustering\n",
      "2024-06-19 08:51:56.390313 - getting linkage matrix\n",
      "2024-06-19 08:51:56.390507 - calculate_dasgupta_score\n",
      "2024-06-19 08:51:56.392551 - calculate rand dasgupta_score\n"
     ]
    },
    {
     "data": {
      "text/plain": "  0%|          | 0/2 [00:00<?, ?it/s]",
      "application/vnd.jupyter.widget-view+json": {
       "version_major": 2,
       "version_minor": 0,
       "model_id": "d4bac54bdd9d420f8b12b38f73a8992c"
      }
     },
     "metadata": {},
     "output_type": "display_data"
    },
    {
     "name": "stdout",
     "output_type": "stream",
     "text": [
      "dasgupta_score=0.3244514106583072, dasgupta_score_rand=0.3120084694494858\n",
      "\n",
      "2024-06-19 08:51:56.447734 - vectorizer_type='tfidf',vectorizer_matrix.shape=(58, 1766)\n",
      "2024-06-19 08:51:56.448315 - fitting AgglomerativeClustering\n",
      "2024-06-19 08:51:56.451593 - getting linkage matrix\n",
      "2024-06-19 08:51:56.451911 - calculate_dasgupta_score\n",
      "2024-06-19 08:51:56.456266 - calculate rand dasgupta_score\n"
     ]
    },
    {
     "data": {
      "text/plain": "  0%|          | 0/2 [00:00<?, ?it/s]",
      "application/vnd.jupyter.widget-view+json": {
       "version_major": 2,
       "version_minor": 0,
       "model_id": "be088fe8e6a24770932bd6fe9ff2a29d"
      }
     },
     "metadata": {},
     "output_type": "display_data"
    },
    {
     "name": "stdout",
     "output_type": "stream",
     "text": [
      "dasgupta_score=0.4247648902821317, dasgupta_score_rand=0.3339382940108893\n",
      "\n",
      "2024-06-19 08:51:56.536854 - vectorizer_type='trigram',vectorizer_matrix.shape=(58, 3024)\n",
      "2024-06-19 08:51:56.537215 - fitting AgglomerativeClustering\n",
      "2024-06-19 08:51:56.541663 - getting linkage matrix\n",
      "2024-06-19 08:51:56.541858 - calculate_dasgupta_score\n",
      "2024-06-19 08:51:56.552667 - calculate rand dasgupta_score\n"
     ]
    },
    {
     "data": {
      "text/plain": "  0%|          | 0/2 [00:00<?, ?it/s]",
      "application/vnd.jupyter.widget-view+json": {
       "version_major": 2,
       "version_minor": 0,
       "model_id": "cc3a92475aa84e1099b9d952c65d4690"
      }
     },
     "metadata": {},
     "output_type": "display_data"
    },
    {
     "name": "stdout",
     "output_type": "stream",
     "text": [
      "dasgupta_score=0.2173458725182862, dasgupta_score_rand=0.3253176043557169\n",
      "\n",
      "2024-06-19 08:51:56.608883 - vectorizer_type='starr',vectorizer_matrix.shape=(58, 16)\n",
      "2024-06-19 08:51:56.609128 - fitting AgglomerativeClustering\n",
      "2024-06-19 08:51:56.609994 - getting linkage matrix\n",
      "2024-06-19 08:51:56.610185 - calculate_dasgupta_score\n",
      "2024-06-19 08:51:56.612415 - calculate rand dasgupta_score\n"
     ]
    },
    {
     "data": {
      "text/plain": "  0%|          | 0/2 [00:00<?, ?it/s]",
      "application/vnd.jupyter.widget-view+json": {
       "version_major": 2,
       "version_minor": 0,
       "model_id": "219f93943a4b4c0c996fb5f35632bb0a"
      }
     },
     "metadata": {},
     "output_type": "display_data"
    },
    {
     "name": "stdout",
     "output_type": "stream",
     "text": [
      "dasgupta_score=0.17868338557993724, dasgupta_score_rand=0.3604053236539625\n"
     ]
    },
    {
     "data": {
      "text/plain": "<Figure size 1500x1000 with 1 Axes>",
      "image/png": "[encoded data removed]"
     },
     "metadata": {},
     "output_type": "display_data"
    },
    {
     "data": {
      "text/plain": "<Figure size 1000x600 with 1 Axes>",
      "image/png": "[encoded data removed]"
     },
     "metadata": {},
     "output_type": "display_data"
    }
   ],
   "source": [
    "from notebooks.plots_utils import create_dasgupta_score_plot\n",
    "from notebooks.plots_utils import create_lca_metric_boxplot\n",
    "from notebooks.clustering_main import run_clustering_cv\n",
    "from notebooks.constants import BERT_MODELS\n",
    "from notebooks.notebooks_utils import set_seed_globaly\n",
    "\n",
    "set_seed_globaly()\n",
    "\n",
    "PATH = f\"{BASE_DIR}/notebooks/data/test\"\n",
    "NUM_CVS = 2\n",
    "FRAC = 0.05\n",
    "CONTEXT_SIMILIARITY_WINDOW = 3\n",
    "vectorizers = BERT_MODELS + ['tfidf', 'trigram', 'starr']\n",
    "linkage_method = \"ward\"\n",
    "file_name = 'dasgupta_scores_window_{}_composition_frac_{}_linkage_{}'.format(CONTEXT_SIMILIARITY_WINDOW,\n",
    "                                                                              str(FRAC).replace(\".\", \"_\"),\n",
    "                                                                              linkage_method)\n",
    "if RERUN:\n",
    "    scores_df = run_clustering_cv(df, FRAC, NUM_CVS, CONTEXT_SIMILIARITY_WINDOW, vectorizers, linkage_method)\n",
    "    scores_df.to_csv(f\"{PATH}/{file_name}.csv\", index=False)\n",
    "else:\n",
    "    scores_df = pd.read_csv(f\"{PATH}/{file_name}.csv\")\n",
    "\n",
    "create_dasgupta_score_plot(scores_df, CHUNK_SIZE, NUM_CVS, FRAC, linkage_method, f\"{PATH}/{file_name}\",\n",
    "                           show_p_val=False,\n",
    "                           p_val_random_test=False, show_mean_scores=True)\n",
    "\n",
    "create_lca_metric_boxplot(scores_df, f\"{PATH}/{file_name}_max_dist\")"
   ]
  },
  {
   "cell_type": "code",
   "execution_count": 15,
   "metadata": {
    "collapsed": false,
    "execution": {
     "iopub.execute_input": "2024-06-17T20:17:12.674648Z",
     "iopub.status.busy": "2024-06-17T20:17:12.673839Z",
     "iopub.status.idle": "2024-06-17T20:17:12.970434Z",
     "shell.execute_reply": "2024-06-17T20:17:12.969566Z",
     "shell.execute_reply.started": "2024-06-17T20:17:12.674614Z"
    }
   },
   "outputs": [
    {
     "data": {
      "text/html": [
       "<div>\n",
       "<style scoped>\n",
       "    .dataframe tbody tr th:only-of-type {\n",
       "        vertical-align: middle;\n",
       "    }\n",
       "\n",
       "    .dataframe tbody tr th {\n",
       "        vertical-align: top;\n",
       "    }\n",
       "\n",
       "    .dataframe thead th {\n",
       "        text-align: right;\n",
       "    }\n",
       "</style>\n",
       "<table border=\"1\" class=\"dataframe\">\n",
       "  <thead>\n",
       "    <tr style=\"text-align: right;\">\n",
       "      <th></th>\n",
       "      <th>book</th>\n",
       "      <th>sentence_path</th>\n",
       "      <th>text_lex</th>\n",
       "      <th>text</th>\n",
       "      <th>n_words_lex</th>\n",
       "      <th>n_words</th>\n",
       "      <th>construct to absolute nouns ratio</th>\n",
       "      <th>construct nouns and adjectives percentage</th>\n",
       "      <th>noun to verb ratio</th>\n",
       "      <th>definite_article_percentage</th>\n",
       "      <th>...</th>\n",
       "      <th>preterite percentage</th>\n",
       "      <th>ky percentage</th>\n",
       "      <th>aCr percentage</th>\n",
       "      <th>oM percentage</th>\n",
       "      <th>kya percentage</th>\n",
       "      <th>all conjunctions percentage</th>\n",
       "      <th>non-finite to finite verbs ratio</th>\n",
       "      <th>passive verb forms percentage</th>\n",
       "      <th>total word count</th>\n",
       "      <th>bib</th>\n",
       "    </tr>\n",
       "  </thead>\n",
       "  <tbody>\n",
       "    <tr>\n",
       "      <th>0</th>\n",
       "      <td>CD</td>\n",
       "      <td>CD:1:1-1:12</td>\n",
       "      <td>שמע כל ידע צדק בין מעשה אל ריב ל כל בשר משפט ע...</td>\n",
       "      <td>ועתה שמעו כל יודעי צדק ובינו במעשי אל כי ריב ל...</td>\n",
       "      <td>82</td>\n",
       "      <td>92</td>\n",
       "      <td>0.666667</td>\n",
       "      <td>0.110092</td>\n",
       "      <td>2.250000</td>\n",
       "      <td>0.917431</td>\n",
       "      <td>...</td>\n",
       "      <td>6.422018</td>\n",
       "      <td>0.0</td>\n",
       "      <td>0.0</td>\n",
       "      <td>0.0</td>\n",
       "      <td>0.0</td>\n",
       "      <td>21.100917</td>\n",
       "      <td>0.333333</td>\n",
       "      <td>0.000000</td>\n",
       "      <td>109.0</td>\n",
       "      <td>nonbib</td>\n",
       "    </tr>\n",
       "    <tr>\n",
       "      <th>1</th>\n",
       "      <td>CD</td>\n",
       "      <td>CD:1:12-2:1</td>\n",
       "      <td>אחרון עשה דור אחרון עדה בגד הם סור דרך היא עת ...</td>\n",
       "      <td>אחרונים את אשר עשה בדור אחרון בעדת בוגדים הם ס...</td>\n",
       "      <td>85</td>\n",
       "      <td>96</td>\n",
       "      <td>0.545455</td>\n",
       "      <td>0.114286</td>\n",
       "      <td>1.241379</td>\n",
       "      <td>4.761905</td>\n",
       "      <td>...</td>\n",
       "      <td>9.523810</td>\n",
       "      <td>0.0</td>\n",
       "      <td>0.0</td>\n",
       "      <td>0.0</td>\n",
       "      <td>0.0</td>\n",
       "      <td>14.285714</td>\n",
       "      <td>0.705882</td>\n",
       "      <td>0.000000</td>\n",
       "      <td>105.0</td>\n",
       "      <td>nonbib</td>\n",
       "    </tr>\n",
       "    <tr>\n",
       "      <th>2</th>\n",
       "      <td>CD</td>\n",
       "      <td>CD:2:1-2:10</td>\n",
       "      <td>כל המון מעשה נדה פנה שמע אל כל בוא ברית גלה אז...</td>\n",
       "      <td>את כל המונם ומעשיהם לנדה לפניו ועתה שמעו אלי כ...</td>\n",
       "      <td>79</td>\n",
       "      <td>94</td>\n",
       "      <td>0.481481</td>\n",
       "      <td>0.130841</td>\n",
       "      <td>2.222222</td>\n",
       "      <td>0.934579</td>\n",
       "      <td>...</td>\n",
       "      <td>2.803738</td>\n",
       "      <td>0.0</td>\n",
       "      <td>0.0</td>\n",
       "      <td>0.0</td>\n",
       "      <td>0.0</td>\n",
       "      <td>17.757009</td>\n",
       "      <td>0.800000</td>\n",
       "      <td>1.869159</td>\n",
       "      <td>107.0</td>\n",
       "      <td>nonbib</td>\n",
       "    </tr>\n",
       "    <tr>\n",
       "      <th>3</th>\n",
       "      <td>CD</td>\n",
       "      <td>CD:2:10-2:20</td>\n",
       "      <td>כל שנה עולם כל קום ל קריא שם יתר פליטה ארץ מלא...</td>\n",
       "      <td>לכל שני עולם ובכולם הקים לו קריאי שם למען התיר...</td>\n",
       "      <td>79</td>\n",
       "      <td>94</td>\n",
       "      <td>1.250000</td>\n",
       "      <td>0.205607</td>\n",
       "      <td>1.714286</td>\n",
       "      <td>0.934579</td>\n",
       "      <td>...</td>\n",
       "      <td>0.000000</td>\n",
       "      <td>0.0</td>\n",
       "      <td>0.0</td>\n",
       "      <td>0.0</td>\n",
       "      <td>0.0</td>\n",
       "      <td>17.757009</td>\n",
       "      <td>0.615385</td>\n",
       "      <td>1.869159</td>\n",
       "      <td>107.0</td>\n",
       "      <td>nonbib</td>\n",
       "    </tr>\n",
       "    <tr>\n",
       "      <th>4</th>\n",
       "      <td>CD</td>\n",
       "      <td>CD:2:20-3:8</td>\n",
       "      <td>בשר היה חרבה גוע היה היה עשה רצון שמר מצוה עשה...</td>\n",
       "      <td>בשר אשר היה בחרבה כי גוע ויהיו כלא היו בעשותם ...</td>\n",
       "      <td>81</td>\n",
       "      <td>95</td>\n",
       "      <td>1.100000</td>\n",
       "      <td>0.103774</td>\n",
       "      <td>1.000000</td>\n",
       "      <td>1.886792</td>\n",
       "      <td>...</td>\n",
       "      <td>9.433962</td>\n",
       "      <td>0.0</td>\n",
       "      <td>0.0</td>\n",
       "      <td>0.0</td>\n",
       "      <td>0.0</td>\n",
       "      <td>18.867925</td>\n",
       "      <td>0.217391</td>\n",
       "      <td>6.603774</td>\n",
       "      <td>106.0</td>\n",
       "      <td>nonbib</td>\n",
       "    </tr>\n",
       "    <tr>\n",
       "      <th>...</th>\n",
       "      <td>...</td>\n",
       "      <td>...</td>\n",
       "      <td>...</td>\n",
       "      <td>...</td>\n",
       "      <td>...</td>\n",
       "      <td>...</td>\n",
       "      <td>...</td>\n",
       "      <td>...</td>\n",
       "      <td>...</td>\n",
       "      <td>...</td>\n",
       "      <td>...</td>\n",
       "      <td>...</td>\n",
       "      <td>...</td>\n",
       "      <td>...</td>\n",
       "      <td>...</td>\n",
       "      <td>...</td>\n",
       "      <td>...</td>\n",
       "      <td>...</td>\n",
       "      <td>...</td>\n",
       "      <td>...</td>\n",
       "      <td>...</td>\n",
       "    </tr>\n",
       "    <tr>\n",
       "      <th>4445</th>\n",
       "      <td>Arugleviticus</td>\n",
       "      <td>Arugleviticus:fB+Cii:14-fB+Cii:16</td>\n",
       "      <td>מות נכה נפש בהמה שלם נפש תחת נפש</td>\n",
       "      <td>יומת ומכה נפש בהמה ישלמנה נפש תחת נפש</td>\n",
       "      <td>9</td>\n",
       "      <td>9</td>\n",
       "      <td>0.500000</td>\n",
       "      <td>0.083333</td>\n",
       "      <td>2.500000</td>\n",
       "      <td>0.000000</td>\n",
       "      <td>...</td>\n",
       "      <td>0.000000</td>\n",
       "      <td>0.0</td>\n",
       "      <td>0.0</td>\n",
       "      <td>0.0</td>\n",
       "      <td>0.0</td>\n",
       "      <td>8.333333</td>\n",
       "      <td>1.000000</td>\n",
       "      <td>8.333333</td>\n",
       "      <td>12.0</td>\n",
       "      <td>bib</td>\n",
       "    </tr>\n",
       "    <tr>\n",
       "      <th>4446</th>\n",
       "      <td>Xjoshua</td>\n",
       "      <td>Xjoshua:1:1-2:9</td>\n",
       "      <td>צוה חזק אמץ ערץ חתת עם יהוה אלהים כל הלך צוה י...</td>\n",
       "      <td>הלוא צויתיך חזק ואמץ אל תערץ ואל תחת כי עמך יה...</td>\n",
       "      <td>62</td>\n",
       "      <td>78</td>\n",
       "      <td>1.333333</td>\n",
       "      <td>0.044944</td>\n",
       "      <td>1.045455</td>\n",
       "      <td>13.483146</td>\n",
       "      <td>...</td>\n",
       "      <td>3.370787</td>\n",
       "      <td>0.0</td>\n",
       "      <td>0.0</td>\n",
       "      <td>0.0</td>\n",
       "      <td>0.0</td>\n",
       "      <td>15.730337</td>\n",
       "      <td>0.466667</td>\n",
       "      <td>1.123596</td>\n",
       "      <td>89.0</td>\n",
       "      <td>bib</td>\n",
       "    </tr>\n",
       "    <tr>\n",
       "      <th>4447</th>\n",
       "      <td>Xjudges</td>\n",
       "      <td>Xjudges:f1:1-f3_7i:5</td>\n",
       "      <td>הלך יהודה כנעני ישב חברון שם חברון פנה קרית אר...</td>\n",
       "      <td>וילך יהודה אל הכנעני הישב בחברון ושם חברון לפנ...</td>\n",
       "      <td>80</td>\n",
       "      <td>93</td>\n",
       "      <td>-1.000000</td>\n",
       "      <td>0.074074</td>\n",
       "      <td>1.791667</td>\n",
       "      <td>7.407407</td>\n",
       "      <td>...</td>\n",
       "      <td>12.037037</td>\n",
       "      <td>0.0</td>\n",
       "      <td>0.0</td>\n",
       "      <td>0.0</td>\n",
       "      <td>0.0</td>\n",
       "      <td>23.148148</td>\n",
       "      <td>0.200000</td>\n",
       "      <td>0.000000</td>\n",
       "      <td>108.0</td>\n",
       "      <td>bib</td>\n",
       "    </tr>\n",
       "    <tr>\n",
       "      <th>4448</th>\n",
       "      <td>Xjudges</td>\n",
       "      <td>Xjudges:f3_7i:5-f3_7ii:1</td>\n",
       "      <td>משך הר תבור לקח עם עשרה אלף איש בן נפתלי בן זב...</td>\n",
       "      <td>ומשכת בהר תבור ולקחת עמך עשרת אלפים איש מבני נ...</td>\n",
       "      <td>42</td>\n",
       "      <td>54</td>\n",
       "      <td>6.000000</td>\n",
       "      <td>0.093750</td>\n",
       "      <td>1.333333</td>\n",
       "      <td>1.562500</td>\n",
       "      <td>...</td>\n",
       "      <td>3.125000</td>\n",
       "      <td>0.0</td>\n",
       "      <td>0.0</td>\n",
       "      <td>0.0</td>\n",
       "      <td>0.0</td>\n",
       "      <td>21.875000</td>\n",
       "      <td>0.090909</td>\n",
       "      <td>0.000000</td>\n",
       "      <td>64.0</td>\n",
       "      <td>bib</td>\n",
       "    </tr>\n",
       "    <tr>\n",
       "      <th>4449</th>\n",
       "      <td>X4</td>\n",
       "      <td>X4:f1:1-f2:3</td>\n",
       "      <td>הלך ל מלקוש עבל אלה</td>\n",
       "      <td>לא אלך ל מלקוש עבל אלה</td>\n",
       "      <td>6</td>\n",
       "      <td>8</td>\n",
       "      <td>-1.000000</td>\n",
       "      <td>0.000000</td>\n",
       "      <td>1.000000</td>\n",
       "      <td>0.000000</td>\n",
       "      <td>...</td>\n",
       "      <td>0.000000</td>\n",
       "      <td>0.0</td>\n",
       "      <td>0.0</td>\n",
       "      <td>0.0</td>\n",
       "      <td>0.0</td>\n",
       "      <td>0.000000</td>\n",
       "      <td>0.000000</td>\n",
       "      <td>0.000000</td>\n",
       "      <td>21.0</td>\n",
       "      <td>bib</td>\n",
       "    </tr>\n",
       "  </tbody>\n",
       "</table>\n",
       "<p>4450 rows × 23 columns</p>\n",
       "</div>"
      ],
      "text/plain": [
       "               book                      sentence_path  \\\n",
       "0                CD                        CD:1:1-1:12   \n",
       "1                CD                        CD:1:12-2:1   \n",
       "2                CD                        CD:2:1-2:10   \n",
       "3                CD                       CD:2:10-2:20   \n",
       "4                CD                        CD:2:20-3:8   \n",
       "...             ...                                ...   \n",
       "4445  Arugleviticus  Arugleviticus:fB+Cii:14-fB+Cii:16   \n",
       "4446        Xjoshua                    Xjoshua:1:1-2:9   \n",
       "4447        Xjudges               Xjudges:f1:1-f3_7i:5   \n",
       "4448        Xjudges           Xjudges:f3_7i:5-f3_7ii:1   \n",
       "4449             X4                       X4:f1:1-f2:3   \n",
       "\n",
       "                                               text_lex  \\\n",
       "0     שמע כל ידע צדק בין מעשה אל ריב ל כל בשר משפט ע...   \n",
       "1     אחרון עשה דור אחרון עדה בגד הם סור דרך היא עת ...   \n",
       "2     כל המון מעשה נדה פנה שמע אל כל בוא ברית גלה אז...   \n",
       "3     כל שנה עולם כל קום ל קריא שם יתר פליטה ארץ מלא...   \n",
       "4     בשר היה חרבה גוע היה היה עשה רצון שמר מצוה עשה...   \n",
       "...                                                 ...   \n",
       "4445                  מות נכה נפש בהמה שלם נפש תחת נפש    \n",
       "4446  צוה חזק אמץ ערץ חתת עם יהוה אלהים כל הלך צוה י...   \n",
       "4447  הלך יהודה כנעני ישב חברון שם חברון פנה קרית אר...   \n",
       "4448  משך הר תבור לקח עם עשרה אלף איש בן נפתלי בן זב...   \n",
       "4449                               הלך ל מלקוש עבל אלה    \n",
       "\n",
       "                                                   text  n_words_lex  n_words  \\\n",
       "0     ועתה שמעו כל יודעי צדק ובינו במעשי אל כי ריב ל...           82       92   \n",
       "1     אחרונים את אשר עשה בדור אחרון בעדת בוגדים הם ס...           85       96   \n",
       "2     את כל המונם ומעשיהם לנדה לפניו ועתה שמעו אלי כ...           79       94   \n",
       "3     לכל שני עולם ובכולם הקים לו קריאי שם למען התיר...           79       94   \n",
       "4     בשר אשר היה בחרבה כי גוע ויהיו כלא היו בעשותם ...           81       95   \n",
       "...                                                 ...          ...      ...   \n",
       "4445             יומת ומכה נפש בהמה ישלמנה נפש תחת נפש             9        9   \n",
       "4446  הלוא צויתיך חזק ואמץ אל תערץ ואל תחת כי עמך יה...           62       78   \n",
       "4447  וילך יהודה אל הכנעני הישב בחברון ושם חברון לפנ...           80       93   \n",
       "4448  ומשכת בהר תבור ולקחת עמך עשרת אלפים איש מבני נ...           42       54   \n",
       "4449                            לא אלך ל מלקוש עבל אלה             6        8   \n",
       "\n",
       "      construct to absolute nouns ratio  \\\n",
       "0                              0.666667   \n",
       "1                              0.545455   \n",
       "2                              0.481481   \n",
       "3                              1.250000   \n",
       "4                              1.100000   \n",
       "...                                 ...   \n",
       "4445                           0.500000   \n",
       "4446                           1.333333   \n",
       "4447                          -1.000000   \n",
       "4448                           6.000000   \n",
       "4449                          -1.000000   \n",
       "\n",
       "      construct nouns and adjectives percentage  noun to verb ratio  \\\n",
       "0                                      0.110092            2.250000   \n",
       "1                                      0.114286            1.241379   \n",
       "2                                      0.130841            2.222222   \n",
       "3                                      0.205607            1.714286   \n",
       "4                                      0.103774            1.000000   \n",
       "...                                         ...                 ...   \n",
       "4445                                   0.083333            2.500000   \n",
       "4446                                   0.044944            1.045455   \n",
       "4447                                   0.074074            1.791667   \n",
       "4448                                   0.093750            1.333333   \n",
       "4449                                   0.000000            1.000000   \n",
       "\n",
       "      definite_article_percentage  ...  preterite percentage  ky percentage  \\\n",
       "0                        0.917431  ...              6.422018            0.0   \n",
       "1                        4.761905  ...              9.523810            0.0   \n",
       "2                        0.934579  ...              2.803738            0.0   \n",
       "3                        0.934579  ...              0.000000            0.0   \n",
       "4                        1.886792  ...              9.433962            0.0   \n",
       "...                           ...  ...                   ...            ...   \n",
       "4445                     0.000000  ...              0.000000            0.0   \n",
       "4446                    13.483146  ...              3.370787            0.0   \n",
       "4447                     7.407407  ...             12.037037            0.0   \n",
       "4448                     1.562500  ...              3.125000            0.0   \n",
       "4449                     0.000000  ...              0.000000            0.0   \n",
       "\n",
       "      aCr percentage  oM percentage  kya percentage  \\\n",
       "0                0.0            0.0             0.0   \n",
       "1                0.0            0.0             0.0   \n",
       "2                0.0            0.0             0.0   \n",
       "3                0.0            0.0             0.0   \n",
       "4                0.0            0.0             0.0   \n",
       "...              ...            ...             ...   \n",
       "4445             0.0            0.0             0.0   \n",
       "4446             0.0            0.0             0.0   \n",
       "4447             0.0            0.0             0.0   \n",
       "4448             0.0            0.0             0.0   \n",
       "4449             0.0            0.0             0.0   \n",
       "\n",
       "      all conjunctions percentage  non-finite to finite verbs ratio  \\\n",
       "0                       21.100917                          0.333333   \n",
       "1                       14.285714                          0.705882   \n",
       "2                       17.757009                          0.800000   \n",
       "3                       17.757009                          0.615385   \n",
       "4                       18.867925                          0.217391   \n",
       "...                           ...                               ...   \n",
       "4445                     8.333333                          1.000000   \n",
       "4446                    15.730337                          0.466667   \n",
       "4447                    23.148148                          0.200000   \n",
       "4448                    21.875000                          0.090909   \n",
       "4449                     0.000000                          0.000000   \n",
       "\n",
       "      passive verb forms percentage  total word count     bib  \n",
       "0                          0.000000             109.0  nonbib  \n",
       "1                          0.000000             105.0  nonbib  \n",
       "2                          1.869159             107.0  nonbib  \n",
       "3                          1.869159             107.0  nonbib  \n",
       "4                          6.603774             106.0  nonbib  \n",
       "...                             ...               ...     ...  \n",
       "4445                       8.333333              12.0     bib  \n",
       "4446                       1.123596              89.0     bib  \n",
       "4447                       0.000000             108.0     bib  \n",
       "4448                       0.000000              64.0     bib  \n",
       "4449                       0.000000              21.0     bib  \n",
       "\n",
       "[4450 rows x 23 columns]"
      ]
     },
     "execution_count": 15,
     "metadata": {},
     "output_type": "execute_result"
    }
   ],
   "source": [
    "DATA_PATH = f\"{BASE_DIR}/notebooks/data/filtered_text_and_starr_features_{CHUNK_SIZE}_words_nonbib_17_06_2024.csv\"\n",
    "df = pd.read_csv(DATA_PATH)\n",
    "DATA_PATH = f\"{BASE_DIR}/notebooks/data/text_and_starr_features_{CHUNK_SIZE}_words_nonbib_17_06_2024.csv\"\n",
    "df_all = pd.read_csv(DATA_PATH)\n",
    "df_all"
   ]
  },
  {
   "cell_type": "code",
   "execution_count": 28,
   "metadata": {
    "execution": {
     "iopub.execute_input": "2024-06-17T20:24:45.183871Z",
     "iopub.status.busy": "2024-06-17T20:24:45.183464Z",
     "iopub.status.idle": "2024-06-17T20:24:45.196209Z",
     "shell.execute_reply": "2024-06-17T20:24:45.195205Z",
     "shell.execute_reply.started": "2024-06-17T20:24:45.183838Z"
    }
   },
   "outputs": [],
   "source": [
    "ss = df_all[df_all[\"bib\"]==\"nonbib\"].groupby(\"book\")[\"total word count\"].sum().to_frame()\n",
    "ss[\"more_than_300_word\"] = ss[\"total word count\"]>300\n",
    "ss.sort_values(by=\"total word count\").to_csv(f\"{BASE_DIR}/notebooks/data/scrolls_by_word_count.csv\")"
   ]
  },
  {
   "cell_type": "code",
   "execution_count": null,
   "metadata": {},
   "outputs": [],
   "source": []
  }
 ],
 "metadata": {
  "kernelspec": {
   "display_name": "Python 3 (ipykernel)",
   "language": "python",
   "name": "python3"
  },
  "language_info": {
   "codemirror_mode": {
    "name": "ipython",
    "version": 3
   },
   "file_extension": ".py",
   "mimetype": "text/x-python",
   "name": "python",
   "nbconvert_exporter": "python",
   "pygments_lexer": "ipython3",
   "version": "3.10.0"
  },
  "toc": {
   "base_numbering": 1,
   "nav_menu": {},
   "number_sections": true,
   "sideBar": true,
   "skip_h1_title": false,
   "title_cell": "Table of Contents",
   "title_sidebar": "Contents",
   "toc_cell": false,
   "toc_position": {},
   "toc_section_display": "block",
   "toc_window_display": false
  },
  "widgets": {
   "application/vnd.jupyter.widget-state+json": {
    "state": {},
    "version_major": 2,
    "version_minor": 0
   }
  }
 },
 "nbformat": 4,
 "nbformat_minor": 4
}
