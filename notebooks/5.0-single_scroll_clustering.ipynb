{
 "cells": [
  {
   "cell_type": "code",
   "execution_count": 14,
   "id": "initial_id",
   "metadata": {
    "collapsed": true,
    "ExecuteTime": {
     "end_time": "2024-08-22T12:29:21.576903Z",
     "start_time": "2024-08-22T12:29:21.561272Z"
    }
   },
   "outputs": [],
   "source": [
    "import pandas as pd"
   ]
  },
  {
   "cell_type": "code",
   "execution_count": 15,
   "id": "26b12c927250a347",
   "metadata": {
    "collapsed": false,
    "ExecuteTime": {
     "end_time": "2024-08-22T12:29:22.147036Z",
     "start_time": "2024-08-22T12:29:22.025827Z"
    }
   },
   "outputs": [
    {
     "data": {
      "text/plain": "       book      sentence_path  \\\n0        CD        CD:1:1-1:12   \n1        CD        CD:1:12-2:1   \n2        CD        CD:2:1-2:11   \n3        CD       CD:2:11-2:21   \n4        CD       CD:2:21-3:10   \n...     ...                ...   \n1428  11Q20   11Q20:14:9-14:17   \n1429  11Q20  11Q20:14:17-14:26   \n1430  11Q20   11Q20:14:26-15:6   \n1431  11Q20    11Q20:15:6-16:7   \n1432  11Q20   11Q20:16:7-f42:1   \n\n                                               text_lex  \\\n0     שמע כל ידע צדק בין מעשה אל ריב ל כל בשר משפט ע...   \n1     דור אחרון עשה דור אחרון עדה בגד הם סור דרך היא...   \n2     אל עדה שמם כל המון מעשה נדה פנה שמע אל כל בוא ...   \n3     כל קום ל קריא שם יתר פליטה ארץ מלא פנה תבל זרע...   \n4     רצון שמר מצוה עשה חרה אף ב ב תעה בן נח משפחה ב...   \n...                                                 ...   \n1428  קבר טהר חק משפט זה טהר משפט תורה זה טמא הוא טמ...   \n1429  חלד עכבר צב מין לטאה כח חמט תנשמת כל איש נגע ב...   \n1430  נבלה עור בשר צפרן כבס בגד רחץ מים בוא שמש טהר ...   \n1431  חטאה צדק צדק רדף חיה בוא ירש ארץ אנכי נתן ל יר...   \n1432  אחרון סקל אבן מות בקש נדח נחשת טפח על ש תלבו מ...   \n\n                                                   text  n_words_lex  n_words  \\\n0     ועתה שמעו כל יודעי צדק ובינו במעשי אל כי ריב ל...         88.0    100.0   \n1     לדורות אחרונים את אשר עשה בדור אחרון בעדת בוגד...         91.0    103.0   \n2     אל בעדתם להשם את כל המונם ומעשיהם לנדה לפניו ו...         94.0    110.0   \n3     ובכולם הקים לו קריאי שם למען התיר פליטה לארץ ו...         90.0    113.0   \n4     רצונם ולא שמרו את מצות עשיהם עד אשר חרה אפו בם...         95.0    105.0   \n...                                                 ...          ...      ...   \n1428  בקבר וטהר כחוק המשפט הזה ואם לוא יטהר כמשפט הת...         76.0     86.0   \n1429  חולד והעכבר והצב למינו והלטאה והכח והחמט והתנש...         79.0     97.0   \n1430  ומנבלתמה עור ובשר וצפורן וכבס בגדיו ורחץ במים ...         82.0     98.0   \n1431  החטאה צדק צדק תרדוף למען תחיה ובאתה וירשתה את ...         84.0    108.0   \n1432  באחרונה וסקלתו באבנים ומת כי בקש להדיחכה נחושת...         36.0     41.0   \n\n      construct to absolute nouns ratio  \\\n0                              0.684211   \n1                              0.541667   \n2                              0.468750   \n3                              1.117647   \n4                              1.200000   \n...                                 ...   \n1428                           0.400000   \n1429                           0.296296   \n1430                           0.360000   \n1431                           0.470588   \n1432                           0.333333   \n\n      construct nouns and adjectives percentage  noun to verb ratio  \\\n0                                      0.120370            2.111111   \n1                                      0.120370            1.344828   \n2                                      0.145299            2.136364   \n3                                      0.176471            1.333333   \n4                                      0.107143            0.935484   \n...                                         ...                 ...   \n1428                                   0.106383            1.842105   \n1429                                   0.075472            1.590909   \n1430                                   0.087379            1.275862   \n1431                                   0.068376            1.136364   \n1432                                   0.030928            4.333333   \n\n      definite_article_percentage  ...  aCr percentage  oM percentage  \\\n0                        0.925926  ...             0.0            0.0   \n1                        4.629630  ...             0.0            0.0   \n2                        0.854701  ...             0.0            0.0   \n3                        0.840336  ...             0.0            0.0   \n4                        3.571429  ...             0.0            0.0   \n...                           ...  ...             ...            ...   \n1428                    19.148936  ...             0.0            0.0   \n1429                    13.207547  ...             0.0            0.0   \n1430                     9.708738  ...             0.0            0.0   \n1431                     8.547009  ...             0.0            0.0   \n1432                     0.000000  ...             0.0            0.0   \n\n      kya percentage  all conjunctions percentage  \\\n0                0.0                    21.296296   \n1                0.0                    14.814815   \n2                0.0                    17.948718   \n3                0.0                    18.487395   \n4                0.0                    20.535714   \n...              ...                          ...   \n1428             0.0                    26.595745   \n1429             0.0                    28.301887   \n1430             0.0                    25.242718   \n1431             0.0                    21.367521   \n1432             0.0                     6.185567   \n\n      non-finite to finite verbs ratio  passive verb forms percentage  \\\n0                             0.384615                       0.000000   \n1                             0.705882                       0.000000   \n2                             1.000000                       1.709402   \n3                             0.421053                       1.680672   \n4                             0.240000                       8.035714   \n...                                ...                            ...   \n1428                          0.055556                       1.063830   \n1429                          0.157895                       1.886792   \n1430                          0.380952                       0.000000   \n1431                          0.222222                       0.854701   \n1432                          0.500000                       0.000000   \n\n      total word count     bib          section    composition  \n0                108.0  nonbib  sectarian_texts             CD  \n1                108.0  nonbib  sectarian_texts             CD  \n2                117.0  nonbib  sectarian_texts             CD  \n3                119.0  nonbib  sectarian_texts             CD  \n4                112.0  nonbib  sectarian_texts             CD  \n...                ...     ...              ...            ...  \n1428              94.0  nonbib          unknown  Temple Scroll  \n1429             106.0  nonbib          unknown  Temple Scroll  \n1430             103.0  nonbib          unknown  Temple Scroll  \n1431             117.0  nonbib          unknown  Temple Scroll  \n1432              97.0  nonbib          unknown  Temple Scroll  \n\n[1433 rows x 25 columns]",
      "text/html": "<div>\n<style scoped>\n    .dataframe tbody tr th:only-of-type {\n        vertical-align: middle;\n    }\n\n    .dataframe tbody tr th {\n        vertical-align: top;\n    }\n\n    .dataframe thead th {\n        text-align: right;\n    }\n</style>\n<table border=\"1\" class=\"dataframe\">\n  <thead>\n    <tr style=\"text-align: right;\">\n      <th></th>\n      <th>book</th>\n      <th>sentence_path</th>\n      <th>text_lex</th>\n      <th>text</th>\n      <th>n_words_lex</th>\n      <th>n_words</th>\n      <th>construct to absolute nouns ratio</th>\n      <th>construct nouns and adjectives percentage</th>\n      <th>noun to verb ratio</th>\n      <th>definite_article_percentage</th>\n      <th>...</th>\n      <th>aCr percentage</th>\n      <th>oM percentage</th>\n      <th>kya percentage</th>\n      <th>all conjunctions percentage</th>\n      <th>non-finite to finite verbs ratio</th>\n      <th>passive verb forms percentage</th>\n      <th>total word count</th>\n      <th>bib</th>\n      <th>section</th>\n      <th>composition</th>\n    </tr>\n  </thead>\n  <tbody>\n    <tr>\n      <th>0</th>\n      <td>CD</td>\n      <td>CD:1:1-1:12</td>\n      <td>שמע כל ידע צדק בין מעשה אל ריב ל כל בשר משפט ע...</td>\n      <td>ועתה שמעו כל יודעי צדק ובינו במעשי אל כי ריב ל...</td>\n      <td>88.0</td>\n      <td>100.0</td>\n      <td>0.684211</td>\n      <td>0.120370</td>\n      <td>2.111111</td>\n      <td>0.925926</td>\n      <td>...</td>\n      <td>0.0</td>\n      <td>0.0</td>\n      <td>0.0</td>\n      <td>21.296296</td>\n      <td>0.384615</td>\n      <td>0.000000</td>\n      <td>108.0</td>\n      <td>nonbib</td>\n      <td>sectarian_texts</td>\n      <td>CD</td>\n    </tr>\n    <tr>\n      <th>1</th>\n      <td>CD</td>\n      <td>CD:1:12-2:1</td>\n      <td>דור אחרון עשה דור אחרון עדה בגד הם סור דרך היא...</td>\n      <td>לדורות אחרונים את אשר עשה בדור אחרון בעדת בוגד...</td>\n      <td>91.0</td>\n      <td>103.0</td>\n      <td>0.541667</td>\n      <td>0.120370</td>\n      <td>1.344828</td>\n      <td>4.629630</td>\n      <td>...</td>\n      <td>0.0</td>\n      <td>0.0</td>\n      <td>0.0</td>\n      <td>14.814815</td>\n      <td>0.705882</td>\n      <td>0.000000</td>\n      <td>108.0</td>\n      <td>nonbib</td>\n      <td>sectarian_texts</td>\n      <td>CD</td>\n    </tr>\n    <tr>\n      <th>2</th>\n      <td>CD</td>\n      <td>CD:2:1-2:11</td>\n      <td>אל עדה שמם כל המון מעשה נדה פנה שמע אל כל בוא ...</td>\n      <td>אל בעדתם להשם את כל המונם ומעשיהם לנדה לפניו ו...</td>\n      <td>94.0</td>\n      <td>110.0</td>\n      <td>0.468750</td>\n      <td>0.145299</td>\n      <td>2.136364</td>\n      <td>0.854701</td>\n      <td>...</td>\n      <td>0.0</td>\n      <td>0.0</td>\n      <td>0.0</td>\n      <td>17.948718</td>\n      <td>1.000000</td>\n      <td>1.709402</td>\n      <td>117.0</td>\n      <td>nonbib</td>\n      <td>sectarian_texts</td>\n      <td>CD</td>\n    </tr>\n    <tr>\n      <th>3</th>\n      <td>CD</td>\n      <td>CD:2:11-2:21</td>\n      <td>כל קום ל קריא שם יתר פליטה ארץ מלא פנה תבל זרע...</td>\n      <td>ובכולם הקים לו קריאי שם למען התיר פליטה לארץ ו...</td>\n      <td>90.0</td>\n      <td>113.0</td>\n      <td>1.117647</td>\n      <td>0.176471</td>\n      <td>1.333333</td>\n      <td>0.840336</td>\n      <td>...</td>\n      <td>0.0</td>\n      <td>0.0</td>\n      <td>0.0</td>\n      <td>18.487395</td>\n      <td>0.421053</td>\n      <td>1.680672</td>\n      <td>119.0</td>\n      <td>nonbib</td>\n      <td>sectarian_texts</td>\n      <td>CD</td>\n    </tr>\n    <tr>\n      <th>4</th>\n      <td>CD</td>\n      <td>CD:2:21-3:10</td>\n      <td>רצון שמר מצוה עשה חרה אף ב ב תעה בן נח משפחה ב...</td>\n      <td>רצונם ולא שמרו את מצות עשיהם עד אשר חרה אפו בם...</td>\n      <td>95.0</td>\n      <td>105.0</td>\n      <td>1.200000</td>\n      <td>0.107143</td>\n      <td>0.935484</td>\n      <td>3.571429</td>\n      <td>...</td>\n      <td>0.0</td>\n      <td>0.0</td>\n      <td>0.0</td>\n      <td>20.535714</td>\n      <td>0.240000</td>\n      <td>8.035714</td>\n      <td>112.0</td>\n      <td>nonbib</td>\n      <td>sectarian_texts</td>\n      <td>CD</td>\n    </tr>\n    <tr>\n      <th>...</th>\n      <td>...</td>\n      <td>...</td>\n      <td>...</td>\n      <td>...</td>\n      <td>...</td>\n      <td>...</td>\n      <td>...</td>\n      <td>...</td>\n      <td>...</td>\n      <td>...</td>\n      <td>...</td>\n      <td>...</td>\n      <td>...</td>\n      <td>...</td>\n      <td>...</td>\n      <td>...</td>\n      <td>...</td>\n      <td>...</td>\n      <td>...</td>\n      <td>...</td>\n      <td>...</td>\n    </tr>\n    <tr>\n      <th>1428</th>\n      <td>11Q20</td>\n      <td>11Q20:14:9-14:17</td>\n      <td>קבר טהר חק משפט זה טהר משפט תורה זה טמא הוא טמ...</td>\n      <td>בקבר וטהר כחוק המשפט הזה ואם לוא יטהר כמשפט הת...</td>\n      <td>76.0</td>\n      <td>86.0</td>\n      <td>0.400000</td>\n      <td>0.106383</td>\n      <td>1.842105</td>\n      <td>19.148936</td>\n      <td>...</td>\n      <td>0.0</td>\n      <td>0.0</td>\n      <td>0.0</td>\n      <td>26.595745</td>\n      <td>0.055556</td>\n      <td>1.063830</td>\n      <td>94.0</td>\n      <td>nonbib</td>\n      <td>unknown</td>\n      <td>Temple Scroll</td>\n    </tr>\n    <tr>\n      <th>1429</th>\n      <td>11Q20</td>\n      <td>11Q20:14:17-14:26</td>\n      <td>חלד עכבר צב מין לטאה כח חמט תנשמת כל איש נגע ב...</td>\n      <td>חולד והעכבר והצב למינו והלטאה והכח והחמט והתנש...</td>\n      <td>79.0</td>\n      <td>97.0</td>\n      <td>0.296296</td>\n      <td>0.075472</td>\n      <td>1.590909</td>\n      <td>13.207547</td>\n      <td>...</td>\n      <td>0.0</td>\n      <td>0.0</td>\n      <td>0.0</td>\n      <td>28.301887</td>\n      <td>0.157895</td>\n      <td>1.886792</td>\n      <td>106.0</td>\n      <td>nonbib</td>\n      <td>unknown</td>\n      <td>Temple Scroll</td>\n    </tr>\n    <tr>\n      <th>1430</th>\n      <td>11Q20</td>\n      <td>11Q20:14:26-15:6</td>\n      <td>נבלה עור בשר צפרן כבס בגד רחץ מים בוא שמש טהר ...</td>\n      <td>ומנבלתמה עור ובשר וצפורן וכבס בגדיו ורחץ במים ...</td>\n      <td>82.0</td>\n      <td>98.0</td>\n      <td>0.360000</td>\n      <td>0.087379</td>\n      <td>1.275862</td>\n      <td>9.708738</td>\n      <td>...</td>\n      <td>0.0</td>\n      <td>0.0</td>\n      <td>0.0</td>\n      <td>25.242718</td>\n      <td>0.380952</td>\n      <td>0.000000</td>\n      <td>103.0</td>\n      <td>nonbib</td>\n      <td>unknown</td>\n      <td>Temple Scroll</td>\n    </tr>\n    <tr>\n      <th>1431</th>\n      <td>11Q20</td>\n      <td>11Q20:15:6-16:7</td>\n      <td>חטאה צדק צדק רדף חיה בוא ירש ארץ אנכי נתן ל יר...</td>\n      <td>החטאה צדק צדק תרדוף למען תחיה ובאתה וירשתה את ...</td>\n      <td>84.0</td>\n      <td>108.0</td>\n      <td>0.470588</td>\n      <td>0.068376</td>\n      <td>1.136364</td>\n      <td>8.547009</td>\n      <td>...</td>\n      <td>0.0</td>\n      <td>0.0</td>\n      <td>0.0</td>\n      <td>21.367521</td>\n      <td>0.222222</td>\n      <td>0.854701</td>\n      <td>117.0</td>\n      <td>nonbib</td>\n      <td>unknown</td>\n      <td>Temple Scroll</td>\n    </tr>\n    <tr>\n      <th>1432</th>\n      <td>11Q20</td>\n      <td>11Q20:16:7-f42:1</td>\n      <td>אחרון סקל אבן מות בקש נדח נחשת טפח על ש תלבו מ...</td>\n      <td>באחרונה וסקלתו באבנים ומת כי בקש להדיחכה נחושת...</td>\n      <td>36.0</td>\n      <td>41.0</td>\n      <td>0.333333</td>\n      <td>0.030928</td>\n      <td>4.333333</td>\n      <td>0.000000</td>\n      <td>...</td>\n      <td>0.0</td>\n      <td>0.0</td>\n      <td>0.0</td>\n      <td>6.185567</td>\n      <td>0.500000</td>\n      <td>0.000000</td>\n      <td>97.0</td>\n      <td>nonbib</td>\n      <td>unknown</td>\n      <td>Temple Scroll</td>\n    </tr>\n  </tbody>\n</table>\n<p>1433 rows × 25 columns</p>\n</div>"
     },
     "execution_count": 15,
     "metadata": {},
     "output_type": "execute_result"
    }
   ],
   "source": [
    "df = pd.read_csv(\"/Users/yonatanlou/dev/QumranNLP/experiments/pre_processing/NO_PREPROCESSING_MFW_20/filtered_NO_PREPROCESSING_MFW_20.csv\")\n",
    "df"
   ]
  },
  {
   "cell_type": "code",
   "execution_count": 16,
   "id": "d56b3953697b3fe7",
   "metadata": {
    "collapsed": false,
    "ExecuteTime": {
     "end_time": "2024-08-22T12:29:22.756985Z",
     "start_time": "2024-08-22T12:29:22.687083Z"
    }
   },
   "outputs": [
    {
     "name": "stdout",
     "output_type": "stream",
     "text": [
      "Loaded the embeddings: ['dicta-il/BEREL', 'onlplab/alephbert-base', 'dicta-il/dictabert', 'yonatanlou/BEREL-finetuned-DSS-maskedLM', 'tfidf', 'trigram', 'starr']\n",
      "Loaded the following embeddings dict_keys(['dicta-il/BEREL', 'onlplab/alephbert-base', 'dicta-il/dictabert', 'yonatanlou/BEREL-finetuned-DSS-maskedLM', 'tfidf', 'trigram', 'starr'])\n"
     ]
    }
   ],
   "source": [
    "from src.baselines.embeddings import get_vectorizer_types, VectorizerProcessor\n",
    "vectorizers = [ 'yonatanlou/BEREL-finetuned-DSS-maskedLM', 'dicta-il/dictabert' ]\n",
    "processor = VectorizerProcessor(df, \"/Users/yonatanlou/dev/QumranNLP/experiments/pre_processing/NO_PREPROCESSING_MFW_20/NO_PREPROCESSING_MFW_20.pkl\", vectorizers)\n",
    "processed_vectorizers = processor.load_or_generate_embeddings()"
   ]
  },
  {
   "cell_type": "code",
   "execution_count": 17,
   "id": "629f32f8c3dc7995",
   "metadata": {
    "collapsed": false,
    "ExecuteTime": {
     "end_time": "2024-08-22T12:29:23.486810Z",
     "start_time": "2024-08-22T12:29:23.478900Z"
    }
   },
   "outputs": [
    {
     "data": {
      "text/plain": "array([[ 0.13008772, -0.37911552, -0.06381816, ..., -0.15756431,\n         0.7763163 , -0.09882638],\n       [ 0.31274518, -0.351295  , -0.0161424 , ..., -0.18082567,\n         0.4382118 , -0.1133327 ],\n       [ 0.37115082, -0.37753636, -0.01797041, ..., -0.19743463,\n         0.47708154, -0.0885241 ],\n       ...,\n       [ 0.20786485, -0.6303345 , -0.03316676, ...,  0.03703821,\n         0.47529623, -0.04762372],\n       [ 0.20533657, -0.56449085, -0.0841935 , ..., -0.11972018,\n         0.3946571 , -0.19954823],\n       [ 0.34716544, -0.30808282,  0.07732119, ..., -0.3906687 ,\n         0.41802225, -0.06205425]], dtype=float32)"
     },
     "execution_count": 17,
     "metadata": {},
     "output_type": "execute_result"
    }
   ],
   "source": [
    "embeddings = processed_vectorizers[vectorizers[0]]\n",
    "embeddings"
   ]
  },
  {
   "cell_type": "code",
   "execution_count": 18,
   "id": "18cedaf943888d1e",
   "metadata": {
    "collapsed": false,
    "ExecuteTime": {
     "end_time": "2024-08-22T12:29:36.570003Z",
     "start_time": "2024-08-22T12:29:36.561255Z"
    }
   },
   "outputs": [
    {
     "data": {
      "text/plain": "book\n1QHa    92\n1QM     51\n1QS     42\nName: count, dtype: int64"
     },
     "execution_count": 18,
     "metadata": {},
     "output_type": "execute_result"
    }
   ],
   "source": [
    "core_sec_scrolls =[\"1QS\", \"1QHa\", \"1QM\"]\n",
    "df[df[\"book\"].isin(core_sec_scrolls)][\"book\"].value_counts()\n"
   ]
  },
  {
   "cell_type": "code",
   "execution_count": 39,
   "id": "ee8005752355b7fd",
   "metadata": {
    "collapsed": false,
    "ExecuteTime": {
     "end_time": "2024-08-22T12:42:24.911836Z",
     "start_time": "2024-08-22T12:42:24.902334Z"
    }
   },
   "outputs": [],
   "source": [
    "import numpy as np\n",
    "all_idx_no_core_sec = df[df[\"book\"].isin(core_sec_scrolls)].index\n",
    "mean_embedding_sec_core = np.mean(embeddings[all_idx_no_core_sec], axis=0)\n",
    "embeddings_no_base_sec = embeddings[(df[~df[\"book\"].isin(core_sec_scrolls)].index)]"
   ]
  },
  {
   "cell_type": "code",
   "outputs": [],
   "source": [
    "\n",
    "\n",
    "def cosine_similarity(mean_embedding_sec_core, embeddings):\n",
    "    mean_embedding_norm = mean_embedding_sec_core / np.linalg.norm(mean_embedding_sec_core)\n",
    "    embeddings_norm = embeddings / np.linalg.norm(embeddings, axis=1, keepdims=True)\n",
    "    cosine_similarities = np.dot(embeddings_norm, mean_embedding_norm)\n",
    "    \n",
    "    return cosine_similarities\n",
    "\n"
   ],
   "metadata": {
    "collapsed": false,
    "ExecuteTime": {
     "end_time": "2024-08-22T12:42:41.712453Z",
     "start_time": "2024-08-22T12:42:41.706219Z"
    }
   },
   "id": "8c7a76a38434e176",
   "execution_count": 41
  },
  {
   "cell_type": "code",
   "outputs": [
    {
     "data": {
      "text/plain": "        book           sentence_path          section      composition  \\\n826    4Q428       4Q428:f15:8-f19:7  sectarian_texts              4QH   \n820    4Q428         4Q428:f1:1-f4:1  sectarian_texts              4QH   \n824    4Q428      4Q428:f12i:1-f13:7  sectarian_texts              4QH   \n288    4Q266  4Q266:f1a_b:1-f1a_b:22  sectarian_texts              4QD   \n834    4Q429     4Q429:f4i:8-f4ii:10  sectarian_texts              4QH   \n...      ...                     ...              ...              ...   \n226   4Q249z    4Q249z:f104:1-f119:2              NaN              NaN   \n229   4Q249z    4Q249z:f149:1-f160:2              NaN              NaN   \n287    4Q265         4Q265:fj:3-fl:1  sectarian_texts              NaN   \n865    4Q491       4Q491:f37:1-f37:2  sectarian_texts              4QM   \n1044   4Q512     4Q512:f231:2-f231:3  sectarian_texts  prayer lityurgy   \n\n      similarity                                               text  \n826     0.973122   כה להפלא להכין בסוד עמכה עזבתם ביד כול מבקשי ...  \n820     0.969425   אנוש ואל כול ברית אדם אביט ה ימצאוה וב משיגיה...  \n824     0.967654  שמכה לעולמי עד יברכוכה כפי שכלם ובכול קצים ישמ...  \n288     0.966904  פרוש המשפטים למשכיל לבני אור להנזר מדרכי רשעה ...  \n834     0.966867  בעבודת צדק ואתה אל צויתם להועיל מדרכיהמה בדרך ...  \n...          ...                                                ...  \n226     0.721148          ב מ שו ת ב י מ ו ש ב ש צ ה א י בת ו א הא   \n229     0.715000               ע ו כו למ מ ל ע ע ל ע ח י ר ס ע כ א   \n287     0.714098                                            נשי רץ   \n865     0.710538                                               מ ו   \n1044    0.703361                                                על   \n\n[1248 rows x 6 columns]",
      "text/html": "<div>\n<style scoped>\n    .dataframe tbody tr th:only-of-type {\n        vertical-align: middle;\n    }\n\n    .dataframe tbody tr th {\n        vertical-align: top;\n    }\n\n    .dataframe thead th {\n        text-align: right;\n    }\n</style>\n<table border=\"1\" class=\"dataframe\">\n  <thead>\n    <tr style=\"text-align: right;\">\n      <th></th>\n      <th>book</th>\n      <th>sentence_path</th>\n      <th>section</th>\n      <th>composition</th>\n      <th>similarity</th>\n      <th>text</th>\n    </tr>\n  </thead>\n  <tbody>\n    <tr>\n      <th>826</th>\n      <td>4Q428</td>\n      <td>4Q428:f15:8-f19:7</td>\n      <td>sectarian_texts</td>\n      <td>4QH</td>\n      <td>0.973122</td>\n      <td>כה להפלא להכין בסוד עמכה עזבתם ביד כול מבקשי ...</td>\n    </tr>\n    <tr>\n      <th>820</th>\n      <td>4Q428</td>\n      <td>4Q428:f1:1-f4:1</td>\n      <td>sectarian_texts</td>\n      <td>4QH</td>\n      <td>0.969425</td>\n      <td>אנוש ואל כול ברית אדם אביט ה ימצאוה וב משיגיה...</td>\n    </tr>\n    <tr>\n      <th>824</th>\n      <td>4Q428</td>\n      <td>4Q428:f12i:1-f13:7</td>\n      <td>sectarian_texts</td>\n      <td>4QH</td>\n      <td>0.967654</td>\n      <td>שמכה לעולמי עד יברכוכה כפי שכלם ובכול קצים ישמ...</td>\n    </tr>\n    <tr>\n      <th>288</th>\n      <td>4Q266</td>\n      <td>4Q266:f1a_b:1-f1a_b:22</td>\n      <td>sectarian_texts</td>\n      <td>4QD</td>\n      <td>0.966904</td>\n      <td>פרוש המשפטים למשכיל לבני אור להנזר מדרכי רשעה ...</td>\n    </tr>\n    <tr>\n      <th>834</th>\n      <td>4Q429</td>\n      <td>4Q429:f4i:8-f4ii:10</td>\n      <td>sectarian_texts</td>\n      <td>4QH</td>\n      <td>0.966867</td>\n      <td>בעבודת צדק ואתה אל צויתם להועיל מדרכיהמה בדרך ...</td>\n    </tr>\n    <tr>\n      <th>...</th>\n      <td>...</td>\n      <td>...</td>\n      <td>...</td>\n      <td>...</td>\n      <td>...</td>\n      <td>...</td>\n    </tr>\n    <tr>\n      <th>226</th>\n      <td>4Q249z</td>\n      <td>4Q249z:f104:1-f119:2</td>\n      <td>NaN</td>\n      <td>NaN</td>\n      <td>0.721148</td>\n      <td>ב מ שו ת ב י מ ו ש ב ש צ ה א י בת ו א הא</td>\n    </tr>\n    <tr>\n      <th>229</th>\n      <td>4Q249z</td>\n      <td>4Q249z:f149:1-f160:2</td>\n      <td>NaN</td>\n      <td>NaN</td>\n      <td>0.715000</td>\n      <td>ע ו כו למ מ ל ע ע ל ע ח י ר ס ע כ א</td>\n    </tr>\n    <tr>\n      <th>287</th>\n      <td>4Q265</td>\n      <td>4Q265:fj:3-fl:1</td>\n      <td>sectarian_texts</td>\n      <td>NaN</td>\n      <td>0.714098</td>\n      <td>נשי רץ</td>\n    </tr>\n    <tr>\n      <th>865</th>\n      <td>4Q491</td>\n      <td>4Q491:f37:1-f37:2</td>\n      <td>sectarian_texts</td>\n      <td>4QM</td>\n      <td>0.710538</td>\n      <td>מ ו</td>\n    </tr>\n    <tr>\n      <th>1044</th>\n      <td>4Q512</td>\n      <td>4Q512:f231:2-f231:3</td>\n      <td>sectarian_texts</td>\n      <td>prayer lityurgy</td>\n      <td>0.703361</td>\n      <td>על</td>\n    </tr>\n  </tbody>\n</table>\n<p>1248 rows × 6 columns</p>\n</div>"
     },
     "execution_count": 43,
     "metadata": {},
     "output_type": "execute_result"
    }
   ],
   "source": [
    "similarities_w_out_core = cosine_similarity(mean_embedding_sec_core, embeddings_no_base_sec)\n",
    "df_no_core_sec = df[~df[\"book\"].isin(core_sec_scrolls)].reset_index(drop=True)\n",
    "df_no_core_sec[\"similarity\"] = similarities_w_out_core\n",
    "df_no_core_sec.sort_values(\"similarity\", ascending=False)[[\"book\",\"sentence_path\",\"section\",\"composition\",\"similarity\", \"text\"]]"
   ],
   "metadata": {
    "collapsed": false,
    "ExecuteTime": {
     "end_time": "2024-08-22T12:43:06.381080Z",
     "start_time": "2024-08-22T12:43:06.340234Z"
    }
   },
   "id": "a6186de9942f2e06",
   "execution_count": 43
  },
  {
   "cell_type": "code",
   "outputs": [
    {
     "data": {
      "text/plain": "        book         sentence_path          section      composition  \\\n235     1QHa      1QHa:19:14-19:24  sectarian_texts          Hodayot   \n1011   4Q428     4Q428:f15:8-f19:7  sectarian_texts              4QH   \n232     1QHa      1QHa:18:22-18:31  sectarian_texts          Hodayot   \n84       1QS        1QS:10:24-11:4  sectarian_texts   community_rule   \n257     1QHa      1QHa:26:28-26:37  sectarian_texts          Hodayot   \n...      ...                   ...              ...              ...   \n411   4Q249z  4Q249z:f104:1-f119:2              NaN              NaN   \n414   4Q249z  4Q249z:f149:1-f160:2              NaN              NaN   \n472    4Q265       4Q265:fj:3-fl:1  sectarian_texts              NaN   \n1050   4Q491     4Q491:f37:1-f37:2  sectarian_texts              4QM   \n1229   4Q512   4Q512:f231:2-f231:3  sectarian_texts  prayer lityurgy   \n\n      similarity                                               text  \n235     0.973380  תועבות נדה ואשמת מעל להוחד עם בני אמתך ובגורל ...  \n1011    0.973122   כה להפלא להכין בסוד עמכה עזבתם ביד כול מבקשי ...  \n232     0.971695  אני לפי דעתי באמתכה אזמרה בחסדכה ובהביטי בכבוד...  \n84      0.971106  אשבית משפתי נדות ונפתלות מדעת לבי בעצת תושיה א...  \n257     0.970832  קומה ועם אלים בעדת יחד ורפ אף לכלת עולם וכושלי...  \n...          ...                                                ...  \n411     0.721148          ב מ שו ת ב י מ ו ש ב ש צ ה א י בת ו א הא   \n414     0.715000               ע ו כו למ מ ל ע ע ל ע ח י ר ס ע כ א   \n472     0.714098                                            נשי רץ   \n1050    0.710538                                               מ ו   \n1229    0.703361                                                על   \n\n[1433 rows x 6 columns]",
      "text/html": "<div>\n<style scoped>\n    .dataframe tbody tr th:only-of-type {\n        vertical-align: middle;\n    }\n\n    .dataframe tbody tr th {\n        vertical-align: top;\n    }\n\n    .dataframe thead th {\n        text-align: right;\n    }\n</style>\n<table border=\"1\" class=\"dataframe\">\n  <thead>\n    <tr style=\"text-align: right;\">\n      <th></th>\n      <th>book</th>\n      <th>sentence_path</th>\n      <th>section</th>\n      <th>composition</th>\n      <th>similarity</th>\n      <th>text</th>\n    </tr>\n  </thead>\n  <tbody>\n    <tr>\n      <th>235</th>\n      <td>1QHa</td>\n      <td>1QHa:19:14-19:24</td>\n      <td>sectarian_texts</td>\n      <td>Hodayot</td>\n      <td>0.973380</td>\n      <td>תועבות נדה ואשמת מעל להוחד עם בני אמתך ובגורל ...</td>\n    </tr>\n    <tr>\n      <th>1011</th>\n      <td>4Q428</td>\n      <td>4Q428:f15:8-f19:7</td>\n      <td>sectarian_texts</td>\n      <td>4QH</td>\n      <td>0.973122</td>\n      <td>כה להפלא להכין בסוד עמכה עזבתם ביד כול מבקשי ...</td>\n    </tr>\n    <tr>\n      <th>232</th>\n      <td>1QHa</td>\n      <td>1QHa:18:22-18:31</td>\n      <td>sectarian_texts</td>\n      <td>Hodayot</td>\n      <td>0.971695</td>\n      <td>אני לפי דעתי באמתכה אזמרה בחסדכה ובהביטי בכבוד...</td>\n    </tr>\n    <tr>\n      <th>84</th>\n      <td>1QS</td>\n      <td>1QS:10:24-11:4</td>\n      <td>sectarian_texts</td>\n      <td>community_rule</td>\n      <td>0.971106</td>\n      <td>אשבית משפתי נדות ונפתלות מדעת לבי בעצת תושיה א...</td>\n    </tr>\n    <tr>\n      <th>257</th>\n      <td>1QHa</td>\n      <td>1QHa:26:28-26:37</td>\n      <td>sectarian_texts</td>\n      <td>Hodayot</td>\n      <td>0.970832</td>\n      <td>קומה ועם אלים בעדת יחד ורפ אף לכלת עולם וכושלי...</td>\n    </tr>\n    <tr>\n      <th>...</th>\n      <td>...</td>\n      <td>...</td>\n      <td>...</td>\n      <td>...</td>\n      <td>...</td>\n      <td>...</td>\n    </tr>\n    <tr>\n      <th>411</th>\n      <td>4Q249z</td>\n      <td>4Q249z:f104:1-f119:2</td>\n      <td>NaN</td>\n      <td>NaN</td>\n      <td>0.721148</td>\n      <td>ב מ שו ת ב י מ ו ש ב ש צ ה א י בת ו א הא</td>\n    </tr>\n    <tr>\n      <th>414</th>\n      <td>4Q249z</td>\n      <td>4Q249z:f149:1-f160:2</td>\n      <td>NaN</td>\n      <td>NaN</td>\n      <td>0.715000</td>\n      <td>ע ו כו למ מ ל ע ע ל ע ח י ר ס ע כ א</td>\n    </tr>\n    <tr>\n      <th>472</th>\n      <td>4Q265</td>\n      <td>4Q265:fj:3-fl:1</td>\n      <td>sectarian_texts</td>\n      <td>NaN</td>\n      <td>0.714098</td>\n      <td>נשי רץ</td>\n    </tr>\n    <tr>\n      <th>1050</th>\n      <td>4Q491</td>\n      <td>4Q491:f37:1-f37:2</td>\n      <td>sectarian_texts</td>\n      <td>4QM</td>\n      <td>0.710538</td>\n      <td>מ ו</td>\n    </tr>\n    <tr>\n      <th>1229</th>\n      <td>4Q512</td>\n      <td>4Q512:f231:2-f231:3</td>\n      <td>sectarian_texts</td>\n      <td>prayer lityurgy</td>\n      <td>0.703361</td>\n      <td>על</td>\n    </tr>\n  </tbody>\n</table>\n<p>1433 rows × 6 columns</p>\n</div>"
     },
     "execution_count": 49,
     "metadata": {},
     "output_type": "execute_result"
    }
   ],
   "source": [
    "similarities = cosine_similarity(mean_embedding_sec_core, embeddings)\n",
    "df_all_scrolls = df\n",
    "df_all_scrolls[\"similarity\"] = similarities\n",
    "df_all_scrolls.sort_values(\"similarity\", ascending=False)[[\"book\",\"sentence_path\",\"section\",\"composition\",\"similarity\", \"text\"]]"
   ],
   "metadata": {
    "collapsed": false,
    "ExecuteTime": {
     "end_time": "2024-08-22T13:13:09.810762Z",
     "start_time": "2024-08-22T13:13:09.779467Z"
    }
   },
   "id": "259d358fcb76a742",
   "execution_count": 49
  },
  {
   "cell_type": "code",
   "outputs": [
    {
     "data": {
      "text/plain": "        book            sentence_path          section        composition  \\\n170     1QHa           1QHa:2:12-3:26  sectarian_texts            Hodayot   \n1016   4Q429        4Q429:f1i:1-f2:11  sectarian_texts                4QH   \n431    4Q256           4Q256:1:9-2:12  sectarian_texts                4QS   \n438    4Q257         4Q257:f1aV:1-2:7  sectarian_texts                4QS   \n46       1QS             1QS:1:1-1:10  sectarian_texts     community_rule   \n...      ...                      ...              ...                ...   \n639    4Q321            4Q321:1:1-2:1  sectarian_texts  calendircal texts   \n602    4Q317  4Q317:f1ai:18-f1+1aii:5  sectarian_texts  calendircal texts   \n632    4Q320       4Q320:f1i:1-f1ii:3  sectarian_texts  calendircal texts   \n650   4Q321a           4Q321a:1:1-2:1  sectarian_texts  calendircal texts   \n402   4Q249z        4Q249z:f1:1-f12:2              NaN                NaN   \n\n      similarity  similarity_mean  \\\n170     0.952116         0.954749   \n1016    0.954592         0.953687   \n431     0.962357         0.952117   \n438     0.966506         0.949848   \n46      0.956876         0.949481   \n...          ...              ...   \n639     0.808861         0.840556   \n602     0.770189         0.838607   \n632     0.764764         0.823784   \n650     0.811360         0.813893   \n402     0.844383         0.770640   \n\n                                                   text  \n170    נפלואתיכה אין פה ותוצא לעולמי ישמיעו בהמון רנ...  \n1016  עצם אדירים ושותי דם גבורים ותשימני במגורי עם ד...  \n431    ולשנוא כול בני חשך לסור מחוקי אמתו ללכת ימין ...  \n438   כיבו לוס למשכיל ספר סרך היחד לדרוש אל בכול לב ...  \n46    ל שים לחיו ספר סרך היחד לדרוש אל בכול לב ובכול...  \n...                                                 ...  \n639   באחד בידעיה בשנים עשר בוא בשנים באביה בחמישה ו...  \n602    וכן תבוא ליום וכן תבוא ליום וכן תבוא ליום וכן...  \n632    להראותה מן המזרח לאירה במחצית השמים ביסוד הבר...  \n650    השנה הראשונה בארבעה בגמול באחד בראשון בחמשה ב...  \n402    ריו הב ל ו ע כאשר כתוב שרפ ת וד ד כת כ את פנ ...  \n\n[97 rows x 7 columns]",
      "text/html": "<div>\n<style scoped>\n    .dataframe tbody tr th:only-of-type {\n        vertical-align: middle;\n    }\n\n    .dataframe tbody tr th {\n        vertical-align: top;\n    }\n\n    .dataframe thead th {\n        text-align: right;\n    }\n</style>\n<table border=\"1\" class=\"dataframe\">\n  <thead>\n    <tr style=\"text-align: right;\">\n      <th></th>\n      <th>book</th>\n      <th>sentence_path</th>\n      <th>section</th>\n      <th>composition</th>\n      <th>similarity</th>\n      <th>similarity_mean</th>\n      <th>text</th>\n    </tr>\n  </thead>\n  <tbody>\n    <tr>\n      <th>170</th>\n      <td>1QHa</td>\n      <td>1QHa:2:12-3:26</td>\n      <td>sectarian_texts</td>\n      <td>Hodayot</td>\n      <td>0.952116</td>\n      <td>0.954749</td>\n      <td>נפלואתיכה אין פה ותוצא לעולמי ישמיעו בהמון רנ...</td>\n    </tr>\n    <tr>\n      <th>1016</th>\n      <td>4Q429</td>\n      <td>4Q429:f1i:1-f2:11</td>\n      <td>sectarian_texts</td>\n      <td>4QH</td>\n      <td>0.954592</td>\n      <td>0.953687</td>\n      <td>עצם אדירים ושותי דם גבורים ותשימני במגורי עם ד...</td>\n    </tr>\n    <tr>\n      <th>431</th>\n      <td>4Q256</td>\n      <td>4Q256:1:9-2:12</td>\n      <td>sectarian_texts</td>\n      <td>4QS</td>\n      <td>0.962357</td>\n      <td>0.952117</td>\n      <td>ולשנוא כול בני חשך לסור מחוקי אמתו ללכת ימין ...</td>\n    </tr>\n    <tr>\n      <th>438</th>\n      <td>4Q257</td>\n      <td>4Q257:f1aV:1-2:7</td>\n      <td>sectarian_texts</td>\n      <td>4QS</td>\n      <td>0.966506</td>\n      <td>0.949848</td>\n      <td>כיבו לוס למשכיל ספר סרך היחד לדרוש אל בכול לב ...</td>\n    </tr>\n    <tr>\n      <th>46</th>\n      <td>1QS</td>\n      <td>1QS:1:1-1:10</td>\n      <td>sectarian_texts</td>\n      <td>community_rule</td>\n      <td>0.956876</td>\n      <td>0.949481</td>\n      <td>ל שים לחיו ספר סרך היחד לדרוש אל בכול לב ובכול...</td>\n    </tr>\n    <tr>\n      <th>...</th>\n      <td>...</td>\n      <td>...</td>\n      <td>...</td>\n      <td>...</td>\n      <td>...</td>\n      <td>...</td>\n      <td>...</td>\n    </tr>\n    <tr>\n      <th>639</th>\n      <td>4Q321</td>\n      <td>4Q321:1:1-2:1</td>\n      <td>sectarian_texts</td>\n      <td>calendircal texts</td>\n      <td>0.808861</td>\n      <td>0.840556</td>\n      <td>באחד בידעיה בשנים עשר בוא בשנים באביה בחמישה ו...</td>\n    </tr>\n    <tr>\n      <th>602</th>\n      <td>4Q317</td>\n      <td>4Q317:f1ai:18-f1+1aii:5</td>\n      <td>sectarian_texts</td>\n      <td>calendircal texts</td>\n      <td>0.770189</td>\n      <td>0.838607</td>\n      <td>וכן תבוא ליום וכן תבוא ליום וכן תבוא ליום וכן...</td>\n    </tr>\n    <tr>\n      <th>632</th>\n      <td>4Q320</td>\n      <td>4Q320:f1i:1-f1ii:3</td>\n      <td>sectarian_texts</td>\n      <td>calendircal texts</td>\n      <td>0.764764</td>\n      <td>0.823784</td>\n      <td>להראותה מן המזרח לאירה במחצית השמים ביסוד הבר...</td>\n    </tr>\n    <tr>\n      <th>650</th>\n      <td>4Q321a</td>\n      <td>4Q321a:1:1-2:1</td>\n      <td>sectarian_texts</td>\n      <td>calendircal texts</td>\n      <td>0.811360</td>\n      <td>0.813893</td>\n      <td>השנה הראשונה בארבעה בגמול באחד בראשון בחמשה ב...</td>\n    </tr>\n    <tr>\n      <th>402</th>\n      <td>4Q249z</td>\n      <td>4Q249z:f1:1-f12:2</td>\n      <td>NaN</td>\n      <td>NaN</td>\n      <td>0.844383</td>\n      <td>0.770640</td>\n      <td>ריו הב ל ו ע כאשר כתוב שרפ ת וד ד כת כ את פנ ...</td>\n    </tr>\n  </tbody>\n</table>\n<p>97 rows × 7 columns</p>\n</div>"
     },
     "execution_count": 50,
     "metadata": {},
     "output_type": "execute_result"
    }
   ],
   "source": [
    "mean_similarity = df_all_scrolls.groupby(\"book\")[\"similarity\"].mean().reset_index()\n",
    "df_all_scrolls_with_mean = df_all_scrolls.merge(mean_similarity, on=\"book\", suffixes=(\"\", \"_mean\"))\n",
    "df_all_scrolls_with_mean.drop_duplicates(\"book\").sort_values(\"similarity_mean\", ascending=False)[[\"book\",\"sentence_path\",\"section\",\"composition\",\"similarity\", \"similarity_mean\", \"text\"]]"
   ],
   "metadata": {
    "collapsed": false,
    "ExecuteTime": {
     "end_time": "2024-08-22T13:13:10.249141Z",
     "start_time": "2024-08-22T13:13:10.211322Z"
    }
   },
   "id": "8ee9960cb949ace5",
   "execution_count": 50
  },
  {
   "cell_type": "code",
   "outputs": [],
   "source": [],
   "metadata": {
    "collapsed": false
   },
   "id": "666983a5ee5d0a66"
  }
 ],
 "metadata": {
  "kernelspec": {
   "display_name": "Python 3",
   "language": "python",
   "name": "python3"
  },
  "language_info": {
   "codemirror_mode": {
    "name": "ipython",
    "version": 3
   },
   "file_extension": ".py",
   "mimetype": "text/x-python",
   "name": "python",
   "nbconvert_exporter": "python",
   "pygments_lexer": "ipython3",
   "version": "3.10.0"
  }
 },
 "nbformat": 4,
 "nbformat_minor": 5
}
