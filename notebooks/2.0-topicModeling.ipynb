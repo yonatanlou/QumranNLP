{
 "cells": [
  {
   "cell_type": "markdown",
   "metadata": {},
   "source": [
    "## Intro"
   ]
  },
  {
   "cell_type": "code",
   "execution_count": 2,
   "metadata": {
    "ExecuteTime": {
     "end_time": "2024-05-28T17:43:53.468527Z",
     "start_time": "2024-05-28T17:43:53.460074Z"
    },
    "execution": {
     "iopub.execute_input": "2024-05-28T18:30:24.242406Z",
     "iopub.status.busy": "2024-05-28T18:30:24.241733Z",
     "iopub.status.idle": "2024-05-28T18:30:24.832849Z",
     "shell.execute_reply": "2024-05-28T18:30:24.831833Z",
     "shell.execute_reply.started": "2024-05-28T18:30:24.242374Z"
    }
   },
   "outputs": [],
   "source": [
    "\n",
    "import matplotlib.pyplot as plt\n",
    "import numpy as np\n",
    "import pandas as pd\n",
    "from config import BASE_DIR\n",
    "RERUN = False"
   ]
  },
  {
   "cell_type": "markdown",
   "metadata": {},
   "source": [
    "The main purpose of this doc, is trying to determine the right number of topics for our corpus (currently handling only nonbib, hebrew texts).\n",
    "Ive sucseeded to lemmatize the text with the [dictabert-lex](https://huggingface.co/dicta-il/dictabert-lex) model which attempts to match up each word with the correct lexeme from within the BERT vocabulary.\n",
    "This doc structure is as follows:\n",
    "1. What are the problems in the current research for dealing with the problem of choosing the right number of topics.\n",
    "2. Some additional pre-processing to the corpus.\n",
    "3. Choosing number of topics:\n",
    "    1. Running multiple LDA models with a different number of optional topics and plot varoius metrics.\n",
    "    2. Running hierarchical dirichlet process for inferring number of topics.\n",
    "    3. Hyper parameter tuning for best number of topics.\n",
    "4. Short analysis of the topics after selecting (probably) the right number of topics. Chosen number of topics = 18-19 (regular text 18, lemmatized 19)\n",
    "\n",
    "\n",
    "\n",
    "TODO: \n",
    "1. Implement more models (BertTopic, LSA, etc)."
   ]
  },
  {
   "cell_type": "markdown",
   "metadata": {},
   "source": [
    "## Data"
   ]
  },
  {
   "cell_type": "code",
   "execution_count": 3,
   "metadata": {
    "ExecuteTime": {
     "end_time": "2024-05-28T17:48:06.630861Z",
     "start_time": "2024-05-28T17:48:06.487113Z"
    },
    "execution": {
     "iopub.execute_input": "2024-05-28T18:30:24.834872Z",
     "iopub.status.busy": "2024-05-28T18:30:24.834488Z",
     "iopub.status.idle": "2024-05-28T18:30:24.967706Z",
     "shell.execute_reply": "2024-05-28T18:30:24.966911Z",
     "shell.execute_reply.started": "2024-05-28T18:30:24.834843Z"
    }
   },
   "outputs": [
    {
     "data": {
      "text/html": [
       "<div>\n",
       "<style scoped>\n",
       "    .dataframe tbody tr th:only-of-type {\n",
       "        vertical-align: middle;\n",
       "    }\n",
       "\n",
       "    .dataframe tbody tr th {\n",
       "        vertical-align: top;\n",
       "    }\n",
       "\n",
       "    .dataframe thead th {\n",
       "        text-align: right;\n",
       "    }\n",
       "</style>\n",
       "<table border=\"1\" class=\"dataframe\">\n",
       "  <thead>\n",
       "    <tr style=\"text-align: right;\">\n",
       "      <th></th>\n",
       "      <th>book</th>\n",
       "      <th>text</th>\n",
       "      <th>composition</th>\n",
       "      <th>section</th>\n",
       "      <th>text_lex</th>\n",
       "    </tr>\n",
       "  </thead>\n",
       "  <tbody>\n",
       "    <tr>\n",
       "      <th>0</th>\n",
       "      <td>11Q1</td>\n",
       "      <td>וסמכ ידו על ראש השעיר ושחט אתו במקומ אשר ישחט...</td>\n",
       "      <td>Lev</td>\n",
       "      <td>NaN</td>\n",
       "      <td>סמך יד ראש עיר שחט את מקום שחט עלה פנה יהוה חט...</td>\n",
       "    </tr>\n",
       "    <tr>\n",
       "      <th>20</th>\n",
       "      <td>11Q11</td>\n",
       "      <td>וה כב הא ם ע דם סוכות לם ו ה ת יך ב את שבעים ...</td>\n",
       "      <td>NaN</td>\n",
       "      <td>NaN</td>\n",
       "      <td>וה כב א ם ע דם סוכ לם ה יך ב שבעים ל מים אחד ת...</td>\n",
       "    </tr>\n",
       "    <tr>\n",
       "      <th>27</th>\n",
       "      <td>11Q12</td>\n",
       "      <td>הודענו בצאתנו לפני יהוה אלוהינו את כול החטאות...</td>\n",
       "      <td>Book_of_Jubilees</td>\n",
       "      <td>non_sectarian_texts</td>\n",
       "      <td>ידע יצא פנה יהוה אלהים כל חטאת עה שמים ארץ אור...</td>\n",
       "    </tr>\n",
       "    <tr>\n",
       "      <th>32</th>\n",
       "      <td>11Q13</td>\n",
       "      <td>שון מושה כיא ש מ על ל ואשר אמר בשנת היובל הזו...</td>\n",
       "      <td>NaN</td>\n",
       "      <td>NaN</td>\n",
       "      <td>שון משה ש מ על ל אמר שנה יובל זה שוב איש אחזה ...</td>\n",
       "    </tr>\n",
       "    <tr>\n",
       "      <th>38</th>\n",
       "      <td>11Q17</td>\n",
       "      <td>ים מ האור מ סדרותיו סדרותיו מבנית שי קודש ישמ...</td>\n",
       "      <td>NaN</td>\n",
       "      <td>NaN</td>\n",
       "      <td>מ אור מ דרה דרה מבנית ש קדש שמע תהלה אלהים מ א...</td>\n",
       "    </tr>\n",
       "    <tr>\n",
       "      <th>...</th>\n",
       "      <td>...</td>\n",
       "      <td>...</td>\n",
       "      <td>...</td>\n",
       "      <td>...</td>\n",
       "      <td>...</td>\n",
       "    </tr>\n",
       "    <tr>\n",
       "      <th>2970</th>\n",
       "      <td>Sdeir1</td>\n",
       "      <td>אשר סביבתיהם ולא רדפו אחרי בני יעקב ויבא יעקב ...</td>\n",
       "      <td>NaN</td>\n",
       "      <td>NaN</td>\n",
       "      <td>סביב רדף בן יעקב בוא יעקב לוז ארץ כנען היא בית...</td>\n",
       "    </tr>\n",
       "    <tr>\n",
       "      <th>2974</th>\n",
       "      <td>Xhev/se5</td>\n",
       "      <td>וידבר יהוה אל משה לאמר קדש לי כל בכור בבני ישר...</td>\n",
       "      <td>NaN</td>\n",
       "      <td>NaN</td>\n",
       "      <td>דבר יהוה משה אמר קדש ל כל בכר בן יראל אדם ב ב ...</td>\n",
       "    </tr>\n",
       "    <tr>\n",
       "      <th>2979</th>\n",
       "      <td>Xq1</td>\n",
       "      <td>ויאמר יהוה אל משה ואהרן זאת חקת הפסח כל בן נכר...</td>\n",
       "      <td>NaN</td>\n",
       "      <td>NaN</td>\n",
       "      <td>אמר יהוה משה אהרן זה חקה פסח כל בן נכר אכל ב כ...</td>\n",
       "    </tr>\n",
       "    <tr>\n",
       "      <th>2983</th>\n",
       "      <td>Xq2</td>\n",
       "      <td>את הדברים האלה דבר יהוה עם כל קהלכם בהר מתוך ה...</td>\n",
       "      <td>NaN</td>\n",
       "      <td>NaN</td>\n",
       "      <td>דבר אלה דבר יהוה כל קהל הר תוך אש חשך ענן ערפל...</td>\n",
       "    </tr>\n",
       "    <tr>\n",
       "      <th>2987</th>\n",
       "      <td>Xq3</td>\n",
       "      <td>ויקרא משה אל כל יש ראל ויאמר אלהם שמעה ישראל א...</td>\n",
       "      <td>NaN</td>\n",
       "      <td>NaN</td>\n",
       "      <td>קרא משה כל יראל אמר אל שמע יראל חק משפט אנכי ד...</td>\n",
       "    </tr>\n",
       "  </tbody>\n",
       "</table>\n",
       "<p>202 rows × 5 columns</p>\n",
       "</div>"
      ],
      "text/plain": [
       "          book                                               text  \\\n",
       "0         11Q1   וסמכ ידו על ראש השעיר ושחט אתו במקומ אשר ישחט...   \n",
       "20       11Q11   וה כב הא ם ע דם סוכות לם ו ה ת יך ב את שבעים ...   \n",
       "27       11Q12   הודענו בצאתנו לפני יהוה אלוהינו את כול החטאות...   \n",
       "32       11Q13   שון מושה כיא ש מ על ל ואשר אמר בשנת היובל הזו...   \n",
       "38       11Q17   ים מ האור מ סדרותיו סדרותיו מבנית שי קודש ישמ...   \n",
       "...        ...                                                ...   \n",
       "2970    Sdeir1  אשר סביבתיהם ולא רדפו אחרי בני יעקב ויבא יעקב ...   \n",
       "2974  Xhev/se5  וידבר יהוה אל משה לאמר קדש לי כל בכור בבני ישר...   \n",
       "2979       Xq1  ויאמר יהוה אל משה ואהרן זאת חקת הפסח כל בן נכר...   \n",
       "2983       Xq2  את הדברים האלה דבר יהוה עם כל קהלכם בהר מתוך ה...   \n",
       "2987       Xq3  ויקרא משה אל כל יש ראל ויאמר אלהם שמעה ישראל א...   \n",
       "\n",
       "           composition              section  \\\n",
       "0                  Lev                  NaN   \n",
       "20                 NaN                  NaN   \n",
       "27    Book_of_Jubilees  non_sectarian_texts   \n",
       "32                 NaN                  NaN   \n",
       "38                 NaN                  NaN   \n",
       "...                ...                  ...   \n",
       "2970               NaN                  NaN   \n",
       "2974               NaN                  NaN   \n",
       "2979               NaN                  NaN   \n",
       "2983               NaN                  NaN   \n",
       "2987               NaN                  NaN   \n",
       "\n",
       "                                               text_lex  \n",
       "0     סמך יד ראש עיר שחט את מקום שחט עלה פנה יהוה חט...  \n",
       "20    וה כב א ם ע דם סוכ לם ה יך ב שבעים ל מים אחד ת...  \n",
       "27    ידע יצא פנה יהוה אלהים כל חטאת עה שמים ארץ אור...  \n",
       "32    שון משה ש מ על ל אמר שנה יובל זה שוב איש אחזה ...  \n",
       "38    מ אור מ דרה דרה מבנית ש קדש שמע תהלה אלהים מ א...  \n",
       "...                                                 ...  \n",
       "2970  סביב רדף בן יעקב בוא יעקב לוז ארץ כנען היא בית...  \n",
       "2974  דבר יהוה משה אמר קדש ל כל בכר בן יראל אדם ב ב ...  \n",
       "2979  אמר יהוה משה אהרן זה חקה פסח כל בן נכר אכל ב כ...  \n",
       "2983  דבר אלה דבר יהוה כל קהל הר תוך אש חשך ענן ערפל...  \n",
       "2987  קרא משה כל יראל אמר אל שמע יראל חק משפט אנכי ד...  \n",
       "\n",
       "[202 rows x 5 columns]"
      ]
     },
     "execution_count": 3,
     "metadata": {},
     "output_type": "execute_result"
    }
   ],
   "source": [
    "\n",
    "\n",
    "DATA_PATH = f\"{BASE_DIR}/notebooks/data/filtered_text_and_starr_features_100_words_22_05_2024.csv\"\n",
    "df = pd.read_csv(DATA_PATH)\n",
    "df_grouped = df.groupby(\"book\")[\"text\"].apply(' '.join).reset_index()\n",
    "book_info = df[[\"book\", \"composition\", \"section\", \"text_lex\"]].drop_duplicates()\n",
    "df_by_book = pd.merge(df_grouped, book_info, on=\"book\", how=\"inner\").drop_duplicates([\"book\"])\n",
    "\n",
    "\n",
    "df_by_book\n"
   ]
  },
  {
   "cell_type": "markdown",
   "metadata": {},
   "source": [
    "## Topic modeling"
   ]
  },
  {
   "cell_type": "markdown",
   "metadata": {},
   "source": [
    "### Choosing the right number of topics"
   ]
  },
  {
   "cell_type": "code",
   "execution_count": 4,
   "metadata": {
    "ExecuteTime": {
     "end_time": "2024-05-28T17:48:30.052815Z",
     "start_time": "2024-05-28T17:48:29.627324Z"
    },
    "collapsed": false,
    "execution": {
     "iopub.execute_input": "2024-05-28T18:30:25.736370Z",
     "iopub.status.busy": "2024-05-28T18:30:25.735989Z",
     "iopub.status.idle": "2024-05-28T18:30:25.836818Z",
     "shell.execute_reply": "2024-05-28T18:30:25.835723Z",
     "shell.execute_reply.started": "2024-05-28T18:30:25.736339Z"
    },
    "jupyter": {
     "outputs_hidden": false
    }
   },
   "outputs": [],
   "source": [
    "import gensim\n",
    "from gensim import corpora\n",
    "import tomotopy as tp\n",
    "import pandas as pd\n",
    "from scipy.spatial import distance\n",
    "from datetime import datetime\n",
    "from collections import Counter\n",
    "\n",
    "# Functions related to word frequency analysis\n",
    "def get_top_n_words(texts, n):\n",
    "    word_counts = Counter([word for text in texts for word in text])\n",
    "    return [word[0] for word in word_counts.most_common(n)]\n",
    "\n",
    "\n",
    "def get_bottom_n_words(texts, n):\n",
    "    word_counts = Counter([word for text in texts for word in text])\n",
    "    return [word[0] for word in word_counts.most_common()[:-n - 1:-1]]\n",
    "\n",
    "\n",
    "def remove_words_from_text(texts, words_to_remove):\n",
    "    new_texts = []\n",
    "    for text in texts:\n",
    "        new_texts.append([word for word in text if word not in words_to_remove])\n",
    "    return new_texts\n",
    "\n",
    "\n",
    "def bigram_per_prcosessing(texts, min_count_bigram, threshold_bigram):\n",
    "    bigram = gensim.models.Phrases(texts, min_count=min_count_bigram, threshold=threshold_bigram)\n",
    "    texts = [bigram[text] for text in texts]\n",
    "    return texts\n",
    "\n",
    "\n",
    "def common_non_common_words_removal(texts, top_words_removal, bottom_words_removal):\n",
    "    most_common_words = get_top_n_words(texts, top_words_removal)\n",
    "    texts = remove_words_from_text(texts, most_common_words)\n",
    "    least_common_words = get_bottom_n_words(texts, bottom_words_removal)\n",
    "    texts = remove_words_from_text(texts, least_common_words)\n",
    "\n",
    "    print(f\"Removed {most_common_words=}, {least_common_words=} from text\")\n",
    "    return texts\n",
    "\n",
    "\n",
    "def generate_components(df, column, min_count_bigram, threshold_bigram, top_words_removal,\n",
    "                        bottom_words_removal, words_removal=True, bigram_process=True):\n",
    "    texts = [[word for word in str(doc).split(\" \")] for doc in df[column]]\n",
    "    if bigram_process:\n",
    "        texts = bigram_per_prcosessing(texts, min_count_bigram, threshold_bigram)\n",
    "    if words_removal:\n",
    "        texts = common_non_common_words_removal(texts, top_words_removal, bottom_words_removal)\n",
    "    return texts\n"
   ]
  },
  {
   "cell_type": "code",
   "execution_count": 5,
   "metadata": {
    "ExecuteTime": {
     "end_time": "2024-05-28T17:48:34.012255Z",
     "start_time": "2024-05-28T17:48:33.984680Z"
    },
    "collapsed": false,
    "execution": {
     "iopub.execute_input": "2024-05-28T18:30:26.226403Z",
     "iopub.status.busy": "2024-05-28T18:30:26.225945Z",
     "iopub.status.idle": "2024-05-28T18:30:26.248749Z",
     "shell.execute_reply": "2024-05-28T18:30:26.247352Z",
     "shell.execute_reply.started": "2024-05-28T18:30:26.226372Z"
    },
    "jupyter": {
     "outputs_hidden": false
    }
   },
   "outputs": [
    {
     "name": "stdout",
     "output_type": "stream",
     "text": [
      "Removed most_common_words=['כל', 'ל', 'יהוה', 'יום', 'אמר', '', 'ב', 'אלהים'], least_common_words=['כיר', 'תושב', 'רחל', 'בכות', 'ינק', 'לוז', 'חזיון', 'צחנה', 'באש', 'קדמני'] from text\n"
     ]
    }
   ],
   "source": [
    "texts = generate_components(df_by_book,\"text_lex\",min_count_bigram=1, threshold_bigram=4, top_words_removal=8, bottom_words_removal=10, words_removal=True,\n",
    "                                                         bigram_process=False)\n",
    "\n",
    "texts = [\" \".join(doc) for doc in texts]\n"
   ]
  },
  {
   "cell_type": "code",
   "execution_count": 6,
   "metadata": {
    "ExecuteTime": {
     "end_time": "2024-05-28T17:48:46.622247Z",
     "start_time": "2024-05-28T17:48:46.446378Z"
    },
    "collapsed": false,
    "execution": {
     "iopub.execute_input": "2024-05-28T18:30:32.056854Z",
     "iopub.status.busy": "2024-05-28T18:30:32.056450Z",
     "iopub.status.idle": "2024-05-28T18:30:32.084923Z",
     "shell.execute_reply": "2024-05-28T18:30:32.084076Z",
     "shell.execute_reply.started": "2024-05-28T18:30:32.056822Z"
    },
    "jupyter": {
     "outputs_hidden": false
    }
   },
   "outputs": [
    {
     "data": {
      "text/plain": [
       "(202, 1868)"
      ]
     },
     "execution_count": 6,
     "metadata": {},
     "output_type": "execute_result"
    }
   ],
   "source": [
    "from sklearn.feature_extraction.text import TfidfVectorizer, CountVectorizer\n",
    "vectorizer = TfidfVectorizer()\n",
    "X = vectorizer.fit_transform(texts).toarray()\n",
    "with open('data/data_all_scrolls_lex.npy', 'wb') as f:\n",
    "    np.save(f, X)\n",
    "X.shape\n",
    "\n"
   ]
  },
  {
   "cell_type": "code",
   "execution_count": 7,
   "metadata": {
    "ExecuteTime": {
     "end_time": "2024-05-28T17:50:10.463905Z",
     "start_time": "2024-05-28T17:50:09.535793Z"
    },
    "execution": {
     "iopub.execute_input": "2024-05-28T18:30:32.414950Z",
     "iopub.status.busy": "2024-05-28T18:30:32.414319Z",
     "iopub.status.idle": "2024-05-28T18:30:32.900862Z",
     "shell.execute_reply": "2024-05-28T18:30:32.899889Z",
     "shell.execute_reply.started": "2024-05-28T18:30:32.414917Z"
    }
   },
   "outputs": [
    {
     "name": "stdout",
     "output_type": "stream",
     "text": [
      "10\n",
      "4\n"
     ]
    },
    {
     "data": {
      "image/png": "[encoded data removed]",
      "text/plain": [
       "<Figure size 1500x1000 with 1 Axes>"
      ]
     },
     "metadata": {},
     "output_type": "display_data"
    }
   ],
   "source": [
    "from config import BASE_DIR\n",
    "\n",
    "errors = np.load(f\"{BASE_DIR}/notebooks/data/errors_all_lex_reps-30_obj-jk_frac-0.1_k-1_30_max_iter-2000.npy\")\n",
    "Ks = list(range(1,30+1))\n",
    "\n",
    "def produce_figure(errors, rollback=False):\n",
    "    \"\"\"\n",
    "    produces a figure that shows the results\n",
    "    :param rollback: int - chosen k, after rolling backwards from the k with minimum median error\n",
    "    \"\"\"\n",
    "    \n",
    "    medians = np.nanmedian(errors, axis=1)\n",
    "    fig, ax = plt.subplots(figsize=(15,10))\n",
    "    title_str = \"All scrolls lex\" + \"\\n%dx%d, reps/folds: %d\" % (202, 1868, 30)\n",
    "    plt.title(title_str)\n",
    "    plt.xlabel('Rank')\n",
    "    plt.ylabel('log(Imputation Error)')\n",
    "    rank_cycle = np.array([[i] * 30 for i in Ks]).flatten()\n",
    "    plt.plot(rank_cycle + np.random.randn(rank_cycle.size) * .1, np.log(errors.flatten()), '.k', markersize=1)  # scatter\n",
    "    plt.plot(Ks, np.log(medians), 'b--', zorder=-1, label='Validation median (best: %d)' % best_k)\n",
    "    plt.legend(loc='best')\n",
    "    plt.xticks(Ks)\n",
    "    \n",
    "    if rollback:\n",
    "        plt.axvspan(best_k_after_rollback - 0.05, best_k_after_rollback + 0.05, color='gray', alpha=0.5)\n",
    "    else:\n",
    "        plt.axvspan(best_k - 0.05, best_k + 0.05, color='gray', alpha=0.5)\n",
    "\n",
    "    plt.show()\n",
    "import scipy\n",
    "def rollback(errors):\n",
    "    \"\"\"\n",
    "    Finds K after rolling backwards from the k with minimum median value, using Wilcoxon rank-sum test\n",
    "    :param errors: numpy array of errors (Ks x repetitions)\n",
    "    :return: index of K after rollback\n",
    "    \"\"\"\n",
    "    best_k_arg = np.argmin(np.nanmedian(errors, axis=1))\n",
    "    # rollback\n",
    "    for k in range(best_k_arg):\n",
    "        best_k_runs = errors[best_k_arg]\n",
    "        next_k_runs = errors[k]\n",
    "        u, p = scipy.stats.ranksums(next_k_runs, best_k_runs)\n",
    "        if p > 0.05:\n",
    "            best_k_arg = k\n",
    "            break\n",
    "    return best_k_arg\n",
    "best_k_arg = np.argmin(np.nanmedian(errors, axis=1))\n",
    "best_k = Ks[best_k_arg]\n",
    "# rollback\n",
    "best_k_after_rollback_idx = rollback(errors)\n",
    "best_k_after_rollback = Ks[best_k_after_rollback_idx]\n",
    "print(best_k)\n",
    "print(best_k_after_rollback)\n",
    "produce_figure(errors)"
   ]
  },
  {
   "cell_type": "markdown",
   "metadata": {
    "execution": {
     "iopub.execute_input": "2024-05-09T07:32:54.371434Z",
     "iopub.status.busy": "2024-05-09T07:32:54.370780Z",
     "iopub.status.idle": "2024-05-09T07:32:54.376915Z",
     "shell.execute_reply": "2024-05-09T07:32:54.375451Z",
     "shell.execute_reply.started": "2024-05-09T07:32:54.371403Z"
    }
   },
   "source": [
    "### Selected topic model analysis"
   ]
  },
  {
   "cell_type": "code",
   "execution_count": 8,
   "metadata": {
    "ExecuteTime": {
     "end_time": "2024-05-28T17:51:30.660845Z",
     "start_time": "2024-05-28T17:51:12.880574Z"
    },
    "execution": {
     "iopub.execute_input": "2024-05-28T18:30:38.734658Z",
     "iopub.status.busy": "2024-05-28T18:30:38.733973Z",
     "iopub.status.idle": "2024-05-28T18:30:55.375110Z",
     "shell.execute_reply": "2024-05-28T18:30:55.374299Z",
     "shell.execute_reply.started": "2024-05-28T18:30:38.734619Z"
    }
   },
   "outputs": [
    {
     "name": "stdout",
     "output_type": "stream",
     "text": [
      "Removed most_common_words=['את', 'יהוה', '', 'אשר', 'אל', 'על', 'כי', 'כול'], least_common_words=['ויוצאך', 'הוציאתך', 'היטבו', 'ומתתנו', 'חמצ', 'ומקנת', 'יבלה', 'ושרתם', 'ויורה', 'ובשערך'] from text\n",
      "NMF results\n",
      "NMF num_topics=10, sorted by % from all docs\n",
      "Topic 8 (39 docs, 19.31% from all docs): לא, כל, צבאות, ולא, אמר, נאם, ישראל, אדני, כה, אני, ביום, בית, ויאמר, יהודה, הארץ\n",
      "Topic 9 (32 docs, 15.84% from all docs): כיא, לוא, עולם, בכול, לאין, עם, נהיה, לכול, אתה, לכה, אמן, וכול, ברוך, ואתה, ואין\n",
      "Topic 0 (27 docs, 13.37% from all docs): משה, פרעה, ואת, ישראל, בני, ויאמר, כל, מצרים, אהרן, לא, העם, לכם, לאמר, ליהוה, יוסף\n",
      "Topic 6 (26 docs, 12.87% from all docs): כיא, לוא, פשרו, ולוא, הואה, ישראל, אמר, ויואמר, המה, פשר, מושה, יעקוב, כתוב, ואת, היאה\n",
      "Topic 1 (23 docs, 11.39% from all docs): אלהיך, לא, לך, כל, ולא, אנכי, היום, נתן, והיה, הארץ, אלהיכם, פן, מצוך, יהיה, בך\n",
      "Topic 3 (20 docs, 9.90% from all docs): די, מלכא, מן, ארעא, לה, אנה, שמיא, דן, להון, באדין, לא, אנון, ואמר, חד, רבא\n",
      "Topic 2 (16 docs, 7.92% from all docs): איש, ונענש, או, הרבים, היחד, וכול, ואם, התורה, לוא, ואשר, אם, רעהו, מן, בשבת, אנשי\n",
      "Topic 5 (7 docs, 3.47% from all docs): האש, קול, אלוהיכה, מתוך, אלהינו, לוא, לרשתה, אלי, כל, ואת, ייטב, בארץ, אנוכי, אלוהיך, ולמען\n",
      "Topic 7 (7 docs, 3.47% from all docs): פלא, אלוהים, בשבעה, קודש, כבודו, קודשים, עולמים, לכול, רום, דעת, כבוד, דברי, תהלי, וברך, לאלוהי\n",
      "Topic 4 (5 docs, 2.48% from all docs): פטר, ממצרים, יאכל, לאות, לך, בכור, לבבכם, והיה, כל, בחזק, רחם, היום, תפדה, ובשכבך, נשבע\n",
      "LDA results\n",
      "LDA num_topics=10, sorted by % from all docs\n",
      "Topic 1 (47 docs, 23.27% from all docs): אלהיך, בני, הארץ, הזה, היום, העם, ואת, ויאמר, ולא, ישראל, כל, לא, לך, מצרים, משה\n",
      "Topic 4 (41 docs, 20.30% from all docs): איש, אם, אמר, די, הוא, ואת, ויאמר, ולא, ישראל, כל, לא, לו, לי, מן, עד\n",
      "Topic 2 (30 docs, 14.85% from all docs): א, איש, בו, בני, ה, הארץ, ואת, וכול, ולוא, ישראל, כיא, ל, לוא, עד, עם\n",
      "Topic 3 (23 docs, 11.39% from all docs): אתה, בני, די, ו, ואני, ולא, כיא, כל, ל, לא, לאין, לי, עד, עולם, עם\n",
      "Topic 0 (22 docs, 10.89% from all docs): א, אלוהים, ב, ה, ו, י, ישראל, ל, ם, מ, פלא, קודש, ר, ש, ת\n",
      "Topic 5 (11 docs, 5.45% from all docs): איש, אמת, אנשי, בכול, היחד, הרבים, ואשר, וכול, ולוא, ונענש, כיא, לוא, עד, עם, פשרו\n",
      "Topic 7 (10 docs, 4.95% from all docs): או, איש, אם, בני, די, ואת, ויאמר, ויואמר, כל, לא, לה, לו, לוא, מן, עד\n",
      "Topic 6 (9 docs, 4.46% from all docs): אלהים, אם, בני, הארץ, הוא, ואת, ויאמר, ויהי, ולוא, יום, יוסף, יעקוב, ישראל, לו, פרעה\n",
      "Topic 8 (5 docs, 2.48% from all docs): אם, אמר, הארץ, הוא, הזה, ואת, ולא, יהודה, כה, כל, לא, לאמר, לכם, מי, עד\n",
      "Topic 9 (4 docs, 1.98% from all docs): בה, ביממא, דן, ואניר, ובאדין, ועל, ופלג, וקוי, חד, ליליא, נפק, ערב, שאר, שביע, שביעין\n",
      "Removed most_common_words=['כל', 'ל', 'יהוה', 'יום', 'אמר', '', 'ב', 'אלהים'], least_common_words=['כיר', 'תושב', 'רחל', 'בכות', 'ינק', 'לוז', 'חזיון', 'צחנה', 'באש', 'קדמני'] from text\n",
      "NMF results\n",
      "NMF num_topics=10, sorted by % from all docs\n",
      "Topic 4 (39 docs, 19.31% from all docs): אמת, מעה, אל, איש, עולם, פה, שוב, קץ, לב, יחד, יד, ברית, רוח, דרך, ספר\n",
      "Topic 6 (33 docs, 16.34% from all docs): ארץ, את, לבב, נתן, שמים, עה, אהב, עם, אדון, פנה, דרך, הלך, ירא, עין, מן\n",
      "Topic 8 (32 docs, 15.84% from all docs): בן, יעקב, היה, מצרים, יראל, ילד, בוא, פרעה, שם, מלך, משה, עם, יוסף, קרא, בת\n",
      "Topic 2 (21 docs, 10.40% from all docs): בר, שנה, קרה, הוה, חזה, אנה, ארע, משתו, שמין, דן, ברה, עובד, עבד, מלך, חד\n",
      "Topic 1 (19 docs, 9.41% from all docs): שבת, ערים, דוק, ער, ארבע, שנים, חמש, שלש, שש, אחד, שני, חדש, מאה, שנה, תשע\n",
      "Topic 5 (17 docs, 8.42% from all docs): קרב, מזבח, כהן, קרבן, בן, חלב, עלה, דם, אהרן, שחט, מועד, אהל, את, קטר, חטאת\n",
      "Topic 0 (15 docs, 7.43% from all docs): קול, שמע, דבר, אש, תוך, הר, אל, חיה, ראה, גדול, יסף, זה, לוח, אבן, מי\n",
      "Topic 7 (10 docs, 4.95% from all docs): שבע, פלא, רום, קדש, עולם, קדוש, ברך, ניא, תהלה, ראש, סוד, כבוד, דבר, הלל, צדק\n",
      "Topic 9 (9 docs, 4.46% from all docs): אנכי, פנה, כרת, הר, ברית, דבר, אש, את, עם, יראל, למד, עה, אנחנו, זה, חרב\n",
      "Topic 3 (7 docs, 3.47% from all docs): אכל, זה, חמץ, יצא, שבע, מצה, חדש, משה, ראה, עבד, זוב, אר, בכר, אביב, פטר\n",
      "LDA results\n",
      "LDA num_topics=10, sorted by % from all docs\n",
      "Topic 9 (38 docs, 18.81% from all docs): אל, אנכי, ארץ, את, בן, דבר, היה, זה, יראל, נתן, עבד, עה, עם, פנה, שמר\n",
      "Topic 0 (32 docs, 15.84% from all docs): אכל, ארץ, בוא, בן, דבר, הוא, היה, זה, יצא, כהן, משה, פלא, שביע, שבע, שבת\n",
      "Topic 6 (26 docs, 12.87% from all docs): איש, אל, בוא, בן, בר, יד, יראל, מזבח, נתן, עה, על, עלה, פנה, קרב, שנה\n",
      "Topic 1 (25 docs, 12.38% from all docs): אות, איש, אל, ארץ, דבר, היה, ידע, יראל, נא, עם, פנה, פשר, קול, שוב, שמע\n",
      "Topic 2 (19 docs, 9.41% from all docs): אב, אל, ארץ, אשה, בן, היה, ילד, יעקב, מלך, על, פנה, ראה, רוח, שם, שנה\n",
      "Topic 8 (17 docs, 8.42% from all docs): אל, ארץ, ברך, דבר, דרך, היה, הר, ידע, ם, מלך, עבד, עה, עם, שבע, שמע\n",
      "Topic 3 (16 docs, 7.92% from all docs): איש, אל, אש, דבר, דוק, היה, ער, ערים, קול, רב, שם, שמע, שנים, שש, תוך\n",
      "Topic 4 (16 docs, 7.92% from all docs): 30, איש, ארץ, בוא, דבר, היה, ידע, יראל, עה, על, פנה, קרא, שבת, שם, שמע\n",
      "Topic 7 (12 docs, 5.94% from all docs): אמת, דרך, היה, כבוד, עד, עולם, פלא, קדוש, קדש, קץ, רב, רוח, שמים, שמע, שפט\n",
      "Topic 5 (1 docs, 0.50% from all docs): דן, דרום, זוי, חמש, כמו, לוי, משח, ער, צפון, קרה, רס, שם, תלתין, תרין, תרע\n"
     ]
    }
   ],
   "source": [
    "import pandas as pd\n",
    "from sklearn.decomposition import NMF\n",
    "from sklearn.feature_extraction.text import TfidfVectorizer\n",
    "from gensim import corpora, models\n",
    "import re\n",
    "\n",
    "def generate_dominant_topic_df(model, corpus, original_texts=None, feature_names=None, model_type='nmf'):\n",
    "    df_topic_sents_keywords = pd.DataFrame()\n",
    "\n",
    "    if model_type == 'nmf':\n",
    "        W = model.transform(corpus)\n",
    "        for i, row in enumerate(W):\n",
    "            sorted_row = sorted(enumerate(row), key=lambda x: x[1], reverse=True)\n",
    "            for j, (topic_num, prop_topic) in enumerate(sorted_row):\n",
    "                if j == 0:\n",
    "                    topic_keywords = \", \".join([feature_names[word] for word in model.components_[topic_num].argsort()[:-11:-1]])\n",
    "                    df_topic_sents_keywords = pd.concat(\n",
    "                        [df_topic_sents_keywords,\n",
    "                         pd.DataFrame([[int(topic_num), round(prop_topic, 4), topic_keywords]],\n",
    "                                      columns=['Dominant_Topic', 'Perc_Contribution', 'Topic_Keywords'])],\n",
    "                        ignore_index=True)\n",
    "                else:\n",
    "                    break\n",
    "    elif model_type == 'lda':\n",
    "        for i, row_list in enumerate(model[corpus]):\n",
    "            row = row_list[0] if model.per_word_topics else row_list\n",
    "            row = sorted(row, key=lambda x: (x[1]), reverse=True)\n",
    "            for j, (topic_num, prop_topic) in enumerate(row):\n",
    "                if j == 0:\n",
    "                    wp = model.show_topic(topic_num)\n",
    "                    topic_keywords = \", \".join([word for word, prop in wp])\n",
    "                    df_topic_sents_keywords = pd.concat(\n",
    "                        [df_topic_sents_keywords,\n",
    "                         pd.DataFrame([[int(topic_num), round(prop_topic, 4), topic_keywords]],\n",
    "                                      columns=['Dominant_Topic', 'Perc_Contribution', 'Topic_Keywords'])],\n",
    "                        ignore_index=True)\n",
    "                else:\n",
    "                    break\n",
    "\n",
    "    contents = pd.Series(original_texts)\n",
    "    df_topic_sents_keywords = pd.concat([df_topic_sents_keywords, contents], axis=1)\n",
    "    df_topic_sents_keywords.columns = ['Dominant_Topic', 'Perc_Contribution', 'Topic_Keywords', 'Text']\n",
    "    df_topic_sents_keywords[\"book\"] = df_by_book.reset_index()[\"book\"]\n",
    "\n",
    "    # Format\n",
    "    df_dominant_topic = df_topic_sents_keywords.reset_index()\n",
    "    df_dominant_topic.columns = ['Document_No', 'Dominant_Topic', 'Topic_Perc_Contrib', 'Keywords', 'Text', 'book']\n",
    "    return df_dominant_topic\n",
    "\n",
    "def print_top_topics_by_percentage(model, df_dominant_topic, model_type, feature_names=None, num_words=15):\n",
    "    topics_by_freq = df_dominant_topic.groupby(\"Dominant_Topic\")[\"Document_No\"].count().sort_values(\n",
    "        ascending=False).to_frame()\n",
    "    topics_by_freq[\"freq\"] = topics_by_freq[\"Document_No\"] / topics_by_freq[\"Document_No\"].sum()\n",
    "    topics_by_freq.reset_index(inplace=True)\n",
    "    sorted_topics = topics_by_freq.sort_values(by=\"freq\", ascending=False)[\"Dominant_Topic\"].to_list()\n",
    "\n",
    "    if model_type == 'nmf':\n",
    "        topics = []\n",
    "        for topic_idx, topic in enumerate(model.components_):\n",
    "            words = [feature_names[i] for i in topic.argsort()[:-num_words - 1:-1]]\n",
    "            topics.append((topic_idx, \", \".join(words)))\n",
    "        \n",
    "        topics = [topics[int(i)] for i in sorted_topics]\n",
    "        cleaned_topics = [topic[1] for topic in topics]\n",
    "    elif model_type == 'lda':\n",
    "        topics = model.print_topics(num_topics=-1, num_words=num_words)\n",
    "        topics = [topics[int(i)] for i in sorted_topics]\n",
    "        cleaned_topics = []\n",
    "        for topic_no, topic in topics:\n",
    "            words = re.findall(r'\"([^\"]*)\"', topic)\n",
    "            cleaned_topics.append(', '.join(sorted(words)))\n",
    "\n",
    "    print(f\"{model_type.upper()} num_topics={len(sorted_topics)}, sorted by % from all docs\")\n",
    "    for i, topic in zip(sorted_topics, cleaned_topics):\n",
    "        doc_n = topics_by_freq[(topics_by_freq[\"Dominant_Topic\"] == i)][\"Document_No\"].values[0]\n",
    "        doc_ratio = topics_by_freq[(topics_by_freq[\"Dominant_Topic\"] == i)][\"freq\"].values[0]\n",
    "        print(f\"Topic {i} ({doc_n} docs, {doc_ratio:.2%} from all docs): {topic}\")\n",
    "\n",
    "# Assuming `texts` is your preprocessed text data and `df_by_book` is your original dataframe\n",
    "texts = generate_components(df_by_book, \"text\", min_count_bigram=1, threshold_bigram=4, top_words_removal=8, bottom_words_removal=10, words_removal=True, bigram_process=False)\n",
    "\n",
    "# NMF model\n",
    "original_texts = [' '.join(text) for text in texts]\n",
    "tfidf_vectorizer = TfidfVectorizer()\n",
    "tfidf = tfidf_vectorizer.fit_transform(original_texts)\n",
    "feature_names = tfidf_vectorizer.get_feature_names_out()\n",
    "nmf_model = NMF(n_components=10, init='random', random_state=0, max_iter=4500)\n",
    "nmf_model.fit(tfidf)\n",
    "df_dominant_topic_nmf = generate_dominant_topic_df(nmf_model, tfidf, original_texts, feature_names, model_type='nmf')\n",
    "print(\"NMF results\")\n",
    "print_top_topics_by_percentage(nmf_model, df_dominant_topic_nmf, 'nmf', feature_names, num_words=15)\n",
    "\n",
    "# LDA model\n",
    "id2word = corpora.Dictionary(texts)\n",
    "corpus = [id2word.doc2bow(text) for text in texts]\n",
    "lda_model = models.LdaModel(corpus=corpus, id2word=id2word, num_topics=10, random_state=0, update_every=1, passes=10, alpha='auto', per_word_topics=True)\n",
    "df_dominant_topic_lda = generate_dominant_topic_df(lda_model, corpus, original_texts, model_type='lda')\n",
    "print(\"LDA results\")\n",
    "print_top_topics_by_percentage(lda_model, df_dominant_topic_lda, 'lda', num_words=15)\n",
    "\n",
    "\n",
    "texts = generate_components(df_by_book, \"text_lex\", min_count_bigram=1, threshold_bigram=4, top_words_removal=8, bottom_words_removal=10, words_removal=True, bigram_process=False)\n",
    "# NMF model\n",
    "original_texts = [' '.join(text) for text in texts]\n",
    "tfidf_vectorizer = TfidfVectorizer()\n",
    "tfidf = tfidf_vectorizer.fit_transform(original_texts)\n",
    "feature_names = tfidf_vectorizer.get_feature_names_out()\n",
    "nmf_model = NMF(n_components=10, init='random', random_state=0, max_iter=4500)\n",
    "nmf_model.fit(tfidf)\n",
    "df_dominant_topic_nmf = generate_dominant_topic_df(nmf_model, tfidf, original_texts, feature_names, model_type='nmf')\n",
    "print(\"NMF results\")\n",
    "print_top_topics_by_percentage(nmf_model, df_dominant_topic_nmf, 'nmf', feature_names, num_words=15)\n",
    "\n",
    "# LDA model\n",
    "id2word = corpora.Dictionary(texts)\n",
    "corpus = [id2word.doc2bow(text) for text in texts]\n",
    "lda_model = models.LdaModel(corpus=corpus, id2word=id2word, num_topics=10, random_state=0, update_every=1, passes=10, alpha='auto', per_word_topics=True)\n",
    "df_dominant_topic_lda = generate_dominant_topic_df(lda_model, corpus, original_texts, model_type='lda')\n",
    "print(\"LDA results\")\n",
    "print_top_topics_by_percentage(lda_model, df_dominant_topic_lda, 'lda', num_words=15)\n"
   ]
  },
  {
   "cell_type": "code",
   "execution_count": 25,
   "metadata": {
    "execution": {
     "iopub.execute_input": "2024-05-28T18:55:31.868768Z",
     "iopub.status.busy": "2024-05-28T18:55:31.867527Z",
     "iopub.status.idle": "2024-05-28T18:55:33.507436Z",
     "shell.execute_reply": "2024-05-28T18:55:33.506379Z",
     "shell.execute_reply.started": "2024-05-28T18:55:31.868727Z"
    }
   },
   "outputs": [
    {
     "name": "stdout",
     "output_type": "stream",
     "text": [
      "Removed most_common_words=['כל', 'ל', 'יהוה', 'יום', 'אמר', '', 'ב', 'אלהים'], least_common_words=['כיר', 'תושב', 'רחל', 'בכות', 'ינק', 'לוז', 'חזיון', 'צחנה', 'באש', 'קדמני'] from text\n"
     ]
    },
    {
     "name": "stderr",
     "output_type": "stream",
     "text": [
      "/Users/yonatanlou/.pyenv/versions/3.10.0/envs/QumranNLP/lib/python3.10/site-packages/pandas/core/internals/blocks.py:366: RuntimeWarning: divide by zero encountered in log\n",
      "  result = func(self.values, **kwargs)\n",
      "/Users/yonatanlou/.pyenv/versions/3.10.0/envs/QumranNLP/lib/python3.10/site-packages/pandas/core/internals/blocks.py:366: RuntimeWarning: divide by zero encountered in log\n",
      "  result = func(self.values, **kwargs)\n",
      "/Users/yonatanlou/.pyenv/versions/3.10.0/envs/QumranNLP/lib/python3.10/site-packages/pandas/core/internals/blocks.py:366: RuntimeWarning: divide by zero encountered in log\n",
      "  result = func(self.values, **kwargs)\n",
      "/Users/yonatanlou/.pyenv/versions/3.10.0/envs/QumranNLP/lib/python3.10/site-packages/sklearn/manifold/_t_sne.py:805: FutureWarning: The default learning rate in TSNE will change from 200.0 to 'auto' in 1.2.\n",
      "  warnings.warn(\n"
     ]
    }
   ],
   "source": [
    "# Vectorize the data\n",
    "vectorizer = CountVectorizer(max_df=0.95, min_df=2, analyzer=\"word\")\n",
    "texts = generate_components(df_by_book, \"text_lex\", min_count_bigram=1, threshold_bigram=4, top_words_removal=8, bottom_words_removal=10, words_removal=True, bigram_process=False)\n",
    "original_texts = [' '.join(text) for text in texts]\n",
    "term_matrix = vectorizer.fit_transform(original_texts)\n",
    "feature_names = vectorizer.get_feature_names_out()\n",
    "df_dominant_topic_nmf = generate_dominant_topic_df(nmf_model, term_matrix, original_texts, feature_names, model_type='nmf')\n",
    "# Fit the NMF model\n",
    "nmf_model = NMF(n_components=10, random_state=1, init='nndsvd').fit(term_matrix)\n",
    "\n",
    "# Prepare the visualization\n",
    "def prepare_nmf_vis(nmf_model, term_matrix, vectorizer):\n",
    "    topic_term_dists = nmf_model.components_ / nmf_model.components_.sum(axis=1)[:, np.newaxis]\n",
    "    doc_topic_dists = nmf_model.transform(term_matrix)\n",
    "    doc_topic_dists = doc_topic_dists / doc_topic_dists.sum(axis=1)[:, np.newaxis]\n",
    "    doc_lengths = term_matrix.sum(axis=1).A1\n",
    "    vocab = vectorizer.get_feature_names_out()\n",
    "    term_frequency = term_matrix.sum(axis=0).A1\n",
    "\n",
    "    return pyLDAvis.prepare(topic_term_dists, doc_topic_dists, doc_lengths, vocab, term_frequency,mds='tsne')\n",
    "\n",
    "vis_data = prepare_nmf_vis(nmf_model, term_matrix, vectorizer)\n",
    "\n",
    "# Save the visualization as an HTML file\n",
    "pyLDAvis.save_html(vis_data, 'reports/nmf_bow_10_topics_visualization.html')"
   ]
  },
  {
   "cell_type": "code",
   "execution_count": 27,
   "metadata": {
    "ExecuteTime": {
     "end_time": "2024-05-28T17:58:07.014682Z",
     "start_time": "2024-05-28T17:58:06.861213Z"
    },
    "execution": {
     "iopub.execute_input": "2024-05-28T18:55:48.349472Z",
     "iopub.status.busy": "2024-05-28T18:55:48.349070Z",
     "iopub.status.idle": "2024-05-28T18:55:48.485717Z",
     "shell.execute_reply": "2024-05-28T18:55:48.484631Z",
     "shell.execute_reply.started": "2024-05-28T18:55:48.349440Z"
    }
   },
   "outputs": [],
   "source": [
    "df = pd.read_csv(DATA_PATH)\n",
    "df = pd.merge(df_dominant_topic_nmf[[\"Dominant_Topic\", \"book\"]], df, on=\"book\")\n",
    "df = pd.merge(\n",
    "    df_dominant_topic_nmf[[\"Dominant_Topic\", \"book\"]].rename(columns={\"Dominant_Topic\": \"Dominant_Topic_lem\"}),\n",
    "    df, on=\"book\")\n",
    "df[[\"Dominant_Topic\",\"book\"]].drop_duplicates().sort_values(by=\"Dominant_Topic\").to_csv(\"reports/nmf_bow_10_topics.csv\",index=False)"
   ]
  },
  {
   "cell_type": "code",
   "execution_count": null,
   "metadata": {
    "collapsed": false,
    "jupyter": {
     "outputs_hidden": false
    }
   },
   "outputs": [],
   "source": []
  }
 ],
 "metadata": {
  "kernelspec": {
   "display_name": "Python 3 (ipykernel)",
   "language": "python",
   "name": "python3"
  },
  "language_info": {
   "codemirror_mode": {
    "name": "ipython",
    "version": 3
   },
   "file_extension": ".py",
   "mimetype": "text/x-python",
   "name": "python",
   "nbconvert_exporter": "python",
   "pygments_lexer": "ipython3",
   "version": "3.10.0"
  },
  "toc": {
   "base_numbering": 1,
   "nav_menu": {},
   "number_sections": true,
   "sideBar": true,
   "skip_h1_title": false,
   "title_cell": "Table of Contents",
   "title_sidebar": "Contents",
   "toc_cell": false,
   "toc_position": {},
   "toc_section_display": "block",
   "toc_window_display": false
  },
  "widgets": {
   "application/vnd.jupyter.widget-state+json": {
    "state": {},
    "version_major": 2,
    "version_minor": 0
   }
  }
 },
 "nbformat": 4,
 "nbformat_minor": 4
}
