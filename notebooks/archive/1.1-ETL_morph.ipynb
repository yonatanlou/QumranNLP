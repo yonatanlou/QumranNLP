{
 "cells": [
  {
   "cell_type": "markdown",
   "metadata": {},
   "source": [
    "## Data"
   ]
  },
  {
   "cell_type": "code",
   "execution_count": 76,
   "metadata": {
    "execution": {
     "iopub.execute_input": "2024-05-10T10:08:02.874420Z",
     "iopub.status.busy": "2024-05-10T10:08:02.874087Z",
     "iopub.status.idle": "2024-05-10T10:08:02.880106Z",
     "shell.execute_reply": "2024-05-10T10:08:02.878876Z",
     "shell.execute_reply.started": "2024-05-10T10:08:02.874391Z"
    },
    "ExecuteTime": {
     "end_time": "2024-05-18T18:20:53.234454Z",
     "start_time": "2024-05-18T18:20:53.173649Z"
    }
   },
   "outputs": [],
   "source": [
    "\n",
    "import matplotlib\n",
    "import nltk\n",
    "import numpy as np\n",
    "from nltk.corpus import stopwords\n",
    "\n",
    "from notebooks.text_processing import add_sectarian_label\n",
    "from notebooks.utils import generate_composition_to_book\n",
    "\n",
    "matplotlib.rcParams['figure.figsize'] = (20, 10)\n"
   ]
  },
  {
   "cell_type": "code",
   "outputs": [],
   "source": [
    "\n",
    "\n",
    "import re\n",
    "import pandas as pd\n",
    "import matplotlib.pyplot as plt\n",
    "\n",
    "ALLOWED_CHARS = \"אבגדהוזחטיכלמנסעפצקרשתםןףךץ. 1234567890\"\n",
    "chars_to_delete = re.compile(\"[\\\\\\\\\\^><»≥≤/?Ø\\\\]\\\\[«|}{]\")\n",
    "from logger import get_logger\n",
    "\n",
    "logger = get_logger(__name__)\n",
    "\n"
   ],
   "metadata": {
    "collapsed": false,
    "ExecuteTime": {
     "end_time": "2024-05-18T18:20:53.534382Z",
     "start_time": "2024-05-18T18:20:53.478323Z"
    }
   },
   "execution_count": 77
  },
  {
   "cell_type": "code",
   "outputs": [
    {
     "data": {
      "text/plain": "<IPython.core.display.Markdown object>",
      "text/markdown": "**Locating corpus resources ...**"
     },
     "metadata": {},
     "output_type": "display_data"
    },
    {
     "data": {
      "text/plain": "<IPython.core.display.HTML object>",
      "text/html": "<b title=\"local release\">app:</b> <span title=\"rv1.9=#5e032551a4c9ccf86f21c20d66a4180f9f4cae7f offline under /Users/yonatanlou/text-fabric-data/github\">~/text-fabric-data/github/ETCBC/dss/app</span>"
     },
     "metadata": {},
     "output_type": "display_data"
    },
    {
     "data": {
      "text/plain": "<IPython.core.display.HTML object>",
      "text/html": "<b title=\"local release\">data:</b> <span title=\"rv1.9=#5e032551a4c9ccf86f21c20d66a4180f9f4cae7f offline under /Users/yonatanlou/text-fabric-data/github\">~/text-fabric-data/github/ETCBC/dss/tf/1.9</span>"
     },
     "metadata": {},
     "output_type": "display_data"
    },
    {
     "data": {
      "text/plain": "<IPython.core.display.HTML object>",
      "text/html": "<b title=\"local release\">data:</b> <span title=\"rv1.9=#5e032551a4c9ccf86f21c20d66a4180f9f4cae7f offline under /Users/yonatanlou/text-fabric-data/github\">~/text-fabric-data/github/ETCBC/dss/parallels/tf/1.9</span>"
     },
     "metadata": {},
     "output_type": "display_data"
    },
    {
     "data": {
      "text/plain": "<IPython.core.display.HTML object>",
      "text/html": "\n            <b>TF:</b> <a target=\"_blank\" href=\"https://annotation.github.io/text-fabric/tf/cheatsheet.html\" title=\"text-fabric api\">TF API 12.3.5</a>, <a target=\"_blank\" href=\"https://github.com/ETCBC/dss/blob/master/app\" title=\"ETCBC/dss app\">ETCBC/dss/app  v3</a>, <a target=\"_blank\" href=\"https://annotation.github.io/text-fabric/tf/about/searchusage.html\" title=\"Search Templates Introduction and Reference\">Search Reference</a><br>\n            <b>Data:</b> <a target=\"_blank\" href=\"https://github.com/ETCBC/dss/blob/master/docs/about.md\" title=\"provenance of Dead Sea Scrolls\">ETCBC - dss 1.9</a>, <a target=\"_blank\" href=\"https://annotation.github.io/text-fabric/tf/writing/hebrew.html\" title=\"How TF features represent text\">Character table</a>, <a target=\"_blank\" href=\"https://github.com/ETCBC/dss/blob/master/docs/transcription.md\" title=\"ETCBC - dss feature documentation\">Feature docs</a><br>\n            <details class=\"nodeinfo\"><summary><b>Node types</b></summary>\n<table class=\"nodeinfo\">\n    <tr>\n        <th>Name</th>\n        <th># of nodes</th>\n        <th># slots / node</th>\n        <th>% coverage</th>\n    </tr>\n\n<tr>\n    <th>scroll</th>\n    <td>1001</td>\n    <td>1428.81</td>\n    <td><b>100</b></td>\n</tr>\n\n<tr>\n    <th>lex</th>\n    <td>10450</td>\n    <td>129.14</td>\n    <td>94</td>\n</tr>\n\n<tr>\n    <th>fragment</th>\n    <td>11182</td>\n    <td>127.91</td>\n    <td><b>100</b></td>\n</tr>\n\n<tr>\n    <th>line</th>\n    <td>52895</td>\n    <td>27.04</td>\n    <td><b>100</b></td>\n</tr>\n\n<tr>\n    <th>clause</th>\n    <td>125</td>\n    <td>12.85</td>\n    <td>0</td>\n</tr>\n\n<tr>\n    <th>cluster</th>\n    <td>101099</td>\n    <td>6.68</td>\n    <td>47</td>\n</tr>\n\n<tr>\n    <th>phrase</th>\n    <td>315</td>\n    <td>5.10</td>\n    <td>0</td>\n</tr>\n\n<tr>\n    <th>word</th>\n    <td>500995</td>\n    <td>2.81</td>\n    <td>99</td>\n</tr>\n\n<tr>\n    <th><i>sign</i></th>\n    <td>1430241</td>\n    <td>1.00</td>\n    <td><b>100</b></td>\n</tr>\n</table></details>\n            <b>Sets:</b> no custom sets<br>\n            <b>Features:</b><br>\n<details><summary><b><github>ETCBC/dss/parallels/tf</b></summary>\n    <div class=\"fcorpus\">\n\n<div class=\"frow\">\n    <div class=\"fnamecat edge\">\n<a target=\"_blank\" href=\"https://github.com/ETCBC/dss/tree/master/parallels/tf\" title=\"~/text-fabric-data/github/ETCBC/dss/parallels/tf/1.9/sim.tf\">sim</a>\n</div>\n<div class=\"fmono\">int</div>\n\n<span> similarity between lines, as a percentage of the common material wrt the combined material</span>\n\n</div>\n\n    </div>\n</details>\n\n<details><summary><b>Dead Sea Scrolls</b></summary>\n    <div class=\"fcorpus\">\n\n<div class=\"frow\">\n    <div class=\"fnamecat \">\n<a target=\"_blank\" href=\"https://github.com/ETCBC/dss/blob/master/docs/transcription.md\" title=\"~/text-fabric-data/github/ETCBC/dss/tf/1.9/after.tf\">after</a>\n</div>\n<div class=\"fmono\">str</div>\n\n<span> space behind the word, if any</span>\n\n</div>\n\n<div class=\"frow\">\n    <div class=\"fnamecat \">\n<a target=\"_blank\" href=\"https://github.com/ETCBC/dss/blob/master/docs/transcription.md\" title=\"~/text-fabric-data/github/ETCBC/dss/tf/1.9/alt.tf\">alt</a>\n</div>\n<div class=\"fmono\">int</div>\n\n<span> alternative reading</span>\n\n</div>\n\n<div class=\"frow\">\n    <div class=\"fnamecat \">\n<a target=\"_blank\" href=\"https://github.com/ETCBC/dss/blob/master/docs/transcription.md\" title=\"~/text-fabric-data/github/ETCBC/dss/tf/1.9/biblical.tf\">biblical</a>\n</div>\n<div class=\"fmono\">int</div>\n\n<span> whether we are in biblical material or not</span>\n\n</div>\n\n<div class=\"frow\">\n    <div class=\"fnamecat \">\n<a target=\"_blank\" href=\"https://github.com/ETCBC/dss/blob/master/docs/transcription.md\" title=\"~/text-fabric-data/github/ETCBC/dss/tf/1.9/book.tf\">book</a>\n</div>\n<div class=\"fmono\">str</div>\n\n<span> acronym of the book in which the word occurs</span>\n\n</div>\n\n<div class=\"frow\">\n    <div class=\"fnamecat \">\n<a target=\"_blank\" href=\"https://github.com/ETCBC/dss/blob/master/docs/transcription.md\" title=\"~/text-fabric-data/github/ETCBC/dss/tf/1.9/book_etcbc.tf\">book_etcbc</a>\n</div>\n<div class=\"fmono\">str</div>\n\n<span> Dead Sea Scrolls: additions based on BHSA</span>\n\n</div>\n\n<div class=\"frow\">\n    <div class=\"fnamecat \">\n<a target=\"_blank\" href=\"https://github.com/ETCBC/dss/blob/master/docs/transcription.md\" title=\"~/text-fabric-data/github/ETCBC/dss/tf/1.9/chapter.tf\">chapter</a>\n</div>\n<div class=\"fmono\">str</div>\n\n<span> label of the chapter in which the word occurs</span>\n\n</div>\n\n<div class=\"frow\">\n    <div class=\"fnamecat \">\n<a target=\"_blank\" href=\"https://github.com/ETCBC/dss/blob/master/docs/transcription.md\" title=\"~/text-fabric-data/github/ETCBC/dss/tf/1.9/cl.tf\">cl</a>\n</div>\n<div class=\"fmono\">str</div>\n\n<span> class (morphology tag)</span>\n\n</div>\n\n<div class=\"frow\">\n    <div class=\"fnamecat \">\n<a target=\"_blank\" href=\"https://github.com/ETCBC/dss/blob/master/docs/transcription.md\" title=\"~/text-fabric-data/github/ETCBC/dss/tf/1.9/cl2.tf\">cl2</a>\n</div>\n<div class=\"fmono\">str</div>\n\n<span> class (for part 2) (morphology tag)</span>\n\n</div>\n\n<div class=\"frow\">\n    <div class=\"fnamecat \">\n<a target=\"_blank\" href=\"https://github.com/ETCBC/dss/blob/master/docs/transcription.md\" title=\"~/text-fabric-data/github/ETCBC/dss/tf/1.9/cor.tf\">cor</a>\n</div>\n<div class=\"fmono\">int</div>\n\n<span> correction made by an ancient or modern editor</span>\n\n</div>\n\n<div class=\"frow\">\n    <div class=\"fnamecat \">\n<a target=\"_blank\" href=\"https://github.com/ETCBC/dss/blob/master/docs/transcription.md\" title=\"~/text-fabric-data/github/ETCBC/dss/tf/1.9/fragment.tf\">fragment</a>\n</div>\n<div class=\"fmono\">str</div>\n\n<span> label of a fragment of a scroll</span>\n\n</div>\n\n<div class=\"frow\">\n    <div class=\"fnamecat \">\n<a target=\"_blank\" href=\"https://github.com/ETCBC/dss/blob/master/docs/transcription.md\" title=\"~/text-fabric-data/github/ETCBC/dss/tf/1.9/full.tf\">full</a>\n</div>\n<div class=\"fmono\">str</div>\n\n<span> full transcription (Unicode) of a word including flags and brackets</span>\n\n</div>\n\n<div class=\"frow\">\n    <div class=\"fnamecat \">\n<a target=\"_blank\" href=\"https://github.com/ETCBC/dss/blob/master/docs/transcription.md\" title=\"~/text-fabric-data/github/ETCBC/dss/tf/1.9/fulle.tf\">fulle</a>\n</div>\n<div class=\"fmono\">str</div>\n\n<span> full transcription (ETCBC transliteration) of a word including flags and brackets</span>\n\n</div>\n\n<div class=\"frow\">\n    <div class=\"fnamecat \">\n<a target=\"_blank\" href=\"https://github.com/ETCBC/dss/blob/master/docs/transcription.md\" title=\"~/text-fabric-data/github/ETCBC/dss/tf/1.9/fullo.tf\">fullo</a>\n</div>\n<div class=\"fmono\">str</div>\n\n<span> full transcription (original source) of a word including flags and brackets</span>\n\n</div>\n\n<div class=\"frow\">\n    <div class=\"fnamecat \">\n<a target=\"_blank\" href=\"https://github.com/ETCBC/dss/blob/master/docs/transcription.md\" title=\"~/text-fabric-data/github/ETCBC/dss/tf/1.9/g_cons.tf\">g_cons</a>\n</div>\n<div class=\"fmono\">str</div>\n\n<span> Dead Sea Scrolls: additions based on BHSA and machine learning</span>\n\n</div>\n\n<div class=\"frow\">\n    <div class=\"fnamecat \">\n<a target=\"_blank\" href=\"https://github.com/ETCBC/dss/blob/master/docs/transcription.md\" title=\"~/text-fabric-data/github/ETCBC/dss/tf/1.9/g_nme_etcbc.tf\">g_nme_etcbc</a>\n</div>\n<div class=\"fmono\">str</div>\n\n<span> Dead Sea Scrolls: additions based on BHSA and machine learning</span>\n\n</div>\n\n<div class=\"frow\">\n    <div class=\"fnamecat \">\n<a target=\"_blank\" href=\"https://github.com/ETCBC/dss/blob/master/docs/transcription.md\" title=\"~/text-fabric-data/github/ETCBC/dss/tf/1.9/g_prs_etcbc.tf\">g_prs_etcbc</a>\n</div>\n<div class=\"fmono\">str</div>\n\n<span> Dead Sea Scrolls: additions based on BHSA and machine learning</span>\n\n</div>\n\n<div class=\"frow\">\n    <div class=\"fnamecat \">\n<a target=\"_blank\" href=\"https://github.com/ETCBC/dss/blob/master/docs/transcription.md\" title=\"~/text-fabric-data/github/ETCBC/dss/tf/1.9/glex.tf\">glex</a>\n</div>\n<div class=\"fmono\">str</div>\n\n<span> representation (Unicode) of a lexeme leaving out non-letters</span>\n\n</div>\n\n<div class=\"frow\">\n    <div class=\"fnamecat \">\n<a target=\"_blank\" href=\"https://github.com/ETCBC/dss/blob/master/docs/transcription.md\" title=\"~/text-fabric-data/github/ETCBC/dss/tf/1.9/glexe.tf\">glexe</a>\n</div>\n<div class=\"fmono\">str</div>\n\n<span> representation (ETCBC transliteration) of a lexeme leaving out non-letters</span>\n\n</div>\n\n<div class=\"frow\">\n    <div class=\"fnamecat \">\n<a target=\"_blank\" href=\"https://github.com/ETCBC/dss/blob/master/docs/transcription.md\" title=\"~/text-fabric-data/github/ETCBC/dss/tf/1.9/glexo.tf\">glexo</a>\n</div>\n<div class=\"fmono\">str</div>\n\n<span> representation (original source) of a lexeme leaving out non-letters</span>\n\n</div>\n\n<div class=\"frow\">\n    <div class=\"fnamecat \">\n<a target=\"_blank\" href=\"https://github.com/ETCBC/dss/blob/master/docs/transcription.md\" title=\"~/text-fabric-data/github/ETCBC/dss/tf/1.9/glyph.tf\">glyph</a>\n</div>\n<div class=\"fmono\">str</div>\n\n<span> representation (Unicode) of a word or sign</span>\n\n</div>\n\n<div class=\"frow\">\n    <div class=\"fnamecat \">\n<a target=\"_blank\" href=\"https://github.com/ETCBC/dss/blob/master/docs/transcription.md\" title=\"~/text-fabric-data/github/ETCBC/dss/tf/1.9/glyphe.tf\">glyphe</a>\n</div>\n<div class=\"fmono\">str</div>\n\n<span> representation (ETCBC transliteration) of a word or sign</span>\n\n</div>\n\n<div class=\"frow\">\n    <div class=\"fnamecat \">\n<a target=\"_blank\" href=\"https://github.com/ETCBC/dss/blob/master/docs/transcription.md\" title=\"~/text-fabric-data/github/ETCBC/dss/tf/1.9/glypho.tf\">glypho</a>\n</div>\n<div class=\"fmono\">str</div>\n\n<span> representation (original source) of a word or sign</span>\n\n</div>\n\n<div class=\"frow\">\n    <div class=\"fnamecat \">\n<a target=\"_blank\" href=\"https://github.com/ETCBC/dss/blob/master/docs/transcription.md\" title=\"~/text-fabric-data/github/ETCBC/dss/tf/1.9/gn.tf\">gn</a>\n</div>\n<div class=\"fmono\">str</div>\n\n<span> gender (morphology tag)</span>\n\n</div>\n\n<div class=\"frow\">\n    <div class=\"fnamecat \">\n<a target=\"_blank\" href=\"https://github.com/ETCBC/dss/blob/master/docs/transcription.md\" title=\"~/text-fabric-data/github/ETCBC/dss/tf/1.9/gn2.tf\">gn2</a>\n</div>\n<div class=\"fmono\">str</div>\n\n<span> gender (for part 2) (morphology tag)</span>\n\n</div>\n\n<div class=\"frow\">\n    <div class=\"fnamecat \">\n<a target=\"_blank\" href=\"https://github.com/ETCBC/dss/blob/master/docs/transcription.md\" title=\"~/text-fabric-data/github/ETCBC/dss/tf/1.9/gn3.tf\">gn3</a>\n</div>\n<div class=\"fmono\">str</div>\n\n<span> gender (for part 3) (morphology tag)</span>\n\n</div>\n\n<div class=\"frow\">\n    <div class=\"fnamecat \">\n<a target=\"_blank\" href=\"https://github.com/ETCBC/dss/blob/master/docs/transcription.md\" title=\"~/text-fabric-data/github/ETCBC/dss/tf/1.9/gn_etcbc.tf\">gn_etcbc</a>\n</div>\n<div class=\"fmono\">str</div>\n\n<span> Dead Sea Scrolls: additions based on BHSA and machine learning</span>\n\n</div>\n\n<div class=\"frow\">\n    <div class=\"fnamecat \">\n<a target=\"_blank\" href=\"https://github.com/ETCBC/dss/blob/master/docs/transcription.md\" title=\"~/text-fabric-data/github/ETCBC/dss/tf/1.9/halfverse.tf\">halfverse</a>\n</div>\n<div class=\"fmono\">str</div>\n\n<span> label of the half-verse in which the word occurs</span>\n\n</div>\n\n<div class=\"frow\">\n    <div class=\"fnamecat \">\n<a target=\"_blank\" href=\"https://github.com/ETCBC/dss/blob/master/docs/transcription.md\" title=\"~/text-fabric-data/github/ETCBC/dss/tf/1.9/intl.tf\">intl</a>\n</div>\n<div class=\"fmono\">int</div>\n\n<span> interlinear material, the value indicates the sequence number of the interlinear line</span>\n\n</div>\n\n<div class=\"frow\">\n    <div class=\"fnamecat \">\n<a target=\"_blank\" href=\"https://github.com/ETCBC/dss/blob/master/docs/transcription.md\" title=\"~/text-fabric-data/github/ETCBC/dss/tf/1.9/lang.tf\">lang</a>\n</div>\n<div class=\"fmono\">str</div>\n\n<span> language of a word or sign, only if it is not Hebrew</span>\n\n</div>\n\n<div class=\"frow\">\n    <div class=\"fnamecat \">\n<a target=\"_blank\" href=\"https://github.com/ETCBC/dss/blob/master/docs/transcription.md\" title=\"~/text-fabric-data/github/ETCBC/dss/tf/1.9/lang_etcbc.tf\">lang_etcbc</a>\n</div>\n<div class=\"fmono\">str</div>\n\n<span> Dead Sea Scrolls: additions based on BHSA</span>\n\n</div>\n\n<div class=\"frow\">\n    <div class=\"fnamecat \">\n<a target=\"_blank\" href=\"https://github.com/ETCBC/dss/blob/master/docs/transcription.md\" title=\"~/text-fabric-data/github/ETCBC/dss/tf/1.9/lex.tf\">lex</a>\n</div>\n<div class=\"fmono\">str</div>\n\n<span> representation (Unicode) of a lexeme</span>\n\n</div>\n\n<div class=\"frow\">\n    <div class=\"fnamecat \">\n<a target=\"_blank\" href=\"https://github.com/ETCBC/dss/blob/master/docs/transcription.md\" title=\"~/text-fabric-data/github/ETCBC/dss/tf/1.9/lex_etcbc.tf\">lex_etcbc</a>\n</div>\n<div class=\"fmono\">str</div>\n\n<span> Dead Sea Scrolls: additions based on BHSA and machine learning</span>\n\n</div>\n\n<div class=\"frow\">\n    <div class=\"fnamecat \">\n<a target=\"_blank\" href=\"https://github.com/ETCBC/dss/blob/master/docs/transcription.md\" title=\"~/text-fabric-data/github/ETCBC/dss/tf/1.9/lexe.tf\">lexe</a>\n</div>\n<div class=\"fmono\">str</div>\n\n<span> representation (ETCBC transliteration) of a lexeme</span>\n\n</div>\n\n<div class=\"frow\">\n    <div class=\"fnamecat \">\n<a target=\"_blank\" href=\"https://github.com/ETCBC/dss/blob/master/docs/transcription.md\" title=\"~/text-fabric-data/github/ETCBC/dss/tf/1.9/lexo.tf\">lexo</a>\n</div>\n<div class=\"fmono\">str</div>\n\n<span> representation (original source) of a lexeme</span>\n\n</div>\n\n<div class=\"frow\">\n    <div class=\"fnamecat \">\n<a target=\"_blank\" href=\"https://github.com/ETCBC/dss/blob/master/docs/transcription.md\" title=\"~/text-fabric-data/github/ETCBC/dss/tf/1.9/line.tf\">line</a>\n</div>\n<div class=\"fmono\">str</div>\n\n<span> label of a line of a fragment of a scroll</span>\n\n</div>\n\n<div class=\"frow\">\n    <div class=\"fnamecat \">\n<a target=\"_blank\" href=\"https://github.com/ETCBC/dss/blob/master/docs/transcription.md\" title=\"~/text-fabric-data/github/ETCBC/dss/tf/1.9/md.tf\">md</a>\n</div>\n<div class=\"fmono\">str</div>\n\n<span> mood (morphology tag)</span>\n\n</div>\n\n<div class=\"frow\">\n    <div class=\"fnamecat \">\n<a target=\"_blank\" href=\"https://github.com/ETCBC/dss/blob/master/docs/transcription.md\" title=\"~/text-fabric-data/github/ETCBC/dss/tf/1.9/merr.tf\">merr</a>\n</div>\n<div class=\"fmono\">str</div>\n\n<span> errors in parsing the morphology tag</span>\n\n</div>\n\n<div class=\"frow\">\n    <div class=\"fnamecat \">\n<a target=\"_blank\" href=\"https://github.com/ETCBC/dss/blob/master/docs/transcription.md\" title=\"~/text-fabric-data/github/ETCBC/dss/tf/1.9/morpho.tf\">morpho</a>\n</div>\n<div class=\"fmono\">str</div>\n\n<span> morphological tag (by Abegg)</span>\n\n</div>\n\n<div class=\"frow\">\n    <div class=\"fnamecat \">\n<a target=\"_blank\" href=\"https://github.com/ETCBC/dss/blob/master/docs/transcription.md\" title=\"~/text-fabric-data/github/ETCBC/dss/tf/1.9/nr.tf\">nr</a>\n</div>\n<div class=\"fmono\">str</div>\n\n<span> Dead Sea Scrolls: additions based on BHSA and machine learning</span>\n\n</div>\n\n<div class=\"frow\">\n    <div class=\"fnamecat \">\n<a target=\"_blank\" href=\"https://github.com/ETCBC/dss/blob/master/docs/transcription.md\" title=\"~/text-fabric-data/github/ETCBC/dss/tf/1.9/nu.tf\">nu</a>\n</div>\n<div class=\"fmono\">str</div>\n\n<span> number (morphology tag)</span>\n\n</div>\n\n<div class=\"frow\">\n    <div class=\"fnamecat \">\n<a target=\"_blank\" href=\"https://github.com/ETCBC/dss/blob/master/docs/transcription.md\" title=\"~/text-fabric-data/github/ETCBC/dss/tf/1.9/nu2.tf\">nu2</a>\n</div>\n<div class=\"fmono\">str</div>\n\n<span> number (for part 2) (morphology tag)</span>\n\n</div>\n\n<div class=\"frow\">\n    <div class=\"fnamecat \">\n<a target=\"_blank\" href=\"https://github.com/ETCBC/dss/blob/master/docs/transcription.md\" title=\"~/text-fabric-data/github/ETCBC/dss/tf/1.9/nu3.tf\">nu3</a>\n</div>\n<div class=\"fmono\">str</div>\n\n<span> number (for part 3) (morphology tag)</span>\n\n</div>\n\n<div class=\"frow\">\n    <div class=\"fnamecat \">\n<a target=\"_blank\" href=\"https://github.com/ETCBC/dss/blob/master/docs/transcription.md\" title=\"~/text-fabric-data/github/ETCBC/dss/tf/1.9/nu_etcbc.tf\">nu_etcbc</a>\n</div>\n<div class=\"fmono\">str</div>\n\n<span> Dead Sea Scrolls: additions based on BHSA and machine learning</span>\n\n</div>\n\n<div class=\"frow\">\n    <div class=\"fnamecat \">\n<a target=\"_blank\" href=\"https://github.com/ETCBC/dss/blob/master/docs/transcription.md\" title=\"~/text-fabric-data/github/ETCBC/dss/tf/1.9/otype.tf\">otype</a>\n</div>\n<div class=\"fmono\">str</div>\n\n<span> Dead Sea Scrolls: biblical and non-biblical scrolls</span>\n\n</div>\n\n<div class=\"frow\">\n    <div class=\"fnamecat \">\n<a target=\"_blank\" href=\"https://github.com/ETCBC/dss/blob/master/docs/transcription.md\" title=\"~/text-fabric-data/github/ETCBC/dss/tf/1.9/ps.tf\">ps</a>\n</div>\n<div class=\"fmono\">str</div>\n\n<span> person (morphology tag)</span>\n\n</div>\n\n<div class=\"frow\">\n    <div class=\"fnamecat \">\n<a target=\"_blank\" href=\"https://github.com/ETCBC/dss/blob/master/docs/transcription.md\" title=\"~/text-fabric-data/github/ETCBC/dss/tf/1.9/ps2.tf\">ps2</a>\n</div>\n<div class=\"fmono\">str</div>\n\n<span> person (for part 2) (morphology tag)</span>\n\n</div>\n\n<div class=\"frow\">\n    <div class=\"fnamecat \">\n<a target=\"_blank\" href=\"https://github.com/ETCBC/dss/blob/master/docs/transcription.md\" title=\"~/text-fabric-data/github/ETCBC/dss/tf/1.9/ps3.tf\">ps3</a>\n</div>\n<div class=\"fmono\">str</div>\n\n<span> person (for part 3) (morphology tag)</span>\n\n</div>\n\n<div class=\"frow\">\n    <div class=\"fnamecat \">\n<a target=\"_blank\" href=\"https://github.com/ETCBC/dss/blob/master/docs/transcription.md\" title=\"~/text-fabric-data/github/ETCBC/dss/tf/1.9/ps_etcbc.tf\">ps_etcbc</a>\n</div>\n<div class=\"fmono\">str</div>\n\n<span> Dead Sea Scrolls: additions based on BHSA and machine learning</span>\n\n</div>\n\n<div class=\"frow\">\n    <div class=\"fnamecat \">\n<a target=\"_blank\" href=\"https://github.com/ETCBC/dss/blob/master/docs/transcription.md\" title=\"~/text-fabric-data/github/ETCBC/dss/tf/1.9/punc.tf\">punc</a>\n</div>\n<div class=\"fmono\">str</div>\n\n<span> trailing punctuation (Unicode) of a word</span>\n\n</div>\n\n<div class=\"frow\">\n    <div class=\"fnamecat \">\n<a target=\"_blank\" href=\"https://github.com/ETCBC/dss/blob/master/docs/transcription.md\" title=\"~/text-fabric-data/github/ETCBC/dss/tf/1.9/punce.tf\">punce</a>\n</div>\n<div class=\"fmono\">str</div>\n\n<span> trailing punctuation (ETCBC transliteration) of a word</span>\n\n</div>\n\n<div class=\"frow\">\n    <div class=\"fnamecat \">\n<a target=\"_blank\" href=\"https://github.com/ETCBC/dss/blob/master/docs/transcription.md\" title=\"~/text-fabric-data/github/ETCBC/dss/tf/1.9/punco.tf\">punco</a>\n</div>\n<div class=\"fmono\">str</div>\n\n<span> trailing punctuation (original source) of a word</span>\n\n</div>\n\n<div class=\"frow\">\n    <div class=\"fnamecat \">\n<a target=\"_blank\" href=\"https://github.com/ETCBC/dss/blob/master/docs/transcription.md\" title=\"~/text-fabric-data/github/ETCBC/dss/tf/1.9/rec.tf\">rec</a>\n</div>\n<div class=\"fmono\">int</div>\n\n<span> reconstructed by a modern editor</span>\n\n</div>\n\n<div class=\"frow\">\n    <div class=\"fnamecat \">\n<a target=\"_blank\" href=\"https://github.com/ETCBC/dss/blob/master/docs/transcription.md\" title=\"~/text-fabric-data/github/ETCBC/dss/tf/1.9/rem.tf\">rem</a>\n</div>\n<div class=\"fmono\">int</div>\n\n<span> removed by an ancient or modern editor</span>\n\n</div>\n\n<div class=\"frow\">\n    <div class=\"fnamecat \">\n<a target=\"_blank\" href=\"https://github.com/ETCBC/dss/blob/master/docs/transcription.md\" title=\"~/text-fabric-data/github/ETCBC/dss/tf/1.9/script.tf\">script</a>\n</div>\n<div class=\"fmono\">str</div>\n\n<span> script in which the word or sign is written if it is not Hebrew</span>\n\n</div>\n\n<div class=\"frow\">\n    <div class=\"fnamecat \">\n<a target=\"_blank\" href=\"https://github.com/ETCBC/dss/blob/master/docs/transcription.md\" title=\"~/text-fabric-data/github/ETCBC/dss/tf/1.9/scroll.tf\">scroll</a>\n</div>\n<div class=\"fmono\">str</div>\n\n<span> acronym of a scroll</span>\n\n</div>\n\n<div class=\"frow\">\n    <div class=\"fnamecat \">\n<a target=\"_blank\" href=\"https://github.com/ETCBC/dss/blob/master/docs/transcription.md\" title=\"~/text-fabric-data/github/ETCBC/dss/tf/1.9/sp.tf\">sp</a>\n</div>\n<div class=\"fmono\">str</div>\n\n<span> part of speech (morphology tag)</span>\n\n</div>\n\n<div class=\"frow\">\n    <div class=\"fnamecat \">\n<a target=\"_blank\" href=\"https://github.com/ETCBC/dss/blob/master/docs/transcription.md\" title=\"~/text-fabric-data/github/ETCBC/dss/tf/1.9/sp_etcbc.tf\">sp_etcbc</a>\n</div>\n<div class=\"fmono\">str</div>\n\n<span> Dead Sea Scrolls: additions based on BHSA and machine learning</span>\n\n</div>\n\n<div class=\"frow\">\n    <div class=\"fnamecat \">\n<a target=\"_blank\" href=\"https://github.com/ETCBC/dss/blob/master/docs/transcription.md\" title=\"~/text-fabric-data/github/ETCBC/dss/tf/1.9/srcLn.tf\">srcLn</a>\n</div>\n<div class=\"fmono\">int</div>\n\n<span> the line number of the word in the source data file</span>\n\n</div>\n\n<div class=\"frow\">\n    <div class=\"fnamecat \">\n<a target=\"_blank\" href=\"https://github.com/ETCBC/dss/blob/master/docs/transcription.md\" title=\"~/text-fabric-data/github/ETCBC/dss/tf/1.9/st.tf\">st</a>\n</div>\n<div class=\"fmono\">str</div>\n\n<span> state (morphology tag)</span>\n\n</div>\n\n<div class=\"frow\">\n    <div class=\"fnamecat \">\n<a target=\"_blank\" href=\"https://github.com/ETCBC/dss/blob/master/docs/transcription.md\" title=\"~/text-fabric-data/github/ETCBC/dss/tf/1.9/type.tf\">type</a>\n</div>\n<div class=\"fmono\">str</div>\n\n<span> type of sign or cluster</span>\n\n</div>\n\n<div class=\"frow\">\n    <div class=\"fnamecat \">\n<a target=\"_blank\" href=\"https://github.com/ETCBC/dss/blob/master/docs/transcription.md\" title=\"~/text-fabric-data/github/ETCBC/dss/tf/1.9/unc.tf\">unc</a>\n</div>\n<div class=\"fmono\">int</div>\n\n<span> uncertain material in various degrees: higher degree is less certain</span>\n\n</div>\n\n<div class=\"frow\">\n    <div class=\"fnamecat \">\n<a target=\"_blank\" href=\"https://github.com/ETCBC/dss/blob/master/docs/transcription.md\" title=\"~/text-fabric-data/github/ETCBC/dss/tf/1.9/uvf_etcbc.tf\">uvf_etcbc</a>\n</div>\n<div class=\"fmono\">str</div>\n\n<span> Dead Sea Scrolls: additions based on BHSA and machine learning</span>\n\n</div>\n\n<div class=\"frow\">\n    <div class=\"fnamecat \">\n<a target=\"_blank\" href=\"https://github.com/ETCBC/dss/blob/master/docs/transcription.md\" title=\"~/text-fabric-data/github/ETCBC/dss/tf/1.9/vac.tf\">vac</a>\n</div>\n<div class=\"fmono\">int</div>\n\n<span> empty, unwritten space</span>\n\n</div>\n\n<div class=\"frow\">\n    <div class=\"fnamecat \">\n<a target=\"_blank\" href=\"https://github.com/ETCBC/dss/blob/master/docs/transcription.md\" title=\"~/text-fabric-data/github/ETCBC/dss/tf/1.9/verse.tf\">verse</a>\n</div>\n<div class=\"fmono\">str</div>\n\n<span> label of the verse in which the word occurs</span>\n\n</div>\n\n<div class=\"frow\">\n    <div class=\"fnamecat \">\n<a target=\"_blank\" href=\"https://github.com/ETCBC/dss/blob/master/docs/transcription.md\" title=\"~/text-fabric-data/github/ETCBC/dss/tf/1.9/vs.tf\">vs</a>\n</div>\n<div class=\"fmono\">str</div>\n\n<span> verbal stem (morphology tag)</span>\n\n</div>\n\n<div class=\"frow\">\n    <div class=\"fnamecat \">\n<a target=\"_blank\" href=\"https://github.com/ETCBC/dss/blob/master/docs/transcription.md\" title=\"~/text-fabric-data/github/ETCBC/dss/tf/1.9/vs_etcbc.tf\">vs_etcbc</a>\n</div>\n<div class=\"fmono\">str</div>\n\n<span> Dead Sea Scrolls: additions based on BHSA and machine learning</span>\n\n</div>\n\n<div class=\"frow\">\n    <div class=\"fnamecat \">\n<a target=\"_blank\" href=\"https://github.com/ETCBC/dss/blob/master/docs/transcription.md\" title=\"~/text-fabric-data/github/ETCBC/dss/tf/1.9/vt.tf\">vt</a>\n</div>\n<div class=\"fmono\">str</div>\n\n<span> verbal tense/aspect (morphology tag)</span>\n\n</div>\n\n<div class=\"frow\">\n    <div class=\"fnamecat \">\n<a target=\"_blank\" href=\"https://github.com/ETCBC/dss/blob/master/docs/transcription.md\" title=\"~/text-fabric-data/github/ETCBC/dss/tf/1.9/vt_etcbc.tf\">vt_etcbc</a>\n</div>\n<div class=\"fmono\">str</div>\n\n<span> Dead Sea Scrolls: additions based on BHSA and machine learning</span>\n\n</div>\n\n<div class=\"frow\">\n    <div class=\"fnamecat edge\">\n<a target=\"_blank\" href=\"https://github.com/ETCBC/dss/blob/master/docs/transcription.md\" title=\"~/text-fabric-data/github/ETCBC/dss/tf/1.9/occ.tf\">occ</a>\n</div>\n<div class=\"fmono\">none</div>\n\n<span> edge feature from a lexeme to its occurrences</span>\n\n</div>\n\n<div class=\"frow\">\n    <div class=\"fnamecat edge\">\n<a target=\"_blank\" href=\"https://github.com/ETCBC/dss/blob/master/docs/transcription.md\" title=\"~/text-fabric-data/github/ETCBC/dss/tf/1.9/oslots.tf\">oslots</a>\n</div>\n<div class=\"fmono\">none</div>\n\n<span> Dead Sea Scrolls: biblical and non-biblical scrolls</span>\n\n</div>\n\n    </div>\n</details>\n\n            <b>Settings:</b><br><details ><summary><b>specified</b></summary><ol><li><b>apiVersion</b>: <code>3</code></li><li><b>appName</b>: <code>ETCBC/dss</code></li><li><b>appPath</b>: <code>/Users/yonatanlou/text-fabric-data/github/ETCBC/dss/app</code></li><li><b>commit</b>: <code>5e032551a4c9ccf86f21c20d66a4180f9f4cae7f</code></li><li><details><summary><b>css</b>:</summary><code>.full,.glyph,.punc {<br>    font-family: \"Ezra SIL\", \"SBL Hebrew\", sans-serif;<br>}<br>.scriptpaleohebrew {<br>    border: 1px dashed navy;<br>}<br>.scriptgreekcapital {<br>    border: 1px dashed brown;<br>}<br>.langa {<br>    text-decoration: underline;<br>}<br>.intl1 {<br>    vertical-align: -0.25em;<br>}<br>.intl2 {<br>    vertical-align: -0.5em;<br>}<br>.langg {<br>    font-family: serif;<br>    text-decoration: underline;<br>}<br>.vac1 {<br>    background-color: #aaaaaa;<br>    border 2pt solid #dd3333;<br>    border-radius: 4pt;<br>}<br>.rem1 {<br>    font-weight: bold;<br>    color: red;<br>    text-decoration: line-through;<br>}<br>.rem2 {<br>    font-weight: bold;<br>    color: maroon;<br>    text-decoration: line-through;<br>}<br>.rec1 {<br>    color: teal;<br>    font-size: 80%;<br>}<br>.cor1 {<br>    font-weight: bold;<br>    color: dodgerblue;<br>    text-decoration: overline;<br>}<br>.cor2 {<br>    font-weight: bold;<br>    color: navy;<br>    text-decoration: overline;<br>}<br>.cor3 {<br>    font-weight: bold;<br>    color: navy;<br>    text-decoration: overline;<br>    vertical-align: super;<br>}<br>.alt1 {<br>    text-decoration: overline;<br>}<br><br>/* UNSURE: italic*/<br><br>.unc1 {<br>    font-weight: bold;<br>    color: #888888;<br>}<br>.unc2 {<br>    font-weight: bold;<br>    color: #bbbbbb;<br>}<br>.unc3 {<br>    font-weight: bold;<br>    color: #bbbbbb;<br>    text-shadow: #cccccc 1px 1px;<br>}<br>.unc4 {<br>    font-weight: bold;<br>    color: #dddddd;<br>    text-shadow: #eeeeee 2px 2px;<br>}<br><br>.empty {<br>  color: #ff0000;<br>}<br><br></code></details></li><li><details><summary><b>dataDisplay</b>:</summary><ul><li><details><summary><b>noneValues</b>:</summary><ul><li><code>unknown</code></li><li><i>no value</i></li></ul></details></li><li><b>showVerseInTuple</b>: <code>True</code></li><li><details><summary><b>textFormats</b>:</summary><ul><li><b>layout-orig-full</b>: {<b>method</b>: <code>layoutOrig</code>}</li><li><b>layout-source-full</b>: {<b>method</b>: <code>layoutSource</code>}</li><li><b>layout-trans-full</b>: {<b>method</b>: <code>layoutTrans</code>}</li></ul></details></li></ul></details></li><li><details><summary><b>docs</b>:</summary><ul><li><b>docPage</b>: <code>about</code></li><li><b>featureBase</b>: <code>{docBase}/transcription.md</code></li><li><b>featurePage</b>: <code>transcription</code></li></ul></details></li><li><b>interfaceDefaults</b>: {<b>lineNumbers</b>: <code>0</code>}</li><li><b>isCompatible</b>: <code>True</code></li><li><b>local</b>: <code>local</code></li><li><b>localDir</b>: <code>/Users/yonatanlou/text-fabric-data/github/ETCBC/dss/_temp</code></li><li><details><summary><b>provenanceSpec</b>:</summary><ul><li><b>corpus</b>: <code>Dead Sea Scrolls</code></li><li><b>doi</b>: <code>10.5281/zenodo.2652849</code></li><li><details><summary><b>moduleSpecs</b>:</summary><li><details open>\n                <summary>:</summary>\n                <ul><li><b>backend</b>: <i>no value</i></li><li><b>corpus</b>: <code>Parallel Passages</code></li><li><details><summary><b>docUrl</b>:</summary><code>https://nbviewer.jupyter.org/github/etcbc/dss/blob/master/programs/parallels.ipynb</code></details></li><li><b>doi</b>: <code>10.5281/zenodo.2652849</code></li><li><b>org</b>: <code>ETCBC</code></li><li><b>relative</b>: <code>parallels/tf</code></li><li><b>repo</b>: <code>dss</code></li></ul>\n                </details></li></details></li><li><b>org</b>: <code>ETCBC</code></li><li><b>relative</b>: <code>/tf</code></li><li><b>repo</b>: <code>dss</code></li><li><b>version</b>: <code>1.9</code></li><li><b>webBase</b>: <code>https://www.deadseascrolls.org.il/explore-the-archive</code></li><li><b>webHint</b>: <code>Show this scroll in the Leon Levy library</code></li><li><b>webUrl</b>: <code>{webBase}/search#q='&lt;1&gt;'</code></li></ul></details></li><li><b>release</b>: <code>v1.9</code></li><li><details><summary><b>typeDisplay</b>:</summary><ul><li><b>clause</b>: {<b>label</b>: <code>{nr}</code>}</li><li><details><summary><b>cluster</b>:</summary><ul><li><b>label</b>: <code>{type}</code></li><li><b>stretch</b>: <code>0</code></li></ul></details></li><li><b>fragment</b>: {<b>features</b>: <code>biblical</code>}</li><li><details><summary><b>lex</b>:</summary><ul><li><b>features</b>: <code>lex lexe</code></li><li><b>featuresBare</b>: <code>lexo</code></li><li><b>label</b>: <code>True</code></li><li><b>lexOcc</b>: <code>word</code></li><li><b>template</b>: <code>True</code></li></ul></details></li><li><b>line</b>: {<b>features</b>: <code>biblical</code>}</li><li><b>phrase</b>: {<b>label</b>: <code>{nr}</code>}</li><li><b>scroll</b>: {<b>features</b>: <code>biblical</code>}</li><li><b>sign</b>: {<b>exclude</b>: {<b>type</b>: <code>term</code>}}</li><li><details><summary><b>word</b>:</summary><ul><li><b>base</b>: <code>True</code></li><li><b>features</b>: <code>lang lex cl ps gn nu st vs vt md</code></li><li><b>featuresBare</b>: <code>sp</code></li><li><b>label</b>: <code>True</code></li><li><b>lineNumber</b>: <code>srcLn</code></li><li><b>wrap</b>: <code>0</code></li></ul></details></li></ul></details></li><li><b>writing</b>: <code>hbo</code></li></ol></details>\n"
     },
     "metadata": {},
     "output_type": "display_data"
    },
    {
     "data": {
      "text/plain": "<IPython.core.display.HTML object>",
      "text/html": "<style>tr.tf.ltr, td.tf.ltr, th.tf.ltr { text-align: left ! important;}\ntr.tf.rtl, td.tf.rtl, th.tf.rtl { text-align: right ! important;}\n@font-face {\n  font-family: \"Gentium Plus\";\n  src: local('Gentium Plus'), local('GentiumPlus'),\n    url('/browser/static/fonts/GentiumPlus-R.woff') format('woff'),\n    url('https://github.com/annotation/text-fabric/blob/master/tf/browser/static/fonts/GentiumPlus-R.woff?raw=true') format('woff');\n}\n\n@font-face {\n  font-family: \"Ezra SIL\";\n  src: local('Ezra SIL'), local('EzraSIL'),\n    url('/browser/static/fonts/SILEOT.woff') format('woff'),\n    url('https://github.com/annotation/text-fabric/blob/master/tf/browser/static/fonts/SILEOT.woff?raw=true') format('woff');\n}\n\n@font-face {\n  font-family: \"SBL Hebrew\";\n  src: local('SBL Hebrew'), local('SBLHebrew'),\n    url('/browser/static/fonts/SBL_Hbrw.woff') format('woff'),\n    url('https://github.com/annotation/text-fabric/blob/master/tf/browser/static/fonts/SBL_Hbrw.woff?raw=true') format('woff');\n}\n\n@font-face {\n  font-family: \"Estrangelo Edessa\";\n  src: local('Estrangelo Edessa'), local('EstrangeloEdessa');\n    url('/browser/static/fonts/SyrCOMEdessa.woff') format('woff'),\n    url('https://github.com/annotation/text-fabric/blob/master/tf/browser/static/fonts/SyrCOMEdessa.woff?raw=true') format('woff');\n}\n\n@font-face {\n  font-family: AmiriQuran;\n  font-style: normal;\n  font-weight: 400;\n  src: local('Amiri Quran'), local('AmiriQuran'),\n    url('/browser/static/fonts/AmiriQuran.woff') format('woff'),\n    url('https://github.com/annotation/text-fabric/blob/master/tf/browser/static/fonts/AmiriQuran.woff?raw=true') format('woff');\n}\n\n@font-face {\n  font-family: AmiriQuranColored;\n  font-style: normal;\n  font-weight: 400;\n  src: local('Amiri Quran Colored'), local('AmiriQuranColored'),\n    url('/browser/static/fonts/AmiriQuranColored.woff') format('woff'),\n    url('https://github.com/annotation/text-fabric/blob/master/tf/browser/static/fonts/AmiriQuranColored.woff?raw=true') format('woff');\n}\n\n@font-face {\n  font-family: \"Santakku\";\n  src: local('Santakku'),\n    url('/browser/static/fonts/Santakku.woff') format('woff'),\n    url('https://github.com/annotation/text-fabric/blob/master/tf/browser/static/fonts/Santakku.woff?raw=true') format('woff');\n}\n\n@font-face {\n  font-family: \"SantakkuM\";\n  src: local('SantakkuM'),\n    url('/browser/static/fonts/SantakkuM.woff') format('woff'),\n    url('https://github.com/annotation/text-fabric/blob/master/tf/browser/static/fonts/SantakkuM.woff?raw=true') format('woff');\n}\n\n/* bypassing some classical notebook settings */\ndiv#notebook {\n  line-height: unset;\n}\n/* neutral text */\n.txtn,.txtn a:visited,.txtn a:link {\n    font-family: sans-serif;\n    font-size: medium;\n    direction: ltr;\n    unicode-bidi: embed;\n    text-decoration: none;\n    color: var(--text-color);\n}\n/* transcription text */\n.txtt,.txtt a:visited,.txtt a:link {\n    font-family: monospace;\n    font-size: medium;\n    direction: ltr;\n    unicode-bidi: embed;\n    text-decoration: none;\n    color: var(--text-color);\n}\n/* source text */\n.txto,.txto a:visited,.txto a:link {\n    font-family: serif;\n    font-size: medium;\n    direction: ltr;\n    unicode-bidi: embed;\n    text-decoration: none;\n    color: var(--text-color);\n}\n/* phonetic text */\n.txtp,.txtp a:visited,.txtp a:link {\n    font-family: Gentium, sans-serif;\n    font-size: medium;\n    direction: ltr;\n    unicode-bidi: embed;\n    text-decoration: none;\n    color: var(--text-color);\n}\n/* original script text */\n.txtu,.txtu a:visited,.txtu a:link {\n    font-family: Gentium, sans-serif;\n    font-size: medium;\n    text-decoration: none;\n    color: var(--text-color);\n}\n/* hebrew */\n.txtu.hbo,.lex.hbo {\n    font-family: \"Ezra SIL\", \"SBL Hebrew\", sans-serif;\n    font-size: large;\n    direction: rtl ! important;\n    unicode-bidi: embed;\n}\n/* syriac */\n.txtu.syc,.lex.syc {\n    font-family: \"Estrangelo Edessa\", sans-serif;\n    font-size: medium;\n    direction: rtl ! important;\n    unicode-bidi: embed;\n}\n/* neo aramaic */\n.txtu.cld,.lex.cld {\n    font-family: \"CharisSIL-R\", sans-serif;\n    font-size: medium;\n    direction: ltr ! important;\n    unicode-bidi: embed;\n}\n/* standard arabic */\n.txtu.ara,.lex.ara {\n    font-family: \"AmiriQuran\", sans-serif;\n    font-size: large;\n    direction: rtl ! important;\n    unicode-bidi: embed;\n}\n/* cuneiform */\n.txtu.akk,.lex.akk {\n    font-family: Santakku, sans-serif;\n    font-size: large;\n    direction: ltr ! important;\n    unicode-bidi: embed;\n}\n.txtu.uga,.lex.uga {\n    font-family: sans-serif;\n    /*font-family: Noto Sans Ugaritic, sans-serif;*/\n    font-size: large;\n    direction: ltr ! important;\n    unicode-bidi: embed;\n}\n/* greek */\n.txtu.grc,.lex.grc a:link {\n    font-family: Gentium, sans-serif;\n    font-size: medium;\n    direction: ltr ! important;\n    unicode-bidi: embed;\n}\na:hover {\n    text-decoration: underline | important;\n    color: #0000ff | important;\n}\n.ltr {\n    direction: ltr ! important;\n    unicode-bidi: embed;\n}\n.rtl {\n    direction: rtl ! important;\n    unicode-bidi: embed;\n}\n.ubd {\n    unicode-bidi: embed;\n}\n.col {\n   display: inline-block;\n}\n.features {\n    font-family: monospace;\n    font-size: medium;\n    font-weight: bold;\n    color: var(--features);\n    display: flex;\n    flex-flow: column nowrap;\n    justify-content: flex-start;\n    align-items: flex-start;\n    align-content: flex-start;\n    padding: 2px;\n    margin: 2px;\n    direction: ltr;\n    unicode-bidi: embed;\n    border: var(--meta-width) solid var(--meta-color);\n    border-radius: var(--meta-width);\n}\n.features div,.features span {\n    padding: 0;\n    margin: -2px 0;\n}\n.features .f {\n    font-family: sans-serif;\n    font-size: small;\n    font-weight: normal;\n    color: #5555bb;\n}\n.features .xft {\n  color: #000000;\n  background-color: #eeeeee;\n  font-size: medium;\n  margin: 2px 0px;\n}\n.features .xft .f {\n  color: #000000;\n  background-color: #eeeeee;\n  font-size: small;\n  font-weight: normal;\n}\n.tfsechead {\n    font-family: sans-serif;\n    font-size: small;\n    font-weight: bold;\n    color: var(--tfsechead);\n    unicode-bidi: embed;\n    text-align: start;\n}\n.structure {\n    font-family: sans-serif;\n    font-size: small;\n    font-weight: bold;\n    color: var(--structure);\n    unicode-bidi: embed;\n    text-align: start;\n}\n.comments {\n    display: flex;\n    justify-content: flex-start;\n    align-items: flex-start;\n    align-content: flex-start;\n    flex-flow: column nowrap;\n}\n.nd, a:link.nd {\n    font-family: sans-serif;\n    font-size: small;\n    color: var(--node);\n    vertical-align: super;\n    direction: ltr ! important;\n    unicode-bidi: embed;\n}\n.nde, a:link.nde {\n    font-family: sans-serif;\n    font-size: small;\n    color: var(--node);\n    direction: ltr ! important;\n    unicode-bidi: embed;\n}\n.etf {\n    font-size: normal;\n    border-radius: 0.2rem;\n    border: 1pt solid white;\n    padding: 0 0.2rem ! important;\n    margin: 0 0.2rem ! important;\n}\n.etfx {\n    font-size: x-large;\n}\n.lex {\n  color: var(--lex-color);;\n}\n#colormapplus, #colormapmin, .ecolormapmin {\n  font-weight: bold;\n  border-radius: 0.1rem;\n  background-color: #eeeeff;\n  padding: 0 1rem;\n  margin: 0 1rem;\n}\n.clr {\n  font-style: italic;\n  font-size: small;\n}\n.clmap,.eclmap {\n  padding: 0;\n}\n.children,.children.ltr {\n    display: flex;\n    border: 0;\n    background-color: #ffffff;\n    justify-content: flex-start;\n    align-items: flex-start;\n    align-content: flex-start;\n}\n.children.stretch {\n    align-items: stretch;\n}\n.children.hor {\n    flex-flow: row nowrap;\n}\n.children.hor.wrap {\n    flex-flow: row wrap;\n}\n.children.ver {\n    flex-flow: column nowrap;\n}\n.children.ver.wrap {\n    flex-flow: column wrap;\n}\n.contnr {\n    width: fit-content;\n    display: flex;\n    justify-content: flex-start;\n    align-items: flex-start;\n    align-content: flex-start;\n    flex-flow: column nowrap;\n    background: #ffffff none repeat scroll 0 0;\n    padding:  10px 2px 2px 2px;\n    margin: 16px 2px 2px 2px;\n    border-style: solid;\n    font-size: small;\n}\n.contnr.trm {\n    background-attachment: local;\n}\n.contnr.cnul {\n    padding:  0;\n    margin: 0;\n    border-style: solid;\n    font-size: xx-small;\n}\n.contnr.cnul,.lbl.cnul {\n    border-color: var(--border-color-nul);\n    border-width: var(--border-width-nul);\n    border-radius: var(--border-width-nul);\n}\n.contnr.c0,.lbl.c0 {\n    border-color: var(--border-color0);\n    border-width: var(--border-width0);\n    border-radius: var(--border-width0);\n}\n.contnr.c1,.lbl.c1 {\n    border-color: var(--border-color1);\n    border-width: var(--border-width1);\n    border-radius: var(--border-width1);\n}\n.contnr.c2,.lbl.c2 {\n    border-color: var(--border-color2);\n    border-width: var(--border-width2);\n    border-radius: var(--border-width2);\n}\n.contnr.c3,.lbl.c3 {\n    border-color: var(--border-color3);\n    border-width: var(--border-width3);\n    border-radius: var(--border-width3);\n}\n.contnr.c4,.lbl.c4 {\n    border-color: var(--border-color4);\n    border-width: var(--border-width4);\n    border-radius: var(--border-width4);\n}\nspan.plain {\n    /*display: inline-block;*/\n    display: inline-flex;\n    flex-flow: row wrap;\n    white-space: pre-wrap;\n}\nspan.break {\n  flex-basis: 100%;\n  height: 0;\n}\n.plain {\n    background-color: #ffffff;\n}\n.plain.l,.contnr.l,.contnr.l>.lbl {\n    border-left-style: dotted\n}\n.plain.r,.contnr.r,.contnr.r>.lbl {\n    border-right-style: dotted\n}\n.plain.lno,.contnr.lno,.contnr.lno>.lbl {\n    border-left-style: none\n}\n.plain.rno,.contnr.rno,.contnr.rno>.lbl {\n    border-right-style: none\n}\n.plain.l {\n    padding-left: 4px;\n    margin-left: 2px;\n    border-width: var(--border-width-plain);\n}\n.plain.r {\n    padding-right: 4px;\n    margin-right: 2px;\n    border-width: var(--border-width-plain);\n}\n.lbl {\n    font-family: monospace;\n    margin-top: -24px;\n    margin-left: 20px;\n    background: #ffffff none repeat scroll 0 0;\n    padding: 0 6px;\n    border-style: solid;\n    display: block;\n    color: var(--label)\n}\n.lbl.trm {\n    background-attachment: local;\n    margin-top: 2px;\n    margin-left: 2px;\n    padding: 2px 2px;\n    border-style: none;\n}\n.lbl.cnul {\n    font-size: xx-small;\n}\n.lbl.c0 {\n    font-size: small;\n}\n.lbl.c1 {\n    font-size: small;\n}\n.lbl.c2 {\n    font-size: medium;\n}\n.lbl.c3 {\n    font-size: medium;\n}\n.lbl.c4 {\n    font-size: large;\n}\n.occs, a:link.occs {\n    font-size: small;\n}\n\n/* PROVENANCE */\n\ndiv.prov {\n\tmargin: 40px;\n\tpadding: 20px;\n\tborder: 2px solid var(--fog-rim);\n}\ndiv.pline {\n\tdisplay: flex;\n\tflex-flow: row nowrap;\n\tjustify-content: stretch;\n\talign-items: baseline;\n}\ndiv.p2line {\n\tmargin-left: 2em;\n\tdisplay: flex;\n\tflex-flow: row nowrap;\n\tjustify-content: stretch;\n\talign-items: baseline;\n}\ndiv.psline {\n\tdisplay: flex;\n\tflex-flow: row nowrap;\n\tjustify-content: stretch;\n\talign-items: baseline;\n\tbackground-color: var(--gold-mist-back);\n}\ndiv.pname {\n\tflex: 0 0 5rem;\n\tfont-weight: bold;\n}\ndiv.pval {\n    flex: 1 1 auto;\n}\n\n/* KEYBOARD */\n.ccoff {\n  background-color: inherit;\n}\n.ccon {\n  background-color: yellow ! important;\n}\n.ccon,.ccoff {\n  padding: 0.2rem;\n  margin: 0.2rem;\n  border: 0.1rem solid var(--letter-box-border);\n  border-radius: 0.1rem;\n}\n.ccline {\n  font-size: xx-large ! important;\n  font-weight: bold;\n  line-height: 2em ! important;\n}\n/* TF header */\n\nsummary {\n  /* needed to override the normalize.less\n   * in the classical Jupyter Notebook\n   */\n  display: list-item ! important;\n}\n\n.fcorpus {\n  display: flex;\n  flex-flow: column nowrap;\n  justify-content: flex-start;\n  align-items: flex-start;\n  align-content: flex-start;\n  overflow: auto;\n}\n.frow {\n  display: flex;\n  flex-flow: row nowrap;\n  justify-content: flex-start;\n  align-items: flex-start;\n  align-content: flex-start;\n}\n.fmeta {\n  display: flex;\n  flex-flow: column nowrap;\n  justify-content: flex-start;\n  align-items: flex-start;\n  align-content: flex-start;\n}\n.fmetarow {\n  display: flex;\n  flex-flow: row nowrap;\n  justify-content: flex-start;\n  align-items: flex-start;\n  align-content: flex-start;\n}\n.fmetakey {\n  min-width: 8em;\n  font-family: monospace;\n}\n.fnamecat {\n  min-width: 8em;\n}\n.fnamecat.edge {\n  font-weight: bold;\n  font-style: italic;\n}\n.fmono {\n    font-family: monospace;\n}\n\n:root {\n\t--node:               hsla(120, 100%,  20%, 1.0  );\n\t--label:              hsla(  0, 100%,  20%, 1.0  );\n\t--tfsechead:          hsla(  0, 100%,  25%, 1.0  );\n\t--structure:          hsla(120, 100%,  25%, 1.0  );\n\t--features:           hsla(  0,   0%,  30%, 1.0  );\n  --text-color:         hsla( 60,  80%,  10%, 1.0  );\n  --lex-color:          hsla(220,  90%,  60%, 1.0  );\n  --meta-color:         hsla(  0,   0%,  90%, 0.7  );\n  --meta-width:         3px;\n  --border-color-nul:   hsla(  0,   0%,  90%, 0.5  );\n  --border-color0:      hsla(  0,   0%,  90%, 0.9  );\n  --border-color1:      hsla(  0,   0%,  80%, 0.9  );\n  --border-color2:      hsla(  0,   0%,  70%, 0.9  );\n  --border-color3:      hsla(  0,   0%,  80%, 0.8  );\n  --border-color4:      hsla(  0,   0%,  60%, 0.9  );\n\t--letter-box-border:  hsla(  0,   0%,  80%, 0.5  );\n  --border-width-nul:   2px;\n  --border-width0:      2px;\n  --border-width1:      3px;\n  --border-width2:      4px;\n  --border-width3:      6px;\n  --border-width4:      5px;\n  --border-width-plain: 2px;\n}\n.hl {\n  background-color: var(--hl-strong);\n}\nspan.hl {\n\tbackground-color: var(--hl-strong);\n\tborder-width: 0;\n\tborder-radius: 2px;\n\tborder-style: solid;\n}\ndiv.contnr.hl,div.lbl.hl {\n  background-color: var(--hl-strong);\n}\ndiv.contnr.hl {\n  border-color: var(--hl-rim) ! important;\n\tborder-width: 4px ! important;\n}\n\nspan.hlbx {\n\tborder-color: var(--hl-rim);\n\tborder-width: 4px ! important;\n\tborder-style: solid;\n\tborder-radius: 6px;\n  padding: 4px;\n  margin: 4px;\n}\n.ehl {\n  background-color: var(--ehl-strong);\n}\n\n:root {\n\t--hl-strong:        hsla( 60, 100%,  70%, 0.9  );\n\t--hl-rim:           hsla( 55,  80%,  50%, 1.0  );\n\t--ehl-strong:       hsla(240, 100%,  70%, 0.9  );\n}\n.full,.glyph,.punc {\n    font-family: \"Ezra SIL\", \"SBL Hebrew\", sans-serif;\n}\n.scriptpaleohebrew {\n    border: 1px dashed navy;\n}\n.scriptgreekcapital {\n    border: 1px dashed brown;\n}\n.langa {\n    text-decoration: underline;\n}\n.intl1 {\n    vertical-align: -0.25em;\n}\n.intl2 {\n    vertical-align: -0.5em;\n}\n.langg {\n    font-family: serif;\n    text-decoration: underline;\n}\n.vac1 {\n    background-color: #aaaaaa;\n    border 2pt solid #dd3333;\n    border-radius: 4pt;\n}\n.rem1 {\n    font-weight: bold;\n    color: red;\n    text-decoration: line-through;\n}\n.rem2 {\n    font-weight: bold;\n    color: maroon;\n    text-decoration: line-through;\n}\n.rec1 {\n    color: teal;\n    font-size: 80%;\n}\n.cor1 {\n    font-weight: bold;\n    color: dodgerblue;\n    text-decoration: overline;\n}\n.cor2 {\n    font-weight: bold;\n    color: navy;\n    text-decoration: overline;\n}\n.cor3 {\n    font-weight: bold;\n    color: navy;\n    text-decoration: overline;\n    vertical-align: super;\n}\n.alt1 {\n    text-decoration: overline;\n}\n\n/* UNSURE: italic*/\n\n.unc1 {\n    font-weight: bold;\n    color: #888888;\n}\n.unc2 {\n    font-weight: bold;\n    color: #bbbbbb;\n}\n.unc3 {\n    font-weight: bold;\n    color: #bbbbbb;\n    text-shadow: #cccccc 1px 1px;\n}\n.unc4 {\n    font-weight: bold;\n    color: #dddddd;\n    text-shadow: #eeeeee 2px 2px;\n}\n\n.empty {\n  color: #ff0000;\n}\n\n</style>"
     },
     "metadata": {},
     "output_type": "display_data"
    },
    {
     "data": {
      "text/plain": "<IPython.core.display.HTML object>",
      "text/html": "\n<script>\nglobalThis.copyChar = (el, c) => {\n    for (const el of document.getElementsByClassName('ccon')) {\n        el.className = 'ccoff'\n    }\n    el.className = 'ccon'\n    navigator.clipboard.writeText(String.fromCharCode(c))\n}\n</script>\n"
     },
     "metadata": {},
     "output_type": "display_data"
    },
    {
     "data": {
      "text/plain": "<IPython.core.display.HTML object>",
      "text/html": "<div><b>TF API:</b> names <a target=\"_blank\" href=\"https://annotation.github.io/text-fabric/tf/cheatsheet.html\" title=\"doc\">N F E L T S C TF Fs Fall Es Eall Cs Call</a> directly usable</div><hr>"
     },
     "metadata": {},
     "output_type": "display_data"
    }
   ],
   "source": [
    "from tf.app import use\n",
    "\n",
    "A = use(\"ETCBC/dss\", hoist=globals())"
   ],
   "metadata": {
    "collapsed": false,
    "ExecuteTime": {
     "end_time": "2024-05-18T18:21:06.702390Z",
     "start_time": "2024-05-18T18:20:54.683112Z"
    }
   },
   "execution_count": 78
  },
  {
   "cell_type": "code",
   "outputs": [
    {
     "name": "stderr",
     "output_type": "stream",
     "text": [
      "[nltk_data] Downloading package stopwords to\n",
      "[nltk_data]     /Users/yonatanlou/nltk_data...\n",
      "[nltk_data]   Package stopwords is already up-to-date!\n"
     ]
    }
   ],
   "source": [
    "def remove_chars(s):\n",
    "    chars_to_delete = \"#ε^><»≥≤/?Ø«|}{׳\"\n",
    "    for char in chars_to_delete:\n",
    "        s = s.replace(char, \"\")\n",
    "    s = s.replace(\"\\xa0\", \"\").replace(\"׃\", \".\")\n",
    "    return s\n",
    "\n",
    "\n",
    "def replace_for_ot_sofit(word):\n",
    "    OT_SOFIT = {\"מ\": \"ם\", \"נ\": \"ן\", \"פ\": \"ף\", \"צ\": \"ץ\", \"כ\": \"ך\"}\n",
    "    last_char = word[-1]\n",
    "    if len(word) == 1:\n",
    "        return word\n",
    "    if last_char in OT_SOFIT.keys():\n",
    "        word = word[:-1] + OT_SOFIT[last_char]\n",
    "    return word\n",
    "\n",
    "\n",
    "def remove_not_heb_chars(word):\n",
    "    new_word = []\n",
    "    removed_chars = set()\n",
    "    for char in word:\n",
    "        if char in ALLOWED_CHARS:\n",
    "            new_word.append(char)\n",
    "    return \"\".join(new_word)\n",
    "\n",
    "\n",
    "def remove_stop_words(row, stop_words):\n",
    "    word = row.strip()  # Remove trailing spaces\n",
    "    return word if word not in stop_words else None\n",
    "\n",
    "\n",
    "def get_spaces_per_word(row):\n",
    "    c = 0\n",
    "    word = row.split(\" \")\n",
    "    for w in word:\n",
    "        if w == \"\":\n",
    "            c += 1\n",
    "    return c\n",
    "\n",
    "\n",
    "def get_biblical_from_line(line):\n",
    "    \"\"\"\n",
    "    Returns the biblical section of a line.\n",
    "    \"\"\"\n",
    "    bib = F.biblical.v(line)\n",
    "    if bib == None:\n",
    "        return \"nonbib\"\n",
    "    elif bib == 1:\n",
    "        return \"bib\"\n",
    "    elif bib == 2:\n",
    "        return \"biblical_non_biblical\"\n",
    "\n",
    "\n",
    "nltk.download('stopwords')\n",
    "stop_words = set(stopwords.words('hebrew'))\n"
   ],
   "metadata": {
    "collapsed": false,
    "ExecuteTime": {
     "end_time": "2024-05-18T18:21:07.017029Z",
     "start_time": "2024-05-18T18:21:06.704780Z"
    }
   },
   "execution_count": 79
  },
  {
   "cell_type": "code",
   "outputs": [
    {
     "data": {
      "text/plain": "  0%|          | 0/100 [00:00<?, ?it/s]",
      "application/vnd.jupyter.widget-view+json": {
       "version_major": 2,
       "version_minor": 0,
       "model_id": "466a5346ab764f1b805718db740d91c0"
      }
     },
     "metadata": {},
     "output_type": "display_data"
    },
    {
     "name": "stdout",
     "output_type": "stream",
     "text": [
      "וְ עַתָּה שׁמע כֹּל ידע צֶדֶק וְ בין בְּ מַעֲשֶׂה אֵל_5 None כִּי_2 רִיב לְ עִם כֹּל בָּשָׂר וְ מִשְׁפָּט עשׂה_1 בְּ כֹּל נאץ None כִּי_2 בְּ מֹועַל אֲשֶׁר עזב_1 סתר פָּנֶה מִן יִשְׂרָאֵל וְ מִן מִקְדָּשׁ וְ נתן לְ חֶרֶב None וְ בְּ זכר בְּרִית רִאשֹׁון שׁאר שְׁאֵרִית לְ יִשְׂרָאֵל וְ לֹא נתן לְ כָּלָה None וְ בְּ קֵץ חָרֹון שָׁנָה שָׁלֹשׁ מֵאָה_1 וְ תִּשְׁעִים לְ נתן אֵת_1 בְּ יָד נְבוּכַדְנֶאצַּר מֶלֶךְ_1 בָּבֶל פקד None וְ צמח מִן יִשְׂרָאֵל וְ מִן אַהֲרֹן שֹׁרֶשׁ מַטַּעַת לְ ירשׁ אֵת_1 אֶרֶץ וְ לְ דשׁן בְּ טוּב אֲדָמָה_1 None וְ בין בְּ עָוֹן "
     ]
    }
   ],
   "source": [
    "for w in tqdm(F.otype.s(\"word\")[:100]):\n",
    "    # print(T.text(w, fmt=\"text-orig-extra\"))\n",
    "    # for word in L.d(w):\n",
    "    #     translated = (F.lex.v(w))\n",
    "    #     if translated:\n",
    "    print((F.lex.v(w)), end=\" \")"
   ],
   "metadata": {
    "collapsed": false,
    "ExecuteTime": {
     "end_time": "2024-05-18T18:57:41.766007Z",
     "start_time": "2024-05-18T18:57:41.575727Z"
    }
   },
   "execution_count": 101
  },
  {
   "cell_type": "code",
   "outputs": [
    {
     "data": {
      "text/plain": "  0%|          | 0/10 [00:00<?, ?it/s]",
      "application/vnd.jupyter.widget-view+json": {
       "version_major": 2,
       "version_minor": 0,
       "model_id": "1daeb1a8519f4c1199a76c2b2990b39f"
      }
     },
     "metadata": {},
     "output_type": "display_data"
    },
    {
     "name": "stdout",
     "output_type": "stream",
     "text": [
      "ועתה שמעו כל יודעי צדק ובינו במעשי \n",
      "אל ׃ כי ריב ל׳ו עם כל בשר ומשפט יעשה בכל מנאצי׳ו ׃ \n",
      "כי במועל׳ם אשר עזבו׳הו הסתיר פני׳ו מישראל וממקדש׳ו \n",
      "ו?יתנ׳ם לחרב ׃ ובזכר׳ו ברית ראשנים השאיר שאירית \n",
      "לישראל ולא נתנ׳ם לכלה ׃ ובקץ חרון שנים שלוש מאות \n",
      "ותשעים לתית׳ו אות׳ם ביד נבוכדנאצר מלך בבל \n",
      "פקד׳ם ׃ ויצמח מישראל ומאהרן שורש מטעת לירוש \n",
      "את ארצ׳ו ולדשן בטוב אדמת׳ו ׃ ויבינו בעונ׳ם וידעו כי \n",
      "אנשים אשימים הם ׃ ויהיו כעורים וכימגששים דרך \n",
      "שנים עשרים ׃ ויבן אל אל מעשי׳הם כי בלב שלם דרשו׳הו \n"
     ]
    }
   ],
   "source": [
    "for w in tqdm(F.otype.s(\"line\")[:10]):\n",
    "    print(T.text(w, fmt=\"text-orig-extra\"))\n",
    "    # for word in L.d(w):\n",
    "    #     translated = (F.lex.v(w))\n",
    "    #     if translated:\n",
    "    #         print((F.lex.v(w)), end=\" \")\n",
    "    #     L.u(w)"
   ],
   "metadata": {
    "collapsed": false,
    "ExecuteTime": {
     "end_time": "2024-05-18T18:38:15.471282Z",
     "start_time": "2024-05-18T18:38:15.438481Z"
    }
   },
   "execution_count": 100
  },
  {
   "cell_type": "code",
   "outputs": [
    {
     "name": "stdout",
     "output_type": "stream",
     "text": [
      "CD:  וְ עַתָּה שׁמע כֹּל ידע צֶדֶק וְ בין בְּ מַעֲשֶׂה אֵל None כִּי רִיב לְ עִם כֹּל בָּשָׂר וְ מִשְׁפָּט עשׂה בְּ כֹּל נאץ None כִּי בְּ מֹועַל אֲשֶׁר עזב סתר פָּנֶה מִן יִשְׂרָאֵל וְ מִן מִקְדָּשׁ וְ נתן לְ חֶרֶב None וְ בְּ זכר בְּרִית רִאשֹׁון שׁאר שְׁאֵרִית לְ יִשְׂרָאֵל וְ לֹא נתן לְ כָּלָה None וְ בְּ קֵץ חָרֹון שָׁנָה שָׁלֹשׁ מֵאָה וְ תִּשְׁעִים לְ נתן אֵת בְּ יָד נְבוּכַדְנֶאצַּר מֶלֶךְ בָּבֶל פקד None וְ צמח מִן יִשְׂרָאֵל וְ מִן אַהֲרֹן שֹׁרֶשׁ מַטַּעַת לְ ירשׁ אֵת אֶרֶץ וְ לְ דשׁן בְּ טוּב אֲדָמָה None וְ בין בְּ עָוֹן וְ ידע כִּי אִישׁ אָשֵׁם הֵם None וְ היה כְּ עִוֵּר וְ כְּ גשׁשׁ דֶּרֶךְ שָׁנָה עֶשְׂרִים None וְ בין אֵל אֶל מַעֲשֶׂה כִּי בְּ לֵב שָׁלֵם דרשׁ וְ קום לְ מֹורֶה צֶדֶק לְ דרך בְּ דֶּרֶךְ לֵב None וְ ידע לְ דֹּור אַחֲרֹון אֵת אֲשֶׁר עשׂה בְּ דֹּור אַחֲרֹון בְּ עֵדָה בגד הֵם סור דֶּרֶךְ None הִיא הַ עֵת אֲשֶׁר היה כתב עַל כְּ פָּרָה סרר כֵּן סרר יִשְׂרָאֵל None בְּ עמד אִישׁ הַ לָצֹון אֲשֶׁר נטף לְ יִשְׂרָאֵל מַיִם כָּזָב וְ תעה בְּ תֹּהוּ לֹא דֶּרֶךְ לְ שׁחח גַּבְהוּת עֹולָם וְ לְ סור מִן נְתִיבָה צֶדֶק וְ לְ נסע גְּבוּל אֲשֶׁר גבל רִאשֹׁון בְּ נַחֲלָה לְמַעַן דבק בְּ אֵת אָלָה בְּרִית לְ סגר לְ חֶרֶב נקם נָקָם בְּרִית None בְּ עֲבוּר אֲשֶׁר דרשׁ בְּ חָלָק וְ בחר בְּ מַהֲתַלָּה וְ צפה לְ פֶּרֶץ וְ בחר בְּ טוּב הַ צַוָּאר וְ צדק רָשָׁע וְ רשׁע צַדִּיק None וְ עבר בְּרִית וְ פרר חֹק וְ גדד עַל נֶפֶשׁ צַדִּיק וְ בְּ כֹּל הלך תָּמִים תעב נֶפֶשׁ וְ רדף לְ חֶרֶב וְ שׂושׂ לְ רִיב עַם None וְ חרה אַף אֵל בְּ עֵדָה לְ שׁמם אֵת כֹּל הָמֹון וְ מַעֲשֶׂה לְ נִדָּה לְ פָּנֶה None וְ עַתָּה שׁמע אֶל כֹּל בוא בְּרִית וְ גלה אֹזֶן בְּ דֶּרֶךְ רָשָׁע None אֵל אהב דַּעַת חָכְמָה וְ תּוּשִׁיָּה נצב לְ פָּנֶה עָרְמָה וְ דַּעַת הֵם שׁרת None אָרֹךְ אַף עִם וְ רֹב סְלִיחָה לְ כפר בַּעַד שׁוב פֶּשַׁע None וְ כֹּחַ וְ גְּבוּרָה וְ חֵמָה גָּדֹול בְּ לַהַב אֵשׁ בְּ יָד כֹּל מַלְאָךְ חֶבֶל עַל סרר דֶּרֶךְ וְ תעב חֹק לְ אַיִן שְׁאֵרִית וְ פְּלֵיטָה לְ None כִּי לֹא בחר אֵל בְּ מִן קֶדֶם עֹולָם וְ בְּ טֶרֶם יסד ידע אֵת מַעֲשֶׂה None וְ תעב אֵת דֹּור מִן דָּם וְ סתר אֵת פָּנֶה מִן הַ אֶרֶץ מִן עַד תמם None וְ ידע אֵת שָׁנָה מַעֲמָד וְ מִסְפָּר וְ פֵּרוּשׁ קֵץ לְ כֹּל הוה עֹולָם וְ היה עַד מָה בוא בְּ קֵץ לְ כֹּל שָׁנָה עֹולָם None וְ בְּ כֹּל קום לְ קָרִיא שֵׁם לְמַעַן יתר פְּלֵיטָה לְ אֶרֶץ וְ לְ מלא פָּנֶה תֵּבֵל מִן זֶרַע None וְ ידע בְּ יָד מָשִׁיחַ רוּחַ קֹדֶשׁ וְ חֹזֶה אֱמֶת וְ בְּ פֵּרוּשׁ שֵׁם שֵׁם וְ אֵת אֲשֶׁר שׂנא תעה None וְ עַתָּה בֵּן שׁמע לְ וְ גלה עַיִן לְ ראה וְ לְ בין בְּ מַעֲשֶׂה אֵל וְ לְ בחר אֵת אֲשֶׁר רצה וְ לְ מאס כְּ אֲשֶׁר שׂנא None לְ הלך תָּמִים בְּ כֹּל דֶּרֶךְ וְ לֹא לְ תור בְּ מַחֲשָׁבָה יֵצֶר אַשְׁמָה וְ עַיִן זְנוּת כִּי רַב תעה בְּ וְ גִּבֹּור חַיִל כשׁל בְּ מִן לְ פָּנֶה וְ עַד הֵנָּה None בְּ הלך בְּ שְׁרִרוּת לֵב נפל עֵד עִיר הַ שָׁמַיִם בְּ אחז אֲשֶׁר לֹא שׁמר מִצְוָה אֵל None וְ בֵּן אֲשֶׁר כְּ רוּם אֶרֶז גֹּבַהּ וְ כְּ הַר גְּוִיָּה כִּי נפל None כֹּל בָּשָׂר אֲשֶׁר היה בְּ חָרָבָה כִּי גוע וְ היה כְּ לֹא היה בְּ עשׂה אֵת רָצֹון וְ לֹא שׁמר אֵת מִצְוָה עשׂה עַד אֲשֶׁר חרה אַף בְּ None בְּ תעה בֵּן נֹחַ וְ מִשְׁפָּחָה בְּ הֵם כרת None אַבְרָהָם לֹא הלך בְּ וְ עלה אהב בְּ שׁמר מִצְוָה אֵל וְ לֹא בחר בְּ רָצֹון רוּחַ None וְ מסר לְ יִשְׂחָק וְ לְ יַעֲקֹב וְ שׁמר וְ כתב אהב לְ אֵל וְ בַּעַל בְּרִית לְ עֹולָם None בֵּן יַעֲקֹב תעה בְּ וְ ענשׁ לְ פָּנֶה מִשְׁגָּה None וְ בֵּן בְּ מִצְרַיִם הלך בְּ שְׁרִרוּת לֵב לְ יעץ עַל מִצְוָה אֵל וְ לְ עשׂה אִישׁ הַ יָשָׁר בְּ עַיִן וְ אכל אֵת הַ דָּם None וְ כרת זְכוּר בְּ מִדְבָּר לְ בְּ קָדֵשׁ עלה וְ ירשׁ אֵת רוּחַ וְ לֹא שׁמע לְ קֹול עשׂה מִצְוָה ירה וְ רגן בְּ אֹהֶל וְ חרה אַף אֵל בְּ עֵדָה None וְ בֵּן בְּ אבד וְ מֶלֶךְ בְּ כרת וְ גִּבֹּור בְּ אבד וְ אֶרֶץ בְּ שׁמם None בְּ חוב בוא הַ בְּרִית הַ רִאשֹׁון וְ סגר לְ חֶרֶב בְּ עזב אֵת בְּרִית אֵל וְ בחר בְּ רָצֹון וְ תור אַחֲרֵי שְׁרִרוּת לֵב לְ עשׂה אִישׁ אֵת רָצֹון None וְ בְּ חזק בְּ מִצְוָה אֵל אֲשֶׁר יתר מִן קום אֵל אֵת בְּרִית לְ יִשְׂרָאֵל עַד עֹולָם לְ גלה לְ סתר אֲשֶׁר תעה בְּ כֹּל יִשְׂרָאֵל שַׁבָּת קֹדֶשׁ וְ מֹועֵד כָּבֹוד עֵדוּת צֶדֶק וְ דֶּרֶךְ אֱמֶת וְ חֵפֶץ רָצֹון אֲשֶׁר עשׂה הַ אָדָם וְ חיה בְּ פתח לְ פָּנֶה None וְ חפר בְּאֵר לְ מַיִם רַב וְ מאס לֹא חיה None וְ הֵם גלל בְּ פֶּשַׁע אֱנֹושׁ וְ בְּ דֶּרֶךְ נִדָּה וְ אמר כִּי לְ הִיא None וְ אֵל בְּ רָז פֶּלֶא כפר בַּעַד עָוֹן וְ נשׂא לְ פֶּשַׁע וְ בנה לְ בַּיִת אמן בְּ יִשְׂרָאֵל אֲשֶׁר לֹא עמד כְּמֹו לְ מִן לְ פָּנֶה וְ עַד הֵנָּה None הַ חזק בְּ לְ חַיִּים נֵצַח וְ כֹּל כָּבֹוד אָדָם לְ הוּא כְּ אֲשֶׁר קום אֵל לְ בְּ יָד יְחֶזְקֵאל הַ נָבִיא לְ אמר הַ כֹּהֵן וְ הַ לֵוִי וְ בֵּן צָדֹוק אֲשֶׁר שׁמר אֵת מִשְׁמֶרֶת מִקְדָּשׁ בְּ תעה בֵּן יִשְׂרָאֵל מִן עַל הֵם נגשׁ לְ חֵלֶב וְ דָּם None הַ כֹּהֵן הֵם שׁוב יִשְׂרָאֵל הַ יצא מִן אֶרֶץ יְהוּדָה וְ הַ לוה עִם None וְ בֵּן צָדֹוק הֵם בָּחִיר יִשְׂרָאֵל קָרִיא הַ שֵׁם הַ עמד בְּ אַחֲרִית הַ יֹום None הִנֵּה פֵּרוּשׁ שֵׁם לְ תֹּולֵדֹות וְ קֵץ מַעֲמָד וְ מִסְפָּר צָרָה וְ שָׁנָה גור וְ פֵּרוּשׁ מַעֲשֶׂה None הַ קֹדֶשׁ שׁנה אֲשֶׁר כפר אֵל בַּעַד וְ צדק צַדִּיק וְ רשׁע רָשָׁע None וְ כֹּל הַ בוא אַחֲרֵי לְ עשׂה כְּ פֵּרוּשׁ הַ תֹּורָה אֲשֶׁר יסר בְּ הַ רִאשֹׁון עַד שׁלם הַ קֵץ הַ שָׁנָה הַ אֵלֶּה None כְּ בְּרִית אֲשֶׁר קום אֵל לְ רִאשֹׁון לְ כפר עַל עָוֹן כֵּן כפר אֵל בַּעַד None וְ בְּ שׁלם הַ קֵץ לְ מִסְפָּר הַ שָׁנָה הַ אֵלֶּה אַיִן עֹוד לְ ספח לְ בַּיִת יְהוּדָה כִּי אִם לְ עמד אִישׁ עַל מָצֹוד None בנה הַ גָּדֵר רחק הַ חֹק וְ בְּ כֹּל הַ שָׁנָה הַ אֵלֶּה היה בְּלִיַּעַל שׁלח בְּ יִשְׂרָאֵל כְּ אֲשֶׁר דבר אֵל בְּ יָד יְשַׁעְיָהוּ הַ נָבִיא בֵּן אָמֹוץ לְ אמר פַּחַד וְ פַּחַת וְ פַּח עַל ישׁב הַ אֶרֶץ None פֵּשֶׁר שָׁלֹשׁ מְצוּדָה בְּלִיַּעַל אֲשֶׁר אמר עַל לֵוִי בֵּן יַעֲקֹב אֲשֶׁר הוּא תפשׂ בְּ בְּ יִשְׂרָאֵל וְ נתן פָּנֶה לְ שָׁלֹשׁ מִין הַ צֶדֶק None הַ רִאשֹׁון הִיא הַ זְנוּת הַ שֵׁנִי הַ הֹון הַ שְׁלִישִׁי טָמֵא הַ מִקְדָּשׁ None הַ עלה מִן זֶה תפשׂ בְּ זֶה וְ הַ נצל מִן זֶה תפשׂ בְּ זֶה None בנה הַ חַיִץ אֲשֶׁר הלך אַחֲרֵי צַו הַ צַו הוּא נטף אֲשֶׁר אמר נטף נטף None הֵם תפשׂ בְּ שְׁנַיִם בְּ זְנוּת לְ לקח שְׁנַיִם אִשָּׁה בְּ חַיִּים None וְ יְסֹוד הַ בְּרִיאָה זָכָר וְ נְקֵבָה ברא אֵת None וְ בוא הַ תֵּבָה שְׁנַיִם שְׁנַיִם בוא אֶל הַ תֵּבָה None וְ עַל הַ נָשִׂיא כתב לֹא רבה לְ אִשָּׁה None וְ דָּוִד לֹא קרא בְּ סֵפֶר הַ תֹּורָה הַ חתם אֲשֶׁר היה בְּ אֲרֹון כִּי לֹא פ פתח בְּ יִשְׂרָאֵל מִן יֹום מָוֶת אֶלְעָזָר וְ יְהֹושֻׁעַ וְ יְהֹושֻׁעַ וְ הַ זָקֵן אֲשֶׁר עבד אֵת הַ עַשְׁתֹּרֶת None וְ טמן גלה עַד עמד צָדֹוק None וְ עלה מַעֲשֶׂה דָּוִד מִן לְ בַּד דָּם אוּרִיָּה וְ עזב לְ אֵל None וְ גַּם טמא הֵם אֵת הַ מִקְדָּשׁ אֲשֶׁר אַיִן הֵם בדל כְּ תֹּורָה וְ שׁכב עִם הַ ראה אֵת דָּם זוב None וְ לקח אִישׁ אֵת בַּת אָח וְ אֵת בַּת אָחֹות None וְ מֹשֶׁה אמר אֶל אָחֹות אֵם לֹא קרב שְׁאֵר אֵם הִיא None וְ מִשְׁפָּט הַ עֶרְיָה לְ זָכָר הוּא כתב וְ כְּ הַ אִשָּׁה None וְ אִם גלה בַּת הַ אָח אֵת עֶרְוָה אָח אָב וְ הִיא שְׁאֵר None וְ גַּם אֵת רוּחַ קֹדֶשׁ טמא וְ בְּ לָשֹׁון גִּדּוּף פתח פֶּה עַל חֹק בְּרִית אֵל לְ אמר לֹא כון וְ תֹּועֵבָה הֵם דבר בְּ None כֹּל קדח אֵשׁ וְ בער זִיקָה קוּר עַכָּבִישׁ קוּר וְ בֵּיצָה צִפְעֹנִי בֵּיצָה None הַ קָרֹוב אֶל לֹא נקה None כְּ הַר בַּיִת כְּ רבה אשׁם כִּי אִם לחץ None כִּי אִם לְ מִן לְ פָּנֶה פקד אֵל אֵת מַעֲשֶׂה וְ חרה אַף בְּ עֲלִילָה כִּי לֹא עַם בִּינָה הוּא None הֵם גֹּוי אבד עֵצָה מִן אֲשֶׁר אַיִן בְּ בִּינָה None כִּי מִן לְ פָּנֶה עמד מֹשֶׁה וְ אַהֲרֹן בְּ יָד שַׂר הַ אֹור וְ קום בְּלִיַּעַל אֵת יחנה וְ אֵת אָח בְּ מְזִמָּה בְּ ישׁע יִשְׂרָאֵל אֵת הַ רִאשֹׁון None וְ בְּ קֵץ חָרְבָּן הַ אֶרֶץ עמד סוג הַ גְּבוּל וְ תעה אֵת יִשְׂרָאֵל None וְ ישׁם הַ אֶרֶץ כִּי דבר סָרָה עַל מִצְוָה אֵל בְּ יָד מֹשֶׁה וְ גַּם בְּ מָשִׁיחַ הַ קֹדֶשׁ וְ נבא שֶׁקֶר לְ שׁוב אֵת יִשְׂרָאֵל מִן אַחַר אֵל None וְ זכר אֵל בְּרִית רִאשֹׁון וְ קום מִן אַהֲרֹן בין וְ מִן יִשְׂרָאֵל חָכָם None וְ שׁמע וְ חפר אֵת הַ בְּאֵר בְּאֵר חפר שַׂר כרה נָדִיב הַ עַם בְּ חקק None הַ בְּאֵר הִיא הַ תֹּורָה וְ חפר הֵם שׁוב יִשְׂרָאֵל הַ יצא מִן אֶרֶץ יְהוּדָה וְ גור בְּ אֶרֶץ דַּמֶּשֶׂק אֲשֶׁר קרא אֵל אֵת כֹּל שַׂר כִּי דרשׁ וְ לֹא שׁוב פֹּארָה בְּ פֶּה אֶחָד None וְ הַ חקק הוּא דרשׁ הַ תֹּורָה אֲשֶׁר אמר יְשַׁעְיָהוּ יצא כְּלִי לְ מַעֲשֶׂה None וְ נָדִיב הַ עַם הֵם הַ בוא לְ כרה אֵת הַ בְּאֵר בְּ חקק אֲשֶׁר חקק הַ חקק לְ הלך בְּ בְּ כֹּל קֵץ הַ רשׁיע וְ זוּלָה לֹא נשׂג עַד עמד ירה הַ צֶדֶק בְּ אַחֲרִית הַ יֹום None וְ כֹּל אֲשֶׁר בוא בְּ בְּרִית לְ בִּלְתִּי בוא אֶל הַ מִקְדָּשׁ לְ אור מִזְבֵּחַ חִנָּם None וְ היה סגר הַ דֶּלֶת אֲשֶׁר אמר אֵל מִי בְּ סגר דֶּלֶת וְ לֹא אור מִזְבֵּחַ חִנָּם None אִם לֹא שׁמר לְ עשׂה כְּ פֵּרוּשׁ הַ תֹּורָה לְ קֵץ הַ רֶשַׁע וְ לְ בדל מִן בֵּן הַ שַׁחַת וְ לְ נזר מִן הֹון הַ רִשְׁעָה הַ טָמֵא בְּ נֵדֶר וְ בְּ חֵרֶם וְ בְּ הֹון הַ מִקְדָּשׁ None וְ לְ גזל אֵת עָנִי עַם לְ היה אַלְמָנָה שָׁלָל וְ אֵת יָתֹום רצח וְ לְ בדל בַּיִן הַ טָמֵא לְ טָהֹור וְ לְ ידע בַּיִן הַ קֹדֶשׁ לְ חֹל וְ לְ שׁמר אֵת יֹום הַ שַׁבָּת כְּ פֵּרוּשׁ וְ אֵת הַ מֹועֵד וְ אֵת יֹום הַ תַּעֲנִית כְּ מִצְוָה בוא הַ בְּרִית הַ חָדָשׁ בְּ אֶרֶץ דַּמֶּשֶׂק לְ רום אֵת הַ קֹדֶשׁ כְּ פֵּרוּשׁ None לְ אהב אִישׁ אֵת אָח כְּמֹו וְ לְ חזק בְּ יָד עָנִי וְ אֶבְיֹון וְ גֵּר וְ לְ דרשׁ אִישׁ אֵת שָׁלֹום אָח וְ לֹא מעל אִישׁ בְּ שְׁאֵר בָּשָׂר None לְ נזר מִן הַ זנה כְּ מִשְׁפָּט לְ יכח אִישׁ אֵת אָח כְּ מִצְוָה וְ לֹא לְ נטר מִן יֹום לְ יֹום וְ לְ בדל מִן כֹּל הַ טֻמְאָה כְּ מִשְׁפָּט None וְ לֹא שׁקץ אִישׁ אֵת רוּחַ קֹדֶשׁ כְּ אֲשֶׁר בדל אֵל לְ None כֹּל הַ הלך בְּ אֵלֶּה בְּ תָּמִים קֹדֶשׁ עַל פֶּה כֹּל יִסֹּור בְּרִית אֵל נֶאֱמָנוּת לְ לְ חיה אֶלֶף דֹּור None וְ אִם מַחֲנֶה ישׁב כְּ סֶרֶךְ הַ אֶרֶץ וְ לקח אִשָּׁה וְ ילד בֵּן וְ הלך עַל פֶּה הַ תֹּורָה וְ כְּ מִשְׁפָּט הַ יִסֹּור כְּ סֶרֶךְ הַ תֹּורָה כְּ אֲשֶׁר אמר בַּיִן אִישׁ לְ אִשָּׁה וְ בַּיִן אָב לְ בֵּן None וְ כֹּל הַ מאס בְּ פקד אֵל אֵת הַ אֶרֶץ לְ שׁוב גְּמוּל רָשָׁע עַל בְּ בוא הַ דָּבָר אֲשֶׁר כתב בְּ דָּבָר יְשַׁעְיָהוּ בֵּן אָמֹוץ הַ נָבִיא אֲשֶׁר אמר בוא עַל וְ עַל עַם וְ עַל בַּיִת אָב יֹום אֲשֶׁר לֹא בוא מִן יֹום סור אֶפְרַיִם מִן עַל יְהוּדָה None בְּ פרד שְׁנַיִם בַּיִת יִשְׂרָאֵל סור אֶפְרַיִם מִן עַל יְהוּדָה None וְ כֹּל הַ סוג סגר לְ חֶרֶב וְ הַ חזק מלט לְ אֶרֶץ צָפֹון None כְּ אֲשֶׁר אמר וְ גלה אֵת סִכּוּת מֶלֶךְ וְ אֵת כִּיּוּן צֶלֶם מִן אֹהֶל דַּמֶּשֶׂק None סֵפֶר הַ תֹּורָה הֵם סֻכָּה הַ מֶלֶךְ כְּ אֲשֶׁר אמר וְ קום אֵת סֻכָּה דָּוִד הַ נפל None הַ מֶלֶךְ הוּא נָשִׂיא הַ קָהָל None וְ כֵּן הַ צֶלֶם וְ כִּיּוּן הַ צֶלֶם הֵם סֵפֶר הַ נָבִיא אֲשֶׁר בזה יִשְׂרָאֵל אֵת דָּבָר None וְ הַ כֹּוכָב הוּא דרשׁ הַ תֹּורָה הַ בוא דַּמֶּשֶׂק כְּ אֲשֶׁר כתב דרך כֹּוכָב מִן יַעֲקֹב וְ קום שֵׁבֶט מִן יִשְׂרָאֵל None הַ שֵׁבֶט הוּא נָשִׂיא כֹּל הַ עֵדָה וְ בְּ עמד וְ קרר אֵת כֹּל בֵּן שֵׁת None אֵלֶּה מלט בְּ קֵץ הַ פְּקֻדָּה הַ רִאשֹׁון וְ הַ סוג סגר לְ חֶרֶב None וְ כֵּן מִשְׁפָּט כֹּל בוא בְּרִית אֲשֶׁר לֹא חזק בְּ אֵלֶּה לְ פקד לְ כָּלָה בְּ יָד בְּלִיַּעַל הוּא הַ יֹום אֲשֶׁר פקד אֵל None היה שַׂר יְהוּדָה אֲשֶׁר שׁפך עַל הַ עֶבְרָה כִּי חלה לְ מַרְפֵּא וְ דבק מוּם וְ דבק מוּם כֹּל ירד מִן אֲשֶׁר לֹא סור מִן דֶּרֶךְ בגד וְ גלל בְּ דֶּרֶךְ זנה וְ בְּ הֹון רִשְׁעָה וְ נקם וְ נטר אִישׁ לְ אָח וְ שׂנא אִישׁ אֵת רֵעַ None וְ עלם אִישׁ בְּ שְׁאֵר בָּשָׂר וְ נגשׁ לְ זִמָּה וְ גבר לְ הֹון וְ לְ בֶּצַע וְ עשׂה אִישׁ הַ יָשָׁר בְּ עַיִן None וְ בחר אִישׁ בְּ שְׁרִרוּת לֵב וְ לֹא נזר מִן עַם None וְ פרע בְּ יָד רום לְ הלך בְּ דֶּרֶךְ רָשָׁע אֲשֶׁר אמר אֵל עַל חֵמָה תַּנִּין יַיִן וְ רֹאשׁ פֶּתֶן אַכְזָר None הַ תַּנִּין הֵם מֶלֶךְ הַ עַם וְ יַיִן הוּא דֶּרֶךְ וְ רֹאשׁ הַ פֶּתֶן הוּא רֹאשׁ מֶלֶךְ יָוָן הַ בוא לְ עשׂה בְּ נְקָמָה None וְ בְּ כֹּל אֵלֶּה לֹא בין בנה הַ חַיִץ וְ טוח הַ תָּפֵל כִּי שׁקל רוּחַ וְ נטף כָּזָב נטף לְ אֲשֶׁר חרה אַף אֵל בְּ כֹּל עֵדָה None וְ אֲשֶׁר אמר מֹשֶׁה לֹא בְּ צְדָקָה וְ בְּ יֹשֶׁר לֵבָב אַתָּה בוא לְ ירשׁ אֵת הַ גֹּוי הַ אֵלֶּה כִּי מִן אַהֲבָה אֵת אָב וְ מִן שׁמר אֵת הַ שְׁבוּעָה None וְ כֵּן הַ מִשְׁפָּט לְ שׁוב יִשְׂרָאֵל סור מִן דֶּרֶךְ הַ עַם בְּ אַהֲבָה אֵל אֵת הַ רִאשֹׁון אֲשֶׁר עור אַחֲרֵי אהב אֵת הַ בוא אַחֲרֵי כִּי לְ בְּרִית הַ אָב None וְ בְּ שׂנא וְ בְּ שׂנא אֵת בנה הַ חַיִץ חרה אַף וְ כְּ מִשְׁפָּט הַ זֶה לְ כֹּל הַ מאס בְּ מִצְוָה אֵל וְ עזב וְ פנה בְּ שְׁרִרוּת לֵב None הוּא הַ דָּבָר אֲשֶׁר אמר יִרְמְיָהוּ לְ בָּרוּךְ בֵּן נֵרִיָּה וְ אֱלִישָׁע לְ גֵּיחֲזִי נַעַר None כֹּל הַ אִישׁ אֲשֶׁר בוא בְּ בְּרִית הַ חָדָשׁ בְּ אֶרֶץ דַּמֶּשֶׂק None כֹּל אָדָם אֲשֶׁר חרם אָדָם מִן אָדָם בְּ חֹק הַ גֹּוי לְ מות הוּא None וְ אֲשֶׁר אמר לֹא נקם וְ לֹא נטר אֵת בֵּן עַם וְ כֹּל אִישׁ בוא מִן בוא הַ בְּרִית אֲשֶׁר בוא עַל רֵעַ דָּבָר אֲשֶׁר לֹא בְּ יכח לְ פָּנֶה עֵד וְ בוא בְּ חָרֹון אַף אֹו ספר לְ זָקֵן לְ בזה נקם הוּא וְ נטר None וְ אַיִן כתב כִּי אִם נקם הוּא לְ צַר וְ נטר הוּא לְ אֹיֵב None אִם חרשׁ לְ מִן יֹום לְ יֹום וְ בְּ חָרֹון אַף בְּ דבר בְּ בְּ דָּבָר מָוֶת ענה בְּ יַעַן אֲשֶׁר לֹא קום אֵת מִצְוָה אֵל אֲשֶׁר אמר לְ יכח יכח אֵת רֵעַ וְ לֹא נשׂא עַל חֵטְא None עַל הַ שְׁבוּעָה אֲשֶׁר אמר לֹא ישׁע יָד לְ None אִישׁ אֲשֶׁר שׁבע עַל פָּנֶה הַ שָׂדֶה אֲשֶׁר לֹא לְ פָּנֶה לְ פָּנֶה הַ שׁפט אֹו מִן אמר ישׁע יָד לְ None וְ כֹּל הַ אבד וְ לֹא ידע מִי גנב מִן מְאֹד הַ מַחֲנֶה אֲשֶׁר גנב בְּ שׁבע בַּעַל בְּ שְׁבוּעָה הַ אָלָה None וְ הַ שׁמע אִם ידע הוּא וְ לֹא נגד וְ אשׁם None כֹּל אָשָׁם שׁוב אֲשֶׁר אַיִן בַּעַל וְ הַ תֹּורָה וְ ידה הַ שׁוב לְ כֹּהֵן וְ היה לְ לְ בַּד מִן אַיִל הַ אָשָׁם None וְ כֹּל וְ כֵּן כֹּל אֲבֵדָה מצא וְ אַיִן לְ בַּעַל וְ היה לְ כֹּהֵן כִּי לֹא ידע מצא אֵת מִשְׁפָּט None אִם לֹא מצא לְ בַּעַל הֵם שׁמר None כֹּל דָּבָר אֲשֶׁר מעל אִישׁ בְּ תֹּורָה וְ ראה רֵעַ וְ הוּא אֶחָד אִם דָּבָר מָוֶת הוּא וְ ידע לְ עַיִן בְּ יכח לְ מְבַקֵּר וְ הַ מְבַקֵּר כתב בְּ יָד עַד עשׂה עֹוד לְ פָּנֶה אֶחָד וְ שׁוב וְ ידע לְ מְבַקֵּר None אִם שׁוב וְ תפשׂ לְ פָּנֶה אֶחָד שָׁלֵם מִשְׁפָּט None וְ אִם שְׁנַיִם הֵם וְ הֵם עוד עַל דָּבָר אַחֵר אֶחָד וְ בדל הַ אִישׁ מִן הַ טָהֳרָה לְ בַּד אִם אמן הֵם וְ בְּ יֹום ראה הַ אִישׁ ידע לְ מְבַקֵּר None וְ עַל הַ הֹון קבל שְׁנַיִם עֵד אמן וְ עַל אֶחָד לְ בדל הַ טָהֳרָה None וְ אַל קבל עֵד לְ שׁפט לְ מות עַל פֶּה אֲשֶׁר לֹא מלא יֹום לְ עבר עַל הַ פקד יָרֵא אֵת אֵל None אַל אמן אִישׁ עַל רֵעַ לְ עֵד עבר דָּבָר מִן הַ מִצְוָה בְּ יָד רום עַד זכך לְ שׁוב None וְ זֶה סֶרֶךְ לְ שׁפט הַ עֵדָה None עַד עֲשָׂרָה אִישׁ ברר מִן הַ עֵדָה לְ פֶּה הַ עֵת אַרְבַּע לְ מַטֶּה לֵוִי וְ אַהֲרֹן וְ מִן יִשְׂרָאֵל שֵׁשׁ בין בְּ סֵפֶר הַ הָגוּי וְ בְּ יְסֹוד הַ בְּרִית מִן בֵּן חָמֵשׁ וְ עֶשְׂרִים שָׁנָה עַד בֵּן שִׁשִּׁים שָׁנָה None וְ אַל יצב עֹוד מִן בֵּן שִׁשִּׁים שָׁנָה וְ מַעַל לְ שׁפט אֵת הַ עֵדָה כִּי בְּ מַעַל הַ אָדָם מעט יֹום וְ בְּ חָרֹון אַף אֵל בְּ ישׁב הַ אֶרֶץ אמר לְ סור אֵת דַּעַת עַד לֹא שׁלם אֵת יֹום None עַל הַ טֹהַר בְּ מַיִם None אַל רחץ אִישׁ בְּ מַיִם צֹאִי וְ מעט מִן דַּי רעל אִישׁ None אַל טהר בְּ כְּלִי וְ כֹּל גֶּבֶא בְּ סֶלַע אֲשֶׁר אַיִן בְּ דַּי רעל אֲשֶׁר נגע בְּ הַ טָמֵא וְ טמא מַיִם בְּ מַיִם הַ כְּלִי None עַל הַ שַׁבָּת לְ שׁמר כְּ מִשְׁפָּט None אַל עשׂה אִישׁ בְּ יֹום מְלָאכָה הַ שִׁשִּׁי מְלָאכָה מִן הַ עֵת אֲשֶׁר היה גַּלְגַּל הַ שֶׁמֶשׁ רָחֹוק מִן הַ שַׁעַר מְלֹא None כִּי הוּא אֲשֶׁר אמר שׁמר אֵת יֹום הַ שַׁבָּת לְ קדשׁ None וְ בְּ יֹום הַ שַׁבָּת אַל דבר אִישׁ דָּבָר נָבָל וְ רֵיק None אַל נשׁא בְּ רֵעַ כֹּל None אַל שׁפט עַל הֹון וְ בֶּצַע None אַל דבר בְּ דָּבָר הַ מְלָאכָה וְ הַ עֲבֹדָה לְ עשׂה לְ מַשְׁכִּים None אַל הלך אִישׁ בְּ שָׂדֶה לְ עשׂה אֵת עֲבֹדָה חֵפֶץ הַ שַׁבָּת None אַל הלך חוּץ לְ עִיר None עַל אֶלֶף בְּ אַמָּה None אַל אכל אִישׁ בְּ יֹום הַ שַׁבָּת כִּי אִם הַ כון None וְ מִן הַ אבד בְּ שָׂדֶה וְ אַל אכל וְ אַל שׁתה כִּי אִם היה בְּ מַחֲנֶה None בְּ דֶּרֶךְ וְ ירד לְ רחץ שׁתה עַל עֹמֶד וְ אַל שׁאב אֶל כֹּל כְּלִי None אַל שׁלח אֵת בֵּן הַ נֵכָר לְ עשׂה אֵת חֵפֶץ בְּ יֹום הַ שַׁבָּת None אַל לקח אִישׁ עַל בֶּגֶד צֹאִי אֹו בוא בְּ גֵּז כִּי אִם כבס בְּ מַיִם אֹו שׁוּף בְּ לְבֹנָה None אַל ערב אִישׁ מִן רָצֹון בְּ שַׁבָּת None אַל הלך אִישׁ אַחַר הַ בְּהֵמָה לְ רעה חוּץ מִן עִיר כִּי אִם אֶלֶף בְּ אַמָּה None אַל רום אֵת יָד לְ נכה בְּ אֶגְרֹוף אִם סרר הִיא אַל יצא מִן בַּיִת None אַל יצא אִישׁ מִן הַ בַּיִת לְ חוּץ וְ מִן הַ חוּץ אֶל בַּיִת None וְ אִם בְּ סֻכָּה היה אַל יצא מִן וְ אַל בוא אֶל None אַל פתח כְּלִי טוח בְּ שַׁבָּת None אַל נשׂא אִישׁ עַל סַמָּן לְ יצא וְ לְ בוא וְ לְ בוא בְּ שַׁבָּת None אַל נטל בְּ בַּיִת מֹושָׁבָה סֶלַע וְ עָפָר None אַל נשׂא הַ אמן אֵת הַ ינק לְ יצא וְ לְ בוא בְּ שַׁבָּת None אַל מרא אִישׁ אֵת עֶבֶד וְ אֵת אָמָה וְ אֵת שׂכר בְּ שַׁבָּת אַל אַל ילד אִישׁ בְּהֵמָה בְּ יֹום הַ שַׁבָּת None וְ אִם נפל נפל אֶל בֹּור וְ אֶל פַּחַת אַל קום בְּ שַׁבָּת None אַל שׁבת שׁבת אִישׁ בְּ מָקֹום קָרֹוב לְ גֹּוי בְּ שַׁבָּת None אַל חלל אִישׁ אֵת הַ שַׁבָּת עַל הֹון וְ בֶּצַע בְּ שַׁבָּת None וְ כֹּל נֶפֶשׁ אָדָם אֲשֶׁר נפל אֶל מַיִם מָקֹום מַיִם וְ אֶל מָקֹום אַל עלה אִישׁ בְּ סֻלָּם וְ חֶבֶל וְ כְּלִי None אַל עלה אִישׁ לְ מִזְבֵּחַ בְּ שַׁבָּת כִּי אִם עֹלָה הַ שַׁבָּת כִּי כֵּן כתב מִן לְ בַּד שַׁבָּת None אַל שׁלח אִישׁ לְ מִזְבֵּחַ עֹלָה וְ מִנְחָה וְ לְבֹנָה וְ עֵץ בְּ יָד אִישׁ טָמֵא בְּ אֶחָד מִן הַ טֻמְאָה לְ רשׁה לְ טמא אֵת הַ מִזְבֵּחַ None כִּי כתב זֶבַח רָשָׁע תֹּועֵבָה וְ תְּפִלָּה צַדִּיק כְּ מִנְחָה רָצֹון None וְ כֹּל הַ בוא אֶל בַּיִת הִשְׁתַּחֲווּת אַל בוא טָמֵא כבס None וְ בְּ רוע חֲצֹצְרָה הַ קָהָל קדם אֹו אחר וְ לֹא שׁבת אֵת הַ עֲבֹדָה כֹּל None הַ שַׁבָּת קֹדֶשׁ הוּא None אַל שׁכב אִישׁ עִם אִשָּׁה בְּ עִיר הַ מִקְדָּשׁ לְ טמא אֵת עִיר הַ מִקְדָּשׁ בְּ נִדָּה None כֹּל אִישׁ אֲשֶׁר משׁל בְּ רוּחַ בְּלִיַּעַל וְ דבר סָרָה כְּ מִשְׁפָּט הַ אֹוב וְ הַ יִדְּעֹנִי שׁפט None וְ כֹּל אֲשֶׁר תעה לְ חלל אֵת הַ שַׁבָּת וְ אֵת הַ מֹועֵד לֹא מות כִּי עַל בֵּן הַ אָדָם מִשְׁמָר None וְ אִם רפא מִן וְ שׁמר עַד שֶׁבַע שָׁנָה וְ אַחַר בוא אֶל הַ קָהָל None אַל שׁלח אֵת יָד לְ שׁפך דָּם לְ אִישׁ מִן הַ גֹּוי בְּ עֲבוּר הֹון וְ בֶּצַע None וְ גַּם אַל נשׂא מִן הֹון כֹּל בְּ עֲבוּר אֲשֶׁר לֹא גדף כִּי אִם בְּ עֵצָה חבור יִשְׂרָאֵל None אַל מכר אִישׁ בְּהֵמָה וְ עֹוף טָהֹור לְ גֹּוי בְּ עֲבוּר אֲשֶׁר לֹא זבח None וְ מִן גֹּרֶן וְ מִן גַּת אַל מכר לְ בְּ כֹּל מְאֹד None וְ אֵת עֶבֶד וְ אֵת אָמָה אַל מכר לְ אֲשֶׁר בוא עִם בְּ בְּרִית אַבְרָהָם None אַל שׁקץ אִישׁ אֵת נֶפֶשׁ בְּ כֹּל הַ חַיָּה וְ הַ רֶמֶשׂ לְ אכל מִן מִן עֵגֶל הַ דְּבֹורָה עַד כֹּל נֶפֶשׁ הַ חַיָּה אֲשֶׁר רמשׂ בְּ מַיִם None וְ הַ דָּג אַל אכל כִּי אִם קרע חַי וְ שׁפך דָּם None וְ כֹּל הַ חָגָב בְּ מִין בוא בְּ אֵשׁ אֹו בְּ מַיִם עַד הֵם חַי כִּי הוּא מִשְׁפָּט בְּרִיאָה None וְ כֹּל הַ עֵץ וְ הַ אֶבֶן וְ הַ עָפָר אֲשֶׁר גאל בְּ טֻמְאָה הַ אָדָם לְ גֹּאַל שֶׁמֶן בְּ כְּ פֶּה טֻמְאָה טמא הַ נגע בְּ None וְ כֹּל כְּלִי מַסְמֵר מַסְמֵר אֹו יָתֵד בְּ כֹּתֶל אֲשֶׁר היה עִם הַ מות בְּ בַּיִת וְ טמא בְּ טֻמְאָה אֶחָד כְּלִי מַעֲשֶׂה None סֶרֶךְ מֹושָׁב עִיר יִשְׂרָאֵל None עַל הַ מִשְׁפָּט הַ אֵלֶּה לְ בדל בַּיִן הַ טָמֵא לְ טָהֹור וְ לְ ידע בַּיִן הַ קֹדֶשׁ לְ חֹל None וְ אֵלֶּה הַ חֹק לְ מַשְׂכִּיל לְ הלך בְּ עִם כֹּל חַי לְ מִשְׁפָּט עֵת וְ עֵת None וְ כְּ מִשְׁפָּט הַ זֶה הלך זֶרַע יִשְׂרָאֵל וְ לֹא ארר None וְ זֶה סֶרֶךְ מֹושָׁב הַ מַחֲנֶה הַ הלך בְּ אֵלֶּה בְּ קֵץ הַ רִשְׁעָה עַד עמד משׁח מָשִׁיחַ אַהֲרֹן וְ יִשְׂרָאֵל עַד עֲשָׂרָה אִישׁ לְ מוּעָט לְ אֶלֶף וְ מֵאָה וְ חֲמִשִּׁים וְ עֲשָׂרָה None וְ בְּ מָקֹום עֲשָׂרָה אַל מושׁ אִישׁ כֹּהֵן בין בְּ סֵפֶר הַ הָגוּי None עַל פֶּה נשׁק כֹּל None וְ אִם אַיִן הוּא בחן בְּ כֹּל אֵלֶּה וְ אִישׁ מִן הַ לֵוִי בחן בְּ אֵלֶּה וְ יצא הַ גֹּורָל לְ יצא וְ לְ בוא עַל פֶּה כֹּל בוא הַ מַחֲנֶה None וְ אִם מִשְׁפָּט לְ תֹּורָה נֶגַע היה בְּ אִישׁ וְ בוא הַ כֹּהֵן וְ עמד בְּ מַחֲנֶה וְ בין הַ מְבַקֵּר בְּ פֵּרוּשׁ הַ תֹּורָה None וְ אִם פֶּתִי הוּא הוּא סגר כִּי לְ הַ מִשְׁפָּט None וְ זֶה סֶרֶךְ הַ מְבַקֵּר לְ מַחֲנֶה שׂכל אֵת הַ רַב בְּ מַעֲשֶׂה אֵל וְ בין בְּ גְּבוּרָה פֶּלֶא וְ ספר לְ פָּנֶה היה עֹולָם בְּ פתר None וְ רחם עַל כְּ אָב לְ בֵּן וְ שׁקה לְ כֹּל מַדְהֹוב כְּ רעה עֵדֶר None נתר כֹּל חַרְצֻבָּה קֶשֶׁר לְ בִּלְתִּי היה עשׁק וְ רצץ בְּ עֵדָה None וְ כֹּל הַ יסף לְ עֵדָה פקד לְ מַעֲשֶׂה וְ שֶׂכֶל וְ כֹּחַ וְ גְּבוּרָה וְ הֹון None וְ כתב בְּ מָקֹום כְּ פֶּה נַחֲלָה בְּ גֹּורָל הַ אֹור None אַל משׁל אִישׁ מִן בֵּן הַ מַחֲנֶה לְ בוא אִישׁ אֶל הַ עֵדָה זוּלָה פֶּה הַ מְבַקֵּר אֲשֶׁר לְ מַחֲנֶה None וְ אִישׁ מִן כֹּל בוא בְּרִית אֵל אַל נשׂא וְ אַל נתן לְ בֵּן הַ שַׁחַר כִּי אִם כַּף לְ כַּף None וְ אַל עשׂה אִישׁ דָּבָר לְ מִקָּח וְ לְ מִמְכָּר כִּי אִם ידע לְ מְבַקֵּר אֲשֶׁר בְּ מַחֲנֶה וְ עשׂה בְּ עֵצָה וְ לֹא שׁגג None וְ כֵּן לְ כֹּל לקח אִשָּׁה וְ הַ None None עֵצָה None וְ כֵּן לְ גרשׁ וְ הוּא יסר אֵת בֵּן וְ בַּת וְ טַף בְּ רוּחַ עֲנָוָה וְ בְּ אַהֲבָה חֶסֶד None אַל נטר לְ בְּ אַף None None פֶּשַׁע וְ אֵת אֲשֶׁר אַיִן קשׁר בְּ שׁ None None None וְ זֶה מֹושָׁב הַ מַחֲנֶה לְ כֹּל קֵץ הַ רִשְׁעָה None וְ אֲשֶׁר לֹא חזק בְּ אֵלֶּה לֹא צלח לְ ישׁב בְּ אֶרֶץ בְּ None None None וְ אֵלֶּה הַ שׁ לְ מַשְׂכִּיל לְ הלך בְּ עִם כֹּל חַי לְ מִשְׁפָּט עֵת וְ עֵת כְּ אֲשֶׁר אמר בוא עַל וְ עַל עַם וְ עַל בַּיִת אָב יֹום אֲשֶׁר לֹא בוא מִן יֹום סור אֶפְרַיִם מִן עַל יְהוּדָה None וְ כֹּל הַ הלך בְּ אֵלֶּה בְּרִית אֵל נֶאֱמָנוּת לְ לְ נצל מִן כֹּל מֹוקֵשׁ שַׁחַת כִּי פִּתְאֹם פֶּתִי וְ ענשׁ None וְ סֶרֶךְ מֹושָׁב כֹּל הַ מַחֲנֶה None פקד כֹּל בְּ שֵׁם הַ כֹּהֵן לְ רִאשֹׁון וְ הַ לֵוִי שֵׁנִי וְ בֵּן יִשְׂרָאֵל שָׁלֹשׁ וְ הַ גֵּר רביע None וְ כתב בְּ שֵׁם אִישׁ אַחַר אָח הַ כֹּהֵן לְ רִאשֹׁון וְ הַ לֵוִי שֵׁנִי וְ בֵּן יִשְׂרָאֵל שָׁלֹשׁ וְ הַ גֵּר רביע None וְ כֵּן ישׁב וְ כֵּן שׁאל לְ כֹּל None וְ הַ כֹּהֵן אֲשֶׁר פקד אֵשׁ בְּ רֹאשׁ הַ רַב מִן בֵּן שְׁלֹשִׁים שָׁנָה וְ עַד בֵּן שִׁשִּׁים בין בְּ סֵפֶר הַ הָגוּי וְ בְּ כֹּל מִשְׁפָּט הַ תֹּורָה לְ דבר כְּ מִשְׁפָּט None וְ הַ מְבַקֵּר אֲשֶׁר לְ כֹּל הַ מַחֲנֶה מִן בֵּן שְׁלֹשִׁים שָׁנָה וְ עַד בֵּן חֲמִשִּׁים שָׁנָה בעל בְּ כֹּל סֹוד אִישׁ וְ לְ כֹּל לָשֹׁון רמ פר None עַל פֶּה בוא בוא הַ עֵדָה אִישׁ בְּ תֹּור None וְ לְ כֹּל דָּבָר אֲשֶׁר היה לְ כֹּל הַ אָדָם לְ דבר לְ מְבַקֵּר דבר לְ כֹּל רִיב וְ מִשְׁפָּט None וְ זֶה סֶרֶךְ הַ רַב לְ כון כֹּל חֵפֶץ None שָׂכָר שְׁנַיִם יֹום לְ כֹּל חֹדֶשׁ לְ מעט וְ נתן עַל יָד הַ מְבַקֵּר None וְ הַ שׁפט מִן נתן בַּעַד פצע וְ מִן חזק בְּ יָד עָנִי וְ אֶבְיֹון וְ לְ זָקֵן אֲשֶׁר כרע וְ לְ אִישׁ אֲשֶׁר נגע וְ לְ אֲשֶׁר שׁבה לְ גֹּוי נֵכָר וְ לְ בְּתוּלָה אֲשֶׁר אַיִן לְ גאל וְ לְ נַעַר אֲשֶׁר אַיִן לְ דרשׁ None כֹּל עֲבֹדָה הַ חֶבֶר וְ לֹא כרת בַּיִת הַ חֶבֶר מִן יָד None וְ זֶה פֵּרוּשׁ מֹושָׁב הַ מַחֲנֶה וְ אֵלֶּה יְסֹוד אֹושׁ הַ קָהָל None וְ זֶה פֵּרוּשׁ הַ מִשְׁפָּט אֲשֶׁר שׁפט בְּ בְּ קֵץ הַ רִשְׁעָה עַד עמד מָשִׁיחַ אַהֲרֹן וְ יִשְׂרָאֵל וְ כפר עָוֹן מִנְחָה וְ חֲטָאָה None None None None וְ אֲשֶׁר שׁקר בְּ מָמֹון וְ הוּא ידע וְ בדל None None None וְ ענשׁ יֹום שֵׁשׁ None וְ אֲשֶׁר דבר None וְ אֲשֶׁר נטר לְ רֵעַ אֲשֶׁר לֹא בְּ מִשְׁפָּט וְ ענשׁ ח None None None None None ל None None None None שׁבע וְ גַּם בְּ אלף וְ למד וְ גַּם בְּ אלף וְ דלת כִּי אִם שְׁבוּעָה הַ בֵּן בְּ אָלָה הַ בְּרִית None וְ אֵת תֹּורָה מֹשֶׁה אַל זכר כִּי בְּ כֹּל פֵּרוּשׁ הַ שֵׁם None וְ אִם שׁבע וְ עבר וְ חלל אֵת הַ שֵׁם None וְ אִם בְּ אָלָה הַ בְּרִית שׁבע לְ פָּנֶה הַ שׁפט None אִם עבר אָשֵׁם הוּא וְ ידה וְ שׁוב וְ לֹא נשׂא חֲטָאָה וְ מות None וְ הַ בוא בְּ בְּרִית לְ כֹּל יִשְׂרָאֵל לְ חֹק עֹולָם אֵת בֵּן אֲשֶׁר נגע לְ עבר עַל הַ פקד בְּ שְׁבוּעָה הַ בְּרִית קום עַל None וְ כֵּן הַ מִשְׁפָּט בְּ כֹּל קֵץ הַ רֶשַׁע לְ כֹּל הַ שׁוב מִן דֶּרֶךְ הַ שׁחת None בְּ יֹום דבר עִם הַ מְבַקֵּר אֲשֶׁר לְ רַב פקד בְּ שְׁבוּעָה הַ בְּרִית אֲשֶׁר כרת מֹשֶׁה עִם יִשְׂרָאֵל אֵת דָּבָר לְ שׁוב אֶל תֹּורָה מֹשֶׁה בְּ כֹּל לֵב וְ בְּ כֹּל נֶפֶשׁ אֶל הַ מצא לְ עשׂה בְּ כֹּל קֵץ קרב None וְ אַל ידע אִישׁ אֵת הַ מִשְׁפָּט עַד עמד לְ פָּנֶה הַ מְבַקֵּר שַׁ מָה פתה בְּ בְּ דרשׁ אֵת None וְ כְּ אֲשֶׁר קום אֵת עַל לְ שׁוב אֶל תֹּורָה מֹשֶׁה בְּ כֹּל לֵב וְ בְּ כֹּל נֶפֶשׁ נָקִי הֵם מִן אִם מעל None וְ כֹּל אֲשֶׁר גלה מִן הַ תֹּורָה לְ רֹב הַ מַחֲנֶה וְ הוּא שׁגה בְּ ידע הַ מְבַקֵּר אֵת וְ צוה עַל וְ למד עַד שָׁנָה תָּמִים וְ לְ פֶּה דֵּעָה היה None אֱוִיל וְ שׁגע וְ כֹּל פֶּתִי וְ שׁגה וְ כֵּהֶה עַיִן לְ בִּלְתִּי ראה וְ חִגֵּר אֹו פִּסֵּחַ אֹו חֵרֵשׁ וְ נַעַר זַעֲטוּט אַל בוא אִישׁ מִן אֵלֶּה אֶל תָּוֶךְ הַ עֵדָה כִּי מַלְאָךְ הַ קֹדֶשׁ בְּ תָּוֶךְ None None ל בְּ None אמר לְ None None עִם בְּרִית וְ עִם כֹּל יִשְׂרָאֵל None עַל כֵּן קום קום הַ אִישׁ עַל נֶפֶשׁ לְ שׁוב אֶל תֹּורָה מֹשֶׁה כִּי בְּ הַ כֹּל דקדק None וְ פֵּרוּשׁ קֵץ לְ עִוָּרֹון יִשְׂרָאֵל מִן כֹּל אֵלֶּה הִנֵּה הוּא דקדק עַל סֵפֶר מַחֲלֹקֶת הַ עֵת לְ יֹובֵל וְ בְּ שָׁבוּעַ None וְ בְּ יֹום אֲשֶׁר קום קום הַ אִישׁ עַל נֶפֶשׁ לְ שׁוב אֶל תֹּורָה מֹשֶׁה סור מַלְאָךְ הַ מַשְׂטֵמָה מִן אַחֲרֵי אִם קום אֵת דָּבָר None עַל כֵּן מול בְּ אַבְרָהָם בְּ יֹום ידע None וְ אֲשֶׁר אמר מֹוצָא שָׂפָה שׁמר לְ קום None כֹּל שְׁבוּעָה אִסָּר אֲשֶׁר קום קום אִישׁ עַל נֶפֶשׁ לְ עשׂה דָּבָר מִן הַ תֹּורָה עַד מְחִיר מָוֶת אַל פדה None כֹּל אֲשֶׁר קום אִישׁ עַל נֶפֶשׁ לְ סור מִן הַ תֹּורָה עַד מְחִיר מָוֶת אַל קום None עַל שְׁבוּעָה הַ אִשָּׁה אֲשֶׁר אמר לְ אִישׁ לְ נוא אֵת שְׁבוּעָה None אַל נוא אִישׁ שְׁבוּעָה אֲשֶׁר לֹא ידע אִם לְ קום הִיא וְ אִם לְ נוא None אִם לְ עבר בְּרִית הוּא נוא וְ אַל קום None וְ כֵּן הַ מִשְׁפָּט לְ אָב None עַל מִשְׁפָּט הַ נְדָבָה אַל נדר אִישׁ לְ מִזְבֵּחַ מאום אנס None וְ גַּם הַ כֹּהֵן אַל לקח מִן אֵת יִשְׂרָאֵל אנס None אַל קדשׁ אִישׁ אֵת מַאֲכָל פֶּה לְ אֵל כִּי הוּא אֲשֶׁר אמר אִישׁ אֵת רֵעַ צוד חֵרֶם None וְ אַל קדשׁ אִישׁ מִן כֹּל None None None None וְ אִם מִן שָׂדֶה אֲחֻזָּה קדשׁ לְ אֵל None גַּם הַ מִשְׁפָּט הַ זֶה None וְ ענשׁ הַ נדר אֵת None כֶּסֶף עֵרֶךְ None לְ שׁפט לְ שׁפט צֶדֶק וְ לְ ערך None אַחַר הַ ידה None None אִם אנס הוּא וְ שׁלם הַ אנס אִם לֹא דבר אֱמֶת עִם רֵעַ None None נֶאֱמָנוּת לְ לְ חיה לְ אֶלֶף דֹּור כְּ כתב שׁמר הַ בְּרִית וְ הַ חֶסֶד לְ אהב וְ לְ שׁמר מִצְוָה לְ אֶלֶף דֹּור None וְ אִם מַחֲנֶה ישׁב כְּ סֶרֶךְ הַ אֶרֶץ אֲשֶׁר היה מִן קֶדֶם וְ לקח אִשָּׁה כְּ מִנְהָג הַ תֹּורָה וְ ילד בֵּן וְ הלך עַל פֶּה הַ תֹּורָה None וְ כְּ מִשְׁפָּט הַ יְסֹוד כְּ סֶרֶךְ הַ תֹּורָה כְּ אֲשֶׁר אמר בַּיִן אִישׁ לְ אִשָּׁה וְ בַּיִן אָב לְ בֵּן None וְ כֹּל הַ מאס בְּ מִצְוָה וְ בְּ חֹק לְ שׁוב גְּמוּל רָשָׁע עַל בְּ פקד אֵל אֵת הַ אֶרֶץ None בְּ בוא הַ דָּבָר אֲשֶׁר כתב בְּ יָד זְכַרְיָה הַ נָבִיא חֶרֶב עור עַל רעה וְ עַל גֶּבֶר עָמִית נְאֻם אֵל None נכה אֵת הַ רעה וְ פוץ הַ צֹאן וְ שׁוב יָד עַל הַ צער None וְ הַ שׁמר אֵת הֵם עָנִי הַ צֹאן None אֵלֶּה מלט בְּ קֵץ הַ פְּקֻדָּה וְ הַ שׁאר מסר לְ חֶרֶב בְּ בוא מָשִׁיחַ אַהֲרֹן וְ יִשְׂרָאֵל None כְּ אֲשֶׁר היה בְּ קֵץ פְּקֻדָּה הַ רִאשֹׁון אֲשֶׁר אמר יְחֶזְקֵאל בְּ יָד יְחֶזְקֵאל וְ תוה לְ תוה הַ תָּו עַל מֵצַח אנח וְ אנק None וְ הַ שׁאר סגר לְ חֶרֶב נקם נָקָם בְּרִית None וְ כֵּן מִשְׁפָּט לְ כֹּל בוא בְּרִית אֲשֶׁר לֹא חזק בְּ אֵלֶּה הַ חֹק לְ פקד לְ כָּלָה בְּ יָד בְּלִיַּעַל None הוּא הַ יֹום אֲשֶׁר פקד אֵל כְּ אֲשֶׁר דבר היה שַׂר יְהוּדָה כְּ סוג גְּבוּל עַל שׁפך כְּ מַיִם עֶבְרָה None כִּי בוא בוא בְּ בְּרִית תְּשׁוּבָה וְ לֹא סור מִן דֶּרֶךְ בגד וְ גלל בְּ דֶּרֶךְ זְנוּת וְ בְּ הֹון הַ רִשְׁעָה וְ נקם וְ נטר אִישׁ לְ אָח וְ שׂנא אִישׁ אֵת רֵעַ None וְ עלם אִישׁ בְּ שְׁאֵר בָּשָׂר וְ נגשׁ לְ זִמָּה וְ גבר לְ הֹון וְ לְ בֶּצַע וְ עשׂה None אִישׁ הַ יָשָׁר בְּ עַיִן None וְ בחר אִישׁ בְּ שְׁרִרוּת לֵב וְ לֹא נזר מִן עַם וְ מִן חַטָּאת None וְ פרע בְּ יָד רום לְ הלך בְּ דֶּרֶךְ רָשָׁע אֲשֶׁר אמר אֵל עַל חֵמָה תַּנִּין יַיִן וְ רֹאשׁ פֶּתֶן אַכְזָר None הַ תַּנִּין מֶלֶךְ הַ עַם וְ יַיִן הוּא דֶּרֶךְ וְ רֹאשׁ פֶּתֶן הוּא רֹאשׁ מֶלֶךְ יָוָן הַ בוא עַל לְ נקם נְקָמָה None וְ בְּ כֹּל אֵלֶּה לֹא בין בנה הַ חַיִץ וְ טוח תָּפֵל None כִּי הלך רוּחַ וְ שׁקל סוּפָה סוּפָה וְ נטף אָדָם לְ כָּזָב אֲשֶׁר חרה אַף אֵל בְּ כֹּל עֵדָה None וְ אֲשֶׁר אמר מֹשֶׁה לְ יִשְׂרָאֵל לֹא בְּ צְדָקָה וְ בְּ יֹשֶׁר לֵבָב אַתָּה בוא לְ ירשׁ אֵת הַ גֹּוי הַ אֵלֶּה כִּי מִן אַהֲבָה אֵת אָב וְ מִן שׁמר אֵת הַ שְׁבוּעָה None כֵּן מִשְׁפָּט לְ שׁוב יִשְׂרָאֵל סור מִן דֶּרֶךְ הַ עַם None בְּ אַהֲבָה אֵל אֵת הַ רִאשֹׁון אֲשֶׁר עוד עַל הַ עַם אַחֲרֵי אֵל וְ אהב אֵת הַ בוא אַחֲרֵי כִּי לְ בְּרִית אָב None וְ שׂנא וְ תעב אֵל אֵת בנה הַ חַיִץ וְ חרה אָב אַף בְּ וְ בְּ כֹּל הַ הלך אַחֲרֵי None וְ כְּ מִשְׁפָּט הַ זֶה לְ כֹּל הַ מאס בְּ מִצְוָה אֵל None וְ עזב וְ פנה בְּ שְׁרִרוּת לֵב None כֵּן כֹּל הַ אִישׁ אֲשֶׁר בוא בְּ בְּרִית הַ חָדָשׁ בְּ אֶרֶץ דַּמֶּשֶׂק וְ שׁוב וְ בגד וְ סור מִן בְּאֵר מַיִם הַ חַי None לֹא חשׁב בְּ סֹוד עַם וְ בְּ כְּתָב לֹא כתב מִן יֹום אסף יר מֹורֶה מִן יֹום מֹורֶה הַ יָחִיד עַד עמד מָשִׁיחַ מִן אַהֲרֹן וְ מִן יִשְׂרָאֵל None וְ כֵּן הַ מִשְׁפָּט לְ כֹּל בוא עֵדָה אִישׁ תָּמִים הַ קֹדֶשׁ None וְ קוץ מִן עשׂה פִּקּוּדִים יָשָׁר הוּא הַ אִישׁ הַ נתך בְּ תָּוֶךְ כּוּר None ה בְּ יפע מַעֲשֶׂה שׁלח מִן עֵדָה כְּמֹו כְּ מִי שַׁ לֹא נפל גֹּורָל בְּ תָּוֶךְ למד אֵל None כְּ פֶּה מַעַל ח יכח אִישׁ דֵּעָה עַד יֹום שׁוב לְ עמד בְּ מַעֲמָד אִישׁ תָּמִים קֹדֶשׁ אֲשֶׁר אַיִן גֹּורָל בְּ תָּוֶךְ א None וְ בְּ יפע מַעֲשֶׂה כְּ פֶּה מִדְרָשׁ הַ תֹּורָה אֲשֶׁר הלך בְּ אִישׁ תָּמִים הַ קֹדֶשׁ אַל אות אות אִישׁ עִם בְּ הֹון וְ בְּ עֲבֹדָה כִּי ארר כֹּל קָדֹושׁ עֶלְיֹון None וְ כְּ מִשְׁפָּט הַ זֶה לְ כֹּל הַ מאס בְּ רִאשֹׁון וְ בְּ אַחֲרֹון אֲשֶׁר שׂים גִּלּוּל עַל לֵב וְ שׂים וְ הלך בְּ שְׁרִרוּת לֵב אַיִן לְ חֵלֶק בְּ בַּיִת הַ תֹּורָה None כְּ מִשְׁפָּט רֵעַ אֲשֶׁר שׁוב עִם אִישׁ הַ לָצֹון שׁפט כִּי דבר תֹּועָה עַל חֹק הַ צֶדֶק וְ מאס בְּ בְּרִית וְ אֲמָנָה אֲשֶׁר קום בְּ אֶרֶץ דַּמֶּשֶׂק וְ הוּא בְּרִית הַ חָדָשׁ None וְ לֹא היה לְ וְ וְ לְ מִשְׁפָּחָה חֵלֶק בְּ בַּיִת הַ תֹּורָה None וְ מִן יֹום אסף ירה הַ יָחִיד עַד תמם כֹּל אִישׁ הַ מִלְחָמָה אֲשֶׁר שׁוב עִם אִישׁ הַ כָּזָב כְּ שָׁנָה אַרְבָּעִים None וְ בְּ קֵץ הַ הוּא חרה אַף אֵל בְּ יִשְׂרָאֵל כְּ אֲשֶׁר אמר אַיִן מֶלֶךְ וְ אַיִן שַׂר וְ אַיִן שׁפט וְ אַיִן יכח בְּ צֶדֶק None וְ שׁוב פֶּשַׁע יַעֲקֹב שׁמר בְּרִית אֵל None אָז דבר אִישׁ אֶל רֵעַ לְ צדק אִישׁ אֵת אָח לְ תמך צַעַד בְּ דֶּרֶךְ אֵל None וְ קשׁב אֵל אֶל דָּבָר וְ שׁמע וְ כתב סֵפֶר זִכָּרֹון לְ פָּנֶה לְ יָרֵא אֵל וְ לְ חשׁב שֵׁם עַד גלה יֵשַׁע וְ צְדָקָה וְ יָרֵא אֵל None וְ שׁוב וְ ראה בַּיִן צַדִּיק וְ רָשָׁע בַּיִן עבד אֵל לְ אֲשֶׁר לֹא עבד None וְ עשׂה חֶסֶד לְ אֶלֶף לְ אהב וְ לְ שׁמר לְ אֶלֶף דֹּור None None None בַּיִת פֶּלֶג אֲשֶׁר יצא מִן עִיר הַ קֹדֶשׁ וְ שׁען עַל אֵל בְּ קֵץ מַעַל יִשְׂרָאֵל וְ טמא אֵת הַ מִקְדָּשׁ None וְ שׁוב עֹוד אֶל דֶּרֶךְ הַ עַם בְּ דָּבָר מְעַט None כֹּל אִישׁ לְ פֶּה רוּחַ שׁפט בְּ עֵצָה הַ קֹדֶשׁ None וְ כֹּל אֲשֶׁר פרץ אֵת גְּבוּל הַ תֹּורָה מִן בוא הַ בְּרִית בְּ יפע כָּבֹוד אֵל לְ יִשְׂרָאֵל כרת מִן קֶרֶב הַ מַחֲנֶה וְ עִם כֹּל רשׁע יְהוּדָה בְּ יֹום מַצְרֵף None וְ כֹּל הַ חזק בְּ מִשְׁפָּט הַ אֵלֶּה לְ יצא וְ לְ בוא עַל פֶּה הַ תֹּורָה וְ שׁמע לְ קֹול מֹורֶה וְ ידה לְ פָּנֶה אֵל חטא רשׁע גַּם אֲנַחְנוּ גַּם אָב בְּ הלך קְרִי בְּ חֹק הַ בְּרִית צֶדֶק וְ אֱמֶת מִשְׁפָּט בְּ None וְ לֹא רום יָד עַל חֹק קֹדֶשׁ וְ מִשְׁפָּט צֶדֶק וְ עֵדוּת אֱמֶת None וְ יתר בְּ מִשְׁפָּט הַ רִאשֹׁון אֲשֶׁר שׁפט בְּ אִישׁ הַ יָחִיד וְ אזן לְ קֹול מֹורֶה צֶדֶק None וְ לֹא עזב אֵת חֹק הַ צֶדֶק בְּ שׁמע אֵת שׂושׂ וְ שׂמח וְ עזז לֵב None וְ גבר עַל כֹּל בֵּן תֵּבֵל None וְ כפר אֵל בַּעַד וְ ראה בְּ יְשׁוּעָה כִּי חסה בְּ שֵׁם קֹדֶשׁ None\n"
     ]
    }
   ],
   "source": [
    "for d in F.otype.s(\"scroll\")[:1]:\n",
    "    scroll = T.scrollName(d)\n",
    "    s = f\"{scroll}: \"\n",
    "    for w in L.d(d, otype=\"word\"):\n",
    "        tmp = f\" {F.glex.v(w)}\"\n",
    "        if not tmp:\n",
    "            tmp = f\" {T.text(w)}\"\n",
    "        if tmp:\n",
    "            s+= tmp\n",
    "    s = remove_chars(s)\n",
    "    print(s)"
   ],
   "metadata": {
    "collapsed": false,
    "ExecuteTime": {
     "end_time": "2024-05-18T18:32:44.284493Z",
     "start_time": "2024-05-18T18:32:44.270882Z"
    }
   },
   "execution_count": 94
  },
  {
   "cell_type": "code",
   "outputs": [
    {
     "data": {
      "text/plain": "  0%|          | 0/500995 [00:00<?, ?it/s]",
      "application/vnd.jupyter.widget-view+json": {
       "version_major": 2,
       "version_minor": 0,
       "model_id": "4415443d8a8e49d780e007886a1a4081"
      }
     },
     "metadata": {},
     "output_type": "display_data"
    }
   ],
   "source": [
    "from tqdm.notebook import tqdm\n",
    "\n",
    "data = []\n",
    "#Tags meaning from here https://github.com/ETCBC/dss/blob/master/yaml/morph.yaml\n",
    "for w in tqdm(F.otype.s(\"word\")):\n",
    "    book_and_chapter = A.sectionStrFromNode(w)\n",
    "    book = A.sectionStrFromNode(w).split(\" \")[0]\n",
    "    text = (T.text(w))\n",
    "    lex = (F.lex.v(w))\n",
    "    sp = F.sp.v(w)\n",
    "    cl = F.cl.v(w)\n",
    "    ps = F.ps.v(w)\n",
    "    gn = F.gn.v(w)\n",
    "    nu = F.nu.v(w)\n",
    "    st = F.st.v(w)\n",
    "    vs = F.vs.v(w)\n",
    "    vt = F.vt.v(w)\n",
    "    md = F.md.v(w)\n",
    "    book = F.book.v(w)\n",
    "    chapter = F.chapter.v(w)\n",
    "    lang = F.lang.v(w)\n",
    "    bib = str(get_biblical_from_line(w))\n",
    "\n",
    "    res = {\"book_and_chapter\": book_and_chapter, \"text\": text, \"lex\": lex, \"sp\": sp, \"cl\": cl, \"ps\": ps, \"gn\": gn,\n",
    "           \"nu\": nu, \"st\": st, \"vs\": vs, \"vt\": vt, \"md\": md, \"bib\": bib, \"bib_book\": book, \"bib_chapter\": chapter,\n",
    "           \"lang\": lang}\n",
    "\n",
    "    data.append(res)\n"
   ],
   "metadata": {
    "collapsed": false,
    "ExecuteTime": {
     "end_time": "2024-05-16T10:49:45.073768Z",
     "start_time": "2024-05-16T10:49:10.003011Z"
    }
   },
   "execution_count": 15
  },
  {
   "cell_type": "code",
   "outputs": [
    {
     "name": "stdout",
     "output_type": "stream",
     "text": [
      "<class 'pandas.core.frame.DataFrame'>\n",
      "RangeIndex: 500995 entries, 0 to 500994\n",
      "Data columns (total 16 columns):\n",
      " #   Column            Non-Null Count   Dtype \n",
      "---  ------            --------------   ----- \n",
      " 0   book_and_chapter  500995 non-null  object\n",
      " 1   text              500995 non-null  object\n",
      " 2   lex               470845 non-null  object\n",
      " 3   sp                470845 non-null  object\n",
      " 4   cl                312839 non-null  object\n",
      " 5   ps                49100 non-null   object\n",
      " 6   gn                194777 non-null  object\n",
      " 7   nu                194670 non-null  object\n",
      " 8   st                107481 non-null  object\n",
      " 9   vs                66332 non-null   object\n",
      " 10  vt                66317 non-null   object\n",
      " 11  md                1984 non-null    object\n",
      " 12  bib               500995 non-null  object\n",
      " 13  bib_book          218189 non-null  object\n",
      " 14  bib_chapter       218189 non-null  object\n",
      " 15  lang              49411 non-null   object\n",
      "dtypes: object(16)\n",
      "memory usage: 61.2+ MB\n"
     ]
    }
   ],
   "source": [
    "df = pd.DataFrame(data)\n",
    "df.info()"
   ],
   "metadata": {
    "collapsed": false,
    "ExecuteTime": {
     "end_time": "2024-05-16T12:44:12.912356Z",
     "start_time": "2024-05-16T12:44:10.959018Z"
    }
   },
   "execution_count": 65
  },
  {
   "cell_type": "code",
   "outputs": [
    {
     "data": {
      "text/plain": "       book_and_chapter    text        lex       sp    cl    ps    gn    nu  \\\n0                CD 1:1       ו         וְ     ptcl  conj  None  None  None   \n1                CD 1:1    עתה      עַתָּה     ptcl  advb  None  None  None   \n2                CD 1:1   שמעו         שׁמע     verb  None  None     m     p   \n3                CD 1:1     כל        כֹּל     subs   cmn  None     m     s   \n4                CD 1:1  יודעי         ידע     verb  None  None     m     p   \n...                 ...     ...        ...      ...   ...   ...   ...   ...   \n500990          X4 f2:2      ε          #   unknown  None  None  None  None   \n500991          X4 f2:3      ε          #   unknown  None  None  None  None   \n500992          X4 f2:3    אלה    # אלה #   unknown  None  None  None  None   \n500993          X4 f2:3      ε          #   unknown  None  None  None  None   \n500994          X4 f2:3      ׃        None     None  None  None  None  None   \n\n          st    vs    vt    md     bib bib_book bib_chapter  lang  \n0       None  None  None  None  nonbib     None        None  None  \n1       None  None  None  None  nonbib     None        None  None  \n2       None   qal  impv  None  nonbib     None        None  None  \n3          c  None  None  None  nonbib     None        None  None  \n4          c   qal  ptca  None  nonbib     None        None  None  \n...      ...   ...   ...   ...     ...      ...         ...   ...  \n500990  None  None  None  None     bib       X4          f2  None  \n500991  None  None  None  None     bib       X4          f2  None  \n500992  None  None  None  None     bib       X4          f2  None  \n500993  None  None  None  None     bib       X4          f2  None  \n500994  None  None  None  None     bib       X4          f2  None  \n\n[500995 rows x 16 columns]",
      "text/html": "<div>\n<style scoped>\n    .dataframe tbody tr th:only-of-type {\n        vertical-align: middle;\n    }\n\n    .dataframe tbody tr th {\n        vertical-align: top;\n    }\n\n    .dataframe thead th {\n        text-align: right;\n    }\n</style>\n<table border=\"1\" class=\"dataframe\">\n  <thead>\n    <tr style=\"text-align: right;\">\n      <th></th>\n      <th>book_and_chapter</th>\n      <th>text</th>\n      <th>lex</th>\n      <th>sp</th>\n      <th>cl</th>\n      <th>ps</th>\n      <th>gn</th>\n      <th>nu</th>\n      <th>st</th>\n      <th>vs</th>\n      <th>vt</th>\n      <th>md</th>\n      <th>bib</th>\n      <th>bib_book</th>\n      <th>bib_chapter</th>\n      <th>lang</th>\n    </tr>\n  </thead>\n  <tbody>\n    <tr>\n      <th>0</th>\n      <td>CD 1:1</td>\n      <td>ו</td>\n      <td>וְ</td>\n      <td>ptcl</td>\n      <td>conj</td>\n      <td>None</td>\n      <td>None</td>\n      <td>None</td>\n      <td>None</td>\n      <td>None</td>\n      <td>None</td>\n      <td>None</td>\n      <td>nonbib</td>\n      <td>None</td>\n      <td>None</td>\n      <td>None</td>\n    </tr>\n    <tr>\n      <th>1</th>\n      <td>CD 1:1</td>\n      <td>עתה</td>\n      <td>עַתָּה</td>\n      <td>ptcl</td>\n      <td>advb</td>\n      <td>None</td>\n      <td>None</td>\n      <td>None</td>\n      <td>None</td>\n      <td>None</td>\n      <td>None</td>\n      <td>None</td>\n      <td>nonbib</td>\n      <td>None</td>\n      <td>None</td>\n      <td>None</td>\n    </tr>\n    <tr>\n      <th>2</th>\n      <td>CD 1:1</td>\n      <td>שמעו</td>\n      <td>שׁמע</td>\n      <td>verb</td>\n      <td>None</td>\n      <td>None</td>\n      <td>m</td>\n      <td>p</td>\n      <td>None</td>\n      <td>qal</td>\n      <td>impv</td>\n      <td>None</td>\n      <td>nonbib</td>\n      <td>None</td>\n      <td>None</td>\n      <td>None</td>\n    </tr>\n    <tr>\n      <th>3</th>\n      <td>CD 1:1</td>\n      <td>כל</td>\n      <td>כֹּל</td>\n      <td>subs</td>\n      <td>cmn</td>\n      <td>None</td>\n      <td>m</td>\n      <td>s</td>\n      <td>c</td>\n      <td>None</td>\n      <td>None</td>\n      <td>None</td>\n      <td>nonbib</td>\n      <td>None</td>\n      <td>None</td>\n      <td>None</td>\n    </tr>\n    <tr>\n      <th>4</th>\n      <td>CD 1:1</td>\n      <td>יודעי</td>\n      <td>ידע</td>\n      <td>verb</td>\n      <td>None</td>\n      <td>None</td>\n      <td>m</td>\n      <td>p</td>\n      <td>c</td>\n      <td>qal</td>\n      <td>ptca</td>\n      <td>None</td>\n      <td>nonbib</td>\n      <td>None</td>\n      <td>None</td>\n      <td>None</td>\n    </tr>\n    <tr>\n      <th>...</th>\n      <td>...</td>\n      <td>...</td>\n      <td>...</td>\n      <td>...</td>\n      <td>...</td>\n      <td>...</td>\n      <td>...</td>\n      <td>...</td>\n      <td>...</td>\n      <td>...</td>\n      <td>...</td>\n      <td>...</td>\n      <td>...</td>\n      <td>...</td>\n      <td>...</td>\n      <td>...</td>\n    </tr>\n    <tr>\n      <th>500990</th>\n      <td>X4 f2:2</td>\n      <td>ε</td>\n      <td>#</td>\n      <td>unknown</td>\n      <td>None</td>\n      <td>None</td>\n      <td>None</td>\n      <td>None</td>\n      <td>None</td>\n      <td>None</td>\n      <td>None</td>\n      <td>None</td>\n      <td>bib</td>\n      <td>X4</td>\n      <td>f2</td>\n      <td>None</td>\n    </tr>\n    <tr>\n      <th>500991</th>\n      <td>X4 f2:3</td>\n      <td>ε</td>\n      <td>#</td>\n      <td>unknown</td>\n      <td>None</td>\n      <td>None</td>\n      <td>None</td>\n      <td>None</td>\n      <td>None</td>\n      <td>None</td>\n      <td>None</td>\n      <td>None</td>\n      <td>bib</td>\n      <td>X4</td>\n      <td>f2</td>\n      <td>None</td>\n    </tr>\n    <tr>\n      <th>500992</th>\n      <td>X4 f2:3</td>\n      <td>אלה</td>\n      <td># אלה #</td>\n      <td>unknown</td>\n      <td>None</td>\n      <td>None</td>\n      <td>None</td>\n      <td>None</td>\n      <td>None</td>\n      <td>None</td>\n      <td>None</td>\n      <td>None</td>\n      <td>bib</td>\n      <td>X4</td>\n      <td>f2</td>\n      <td>None</td>\n    </tr>\n    <tr>\n      <th>500993</th>\n      <td>X4 f2:3</td>\n      <td>ε</td>\n      <td>#</td>\n      <td>unknown</td>\n      <td>None</td>\n      <td>None</td>\n      <td>None</td>\n      <td>None</td>\n      <td>None</td>\n      <td>None</td>\n      <td>None</td>\n      <td>None</td>\n      <td>bib</td>\n      <td>X4</td>\n      <td>f2</td>\n      <td>None</td>\n    </tr>\n    <tr>\n      <th>500994</th>\n      <td>X4 f2:3</td>\n      <td>׃</td>\n      <td>None</td>\n      <td>None</td>\n      <td>None</td>\n      <td>None</td>\n      <td>None</td>\n      <td>None</td>\n      <td>None</td>\n      <td>None</td>\n      <td>None</td>\n      <td>None</td>\n      <td>bib</td>\n      <td>X4</td>\n      <td>f2</td>\n      <td>None</td>\n    </tr>\n  </tbody>\n</table>\n<p>500995 rows × 16 columns</p>\n</div>"
     },
     "execution_count": 66,
     "metadata": {},
     "output_type": "execute_result"
    }
   ],
   "source": [
    "df"
   ],
   "metadata": {
    "collapsed": false,
    "ExecuteTime": {
     "end_time": "2024-05-16T12:44:12.947903Z",
     "start_time": "2024-05-16T12:44:12.917235Z"
    }
   },
   "execution_count": 66
  },
  {
   "cell_type": "code",
   "outputs": [
    {
     "name": "stdout",
     "output_type": "stream",
     "text": [
      "Removed 49411 words that arent hebrew books\n",
      "Removed 0 words that are spaces\n"
     ]
    },
    {
     "name": "stderr",
     "output_type": "stream",
     "text": [
      "/var/folders/yv/8bscwg3x6m5934xb_mry4d_m0000gr/T/ipykernel_53341/3679194749.py:13: SettingWithCopyWarning: \n",
      "A value is trying to be set on a copy of a slice from a DataFrame.\n",
      "Try using .loc[row_indexer,col_indexer] = value instead\n",
      "\n",
      "See the caveats in the documentation: https://pandas.pydata.org/pandas-docs/stable/user_guide/indexing.html#returning-a-view-versus-a-copy\n",
      "  df[\"space_counter\"] = df[\"text\"].apply(lambda x: get_spaces_per_word(x))\n"
     ]
    },
    {
     "name": "stdout",
     "output_type": "stream",
     "text": [
      "Removed 0 words with uncertain signs\n"
     ]
    },
    {
     "name": "stderr",
     "output_type": "stream",
     "text": [
      "/var/folders/yv/8bscwg3x6m5934xb_mry4d_m0000gr/T/ipykernel_53341/3679194749.py:17: SettingWithCopyWarning: \n",
      "A value is trying to be set on a copy of a slice from a DataFrame.\n",
      "Try using .loc[row_indexer,col_indexer] = value instead\n",
      "\n",
      "See the caveats in the documentation: https://pandas.pydata.org/pandas-docs/stable/user_guide/indexing.html#returning-a-view-versus-a-copy\n",
      "  df[\"text\"] = df[\"text\"].apply(lambda x: remove_not_heb_chars(x))\n",
      "/var/folders/yv/8bscwg3x6m5934xb_mry4d_m0000gr/T/ipykernel_53341/3679194749.py:18: SettingWithCopyWarning: \n",
      "A value is trying to be set on a copy of a slice from a DataFrame.\n",
      "Try using .loc[row_indexer,col_indexer] = value instead\n",
      "\n",
      "See the caveats in the documentation: https://pandas.pydata.org/pandas-docs/stable/user_guide/indexing.html#returning-a-view-versus-a-copy\n",
      "  df[\"char_length\"] = df[\"text\"].apply(lambda x: len(x)) # I did not remove the single letters because their importance to the starr features.\n",
      "/var/folders/yv/8bscwg3x6m5934xb_mry4d_m0000gr/T/ipykernel_53341/3679194749.py:19: SettingWithCopyWarning: \n",
      "A value is trying to be set on a copy of a slice from a DataFrame.\n",
      "Try using .loc[row_indexer,col_indexer] = value instead\n",
      "\n",
      "See the caveats in the documentation: https://pandas.pydata.org/pandas-docs/stable/user_guide/indexing.html#returning-a-view-versus-a-copy\n",
      "  df[\"book\"], df[\"line\"] = df[\"book_and_chapter\"].str.split(\" \").str[0],df[\"book_and_chapter\"].str.split(\" \").str[1]\n",
      "/var/folders/yv/8bscwg3x6m5934xb_mry4d_m0000gr/T/ipykernel_53341/3679194749.py:19: SettingWithCopyWarning: \n",
      "A value is trying to be set on a copy of a slice from a DataFrame.\n",
      "Try using .loc[row_indexer,col_indexer] = value instead\n",
      "\n",
      "See the caveats in the documentation: https://pandas.pydata.org/pandas-docs/stable/user_guide/indexing.html#returning-a-view-versus-a-copy\n",
      "  df[\"book\"], df[\"line\"] = df[\"book_and_chapter\"].str.split(\" \").str[0],df[\"book_and_chapter\"].str.split(\" \").str[1]\n"
     ]
    }
   ],
   "source": [
    "\n",
    "curr_size = len(df)\n",
    "df[\"text\"] = df[\"text\"].apply(remove_chars)  #remove bad characters\n",
    "df = df[df[\"lang\"].isna()]  #process only hebrew books (a is Aramic, g is Greek)\n",
    "print(f'Removed {curr_size - len(df)} words that arent hebrew books')\n",
    "curr_size = len(df)\n",
    "# df = df[~df[\"text\"].str.match(r'^\\s*$')] #remove words that are spaces\n",
    "print(f'Removed {curr_size - len(df)} words that are spaces')\n",
    "curr_size = len(df)\n",
    "# df['text'] = df['text'].apply(lambda x: remove_stop_words(x, stop_words)) #remove stop words\n",
    "# print(f'Removed {sum(df[\"text\"].isna().values.ravel())} stop words')\n",
    "# df = df.dropna(subset=['text'])\n",
    "curr_size = len(df)\n",
    "df[\"space_counter\"] = df[\"text\"].apply(lambda x: get_spaces_per_word(x))\n",
    "# df = df[df[\"space_counter\"]==0] #removing of words with uncertain signs\n",
    "print(f'Removed {curr_size - len(df)} words with uncertain signs')\n",
    "# df[\"text\"] = df[\"text\"].apply(lambda x: replace_for_ot_sofit(x))\n",
    "df[\"text\"] = df[\"text\"].apply(lambda x: remove_not_heb_chars(x))\n",
    "df[\"char_length\"] = df[\"text\"].apply(\n",
    "    lambda x: len(x))  # I did not remove the single letters because their importance to the starr features.\n",
    "df[\"book\"], df[\"line\"] = df[\"book_and_chapter\"].str.split(\" \").str[0], df[\"book_and_chapter\"].str.split(\" \").str[1]\n"
   ],
   "metadata": {
    "collapsed": false,
    "ExecuteTime": {
     "end_time": "2024-05-16T12:44:19.289555Z",
     "start_time": "2024-05-16T12:44:12.951232Z"
    }
   },
   "execution_count": 67
  },
  {
   "cell_type": "code",
   "outputs": [
    {
     "name": "stdout",
     "output_type": "stream",
     "text": [
      "<class 'pandas.core.frame.DataFrame'>\n",
      "Index: 236833 entries, 0 to 283008\n",
      "Data columns (total 20 columns):\n",
      " #   Column            Non-Null Count   Dtype \n",
      "---  ------            --------------   ----- \n",
      " 0   book_and_chapter  236833 non-null  object\n",
      " 1   text              236833 non-null  object\n",
      " 2   lex               219579 non-null  object\n",
      " 3   sp                219579 non-null  object\n",
      " 4   cl                129226 non-null  object\n",
      " 5   ps                16538 non-null   object\n",
      " 6   gn                81216 non-null   object\n",
      " 7   nu                81128 non-null   object\n",
      " 8   st                62343 non-null   object\n",
      " 9   vs                23685 non-null   object\n",
      " 10  vt                23685 non-null   object\n",
      " 11  md                670 non-null     object\n",
      " 12  bib               236833 non-null  object\n",
      " 13  bib_book          0 non-null       object\n",
      " 14  bib_chapter       0 non-null       object\n",
      " 15  lang              0 non-null       object\n",
      " 16  space_counter     236833 non-null  int64 \n",
      " 17  char_length       236833 non-null  int64 \n",
      " 18  book              236833 non-null  object\n",
      " 19  line              236833 non-null  object\n",
      "dtypes: int64(2), object(18)\n",
      "memory usage: 37.9+ MB\n"
     ]
    }
   ],
   "source": [
    "df = df[df[\"bib\"] == \"nonbib\"]\n",
    "df.info()"
   ],
   "metadata": {
    "collapsed": false,
    "ExecuteTime": {
     "end_time": "2024-05-16T12:44:19.575266Z",
     "start_time": "2024-05-16T12:44:19.293309Z"
    }
   },
   "execution_count": 68
  },
  {
   "cell_type": "code",
   "outputs": [
    {
     "data": {
      "text/plain": "       book_and_chapter    text     lex    sp    cl    ps    gn    nu    st  \\\n0                CD 1:1       ו      וְ  ptcl  conj  None  None  None  None   \n1                CD 1:1    עתה   עַתָּה  ptcl  advb  None  None  None  None   \n2                CD 1:1   שמעו      שׁמע  verb  None  None     m     p  None   \n3                CD 1:1     כל     כֹּל  subs   cmn  None     m     s     c   \n4                CD 1:1  יודעי      ידע  verb  None  None     m     p     c   \n...                 ...     ...     ...   ...   ...   ...   ...   ...   ...   \n282916         XQ7 f1:6      .     None  None  None  None  None  None  None   \n282924         XQ8 f1:1      .     None  None  None  None  None  None  None   \n282962         XQ8 f1:3      .     None  None  None  None  None  None  None   \n282994         XQ8 f1:5      .     None  None  None  None  None  None  None   \n283008         XQ8 f1:5      .     None  None  None  None  None  None  None   \n\n          vs    vt    md     bib bib_book bib_chapter  lang  space_counter  \\\n0       None  None  None  nonbib     None        None  None              0   \n1       None  None  None  nonbib     None        None  None              1   \n2        qal  impv  None  nonbib     None        None  None              1   \n3       None  None  None  nonbib     None        None  None              1   \n4        qal  ptca  None  nonbib     None        None  None              1   \n...      ...   ...   ...     ...      ...         ...   ...            ...   \n282916  None  None  None  nonbib     None        None  None              1   \n282924  None  None  None  nonbib     None        None  None              1   \n282962  None  None  None  nonbib     None        None  None              1   \n282994  None  None  None  nonbib     None        None  None              1   \n283008  None  None  None  nonbib     None        None  None              1   \n\n        char_length book  line  \n0                 1   CD   1:1  \n1                 4   CD   1:1  \n2                 5   CD   1:1  \n3                 3   CD   1:1  \n4                 6   CD   1:1  \n...             ...  ...   ...  \n282916            2  XQ7  f1:6  \n282924            2  XQ8  f1:1  \n282962            2  XQ8  f1:3  \n282994            2  XQ8  f1:5  \n283008            2  XQ8  f1:5  \n\n[236833 rows x 20 columns]",
      "text/html": "<div>\n<style scoped>\n    .dataframe tbody tr th:only-of-type {\n        vertical-align: middle;\n    }\n\n    .dataframe tbody tr th {\n        vertical-align: top;\n    }\n\n    .dataframe thead th {\n        text-align: right;\n    }\n</style>\n<table border=\"1\" class=\"dataframe\">\n  <thead>\n    <tr style=\"text-align: right;\">\n      <th></th>\n      <th>book_and_chapter</th>\n      <th>text</th>\n      <th>lex</th>\n      <th>sp</th>\n      <th>cl</th>\n      <th>ps</th>\n      <th>gn</th>\n      <th>nu</th>\n      <th>st</th>\n      <th>vs</th>\n      <th>vt</th>\n      <th>md</th>\n      <th>bib</th>\n      <th>bib_book</th>\n      <th>bib_chapter</th>\n      <th>lang</th>\n      <th>space_counter</th>\n      <th>char_length</th>\n      <th>book</th>\n      <th>line</th>\n    </tr>\n  </thead>\n  <tbody>\n    <tr>\n      <th>0</th>\n      <td>CD 1:1</td>\n      <td>ו</td>\n      <td>וְ</td>\n      <td>ptcl</td>\n      <td>conj</td>\n      <td>None</td>\n      <td>None</td>\n      <td>None</td>\n      <td>None</td>\n      <td>None</td>\n      <td>None</td>\n      <td>None</td>\n      <td>nonbib</td>\n      <td>None</td>\n      <td>None</td>\n      <td>None</td>\n      <td>0</td>\n      <td>1</td>\n      <td>CD</td>\n      <td>1:1</td>\n    </tr>\n    <tr>\n      <th>1</th>\n      <td>CD 1:1</td>\n      <td>עתה</td>\n      <td>עַתָּה</td>\n      <td>ptcl</td>\n      <td>advb</td>\n      <td>None</td>\n      <td>None</td>\n      <td>None</td>\n      <td>None</td>\n      <td>None</td>\n      <td>None</td>\n      <td>None</td>\n      <td>nonbib</td>\n      <td>None</td>\n      <td>None</td>\n      <td>None</td>\n      <td>1</td>\n      <td>4</td>\n      <td>CD</td>\n      <td>1:1</td>\n    </tr>\n    <tr>\n      <th>2</th>\n      <td>CD 1:1</td>\n      <td>שמעו</td>\n      <td>שׁמע</td>\n      <td>verb</td>\n      <td>None</td>\n      <td>None</td>\n      <td>m</td>\n      <td>p</td>\n      <td>None</td>\n      <td>qal</td>\n      <td>impv</td>\n      <td>None</td>\n      <td>nonbib</td>\n      <td>None</td>\n      <td>None</td>\n      <td>None</td>\n      <td>1</td>\n      <td>5</td>\n      <td>CD</td>\n      <td>1:1</td>\n    </tr>\n    <tr>\n      <th>3</th>\n      <td>CD 1:1</td>\n      <td>כל</td>\n      <td>כֹּל</td>\n      <td>subs</td>\n      <td>cmn</td>\n      <td>None</td>\n      <td>m</td>\n      <td>s</td>\n      <td>c</td>\n      <td>None</td>\n      <td>None</td>\n      <td>None</td>\n      <td>nonbib</td>\n      <td>None</td>\n      <td>None</td>\n      <td>None</td>\n      <td>1</td>\n      <td>3</td>\n      <td>CD</td>\n      <td>1:1</td>\n    </tr>\n    <tr>\n      <th>4</th>\n      <td>CD 1:1</td>\n      <td>יודעי</td>\n      <td>ידע</td>\n      <td>verb</td>\n      <td>None</td>\n      <td>None</td>\n      <td>m</td>\n      <td>p</td>\n      <td>c</td>\n      <td>qal</td>\n      <td>ptca</td>\n      <td>None</td>\n      <td>nonbib</td>\n      <td>None</td>\n      <td>None</td>\n      <td>None</td>\n      <td>1</td>\n      <td>6</td>\n      <td>CD</td>\n      <td>1:1</td>\n    </tr>\n    <tr>\n      <th>...</th>\n      <td>...</td>\n      <td>...</td>\n      <td>...</td>\n      <td>...</td>\n      <td>...</td>\n      <td>...</td>\n      <td>...</td>\n      <td>...</td>\n      <td>...</td>\n      <td>...</td>\n      <td>...</td>\n      <td>...</td>\n      <td>...</td>\n      <td>...</td>\n      <td>...</td>\n      <td>...</td>\n      <td>...</td>\n      <td>...</td>\n      <td>...</td>\n      <td>...</td>\n    </tr>\n    <tr>\n      <th>282916</th>\n      <td>XQ7 f1:6</td>\n      <td>.</td>\n      <td>None</td>\n      <td>None</td>\n      <td>None</td>\n      <td>None</td>\n      <td>None</td>\n      <td>None</td>\n      <td>None</td>\n      <td>None</td>\n      <td>None</td>\n      <td>None</td>\n      <td>nonbib</td>\n      <td>None</td>\n      <td>None</td>\n      <td>None</td>\n      <td>1</td>\n      <td>2</td>\n      <td>XQ7</td>\n      <td>f1:6</td>\n    </tr>\n    <tr>\n      <th>282924</th>\n      <td>XQ8 f1:1</td>\n      <td>.</td>\n      <td>None</td>\n      <td>None</td>\n      <td>None</td>\n      <td>None</td>\n      <td>None</td>\n      <td>None</td>\n      <td>None</td>\n      <td>None</td>\n      <td>None</td>\n      <td>None</td>\n      <td>nonbib</td>\n      <td>None</td>\n      <td>None</td>\n      <td>None</td>\n      <td>1</td>\n      <td>2</td>\n      <td>XQ8</td>\n      <td>f1:1</td>\n    </tr>\n    <tr>\n      <th>282962</th>\n      <td>XQ8 f1:3</td>\n      <td>.</td>\n      <td>None</td>\n      <td>None</td>\n      <td>None</td>\n      <td>None</td>\n      <td>None</td>\n      <td>None</td>\n      <td>None</td>\n      <td>None</td>\n      <td>None</td>\n      <td>None</td>\n      <td>nonbib</td>\n      <td>None</td>\n      <td>None</td>\n      <td>None</td>\n      <td>1</td>\n      <td>2</td>\n      <td>XQ8</td>\n      <td>f1:3</td>\n    </tr>\n    <tr>\n      <th>282994</th>\n      <td>XQ8 f1:5</td>\n      <td>.</td>\n      <td>None</td>\n      <td>None</td>\n      <td>None</td>\n      <td>None</td>\n      <td>None</td>\n      <td>None</td>\n      <td>None</td>\n      <td>None</td>\n      <td>None</td>\n      <td>None</td>\n      <td>nonbib</td>\n      <td>None</td>\n      <td>None</td>\n      <td>None</td>\n      <td>1</td>\n      <td>2</td>\n      <td>XQ8</td>\n      <td>f1:5</td>\n    </tr>\n    <tr>\n      <th>283008</th>\n      <td>XQ8 f1:5</td>\n      <td>.</td>\n      <td>None</td>\n      <td>None</td>\n      <td>None</td>\n      <td>None</td>\n      <td>None</td>\n      <td>None</td>\n      <td>None</td>\n      <td>None</td>\n      <td>None</td>\n      <td>None</td>\n      <td>nonbib</td>\n      <td>None</td>\n      <td>None</td>\n      <td>None</td>\n      <td>1</td>\n      <td>2</td>\n      <td>XQ8</td>\n      <td>f1:5</td>\n    </tr>\n  </tbody>\n</table>\n<p>236833 rows × 20 columns</p>\n</div>"
     },
     "execution_count": 69,
     "metadata": {},
     "output_type": "execute_result"
    }
   ],
   "source": [
    "df"
   ],
   "metadata": {
    "collapsed": false,
    "ExecuteTime": {
     "end_time": "2024-05-16T12:44:24.855410Z",
     "start_time": "2024-05-16T12:44:24.830336Z"
    }
   },
   "execution_count": 69
  },
  {
   "cell_type": "code",
   "outputs": [
    {
     "data": {
      "text/plain": "         book                                               text     bib  \\\nindex                                                                      \n582     4Q527  אשר היו נצפנים לחג אדוני      לו שלמים כן   כן...  nonbib   \n92       2Q29   וא לב     את ג   הו  . לפני  בע  .  נה      י...  nonbib   \n495    4Q468f   בני גלעד  את הארץ    לתת בארץ  לאדם  שבע  אתה .   nonbib   \n499    4Q468k   ה שמע     ל תתעו   ה אלה   פגועים   מותם בג  ...  nonbib   \n417     4Q407     א  קודשיהם  מלאכי קודש  בקרואי  בקודע .    ...  nonbib   \n...       ...                                                ...     ...   \n77        1QS  ל  שים לחיו ספר סרך היחד . לדרוש אל בכול לב וב...  nonbib   \n76        1QM  למשכיל ספר סרך המלחמה . ראשית משלוח יד בני אור...  nonbib   \n688        CD  ועתה שמעו כל יודעי צדק ובינו במעשי אל . כי ריב...  nonbib   \n10      11Q19   כי נורא הוא אשר אני עושה עמכה . הנני גורש מפנ...  nonbib   \n75       1QHa   נפלואתיכה אין פה  ותוצא לעולמי  ישמיעו בהמון ...  nonbib   \n\n      bib_book bib_chapter  unique_words          section         scroll  \\\nindex                                                                      \n582       None        None            11              NaN            NaN   \n92        None        None            11              NaN            NaN   \n495       None        None            11              NaN            NaN   \n499       None        None            11              NaN            NaN   \n417       None        None            11          unknown    Shir Shabat   \n...        ...         ...           ...              ...            ...   \n77        None        None          1686  sectarian_texts            1QS   \n76        None        None          1790  sectarian_texts            1QM   \n688       None        None          1800  sectarian_texts             CD   \n10        None        None          2791          unknown  Temple Scroll   \n75        None        None          3159  sectarian_texts        Hodayot   \n\n          composition  \nindex                  \n582               NaN  \n92                Num  \n495               NaN  \n499               NaN  \n417       Shir Shabat  \n...               ...  \n77     community_rule  \n76         War Scroll  \n688                CD  \n10      Temple Scroll  \n75            Hodayot  \n\n[480 rows x 9 columns]",
      "text/html": "<div>\n<style scoped>\n    .dataframe tbody tr th:only-of-type {\n        vertical-align: middle;\n    }\n\n    .dataframe tbody tr th {\n        vertical-align: top;\n    }\n\n    .dataframe thead th {\n        text-align: right;\n    }\n</style>\n<table border=\"1\" class=\"dataframe\">\n  <thead>\n    <tr style=\"text-align: right;\">\n      <th></th>\n      <th>book</th>\n      <th>text</th>\n      <th>bib</th>\n      <th>bib_book</th>\n      <th>bib_chapter</th>\n      <th>unique_words</th>\n      <th>section</th>\n      <th>scroll</th>\n      <th>composition</th>\n    </tr>\n    <tr>\n      <th>index</th>\n      <th></th>\n      <th></th>\n      <th></th>\n      <th></th>\n      <th></th>\n      <th></th>\n      <th></th>\n      <th></th>\n      <th></th>\n    </tr>\n  </thead>\n  <tbody>\n    <tr>\n      <th>582</th>\n      <td>4Q527</td>\n      <td>אשר היו נצפנים לחג אדוני      לו שלמים כן   כן...</td>\n      <td>nonbib</td>\n      <td>None</td>\n      <td>None</td>\n      <td>11</td>\n      <td>NaN</td>\n      <td>NaN</td>\n      <td>NaN</td>\n    </tr>\n    <tr>\n      <th>92</th>\n      <td>2Q29</td>\n      <td>וא לב     את ג   הו  . לפני  בע  .  נה      י...</td>\n      <td>nonbib</td>\n      <td>None</td>\n      <td>None</td>\n      <td>11</td>\n      <td>NaN</td>\n      <td>NaN</td>\n      <td>Num</td>\n    </tr>\n    <tr>\n      <th>495</th>\n      <td>4Q468f</td>\n      <td>בני גלעד  את הארץ    לתת בארץ  לאדם  שבע  אתה .</td>\n      <td>nonbib</td>\n      <td>None</td>\n      <td>None</td>\n      <td>11</td>\n      <td>NaN</td>\n      <td>NaN</td>\n      <td>NaN</td>\n    </tr>\n    <tr>\n      <th>499</th>\n      <td>4Q468k</td>\n      <td>ה שמע     ל תתעו   ה אלה   פגועים   מותם בג  ...</td>\n      <td>nonbib</td>\n      <td>None</td>\n      <td>None</td>\n      <td>11</td>\n      <td>NaN</td>\n      <td>NaN</td>\n      <td>NaN</td>\n    </tr>\n    <tr>\n      <th>417</th>\n      <td>4Q407</td>\n      <td>א  קודשיהם  מלאכי קודש  בקרואי  בקודע .    ...</td>\n      <td>nonbib</td>\n      <td>None</td>\n      <td>None</td>\n      <td>11</td>\n      <td>unknown</td>\n      <td>Shir Shabat</td>\n      <td>Shir Shabat</td>\n    </tr>\n    <tr>\n      <th>...</th>\n      <td>...</td>\n      <td>...</td>\n      <td>...</td>\n      <td>...</td>\n      <td>...</td>\n      <td>...</td>\n      <td>...</td>\n      <td>...</td>\n      <td>...</td>\n    </tr>\n    <tr>\n      <th>77</th>\n      <td>1QS</td>\n      <td>ל  שים לחיו ספר סרך היחד . לדרוש אל בכול לב וב...</td>\n      <td>nonbib</td>\n      <td>None</td>\n      <td>None</td>\n      <td>1686</td>\n      <td>sectarian_texts</td>\n      <td>1QS</td>\n      <td>community_rule</td>\n    </tr>\n    <tr>\n      <th>76</th>\n      <td>1QM</td>\n      <td>למשכיל ספר סרך המלחמה . ראשית משלוח יד בני אור...</td>\n      <td>nonbib</td>\n      <td>None</td>\n      <td>None</td>\n      <td>1790</td>\n      <td>sectarian_texts</td>\n      <td>1QM</td>\n      <td>War Scroll</td>\n    </tr>\n    <tr>\n      <th>688</th>\n      <td>CD</td>\n      <td>ועתה שמעו כל יודעי צדק ובינו במעשי אל . כי ריב...</td>\n      <td>nonbib</td>\n      <td>None</td>\n      <td>None</td>\n      <td>1800</td>\n      <td>sectarian_texts</td>\n      <td>CD</td>\n      <td>CD</td>\n    </tr>\n    <tr>\n      <th>10</th>\n      <td>11Q19</td>\n      <td>כי נורא הוא אשר אני עושה עמכה . הנני גורש מפנ...</td>\n      <td>nonbib</td>\n      <td>None</td>\n      <td>None</td>\n      <td>2791</td>\n      <td>unknown</td>\n      <td>Temple Scroll</td>\n      <td>Temple Scroll</td>\n    </tr>\n    <tr>\n      <th>75</th>\n      <td>1QHa</td>\n      <td>נפלואתיכה אין פה  ותוצא לעולמי  ישמיעו בהמון ...</td>\n      <td>nonbib</td>\n      <td>None</td>\n      <td>None</td>\n      <td>3159</td>\n      <td>sectarian_texts</td>\n      <td>Hodayot</td>\n      <td>Hodayot</td>\n    </tr>\n  </tbody>\n</table>\n<p>480 rows × 9 columns</p>\n</div>"
     },
     "execution_count": 71,
     "metadata": {},
     "output_type": "execute_result"
    }
   ],
   "source": [
    "\n",
    "by_book = df.groupby(\"book\")[\"text\"].apply(list).str.join(\"\")\n",
    "df_by_book = pd.merge(by_book.reset_index(), df[[\"bib\", \"bib_book\", \"bib_chapter\", \"book\"]], on=\"book\",\n",
    "                      how=\"inner\").drop_duplicates(subset=[\"text\", \"book\"])\n",
    "df_by_book[\"unique_words\"] = df_by_book[\"text\"].str.split(\" \").apply(set).apply(len)\n",
    "df_by_book = add_sectarian_label(df_by_book)\n",
    "composition_to_book = generate_composition_to_book()\n",
    "df_by_book_by_comp = pd.merge(df_by_book, composition_to_book, on=\"book\", how=\"inner\")\n",
    "df_by_book_w_composition = pd.merge(df_by_book, df_by_book_by_comp[[\"book\", \"composition\"]], on=\"book\",\n",
    "                                    how=\"left\").drop_duplicates().reset_index()\n",
    "df_by_book_w_composition[\"index\"] = list(range(df_by_book_w_composition.shape[0]))\n",
    "df_by_book_w_composition = df_by_book_w_composition.set_index(\"index\")\n",
    "df_by_book = df_by_book_w_composition\n",
    "\n",
    "df_by_book = df_by_book[df_by_book[\"unique_words\"] > 10].sort_values(\n",
    "    by=\"unique_words\")  #removing noise from very noisy scrolls\n",
    "df_by_book\n",
    "\n"
   ],
   "metadata": {
    "collapsed": false,
    "ExecuteTime": {
     "end_time": "2024-05-16T12:45:02.692244Z",
     "start_time": "2024-05-16T12:44:58.550494Z"
    }
   },
   "execution_count": 71
  },
  {
   "cell_type": "code",
   "outputs": [
    {
     "data": {
      "text/plain": "[' הודענו בצאתנו לפני יהוה אלוהינו את כול החטאות אשר יעשו בשמים ובארץ ובאור ובחושך ובכול . והיו אדם ואשתו מתאבלים על הבל ארבע שבועות . ובארבעה לשבוע החמישי שמחו וידע אדם שנית את אשתו ותלד לו בן ויקרא את שמו שת כיא אמר שת לנו יהוה זרע בארץ אחר תחת הבל כיא הרגו קין . בשבוע הששי הוליד את אזורה בתו . ויקח קין את אחותו און לו לאשה ותלד לו את חנוך בקץ היובל הרביעי . ובשנת אחת לשבוע הריאשון ליובל החמישי נבנו הבתים בארץ . ויבן קין עיר ויקרא את שמה כמו שם בנו חנוך . ואדם ידע את חוה אשתו ותלד עוד תשעה בנים ובשבוע החמישי . לקח אנוש את אחותו נועם לו לאשה ותלד לו בן בשנה השלישית לשבוע החמישי ויקרא שמו קינן . ובקץ היובל השמיני לקח לו קינן אשה את אחותו מהללת לאשה . ותלד לו בן ביובל התשיעי בשבוע הריאשון בשלושה לשבוע . הרביעי ליובל הזה ותלד לו בן בשבוע החמישי בשנה הרביעית ליובל ויקרא את שמו חנוך זה ריאשון . ויכתוב בספר אותות השמים כחוק חודשיהמה למען ידעו בני אדם תקופות השנים כחוקות לכול חודשיהמה . ריאשון הואה כתב תעודה ויעד בבני אדם בדורות הארץ שבועות היובלים . ריאשון נקבר באדמה ויחסרו לו שבעים שנה מאלף השנים כיא אלף השנים יום אחד בתעודת השמים . לכן נכתב על עץ הדעת כיא ביום אכלכם ממנו תמותו . על כן לא כלה את שני היום הזה כיא ימות בו במלא היובל הזה . הומת קין אחריו בשנה ההיאה ויפול ביתו עליו וימות בביתו .ויומת באבניו כיא  . להמה בנים ואלה הנפילים וירב חמס בארץ וכול בשר השחית דרכו מאדם עד בהמה ועד חיה ועד עוף ועד כול הרומש על הארץ וכולם השחיתו דרכם וחקתם ויחלו לאכול איש את רעהו וירב חמס בארץ וכול         .  וישם מדמו על בשר הקרבן אשר על המזבח   וכל עולותהם יעל על המזבח   ותעל מנחתם וקורבנם לרצון לפני יהוה אלהיו  . ו  עם תרח אביו בחרן שני שבועי שנים . ובשבוע הששי בחמשה בו ישב אברם בלילה בראש החודש השביעי להביט אל הכוכבים מערב עד בקר לראות מה מעשה השנה בגשמים . ויהי הואה יושב לבדו ומביט ויבוא דבר בלבו ויאמר כול אותות הכוכבים  .           ויהי בשבעה לשבוע הששי וידבר עם אביו ויגד לו כיא הוא יוצא מחרן ללכת ארצה כנען לראותה וישוב אליו . ויאמר לו תרח אביו לך בשלום אל עולם יישיר דרככה ויהוה עמכה וישמרכה מכול רע ולא ימשול בכה כול בני אדם לעשותכה רע  . ונקב  על  .            אברם         .  עמה   ה   ל  .  ויו   פר א   ל  . ']"
     },
     "execution_count": 75,
     "metadata": {},
     "output_type": "execute_result"
    }
   ],
   "source": [
    "df_by_book[df_by_book[\"book\"] == \"11Q12\"][\"text\"].to_list()"
   ],
   "metadata": {
    "collapsed": false,
    "ExecuteTime": {
     "end_time": "2024-05-16T12:57:48.986826Z",
     "start_time": "2024-05-16T12:57:48.949856Z"
    }
   },
   "execution_count": 75
  },
  {
   "cell_type": "markdown",
   "metadata": {},
   "source": [
    "### Detailed Workflow\n",
    "The function pre_process_corupus steps:\n",
    "\n",
    "**Step 1: Document Level Preprocessing**\n",
    "Each document is initially processed to:\n",
    "- Remove specific characters (like slashes) that might not be relevant for analysis.\n",
    "- Normalize spaces to ensure consistent spacing between words.\n",
    "\n",
    "**Step 2: Word Level Processing**\n",
    "For each word in a document:\n",
    "- Stop Word Removal: Optional removal of stop words to reduce dimensionality and focus on meaningful words.\n",
    "- Final Letter Replacement: The raw data is without the final letter (like ף), im adding those final letters.\n",
    "- Non-Hebrew Character Filtering: Removes characters that are not part of a defined set of allowed Hebrew characters. \n",
    "- Single character removal: all single characters are removed.\n",
    "- Remove end of sentence \".\"."
   ]
  },
  {
   "cell_type": "code",
   "execution_count": 75,
   "metadata": {
    "ExecuteTime": {
     "end_time": "2024-05-02T14:02:08.504330Z",
     "start_time": "2024-05-02T14:02:08.413130Z"
    },
    "collapsed": false,
    "execution": {
     "iopub.execute_input": "2024-05-10T10:35:28.721065Z",
     "iopub.status.busy": "2024-05-10T10:35:28.720525Z",
     "iopub.status.idle": "2024-05-10T10:35:28.762087Z",
     "shell.execute_reply": "2024-05-10T10:35:28.760461Z",
     "shell.execute_reply.started": "2024-05-10T10:35:28.721036Z"
    }
   },
   "outputs": [],
   "source": [
    "df_by_book.to_csv(\"data/full_data_nonbib_01_05_24.csv\", index=False)"
   ]
  },
  {
   "cell_type": "code",
   "execution_count": 64,
   "metadata": {
    "execution": {
     "iopub.execute_input": "2024-05-10T10:33:44.287916Z",
     "iopub.status.busy": "2024-05-10T10:33:44.287242Z",
     "iopub.status.idle": "2024-05-10T10:33:44.310059Z",
     "shell.execute_reply": "2024-05-10T10:33:44.307511Z",
     "shell.execute_reply.started": "2024-05-10T10:33:44.287872Z"
    }
   },
   "outputs": [
    {
     "data": {
      "text/html": [
       "<div>\n",
       "<style scoped>\n",
       "    .dataframe tbody tr th:only-of-type {\n",
       "        vertical-align: middle;\n",
       "    }\n",
       "\n",
       "    .dataframe tbody tr th {\n",
       "        vertical-align: top;\n",
       "    }\n",
       "\n",
       "    .dataframe thead th {\n",
       "        text-align: right;\n",
       "    }\n",
       "</style>\n",
       "<table border=\"1\" class=\"dataframe\">\n",
       "  <thead>\n",
       "    <tr style=\"text-align: right;\">\n",
       "      <th></th>\n",
       "      <th>book</th>\n",
       "      <th>text</th>\n",
       "      <th>label</th>\n",
       "      <th>section</th>\n",
       "      <th>processed_text</th>\n",
       "      <th>lemmatized_text</th>\n",
       "    </tr>\n",
       "    <tr>\n",
       "      <th>index</th>\n",
       "      <th></th>\n",
       "      <th></th>\n",
       "      <th></th>\n",
       "      <th></th>\n",
       "      <th></th>\n",
       "      <th></th>\n",
       "    </tr>\n",
       "  </thead>\n",
       "  <tbody>\n",
       "    <tr>\n",
       "      <th>0</th>\n",
       "      <td>11Q11</td>\n",
       "      <td>וה    כב    הא    ם ע    דם       סוכות      ...</td>\n",
       "      <td>nonbib</td>\n",
       "      <td>NaN</td>\n",
       "      <td>וה כב הא דם סוכות לם יך שבעים למים אחת וריק וב...</td>\n",
       "      <td>וה כב הא דם סוכה לם י שבעים מים אחד ריק בוכה ש...</td>\n",
       "    </tr>\n",
       "    <tr>\n",
       "      <th>1</th>\n",
       "      <td>11Q12</td>\n",
       "      <td>הודענו בצאתנו  לפני יהוה אלוהינו את כול החטאו...</td>\n",
       "      <td>nonbib</td>\n",
       "      <td>non_sectarian_texts</td>\n",
       "      <td>הודענו בצאתנו יהוה אלוהינו כול החטאות יעשו בשמ...</td>\n",
       "      <td>הודיע יציאה יהוה אלוהים כול חטאת נעשה שמיים אר...</td>\n",
       "    </tr>\n",
       "    <tr>\n",
       "      <th>2</th>\n",
       "      <td>11Q13</td>\n",
       "      <td>שון מושה כיא          ש  .                 מ ...</td>\n",
       "      <td>nonbib</td>\n",
       "      <td>NaN</td>\n",
       "      <td>שון מושה כיא ואשר אמר בשנת היובל הזואת תשובו א...</td>\n",
       "      <td>שון משה כיא אשר אמר שנה יובל הזואת שב איש אחוז...</td>\n",
       "    </tr>\n",
       "    <tr>\n",
       "      <th>3</th>\n",
       "      <td>11Q14</td>\n",
       "      <td>בום   ליו   צמח דויד     ישעיהו הנביא ונוקפו ...</td>\n",
       "      <td>nonbib</td>\n",
       "      <td>NaN</td>\n",
       "      <td>בום ליו צמח דויד ישעיהו הנביא ונוקפו סבכי היער...</td>\n",
       "      <td>בום יו צמח דוד ישעיהו נביא ונוקפו סבך יער ברזל...</td>\n",
       "    </tr>\n",
       "    <tr>\n",
       "      <th>4</th>\n",
       "      <td>11Q17</td>\n",
       "      <td>ים מ    האור מ    סדרותיו  סדרותיו מבנית    ש...</td>\n",
       "      <td>nonbib</td>\n",
       "      <td>NaN</td>\n",
       "      <td>ים האור סדרותיו סדרותיו מבנית שי קודש ישמיעו ת...</td>\n",
       "      <td>ים אור סדרה סדרה מבני שי קודש השמיע תהליך אלוה...</td>\n",
       "    </tr>\n",
       "    <tr>\n",
       "      <th>...</th>\n",
       "      <td>...</td>\n",
       "      <td>...</td>\n",
       "      <td>...</td>\n",
       "      <td>...</td>\n",
       "      <td>...</td>\n",
       "      <td>...</td>\n",
       "    </tr>\n",
       "    <tr>\n",
       "      <th>378</th>\n",
       "      <td>PAM43697</td>\n",
       "      <td>חרו מאד    .   ם שכל      בם  ואתן ...</td>\n",
       "      <td>nonbib</td>\n",
       "      <td>NaN</td>\n",
       "      <td>חרו שכל בם ואתן ולא תמצא ואל ישכון ומשפטיו רו ...</td>\n",
       "      <td>חרו שכל בי אני לא נמצא אל ישכון משפט רו טהרת צ...</td>\n",
       "    </tr>\n",
       "    <tr>\n",
       "      <th>379</th>\n",
       "      <td>PAM43698</td>\n",
       "      <td>חנו היום     .   תה ת          ה ופקדו ראושי ...</td>\n",
       "      <td>nonbib</td>\n",
       "      <td>NaN</td>\n",
       "      <td>חנו היום תה ופקדו ראושי ונקח וב ריח ניחוח וענה...</td>\n",
       "      <td>חנו יום תה פקד ראושי ונקח ב ריח ניחוח ענה אמר ...</td>\n",
       "    </tr>\n",
       "    <tr>\n",
       "      <th>380</th>\n",
       "      <td>PAM43699</td>\n",
       "      <td>אל יו      ם יאר    .   לוקח  .     ל נ  ק   ...</td>\n",
       "      <td>nonbib</td>\n",
       "      <td>NaN</td>\n",
       "      <td>יו יאר לוקח ביום שר משפטים ומקול החזיקו הכנעך ...</td>\n",
       "      <td>יו יאר לוקח יום שר משפט צום החזיק הכנעה יעקוב ...</td>\n",
       "    </tr>\n",
       "    <tr>\n",
       "      <th>381</th>\n",
       "      <td>PAM43700</td>\n",
       "      <td>שחרע  .         לב על   קשה  .     ל ברית ...</td>\n",
       "      <td>nonbib</td>\n",
       "      <td>NaN</td>\n",
       "      <td>שחרע לב קשה ברית מפינו לילה אתי יעקוב אר עולמי...</td>\n",
       "      <td>שחרע לב קשה ברית פה לילה את יעקוב אר עולם אח ר...</td>\n",
       "    </tr>\n",
       "    <tr>\n",
       "      <th>382</th>\n",
       "      <td>PAM44102</td>\n",
       "      <td>שכנו      כו א  .          פריה  .   ...</td>\n",
       "      <td>nonbib</td>\n",
       "      <td>NaN</td>\n",
       "      <td>שכנו כו פריה ודברי וכי תת וא ועי דעת יעשה באת ...</td>\n",
       "      <td>שכן כו פרי דבר כי תת וא עי דעת נעשה את מע חבר ...</td>\n",
       "    </tr>\n",
       "  </tbody>\n",
       "</table>\n",
       "<p>383 rows × 6 columns</p>\n",
       "</div>"
      ],
      "text/plain": [
       "           book                                               text   label  \\\n",
       "index                                                                        \n",
       "0         11Q11   וה    כב    הא    ם ע    דם       סוכות      ...  nonbib   \n",
       "1         11Q12   הודענו בצאתנו  לפני יהוה אלוהינו את כול החטאו...  nonbib   \n",
       "2         11Q13   שון מושה כיא          ש  .                 מ ...  nonbib   \n",
       "3         11Q14   בום   ליו   צמח דויד     ישעיהו הנביא ונוקפו ...  nonbib   \n",
       "4         11Q17   ים מ    האור מ    סדרותיו  סדרותיו מבנית    ש...  nonbib   \n",
       "...         ...                                                ...     ...   \n",
       "378    PAM43697             חרו מאד    .   ם שכל      בם  ואתן ...  nonbib   \n",
       "379    PAM43698   חנו היום     .   תה ת          ה ופקדו ראושי ...  nonbib   \n",
       "380    PAM43699   אל יו      ם יאר    .   לוקח  .     ל נ  ק   ...  nonbib   \n",
       "381    PAM43700      שחרע  .         לב על   קשה  .     ל ברית ...  nonbib   \n",
       "382    PAM44102           שכנו      כו א  .          פריה  .   ...  nonbib   \n",
       "\n",
       "                   section                                     processed_text  \\\n",
       "index                                                                           \n",
       "0                      NaN  וה כב הא דם סוכות לם יך שבעים למים אחת וריק וב...   \n",
       "1      non_sectarian_texts  הודענו בצאתנו יהוה אלוהינו כול החטאות יעשו בשמ...   \n",
       "2                      NaN  שון מושה כיא ואשר אמר בשנת היובל הזואת תשובו א...   \n",
       "3                      NaN  בום ליו צמח דויד ישעיהו הנביא ונוקפו סבכי היער...   \n",
       "4                      NaN  ים האור סדרותיו סדרותיו מבנית שי קודש ישמיעו ת...   \n",
       "...                    ...                                                ...   \n",
       "378                    NaN  חרו שכל בם ואתן ולא תמצא ואל ישכון ומשפטיו רו ...   \n",
       "379                    NaN  חנו היום תה ופקדו ראושי ונקח וב ריח ניחוח וענה...   \n",
       "380                    NaN  יו יאר לוקח ביום שר משפטים ומקול החזיקו הכנעך ...   \n",
       "381                    NaN  שחרע לב קשה ברית מפינו לילה אתי יעקוב אר עולמי...   \n",
       "382                    NaN  שכנו כו פריה ודברי וכי תת וא ועי דעת יעשה באת ...   \n",
       "\n",
       "                                         lemmatized_text  \n",
       "index                                                     \n",
       "0      וה כב הא דם סוכה לם י שבעים מים אחד ריק בוכה ש...  \n",
       "1      הודיע יציאה יהוה אלוהים כול חטאת נעשה שמיים אר...  \n",
       "2      שון משה כיא אשר אמר שנה יובל הזואת שב איש אחוז...  \n",
       "3      בום יו צמח דוד ישעיהו נביא ונוקפו סבך יער ברזל...  \n",
       "4      ים אור סדרה סדרה מבני שי קודש השמיע תהליך אלוה...  \n",
       "...                                                  ...  \n",
       "378    חרו שכל בי אני לא נמצא אל ישכון משפט רו טהרת צ...  \n",
       "379    חנו יום תה פקד ראושי ונקח ב ריח ניחוח ענה אמר ...  \n",
       "380    יו יאר לוקח יום שר משפט צום החזיק הכנעה יעקוב ...  \n",
       "381    שחרע לב קשה ברית פה לילה את יעקוב אר עולם אח ר...  \n",
       "382    שכן כו פרי דבר כי תת וא עי דעת נעשה את מע חבר ...  \n",
       "\n",
       "[383 rows x 6 columns]"
      ]
     },
     "execution_count": 64,
     "metadata": {},
     "output_type": "execute_result"
    }
   ],
   "source": [
    "df_by_book_w_composition"
   ]
  },
  {
   "cell_type": "code",
   "execution_count": 63,
   "metadata": {
    "execution": {
     "iopub.execute_input": "2024-05-10T10:33:31.448964Z",
     "iopub.status.busy": "2024-05-10T10:33:31.448337Z",
     "iopub.status.idle": "2024-05-10T10:33:31.550271Z",
     "shell.execute_reply": "2024-05-10T10:33:31.548472Z",
     "shell.execute_reply.started": "2024-05-10T10:33:31.448933Z"
    }
   },
   "outputs": [
    {
     "data": {
      "text/html": [
       "<div>\n",
       "<style scoped>\n",
       "    .dataframe tbody tr th:only-of-type {\n",
       "        vertical-align: middle;\n",
       "    }\n",
       "\n",
       "    .dataframe tbody tr th {\n",
       "        vertical-align: top;\n",
       "    }\n",
       "\n",
       "    .dataframe thead th {\n",
       "        text-align: right;\n",
       "    }\n",
       "</style>\n",
       "<table border=\"1\" class=\"dataframe\">\n",
       "  <thead>\n",
       "    <tr style=\"text-align: right;\">\n",
       "      <th></th>\n",
       "      <th>book</th>\n",
       "      <th>text</th>\n",
       "      <th>label</th>\n",
       "      <th>section</th>\n",
       "      <th>processed_text</th>\n",
       "      <th>lemmatized_text</th>\n",
       "    </tr>\n",
       "  </thead>\n",
       "  <tbody>\n",
       "    <tr>\n",
       "      <th>0</th>\n",
       "      <td>11Q11</td>\n",
       "      <td>וה    כב    הא    ם ע    דם       סוכות      ...</td>\n",
       "      <td>nonbib</td>\n",
       "      <td>NaN</td>\n",
       "      <td>וה כב הא דם סוכות לם יך שבעים למים אחת וריק וב...</td>\n",
       "      <td>וה כב הא דם סוכה לם י שבעים מים אחד ריק בוכה ש...</td>\n",
       "    </tr>\n",
       "    <tr>\n",
       "      <th>1</th>\n",
       "      <td>11Q12</td>\n",
       "      <td>הודענו בצאתנו  לפני יהוה אלוהינו את כול החטאו...</td>\n",
       "      <td>nonbib</td>\n",
       "      <td>non_sectarian_texts</td>\n",
       "      <td>הודענו בצאתנו יהוה אלוהינו כול החטאות יעשו בשמ...</td>\n",
       "      <td>הודיע יציאה יהוה אלוהים כול חטאת נעשה שמיים אר...</td>\n",
       "    </tr>\n",
       "    <tr>\n",
       "      <th>2</th>\n",
       "      <td>11Q13</td>\n",
       "      <td>שון מושה כיא          ש  .                 מ ...</td>\n",
       "      <td>nonbib</td>\n",
       "      <td>NaN</td>\n",
       "      <td>שון מושה כיא ואשר אמר בשנת היובל הזואת תשובו א...</td>\n",
       "      <td>שון משה כיא אשר אמר שנה יובל הזואת שב איש אחוז...</td>\n",
       "    </tr>\n",
       "    <tr>\n",
       "      <th>3</th>\n",
       "      <td>11Q14</td>\n",
       "      <td>בום   ליו   צמח דויד     ישעיהו הנביא ונוקפו ...</td>\n",
       "      <td>nonbib</td>\n",
       "      <td>NaN</td>\n",
       "      <td>בום ליו צמח דויד ישעיהו הנביא ונוקפו סבכי היער...</td>\n",
       "      <td>בום יו צמח דוד ישעיהו נביא ונוקפו סבך יער ברזל...</td>\n",
       "    </tr>\n",
       "    <tr>\n",
       "      <th>4</th>\n",
       "      <td>11Q17</td>\n",
       "      <td>ים מ    האור מ    סדרותיו  סדרותיו מבנית    ש...</td>\n",
       "      <td>nonbib</td>\n",
       "      <td>NaN</td>\n",
       "      <td>ים האור סדרותיו סדרותיו מבנית שי קודש ישמיעו ת...</td>\n",
       "      <td>ים אור סדרה סדרה מבני שי קודש השמיע תהליך אלוה...</td>\n",
       "    </tr>\n",
       "    <tr>\n",
       "      <th>...</th>\n",
       "      <td>...</td>\n",
       "      <td>...</td>\n",
       "      <td>...</td>\n",
       "      <td>...</td>\n",
       "      <td>...</td>\n",
       "      <td>...</td>\n",
       "    </tr>\n",
       "    <tr>\n",
       "      <th>378</th>\n",
       "      <td>PAM43697</td>\n",
       "      <td>חרו מאד    .   ם שכל      בם  ואתן ...</td>\n",
       "      <td>nonbib</td>\n",
       "      <td>NaN</td>\n",
       "      <td>חרו שכל בם ואתן ולא תמצא ואל ישכון ומשפטיו רו ...</td>\n",
       "      <td>חרו שכל בי אני לא נמצא אל ישכון משפט רו טהרת צ...</td>\n",
       "    </tr>\n",
       "    <tr>\n",
       "      <th>379</th>\n",
       "      <td>PAM43698</td>\n",
       "      <td>חנו היום     .   תה ת          ה ופקדו ראושי ...</td>\n",
       "      <td>nonbib</td>\n",
       "      <td>NaN</td>\n",
       "      <td>חנו היום תה ופקדו ראושי ונקח וב ריח ניחוח וענה...</td>\n",
       "      <td>חנו יום תה פקד ראושי ונקח ב ריח ניחוח ענה אמר ...</td>\n",
       "    </tr>\n",
       "    <tr>\n",
       "      <th>380</th>\n",
       "      <td>PAM43699</td>\n",
       "      <td>אל יו      ם יאר    .   לוקח  .     ל נ  ק   ...</td>\n",
       "      <td>nonbib</td>\n",
       "      <td>NaN</td>\n",
       "      <td>יו יאר לוקח ביום שר משפטים ומקול החזיקו הכנעך ...</td>\n",
       "      <td>יו יאר לוקח יום שר משפט צום החזיק הכנעה יעקוב ...</td>\n",
       "    </tr>\n",
       "    <tr>\n",
       "      <th>381</th>\n",
       "      <td>PAM43700</td>\n",
       "      <td>שחרע  .         לב על   קשה  .     ל ברית ...</td>\n",
       "      <td>nonbib</td>\n",
       "      <td>NaN</td>\n",
       "      <td>שחרע לב קשה ברית מפינו לילה אתי יעקוב אר עולמי...</td>\n",
       "      <td>שחרע לב קשה ברית פה לילה את יעקוב אר עולם אח ר...</td>\n",
       "    </tr>\n",
       "    <tr>\n",
       "      <th>382</th>\n",
       "      <td>PAM44102</td>\n",
       "      <td>שכנו      כו א  .          פריה  .   ...</td>\n",
       "      <td>nonbib</td>\n",
       "      <td>NaN</td>\n",
       "      <td>שכנו כו פריה ודברי וכי תת וא ועי דעת יעשה באת ...</td>\n",
       "      <td>שכן כו פרי דבר כי תת וא עי דעת נעשה את מע חבר ...</td>\n",
       "    </tr>\n",
       "  </tbody>\n",
       "</table>\n",
       "<p>383 rows × 6 columns</p>\n",
       "</div>"
      ],
      "text/plain": [
       "         book                                               text   label  \\\n",
       "0       11Q11   וה    כב    הא    ם ע    דם       סוכות      ...  nonbib   \n",
       "1       11Q12   הודענו בצאתנו  לפני יהוה אלוהינו את כול החטאו...  nonbib   \n",
       "2       11Q13   שון מושה כיא          ש  .                 מ ...  nonbib   \n",
       "3       11Q14   בום   ליו   צמח דויד     ישעיהו הנביא ונוקפו ...  nonbib   \n",
       "4       11Q17   ים מ    האור מ    סדרותיו  סדרותיו מבנית    ש...  nonbib   \n",
       "..        ...                                                ...     ...   \n",
       "378  PAM43697             חרו מאד    .   ם שכל      בם  ואתן ...  nonbib   \n",
       "379  PAM43698   חנו היום     .   תה ת          ה ופקדו ראושי ...  nonbib   \n",
       "380  PAM43699   אל יו      ם יאר    .   לוקח  .     ל נ  ק   ...  nonbib   \n",
       "381  PAM43700      שחרע  .         לב על   קשה  .     ל ברית ...  nonbib   \n",
       "382  PAM44102           שכנו      כו א  .          פריה  .   ...  nonbib   \n",
       "\n",
       "                 section                                     processed_text  \\\n",
       "0                    NaN  וה כב הא דם סוכות לם יך שבעים למים אחת וריק וב...   \n",
       "1    non_sectarian_texts  הודענו בצאתנו יהוה אלוהינו כול החטאות יעשו בשמ...   \n",
       "2                    NaN  שון מושה כיא ואשר אמר בשנת היובל הזואת תשובו א...   \n",
       "3                    NaN  בום ליו צמח דויד ישעיהו הנביא ונוקפו סבכי היער...   \n",
       "4                    NaN  ים האור סדרותיו סדרותיו מבנית שי קודש ישמיעו ת...   \n",
       "..                   ...                                                ...   \n",
       "378                  NaN  חרו שכל בם ואתן ולא תמצא ואל ישכון ומשפטיו רו ...   \n",
       "379                  NaN  חנו היום תה ופקדו ראושי ונקח וב ריח ניחוח וענה...   \n",
       "380                  NaN  יו יאר לוקח ביום שר משפטים ומקול החזיקו הכנעך ...   \n",
       "381                  NaN  שחרע לב קשה ברית מפינו לילה אתי יעקוב אר עולמי...   \n",
       "382                  NaN  שכנו כו פריה ודברי וכי תת וא ועי דעת יעשה באת ...   \n",
       "\n",
       "                                       lemmatized_text  \n",
       "0    וה כב הא דם סוכה לם י שבעים מים אחד ריק בוכה ש...  \n",
       "1    הודיע יציאה יהוה אלוהים כול חטאת נעשה שמיים אר...  \n",
       "2    שון משה כיא אשר אמר שנה יובל הזואת שב איש אחוז...  \n",
       "3    בום יו צמח דוד ישעיהו נביא ונוקפו סבך יער ברזל...  \n",
       "4    ים אור סדרה סדרה מבני שי קודש השמיע תהליך אלוה...  \n",
       "..                                                 ...  \n",
       "378  חרו שכל בי אני לא נמצא אל ישכון משפט רו טהרת צ...  \n",
       "379  חנו יום תה פקד ראושי ונקח ב ריח ניחוח ענה אמר ...  \n",
       "380  יו יאר לוקח יום שר משפט צום החזיק הכנעה יעקוב ...  \n",
       "381  שחרע לב קשה ברית פה לילה את יעקוב אר עולם אח ר...  \n",
       "382  שכן כו פרי דבר כי תת וא עי דעת נעשה את מע חבר ...  \n",
       "\n",
       "[383 rows x 6 columns]"
      ]
     },
     "execution_count": 63,
     "metadata": {},
     "output_type": "execute_result"
    }
   ],
   "source": [
    "df_by_book = pd.read_csv(\"data/full_data_nonbib_01_05_24.csv\")\n",
    "df_by_book\n"
   ]
  },
  {
   "cell_type": "code",
   "outputs": [
    {
     "data": {
      "text/plain": "['נפלואתיכה  אין  פה  ו תוצא  ל עולמי  ישמיעו  ב המון  רנה  ארננה  ל  .  .  מרות  עשוקים  ו מי  רחמיו  על  אביוני  ה  ו מי  מתכן  ו מי  מתכן  גבורה  עד  עולם  .  מי  חושב  ערומים  .  ו מי  גבורתכה  .  ם    כה  ו תעזור  נדיבי  כי  אתה  מנחם  אבל  נגע  ו ב ברכות  כה  אלי          ל      . מ עפר  עמדה  ל כול  שני  עולם  כ לבך  כול  חיתם          שם  ו מ    ם  כ רוחם      ו  איש  ל פי  שכלו  ו   פל  מלכותו  .  מי  עשה  כול  אלה  .      תם  אלך  תמיד  ו ב צדק  תשימני  ל ל פניך        ם  תהו  ו יצר  חמר  לה  ו אתה  נכבדתה  מ כול  אלים  קודשך  ו כ אשר  ב          ו ל הלל  שמך  תביאני  ב עדת  קדושים  ל  .  ו מ שפלת  מדה  מ      מגולה  ב לוא  משפט  מ רוח    בים  אוכלת  בשר  שנאיה  ב לוא  מ רוח  ת  ב יבישה  ו מכשלת  ב לוא  משפט  מ רוח  פוגעות  פתע  פתאום  ב לוא  ברית  מ רוח  ב לוא  משפט  מ רוח  דורשת    ות    ש          מתרמה  ב ב לוא  מצוה  מ רוח  כו  מ        ע  ב נגיעי  בשר  .  ברוך  אתה  אל  ה דעות  מ נסתרות  אשר      שר  לא  השיגום  ב מצרף      ף  ו מ משפט  קצי  מחשבות  רשעה  פעמים  רבות  עוון  ו מ משפט  אח            עבדך  מ כול  פשעיו  ב המון  רחמיך  כ אשר  דברתה  ב יד  מושה  עבדך  ל שאת  עוון  ו חטאה  ו ל כפר  בעד  פשע  ו מעל  .  מוסדי  הרים  ו אש  בקעה  ב שאול  תחתיה  ו את  הנו  ב משפטיך  .  תה  ל עובדיך  ב אמונה  ל היות  זרעם  ל פניך  כול  ה ימים  .  ו שמותיהם  הקימותה  פשע  ו ל השליך  כול  עוונותם  ו ל הנחילם  ב כול  כבוד  אדם  ל רוב  ימים  .  ברוך  אתה  אל  ה רחמים  מ רוחות  אשר  נתתה  בי  .  ו אמצאה  מענה  לשון  ל ספר  צדקותיך  ו ארוך  אפים  ך  ו מעשי  ימין  עוזך  ו ל הודות  על  פשעי  ראשונים  ו ל התנפל  ו ל התחנן  על  מעשי  ו נעוית  לבבי  .  כי  ב נדה  התגוללתי  ו מ סוד  רמה  יצאתי  ו לא  נלויתי  כי  לך  אתה  ה צדקה  ו ל שמך  ה ברכה  ל עולם  .  כ צדקתך  ו פדה  תמו  רשעים  .  ו אני  הובינותי  כי  את  אשר  בחרתה  הכינותה  דרכו  ו ב שכל  תחשכהו  מ חטוא  לך  .  ו ל     ב  לו  ענותו  ב יסוריך  ו ב נסוייך  חזקתה  לבו  .  עבדך  מ חטוא  לך  ו מ כשול  ב כול  דברי  רצונך  .  חזק  מתניו  ל עמוד  על  רוחות  ו ל התהלך  ב כול  אשר  אהבתה  ו ל מאוס  ב כול  אשר  שנאתה  ו ל עשות  ה טוב  ב עיניך  .  ממשלתם  ב תכמו  כי  רוח  בשר  עבדך  .  ברוך  אתה  אל  עליון  אשר  הניפותה  רוח  קודשך  על  עבדך  ו תטהר  מ    ת    לבו  אנוש  ו אל  כול  ברית  אדם  אביט  ה  ימצאוה  וב  משיגיה  ו אוהביה    יך  ל עולמי  עד  . .  מזמור  ל משכיל  ל התנפל  ל פני  אל  מעשי  אל  ו ל הבין  פותאים    י  עולם    ת  ו ל הבין  אנוש  ב  בשר  ו סוד  רוחי  התהלכו  .  ברוך  אתה  אדוני      ר  רוח  בשר  בב    ב כוח  גבורתך  ו המון  חסדך  עם  רוב  טובך  ו כוס  חמתך  ו קנאת  משפטיך  ל אין  חקר  .  כול    ת  כול  בינה  ו מוסר  ו רזי  מחשבת  ו ראשית  הכינותה  קודש  מ קדם  עולם  ו ל עולמי  עד  .  אתה  הואלתה  קדושים  ו ב רזי  פלאך  הודעתני  ב עבור  כבודך  ו ב עומק  מעין  בינתך  לא  אתה  גליתה  דרכי  אמת  ו מעשי  רע  חוכמה  ו אולת  צדק  מעשיהם  אמת  ה  ו אולת  .  כול  התהלכו  ם  ו חסדי  עולם  ל כול  קציהם  ל שלום  ו שחת  .  כול  משפטיהם  כבוד  עולם  ו חמדה  ו שמחת  עד  ל מעשה    שים  ל ע  .  ו אלה  אשר  הכינותה  מ קדם  עולם  ל שפוט  בם  את  כול  מעשיך  ב טרם  בראתם  עם  צבא  רוחיך  ו עדת  אלים  עם  רקיע  קודשך  ו כול  צבאותיו  עם  ה ארץ  ו כול  צאצאיה  ב ימים  ו ב תהומות  כ כול  מחשבותם  ל כול  קצי  עולם  ו פקודת  עד  .  כי  אתה  הכינותמה  מ קדם  עולם  ו מעשה  בם  ב עבור  יספרו  כבודך  ב כול  ממשלתך  כי  הראיתם  את  אשר  לא  י  אשר  קדם  ו ל ברוא  חדשות  ל הפר  קימי  קדם  ו ל הקים  נהיות  עולם  .  כי  אתה  הכינותמה  ו אתה  תהיה  ל עולמי  עד  .  ו ב רזי  שכלכה  פלגתה  כול  אלה  ל הודיע  כבודך  .  כי  מה  היא  רוח  בשר  ל הבין  ב כול  אלה  ו ל השכיל  ב ס    גדול .  ו מה  ילוד  אשה  ב כול  גדוליך  ה נוראים  .  ו הוא  מבנה  עפר  ו מגבל  מים  .  אשמה  ו חטאה  סודו  ערות  קלון  ו מקור  ה נדה  .  ו רוח  נעוה  משלה  בו  .  ו אם  ירשע  יהיה  ל אות  עד  עולם  ו מופת  דורות  רחוקים  ל בשר  .  רק  ב טובך  יצדק  איש  ו ב רוב  רחמיך  ב הדרך  תפארנו  ו תמשילנו  ב רוב  עדנים  עם  שלום  עולם  ו אורך  ימים  .  כי  ו דברך  לא  ישוב  אחור  .  ו אני  עבדך  ידעתי  ב רוח  אשר  נתתה  בי  ו צדק  כול  מעשיך  .  ו דברך  לא  ישוב  אחור  .  ו כול  קציך  מועדים  ל  סדורים  ל חפציהם  .  ו אדעה  כי  ל  ו רשע  ש      ק  ל התבונן  רוחיך  ו ל    הל  .  תעודותם  ב עמך  ו היה  ו אתה  גליתה  אוזננו  ל רזי  פלא  אנשי  אמת  ו בחירי  צדק  דורשי  שכל  ו מבקשי  בינה  ב אוהבי  רחמים  ו ענוי  רוח  מזוקקי  עוני  ו ברורי  מצרף  מתאפקים  עד  ל עת  משפטיכה  ו צופים  ל ישועתך  .  ו אתה  ו חזקתה  חוקיך  ב ידם  ל עשות  משפט  תבל  ו ל נחול  ב כול  צדקותיך  ו ל היות  ב סוד  קודש  ל דורות  עולם  .  ו כול      שי  מעשיהם  עם  תענוג  אנשי  חזונכה  .  ברוך  אתה  אדוני  ה נותן  ב לב  עבדך  בינה  ל השכיל  ב כול  אלה  ו ל התבונן  ב  ו ל התאפק  על  עלילות  רשע  ו ל ברך  ב צדק  כול  בוחרי  רצונך  ל בחור  ב כול  אשר  אהבתה  ו ל תעב  את  כול  אשר  שנאתה  .  ו תשכל  עבדך  ב  גורלות  אנוש  .  כי  ל פי  רוחות  תפילם  בין  טוב  ל רשע  ו תכן      תם  פעולתם  .  ו אני  ידעתי  מ בינתך  כי  ב רצונכה  ב איש  הרביתה  נחלתו  ב רוח  קודשך  .  ו כן  תגישנו  ל בינתך  .  ו ל פי  קורבו  קנאתו  על  כול  פועלי  רשע  ו אנשי  רמיה  .  כי  כול  קרוביך  לא  ימרו  פיך  ו כול  יודעיך  לא  ישנו  דבריך  .  כי  אתה  צדיק  ו אמת  כול  בחיריך  .  ו כול  עולה  ו רשע  תשמיד  ל עד  .  ו נגלתה  צדקתך  ל עיני  כול  מעשיך  .  ו אני  ידעתי  ב רוב  טובך  ו ב שבועה  הקימותי  על  נפשי  ל בלתי  חטוא  לך  ו ל בלתי  עשות  מ כול  ה רע  ב עיניך  .  ו כן  הוגשתי  ב יחד  כול  אנשי  סודי  .  ל פי  שכלו  אגישנו  ו כ רוב  נחלתו  אהבנו  .  ו לא  אשא  פני  רע  ו שוחד  רשעה  לא  אכיר  .  ו לא  אמיר  ב הון  אמתך  ו ב שוחד  כול  משפטיך  .  כי  אם  ל פי  איש  אהבנו  ו כ רחקך  אותו  כן  אתעבנו  .  ו לא  אביא  ב סוד  אמתך  כול  שבי  מ בריתך  .  אודך  אדוני  כ גדול  כוחך  ו רוב  נפלאותיך  מ עולם  ו עד  עולם  רב  ה רחמים  ו גדול  ה חסדים  ה סולח  ל שבי  פשע  ו פוקד  עוון  רשעים  .  ב נדבת  לבבם  ו תשנא  עולה  ל עד  .  ו אני  עבדך  חנותני  ב רוח  דעה  ל בחור  ב אמת  ו צדק  ו ל תעב  כול  דרך  עולה  .  ו אהבכה  נדבה  ו ב כול  לב    ך  ו ב משפטך  כי  מ ידך  היתה  זאת  ו ב לוא  רצונך  לוא  יעשה  כול      כה  ימשול  ב ש      שיך  ו תט            כי  אנוש  רק  שב  ל עפרו  הוא  .  ו תכן  ב ש      את  ל      רקיע  על  כנפי  רוח  ו יפל  .  ם  ברוך  אתה  אל  עליון  אשר  ב מעין  גבורתכה  השכלתנו  נו  ו על  מעשי  פלאכה  מה  נשיב  .  כי  גמלתנו  המון  רחמים  ל הפליא  ו ת    לא  יעצרו  כוח  ל דעת  ב כבודכה  ו ל ספר  נפלאותיכה  ל עולם  כי  יהללוכה  ל פי  שכלם  .  ו כ פי  דעתם  ב כבודכה  כי  אתה  פתחתה  כה  ל אין  השבת  .  מ קץ  ל קץ  ישמיעו  ו מועד  ל מועד  יברכו  ב קול  . ו אנחנו  ב יחד  נועדים  גבוריכה ו עם  ידעים  נוסרה  לכה  ו נרננה  ב רוב  רחמיכה  ח  עם  גבוריכה  ו ב הפלא  נספרה  יחד  ב דעת  אל  ו עד  ב עדת  ה  ו צאצאינו  הודעתה  עם  בני  איש  ב תוך  בני  אדם כיא  ב הפלא  מאדה  .  ברוך  אתה  אל  ה רחמים  ב שיר  מזמור  ל משכיל  ד  רנה  .  יאהבו  אותך  כול  ה ימים  .  ו אני  אמת  ו אהבכה  ב נדבה .  ו ב כול  לב  ו ב כול  נפש  בררתי  מ עוון  .  ו על  נפשי  הקימותי  ל בלתי  סור  מ כול  אשר  צויתה  .  ו אחזיקה  על  רבים  מועדים  ל יום  הרגה  ל בלתי  עזוב  מ כול  חוקיך  .  ו אני  ידעתי  ב בינתך  כיא לא  ב יד  בשר  יוכל  ל התם  אדם  דרכו  ו לא  יוכל  אנוש  ל הכין  צעדו  .  ו אדעה  כי  ב ידך  יצר  כול  רוח  ו כול  פעולתו  הכינותה  ב טרם  בראתו  .  ו איכה  יוכל  כול  ל השנות  את  דבריכה  .  רק  אתה  בראתה  צדיק  ו מ רחם  הכינותו  ל מועד  רצון  ל השמר  ב בריתך  ו ל תהלך  ב כול  ו ל הגיש  עליו  ב המון  רחמיך  ו ל פתוח  כול  צרת  נפשו  ל ישועת  עולם  ו שלום  עד  ו אין  מחסור  .  ו תרם  מ בשר  כבודו  .  ו רשעים  בראתה  ל יצר  חרונכה  .  ו מ רחם  הקדשתם  ל יום  הרגה  .  כי  הלכו  ב דרך  לא  טוב  ו ימאסו  ב בריתכה  ו חוקיך  תעבה  נפשם  .  ו לא  רצו  ב כול  אשר  צויתה  ו יבחרו  ב אשר  שנאתה  .  כיא  ל קצי  חרונך  הכינותם  ל עשות  בם  שפטים  גדולים  ל עיני  כול  מעשיך  ו ל היות  ל אות  ו מופת  דורות  עולם  ל דעת  כול  את  כבודך  ו את  כוחך  ה גדול  .  ו מה  אף  הוא  בשר  כי  ישכיל  ב אלה  ו יצר  עפר  איך  יוכל  ל הכין  צעדו  .  אתה  יצרתה  רוח  ו פעולתה  הכינותה  מ עולם  .  ו מ אתך  דרך  כול  חי  .  ו אני  ידעתי  כיא  לא  ישוה  כול  הון  ב אמתך  ו אין  ב תבל  כ מלאכי  קודשך  .  ו אדעה  כי  בם  בחרתה  מ כול  ו ל עד  הם  ישרתוך  .  ו לא  תקבל  שוחד  ל מעשי  רע  ו לא  תקח  כופר  ל עלילות  רשעה  .  כיא  אל  אמת  אתה  ו כול  עולה  תשמיד  ל עד  ו כול  רשעה  לא  תהיה  ל פניך  .  ו אני  ידעתיך  כי  לך  דרך  כול  חי  ו ב רצונך  כול  מעשה  .  ו אדעה  כיא  ל  קודשך  ב    כי  ב .          ם  ו כול  אנשי  מופת  תביא  ב מספר  ו אין  כ רזי  פלאו  ב שמים  ו ב ארץ    ות  ו ב ידך  משפט  כולם    ך        ש  ו אין  ל נגדך  ו מה  נחשב  .  ו כול  איש  מתקדש  בל  יטה  ל אשמה  ל ישר  לבבו  איכה  יבין  ו לא  יעשה  כול  מ בלעדיך  עד  עולם  .  ו מקור  אור  פתחתה  ו ל עצתך  תקראני  ל הלל  קודשך  מ פי  כל  מעשיך  כיא  פעלתה  ל הוחד  עם  צבא  גבורי  עולם  .  ו רוח  עורף  קשה  ל דממה  הואלתה  ל עשות  בם  משפט  ו ל האזין  קול  נכבד  ל מעשי  ו רוח  נעוה  משלה  ב יצר  עפר  ו מ                    ש      יך  מ עפר  צדיק  ו כב    ב רוח  קודשך  אשר  נתתה  בי  .  ו לא  יוכל  אנוש  ל בקש  רוח  קודשך  מלוא  ה שמים  ו ה ארץ  כבודך  מלוא  כול  תבל  .  ו אדעה  כי  ב רצונך  ב איש  הרביתה  נחלתו  ב צדקותיך      ר  אמתך  ב כול  ו משמר  צדק  על  דברך  אשר  הפקדתה  בו  פן  ישגה  מ מצוותיך  ו ל בלתי  כשול  ב כול  מעשיו  .  כי  ב דעתי  ב כול  אלה  אמצאה  מענה  לשון  ל התנפל  ו ל התחנן  תמיד  על  פשעי  ו ל בקש  רוח  בינה  ו ל התחזק  ב רוח  קודשך  ו ל דבוק  ב אמת  בריתך  ו ל עובדך  ב אמת  ו לב  שלם  ו ל אהוב  את  דבר  פיך  .  ברוך  אתה  אדוני  גדול  ה עצה  ו רב  ה עלילליה  אשר  מעשיך  ה כול  .  הנה  הואלתה  ל עשות  בי  רוב  חסד  ו תחונני  ב רוח  רחמיך  ו ב עבור  כבודך  .  לך  אתה  ה צדקה  כי  אתה  עשיתה  את  כול  אלה  .  ו ב דעתי  כי  אתה  רשמתה  רוח  צדיק  ו אני  בחרתי  ל הבר  כפי  כ רצונך  .  ו נפש  עבדך  תעבה  כול  מעשה  עולה  .  ו אדעה  כי  לא  יצדק  איש  מ בלעדיך  .  ו אחלה  פניך  ב רוח  אשר  נתתה  בי  ל השלים  חסדיך  עם  עבדך  ל עולם  ל טהרני  ב רוח  קודשך  ו ל הגישני  ב רצונך  כ גדול  חסדיך  אשר  עשיתה  עמדי  ו ל העמיד  פעמי  ב כול  מעמד  רצונך  אשר  בחרתה  ל אוהביך  ו ל שומרי  מצוותיך  ל התיצב  ל פניך  ל עולם  ו ל כפר  עוון  ו ל הדשן  ב רצון  ו ל התערב  ב רוח  עבדך  ו ל שכיל  מעשיך  ל  .  אל  י      ו  ו אל  יבוא  ל פניו  כול  נגע  מכשול  מ חוקי  בריתך  .  כי  פניך  .  ו אדעה  כי  אתה  אל  חנון  ו רחום  ארוך  אפים  ו רב  חסד  ו אמת  ו נושא  פשע  ו מעל  ו נחם  על  כול  עוון  אוהביך  ו שומרי  מצוותיך  ה שבים  אליך  ב אמונה  ו לב  שלם  ל עובדך  ב  ל עשות  ה טוב  ב עיניך  .  אל  תשב  פני  עבדך  ו אל  תזנח  בן  אמתך  .  אה  .  ו אני  על  דבריך  קרבתי  ל  ל  .  ב שובך  מ תוהו די  קדושים  ו כול  בין  טוב  ל רשע  עד  עולם  א          ים    עים  ו .  בם  ו מש      ם  .  כיא  אתה  אלי  מקור  דעת  ו מקוה  ה מ          ו מעין  ה גבורה  גדול  ה עצה  אין  מספר  ו קנאתכה  ל פני  חכמתכה  ו ארוך  אפים  ב משפטיך  צדקתה  ב כל  מעשיכה  .  ו ב חכמתכה  עולם  ו ב טרם  בראתם  ידעתה  כול  מעשיהם  ל עולמי  עד  .  ו מ בלעדיך  לא  יעשה  כוול  ו לא  יודע  ב לוא  רצונכה  .  אתה  יצרתה  כול  רוח  ו פעולתם  הכינותה  ו משפט  ל כול  מעשיהם  .  ו אתה  נטיתה  שמים  ל כבודכה  ו כול  הכינותה  ל רצונכה  ו רוחות  עוז  ל חוקיהם  ב טרם  היותם  ל מלאכי  קודש  ו  ם  ל רוחות  עולם  ב ממשלותם  מאורות  ל רזיהם  כוכבים  ל נתיבותיהם  ו רוחות  סערה  ל משאם  זקים  ו ברקים  ל עבודתם  ו אוצרות  מחשבת  ל חפציהם  ל רזיהם  .  אתה  בראתה  ארץ  ב חב כמותחכה  ימים  ו תהומות  עשיתה  ב עוזכה  ו מחשביהם  הכינותה  ב חוכמתכה  ו כול  אשר  בם  תכנתה  ל רצונכה  .  ל רוח  אדם  אשר  יצרת  ב תבל  ל כול  ימי  עולם  ו דורות  נצח  ל מ  ל  ו כ קציהם  .  פלגתה  עבודתם  ב כול  דוריהם  ו משפט  ב מועדיה  ל ממשלת  ו דרכיהם  הכינותה  ל דור  ו דור  ו פקודת  שלומם  עם  עם  כול  נגיעיהם  .  ה  ו תפלגה  ל כול  צאצאיהם  ל מספר  דורות  עולם  ו ל כול  שני  נצח  .  ה  ו ב חכמת  דעתכה  הכינותה  תעודתם  ב טרם  היותם  .  ו על  פי  רצונכה  נהיה  כול  ו מ בלעדיך  לא  יעשה  .  אלה  ידעתי  מ בינתכה  כיא  גליתה  אוזני  ל רזי  פלא  .  ו אני  יצר  ה חמר  ו מגבל  ה מים  סוד  ה ערוה  ו מקור  ה נדה  כור  ה עוון  ו מבנה  ה חטאה  רוח  ה תועה  ו נעוה  ב לא  בינה  ו נבעתה  ב משפטי  צדק  .  מה  אדבר  ב לא  נודע  ו אשמיעה  ב לא  סופר  .  ה כול  חקוק  ל פניכה  ב חרת  זכרון  ל כול  קצי  נצח  ו תקופות  מספר  שני  עולם  ב כול  מועדיהם  .  ו לוא  נסתרו  ו לא  נעדרו  מ ל פניכה  .  ו מה  יספר  אנוש  חטאתו  ו מה  יוכיח  על  עוונותיו  ו מה  ישיב  עול  כו על  משפט  ה צדק  .  לכה  אתה  אל  ה דעות  כול  מעשי  ה צדקה  ו סוד  ה אמת  .  ו ל בני  ה אדם  עבודת  ה עוון  ו מעשי  ה רמיה  .  אתה  בראתה  רוח  ב לשון  .  ו תדע  דבריה  ו תכן  פרי  שפתים  ב טרם  היותם  .  ו תשם  דברים  על  קו  ו מבע  רוח  שפתים  ב מדה  .  ו תוצא  קוים  ל רזיהם  ו מבעי  רוחות  ל חשבונם  ל הודיע  כבודכה  ו ל ספר  נפלאותיכה  ב כול  מעשי  אמתכה  ו משפטי  צדקכה  ו ל הלל  שמכה  ב פה  .  כול  יודעיכה  ל פי  שכלם  יברכוכה  ל עולמי  עולמים  .  ו אתה  ב רחמיכה  ו גדול  חסדיכה  חזקתה  רוח  אנוש  ל פני  נגע  ו נפש  אביון  טהרתה  מ רוב  עוון  ל ספר  נפלאותיכה  ל נגד  כול  מעשיכה  .  ו אספרה  תמיד  ב קרבם  משפטי  נגיעי  ו ל בני  אנוש  כול  נפלאותיכה  אשר  הגברתה  בי  ל נגד  בני  אדם  .  שמעו  חכמים  ו שחי  דעת  .  ו נמהרים  יהיו  ל יצר  סמוך  .  כל  ישרי  דרך  הוסיפו  ערמה  .  צדיקים  השביתו  עולה  .  ו כול  תמימי  דרך  החזיקו  נדכא  עני  האריכו  אפים  .  ו ל אל  תמאסו  ב משפטי  צדק  .  ו  ילי  לב  לא  יבינו  אלה  ו         ד  אמ    עריצים  יחרוקו  שנים  .    דו        י  .  אודכה  אדוני  כיא  ישרתה  ב לבבי  כול  מעשי  עולה  ו תטהרני  ו תשם  שומרי  אמת  נגד  עוני  ו מוכיחי  אמת  צדק  ב כל  חמסי  .  ל מחץ  מכתי  מנחמי  כוח    ט  ו משמיעי  שמחה  ל אבל  יגוני  מבשר  שלום  ל כול  הוות  שמועתי  חזקים  ל מוס  לבבי  ו מאמצי  רוח  ל פני  נגע  .  ו תתן  מענה  לשון  ל ערול  שפתי  ו תסמוך  נפשי  ב חזוק  מותנים  ו אמוץ  כוח  .  ו תעמד  פעמי  ב גבול  רשעה  .  ו אהיה  פח  ל פושעים  ו מרפא  ל כול  שבי  פשע  ערמה  ל פתיים  ו יצר  סמוך  ל כול  נמהרי  לב  .  ו תשימני  חרפה  ו קלס  ל בוגדים  סוד  אמת  ו בינה  ל ישרי  דרך  .  ו אהיה  על  עון  רשעים  דבה  ב שפת  עריצים  לצים  יחרוקו  שנים  .  ו אני  הייתי  נגינה  ל פושעים  .  ו עלי  קהלת  רשעים  תתרגש  .  ו יהמו  כ נחשולי  ימים  ב הרגש  גליהם  .  רפש  ו טיט  יגרושו  .  ו תשימני  נס  ל בחירי  צדק  ו מליץ  דעת  ב רזי  פלא  ל בחון  אנשי  אמת  ו ל נסות  אוהבי  מוסר  .  ו אהיה  איש  ריב  ל מליצי  תעות  ו בעל  מדנים  ל כול  חוזי  נכוחות  .  ו אהיה  ל רוח  קנאה  ל נגד  כל  דורשי  חלקות  ו כול  אנשי  רמיה  עלי  יהמו  ב כ קול  המון  מים  רבים  .  ו מזמות  בליעל  כול  מחשבותם  .  ו יהפוכו  ל שוחה  חיי  גבר  אשר  הכינותה  ב פיו תלמדנו  בינה  שמתה  ב לבבו  ל פתוח  מקור  דעת  ל כול  מבינים  .  ו ימירום  ב ערול  שפה  ו לשון  אחרת  ל עם  לא  בינות  ל הלבט  ב משגתם  .  אודכה  אדוני  כי  שמתה  נפשי  ב צרור  ה חיים  ו תשוך  בעדי  מ כול  מוקשי  שחת  .  כיא  עריצים  בקשו  נפשי  ב תומכי  ב בריתךה  .  ו המה  סוד  שוא  ו עדת  בליעל  .  לא  ידעו  כיא  מ אתכה  מעמדי  .  ו ב חסדיכה  תושיע  נפשי  כיא  מ אתכה  מצעדי  .  ו המה  מ אתכה  גרו  על  נפשי  ב עבור  הכבדכה  ב משפט  רשעים  ו הגבירכה  בי  נגד  בני  אדם  כיא  ב חסדכה  עמדי  .  ו אני  אמרתי  חנו  עלי  גבורים  סבבום  ב כל  כלי  מלחמותם  .  ו יפרו  חצים  ל אין  מרפא  ו להוב  חנית  ב כ אש  עצים  אוכלת אוכלת  עצים  .  ו כ המון  מים  רבים  שאון  קולם  נפץ  ו זרם  ל השחית  רבים  .  ל מזורות  יבקעו  אפעה  ו שוא  ב התרומם  גליהם  .  ו אני  ב מוס  לבי  כ מים  ו תחזק  נפשי  ב בריתך  .  ו הם  רשת  פרשו  לי  תלכוד  רגלם  .  ו פחים  טמנו  ל נפשי  נפלו  בם  .  ו רגלי  עמדה  ב מישור  .  מ קהלם  אברכה  שמכה  .  אודכה  אדוני  כיא  עינכה  עלי  ב שכול  נפשי  ו תצילני  מ קנאת  מליצי  כזב  ו מ עדת  דורשי  חלקות  .  פדיתה  נפש  אביון  אשר  חשבו  ל התם  דמו  ל שפוך  על  עבודתכה  .  אפס  כי  לא  ידעו  כי  מ אתך  מצעדי  ו ישימוני  ל בוז  ו חרפה  ב פי  כל  דורשי  רמיה  .  ו אתה  אלי  עזרתה  נפש  עני  ו רש  מ יד  חזק  ממנו  .  ו תפד  נפשי  מ יד  אדירים  .  ו ב גדפותם  לא  החתותני  ל עזוב  עבודתכה  מ פחד  הוות  רשעים  ו ל המיר  ב מ ב הולל  יצר  סמוך  אשר  נתתה        מי  חוקים  ו ב תעודות  כוננתני  ל החזיק  בשר  שחת  ל כול  צאצאי  עם  לשון  כ למודיכה  ו ב משפט  .  ם  בכי  מ          ם  ו הב    ל        אתה  אלי  האירותה  פני  ל בריתכה  ה  לכה  ב כבוד  עולם  עם  כול  אודכה  אדוני  כיא  אמת  פיכה  ו תצילני  מ סוד  שוא  ו מ  ים  הושעתה  נפשי  כיא  ל חרפה  ו קלס  יחשובוני  .  ו ישימו  נפשי  כ אוניה  ב מצולות  ים  ו כ עיר  מבצר  מ ל פני  צר  .  ו אהיה  ב צוקה  כמו  אשת  לדה  מבכריה  .  כיא  נהפכו  צירים  ו חבל  נמרץ  על  משבריה  ל החיל  ב כור  הריה  .  כיא  באו  בנים  עד  משברי  מות  ו הרית  גבר  הצרה  ב חבליה  .  כיא  ב משברי  מות  תמליט  זכר  ו ב חבלי  שאול  יגיח  מ כור  הריה  פלא  יועץ  עם  גבורתו  .  ו יפלט  גבר  מ משברים  .  ב הריתו  החישו  כול  משברים  ו חבלי  מרץ  ב מולדיהם  ו פלצות  ל הורותם  .  ו ב מולדיו  יהפכו  כול  צירים  ב כור  הריה  .  ו הרית  אפעה  ל חבל  נמרץ  ו משברי  שחת  ל כול  מעשי  פלצות  .  ו יריעו  אושי  קיר  כ אוניה  על  פני  מים  ו יהמו  שחקים  ב קול  המון  .  ו יושבי  עפר  כ יורדי  ימים  נבעתים  מ המון  מים  .  ו חכמיהם  למו  כ מלחים  ב מצולות  כי  תתבלע  כול  חכמתם  ב המות  ימים  .  ב רתוח  תהומות  על  נבוכי  מים  ו יתרגשו  ל רום  גלים  ו משברי  מים  ב המון  קולם  .  ו ב התרגשם  יפתחו  שאול  ו אבדון  .  ו כול  חצי  שחת  עם  מצעדם  ל תהום  ישמיעו  קולם  .  ו יפתחו  שערי  עולם  תחת  מעשי  אפעה  .  ו יסגרו  דלתי  שחת  בעד  הרית  עול  ו בריחי  עולם  בעד  כול  רוחי  אפעה  .  אודכה  אדוני  כי  פדיתה  נפשי  מ שחת  .  ו מ שאול  אבדון  העליתני  ל רום  עולם  ו אתהלכה  ב מישור  ל אין  חקר  .  ו אדעה  כיא  יש  מקוה  ל אשר  יצרתה  מ עפר  ל סוד  עולם  .  ו רוח  נעוה  טהרתה  מ פשע  רב  ל התיצב  ב מעמד  עם  צבא  קדושים  ו ל בוא  ב יחד  עם  עדת  בני  שמים  .  ו תפל  ל איש  גורל  עולם  עם  רוחות  דעת  ל הלל  שמכה  ב יחד  רנה  ו ל ספר  נפלאותיכה  ל נגד  כול  מעשיכה  .  ו אני  יצר  ה חמר  מה  אני  .  מגבל  ב מים  ו ל מי  נחשבתי  ו מה  כוח  לי  .  כיא  התיצבתי  ב גבול  רשעה  ו עם  חלכאים  ב גורל  .  ו תגור  נפש  אביון  עם  מהומות  רבה  ו הוות  מדהבה  עם  מצעדי  .  ב הפתח  כל  פחי  שחת  ו יפרשו  כול  מצודות  רשעה  ו מכמרת  חלכאים  על  פני  מים  .  ב התעופף  כול  חצי  שחת  ל אין  השב  ו יורו  ל אין  תקוה  .  ב נפול  קו  על  משפט  ו גורל  אף  על  נעזבים  ו מתך  חמה  ל כ על  נעלמים  ו קץ  חרון  ל כול  בליעל  ו חבלי  מות  אפפו  ל אין  פלט  .  ו ילכו  נחלי  בליעל  על  כול  אגפי  רום  ב אש  אוכלת  ב כול  שנאביהם  ל התם  כול  עץ  לח  ו יבש  מ פלגיהם  .  ו תשוט  ב שביבי  להוב  עד  אפס  כול  שותיהם  .  ב אושי  חמר  תאוכל  ו ב רקיע  יבשה  .  יסודי  הרים  ל שרפה  ו שורשי  חלמיש  ל נחלי  זפת  .  ו תאוכל  עד  תהום  רבה  .  ו יבקעו  ל אבדון  נחלי  בליעל  ו יהמו  מחשבי  תהום  ב המון  גורשי  רפש  .  ו ארץ  תצרח  על  ה הווה  ה נהיה  ב תבל  ו כול  מחשביה  יריעו  .  ו יתהוללו  כול  אשר  עליה  ו יתמוגגו  ב הווה  גדולה  כיא  ירעם  אל  ב המון  כוחו  ו יהם  זבול  קודשו  ב אמת  כבודו  .  ו צבא  ה שמים  יתנו  ב קולם  ו יתמוגגו  ו ירעדו  אושי  עולם  .  ו מלחמת  גבורי  שמים  תשוט  ב תבל  ו לא  תשוב  עד  כלה  ו נחרצה  ל עד  ו אפס  כמוה  .  אודכה  אדוני  כיא  הייתה  לי  ל חומת  עוז  ב ל  משחיתים  ו כול  .  כי  תסתירני  מ הווות  מהומה  אשר  ד        דלתי  מגן  ו בריחי  ברזל  בל  יבוא  גדוד  משמר  גבורים  ב הלוות  מם  ב סביביה  פן  יורה  גבור  .  גמולי  גבורתם  .  ו יפולו  מ גבורתם  חכמים  ב ערמתם  ו אני  ב תומכי  ב בריתכה    ק                      י  מ      ו תכן  על  סלע  רגלי  ו תסיר  פעמי  מ דרך  ב דרך  עולם  ו ב נתיבות  אשר  בחרתה  מצעדי  .  אודכה  אדוני  כיא  האירותה  פני  ל בריתכה  ו מ  אדורשכה  .  ו כ שחר  נכון  ל אורתים  הופעתה  לי  .  ו המה  עמכה  ב תעותם  ו ב דברים  החליקו  למו  .  ו מליצי  רמיה  התעום  ו ילבטו  ב לא  בינה  כיא  ב הולל  מעשיהם  כי  נמאסי  למו  .  ו לא  יחשבוני  ב הגבירכה  בי  כיא  ידיחני  מ ארצי  כ צפור  מ קנה  .  ו כול  רעי  ו מודעי  נדחו  ממני  ו יחשבוני  ל כלי  אובד  .  ו המה  מליצי  כזב  ו חוזי  רמיה  .  זממו  עלי  כז  בליעל  ל המיר  תורתכה  אשר  שננתה  ב לבבי  ב חלקות  ל עמכה  .  ו יעצורו  משקה  דעת  מ צמאים  ו ל צמאם  ישקום  חומץ  למע  הבט  אל  תעותם  ל התהולל  ב מועדיהמ  ל התפש  ב מצודותם  .  כי  אתה  אל  תנאץ  כל  מחשבת  בליעל  ו עצתכה  היא  תקום  ו מחשבת  לבכה  תכון  ל נצח  .  ו המה  נעלמים  זמות  בליעל  יחשובו  ו ידרשוכה  ב לב  ו לב  ו לא  נכונו  ב אמתכה  .  שורש  פורה  רוש  ו לענה  ב מחשבותם  .  ו עם  שרירות  לבם  יתורו  ו ידרשוכה  ב גלולים  .  ו מכשול  עוונם  שמו  ל נגד  פניהם  ו יבאו  ל דורשכה  מ פי  נביאי  כזב  מפותי  תעות  .  ו הם  ב לועג  שפה  ו לשון  אחרת  ידברו  ל עמך  ל הולל  ב רמיה  כול  מעשיהם  .  כי  לא  בחרו  ב דרך  לבכה  ו לא  האזינו  ל דברכה  כי  אמרו  ל חזון  דעת  לא  נכון  ו ל דעתרך  לבכה  לא  היאה  .  כי  אתה  אל  תענה  להם  ל שופטם  ב גבורתכה  כ גלוליהם  ו כ רוב  פשעיהם  למען  יתפשו  ב מחשבותם  אשר  נזורו  מ בריתכה  .  ו תכרת  ב משפט  כול  אנשי  מרמה  ו חוזי  תעות  לא  ימצאו  עוד  .  כי  אין  הולל  ב כול  מעשיך  ו לא  רמיה  ב מזמת  לבכה  .  ו אשר  כ נפשכה  יעמודו  ל פניכה  ל עד  ו הולכי  ב דרך  לבכה  יכונו  ל נצח  .  ו אני  ב תומכי  בכה  אתעודדה  ו אקומה  על  מנאצי  .  ו ידי  על  כול  בוזי  כיא  לא  יחשבוני  עד  הגבירכה  בי  ו תופע  לי  ב כוחכה  ל אורתים  .  ו לא  טחתה  ב בותשת  פני  כול  ה נדרשים  לי  ה נועדים  יחד  ל בריתכה  .  ו ישומעוני  ה הולכים  ב דרך  לבכה  ו יערוכו  לכה  ב סוד  קדושים  .  ו תוצא  ל נצח  משפטם  ו ל מישרים  אמת  .  ו לא  תתעם  ב יד  חלכאים  כ זומם  למו  .  ו תתן  מוראם  על  עמכה  ו מפץ  ל כול  עמי  ה ארצות  ל הכרית  ב משפט  כול  עוברי  פיכה  .  ו בי  האירותה  פני  רבים  ו תגבר  עד  ל אין  מספר  כי  הודעתני  ב רזי  פלאכה  .  ו ב סוד  פלאכה  הגברתה  עמדי  ו הפלא  ל נגד  רבים  ב עבור  כבודכה  ו ל הודיע  ל כול  ה חיים  גבורותיכה  .  מי  בשר  כ זאת  .  ו מה  יצר  חמר  ל הגדיל  פלאות  .  ו הוא  ב עוון  מ רחם  ו עד  שבה  ב אשמת  מעל  .  ו אני  ידעתי  כי  לוא  ל אנוש  צדקה  ו לוא  ל בן  אדם  תום  דרך  .  ל אל  עליון  כול  מעשי  צדקה  .  ו דרך  אנוש  לוא  תכון  כי  אם  ב רוח  יצר  אל  לו  ל התם  דרך  ל בני  אדם  למען  ידעו  כול  מעשיו  ב כוח  גבורתו  ו רוב  רחמיו  על  כול  בני  רצונו  .  ו אני  רעד  ו רתת  אחזוני  ו כול  גרמי  ירועו  .  ו ימס  לבבי  כ דונג  מ ל פני  אש  ו ילכו  ברכי  כ מים  מוגרים  ב מורד  .  כי  זכרתי  אשמותי  עם  מעל  אבותי  ב קום  רשעים  על  בריתך  ו חלכאים  על  דברכה  .  ו אני  אמרתי  ב פשעי  נעזבתי  מ בריתכה  .  ו ב זוכרי  כוח  ידכה  עם  המון  רחמיכה  התעודדתי  ו אקומה  ו רוחי  החזיקה  ב מעמד  ל פני  נגע  .  כי  נשענתי  ב חסדיכה  ו כ המון  רחמיכה  בי  תכפר  עוון  .  ו ל טהר  אנוש  מ אשמה  ב צדקתכה  לכה  אלי  .  ו לא  ל אדם  כול  אשר  עשיתה  כי  אתה  בראתה  צדיק  ו רשע  .  אתחזקה  ב בריתכה  עד  .  כי  אמת  אתה  ו צדק  כול  מעשיכה  .  ל יום  זעם  חרון  רוב  סליחותיכה  ו המון  רחמיכה  ב    ו ב דעתי  אלה  נחמתי  ב אמתכה    י  על  פי  רצונכה  ו ב ידכה  משפט  כולם  .  אודכה  אדוני  כי  לא  עזבתני  ב גורי  ב עם  נכר  כ אשמתי  שפטתני  .  ו לא  עזבתני  ב זמות  יצרי  .  ו תעזור  מ שחת  חיי  ו תתן  לי  פלט  ב תוך  לביאים  מועדים  ל בני  אשמה  אריות  שוברי  עצם  אדירים  ו שותי  דם  גבורים  .  ו תשמני  ב מגור  עם  דיגים  רבים  פורשי  מכמרת  על  פני  מים  ו צידים  ל בני  עולה  .  ו שם  ל משפט  יסדתני  .  ו סוד  אמת  אמצתה  ב לבבי  .  ו מ זה  ברית  ל דורשיה  .  ו תסגור  פי  כפירים  אשר  כ חרב  שניהם  ו מתלעותם  כ חנית  חדה  .  חמת  תנינים  כול  מזמותם  .  ל חתוף  יורבו  ו לא  פצו  עלי  פיהם  .  כי  אתה  אלי  סתרתני  נגד  בני  אדם  ו תורתכה  חבתה  בי  עד  קץ  הגלות  ישעכה  לי  .  כי  ב צרת  נפשי  לא  עזבתני  ו שועתי  שמעתה  ב מרורי  נפשי  .  ו דנת  יגוני  הכרתה  ב אנחתי  .  ו תצל  נפש  עני  ב מעון  אריות  אשר  שננו  כ חרב  לשונם  .  מ ו אתה  אלי    ב סגרתה  בעד  לשונםיהם  פן  יטרפו  נפשי  עני  ו רש  .  ו תוסף  לשונם  כ חרב  אל  תערה  ב לוא  נכרתה  נפש  עבדכה  .  ו למען  הגבירכה  בי  ל נגד  בני  אדם  הפלתה  ב אביון  .  ו תביאהו  ב מצרף  כ זהב  ב מעשי  אש  ו כ כסף  מזוקק  ב כור  נופחים  ל טהר  שבעתים  .  ו ימהרו  עלי  רשעי  עמים  ב מצוקותם  ו כול  ה יום  ידכאו  נפשי  .  ו אתה  אלי  תשיב  נפשי  סערה  ל דממה  ו נפש  אביון  פלטתה  כ צפור  מ פח  ו כ טרף  מ פחי  אריות  .  אודכה  ברוך  אתה  אדוני  כי  לא  עזבתה  יתום  ו לא  בזיתה  רש  .  כי  גבורתכה  ל אין  קץ  ו כבודכה  ל אין  מדה  .  ו גבורי  פלא  משריתיכה  .  ו עם  ענוים  ב טאטאיי  רגליכה  יחד  עם  נמהרי  צדק  ל העלות  מ שאון  יחד  כול  נמה  אביוני  חסד  .  ו אני  הייתי  על  ע    דני  ל ריב  ו מדנים  ל רעי  קנאה  ו אף  ל באי  בריתי  ו רגן  ו תלונה  ל כול  נועדי  .  גם  אוכלי  לחמי  עלי  הגדילו  עקב  .  ו יליזו  עלי  ב שפת  עול  כול  נצמדי  סודי  .  ו אנשי  עצתי  סוררים  ו מלינים  סביב  .  ו ב רז  חבתה  בי  ילכו  רכיל  ל בני  הוות  .  ו ב עבור  הגבירכה  בי  ו למען  אשמתם  סתרת  מעין  בינה  ו סוד  אמת  .  ו המה  הוות  לבם  יחשובו  ו דברי  בליעל  פתחו  לשון  שקר  כ חמת  תנינים  פורחת  ל קצים  .  ו כ זוחלי  עפר  יורו  ל חתוף  מבלגות  פתנים  ל אין  חבר  .  ו תהי  ל כאוב  אנוש  ו נגע  נמאר  ב תכמי  עבדכה  ל הכשיל  רוח  ו ל התם  כוח  ל בלתי  החזק  מעמד  .  ו ישיגוני  ב מצרים  ל אין  מנוס  ו לא  ב הבדל  מ משפחות  .  ו יהמו  ב כנור  ריבי  ו ב נגינות  יחד  תלונתם  עם  שאה  ו משואה  .  זלעופות  אחזוני  ו חבלים  כ צירי  יולדה  .  ו יהם  עלי  לבי  .  קדרות  לבשתי  ו לשוני  ל חךי  תדבק  .  כי  סבבוני  ב הוות  לבם  ו יצרם  הופיע  לי  ל מרורים  .  ו יחשך  מאור  פני  ל אפלה  ו הודי  נהפך  ל משחית  .  ו את  אלי  מרחב  פתחתה  ב לבבי  ו יוספוה  ל צוקה  ו ישוכו  בעדי  ב צלמות  .  ו אוכלה  ב לחם  אנחתי  ו שקוי  ב דמעות  אין  כלה  .  כי  עששו  מ כעס  עיני  ו נפשי  ב מרורי  יום  .  אנחה  ו יגון  יסובבוני  ו בושת  על  פנים  .  ו יהפך  לי  לחמי  ל ריב  ו שקוי  ל בעל  מדנים  .  ו יבוא  ב עצמי  ל הכשיל  רוח  ו ל כלות  כוח  .  כ רזי  פשע  משנים  מעשי  אל  ב אשמתם  .  כי  נאסרתי  ב עבותים  ל אין  נתק  ו זקים  ל לוא  ישוברו  .  ו חומת  עוז  בעדי  ו בריחי  ברזל  ו דלתי  נחושת  ל אין  פתוח  .  כלאי  עם  תהום  נחשבתי  ל אין  ו נחלי  בליעל  אפפו  נפשי  ל אין  פלט  .  לבי  ב נאצות  ב פי  ו הווה  ל אין  חקר  ו כלה  ל אין  מדה  .  ו אתה  אלי  גליתה  אוזני  ב מוסר  מוכיחי  צדק  עם  .  מ עדת  שוא  ו מ סוד  חמס  .  ו תביאני  ב עצת  ה קודש  אשמה  .  ו אדעה  כי  יש  מקוה  ל שבי  פשע  ו עוזבי  חטאה  בה  ו ל התהלך  ב דרך  לבכה  ל אין  עול  .  ו אנחמה  על  המון  עם  ו על  שאון  ממלכות  ב האספם  .  ל ישועתי  אשר  תרים  ל מצער  מחיה  ב עמכה  ו שארית  ב נחלתכה  .  ו תזקקם  ל הטהר  מ אשמה  ו מ חטוא  כול  מעשיהם  ב אמתכה  .  ו ב חסדיך  תשפטם  ב המון  רחמיכהם  ו רוב  סליחה  ו כ פיכה  ל הורותם  .  ו כ יושיר  אמתכה  ל הכינם  ל ב עצתכה  .  ל כבודכה  ו למענכה  עשיתה  ל גדל  תורה  ו ל  אנשי  עצתכה  ב תוך  בני  אדם  ל ספר  ל דורות  עולהם  נפלאותיכה  ו ב גבורותיכה  ישוחחו  ל אין  השבת  .  ו ידעו  כול  גוים  אמתכה  ו כול  לאומים  כבודכה  .  כי  הביאותה  סודכה  ל כול  אנשי  עצתכה  ו ב גורל  יחד  עם  מלאכי  פנים  .  ו אין  מליץ  בנים  ל ק  ל השיב  כ רוח  .  כי      ל  תד      ב        ו הם  ישובו  ב פי  כבודכה  ו יהיו  שריכה  ב גורל  עולם  ו גזעם  פרח  כ ציץ  יציץ  ל הוד  עולם  ל עוגדל  נצר  ל מ עופי  מטעת  עולם  .  ו יצל  צל  על  כול  תבל  ו דליותיו  עד  שחקים  ו שרשיו  עד  תהום  .  ו כול  נהרות  עדן  תלחלחנה  דליותיו  ו היה  ל ימים  ל אין  חקר  .  ו התאזרו  על  תבל  ל אין  אפס  ו עד  שאול  ו היה  מעין  אור  ל מקור  עולם  ל אין  הסר  .  ב שביבי  נוגהו  יבערו  כול  בני  עולה  ו היה  ל אש  בוערת  ב כול  אנשי  אשמה  עד  כלה  .  ו המה  נצמדי  תעודתי  פותו  ב מליצי  תעות  ל הביא  זר  ב עבודת  צדק  .  ו אתה  אל  צויתם  ל הועיל  מ דרכיהם  ב דרך  קודש  אשר  ילכו  בה  .  ו ערל  ו טמא  ו פריץ  בל  יעוברנה  .  ו יתמוטטו  מ דרך  לבכה  ו ב הוות  פשעם  יכשלו  .  ו כמוא  יועץ  בליעל  עם  לבבם  ו יכינו  מחשבת  רשעה  יתגוללו  ב אשמה  .  ו אני  הייתי  כ מלח  ב אוניה  ב זעף  ימים  .  גליהם  ו כול  משבריהם  עלי  .  המו  רוח  עועיים  ב אין  דממה  ל השיב  נפש  ו אין  נתיבת  ל ישר  דרך  על  פני  מים  .  ו יהם  תהום  ל אנחתי  ו נגשו  חיי  עד  שערי  מות  .  ו אהיה  כ בא  ב עיר  מצור  ו נעוז  ב חובמה  נסשגבה  עד  פלט  .  ו אשענה  ב אמתכה  אלי  כי  אתה  תשים  סוד  על  סלע  ו כפיס  על  קו  משפט  ו משקלת  אמת  ל עשות  אבני  בחן  ל בנית  עוז  ב ל לוא  תתזעזע  .  ו כול  באיה  בל  ימוטו  .  כי  לא  יבוא  זר  ב שעריה  דלתי  מגן  ל אין  מבוא  ו בריחי  עוז  ל לוא  ישוברו  .  בל  יבוא  גדוד  ב כלי  מלחמתו  עם  תום  כול  חצי  מלחמות  רשעה  .  ו אז  תחיש  חרב  אל  ב קץ  משפט  .  ו כול  בני  אמתו  יעורו  ל הכרית  רשעה  ו כול  בני  אשמה  לא  יהיו  עוד  .  ו ידרוך  גבור  קשתו  ו יפתח  מצורי  ה שמים  ל מרחב  אין  קץ  .  ו שערי  עולם  ל הוציא  כלי  מלחמות  .  ו יעצומו  מ קצה  עד  קצה  ו חצים  יורו  ו אין  פלט  ל יצר  אשמה  .  ל כלה  ירמוסו  ו אין  שרית  ו אין  תקוה  ב רוב  פגרים  ו ל כול  גבורי  מלחמות  אין  מנוס  .  כי  ל אל  עליון  ה    .  ו שוכבי  עפר  הרימו  תרן  ו תולעת  מתים  נשאו  נס  ל   י  ר  ו  ב מלחמות  זדים  .  ו ב עבור  שוט  שוטף  בל  יבוא  ב מבצר  ל  ל  ל תפל  ו כ כפיס  ל א    מ                אמת  .    ם  ו אני  נאלמתי  מ הוותם          ק  אלה  .  ו גדפוני  זרוע  נשברת  מ קניה  ו תטבע  ב בבץ  רגלי  .  שעו  עיני  מ ראות  רע  ו אוזני  מ שמוע  דמים  .  השם  לבבי  מ מחשבת  רוע  .  כי  בליעל  עם  הופע  יצר  הוותם  .  ו יריעו  כול  אושי  מבניתי  .  ו עצמי  יתפרדו  ו תכמי  עלי  כ אוניה  ב זעף  חרישית  .  ו יהם  לבי  ל כלה  .  ו רוח  עועיים  תבלעני  מ הוות  פשעם  .  אודכה  אדוני  כי  סמכתני  ב עוזכה  ו רוח  קודשכה  הניפותה  בי  בל  אמוט  .  ו תחזקני  ל פני  מלחמות  רשעה  ו ב כול  הוותם  לא  החת    ה  מ בריתכה  .  ו תשימני  כ מגדל  עוז  כ חומה  נסשגבה  .  ו תכן  על  סלע  מבניתי  ו אושי  עולם  ל סודי  .  ו כול  קירותי  ל חומת  בחן  ל לוא  תזדזעזע  .  ו אתה  אלי  נתתי  ל עפים  ל עצת  קודש  .  ו תחזקני  ב בריתכה  ו לשוני  כ למודיך  .  ו אין  פה  ל רוח  הוות  ו לא  מענה  לשון  ל כול  בני  אשמה  .  כי  תאלמנה  שפתי  שפתי  שקר  .  כי  כול  גדי  ל משפט  תרשיע  ל הבדיל  בי  בין  צדיק  ל רשע  .  כי  אתה  ידעתה  כול  יצר  מעשה  ו כול  מענה  לשון  הכרתה  .  ו תכן  לבי  כ למודיכה  ו כ אמתכה  ל ישר  פעמי  ל נתיבות  צדקה  ל התהלך  ל פניך  ב גבול  חיים  ל שבולי  כבוד  ו חיים  ו שלום  ל אין  הסר  ו לוא  ל השבת  ל נצח  .  ו אתה  ידעתה  יצר  עבדכה  כי  לא  צ  משענתו  ל הרים  לבו  ו ל העיז  ב כוח  .  ו מחסי  בשר  אין  לי  אין  צדקות  ל הנצל  מ פ  ב לוא  סליחה  .  ו אני  נשענתי  ב רוב  רחמיכה  ו ל המון  חסדכה  אוחיל  ל הציץ  כ מטע  ו ל גדל  נצר  ל העיז  ב כוח  ו ל  .  כי  ב צדקתכה  העמדתני  ל בריתכה  ו אתמוכה  ב אמתכה  .  ו את  ו תשימני  אב  ל בני  חסד  ו כ אומן  ל אנשי  מופת  .  ו יפצו  פה  כ יונק  ו כ שעשע  עוליל  ב חיק  אומניו  .  ו תרם  קרני  על  כול  מנאצי  ו יתפרדו  כול  שארית  אנשי  מלחמתי  .  ו בעלי  רבי  כ מוץ  ל פני  רוח  .  ו ממשלתי  על  בוזי  .  כי  אתה  אלי  עזרתה  נפשי  ו תרם  קרני  ל מעלה  .  ו הופעתי  ב אור  שבעתים  ב הכינותה  ל כבודכה  .  כי  אתה  לי  ל מאור  עולם  ו תכן  רגלי  ב מישור  .  אודכה  אדוני  כי  השכלתני  ב אמתכה  ו ב רזי  פלאכה  הודעתני  ו ב חסדיכה  ל איש  פשע  ו ב רוב  רחמיכה  ל נעוי  לב  .  כי  מי  כמוכה  ב אלים  אדוני  .  ו מי  כ אמתכה  .  ו מי  יצדק  ל פניכה  ב השפטו  .  ו אין  ל השיב  על  תוכחתכה  כול  צבעי  רוח  ו לא  יוכל  כול  ל התיצב  ל פני  חכמתךה  .  ו כול  בני  אמתכה  תביא  ב סליחות  ל פניכה  ל טהרם  מ פשעיהם  ב רוב  טובכה  ו ב המון  רחמיכה  ל העמידם  ל פניכה  ל עולמי  עד  .  כי  אל  עולם  אתה  ו כול  דרכיכה  יכונו  ל נצח  נצחים  ו אין  זולתכה  .  ו מה  הוא  איש  תהו  ו בעל  הבל  ל התבונן  ב מעשי  פלאך  ה גדולים  .  אודכה  אדוני  כי  לוא  הפלתה  גורלי  ב   עדת  שו  ו ב סוד  נעלמים  לא  שמתה  חוקי  .  ו תקראני  ל חסדיכה  ו ל סליחותיכה  הביאותני  ו ב המון  רחמיכה  ל כול  משפטי  צדק  .  ו אני  איש  טמא  ו מ רחם  הוריתי  ב אשמת  מעל  ו מ שדי  אמי  ב עולה  ו ב חיק  אומנתי  ל רוב  נדה  ו מ נעורי  ב דמים  ו עד  שיבה  ב עוון  בשר  .  ו אתה  אלי  כוננתה  רגלי  ב דרך  לבכה  .  ו ל שמועות  פלאכה  גליתה  אוזני  ו לבי  ל הבין  ב אמתך  .  אטומם  אוזן  ב למודיכה  עד  אשר  ו רוח  נעוה  ב לוא  דעת  הכאתה  מ תכמי  ו כבוד  לב  ו אין  לי  עוד  ל מכשול  עוון  .  כי  תגלה  ישועתכה  ו צדקתכה  תכין  ל עד  .  כי  לא  ל אדם  דרכו  .  כול  אלה  ל כבודכה  עשיתה  .  אודכה  אדוני  כי  נתתני  ב מקור  נוזלים  ב יבשה  ו מבוע  מים  ב ארץ  ציה  ו משקי  גן  ו אגם  ה שדה  מטע  ברוש  ו תדהר  עם  תאשור  יחד  ל כבודכה  עצי  חיים  ב מעין  רז  מחובאים  ב תוך  כול  עצי  מים  .  ו היו  ל הפריח  נצר  ל מטעת  עולם  .  ל השריש  טרם  יפריחו  ו שורשיהם  ל יובל  ישלחו  .  ו יפתח  ל מים  חיים  יגזעו  ו יהי  ל מקור  עולם  .  ו ב נצר  עליו  ירעו  כול  חיות  יער  .  ו מרמס  גיזעו  ל כל  עוברי  דרך  ו דליתו  ל כל  עוף  כנף  .  ו ירמו  עליו  כול  עצי  מים  כי  ב מטעתם  יתשגשגו  ו אל  יובל  לא  ישלחו  שורש  .  ו מפריח  נצר  קודש  ל מטעת  אמת  סותר  ב לוא  נחשב  .  ו ב לא  נודע  חותם  רזו  .  ו אתה  אל  שכתה  בעד  פריו  ב רז  גבורי  כוח  ו רוחות  קודש  ו להט  אש  מתהפכת  בל  יבוא  זר  ב מעין  חיים  ו עם  עצי  עולם  לא  ישתה  מי  קודש  בל  ינובב  פריו  עם  מטע  שחקים  .  כי  ראה  ב לא  הכיר  ו יחשוב  ב לא  האמין  ל מקור  חיים  ו יתן  יבול  פרח  עולם  .  ו אני  הייתי  ל בזאי  נ נהרות  שוטפים  כי  גרשו  עלי  רפשם  .  ו אתה  אלי  שמתה  ב פי  כ יורה  גשם  ל כול  ו מבוע  מים  חיים  ו לא  יכזב  .  ל פתוח  ה שמים  לא  ימישו  ו יהיו  ל נחל  שוטף  על  כול  עצי  מים  ו ל ימים  ל אין  חקר  .  פיתאום  יביעו  מחובאים  ב סתר  ו יהיו  ל מי  מריבה  ל כול  עץ  לח  ו יבש  ו מצולה  ל כול  חיה  ו עצי  .  כ עופרת  ב מים  אדירים  ב שביבי  אש  ייבשו  .  ו מטע  פרי  מקור  עולם  ל עדן  כבוד  ו פארת  עד  .  ו ב ידי  פתחתה  מקורם  עם  מפלגי  דם  ל פנות  על  קו  נכון  ו מטע  עציהם  על  משקלת  ה שמש  ל א      ו  ל פארת  כבוד  .  ב הניפי  יד  ל עזוק  פלגיו  יכו  שרשיו  ב צור  חלמיש  ו    ו  ב ארץ  גזעם  .  ו ב עת  חום  יעצור  מעוז  .  ו אם  אשיב  יד  יהיה  כ ערער  ב מדבר  ו גזעו  כ חרלים  ב מלחה  .  ו פלגיו  יעל  קוץ  ו דרדר  ל שמיר  ו שית  ו שפתו  יהפכו  כ עצי  באושים  .  ל פני  חום  יבול  עליו  ו לא  נפתח  עם  מטר  מגור  עם  חוליים  ו מע  לב  ב נגיעים  .  ו אהיה  כ איש  נעזב  ב יגון  אין  מעוז  לי  .  כי  פרח  נגיעי  ל מרורים  ו כאוב  אנוש  ל אין  עצור  כוח  .  ו תהי  מהומה  עלי  כ יורדי  שאול  .  ו עם  מתים  יחפש  רוחי  כי  הגיעו  ל שחת  חיי  תתעטף  נפשי  יומם  ו לילה  ל אין  מנוח  .  ו יפרח  כ אש  בוער  עצור  ב עצמי  .  עד  ימימיה  תואכל  שלבתה  ל התם  כוח  ל קצים  ו ל בלות  בשר  עד  מועדים  .  ו יתעופפו  עלי  משברים  ו נפשי  עלי  תשתוחח  ל כלה  .  כי  נשבת  מעוזי  מ גויתי  ו ינגר  כ מים  לבי  .  ו ימס  כ דונג  בשרי  ו מעוז  מותני  היה  ל בהלה  .  ו תשבר  זרועי  מ קניה  ו אין  ל הניף  יד  .  ו רגלי  נלכדה  ב כבל  ו ילכו  כ מים  ברכי  .  ו אין  ל שלוח  פעם  ו לא  מצעד  ל קול  רגלי  .  ו חזוק  זרועי  רותקו  ב זקי  מכשול  .  ו לשון  הגברתה  ב פי  ב לא  נאספה  .  ו אין  ל הרים  קול  ו ל האזין  למודים  ל חיות  רוח  כושלים  ו ל עות  ל עאף  דבר  .  נאלם  מזל  שפתי  מ פלצות  .  ב קו  משפט  לוח  לבי    ות      או  ב מרורים  לבב        כרים  ממשלת  ב יצרי    לים  ו אני  ל  נפש  התבלעה  תכמיהם  נאלמו  כ אין  אנוש  ל אין  .  אפלה  הופיע  ל מדנים  ב לילה  ו ב          ל אין  רחמים  .  ב אף  יעורר  קנאה  ו ל כלה  משברי  מות  ו שאול  על  יצועי  .  ערשי  ב קינה  תשא  ו מטתי  ב קול  אנחה  .  עיני  כ עש  ב כבשן  ו דמעתי  כ נחלי  מים  .  כלו  ל מנוח  עיני  ו מעוזי  עמד  לי  מ רחוק  ו חיי  מ צד  .  ו אני  מ שאה  אל משואה  ו מ מכאוב  ל נגע  ו מ חבלים  ל משברים  תשוחח  נפשי  ב נפלאותיכה  .  ו לא  הזנחתני  ב חסדיכה  .  מ קץ  ל קץ  תשתשע  נפשי  ב המון  רחמיכה  .  ו אשיבה  ל מבלעי  דבר  ו ל משתוחיחי  בי  תוכחת  .  ו ארשיעה  דינו  ו משפטכה  אצדיק  .  כי  ידעתי  ב אמתכה  .  ו אבחרה  ב משפטי  ו ב נגיעי  רציתי  כי  יחלתי  ל חסדיכה  .  ו תתן  תחנה  ב פי  עבדכה  .  ו לא  גערתה  חיי  ו שלומי  לא  הזנחתה  .  ו לא  עזבתה  תקותי  .  ו ל פני  נגע  העמדתה  רוחי  .  כי  אתה  יסדתה  רוחי  ו תדע  מזמתי  .  ו ב צוקותי  נחמתני  ו ב סליחות  אשתעשע  .  ו אנחמה  על  פשע  ראשון  .  ו אדעה  כי  יש  מקוה  ב חסדיכה  ו תוחלה  ב רוב  כוחכה  .  כי  לא  יצדק  כול  ב משפטכה  ו לא  יזכה  ב ריבכה  .  אנוש  מ אנוש  יצדק  ו גבר  מ רעהו  ישכיל  ו בשר  מ יצר  יכבד  ו רוח  מ רוח  תגבר  .  ו כ גבורתכה  אין  ב כוח  .  ו ל כבודכה  אין  ו ל חכמתכה  אין  מדה  ו ל אמתכה        ם  ו ל כול  ה נעזב  ממנה  .  ו אני  בכה  הצבתי  ידי  ו ב חסדכה  עמדי  ו לא  המ    ב אנשי  ריבי  ו כ זומם  לי  ת    ו אם  ל בושת  פנים  כול      בו  לי  .  ו אתה  בר  יתגבר  צרי  עלי  ל מכשול  ל מ    ל כול  אנשי  מלחמתי  ו ל בעלי  ריבי  בושת  פנים  ו כלמה  ל נרגני  בי  .  כי  אתה  אלי  ל מועד  תריב  ריבי  .  כי  ב רז  חכמתכה  הוכחתה  בי  .  ו תחבא  אמת  ל קץ  מועדו  .  ו תהי  תוכחתכה  לי  ל שמחה  ו ששון  ו נגיעי  ל מרפא  עולם  ו שלום  נצח  .  ו בוז  צרי  לי  ל כליל  כבוד  ו כשלוני  ל גבורת  עולם  .  כי  ב שכלכה  הודעתני  ו ב כבודכה  הופיע  אורי  .  כי  מאור  מ חושך  האירותה  ל ל מחץ  מכתי  ו ל מכשולי  גבורת  פלא  ו רחוב  עולם  ב צרת  נפשי  .  כי  אתה  מפלטי  מנוסי  משגבי  סלע  עוזי  ו מצודתי  .  בכה  אחסיה  מ כול  מכאוב  נפשי  .  הושעתה  לי  ל פלט  עד  עולם  .  כי  אתה  מ אבי  ידעתני  ו מ רחם  הקדשתני  ו מ בטן  אמי  גמלתה  עלי  .  ו מ שדי  הוריתי  רחמיך  לי  .  ו ב חיק  אומנתי  רוב  חסדיכה  ו מ נעורי  הופעתה  לי  ב שכל  משפטכה  .  ו ב אמת  נכון  סמכתני  ו ב רוח  קודשכה  תשעשעני  ו עד  ה יום  אתה  תנהלני  .  ו תוכחת  צדקכה  עם  נעויתי  ו משמר  שלומכה  ל פלט  נפשי  .  ו עם  מצעדי  רוב  סליחות  ו המון  רחמים  ב השפטכה  בי  .  ו עד  שיבה  אתה  תכלכלני  .  כיא  אבי  לא  ידעני  ו אמי  עליכה  עזבתני  .  כי  אתה  אב  ל כול  בני  אמתכה  ו תגל  עליהם  כ מרחמת  על  עולה  .  ו כ אומן  ב חיק  תכלכל  ל כול  מעשיכה  .  ברוך  אתה  אדוני  ל  ר  הגברתה  עד  אין  מספר  ו ל הלל  שמכה  ב הפלא  מאדה  ל אין  השבת  ל  ו ל פי  שכלו  יהלל  שמכה  .  ב מחשבתכה  נהיה  כול  ו ב מזמת  לבכה  תוכן  .  ו מ בלעדיכה  לא  יעשה  כול  ו ב לוא  רצונכה  לא  יהיה  .  ו לא  יתבונן  כול  ב חוכמתכה  ו ב סוד  רזיכה  לא  יביט  כול  .  ו מה  אף הו  אדם  ו אדמה  הוא  .  חמר  קורץ  ו ל עפר  תשובתו  .  כי  תשכילנו  ב נפלאות  כ אלה  ו ב סוד  אמתכה  תודיענו  .  ו אני  עפר  ו אפר  מה  אזום  ב לוא  חפצתה  .  ו מה  אתחשב  ב אין  רצונכה  .  מה  אתחזק  ב לא  העמדתני  .  ו איכה  אכשיל  ב לא  יצרתה  לי  .  ו מה  אדבר  ב לא  פתחתה  פי  .  ו איכה  אשיב  ב לוא  השכלתני  .  הנה  אתה  שר  אלים  ו מלך  נכבדים  ו אדון  ל כול  רוח  ו מושל  ב כל  מעשה  .  ו מ בלעדיכה  לא  יעשה  כול  .  ו לא  יודע  ב לוא  רצונכה  .  ו אין  זולתך  ו אין  עמכה  ב כוח  .  ו אין  ל נגד  כבודכה  ו ל גבורתכה  אין  מחיר  .  ו מי  ב כול  מעשי  פלאכה  ה גדולים  יעצור  כוח  ל התיצב  ל פני  כבודכה  .  ו מה  אף הוא  שב ל עפרו  כי  יעצור  כוח  .  רק  ל כבודכה  עשיתה  כול  אלה  .  ברוך  אתה  אדוני  אל  ה רחמים  ו רב  ה חסד  כי  הודעתני  אלה  ל ספר  נפלאותכה  ו לא  ל הס  יומם  ו לילה  .  א  לך  כול  ה חיל    ב  רב  ל חסדכה  ב גדול  טובכה  ו רוב  רחמיכה  אשתעשעה  ב סליחותיכה  כי  נשענתי  ב אמתכה  ו      כה  ו אין  ב לא  מצב    כה  ו ב לא  ידכה  אין  משפט  ו ב לוא  מ גערתכה  אין  מכשול  ו אין  נגע  ב לוא  ידעתה  ו לא  יעשה  כול  ב לא  רצונכה  .  ו אני  ל פי  דעתי  ב אמתכה  אזמרה  ב חסדכה  ו ב הביטי  ב כבודכה  אספרה  נפלאותיכה  .  ו ב הביני  ב סוד  פלאכה  אוחיל  ל המון  רחמיכה  ו ל סליחותיכה  אקוה  .  כי  אתה  יצרתה  רוח  עבדכה  ו כ רצונכה  הכינותני  .  ו לא  נתתה  משעני  על  בצע  ו ב הון  חמס  לא  לבי  ו יצר  בשר  לא  שמתה  לי  מעוז  .  חיל  גבורים  על  רוב  עדנים  ו ישתעשעו  ב רוב  דגן  תירוש  ו יצהר  .  ו יתרוממו  ב מקנה  ו קנין  .  ו יפרחו  כ עץ  רענן  על  פלגי  מים  ל שת  עלה  ו ל הרבות  ענף  .  כי  בחרתה  בם  מ כול  בני  אדם  ו ל הדשן  כול  מ ארץ  .  ו ל בני  אמתכה  נתתה  שכל    ת  עד  .  ו ל פי  דעתם  יכבדו  איש  מ רעהו  .  ו כן  ל בן  אדם  ב איש  הרביתה  נחלתו  ב דעת  אמתכה  .  ו ל פי  דעתו  י  ב    כי  נפש  עבדכה  תעבה  הון  ו בצע  ו ב רום  עדנים  לא  כי  שש  לבי  ב בריתכה  ו אמתכה  תשעשע  נפשי  .  ו אפרחה  כ שושנה  ו לבי  נפתח  ל מקור  עולם  .  ו משענתי  ב מעוז  מ רום  ו עמל  .  ו יבול  כ נץ  ל פני  רוח  .  ו יתהולל  לבי  ב חלחלה  ו מותני  ב רעדה  .  ו נהמתי  עד  תהום  תבוא  ו ב חדרי  שאול  תחפש  יחד  .  ו אפחדה  ב שומעי  משפטיכה  עם  גבורי  כוח  ו ריבכה  עם  צבא  קדושיכה  ב שמים  ו  שה  ו משפט  ב כול  מעשיכה  ו צדק  י      ל    תי    עוני  .  ב פחד  מדהוב  עמל  מ עיני  ו יגון  מ גויתי  ו ב      ן  ב הגי  לבי  .  אודכה  אלי  כי  הפלתה  עם  עפר  ו ב יצר  חמר  הגברתה  מודה  מודה  .  ו אני  מה  כיא  הבינותני  ב סוד  אמתכה  ו תשכילני  ב מעשי  פלאכה  .  ו תתן  ב פי  הודות  ו ב לשוני  תהלה  ו מזל  שפתי  ב מכון  רנה  .  ו אזמרה  ב חסדיכה  ו ב גבורתכה  אשוחחה  כול  ה יום  .  תמיד  אברכה  שמכה  ו אספרה  כבודכה  ב תוך  בני  אדם  ו ב רוב  טובכה  תשתעשע  נפשי  .  ו אני  ידעתי  כי  אמת  פיכה  ו ב ידכה  צדקה  .  ו ב מחשבתכה  כול  דעה  ו ב כוחכה  כול  גבורה  ו כול  כבוד  אתכה  הוא  .  ב אפכה  כול  משפטי  נגע  ו ב טובכה  רוב  סליחות  .  ו רחמיכה  ל כול  בני  רצונכה  .  כי  הודעתם  ב סוד  אמתכה  ו ב רזי  פלאכה  השכלתם  .  ו לעמען  כבודכה  טהרתה  אנוש  מ פשע  ל התקדש  לכה  מ כול  תועבות  נדה  ו אשמת  מעל  ל הוחד  עם  בני  אמתך  ו ב גורל  עם  קדושיכה  .  ל הרים  מ עפר  תולעת  מתים  ל סוד  אמתכה  ו מ רוח  נעוה  ל בינתכה  .  ו ל התיצב  ב מעמד  ל פניכה  עם  צבא  עד  ו רוחות  עולם  ו ל התחדש  עם  כול  הווה  ו נהיה  ו עם  ידעים  ב יחד  רנה  .  ו אני  אודכה  אלי  ארוממכה  צורי  .  ו ב הפלא  כי  הודעתני  סוד  אמת  ו ב רזי  פלא  השכלתני  ו הבינותני  ב נפלאותיכה  ו נסתרותיכה  גליתה  לי  ו אביט  ב      י  חסד  .  ו אדעה  כי  לכה  ה צדק  ו ב חסדיכה  ישפטו  ה  ו כלה  ב לוא  רחמיך  .  ו אני  נפתח  לי  מקור  ל אבל  מרורים  ו לא  נסתר  עמל  מ עיני  ב דעתי  יצרי  גבר  ו תשובת  אנוש  אתבוננה  ו אכירה  אבל  חטאה  ו יגון  אשמה  .  ו יבואו  ב לבבי  ו יגעו  ב עצמי  ל   ים  ו ל הגות  הגי  יגון  ו אנחה  ב כנור  קינה  ל כול  אבל  יגון  ו מספד  מרורים  עד  כלות  עולה  ו אין  מכאוב  ו אין  נגע  ל החלות  .  ו אז  אזמרה  ב כנור  ישועות  ו נבל  שמחה  ו תוף  גילה  ו חליל  תהלה  ל אין  השבת  .  ו מי  ב כול  מעשיכה  יוכל  ל ספר  כול  נפלאותיכה  .  ב פי  כולם  יהולל  שמכה  ל עולמי  עד  .  יברכוכה  כ פי  שכלם  ו ב כול  קצים  ישמיעו  יחד  ב קול  רנה  .  ו אין  יגון  ו אנחה  ו עולה  לא  תמצא  עוד  .  ו אמתכה  תופיע  ל כבוד  עד  ו שלום  עולום  .  ברוך  אתה  אדוני  אשר  נתתה  ל עבדכה  שכל  דעה  ל הבין  ב נפלאותיכה  ו מענה  לשון  ל ספר  ב רוב  חסדיכה  .  ברוך  אתה  אל  ה רחמים  ו ה חנינה  כ גדול  כוחכה  ו רוב  אמתכה  ו המון  חסדיכה  ב כול  מעשיכה  .  שמח  נפש  עבדכה  ב אמתכה  ו טהרני  ב צדקתכה  .  כ אשר  יחלתי  ל טובכה  ו ל חסדיכה  אקוה  .  ו ל סליחותיכה  פתחתה  משברי  ו ב יגוני  נחמתני  כיא  נשנתי  ב רחמיכה  .  ברוך  אתה  אדוני  כי  אתה  פעלתה  אלה  ו תשם  ב פי  עבדכה  הודות  תהלה  ו תחנה  ו מענה  לשון  .  ו הכינותה  לי  פעולת  ו אעצור  כוח  ל  ב  ל  .  ו אתה  אמתכה  ו א  .  תרחב  נפשי    ר  ל  ה  ב שמחה  ו ששון  .  ו אשבה  ל בטח  ב מעון  קודש  שלום  ב שוקט  ו שלוה  ב שלום  ו ברכה  ב אהלי  כבוד  ו ישועה  .  ו אהללה  שמכה  ב תוך  יראיכה  .  ל משכיל  הודות  ו תפלה  ל התנפל  ו התחנן  תמיד  מ קצ  ל קצ  .  עם  מבוא  אור  ל ממשלתו  ב תקופות  יום  ל תכונו  ל חוקות  מאור  גדול  ב פנות  ערב  ו מוצא  אור  ב רשית  ממשלת  חושך  ל מועד  לילה  .  ב תקופתו  ל פנות  בוקר  ו ב קצ  האספו  אל מעונתו  מ פנית  אור  ל מוצא  לילה  ו מפניבוא  יומם  .  תמיד  ב כול  מולדי  עת  יסודי  קצ  .  ו תקופת  מועדים  ב תכונם  ב אותותם  ל כול  ממשלתם  ב תכון  נאמנה  מ פי  אל  .  ו תעודת  הווה  ו היאה  תהיה  ו אין  אפס  .  ו זולתה  לוא  היה  ו לוא  יהיה  עוד  .  כי  אל  ה ודיעות  הכינה  ו אין  אחר  עמו  .  ו אני  משכיל  ידעתיכה  אלי  ב רוח  אשר  נתתה  בי  .  ו נאמנה  שמעתי  ל סוד  פלאכה  .  ב רוח  קודשכה  פתחתה  ל תוכי  דעת  ב רז  שכלכה  ו מעין  גבורתכה  ה  ב תוך  יראיכה  ל רוב  חסד  ו קנאת  כלה  ו השבת  ל  ב הדר  כבודכה  ל אור  עולם  מ פחד  רשעה  ו אין  רמיה  ו  ו ל  מועדי  שממה  .  כיא  אין  עוד  ו אין  עוד  מדהבה  .  כיא  ל פני  אפכה  ב    יחפזו  .  ו אין  צדיק  עמכה  כה  ו ל השכיל  ב כול  רזיכה  ו ל שיב  דבר  על  משפטיכה  ב תוכחתכה  ו ל טובכה  יצפו  .  כיא  ב חסדכה  כול  יודעיכה  .  ו ב קצ  כבודכה  יגילו  ו ל פי  .  כיא  כ שכלם  הגשתם  ו ל פי  ממשלתם  ישרתוכה  ל מפלגיהם  לוא  ל שוב  ממכה  ו לוא  ל עבור  על  דברכה  .  ו אני  מ עפר  לקחתני  ו מ חמר  קורצתי  ל מקור  נדה  ו   ערות  קלון  מקוי  עפר  ו מגבל  ב מים  סוד  רמה  ו מדור  חושך  .  ו תשובת  עפר  ל יצר  חמר  ב קצ  אפכה  ישוב  עפר  אל  אשר  לקח  מ שם  .  ו מה  ישיב  עפר  ו אפר  על  משפטכה  ו מה  יבין  ב מעשיו  .  ו מה  יתיצב  ל פני  מוכיח  בו  .  ו קודש  עולם  ו מקוי  כבוד  ו מקור  דעת  ו גבורת  פלא  .  ו המה  לוא  יוכלו  ל ספר  כול  כבודכה  ו ל התיצב  ל פני  אפכה  .  ו אין  ל השיב  דבר  על  בוכחתכה  .  כיא  צדקתה  ו אין  ל נגדכה  .  ו מה  אף הו  שב  אל  עפרו  .  ו אני  נאלמתי  .  ו מה  אדבר  על  זות  .  כ דעתי  דברתי  מצורוק  יצר  חמר  .  ו מה  אדבר  כיא  אם  פתחתה  פי  .  ו איכה  אבין  כיא  אם  השכלתני  .  ו מה  אדבר  ב לוא  גליתה  לבי  .  ו איכה  אישר  דרך  כיא  אם  הכינותה  פעמי  .  ו מה  תעמוד  פעמי  אין  מתחזק  ב כוח  .  ו איכה  אתקומם  כיא  אם  ו כול  .  פעמי  ב אין  ה  כ    ו .  פשע  ילוד  אשה  יכה  ו צדקתכה  ו איכה  אכיר  ב לוא  ראיתי  זות  ו אבין  ב אלה  ב לוא  השכלתני  ו איכה  אביט  ב לוא  גליתה  עיני  ו אשמעה  ב לוא  השם  לבבי  .  כיא  ל ערל  אוזן  נפתח  דבר  ו לב  ה אבן  יתבונן  ב נפלאות  .  ו אדעה  כיא  לכה  עשיתה  אלה  אלי  .  ו מה  בשר  כיא  כה  ל הפליא  .  ו ב מחשבתכה  ל הגביר  ו ל הכין  כול  ל כבודכה  .  ב צבא  דעת  ל ספר  ל בשר  גבורות  ו חוקי  נכונות  ל ילוד  אשה  .  ו  הביאותה  ב ברית  עמכה  ו תגלה  לב  עפר  ל השמר  מן  לו  מ פחי  משפט  ל עומת  רחמיכה  .  ו אני  יצר  חמר  ו מגבל  מים  מבנה  עפר  ו לב  ה אבן  .  ל מי  נחשבתי  עד  זות  .  כיא  תקנתה  ב אוזן  עפר  ו נהיות  עולם  חקותה  ב לב  ה אבן  .  ו  השבתה  ל הביא  ב ברית  עמכה  ו ל עמוד  ב משפטי  עדים  ב מכון  עולם  ל אור  אורתים  עד  נצח  .  ו נס  חושך  ו ת    ל  ל אין  סוף  ו קצי  שלום  ל אין  חקר  .  ו אני  יצר  ה עפר  ו ל ברך  שמכה  אפתח  פי  א  יצר  ד  אל      עפר  תחה  נה  מלכודת  נסתרה  ה  נפרשה  רשת  שוחה  ו ב דרכיה  צמי  אבדון      ה  ו א      ה  נפתחה  דרך  ל ים  ל התהלך  ב נתיבות  שלום  ו עם  בשר  ל הפליא  כ אלה  .  כיא  פן  תהלכו  פעמי  על  מטוני  פחיה  ו מפרשי  רשת  ו ערמת  .  איכה  אשמר  ב יצר  עפר  מ התפרר  ו מתוך  דונג  ב המס  ל פני  אש  ו מקוי  אפר  .  איכה  אעמוד  ל פני  רוח  סוערה  ו אני  יכינני  ב  ו ישמורהו  ל רזי  חפצו  .  כיא  הוא  ידע  ל מ    ל  ר  כלה  ו פח  ל פח  יטמונו  צמי  רשעה    ו  ב עול  יתמו  כול  יצר  רמיה  .  כיא  ל אף  מגבל  און  ו אפס  יצר  עולה  ו מעשי  רמיה    ע  .  ו אני  יצר  ה .    מה  יתחזק  לכה  .  אתה  אל  ה דעות  כול  עשיתם  .  ו מ בלעדיכה  לוא  פ         ו אני  יצר  ה עפר  ידעתי  ב רוח  אשר  נתתה  בי  כיא    מה  כול  עולה  ו רמיה  יגורו  יחד  ל זדון  כול  מעשי  נדה  ל תחלויים  ו משפטי  נגע  ו כלת  עולם      ח            ש          לכה  חמה  ו קנאה  נוקמת  .  יצר  ה חמר    י  קודש  אשר  ב שמים  גדול  ו הוא  ה פלא  .  ו הם  לוא  יוכלו  ל הבין  ב אלה  ו ל ספר  נפלאותיכה  ו לוא  יעצורו  ל דעת  ב כול  שב  אל  עפרו  .  ו אני  איש  פשע  ו מגולל  אשמת  רשעה  .  ו אני  ב קצי  חרון  ל התקומם  ל פני  נגע  ו ל השמר  מ  תודיעני  אלהי  כיא  יש  מקוה  ל איש  מעל  .  ו אני  יצר  ה חמר  נשענתי  על  זרועכה  ה חזקה  ו  רגלי  .  ו אדעה  כיא  אמת  פיכה  ו כול  דברכה  לוא  ישוב  אחור  .  ו אני  ב קצי  אתמוכה  ב בריתכה    מה  ב מעמד  העמדתני  .  כיא  איש  ו תשיבהו  ו ב מה  ית      הש      תה  עצמתה      פ      ב  יש    ל לוא  מקוה  .  ו אני  יצר  .  פלגתה  א  אשר  ערב  ו בוקר  עם  מבוא  נגיעי  גבר  ו מ מכאוב  אנוש  תוציא  ב שמחה  כיא  ל סליחות  יצפו  .  ו על  משמרתם  יתיצבו  ו נדיבים  לוא  כלו  כיא  תגער  ב כול  שטן  משחית  ו מרצ  לי  מ אז  כוננתי  ל   בה  ו אתה  גליתה  אוזני  .  כ    לוא  יבוא  כי    או  אנושי  ברית  פותו  בם  .  ו יבוא  ב מבניתי  ו תכמי  ב תוכחות  ל פניכה  .  ו אני  פחדתי  מ משפטכה  ל פניכה  .  ו מי  יזכה  ב משפטכה  .  ו מה  אף הוא    אנו  ב משפט  ו שב  אל  עפרו  .  מה  יבין  ב  כיא  אתה  אלי  פתחתה  לבבי  ל בינתכה  ו תגל  אוזני  ו ל השען  על  טובכה  .  ו יהם  לבי  כ        ו לבבי  כ דונג  ימס  על  פשע  ו חטאה  עד  תומה  .  ברוך  אתה  אל  ה דעות  אשר  הכינותה  ו תפגע  ב עבדכה  זות  למענכה  .  כיא  ידעתי  ו ל חסדכה  אוחיל  ב כול  היותי  ו שמכה  אברכה  תמיד  .  מקוה  ל עבדכה  ו אל  תעזובנו  ב קצי  כה  ו כבודכה  ו טובכה  על  ב  .  אורכה  ו תעמד  מ אז  אורכה  ל אין  השבת  .  כיא  אתכה  אור  ל  ו תגל  אוזן  עפר  ת  ו ל  מזמה  אשר  הו    א    ע      ו תאמנה  ב אוזן  עבדכה  עד  עולם  שמועות  פלאכה  ל הופיע  ל עיני  כול  שומעי  ב ימין  עוזכה  ל נהל  כולם  ב כוח  גבורתכה  יהלל  שמכה  ו יתגבר  ב כבודכה  .  אל  תשב  ידכה  מ  ל היות  לו  מתחזק  ב בריתכה  ו עומד  ל פניכה  ב תמים  .  כיא  מקור  פתחתה  ב פי  עבדכה  ו ב לשוני  חקקתה  על  קו  משפט  ל משמיע  ל יצר  מ בינתו  ו ל מליצ  ב אלה  ל עפר  כמוני  .  ו תפתח  מקור  ל הוכיח  ל יצר  חמר  דרכו  ו אשמות  ילוד  אשה  כ מעשיו  ו ל פתח  מקור  אמתכה  ל יצר  אשר  סמכתה  ב עוזכה  .  ל הרים  כ אמתכה  מבשר  ו ל ספר  טובכה  ל בשר  ענוים  ל רוב  רחמיכה  ו ל השביע  מ מקור  דעת  כול  נכאי  רוח  ו אבלים  ל שמחת  עולם  .  ו תפתח  פי  עבדכה    תים  ל  ל  ל  .  ישמיעו  עולם  ו שכלכה    בה  ו ב ארצכה  ו ב בני  אלים  יכבד  ק  אשר  יעמודו  ל עד  ל הללכה  ו ל ספר  כול  כבודכה  .  ו אני  מה  .  כיא  מ עפר  לוקחתי  .  ו אתה  אלי  ל כבודכה  עשיתה  כול  אלה  .  כ רוב  חסדיכה  תן  משמר  צדקכה  ל פניכה  תמיד  עד  פלט  .  ו מליצי  דעת  עם  כול  צעודי  ו מוכיחי  אמת  ב כול  פעמי  .  ו מה  עפר  ב כפיהם  ו מעשה  אפר  ב ידם  לוא  הנה  .  ו אתה  תכנתה  יצר  ה חמר  ו מצורוק  עשיתה  ל רצונכה  .  ו על  ה בנים  תבחננני  .  כ גודלכה  שב  אל  עפרו  .  ו על  עפר  הניפותה  רוח  קודשכה  ב טיט  אלים  ל החיד  עם  בני  שמים  עולם  ו אין  תשובת  חושך  .  כיא  ו מאור  גליתה  ו לוא  ל השיב  רוח  קודשכה  הניפותה  ל כפור  אשמה  משרתים  עם  צבאכה  ו מתהלכים    בות  מ ל פניכה .  כיא  נכונו  ב אמתכה  .  הפלתה  אלה  ל כבודכה  ו מצורוק  ל גורל  עול  יצר  נתעב  יצר  נתעב  .        שמ  יצר  בשר  עד  קצ  ו מי  יועדכה  ב משפטי  ה  ל מלאכי  עד  ב משפט  ו רזי  פשע  ל השנות  בשר  ב אשמתם  כיא  צ  ו יעופפו  בה  כול  מלאכי  שמים  מקורם  ב עבותי  רוח  .  ו תכנע  אלים  מ מכון  קודשכה  ו המה  לוא  ישרתוכה  ב מעון  כבודכה  .  ו אתה  אדם  על  ה כר  כ עוף  אסור  עד  קצ  רצונכה  .  בל  שלח  ידו  רמות  כוח  ו רוב  בשר  ל הרשיע  ב קצי  חרונכה    כה  ל הפלא  ל הכין  ב סוד  עמכה  ה ממזרים  כי  לוא  פגרים  ל לוא  .  צדקה  ו ע      ב  ל שחת  ב עת  עוונות    ם  כול  שטן  ו משחית  ב רשתם  ו ל שלחם  גוי    יכה  רשע  איש  זידן  ב מרבי  מעל  ו ב נגיעים  ו ב משפטים  ל    בים  ב בסר  כי  כול  רוחות  ממזרים  ל הרשיע  ב בשר  ו מ  הרשיעו  ב חייהם  ו כ  ל    כן  רוחם  ל הרשיע  על  ל  ו ל פלא  רזיכה  גליתה  לבי    אני  ל בשר  .  ידעתי  כיא  ם  עולה  ב קצ  כלות  רשעה  יה  ו ל כול  מביט  ו לוא  יכחד  מ ל פני  כובדתה  מ בני  אל  שומעי  גבולות  עמים  ל חזקם  ל הרבות  אשמה  ב נחלתו  עזבתם  ב יד  כול  מב    ם  א    ד  תבא    על  .  משפט  צדק  ב  ו ל הפרידם  מ מעמד  קדושים  ות  עם  עדת  קדושיכה  ב הפלא  עד  עולם  .  ו רוחות  רשעה  תבית  מ א  מעשי  רע  לוא  יהיו  עוד  .  ו תשם  מקום  רשעה  ל הפיל  גורלות  כול  רוחות  עולה  אשר  יושדו  ל אבל  ה  יעגן  ל דורי  נצח  .  ו ב רום  רשעה  ל מ  ירבה  אנינם  ל כלה  .  ו נגעד  כול  מעשיכה  חסדיכה  ו ל דעת  כול  ב כבודכה  ו ל פי  מועד  הודעתה  משפט  אמתכה  .  ו אוזן  בשר  גליתה  ו  הבינותה  ל אנוש  ב מזמת  לבכה  ו קצ  תעודה  השכלתה  ל בשר  .  ב צבא  ה מרום  תשפוט  ב מרום  ו ב יושבי  ה אדמה  על  ה אדמה  .  ו גם  ב שאול  תחתיה  תשפוט  . ו ב יושבי  חושך  תריב  ל הצדיק  צדיק  ו ל הרשיע  רשע  כיא  אין  מ בלעדיכה  פ ו להוא  ל הפרד  מ  דברכה    ת  א  ל  .  ל בני  ו גם  רוחות  מ חושך  ו י    ם  ו נמארים  ל בלתי  רשעתם  ב חכמת  כבדכה  ו לוא  יכירו  כול  מעשי  צדקכה  ל עוון  ב עדת  בני  שמים  ו ב סוד  קדושים  יתרוממו  עצה  ו משרתים  ן ו הכירום  ם  ירננו  ל זמר  ו ל הלל  ל  ל אין  השבת  .  ו אני  יצר  ה חמר  כ דעתי  ספרתי  ב עדת  קדושיכה  ב הגדל  ו הפלא  ל אל  כיא  אתה  אל  ה דעות  .  ב פי  עוז  מ נשף  ל ערב  אברכה  שמכה  .  ל משכיל  מזמור  שיר  ל        כה כיא  מלכי  קדם  נהמתי  אתרוממה  .  קודש  נבזה  כמוני  כמוני  ו חדל  ה רע  .  ידמה  בי  תדמה  ב הוריתי  .  ו מי  ישוה  ל  מי  כמוני  ב אלים  .  ל  מזל  שפתי  .  מי  יכיל  מי  ב לשון  יועדני  .  ידיד  ה מלך  רע  ל קדושים  .  ו לוא  יבוא  ו ל כבודי  לוא  ידמה  .  כיא  אני  עם  אלים  מעמדי  ו כבוד  ר  לוא  ב פז  אכ      לי  ו כתם  אוביורים  לוא  בי  .  ו ה    לוא  יחשב  בי  .  זמרו  ידידים  שירו  ל מלך  ה כבוד  .  שמחו  ב עדת  אל  הרנינו  ב אהלי  ישועה  הללו  ב מעון  קודש  .  רוממו  יחד  ב צבא  עולם  .  הבו  גדול  ל אלנו  ו כבוד  ל מלכנו  .  הקדישו  שמו  ב שפתי  עוז  ו לשון  נצח  הרימו  ל בד  קולכם  .  ב כול  קצים  השמיעו  הגי  רנה  הביעו  ב שמחות  עולמים  ו אין  השבת  .  השתחוו  ב יחד  קהל  .  ברכו  ה מפליא  גאות  ו מודיע  עוז  ידו  ל חתום  רזים  ו ל גלות  נסתרות  ל הרים  כושלים  ו נופליהם  ל שב  לכת  קוי  דעות  ו ל השפיל  נועדת  רום  גאים  עולם  ל התם  רזי  הוד  ו ל הקים  פלאות  כבוד  .  ה שופט  ב אף  כלה  ל    ב חסד  צדקה  ו ב רוב  רחמים  תחנה  רחמים  ל מפרי  טוב  גודלו  ו מקור  .  ו תמה  רשעה  ו שבתה  מדהבה  שבת  נוגש  ב זעם  כלתה  רמיה  ו אין  נעוות  ב לוא  דעת  הופיע  אור  ו שמחה  תביע  אבד  אבל  ו נס  יגון  .  הופיע  שלום  שבת  פחד  נפתח  מקור  ל ברכת  עד  ו מרפא  ב כול  קצי  עולם  .  כלה  עוון  שבת  נגע  ל אין  מחלה  .  נאספה  עולה  ו אשמה  לוא  תהיה  עוד  .  השמיעו  ו אמרו  גדול  אל  עושה  פלא  .  כיא  השפיל  גבהות  רום  ל אין  שרית  .  ו ירם  מ עפר  אביון  ל רום  עולם  ו עד  שחקים  יגביה  ב קומה  .  ו עם  אלים  ב עדת  יחד  .  ו רפ    אף  ל כלת  עולם  .  ו כושלי  ארצ  ירים  ל אין  מחיר  ו גבורת  עד  עם  מצעדם  ו שמחת  עולם  ב מכוניהם  כבוד  נצח  ו אין  השבת  ל עולמי  עד  .  יומרו  ברוך  אל  ה מפלי  פלאות  גאות  ו מגדיל  ל הודיע  גבורה  ו מצדיק  ב דעת  ל כול  מעשיו  ו טוב  על  פניהם  ב דעתם  ב רוב  חסדיו  ו המון  רחמיו  ל כול  בני  אמתו  .  ידענוכה  אל  ה צדק  ו השכלנו  ב אמתכה  מלך  ה כבוד  .  כיא  ראינו  קנאתכה  ב כוח  גבורה  .  ו הכרנו  משפטיכה  ב המון  רחמים  ו הפלא  סליחות  .  מה  בשר  ל אלה  .  ו מה  יחשב  עפר  ו אפר  ל ספר  אלה  מ קץ  ל קץ  ו ל התיצב  ב מעמד  ל פניכה  ו ל בוא  ב יחד  עם  בני  שמים  .  ו אין  מליץ  ל השיב  דבר  כ פיכה  ו  לכה  כיא  העמדתנו  ל רצונכה  ב ו נעצור  כוח  ל שמוע  נפלאות  כ אלה  דברנו  לכה  ו לוא  ל איש  בינים  ו הטיתה  אוזן  ל מוצא  שפתינו  .  השמיעו  ו אמורו  ברוך  אל  עליון  ה נוטה  שמים  ב כוחו  ו כול  מחשביהם  מכין  ב עוזו  ארץ  ב גבורתו  עושה  .    ים  ל  רציתה  ב ב לוא  .  עפר  כמוני  כבודכה  מכה  ב הפלא  ו א    קודש  על  ידי  גבורתכה  ב פי  ל  .  משפטכה  .  ך  אתחנן  מענה  לשון  .  נהיה  ב תבל  ל אנשי  בריתך  .  עוון  ו אשמה  א  כי  אין  פה  ו תודיעני  . קדושיכה  ו ב פקוד  ל  כה  בני  א  .  קדושים  יברכו  שמכה  ב  .  בינה  ב לב  כבודך  ו ל ספר  גבורותיך  .  ל ספר  כול  אלה  ו אדעה  כי  ב  ב ש  ל      ל  ל  .  גדול  רחמיכה  הודעתה  אלה  תעות  מרמה  מענה  .    של    יאירו  כ שמש  מעון  ה קודש  .  אב    להב  ו ל הבין  עד  קצ  משפטכה  ל רוות  ב . ל הבין  ב תשובת  מעמדי  ב לוא  תו  עד  קצ  תשובה  ירים  ל מ    ל קצ  .      מ  של  ע        מ            ע    .  כיא  מאור  ו ל טהר  נמהרי  ב רצונכה  .  תפתח  לוחות  מע    .    י    תה  ב לוא  . ']"
     },
     "execution_count": 44,
     "metadata": {},
     "output_type": "execute_result"
    }
   ],
   "source": [
    "df_by_book[df_by_book[\"book\"] == \"1QHa\"][\"text\"].to_list()"
   ],
   "metadata": {
    "collapsed": false,
    "ExecuteTime": {
     "end_time": "2024-05-16T12:13:59.158624Z",
     "start_time": "2024-05-16T12:13:59.148373Z"
    }
   },
   "execution_count": 44
  },
  {
   "cell_type": "markdown",
   "metadata": {
    "collapsed": false
   },
   "source": [
    "## Analysis"
   ]
  },
  {
   "cell_type": "code",
   "outputs": [
    {
     "data": {
      "text/plain": "{1606869: ['1606869', 'CD', '1', '1'],\n 1606870: ['1606870', 'CD', '1', '1'],\n 1606871: ['1606871', 'CD', '1', '1'],\n 1606872: ['1606872', 'CD', '1', '1'],\n 1606873: ['1606873', 'CD', '1', '1'],\n 1606874: ['1606874', 'CD', '1', '1'],\n 1606875: ['1606875', 'CD', '1', '1'],\n 1606876: ['1606876', 'CD', '1', '1'],\n 1606877: ['1606877', 'CD', '1', '1'],\n 1606878: ['1606878', 'CD', '1', '1'],\n 1606879: ['1606879', 'CD', '1', '2'],\n 1606880: ['1606880', 'CD', '1', '2'],\n 1606881: ['1606881', 'CD', '1', '2'],\n 1606882: ['1606882', 'CD', '1', '2'],\n 1606883: ['1606883', 'CD', '1', '2'],\n 1606884: ['1606884', 'CD', '1', '2'],\n 1606885: ['1606885', 'CD', '1', '2'],\n 1606886: ['1606886', 'CD', '1', '2'],\n 1606887: ['1606887', 'CD', '1', '2'],\n 1606888: ['1606888', 'CD', '1', '2'],\n 1606889: ['1606889', 'CD', '1', '2'],\n 1606890: ['1606890', 'CD', '1', '2'],\n 1606891: ['1606891', 'CD', '1', '2'],\n 1606892: ['1606892', 'CD', '1', '2'],\n 1606893: ['1606893', 'CD', '1', '2'],\n 1606894: ['1606894', 'CD', '1', '3'],\n 1606895: ['1606895', 'CD', '1', '3'],\n 1606896: ['1606896', 'CD', '1', '3'],\n 1606897: ['1606897', 'CD', '1', '3'],\n 1606898: ['1606898', 'CD', '1', '3'],\n 1606899: ['1606899', 'CD', '1', '3'],\n 1606900: ['1606900', 'CD', '1', '3'],\n 1606901: ['1606901', 'CD', '1', '3'],\n 1606902: ['1606902', 'CD', '1', '3'],\n 1606903: ['1606903', 'CD', '1', '3'],\n 1606904: ['1606904', 'CD', '1', '3'],\n 1606905: ['1606905', 'CD', '1', '3'],\n 1606906: ['1606906', 'CD', '1', '4'],\n 1606907: ['1606907', 'CD', '1', '4'],\n 1606908: ['1606908', 'CD', '1', '4'],\n 1606909: ['1606909', 'CD', '1', '4'],\n 1606910: ['1606910', 'CD', '1', '4'],\n 1606911: ['1606911', 'CD', '1', '4'],\n 1606912: ['1606912', 'CD', '1', '4'],\n 1606913: ['1606913', 'CD', '1', '4'],\n 1606914: ['1606914', 'CD', '1', '4'],\n 1606915: ['1606915', 'CD', '1', '4'],\n 1606916: ['1606916', 'CD', '1', '4'],\n 1606917: ['1606917', 'CD', '1', '4'],\n 1606918: ['1606918', 'CD', '1', '5'],\n 1606919: ['1606919', 'CD', '1', '5'],\n 1606920: ['1606920', 'CD', '1', '5'],\n 1606921: ['1606921', 'CD', '1', '5'],\n 1606922: ['1606922', 'CD', '1', '5'],\n 1606923: ['1606923', 'CD', '1', '5'],\n 1606924: ['1606924', 'CD', '1', '5'],\n 1606925: ['1606925', 'CD', '1', '5'],\n 1606926: ['1606926', 'CD', '1', '5'],\n 1606927: ['1606927', 'CD', '1', '5'],\n 1606928: ['1606928', 'CD', '1', '5'],\n 1606929: ['1606929', 'CD', '1', '5'],\n 1606930: ['1606930', 'CD', '1', '5'],\n 1606931: ['1606931', 'CD', '1', '5'],\n 1606932: ['1606932', 'CD', '1', '5'],\n 1606933: ['1606933', 'CD', '1', '6'],\n 1606934: ['1606934', 'CD', '1', '6'],\n 1606935: ['1606935', 'CD', '1', '6'],\n 1606936: ['1606936', 'CD', '1', '6'],\n 1606937: ['1606937', 'CD', '1', '6'],\n 1606938: ['1606938', 'CD', '1', '6'],\n 1606939: ['1606939', 'CD', '1', '6'],\n 1606940: ['1606940', 'CD', '1', '6'],\n 1606941: ['1606941', 'CD', '1', '6'],\n 1606942: ['1606942', 'CD', '1', '6'],\n 1606943: ['1606943', 'CD', '1', '7'],\n 1606944: ['1606944', 'CD', '1', '7'],\n 1606945: ['1606945', 'CD', '1', '7'],\n 1606946: ['1606946', 'CD', '1', '7'],\n 1606947: ['1606947', 'CD', '1', '7'],\n 1606948: ['1606948', 'CD', '1', '7'],\n 1606949: ['1606949', 'CD', '1', '7'],\n 1606950: ['1606950', 'CD', '1', '7'],\n 1606951: ['1606951', 'CD', '1', '7'],\n 1606952: ['1606952', 'CD', '1', '7'],\n 1606953: ['1606953', 'CD', '1', '7'],\n 1606954: ['1606954', 'CD', '1', '7'],\n 1606955: ['1606955', 'CD', '1', '7'],\n 1606956: ['1606956', 'CD', '1', '8'],\n 1606957: ['1606957', 'CD', '1', '8'],\n 1606958: ['1606958', 'CD', '1', '8'],\n 1606959: ['1606959', 'CD', '1', '8'],\n 1606960: ['1606960', 'CD', '1', '8'],\n 1606961: ['1606961', 'CD', '1', '8'],\n 1606962: ['1606962', 'CD', '1', '8'],\n 1606963: ['1606963', 'CD', '1', '8'],\n 1606964: ['1606964', 'CD', '1', '8'],\n 1606965: ['1606965', 'CD', '1', '8'],\n 1606966: ['1606966', 'CD', '1', '8'],\n 1606967: ['1606967', 'CD', '1', '8'],\n 1606968: ['1606968', 'CD', '1', '8'],\n 1606969: ['1606969', 'CD', '1', '8'],\n 1606970: ['1606970', 'CD', '1', '8'],\n 1606971: ['1606971', 'CD', '1', '8'],\n 1606972: ['1606972', 'CD', '1', '9'],\n 1606973: ['1606973', 'CD', '1', '9'],\n 1606974: ['1606974', 'CD', '1', '9'],\n 1606975: ['1606975', 'CD', '1', '9'],\n 1606976: ['1606976', 'CD', '1', '9'],\n 1606977: ['1606977', 'CD', '1', '9'],\n 1606978: ['1606978', 'CD', '1', '9'],\n 1606979: ['1606979', 'CD', '1', '9'],\n 1606980: ['1606980', 'CD', '1', '9'],\n 1606981: ['1606981', 'CD', '1', '9'],\n 1606982: ['1606982', 'CD', '1', '9'],\n 1606983: ['1606983', 'CD', '1', '9'],\n 1606984: ['1606984', 'CD', '1', '10'],\n 1606985: ['1606985', 'CD', '1', '10'],\n 1606986: ['1606986', 'CD', '1', '10'],\n 1606987: ['1606987', 'CD', '1', '10'],\n 1606988: ['1606988', 'CD', '1', '10'],\n 1606989: ['1606989', 'CD', '1', '10'],\n 1606990: ['1606990', 'CD', '1', '10'],\n 1606991: ['1606991', 'CD', '1', '10'],\n 1606992: ['1606992', 'CD', '1', '10'],\n 1606993: ['1606993', 'CD', '1', '10'],\n 1606994: ['1606994', 'CD', '1', '10'],\n 1606995: ['1606995', 'CD', '1', '10'],\n 1606996: ['1606996', 'CD', '1', '10'],\n 1606997: ['1606997', 'CD', '1', '11'],\n 1606998: ['1606998', 'CD', '1', '11'],\n 1606999: ['1606999', 'CD', '1', '11'],\n 1607000: ['1607000', 'CD', '1', '11'],\n 1607001: ['1607001', 'CD', '1', '11'],\n 1607002: ['1607002', 'CD', '1', '11'],\n 1607003: ['1607003', 'CD', '1', '11'],\n 1607004: ['1607004', 'CD', '1', '11'],\n 1607005: ['1607005', 'CD', '1', '11'],\n 1607006: ['1607006', 'CD', '1', '11'],\n 1607007: ['1607007', 'CD', '1', '11'],\n 1607008: ['1607008', 'CD', '1', '11'],\n 1607009: ['1607009', 'CD', '1', '11'],\n 1607010: ['1607010', 'CD', '1', '12'],\n 1607011: ['1607011', 'CD', '1', '12'],\n 1607012: ['1607012', 'CD', '1', '12'],\n 1607013: ['1607013', 'CD', '1', '12'],\n 1607014: ['1607014', 'CD', '1', '12'],\n 1607015: ['1607015', 'CD', '1', '12'],\n 1607016: ['1607016', 'CD', '1', '12'],\n 1607017: ['1607017', 'CD', '1', '12'],\n 1607018: ['1607018', 'CD', '1', '12'],\n 1607019: ['1607019', 'CD', '1', '12'],\n 1607020: ['1607020', 'CD', '1', '12'],\n 1607021: ['1607021', 'CD', '1', '12'],\n 1607022: ['1607022', 'CD', '1', '13'],\n 1607023: ['1607023', 'CD', '1', '13'],\n 1607024: ['1607024', 'CD', '1', '13'],\n 1607025: ['1607025', 'CD', '1', '13'],\n 1607026: ['1607026', 'CD', '1', '13'],\n 1607027: ['1607027', 'CD', '1', '13'],\n 1607028: ['1607028', 'CD', '1', '13'],\n 1607029: ['1607029', 'CD', '1', '13'],\n 1607030: ['1607030', 'CD', '1', '13'],\n 1607031: ['1607031', 'CD', '1', '13'],\n 1607032: ['1607032', 'CD', '1', '13'],\n 1607033: ['1607033', 'CD', '1', '13'],\n 1607034: ['1607034', 'CD', '1', '13'],\n 1607035: ['1607035', 'CD', '1', '13'],\n 1607036: ['1607036', 'CD', '1', '14'],\n 1607037: ['1607037', 'CD', '1', '14'],\n 1607038: ['1607038', 'CD', '1', '14'],\n 1607039: ['1607039', 'CD', '1', '14'],\n 1607040: ['1607040', 'CD', '1', '14'],\n 1607041: ['1607041', 'CD', '1', '14'],\n 1607042: ['1607042', 'CD', '1', '14'],\n 1607043: ['1607043', 'CD', '1', '14'],\n 1607044: ['1607044', 'CD', '1', '14'],\n 1607045: ['1607045', 'CD', '1', '14'],\n 1607046: ['1607046', 'CD', '1', '14'],\n 1607047: ['1607047', 'CD', '1', '14'],\n 1607048: ['1607048', 'CD', '1', '14'],\n 1607049: ['1607049', 'CD', '1', '15'],\n 1607050: ['1607050', 'CD', '1', '15'],\n 1607051: ['1607051', 'CD', '1', '15'],\n 1607052: ['1607052', 'CD', '1', '15'],\n 1607053: ['1607053', 'CD', '1', '15'],\n 1607054: ['1607054', 'CD', '1', '15'],\n 1607055: ['1607055', 'CD', '1', '15'],\n 1607056: ['1607056', 'CD', '1', '15'],\n 1607057: ['1607057', 'CD', '1', '15'],\n 1607058: ['1607058', 'CD', '1', '15'],\n 1607059: ['1607059', 'CD', '1', '15'],\n 1607060: ['1607060', 'CD', '1', '15'],\n 1607061: ['1607061', 'CD', '1', '15'],\n 1607062: ['1607062', 'CD', '1', '15'],\n 1607063: ['1607063', 'CD', '1', '15'],\n 1607064: ['1607064', 'CD', '1', '16'],\n 1607065: ['1607065', 'CD', '1', '16'],\n 1607066: ['1607066', 'CD', '1', '16'],\n 1607067: ['1607067', 'CD', '1', '16'],\n 1607068: ['1607068', 'CD', '1', '16'],\n 1607069: ['1607069', 'CD', '1', '16'],\n 1607070: ['1607070', 'CD', '1', '16'],\n 1607071: ['1607071', 'CD', '1', '16'],\n 1607072: ['1607072', 'CD', '1', '16'],\n 1607073: ['1607073', 'CD', '1', '16'],\n 1607074: ['1607074', 'CD', '1', '16'],\n 1607075: ['1607075', 'CD', '1', '16'],\n 1607076: ['1607076', 'CD', '1', '16'],\n 1607077: ['1607077', 'CD', '1', '17'],\n 1607078: ['1607078', 'CD', '1', '17'],\n 1607079: ['1607079', 'CD', '1', '17'],\n 1607080: ['1607080', 'CD', '1', '17'],\n 1607081: ['1607081', 'CD', '1', '17'],\n 1607082: ['1607082', 'CD', '1', '17'],\n 1607083: ['1607083', 'CD', '1', '17'],\n 1607084: ['1607084', 'CD', '1', '17'],\n 1607085: ['1607085', 'CD', '1', '17'],\n 1607086: ['1607086', 'CD', '1', '17'],\n 1607087: ['1607087', 'CD', '1', '17'],\n 1607088: ['1607088', 'CD', '1', '18'],\n 1607089: ['1607089', 'CD', '1', '18'],\n 1607090: ['1607090', 'CD', '1', '18'],\n 1607091: ['1607091', 'CD', '1', '18'],\n 1607092: ['1607092', 'CD', '1', '18'],\n 1607093: ['1607093', 'CD', '1', '18'],\n 1607094: ['1607094', 'CD', '1', '18'],\n 1607095: ['1607095', 'CD', '1', '18'],\n 1607096: ['1607096', 'CD', '1', '18'],\n 1607097: ['1607097', 'CD', '1', '18'],\n 1607098: ['1607098', 'CD', '1', '18'],\n 1607099: ['1607099', 'CD', '1', '18'],\n 1607100: ['1607100', 'CD', '1', '18'],\n 1607101: ['1607101', 'CD', '1', '18'],\n 1607102: ['1607102', 'CD', '1', '19'],\n 1607103: ['1607103', 'CD', '1', '19'],\n 1607104: ['1607104', 'CD', '1', '19'],\n 1607105: ['1607105', 'CD', '1', '19'],\n 1607106: ['1607106', 'CD', '1', '19'],\n 1607107: ['1607107', 'CD', '1', '19'],\n 1607108: ['1607108', 'CD', '1', '19'],\n 1607109: ['1607109', 'CD', '1', '19'],\n 1607110: ['1607110', 'CD', '1', '19'],\n 1607111: ['1607111', 'CD', '1', '19'],\n 1607112: ['1607112', 'CD', '1', '19'],\n 1607113: ['1607113', 'CD', '1', '19'],\n 1607114: ['1607114', 'CD', '1', '19'],\n 1607115: ['1607115', 'CD', '1', '19'],\n 1607116: ['1607116', 'CD', '1', '19'],\n 1607117: ['1607117', 'CD', '1', '20'],\n 1607118: ['1607118', 'CD', '1', '20'],\n 1607119: ['1607119', 'CD', '1', '20'],\n 1607120: ['1607120', 'CD', '1', '20'],\n 1607121: ['1607121', 'CD', '1', '20'],\n 1607122: ['1607122', 'CD', '1', '20'],\n 1607123: ['1607123', 'CD', '1', '20'],\n 1607124: ['1607124', 'CD', '1', '20'],\n 1607125: ['1607125', 'CD', '1', '20'],\n 1607126: ['1607126', 'CD', '1', '20'],\n 1607127: ['1607127', 'CD', '1', '20'],\n 1607128: ['1607128', 'CD', '1', '20'],\n 1607129: ['1607129', 'CD', '1', '20'],\n 1607130: ['1607130', 'CD', '1', '20'],\n 1607131: ['1607131', 'CD', '1', '20'],\n 1607132: ['1607132', 'CD', '1', '21'],\n 1607133: ['1607133', 'CD', '1', '21'],\n 1607134: ['1607134', 'CD', '1', '21'],\n 1607135: ['1607135', 'CD', '1', '21'],\n 1607136: ['1607136', 'CD', '1', '21'],\n 1607137: ['1607137', 'CD', '1', '21'],\n 1607138: ['1607138', 'CD', '1', '21'],\n 1607139: ['1607139', 'CD', '1', '21'],\n 1607140: ['1607140', 'CD', '1', '21'],\n 1607141: ['1607141', 'CD', '1', '21'],\n 1607142: ['1607142', 'CD', '1', '21'],\n 1607143: ['1607143', 'CD', '1', '21'],\n 1607144: ['1607144', 'CD', '1', '21'],\n 1607145: ['1607145', 'CD', '1', '21'],\n 1607146: ['1607146', 'CD', '1', '21'],\n 1607147: ['1607147', 'CD', '1', '21'],\n 1607148: ['1607148', 'CD', '2', '1'],\n 1607149: ['1607149', 'CD', '2', '1'],\n 1607150: ['1607150', 'CD', '2', '1'],\n 1607151: ['1607151', 'CD', '2', '1'],\n 1607152: ['1607152', 'CD', '2', '1'],\n 1607153: ['1607153', 'CD', '2', '1'],\n 1607154: ['1607154', 'CD', '2', '1'],\n 1607155: ['1607155', 'CD', '2', '1'],\n 1607156: ['1607156', 'CD', '2', '1'],\n 1607157: ['1607157', 'CD', '2', '1'],\n 1607158: ['1607158', 'CD', '2', '1'],\n 1607159: ['1607159', 'CD', '2', '1'],\n 1607160: ['1607160', 'CD', '2', '1'],\n 1607161: ['1607161', 'CD', '2', '1'],\n 1607162: ['1607162', 'CD', '2', '1'],\n 1607163: ['1607163', 'CD', '2', '2'],\n 1607164: ['1607164', 'CD', '2', '2'],\n 1607165: ['1607165', 'CD', '2', '2'],\n 1607166: ['1607166', 'CD', '2', '2'],\n 1607167: ['1607167', 'CD', '2', '2'],\n 1607168: ['1607168', 'CD', '2', '2'],\n 1607169: ['1607169', 'CD', '2', '2'],\n 1607170: ['1607170', 'CD', '2', '2'],\n 1607171: ['1607171', 'CD', '2', '2'],\n 1607172: ['1607172', 'CD', '2', '2'],\n 1607173: ['1607173', 'CD', '2', '2'],\n 1607174: ['1607174', 'CD', '2', '2'],\n 1607175: ['1607175', 'CD', '2', '3'],\n 1607176: ['1607176', 'CD', '2', '3'],\n 1607177: ['1607177', 'CD', '2', '3'],\n 1607178: ['1607178', 'CD', '2', '3'],\n 1607179: ['1607179', 'CD', '2', '3'],\n 1607180: ['1607180', 'CD', '2', '3'],\n 1607181: ['1607181', 'CD', '2', '3'],\n 1607182: ['1607182', 'CD', '2', '3'],\n 1607183: ['1607183', 'CD', '2', '3'],\n 1607184: ['1607184', 'CD', '2', '3'],\n 1607185: ['1607185', 'CD', '2', '3'],\n 1607186: ['1607186', 'CD', '2', '4'],\n 1607187: ['1607187', 'CD', '2', '4'],\n 1607188: ['1607188', 'CD', '2', '4'],\n 1607189: ['1607189', 'CD', '2', '4'],\n 1607190: ['1607190', 'CD', '2', '4'],\n 1607191: ['1607191', 'CD', '2', '4'],\n 1607192: ['1607192', 'CD', '2', '4'],\n 1607193: ['1607193', 'CD', '2', '4'],\n 1607194: ['1607194', 'CD', '2', '4'],\n 1607195: ['1607195', 'CD', '2', '4'],\n 1607196: ['1607196', 'CD', '2', '4'],\n 1607197: ['1607197', 'CD', '2', '4'],\n 1607198: ['1607198', 'CD', '2', '5'],\n 1607199: ['1607199', 'CD', '2', '5'],\n 1607200: ['1607200', 'CD', '2', '5'],\n 1607201: ['1607201', 'CD', '2', '5'],\n 1607202: ['1607202', 'CD', '2', '5'],\n 1607203: ['1607203', 'CD', '2', '5'],\n 1607204: ['1607204', 'CD', '2', '5'],\n 1607205: ['1607205', 'CD', '2', '5'],\n 1607206: ['1607206', 'CD', '2', '5'],\n 1607207: ['1607207', 'CD', '2', '5'],\n 1607208: ['1607208', 'CD', '2', '5'],\n 1607209: ['1607209', 'CD', '2', '5'],\n 1607210: ['1607210', 'CD', '2', '5'],\n 1607211: ['1607211', 'CD', '2', '5'],\n 1607212: ['1607212', 'CD', '2', '5'],\n 1607213: ['1607213', 'CD', '2', '5'],\n 1607214: ['1607214', 'CD', '2', '6'],\n 1607215: ['1607215', 'CD', '2', '6'],\n 1607216: ['1607216', 'CD', '2', '6'],\n 1607217: ['1607217', 'CD', '2', '6'],\n 1607218: ['1607218', 'CD', '2', '6'],\n 1607219: ['1607219', 'CD', '2', '6'],\n 1607220: ['1607220', 'CD', '2', '6'],\n 1607221: ['1607221', 'CD', '2', '6'],\n 1607222: ['1607222', 'CD', '2', '6'],\n 1607223: ['1607223', 'CD', '2', '6'],\n 1607224: ['1607224', 'CD', '2', '6'],\n 1607225: ['1607225', 'CD', '2', '6'],\n 1607226: ['1607226', 'CD', '2', '6'],\n 1607227: ['1607227', 'CD', '2', '6'],\n 1607228: ['1607228', 'CD', '2', '7'],\n 1607229: ['1607229', 'CD', '2', '7'],\n 1607230: ['1607230', 'CD', '2', '7'],\n 1607231: ['1607231', 'CD', '2', '7'],\n 1607232: ['1607232', 'CD', '2', '7'],\n 1607233: ['1607233', 'CD', '2', '7'],\n 1607234: ['1607234', 'CD', '2', '7'],\n 1607235: ['1607235', 'CD', '2', '7'],\n 1607236: ['1607236', 'CD', '2', '7'],\n 1607237: ['1607237', 'CD', '2', '7'],\n 1607238: ['1607238', 'CD', '2', '7'],\n 1607239: ['1607239', 'CD', '2', '7'],\n 1607240: ['1607240', 'CD', '2', '7'],\n 1607241: ['1607241', 'CD', '2', '7'],\n 1607242: ['1607242', 'CD', '2', '7'],\n 1607243: ['1607243', 'CD', '2', '7'],\n 1607244: ['1607244', 'CD', '2', '7'],\n 1607245: ['1607245', 'CD', '2', '8'],\n 1607246: ['1607246', 'CD', '2', '8'],\n 1607247: ['1607247', 'CD', '2', '8'],\n 1607248: ['1607248', 'CD', '2', '8'],\n 1607249: ['1607249', 'CD', '2', '8'],\n 1607250: ['1607250', 'CD', '2', '8'],\n 1607251: ['1607251', 'CD', '2', '8'],\n 1607252: ['1607252', 'CD', '2', '8'],\n 1607253: ['1607253', 'CD', '2', '8'],\n 1607254: ['1607254', 'CD', '2', '8'],\n 1607255: ['1607255', 'CD', '2', '8'],\n 1607256: ['1607256', 'CD', '2', '8'],\n 1607257: ['1607257', 'CD', '2', '8'],\n 1607258: ['1607258', 'CD', '2', '8'],\n 1607259: ['1607259', 'CD', '2', '8'],\n 1607260: ['1607260', 'CD', '2', '8'],\n 1607261: ['1607261', 'CD', '2', '9'],\n 1607262: ['1607262', 'CD', '2', '9'],\n 1607263: ['1607263', 'CD', '2', '9'],\n 1607264: ['1607264', 'CD', '2', '9'],\n 1607265: ['1607265', 'CD', '2', '9'],\n 1607266: ['1607266', 'CD', '2', '9'],\n 1607267: ['1607267', 'CD', '2', '9'],\n 1607268: ['1607268', 'CD', '2', '9'],\n 1607269: ['1607269', 'CD', '2', '9'],\n 1607270: ['1607270', 'CD', '2', '9'],\n 1607271: ['1607271', 'CD', '2', '9'],\n 1607272: ['1607272', 'CD', '2', '9'],\n 1607273: ['1607273', 'CD', '2', '9'],\n 1607274: ['1607274', 'CD', '2', '9'],\n 1607275: ['1607275', 'CD', '2', '9'],\n 1607276: ['1607276', 'CD', '2', '9'],\n 1607277: ['1607277', 'CD', '2', '10'],\n 1607278: ['1607278', 'CD', '2', '10'],\n 1607279: ['1607279', 'CD', '2', '10'],\n 1607280: ['1607280', 'CD', '2', '10'],\n 1607281: ['1607281', 'CD', '2', '10'],\n 1607282: ['1607282', 'CD', '2', '10'],\n 1607283: ['1607283', 'CD', '2', '10'],\n 1607284: ['1607284', 'CD', '2', '10'],\n 1607285: ['1607285', 'CD', '2', '10'],\n 1607286: ['1607286', 'CD', '2', '10'],\n 1607287: ['1607287', 'CD', '2', '10'],\n 1607288: ['1607288', 'CD', '2', '10'],\n 1607289: ['1607289', 'CD', '2', '10'],\n 1607290: ['1607290', 'CD', '2', '10'],\n 1607291: ['1607291', 'CD', '2', '11'],\n 1607292: ['1607292', 'CD', '2', '11'],\n 1607293: ['1607293', 'CD', '2', '11'],\n 1607294: ['1607294', 'CD', '2', '11'],\n 1607295: ['1607295', 'CD', '2', '11'],\n 1607296: ['1607296', 'CD', '2', '11'],\n 1607297: ['1607297', 'CD', '2', '11'],\n 1607298: ['1607298', 'CD', '2', '11'],\n 1607299: ['1607299', 'CD', '2', '11'],\n 1607300: ['1607300', 'CD', '2', '11'],\n 1607301: ['1607301', 'CD', '2', '11'],\n 1607302: ['1607302', 'CD', '2', '11'],\n 1607303: ['1607303', 'CD', '2', '11'],\n 1607304: ['1607304', 'CD', '2', '11'],\n 1607305: ['1607305', 'CD', '2', '11'],\n 1607306: ['1607306', 'CD', '2', '12'],\n 1607307: ['1607307', 'CD', '2', '12'],\n 1607308: ['1607308', 'CD', '2', '12'],\n 1607309: ['1607309', 'CD', '2', '12'],\n 1607310: ['1607310', 'CD', '2', '12'],\n 1607311: ['1607311', 'CD', '2', '12'],\n 1607312: ['1607312', 'CD', '2', '12'],\n 1607313: ['1607313', 'CD', '2', '12'],\n 1607314: ['1607314', 'CD', '2', '12'],\n 1607315: ['1607315', 'CD', '2', '12'],\n 1607316: ['1607316', 'CD', '2', '12'],\n 1607317: ['1607317', 'CD', '2', '12'],\n 1607318: ['1607318', 'CD', '2', '12'],\n 1607319: ['1607319', 'CD', '2', '12'],\n 1607320: ['1607320', 'CD', '2', '13'],\n 1607321: ['1607321', 'CD', '2', '13'],\n 1607322: ['1607322', 'CD', '2', '13'],\n 1607323: ['1607323', 'CD', '2', '13'],\n 1607324: ['1607324', 'CD', '2', '13'],\n 1607325: ['1607325', 'CD', '2', '13'],\n 1607326: ['1607326', 'CD', '2', '13'],\n 1607327: ['1607327', 'CD', '2', '13'],\n 1607328: ['1607328', 'CD', '2', '13'],\n 1607329: ['1607329', 'CD', '2', '13'],\n 1607330: ['1607330', 'CD', '2', '13'],\n 1607331: ['1607331', 'CD', '2', '13'],\n 1607332: ['1607332', 'CD', '2', '14'],\n 1607333: ['1607333', 'CD', '2', '14'],\n 1607334: ['1607334', 'CD', '2', '14'],\n 1607335: ['1607335', 'CD', '2', '14'],\n 1607336: ['1607336', 'CD', '2', '14'],\n 1607337: ['1607337', 'CD', '2', '14'],\n 1607338: ['1607338', 'CD', '2', '14'],\n 1607339: ['1607339', 'CD', '2', '14'],\n 1607340: ['1607340', 'CD', '2', '14'],\n 1607341: ['1607341', 'CD', '2', '14'],\n 1607342: ['1607342', 'CD', '2', '14'],\n 1607343: ['1607343', 'CD', '2', '14'],\n 1607344: ['1607344', 'CD', '2', '14'],\n 1607345: ['1607345', 'CD', '2', '14'],\n 1607346: ['1607346', 'CD', '2', '14'],\n 1607347: ['1607347', 'CD', '2', '15'],\n 1607348: ['1607348', 'CD', '2', '15'],\n 1607349: ['1607349', 'CD', '2', '15'],\n 1607350: ['1607350', 'CD', '2', '15'],\n 1607351: ['1607351', 'CD', '2', '15'],\n 1607352: ['1607352', 'CD', '2', '15'],\n 1607353: ['1607353', 'CD', '2', '15'],\n 1607354: ['1607354', 'CD', '2', '15'],\n 1607355: ['1607355', 'CD', '2', '15'],\n 1607356: ['1607356', 'CD', '2', '15'],\n 1607357: ['1607357', 'CD', '2', '15'],\n 1607358: ['1607358', 'CD', '2', '15'],\n 1607359: ['1607359', 'CD', '2', '15'],\n 1607360: ['1607360', 'CD', '2', '15'],\n 1607361: ['1607361', 'CD', '2', '15'],\n 1607362: ['1607362', 'CD', '2', '15'],\n 1607363: ['1607363', 'CD', '2', '15'],\n 1607364: ['1607364', 'CD', '2', '16'],\n 1607365: ['1607365', 'CD', '2', '16'],\n 1607366: ['1607366', 'CD', '2', '16'],\n 1607367: ['1607367', 'CD', '2', '16'],\n 1607368: ['1607368', 'CD', '2', '16']}"
     },
     "execution_count": 46,
     "metadata": {},
     "output_type": "execute_result"
    }
   ],
   "source": [
    "jhwh_list = []\n",
    "jhwh_dict = {}\n",
    "\n",
    "for word in F.otype.s('word')[:500]:\n",
    "    bo, ch, ve = T.sectionFromNode(word)  # unpack the tuple!\n",
    "    info = [str(word), bo, str(ch), str(ve)]\n",
    "    jhwh_list.append(word)\n",
    "    jhwh_dict[word] = info\n",
    "jhwh_dict"
   ],
   "metadata": {
    "collapsed": false,
    "ExecuteTime": {
     "end_time": "2024-05-16T12:28:03.736468Z",
     "start_time": "2024-05-16T12:28:03.543377Z"
    }
   },
   "execution_count": 46
  },
  {
   "cell_type": "code",
   "execution_count": 85,
   "metadata": {
    "ExecuteTime": {
     "end_time": "2024-05-02T14:02:08.624635Z",
     "start_time": "2024-05-02T14:02:08.507338Z"
    },
    "collapsed": false,
    "execution": {
     "iopub.execute_input": "2024-04-24T18:47:35.720863Z",
     "iopub.status.busy": "2024-04-24T18:47:35.720380Z",
     "iopub.status.idle": "2024-04-24T18:47:35.921688Z",
     "shell.execute_reply": "2024-04-24T18:47:35.920855Z",
     "shell.execute_reply.started": "2024-04-24T18:47:35.720829Z"
    }
   },
   "outputs": [
    {
     "name": "stderr",
     "output_type": "stream",
     "text": [
      "/var/folders/yv/8bscwg3x6m5934xb_mry4d_m0000gr/T/ipykernel_37597/2365607290.py:1: SettingWithCopyWarning: \n",
      "A value is trying to be set on a copy of a slice from a DataFrame.\n",
      "Try using .loc[row_indexer,col_indexer] = value instead\n",
      "\n",
      "See the caveats in the documentation: https://pandas.pydata.org/pandas-docs/stable/user_guide/indexing.html#returning-a-view-versus-a-copy\n",
      "  df_by_book[\"number_of_chars\"] = df_by_book['processed_text'].str.len()\n",
      "/var/folders/yv/8bscwg3x6m5934xb_mry4d_m0000gr/T/ipykernel_37597/2365607290.py:2: SettingWithCopyWarning: \n",
      "A value is trying to be set on a copy of a slice from a DataFrame.\n",
      "Try using .loc[row_indexer,col_indexer] = value instead\n",
      "\n",
      "See the caveats in the documentation: https://pandas.pydata.org/pandas-docs/stable/user_guide/indexing.html#returning-a-view-versus-a-copy\n",
      "  df_by_book[\"number_of_words\"] = df_by_book['processed_text'].str.split().map(lambda x: len(x))\n",
      "/var/folders/yv/8bscwg3x6m5934xb_mry4d_m0000gr/T/ipykernel_37597/2365607290.py:3: SettingWithCopyWarning: \n",
      "A value is trying to be set on a copy of a slice from a DataFrame.\n",
      "Try using .loc[row_indexer,col_indexer] = value instead\n",
      "\n",
      "See the caveats in the documentation: https://pandas.pydata.org/pandas-docs/stable/user_guide/indexing.html#returning-a-view-versus-a-copy\n",
      "  df_by_book[\"avg_word_length\"] = df_by_book['processed_text'].str.split().apply(lambda x : [len(i) for i in x]).map(lambda x: np.mean(x))\n",
      "/var/folders/yv/8bscwg3x6m5934xb_mry4d_m0000gr/T/ipykernel_37597/2365607290.py:5: SettingWithCopyWarning: \n",
      "A value is trying to be set on a copy of a slice from a DataFrame.\n",
      "Try using .loc[row_indexer,col_indexer] = value instead\n",
      "\n",
      "See the caveats in the documentation: https://pandas.pydata.org/pandas-docs/stable/user_guide/indexing.html#returning-a-view-versus-a-copy\n",
      "  df_by_book[\"number_of_chars_lem\"] = df_by_book['lemmatized_text'].str.len()\n",
      "/var/folders/yv/8bscwg3x6m5934xb_mry4d_m0000gr/T/ipykernel_37597/2365607290.py:6: SettingWithCopyWarning: \n",
      "A value is trying to be set on a copy of a slice from a DataFrame.\n",
      "Try using .loc[row_indexer,col_indexer] = value instead\n",
      "\n",
      "See the caveats in the documentation: https://pandas.pydata.org/pandas-docs/stable/user_guide/indexing.html#returning-a-view-versus-a-copy\n",
      "  df_by_book[\"number_of_words_lem\"] = df_by_book['lemmatized_text'].str.split().map(lambda x: len(x))\n",
      "/var/folders/yv/8bscwg3x6m5934xb_mry4d_m0000gr/T/ipykernel_37597/2365607290.py:7: SettingWithCopyWarning: \n",
      "A value is trying to be set on a copy of a slice from a DataFrame.\n",
      "Try using .loc[row_indexer,col_indexer] = value instead\n",
      "\n",
      "See the caveats in the documentation: https://pandas.pydata.org/pandas-docs/stable/user_guide/indexing.html#returning-a-view-versus-a-copy\n",
      "  df_by_book[\"avg_word_length_lem\"] = df_by_book['lemmatized_text'].str.split().apply(lambda x : [len(i) for i in x]).map(lambda x: np.mean(x))\n"
     ]
    }
   ],
   "source": [
    "df_by_book[\"number_of_chars\"] = df_by_book['processed_text'].str.len()\n",
    "df_by_book[\"number_of_words\"] = df_by_book['processed_text'].str.split().map(lambda x: len(x))\n",
    "df_by_book[\"avg_word_length\"] = df_by_book['processed_text'].str.split().apply(lambda x: [len(i) for i in x]).map(\n",
    "    lambda x: np.mean(x))\n",
    "\n",
    "df_by_book[\"number_of_chars_lem\"] = df_by_book['lemmatized_text'].str.len()\n",
    "df_by_book[\"number_of_words_lem\"] = df_by_book['lemmatized_text'].str.split().map(lambda x: len(x))\n",
    "df_by_book[\"avg_word_length_lem\"] = df_by_book['lemmatized_text'].str.split().apply(lambda x: [len(i) for i in x]).map(\n",
    "    lambda x: np.mean(x))"
   ]
  },
  {
   "cell_type": "markdown",
   "metadata": {},
   "source": [
    "Books with the highest number of characters:"
   ]
  },
  {
   "cell_type": "code",
   "execution_count": 86,
   "metadata": {
    "ExecuteTime": {
     "end_time": "2024-05-02T14:02:08.638789Z",
     "start_time": "2024-05-02T14:02:08.626523Z"
    },
    "collapsed": false,
    "execution": {
     "iopub.execute_input": "2024-04-24T18:47:35.923663Z",
     "iopub.status.busy": "2024-04-24T18:47:35.923122Z",
     "iopub.status.idle": "2024-04-24T18:47:35.942541Z",
     "shell.execute_reply": "2024-04-24T18:47:35.940999Z",
     "shell.execute_reply.started": "2024-04-24T18:47:35.923627Z"
    }
   },
   "outputs": [
    {
     "data": {
      "text/html": [
       "<div>\n",
       "<style scoped>\n",
       "    .dataframe tbody tr th:only-of-type {\n",
       "        vertical-align: middle;\n",
       "    }\n",
       "\n",
       "    .dataframe tbody tr th {\n",
       "        vertical-align: top;\n",
       "    }\n",
       "\n",
       "    .dataframe thead th {\n",
       "        text-align: right;\n",
       "    }\n",
       "</style>\n",
       "<table border=\"1\" class=\"dataframe\">\n",
       "  <thead>\n",
       "    <tr style=\"text-align: right;\">\n",
       "      <th></th>\n",
       "      <th>book</th>\n",
       "      <th>number_of_chars</th>\n",
       "    </tr>\n",
       "  </thead>\n",
       "  <tbody>\n",
       "    <tr>\n",
       "      <th>1238</th>\n",
       "      <td>11Q19</td>\n",
       "      <td>40654</td>\n",
       "    </tr>\n",
       "    <tr>\n",
       "      <th>5888</th>\n",
       "      <td>1QHa</td>\n",
       "      <td>35881</td>\n",
       "    </tr>\n",
       "    <tr>\n",
       "      <th>6821</th>\n",
       "      <td>1QM</td>\n",
       "      <td>20777</td>\n",
       "    </tr>\n",
       "    <tr>\n",
       "      <th>2690</th>\n",
       "      <td>11Q5</td>\n",
       "      <td>19583</td>\n",
       "    </tr>\n",
       "    <tr>\n",
       "      <th>7199</th>\n",
       "      <td>1QS</td>\n",
       "      <td>17880</td>\n",
       "    </tr>\n",
       "    <tr>\n",
       "      <th>47494</th>\n",
       "      <td>CD</td>\n",
       "      <td>16758</td>\n",
       "    </tr>\n",
       "    <tr>\n",
       "      <th>29279</th>\n",
       "      <td>4Q418</td>\n",
       "      <td>12688</td>\n",
       "    </tr>\n",
       "    <tr>\n",
       "      <th>23986</th>\n",
       "      <td>4Q365</td>\n",
       "      <td>12337</td>\n",
       "    </tr>\n",
       "    <tr>\n",
       "      <th>18779</th>\n",
       "      <td>4Q266</td>\n",
       "      <td>11696</td>\n",
       "    </tr>\n",
       "    <tr>\n",
       "      <th>23581</th>\n",
       "      <td>4Q364</td>\n",
       "      <td>11090</td>\n",
       "    </tr>\n",
       "    <tr>\n",
       "      <th>2337</th>\n",
       "      <td>11Q20</td>\n",
       "      <td>8580</td>\n",
       "    </tr>\n",
       "    <tr>\n",
       "      <th>16420</th>\n",
       "      <td>4Q223_224</td>\n",
       "      <td>7129</td>\n",
       "    </tr>\n",
       "    <tr>\n",
       "      <th>14597</th>\n",
       "      <td>4Q204</td>\n",
       "      <td>7098</td>\n",
       "    </tr>\n",
       "    <tr>\n",
       "      <th>14964</th>\n",
       "      <td>4Q209</td>\n",
       "      <td>7061</td>\n",
       "    </tr>\n",
       "    <tr>\n",
       "      <th>32952</th>\n",
       "      <td>4Q491</td>\n",
       "      <td>6609</td>\n",
       "    </tr>\n",
       "  </tbody>\n",
       "</table>\n",
       "</div>"
      ],
      "text/plain": [
       "            book  number_of_chars\n",
       "1238       11Q19            40654\n",
       "5888        1QHa            35881\n",
       "6821         1QM            20777\n",
       "2690        11Q5            19583\n",
       "7199         1QS            17880\n",
       "47494         CD            16758\n",
       "29279      4Q418            12688\n",
       "23986      4Q365            12337\n",
       "18779      4Q266            11696\n",
       "23581      4Q364            11090\n",
       "2337       11Q20             8580\n",
       "16420  4Q223_224             7129\n",
       "14597      4Q204             7098\n",
       "14964      4Q209             7061\n",
       "32952      4Q491             6609"
      ]
     },
     "execution_count": 86,
     "metadata": {},
     "output_type": "execute_result"
    }
   ],
   "source": [
    "df_by_book.sort_values(by=\"number_of_chars\", ascending=False)[[\"book\", \"number_of_chars\"]].head(15)"
   ]
  },
  {
   "cell_type": "code",
   "execution_count": 87,
   "metadata": {
    "ExecuteTime": {
     "end_time": "2024-05-02T14:02:08.651462Z",
     "start_time": "2024-05-02T14:02:08.640721Z"
    },
    "collapsed": false
   },
   "outputs": [
    {
     "data": {
      "text/html": [
       "<div>\n",
       "<style scoped>\n",
       "    .dataframe tbody tr th:only-of-type {\n",
       "        vertical-align: middle;\n",
       "    }\n",
       "\n",
       "    .dataframe tbody tr th {\n",
       "        vertical-align: top;\n",
       "    }\n",
       "\n",
       "    .dataframe thead th {\n",
       "        text-align: right;\n",
       "    }\n",
       "</style>\n",
       "<table border=\"1\" class=\"dataframe\">\n",
       "  <thead>\n",
       "    <tr style=\"text-align: right;\">\n",
       "      <th></th>\n",
       "      <th>book</th>\n",
       "      <th>number_of_chars_lem</th>\n",
       "    </tr>\n",
       "  </thead>\n",
       "  <tbody>\n",
       "    <tr>\n",
       "      <th>1238</th>\n",
       "      <td>11Q19</td>\n",
       "      <td>34224</td>\n",
       "    </tr>\n",
       "    <tr>\n",
       "      <th>5888</th>\n",
       "      <td>1QHa</td>\n",
       "      <td>30261</td>\n",
       "    </tr>\n",
       "    <tr>\n",
       "      <th>6821</th>\n",
       "      <td>1QM</td>\n",
       "      <td>17327</td>\n",
       "    </tr>\n",
       "    <tr>\n",
       "      <th>2690</th>\n",
       "      <td>11Q5</td>\n",
       "      <td>16688</td>\n",
       "    </tr>\n",
       "    <tr>\n",
       "      <th>7199</th>\n",
       "      <td>1QS</td>\n",
       "      <td>15091</td>\n",
       "    </tr>\n",
       "    <tr>\n",
       "      <th>47494</th>\n",
       "      <td>CD</td>\n",
       "      <td>14065</td>\n",
       "    </tr>\n",
       "    <tr>\n",
       "      <th>29279</th>\n",
       "      <td>4Q418</td>\n",
       "      <td>11065</td>\n",
       "    </tr>\n",
       "    <tr>\n",
       "      <th>23986</th>\n",
       "      <td>4Q365</td>\n",
       "      <td>10505</td>\n",
       "    </tr>\n",
       "    <tr>\n",
       "      <th>18779</th>\n",
       "      <td>4Q266</td>\n",
       "      <td>9889</td>\n",
       "    </tr>\n",
       "    <tr>\n",
       "      <th>23581</th>\n",
       "      <td>4Q364</td>\n",
       "      <td>9373</td>\n",
       "    </tr>\n",
       "    <tr>\n",
       "      <th>2337</th>\n",
       "      <td>11Q20</td>\n",
       "      <td>7223</td>\n",
       "    </tr>\n",
       "    <tr>\n",
       "      <th>14964</th>\n",
       "      <td>4Q209</td>\n",
       "      <td>6604</td>\n",
       "    </tr>\n",
       "    <tr>\n",
       "      <th>14597</th>\n",
       "      <td>4Q204</td>\n",
       "      <td>6480</td>\n",
       "    </tr>\n",
       "    <tr>\n",
       "      <th>16420</th>\n",
       "      <td>4Q223_224</td>\n",
       "      <td>6047</td>\n",
       "    </tr>\n",
       "    <tr>\n",
       "      <th>32952</th>\n",
       "      <td>4Q491</td>\n",
       "      <td>5466</td>\n",
       "    </tr>\n",
       "  </tbody>\n",
       "</table>\n",
       "</div>"
      ],
      "text/plain": [
       "            book  number_of_chars_lem\n",
       "1238       11Q19                34224\n",
       "5888        1QHa                30261\n",
       "6821         1QM                17327\n",
       "2690        11Q5                16688\n",
       "7199         1QS                15091\n",
       "47494         CD                14065\n",
       "29279      4Q418                11065\n",
       "23986      4Q365                10505\n",
       "18779      4Q266                 9889\n",
       "23581      4Q364                 9373\n",
       "2337       11Q20                 7223\n",
       "14964      4Q209                 6604\n",
       "14597      4Q204                 6480\n",
       "16420  4Q223_224                 6047\n",
       "32952      4Q491                 5466"
      ]
     },
     "execution_count": 87,
     "metadata": {},
     "output_type": "execute_result"
    }
   ],
   "source": [
    "df_by_book.sort_values(by=\"number_of_chars_lem\", ascending=False)[[\"book\", \"number_of_chars_lem\"]].head(15)"
   ]
  },
  {
   "cell_type": "markdown",
   "metadata": {},
   "source": [
    "Books with the highest avg word length:"
   ]
  },
  {
   "cell_type": "code",
   "execution_count": 88,
   "metadata": {
    "ExecuteTime": {
     "end_time": "2024-05-02T14:02:08.664501Z",
     "start_time": "2024-05-02T14:02:08.653364Z"
    },
    "collapsed": false,
    "execution": {
     "iopub.execute_input": "2024-04-24T18:47:35.944909Z",
     "iopub.status.busy": "2024-04-24T18:47:35.944096Z",
     "iopub.status.idle": "2024-04-24T18:47:35.964991Z",
     "shell.execute_reply": "2024-04-24T18:47:35.963549Z",
     "shell.execute_reply.started": "2024-04-24T18:47:35.944870Z"
    }
   },
   "outputs": [
    {
     "data": {
      "text/html": [
       "<div>\n",
       "<style scoped>\n",
       "    .dataframe tbody tr th:only-of-type {\n",
       "        vertical-align: middle;\n",
       "    }\n",
       "\n",
       "    .dataframe tbody tr th {\n",
       "        vertical-align: top;\n",
       "    }\n",
       "\n",
       "    .dataframe thead th {\n",
       "        text-align: right;\n",
       "    }\n",
       "</style>\n",
       "<table border=\"1\" class=\"dataframe\">\n",
       "  <thead>\n",
       "    <tr style=\"text-align: right;\">\n",
       "      <th></th>\n",
       "      <th>book</th>\n",
       "      <th>avg_word_length</th>\n",
       "    </tr>\n",
       "  </thead>\n",
       "  <tbody>\n",
       "    <tr>\n",
       "      <th>22474</th>\n",
       "      <td>4Q318</td>\n",
       "      <td>5.946108</td>\n",
       "    </tr>\n",
       "    <tr>\n",
       "      <th>33167</th>\n",
       "      <td>4Q493</td>\n",
       "      <td>5.265306</td>\n",
       "    </tr>\n",
       "    <tr>\n",
       "      <th>23329</th>\n",
       "      <td>4Q334</td>\n",
       "      <td>4.973684</td>\n",
       "    </tr>\n",
       "    <tr>\n",
       "      <th>22749</th>\n",
       "      <td>4Q320</td>\n",
       "      <td>4.906921</td>\n",
       "    </tr>\n",
       "    <tr>\n",
       "      <th>39655</th>\n",
       "      <td>4Q523</td>\n",
       "      <td>4.875000</td>\n",
       "    </tr>\n",
       "    <tr>\n",
       "      <th>22935</th>\n",
       "      <td>4Q321a</td>\n",
       "      <td>4.864971</td>\n",
       "    </tr>\n",
       "    <tr>\n",
       "      <th>22878</th>\n",
       "      <td>4Q321</td>\n",
       "      <td>4.847656</td>\n",
       "    </tr>\n",
       "    <tr>\n",
       "      <th>35681</th>\n",
       "      <td>4Q505</td>\n",
       "      <td>4.775510</td>\n",
       "    </tr>\n",
       "    <tr>\n",
       "      <th>33861</th>\n",
       "      <td>4Q501</td>\n",
       "      <td>4.768116</td>\n",
       "    </tr>\n",
       "    <tr>\n",
       "      <th>20928</th>\n",
       "      <td>4Q287</td>\n",
       "      <td>4.757447</td>\n",
       "    </tr>\n",
       "    <tr>\n",
       "      <th>19505</th>\n",
       "      <td>4Q268</td>\n",
       "      <td>4.750000</td>\n",
       "    </tr>\n",
       "    <tr>\n",
       "      <th>12799</th>\n",
       "      <td>4Q166</td>\n",
       "      <td>4.739837</td>\n",
       "    </tr>\n",
       "    <tr>\n",
       "      <th>32952</th>\n",
       "      <td>4Q491</td>\n",
       "      <td>4.693368</td>\n",
       "    </tr>\n",
       "    <tr>\n",
       "      <th>23312</th>\n",
       "      <td>4Q332</td>\n",
       "      <td>4.690476</td>\n",
       "    </tr>\n",
       "    <tr>\n",
       "      <th>31695</th>\n",
       "      <td>4Q440</td>\n",
       "      <td>4.688525</td>\n",
       "    </tr>\n",
       "  </tbody>\n",
       "</table>\n",
       "</div>"
      ],
      "text/plain": [
       "         book  avg_word_length\n",
       "22474   4Q318         5.946108\n",
       "33167   4Q493         5.265306\n",
       "23329   4Q334         4.973684\n",
       "22749   4Q320         4.906921\n",
       "39655   4Q523         4.875000\n",
       "22935  4Q321a         4.864971\n",
       "22878   4Q321         4.847656\n",
       "35681   4Q505         4.775510\n",
       "33861   4Q501         4.768116\n",
       "20928   4Q287         4.757447\n",
       "19505   4Q268         4.750000\n",
       "12799   4Q166         4.739837\n",
       "32952   4Q491         4.693368\n",
       "23312   4Q332         4.690476\n",
       "31695   4Q440         4.688525"
      ]
     },
     "execution_count": 88,
     "metadata": {},
     "output_type": "execute_result"
    }
   ],
   "source": [
    "df_by_book.sort_values(by=\"avg_word_length\", ascending=False)[[\"book\", \"avg_word_length\"]].head(15)\n"
   ]
  },
  {
   "cell_type": "code",
   "execution_count": 89,
   "metadata": {
    "ExecuteTime": {
     "end_time": "2024-05-02T14:02:08.680483Z",
     "start_time": "2024-05-02T14:02:08.668663Z"
    },
    "collapsed": false
   },
   "outputs": [
    {
     "data": {
      "text/html": [
       "<div>\n",
       "<style scoped>\n",
       "    .dataframe tbody tr th:only-of-type {\n",
       "        vertical-align: middle;\n",
       "    }\n",
       "\n",
       "    .dataframe tbody tr th {\n",
       "        vertical-align: top;\n",
       "    }\n",
       "\n",
       "    .dataframe thead th {\n",
       "        text-align: right;\n",
       "    }\n",
       "</style>\n",
       "<table border=\"1\" class=\"dataframe\">\n",
       "  <thead>\n",
       "    <tr style=\"text-align: right;\">\n",
       "      <th></th>\n",
       "      <th>book</th>\n",
       "      <th>avg_word_length_lem</th>\n",
       "    </tr>\n",
       "  </thead>\n",
       "  <tbody>\n",
       "    <tr>\n",
       "      <th>23329</th>\n",
       "      <td>4Q334</td>\n",
       "      <td>4.302632</td>\n",
       "    </tr>\n",
       "    <tr>\n",
       "      <th>23312</th>\n",
       "      <td>4Q332</td>\n",
       "      <td>4.190476</td>\n",
       "    </tr>\n",
       "    <tr>\n",
       "      <th>41250</th>\n",
       "      <td>4Q549</td>\n",
       "      <td>4.134328</td>\n",
       "    </tr>\n",
       "    <tr>\n",
       "      <th>42400</th>\n",
       "      <td>4Q560</td>\n",
       "      <td>4.078431</td>\n",
       "    </tr>\n",
       "    <tr>\n",
       "      <th>22878</th>\n",
       "      <td>4Q321</td>\n",
       "      <td>4.036458</td>\n",
       "    </tr>\n",
       "    <tr>\n",
       "      <th>43223</th>\n",
       "      <td>4Q581</td>\n",
       "      <td>4.017544</td>\n",
       "    </tr>\n",
       "    <tr>\n",
       "      <th>41635</th>\n",
       "      <td>4Q554a</td>\n",
       "      <td>3.975309</td>\n",
       "    </tr>\n",
       "    <tr>\n",
       "      <th>22935</th>\n",
       "      <td>4Q321a</td>\n",
       "      <td>3.966732</td>\n",
       "    </tr>\n",
       "    <tr>\n",
       "      <th>39655</th>\n",
       "      <td>4Q523</td>\n",
       "      <td>3.958333</td>\n",
       "    </tr>\n",
       "    <tr>\n",
       "      <th>15135</th>\n",
       "      <td>4Q210</td>\n",
       "      <td>3.926316</td>\n",
       "    </tr>\n",
       "    <tr>\n",
       "      <th>14461</th>\n",
       "      <td>4Q202</td>\n",
       "      <td>3.915187</td>\n",
       "    </tr>\n",
       "    <tr>\n",
       "      <th>21048</th>\n",
       "      <td>4Q291</td>\n",
       "      <td>3.900000</td>\n",
       "    </tr>\n",
       "    <tr>\n",
       "      <th>33167</th>\n",
       "      <td>4Q493</td>\n",
       "      <td>3.897959</td>\n",
       "    </tr>\n",
       "    <tr>\n",
       "      <th>18278</th>\n",
       "      <td>4Q254a</td>\n",
       "      <td>3.894737</td>\n",
       "    </tr>\n",
       "    <tr>\n",
       "      <th>17401</th>\n",
       "      <td>4Q244</td>\n",
       "      <td>3.888889</td>\n",
       "    </tr>\n",
       "  </tbody>\n",
       "</table>\n",
       "</div>"
      ],
      "text/plain": [
       "         book  avg_word_length_lem\n",
       "23329   4Q334             4.302632\n",
       "23312   4Q332             4.190476\n",
       "41250   4Q549             4.134328\n",
       "42400   4Q560             4.078431\n",
       "22878   4Q321             4.036458\n",
       "43223   4Q581             4.017544\n",
       "41635  4Q554a             3.975309\n",
       "22935  4Q321a             3.966732\n",
       "39655   4Q523             3.958333\n",
       "15135   4Q210             3.926316\n",
       "14461   4Q202             3.915187\n",
       "21048   4Q291             3.900000\n",
       "33167   4Q493             3.897959\n",
       "18278  4Q254a             3.894737\n",
       "17401   4Q244             3.888889"
      ]
     },
     "execution_count": 89,
     "metadata": {},
     "output_type": "execute_result"
    }
   ],
   "source": [
    "df_by_book.sort_values(by=\"avg_word_length_lem\", ascending=False)[[\"book\", \"avg_word_length_lem\"]].head(15)\n"
   ]
  },
  {
   "cell_type": "code",
   "execution_count": 32,
   "metadata": {
    "ExecuteTime": {
     "end_time": "2024-05-02T13:08:56.860897Z",
     "start_time": "2024-05-02T13:08:54.630798Z"
    },
    "collapsed": false,
    "execution": {
     "iopub.execute_input": "2024-04-24T18:47:35.984396Z",
     "iopub.status.busy": "2024-04-24T18:47:35.982804Z",
     "iopub.status.idle": "2024-04-24T18:47:36.936707Z",
     "shell.execute_reply": "2024-04-24T18:47:36.935859Z",
     "shell.execute_reply.started": "2024-04-24T18:47:35.984327Z"
    }
   },
   "outputs": [
    {
     "data": {
      "text/plain": [
       "Text(0.5, 1.0, 'Average word length')"
      ]
     },
     "execution_count": 32,
     "metadata": {},
     "output_type": "execute_result"
    },
    {
     "data": {
      "image/png": "[encoded data removed]",
      "text/plain": [
       "<Figure size 2000x1000 with 4 Axes>"
      ]
     },
     "metadata": {},
     "output_type": "display_data"
    }
   ],
   "source": [
    "fig, ax = plt.subplots(2, 2)\n",
    "df_by_book[\"number_of_words\"].hist(ax=ax[0, 0], bins=100)\n",
    "df_by_book[\"number_of_chars\"].hist(ax=ax[0, 1], bins=100)\n",
    "ax[0, 0].set_xlim(0, df_by_book[\"number_of_words\"].quantile(0.99))\n",
    "ax[0, 1].set_xlim(0, df_by_book[\"number_of_chars\"].quantile(0.99))\n",
    "df_by_book[\"avg_word_length\"].hist(ax=ax[1, 0])\n",
    "ax[0, 0].set_title(\"Number of words hist\")\n",
    "ax[0, 1].set_title(\"Number of characters hist\")\n",
    "ax[1, 0].set_title(\"Average word length\")\n"
   ]
  },
  {
   "cell_type": "code",
   "execution_count": 92,
   "metadata": {
    "ExecuteTime": {
     "end_time": "2024-05-02T14:06:24.361639Z",
     "start_time": "2024-05-02T14:06:22.015474Z"
    },
    "collapsed": false
   },
   "outputs": [
    {
     "name": "stderr",
     "output_type": "stream",
     "text": [
      "/var/folders/yv/8bscwg3x6m5934xb_mry4d_m0000gr/T/ipykernel_37597/2851046541.py:29: FutureWarning: \n",
      "\n",
      "Passing `palette` without assigning `hue` is deprecated and will be removed in v0.14.0. Assign the `y` variable to `hue` and set `legend=False` for the same effect.\n",
      "\n",
      "  sns.barplot(x=y_processed, y=x_processed, ax=axes[0], palette=\"Blues_d\")\n",
      "/var/folders/yv/8bscwg3x6m5934xb_mry4d_m0000gr/T/ipykernel_37597/2851046541.py:34: FutureWarning: \n",
      "\n",
      "Passing `palette` without assigning `hue` is deprecated and will be removed in v0.14.0. Assign the `y` variable to `hue` and set `legend=False` for the same effect.\n",
      "\n",
      "  sns.barplot(x=y_lemmatized, y=x_lemmatized, ax=axes[1], palette=\"Greens_d\")\n"
     ]
    },
    {
     "data": {
      "image/png": "[encoded data removed]",
      "text/plain": [
       "<Figure size 1400x800 with 2 Axes>"
      ]
     },
     "metadata": {},
     "output_type": "display_data"
    }
   ],
   "source": [
    "from collections import Counter\n",
    "import seaborn as sns\n",
    "\n",
    "\n",
    "def process_text(data, column_name):\n",
    "    words = data[column_name].str.split()\n",
    "    words = words.values.tolist()\n",
    "    corpus = [word for i in words for word in i]\n",
    "    counter = Counter(corpus)\n",
    "    most = counter.most_common()\n",
    "\n",
    "    x, y = [], []\n",
    "    for word, count in most[:40]:\n",
    "        if word not in stop_words:\n",
    "            x.append(word[::-1])  # Reversing the word\n",
    "            y.append(count)\n",
    "\n",
    "    return x, y\n",
    "\n",
    "\n",
    "# Process both columns\n",
    "x_processed, y_processed = process_text(df_by_book, \"processed_text\")\n",
    "x_lemmatized, y_lemmatized = process_text(df_by_book, \"lemmatized_text\")\n",
    "\n",
    "# Normalize counts\n",
    "y_processed = np.array(y_processed) / max(y_processed)\n",
    "y_lemmatized = np.array(y_lemmatized) / max(y_lemmatized)\n",
    "\n",
    "# Create subplots\n",
    "fig, axes = plt.subplots(ncols=2, figsize=(14, 8), sharey=False)\n",
    "\n",
    "sns.barplot(x=y_processed, y=x_processed, ax=axes[0], palette=\"Blues_d\")\n",
    "axes[0].set_title('Processed Text')\n",
    "axes[0].set_xlabel('Normalized Frequency')\n",
    "axes[0].set_ylabel('Words')\n",
    "\n",
    "sns.barplot(x=y_lemmatized, y=x_lemmatized, ax=axes[1], palette=\"Greens_d\")\n",
    "axes[1].set_title('Lemmatized Text')\n",
    "axes[1].set_xlabel('Normalized Frequency')\n",
    "axes[1].set_ylabel('')\n",
    "\n",
    "plt.tight_layout()\n",
    "plt.show()"
   ]
  },
  {
   "cell_type": "markdown",
   "metadata": {
    "collapsed": false
   },
   "source": []
  }
 ],
 "metadata": {
  "kernelspec": {
   "display_name": "Python 3 (ipykernel)",
   "language": "python",
   "name": "python3"
  },
  "language_info": {
   "codemirror_mode": {
    "name": "ipython",
    "version": 3
   },
   "file_extension": ".py",
   "mimetype": "text/x-python",
   "name": "python",
   "nbconvert_exporter": "python",
   "pygments_lexer": "ipython3",
   "version": "3.10.0"
  },
  "toc": {
   "base_numbering": 1,
   "nav_menu": {},
   "number_sections": true,
   "sideBar": true,
   "skip_h1_title": false,
   "title_cell": "Table of Contents",
   "title_sidebar": "Contents",
   "toc_cell": false,
   "toc_position": {},
   "toc_section_display": "block",
   "toc_window_display": false
  },
  "widgets": {
   "application/vnd.jupyter.widget-state+json": {
    "state": {},
    "version_major": 2,
    "version_minor": 0
   }
  }
 },
 "nbformat": 4,
 "nbformat_minor": 4
}
