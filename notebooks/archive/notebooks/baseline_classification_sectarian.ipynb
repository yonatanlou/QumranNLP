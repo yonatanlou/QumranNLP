{
 "cells": [
  {
   "cell_type": "code",
   "execution_count": 10,
   "metadata": {
    "execution": {
     "iopub.execute_input": "2024-04-08T17:20:55.640208Z",
     "iopub.status.busy": "2024-04-08T17:20:55.639594Z",
     "iopub.status.idle": "2024-04-08T17:20:55.746859Z",
     "shell.execute_reply": "2024-04-08T17:20:55.745704Z",
     "shell.execute_reply.started": "2024-04-08T17:20:55.640156Z"
    },
    "ExecuteTime": {
     "end_time": "2024-04-15T15:46:17.918890Z",
     "start_time": "2024-04-15T15:46:17.868443Z"
    }
   },
   "outputs": [
    {
     "name": "stdout",
     "output_type": "stream",
     "text": [
      "The autoreload extension is already loaded. To reload it, use:\n",
      "  %reload_ext autoreload\n"
     ]
    }
   ],
   "source": [
    "from config import BASE_DIR\n",
    "%load_ext autoreload\n",
    "%autoreload 2"
   ]
  },
  {
   "cell_type": "code",
   "execution_count": 3,
   "metadata": {
    "execution": {
     "iopub.execute_input": "2024-04-08T17:20:55.844456Z",
     "iopub.status.busy": "2024-04-08T17:20:55.844054Z",
     "iopub.status.idle": "2024-04-08T17:21:10.529706Z",
     "shell.execute_reply": "2024-04-08T17:21:10.522803Z",
     "shell.execute_reply.started": "2024-04-08T17:20:55.844425Z"
    },
    "ExecuteTime": {
     "end_time": "2024-04-15T15:45:13.985572Z",
     "start_time": "2024-04-15T15:45:03.957758Z"
    }
   },
   "outputs": [
    {
     "data": {
      "text/plain": "<IPython.core.display.Markdown object>",
      "text/markdown": "**Locating corpus resources ...**"
     },
     "metadata": {},
     "output_type": "display_data"
    },
    {
     "data": {
      "text/plain": "<IPython.core.display.HTML object>",
      "text/html": "<b title=\"local release\">app:</b> <span title=\"rv1.9=#5e032551a4c9ccf86f21c20d66a4180f9f4cae7f offline under /Users/yonatanlou/text-fabric-data/github\">~/text-fabric-data/github/ETCBC/dss/app</span>"
     },
     "metadata": {},
     "output_type": "display_data"
    },
    {
     "data": {
      "text/plain": "<IPython.core.display.HTML object>",
      "text/html": "<b title=\"local release\">data:</b> <span title=\"rv1.9=#5e032551a4c9ccf86f21c20d66a4180f9f4cae7f offline under /Users/yonatanlou/text-fabric-data/github\">~/text-fabric-data/github/ETCBC/dss/tf/1.9</span>"
     },
     "metadata": {},
     "output_type": "display_data"
    },
    {
     "data": {
      "text/plain": "<IPython.core.display.HTML object>",
      "text/html": "<b title=\"local release\">data:</b> <span title=\"rv1.9=#5e032551a4c9ccf86f21c20d66a4180f9f4cae7f offline under /Users/yonatanlou/text-fabric-data/github\">~/text-fabric-data/github/ETCBC/dss/parallels/tf/1.9</span>"
     },
     "metadata": {},
     "output_type": "display_data"
    },
    {
     "data": {
      "text/plain": "<IPython.core.display.HTML object>",
      "text/html": "\n            <b>TF:</b> <a target=\"_blank\" href=\"https://annotation.github.io/text-fabric/tf/cheatsheet.html\" title=\"text-fabric api\">TF API 12.3.5</a>, <a target=\"_blank\" href=\"https://github.com/ETCBC/dss/blob/master/app\" title=\"ETCBC/dss app\">ETCBC/dss/app  v3</a>, <a target=\"_blank\" href=\"https://annotation.github.io/text-fabric/tf/about/searchusage.html\" title=\"Search Templates Introduction and Reference\">Search Reference</a><br>\n            <b>Data:</b> <a target=\"_blank\" href=\"https://github.com/ETCBC/dss/blob/master/docs/about.md\" title=\"provenance of Dead Sea Scrolls\">ETCBC - dss 1.9</a>, <a target=\"_blank\" href=\"https://annotation.github.io/text-fabric/tf/writing/hebrew.html\" title=\"How TF features represent text\">Character table</a>, <a target=\"_blank\" href=\"https://github.com/ETCBC/dss/blob/master/docs/transcription.md\" title=\"ETCBC - dss feature documentation\">Feature docs</a><br>\n            <details class=\"nodeinfo\"><summary><b>Node types</b></summary>\n<table class=\"nodeinfo\">\n    <tr>\n        <th>Name</th>\n        <th># of nodes</th>\n        <th># slots / node</th>\n        <th>% coverage</th>\n    </tr>\n\n<tr>\n    <th>scroll</th>\n    <td>1001</td>\n    <td>1428.81</td>\n    <td><b>100</b></td>\n</tr>\n\n<tr>\n    <th>lex</th>\n    <td>10450</td>\n    <td>129.14</td>\n    <td>94</td>\n</tr>\n\n<tr>\n    <th>fragment</th>\n    <td>11182</td>\n    <td>127.91</td>\n    <td><b>100</b></td>\n</tr>\n\n<tr>\n    <th>line</th>\n    <td>52895</td>\n    <td>27.04</td>\n    <td><b>100</b></td>\n</tr>\n\n<tr>\n    <th>clause</th>\n    <td>125</td>\n    <td>12.85</td>\n    <td>0</td>\n</tr>\n\n<tr>\n    <th>cluster</th>\n    <td>101099</td>\n    <td>6.68</td>\n    <td>47</td>\n</tr>\n\n<tr>\n    <th>phrase</th>\n    <td>315</td>\n    <td>5.10</td>\n    <td>0</td>\n</tr>\n\n<tr>\n    <th>word</th>\n    <td>500995</td>\n    <td>2.81</td>\n    <td>99</td>\n</tr>\n\n<tr>\n    <th><i>sign</i></th>\n    <td>1430241</td>\n    <td>1.00</td>\n    <td><b>100</b></td>\n</tr>\n</table></details>\n            <b>Sets:</b> no custom sets<br>\n            <b>Features:</b><br>\n<details><summary><b><github>ETCBC/dss/parallels/tf</b></summary>\n    <div class=\"fcorpus\">\n\n<div class=\"frow\">\n    <div class=\"fnamecat edge\">\n<a target=\"_blank\" href=\"https://github.com/ETCBC/dss/tree/master/parallels/tf\" title=\"~/text-fabric-data/github/ETCBC/dss/parallels/tf/1.9/sim.tf\">sim</a>\n</div>\n<div class=\"fmono\">int</div>\n\n<span> similarity between lines, as a percentage of the common material wrt the combined material</span>\n\n</div>\n\n    </div>\n</details>\n\n<details><summary><b>Dead Sea Scrolls</b></summary>\n    <div class=\"fcorpus\">\n\n<div class=\"frow\">\n    <div class=\"fnamecat \">\n<a target=\"_blank\" href=\"https://github.com/ETCBC/dss/blob/master/docs/transcription.md\" title=\"~/text-fabric-data/github/ETCBC/dss/tf/1.9/after.tf\">after</a>\n</div>\n<div class=\"fmono\">str</div>\n\n<span> space behind the word, if any</span>\n\n</div>\n\n<div class=\"frow\">\n    <div class=\"fnamecat \">\n<a target=\"_blank\" href=\"https://github.com/ETCBC/dss/blob/master/docs/transcription.md\" title=\"~/text-fabric-data/github/ETCBC/dss/tf/1.9/alt.tf\">alt</a>\n</div>\n<div class=\"fmono\">int</div>\n\n<span> alternative reading</span>\n\n</div>\n\n<div class=\"frow\">\n    <div class=\"fnamecat \">\n<a target=\"_blank\" href=\"https://github.com/ETCBC/dss/blob/master/docs/transcription.md\" title=\"~/text-fabric-data/github/ETCBC/dss/tf/1.9/biblical.tf\">biblical</a>\n</div>\n<div class=\"fmono\">int</div>\n\n<span> whether we are in biblical material or not</span>\n\n</div>\n\n<div class=\"frow\">\n    <div class=\"fnamecat \">\n<a target=\"_blank\" href=\"https://github.com/ETCBC/dss/blob/master/docs/transcription.md\" title=\"~/text-fabric-data/github/ETCBC/dss/tf/1.9/book.tf\">book</a>\n</div>\n<div class=\"fmono\">str</div>\n\n<span> acronym of the book in which the word occurs</span>\n\n</div>\n\n<div class=\"frow\">\n    <div class=\"fnamecat \">\n<a target=\"_blank\" href=\"https://github.com/ETCBC/dss/blob/master/docs/transcription.md\" title=\"~/text-fabric-data/github/ETCBC/dss/tf/1.9/book_etcbc.tf\">book_etcbc</a>\n</div>\n<div class=\"fmono\">str</div>\n\n<span> Dead Sea Scrolls: additions based on BHSA</span>\n\n</div>\n\n<div class=\"frow\">\n    <div class=\"fnamecat \">\n<a target=\"_blank\" href=\"https://github.com/ETCBC/dss/blob/master/docs/transcription.md\" title=\"~/text-fabric-data/github/ETCBC/dss/tf/1.9/chapter.tf\">chapter</a>\n</div>\n<div class=\"fmono\">str</div>\n\n<span> label of the chapter in which the word occurs</span>\n\n</div>\n\n<div class=\"frow\">\n    <div class=\"fnamecat \">\n<a target=\"_blank\" href=\"https://github.com/ETCBC/dss/blob/master/docs/transcription.md\" title=\"~/text-fabric-data/github/ETCBC/dss/tf/1.9/cl.tf\">cl</a>\n</div>\n<div class=\"fmono\">str</div>\n\n<span> class (morphology tag)</span>\n\n</div>\n\n<div class=\"frow\">\n    <div class=\"fnamecat \">\n<a target=\"_blank\" href=\"https://github.com/ETCBC/dss/blob/master/docs/transcription.md\" title=\"~/text-fabric-data/github/ETCBC/dss/tf/1.9/cl2.tf\">cl2</a>\n</div>\n<div class=\"fmono\">str</div>\n\n<span> class (for part 2) (morphology tag)</span>\n\n</div>\n\n<div class=\"frow\">\n    <div class=\"fnamecat \">\n<a target=\"_blank\" href=\"https://github.com/ETCBC/dss/blob/master/docs/transcription.md\" title=\"~/text-fabric-data/github/ETCBC/dss/tf/1.9/cor.tf\">cor</a>\n</div>\n<div class=\"fmono\">int</div>\n\n<span> correction made by an ancient or modern editor</span>\n\n</div>\n\n<div class=\"frow\">\n    <div class=\"fnamecat \">\n<a target=\"_blank\" href=\"https://github.com/ETCBC/dss/blob/master/docs/transcription.md\" title=\"~/text-fabric-data/github/ETCBC/dss/tf/1.9/fragment.tf\">fragment</a>\n</div>\n<div class=\"fmono\">str</div>\n\n<span> label of a fragment of a scroll</span>\n\n</div>\n\n<div class=\"frow\">\n    <div class=\"fnamecat \">\n<a target=\"_blank\" href=\"https://github.com/ETCBC/dss/blob/master/docs/transcription.md\" title=\"~/text-fabric-data/github/ETCBC/dss/tf/1.9/full.tf\">full</a>\n</div>\n<div class=\"fmono\">str</div>\n\n<span> full transcription (Unicode) of a word including flags and brackets</span>\n\n</div>\n\n<div class=\"frow\">\n    <div class=\"fnamecat \">\n<a target=\"_blank\" href=\"https://github.com/ETCBC/dss/blob/master/docs/transcription.md\" title=\"~/text-fabric-data/github/ETCBC/dss/tf/1.9/fulle.tf\">fulle</a>\n</div>\n<div class=\"fmono\">str</div>\n\n<span> full transcription (ETCBC transliteration) of a word including flags and brackets</span>\n\n</div>\n\n<div class=\"frow\">\n    <div class=\"fnamecat \">\n<a target=\"_blank\" href=\"https://github.com/ETCBC/dss/blob/master/docs/transcription.md\" title=\"~/text-fabric-data/github/ETCBC/dss/tf/1.9/fullo.tf\">fullo</a>\n</div>\n<div class=\"fmono\">str</div>\n\n<span> full transcription (original source) of a word including flags and brackets</span>\n\n</div>\n\n<div class=\"frow\">\n    <div class=\"fnamecat \">\n<a target=\"_blank\" href=\"https://github.com/ETCBC/dss/blob/master/docs/transcription.md\" title=\"~/text-fabric-data/github/ETCBC/dss/tf/1.9/g_cons.tf\">g_cons</a>\n</div>\n<div class=\"fmono\">str</div>\n\n<span> Dead Sea Scrolls: additions based on BHSA and machine learning</span>\n\n</div>\n\n<div class=\"frow\">\n    <div class=\"fnamecat \">\n<a target=\"_blank\" href=\"https://github.com/ETCBC/dss/blob/master/docs/transcription.md\" title=\"~/text-fabric-data/github/ETCBC/dss/tf/1.9/g_nme_etcbc.tf\">g_nme_etcbc</a>\n</div>\n<div class=\"fmono\">str</div>\n\n<span> Dead Sea Scrolls: additions based on BHSA and machine learning</span>\n\n</div>\n\n<div class=\"frow\">\n    <div class=\"fnamecat \">\n<a target=\"_blank\" href=\"https://github.com/ETCBC/dss/blob/master/docs/transcription.md\" title=\"~/text-fabric-data/github/ETCBC/dss/tf/1.9/g_prs_etcbc.tf\">g_prs_etcbc</a>\n</div>\n<div class=\"fmono\">str</div>\n\n<span> Dead Sea Scrolls: additions based on BHSA and machine learning</span>\n\n</div>\n\n<div class=\"frow\">\n    <div class=\"fnamecat \">\n<a target=\"_blank\" href=\"https://github.com/ETCBC/dss/blob/master/docs/transcription.md\" title=\"~/text-fabric-data/github/ETCBC/dss/tf/1.9/glex.tf\">glex</a>\n</div>\n<div class=\"fmono\">str</div>\n\n<span> representation (Unicode) of a lexeme leaving out non-letters</span>\n\n</div>\n\n<div class=\"frow\">\n    <div class=\"fnamecat \">\n<a target=\"_blank\" href=\"https://github.com/ETCBC/dss/blob/master/docs/transcription.md\" title=\"~/text-fabric-data/github/ETCBC/dss/tf/1.9/glexe.tf\">glexe</a>\n</div>\n<div class=\"fmono\">str</div>\n\n<span> representation (ETCBC transliteration) of a lexeme leaving out non-letters</span>\n\n</div>\n\n<div class=\"frow\">\n    <div class=\"fnamecat \">\n<a target=\"_blank\" href=\"https://github.com/ETCBC/dss/blob/master/docs/transcription.md\" title=\"~/text-fabric-data/github/ETCBC/dss/tf/1.9/glexo.tf\">glexo</a>\n</div>\n<div class=\"fmono\">str</div>\n\n<span> representation (original source) of a lexeme leaving out non-letters</span>\n\n</div>\n\n<div class=\"frow\">\n    <div class=\"fnamecat \">\n<a target=\"_blank\" href=\"https://github.com/ETCBC/dss/blob/master/docs/transcription.md\" title=\"~/text-fabric-data/github/ETCBC/dss/tf/1.9/glyph.tf\">glyph</a>\n</div>\n<div class=\"fmono\">str</div>\n\n<span> representation (Unicode) of a word or sign</span>\n\n</div>\n\n<div class=\"frow\">\n    <div class=\"fnamecat \">\n<a target=\"_blank\" href=\"https://github.com/ETCBC/dss/blob/master/docs/transcription.md\" title=\"~/text-fabric-data/github/ETCBC/dss/tf/1.9/glyphe.tf\">glyphe</a>\n</div>\n<div class=\"fmono\">str</div>\n\n<span> representation (ETCBC transliteration) of a word or sign</span>\n\n</div>\n\n<div class=\"frow\">\n    <div class=\"fnamecat \">\n<a target=\"_blank\" href=\"https://github.com/ETCBC/dss/blob/master/docs/transcription.md\" title=\"~/text-fabric-data/github/ETCBC/dss/tf/1.9/glypho.tf\">glypho</a>\n</div>\n<div class=\"fmono\">str</div>\n\n<span> representation (original source) of a word or sign</span>\n\n</div>\n\n<div class=\"frow\">\n    <div class=\"fnamecat \">\n<a target=\"_blank\" href=\"https://github.com/ETCBC/dss/blob/master/docs/transcription.md\" title=\"~/text-fabric-data/github/ETCBC/dss/tf/1.9/gn.tf\">gn</a>\n</div>\n<div class=\"fmono\">str</div>\n\n<span> gender (morphology tag)</span>\n\n</div>\n\n<div class=\"frow\">\n    <div class=\"fnamecat \">\n<a target=\"_blank\" href=\"https://github.com/ETCBC/dss/blob/master/docs/transcription.md\" title=\"~/text-fabric-data/github/ETCBC/dss/tf/1.9/gn2.tf\">gn2</a>\n</div>\n<div class=\"fmono\">str</div>\n\n<span> gender (for part 2) (morphology tag)</span>\n\n</div>\n\n<div class=\"frow\">\n    <div class=\"fnamecat \">\n<a target=\"_blank\" href=\"https://github.com/ETCBC/dss/blob/master/docs/transcription.md\" title=\"~/text-fabric-data/github/ETCBC/dss/tf/1.9/gn3.tf\">gn3</a>\n</div>\n<div class=\"fmono\">str</div>\n\n<span> gender (for part 3) (morphology tag)</span>\n\n</div>\n\n<div class=\"frow\">\n    <div class=\"fnamecat \">\n<a target=\"_blank\" href=\"https://github.com/ETCBC/dss/blob/master/docs/transcription.md\" title=\"~/text-fabric-data/github/ETCBC/dss/tf/1.9/gn_etcbc.tf\">gn_etcbc</a>\n</div>\n<div class=\"fmono\">str</div>\n\n<span> Dead Sea Scrolls: additions based on BHSA and machine learning</span>\n\n</div>\n\n<div class=\"frow\">\n    <div class=\"fnamecat \">\n<a target=\"_blank\" href=\"https://github.com/ETCBC/dss/blob/master/docs/transcription.md\" title=\"~/text-fabric-data/github/ETCBC/dss/tf/1.9/halfverse.tf\">halfverse</a>\n</div>\n<div class=\"fmono\">str</div>\n\n<span> label of the half-verse in which the word occurs</span>\n\n</div>\n\n<div class=\"frow\">\n    <div class=\"fnamecat \">\n<a target=\"_blank\" href=\"https://github.com/ETCBC/dss/blob/master/docs/transcription.md\" title=\"~/text-fabric-data/github/ETCBC/dss/tf/1.9/intl.tf\">intl</a>\n</div>\n<div class=\"fmono\">int</div>\n\n<span> interlinear material, the value indicates the sequence number of the interlinear line</span>\n\n</div>\n\n<div class=\"frow\">\n    <div class=\"fnamecat \">\n<a target=\"_blank\" href=\"https://github.com/ETCBC/dss/blob/master/docs/transcription.md\" title=\"~/text-fabric-data/github/ETCBC/dss/tf/1.9/lang.tf\">lang</a>\n</div>\n<div class=\"fmono\">str</div>\n\n<span> language of a word or sign, only if it is not Hebrew</span>\n\n</div>\n\n<div class=\"frow\">\n    <div class=\"fnamecat \">\n<a target=\"_blank\" href=\"https://github.com/ETCBC/dss/blob/master/docs/transcription.md\" title=\"~/text-fabric-data/github/ETCBC/dss/tf/1.9/lang_etcbc.tf\">lang_etcbc</a>\n</div>\n<div class=\"fmono\">str</div>\n\n<span> Dead Sea Scrolls: additions based on BHSA</span>\n\n</div>\n\n<div class=\"frow\">\n    <div class=\"fnamecat \">\n<a target=\"_blank\" href=\"https://github.com/ETCBC/dss/blob/master/docs/transcription.md\" title=\"~/text-fabric-data/github/ETCBC/dss/tf/1.9/lex.tf\">lex</a>\n</div>\n<div class=\"fmono\">str</div>\n\n<span> representation (Unicode) of a lexeme</span>\n\n</div>\n\n<div class=\"frow\">\n    <div class=\"fnamecat \">\n<a target=\"_blank\" href=\"https://github.com/ETCBC/dss/blob/master/docs/transcription.md\" title=\"~/text-fabric-data/github/ETCBC/dss/tf/1.9/lex_etcbc.tf\">lex_etcbc</a>\n</div>\n<div class=\"fmono\">str</div>\n\n<span> Dead Sea Scrolls: additions based on BHSA and machine learning</span>\n\n</div>\n\n<div class=\"frow\">\n    <div class=\"fnamecat \">\n<a target=\"_blank\" href=\"https://github.com/ETCBC/dss/blob/master/docs/transcription.md\" title=\"~/text-fabric-data/github/ETCBC/dss/tf/1.9/lexe.tf\">lexe</a>\n</div>\n<div class=\"fmono\">str</div>\n\n<span> representation (ETCBC transliteration) of a lexeme</span>\n\n</div>\n\n<div class=\"frow\">\n    <div class=\"fnamecat \">\n<a target=\"_blank\" href=\"https://github.com/ETCBC/dss/blob/master/docs/transcription.md\" title=\"~/text-fabric-data/github/ETCBC/dss/tf/1.9/lexo.tf\">lexo</a>\n</div>\n<div class=\"fmono\">str</div>\n\n<span> representation (original source) of a lexeme</span>\n\n</div>\n\n<div class=\"frow\">\n    <div class=\"fnamecat \">\n<a target=\"_blank\" href=\"https://github.com/ETCBC/dss/blob/master/docs/transcription.md\" title=\"~/text-fabric-data/github/ETCBC/dss/tf/1.9/line.tf\">line</a>\n</div>\n<div class=\"fmono\">str</div>\n\n<span> label of a line of a fragment of a scroll</span>\n\n</div>\n\n<div class=\"frow\">\n    <div class=\"fnamecat \">\n<a target=\"_blank\" href=\"https://github.com/ETCBC/dss/blob/master/docs/transcription.md\" title=\"~/text-fabric-data/github/ETCBC/dss/tf/1.9/md.tf\">md</a>\n</div>\n<div class=\"fmono\">str</div>\n\n<span> mood (morphology tag)</span>\n\n</div>\n\n<div class=\"frow\">\n    <div class=\"fnamecat \">\n<a target=\"_blank\" href=\"https://github.com/ETCBC/dss/blob/master/docs/transcription.md\" title=\"~/text-fabric-data/github/ETCBC/dss/tf/1.9/merr.tf\">merr</a>\n</div>\n<div class=\"fmono\">str</div>\n\n<span> errors in parsing the morphology tag</span>\n\n</div>\n\n<div class=\"frow\">\n    <div class=\"fnamecat \">\n<a target=\"_blank\" href=\"https://github.com/ETCBC/dss/blob/master/docs/transcription.md\" title=\"~/text-fabric-data/github/ETCBC/dss/tf/1.9/morpho.tf\">morpho</a>\n</div>\n<div class=\"fmono\">str</div>\n\n<span> morphological tag (by Abegg)</span>\n\n</div>\n\n<div class=\"frow\">\n    <div class=\"fnamecat \">\n<a target=\"_blank\" href=\"https://github.com/ETCBC/dss/blob/master/docs/transcription.md\" title=\"~/text-fabric-data/github/ETCBC/dss/tf/1.9/nr.tf\">nr</a>\n</div>\n<div class=\"fmono\">str</div>\n\n<span> Dead Sea Scrolls: additions based on BHSA and machine learning</span>\n\n</div>\n\n<div class=\"frow\">\n    <div class=\"fnamecat \">\n<a target=\"_blank\" href=\"https://github.com/ETCBC/dss/blob/master/docs/transcription.md\" title=\"~/text-fabric-data/github/ETCBC/dss/tf/1.9/nu.tf\">nu</a>\n</div>\n<div class=\"fmono\">str</div>\n\n<span> number (morphology tag)</span>\n\n</div>\n\n<div class=\"frow\">\n    <div class=\"fnamecat \">\n<a target=\"_blank\" href=\"https://github.com/ETCBC/dss/blob/master/docs/transcription.md\" title=\"~/text-fabric-data/github/ETCBC/dss/tf/1.9/nu2.tf\">nu2</a>\n</div>\n<div class=\"fmono\">str</div>\n\n<span> number (for part 2) (morphology tag)</span>\n\n</div>\n\n<div class=\"frow\">\n    <div class=\"fnamecat \">\n<a target=\"_blank\" href=\"https://github.com/ETCBC/dss/blob/master/docs/transcription.md\" title=\"~/text-fabric-data/github/ETCBC/dss/tf/1.9/nu3.tf\">nu3</a>\n</div>\n<div class=\"fmono\">str</div>\n\n<span> number (for part 3) (morphology tag)</span>\n\n</div>\n\n<div class=\"frow\">\n    <div class=\"fnamecat \">\n<a target=\"_blank\" href=\"https://github.com/ETCBC/dss/blob/master/docs/transcription.md\" title=\"~/text-fabric-data/github/ETCBC/dss/tf/1.9/nu_etcbc.tf\">nu_etcbc</a>\n</div>\n<div class=\"fmono\">str</div>\n\n<span> Dead Sea Scrolls: additions based on BHSA and machine learning</span>\n\n</div>\n\n<div class=\"frow\">\n    <div class=\"fnamecat \">\n<a target=\"_blank\" href=\"https://github.com/ETCBC/dss/blob/master/docs/transcription.md\" title=\"~/text-fabric-data/github/ETCBC/dss/tf/1.9/otype.tf\">otype</a>\n</div>\n<div class=\"fmono\">str</div>\n\n<span> Dead Sea Scrolls: biblical and non-biblical scrolls</span>\n\n</div>\n\n<div class=\"frow\">\n    <div class=\"fnamecat \">\n<a target=\"_blank\" href=\"https://github.com/ETCBC/dss/blob/master/docs/transcription.md\" title=\"~/text-fabric-data/github/ETCBC/dss/tf/1.9/ps.tf\">ps</a>\n</div>\n<div class=\"fmono\">str</div>\n\n<span> person (morphology tag)</span>\n\n</div>\n\n<div class=\"frow\">\n    <div class=\"fnamecat \">\n<a target=\"_blank\" href=\"https://github.com/ETCBC/dss/blob/master/docs/transcription.md\" title=\"~/text-fabric-data/github/ETCBC/dss/tf/1.9/ps2.tf\">ps2</a>\n</div>\n<div class=\"fmono\">str</div>\n\n<span> person (for part 2) (morphology tag)</span>\n\n</div>\n\n<div class=\"frow\">\n    <div class=\"fnamecat \">\n<a target=\"_blank\" href=\"https://github.com/ETCBC/dss/blob/master/docs/transcription.md\" title=\"~/text-fabric-data/github/ETCBC/dss/tf/1.9/ps3.tf\">ps3</a>\n</div>\n<div class=\"fmono\">str</div>\n\n<span> person (for part 3) (morphology tag)</span>\n\n</div>\n\n<div class=\"frow\">\n    <div class=\"fnamecat \">\n<a target=\"_blank\" href=\"https://github.com/ETCBC/dss/blob/master/docs/transcription.md\" title=\"~/text-fabric-data/github/ETCBC/dss/tf/1.9/ps_etcbc.tf\">ps_etcbc</a>\n</div>\n<div class=\"fmono\">str</div>\n\n<span> Dead Sea Scrolls: additions based on BHSA and machine learning</span>\n\n</div>\n\n<div class=\"frow\">\n    <div class=\"fnamecat \">\n<a target=\"_blank\" href=\"https://github.com/ETCBC/dss/blob/master/docs/transcription.md\" title=\"~/text-fabric-data/github/ETCBC/dss/tf/1.9/punc.tf\">punc</a>\n</div>\n<div class=\"fmono\">str</div>\n\n<span> trailing punctuation (Unicode) of a word</span>\n\n</div>\n\n<div class=\"frow\">\n    <div class=\"fnamecat \">\n<a target=\"_blank\" href=\"https://github.com/ETCBC/dss/blob/master/docs/transcription.md\" title=\"~/text-fabric-data/github/ETCBC/dss/tf/1.9/punce.tf\">punce</a>\n</div>\n<div class=\"fmono\">str</div>\n\n<span> trailing punctuation (ETCBC transliteration) of a word</span>\n\n</div>\n\n<div class=\"frow\">\n    <div class=\"fnamecat \">\n<a target=\"_blank\" href=\"https://github.com/ETCBC/dss/blob/master/docs/transcription.md\" title=\"~/text-fabric-data/github/ETCBC/dss/tf/1.9/punco.tf\">punco</a>\n</div>\n<div class=\"fmono\">str</div>\n\n<span> trailing punctuation (original source) of a word</span>\n\n</div>\n\n<div class=\"frow\">\n    <div class=\"fnamecat \">\n<a target=\"_blank\" href=\"https://github.com/ETCBC/dss/blob/master/docs/transcription.md\" title=\"~/text-fabric-data/github/ETCBC/dss/tf/1.9/rec.tf\">rec</a>\n</div>\n<div class=\"fmono\">int</div>\n\n<span> reconstructed by a modern editor</span>\n\n</div>\n\n<div class=\"frow\">\n    <div class=\"fnamecat \">\n<a target=\"_blank\" href=\"https://github.com/ETCBC/dss/blob/master/docs/transcription.md\" title=\"~/text-fabric-data/github/ETCBC/dss/tf/1.9/rem.tf\">rem</a>\n</div>\n<div class=\"fmono\">int</div>\n\n<span> removed by an ancient or modern editor</span>\n\n</div>\n\n<div class=\"frow\">\n    <div class=\"fnamecat \">\n<a target=\"_blank\" href=\"https://github.com/ETCBC/dss/blob/master/docs/transcription.md\" title=\"~/text-fabric-data/github/ETCBC/dss/tf/1.9/script.tf\">script</a>\n</div>\n<div class=\"fmono\">str</div>\n\n<span> script in which the word or sign is written if it is not Hebrew</span>\n\n</div>\n\n<div class=\"frow\">\n    <div class=\"fnamecat \">\n<a target=\"_blank\" href=\"https://github.com/ETCBC/dss/blob/master/docs/transcription.md\" title=\"~/text-fabric-data/github/ETCBC/dss/tf/1.9/scroll.tf\">scroll</a>\n</div>\n<div class=\"fmono\">str</div>\n\n<span> acronym of a scroll</span>\n\n</div>\n\n<div class=\"frow\">\n    <div class=\"fnamecat \">\n<a target=\"_blank\" href=\"https://github.com/ETCBC/dss/blob/master/docs/transcription.md\" title=\"~/text-fabric-data/github/ETCBC/dss/tf/1.9/sp.tf\">sp</a>\n</div>\n<div class=\"fmono\">str</div>\n\n<span> part of speech (morphology tag)</span>\n\n</div>\n\n<div class=\"frow\">\n    <div class=\"fnamecat \">\n<a target=\"_blank\" href=\"https://github.com/ETCBC/dss/blob/master/docs/transcription.md\" title=\"~/text-fabric-data/github/ETCBC/dss/tf/1.9/sp_etcbc.tf\">sp_etcbc</a>\n</div>\n<div class=\"fmono\">str</div>\n\n<span> Dead Sea Scrolls: additions based on BHSA and machine learning</span>\n\n</div>\n\n<div class=\"frow\">\n    <div class=\"fnamecat \">\n<a target=\"_blank\" href=\"https://github.com/ETCBC/dss/blob/master/docs/transcription.md\" title=\"~/text-fabric-data/github/ETCBC/dss/tf/1.9/srcLn.tf\">srcLn</a>\n</div>\n<div class=\"fmono\">int</div>\n\n<span> the line number of the word in the source data file</span>\n\n</div>\n\n<div class=\"frow\">\n    <div class=\"fnamecat \">\n<a target=\"_blank\" href=\"https://github.com/ETCBC/dss/blob/master/docs/transcription.md\" title=\"~/text-fabric-data/github/ETCBC/dss/tf/1.9/st.tf\">st</a>\n</div>\n<div class=\"fmono\">str</div>\n\n<span> state (morphology tag)</span>\n\n</div>\n\n<div class=\"frow\">\n    <div class=\"fnamecat \">\n<a target=\"_blank\" href=\"https://github.com/ETCBC/dss/blob/master/docs/transcription.md\" title=\"~/text-fabric-data/github/ETCBC/dss/tf/1.9/type.tf\">type</a>\n</div>\n<div class=\"fmono\">str</div>\n\n<span> type of sign or cluster</span>\n\n</div>\n\n<div class=\"frow\">\n    <div class=\"fnamecat \">\n<a target=\"_blank\" href=\"https://github.com/ETCBC/dss/blob/master/docs/transcription.md\" title=\"~/text-fabric-data/github/ETCBC/dss/tf/1.9/unc.tf\">unc</a>\n</div>\n<div class=\"fmono\">int</div>\n\n<span> uncertain material in various degrees: higher degree is less certain</span>\n\n</div>\n\n<div class=\"frow\">\n    <div class=\"fnamecat \">\n<a target=\"_blank\" href=\"https://github.com/ETCBC/dss/blob/master/docs/transcription.md\" title=\"~/text-fabric-data/github/ETCBC/dss/tf/1.9/uvf_etcbc.tf\">uvf_etcbc</a>\n</div>\n<div class=\"fmono\">str</div>\n\n<span> Dead Sea Scrolls: additions based on BHSA and machine learning</span>\n\n</div>\n\n<div class=\"frow\">\n    <div class=\"fnamecat \">\n<a target=\"_blank\" href=\"https://github.com/ETCBC/dss/blob/master/docs/transcription.md\" title=\"~/text-fabric-data/github/ETCBC/dss/tf/1.9/vac.tf\">vac</a>\n</div>\n<div class=\"fmono\">int</div>\n\n<span> empty, unwritten space</span>\n\n</div>\n\n<div class=\"frow\">\n    <div class=\"fnamecat \">\n<a target=\"_blank\" href=\"https://github.com/ETCBC/dss/blob/master/docs/transcription.md\" title=\"~/text-fabric-data/github/ETCBC/dss/tf/1.9/verse.tf\">verse</a>\n</div>\n<div class=\"fmono\">str</div>\n\n<span> label of the verse in which the word occurs</span>\n\n</div>\n\n<div class=\"frow\">\n    <div class=\"fnamecat \">\n<a target=\"_blank\" href=\"https://github.com/ETCBC/dss/blob/master/docs/transcription.md\" title=\"~/text-fabric-data/github/ETCBC/dss/tf/1.9/vs.tf\">vs</a>\n</div>\n<div class=\"fmono\">str</div>\n\n<span> verbal stem (morphology tag)</span>\n\n</div>\n\n<div class=\"frow\">\n    <div class=\"fnamecat \">\n<a target=\"_blank\" href=\"https://github.com/ETCBC/dss/blob/master/docs/transcription.md\" title=\"~/text-fabric-data/github/ETCBC/dss/tf/1.9/vs_etcbc.tf\">vs_etcbc</a>\n</div>\n<div class=\"fmono\">str</div>\n\n<span> Dead Sea Scrolls: additions based on BHSA and machine learning</span>\n\n</div>\n\n<div class=\"frow\">\n    <div class=\"fnamecat \">\n<a target=\"_blank\" href=\"https://github.com/ETCBC/dss/blob/master/docs/transcription.md\" title=\"~/text-fabric-data/github/ETCBC/dss/tf/1.9/vt.tf\">vt</a>\n</div>\n<div class=\"fmono\">str</div>\n\n<span> verbal tense/aspect (morphology tag)</span>\n\n</div>\n\n<div class=\"frow\">\n    <div class=\"fnamecat \">\n<a target=\"_blank\" href=\"https://github.com/ETCBC/dss/blob/master/docs/transcription.md\" title=\"~/text-fabric-data/github/ETCBC/dss/tf/1.9/vt_etcbc.tf\">vt_etcbc</a>\n</div>\n<div class=\"fmono\">str</div>\n\n<span> Dead Sea Scrolls: additions based on BHSA and machine learning</span>\n\n</div>\n\n<div class=\"frow\">\n    <div class=\"fnamecat edge\">\n<a target=\"_blank\" href=\"https://github.com/ETCBC/dss/blob/master/docs/transcription.md\" title=\"~/text-fabric-data/github/ETCBC/dss/tf/1.9/occ.tf\">occ</a>\n</div>\n<div class=\"fmono\">none</div>\n\n<span> edge feature from a lexeme to its occurrences</span>\n\n</div>\n\n<div class=\"frow\">\n    <div class=\"fnamecat edge\">\n<a target=\"_blank\" href=\"https://github.com/ETCBC/dss/blob/master/docs/transcription.md\" title=\"~/text-fabric-data/github/ETCBC/dss/tf/1.9/oslots.tf\">oslots</a>\n</div>\n<div class=\"fmono\">none</div>\n\n<span> Dead Sea Scrolls: biblical and non-biblical scrolls</span>\n\n</div>\n\n    </div>\n</details>\n\n            <b>Settings:</b><br><details ><summary><b>specified</b></summary><ol><li><b>apiVersion</b>: <code>3</code></li><li><b>appName</b>: <code>ETCBC/dss</code></li><li><b>appPath</b>: <code>/Users/yonatanlou/text-fabric-data/github/ETCBC/dss/app</code></li><li><b>commit</b>: <code>5e032551a4c9ccf86f21c20d66a4180f9f4cae7f</code></li><li><details><summary><b>css</b>:</summary><code>.full,.glyph,.punc {<br>    font-family: \"Ezra SIL\", \"SBL Hebrew\", sans-serif;<br>}<br>.scriptpaleohebrew {<br>    border: 1px dashed navy;<br>}<br>.scriptgreekcapital {<br>    border: 1px dashed brown;<br>}<br>.langa {<br>    text-decoration: underline;<br>}<br>.intl1 {<br>    vertical-align: -0.25em;<br>}<br>.intl2 {<br>    vertical-align: -0.5em;<br>}<br>.langg {<br>    font-family: serif;<br>    text-decoration: underline;<br>}<br>.vac1 {<br>    background-color: #aaaaaa;<br>    border 2pt solid #dd3333;<br>    border-radius: 4pt;<br>}<br>.rem1 {<br>    font-weight: bold;<br>    color: red;<br>    text-decoration: line-through;<br>}<br>.rem2 {<br>    font-weight: bold;<br>    color: maroon;<br>    text-decoration: line-through;<br>}<br>.rec1 {<br>    color: teal;<br>    font-size: 80%;<br>}<br>.cor1 {<br>    font-weight: bold;<br>    color: dodgerblue;<br>    text-decoration: overline;<br>}<br>.cor2 {<br>    font-weight: bold;<br>    color: navy;<br>    text-decoration: overline;<br>}<br>.cor3 {<br>    font-weight: bold;<br>    color: navy;<br>    text-decoration: overline;<br>    vertical-align: super;<br>}<br>.alt1 {<br>    text-decoration: overline;<br>}<br><br>/* UNSURE: italic*/<br><br>.unc1 {<br>    font-weight: bold;<br>    color: #888888;<br>}<br>.unc2 {<br>    font-weight: bold;<br>    color: #bbbbbb;<br>}<br>.unc3 {<br>    font-weight: bold;<br>    color: #bbbbbb;<br>    text-shadow: #cccccc 1px 1px;<br>}<br>.unc4 {<br>    font-weight: bold;<br>    color: #dddddd;<br>    text-shadow: #eeeeee 2px 2px;<br>}<br><br>.empty {<br>  color: #ff0000;<br>}<br><br></code></details></li><li><details><summary><b>dataDisplay</b>:</summary><ul><li><details><summary><b>noneValues</b>:</summary><ul><li><code>unknown</code></li><li><i>no value</i></li></ul></details></li><li><b>showVerseInTuple</b>: <code>True</code></li><li><details><summary><b>textFormats</b>:</summary><ul><li><b>layout-orig-full</b>: {<b>method</b>: <code>layoutOrig</code>}</li><li><b>layout-source-full</b>: {<b>method</b>: <code>layoutSource</code>}</li><li><b>layout-trans-full</b>: {<b>method</b>: <code>layoutTrans</code>}</li></ul></details></li></ul></details></li><li><details><summary><b>docs</b>:</summary><ul><li><b>docPage</b>: <code>about</code></li><li><b>featureBase</b>: <code>{docBase}/transcription.md</code></li><li><b>featurePage</b>: <code>transcription</code></li></ul></details></li><li><b>interfaceDefaults</b>: {<b>lineNumbers</b>: <code>0</code>}</li><li><b>isCompatible</b>: <code>True</code></li><li><b>local</b>: <code>local</code></li><li><b>localDir</b>: <code>/Users/yonatanlou/text-fabric-data/github/ETCBC/dss/_temp</code></li><li><details><summary><b>provenanceSpec</b>:</summary><ul><li><b>corpus</b>: <code>Dead Sea Scrolls</code></li><li><b>doi</b>: <code>10.5281/zenodo.2652849</code></li><li><details><summary><b>moduleSpecs</b>:</summary><li><details open>\n                <summary>:</summary>\n                <ul><li><b>backend</b>: <i>no value</i></li><li><b>corpus</b>: <code>Parallel Passages</code></li><li><details><summary><b>docUrl</b>:</summary><code>https://nbviewer.jupyter.org/github/etcbc/dss/blob/master/programs/parallels.ipynb</code></details></li><li><b>doi</b>: <code>10.5281/zenodo.2652849</code></li><li><b>org</b>: <code>ETCBC</code></li><li><b>relative</b>: <code>parallels/tf</code></li><li><b>repo</b>: <code>dss</code></li></ul>\n                </details></li></details></li><li><b>org</b>: <code>ETCBC</code></li><li><b>relative</b>: <code>/tf</code></li><li><b>repo</b>: <code>dss</code></li><li><b>version</b>: <code>1.9</code></li><li><b>webBase</b>: <code>https://www.deadseascrolls.org.il/explore-the-archive</code></li><li><b>webHint</b>: <code>Show this scroll in the Leon Levy library</code></li><li><b>webUrl</b>: <code>{webBase}/search#q='&lt;1&gt;'</code></li></ul></details></li><li><b>release</b>: <code>v1.9</code></li><li><details><summary><b>typeDisplay</b>:</summary><ul><li><b>clause</b>: {<b>label</b>: <code>{nr}</code>}</li><li><details><summary><b>cluster</b>:</summary><ul><li><b>label</b>: <code>{type}</code></li><li><b>stretch</b>: <code>0</code></li></ul></details></li><li><b>fragment</b>: {<b>features</b>: <code>biblical</code>}</li><li><details><summary><b>lex</b>:</summary><ul><li><b>features</b>: <code>lex lexe</code></li><li><b>featuresBare</b>: <code>lexo</code></li><li><b>label</b>: <code>True</code></li><li><b>lexOcc</b>: <code>word</code></li><li><b>template</b>: <code>True</code></li></ul></details></li><li><b>line</b>: {<b>features</b>: <code>biblical</code>}</li><li><b>phrase</b>: {<b>label</b>: <code>{nr}</code>}</li><li><b>scroll</b>: {<b>features</b>: <code>biblical</code>}</li><li><b>sign</b>: {<b>exclude</b>: {<b>type</b>: <code>term</code>}}</li><li><details><summary><b>word</b>:</summary><ul><li><b>base</b>: <code>True</code></li><li><b>features</b>: <code>lang lex cl ps gn nu st vs vt md</code></li><li><b>featuresBare</b>: <code>sp</code></li><li><b>label</b>: <code>True</code></li><li><b>lineNumber</b>: <code>srcLn</code></li><li><b>wrap</b>: <code>0</code></li></ul></details></li></ul></details></li><li><b>writing</b>: <code>hbo</code></li></ol></details>\n"
     },
     "metadata": {},
     "output_type": "display_data"
    },
    {
     "data": {
      "text/plain": "<IPython.core.display.HTML object>",
      "text/html": "<style>tr.tf.ltr, td.tf.ltr, th.tf.ltr { text-align: left ! important;}\ntr.tf.rtl, td.tf.rtl, th.tf.rtl { text-align: right ! important;}\n@font-face {\n  font-family: \"Gentium Plus\";\n  src: local('Gentium Plus'), local('GentiumPlus'),\n    url('/browser/static/fonts/GentiumPlus-R.woff') format('woff'),\n    url('https://github.com/annotation/text-fabric/blob/master/tf/browser/static/fonts/GentiumPlus-R.woff?raw=true') format('woff');\n}\n\n@font-face {\n  font-family: \"Ezra SIL\";\n  src: local('Ezra SIL'), local('EzraSIL'),\n    url('/browser/static/fonts/SILEOT.woff') format('woff'),\n    url('https://github.com/annotation/text-fabric/blob/master/tf/browser/static/fonts/SILEOT.woff?raw=true') format('woff');\n}\n\n@font-face {\n  font-family: \"SBL Hebrew\";\n  src: local('SBL Hebrew'), local('SBLHebrew'),\n    url('/browser/static/fonts/SBL_Hbrw.woff') format('woff'),\n    url('https://github.com/annotation/text-fabric/blob/master/tf/browser/static/fonts/SBL_Hbrw.woff?raw=true') format('woff');\n}\n\n@font-face {\n  font-family: \"Estrangelo Edessa\";\n  src: local('Estrangelo Edessa'), local('EstrangeloEdessa');\n    url('/browser/static/fonts/SyrCOMEdessa.woff') format('woff'),\n    url('https://github.com/annotation/text-fabric/blob/master/tf/browser/static/fonts/SyrCOMEdessa.woff?raw=true') format('woff');\n}\n\n@font-face {\n  font-family: AmiriQuran;\n  font-style: normal;\n  font-weight: 400;\n  src: local('Amiri Quran'), local('AmiriQuran'),\n    url('/browser/static/fonts/AmiriQuran.woff') format('woff'),\n    url('https://github.com/annotation/text-fabric/blob/master/tf/browser/static/fonts/AmiriQuran.woff?raw=true') format('woff');\n}\n\n@font-face {\n  font-family: AmiriQuranColored;\n  font-style: normal;\n  font-weight: 400;\n  src: local('Amiri Quran Colored'), local('AmiriQuranColored'),\n    url('/browser/static/fonts/AmiriQuranColored.woff') format('woff'),\n    url('https://github.com/annotation/text-fabric/blob/master/tf/browser/static/fonts/AmiriQuranColored.woff?raw=true') format('woff');\n}\n\n@font-face {\n  font-family: \"Santakku\";\n  src: local('Santakku'),\n    url('/browser/static/fonts/Santakku.woff') format('woff'),\n    url('https://github.com/annotation/text-fabric/blob/master/tf/browser/static/fonts/Santakku.woff?raw=true') format('woff');\n}\n\n@font-face {\n  font-family: \"SantakkuM\";\n  src: local('SantakkuM'),\n    url('/browser/static/fonts/SantakkuM.woff') format('woff'),\n    url('https://github.com/annotation/text-fabric/blob/master/tf/browser/static/fonts/SantakkuM.woff?raw=true') format('woff');\n}\n\n/* bypassing some classical notebook settings */\ndiv#notebook {\n  line-height: unset;\n}\n/* neutral text */\n.txtn,.txtn a:visited,.txtn a:link {\n    font-family: sans-serif;\n    font-size: medium;\n    direction: ltr;\n    unicode-bidi: embed;\n    text-decoration: none;\n    color: var(--text-color);\n}\n/* transcription text */\n.txtt,.txtt a:visited,.txtt a:link {\n    font-family: monospace;\n    font-size: medium;\n    direction: ltr;\n    unicode-bidi: embed;\n    text-decoration: none;\n    color: var(--text-color);\n}\n/* source text */\n.txto,.txto a:visited,.txto a:link {\n    font-family: serif;\n    font-size: medium;\n    direction: ltr;\n    unicode-bidi: embed;\n    text-decoration: none;\n    color: var(--text-color);\n}\n/* phonetic text */\n.txtp,.txtp a:visited,.txtp a:link {\n    font-family: Gentium, sans-serif;\n    font-size: medium;\n    direction: ltr;\n    unicode-bidi: embed;\n    text-decoration: none;\n    color: var(--text-color);\n}\n/* original script text */\n.txtu,.txtu a:visited,.txtu a:link {\n    font-family: Gentium, sans-serif;\n    font-size: medium;\n    text-decoration: none;\n    color: var(--text-color);\n}\n/* hebrew */\n.txtu.hbo,.lex.hbo {\n    font-family: \"Ezra SIL\", \"SBL Hebrew\", sans-serif;\n    font-size: large;\n    direction: rtl ! important;\n    unicode-bidi: embed;\n}\n/* syriac */\n.txtu.syc,.lex.syc {\n    font-family: \"Estrangelo Edessa\", sans-serif;\n    font-size: medium;\n    direction: rtl ! important;\n    unicode-bidi: embed;\n}\n/* neo aramaic */\n.txtu.cld,.lex.cld {\n    font-family: \"CharisSIL-R\", sans-serif;\n    font-size: medium;\n    direction: ltr ! important;\n    unicode-bidi: embed;\n}\n/* standard arabic */\n.txtu.ara,.lex.ara {\n    font-family: \"AmiriQuran\", sans-serif;\n    font-size: large;\n    direction: rtl ! important;\n    unicode-bidi: embed;\n}\n/* cuneiform */\n.txtu.akk,.lex.akk {\n    font-family: Santakku, sans-serif;\n    font-size: large;\n    direction: ltr ! important;\n    unicode-bidi: embed;\n}\n.txtu.uga,.lex.uga {\n    font-family: sans-serif;\n    /*font-family: Noto Sans Ugaritic, sans-serif;*/\n    font-size: large;\n    direction: ltr ! important;\n    unicode-bidi: embed;\n}\n/* greek */\n.txtu.grc,.lex.grc a:link {\n    font-family: Gentium, sans-serif;\n    font-size: medium;\n    direction: ltr ! important;\n    unicode-bidi: embed;\n}\na:hover {\n    text-decoration: underline | important;\n    color: #0000ff | important;\n}\n.ltr {\n    direction: ltr ! important;\n    unicode-bidi: embed;\n}\n.rtl {\n    direction: rtl ! important;\n    unicode-bidi: embed;\n}\n.ubd {\n    unicode-bidi: embed;\n}\n.col {\n   display: inline-block;\n}\n.features {\n    font-family: monospace;\n    font-size: medium;\n    font-weight: bold;\n    color: var(--features);\n    display: flex;\n    flex-flow: column nowrap;\n    justify-content: flex-start;\n    align-items: flex-start;\n    align-content: flex-start;\n    padding: 2px;\n    margin: 2px;\n    direction: ltr;\n    unicode-bidi: embed;\n    border: var(--meta-width) solid var(--meta-color);\n    border-radius: var(--meta-width);\n}\n.features div,.features span {\n    padding: 0;\n    margin: -2px 0;\n}\n.features .f {\n    font-family: sans-serif;\n    font-size: small;\n    font-weight: normal;\n    color: #5555bb;\n}\n.features .xft {\n  color: #000000;\n  background-color: #eeeeee;\n  font-size: medium;\n  margin: 2px 0px;\n}\n.features .xft .f {\n  color: #000000;\n  background-color: #eeeeee;\n  font-size: small;\n  font-weight: normal;\n}\n.tfsechead {\n    font-family: sans-serif;\n    font-size: small;\n    font-weight: bold;\n    color: var(--tfsechead);\n    unicode-bidi: embed;\n    text-align: start;\n}\n.structure {\n    font-family: sans-serif;\n    font-size: small;\n    font-weight: bold;\n    color: var(--structure);\n    unicode-bidi: embed;\n    text-align: start;\n}\n.comments {\n    display: flex;\n    justify-content: flex-start;\n    align-items: flex-start;\n    align-content: flex-start;\n    flex-flow: column nowrap;\n}\n.nd, a:link.nd {\n    font-family: sans-serif;\n    font-size: small;\n    color: var(--node);\n    vertical-align: super;\n    direction: ltr ! important;\n    unicode-bidi: embed;\n}\n.nde, a:link.nde {\n    font-family: sans-serif;\n    font-size: small;\n    color: var(--node);\n    direction: ltr ! important;\n    unicode-bidi: embed;\n}\n.etf {\n    font-size: normal;\n    border-radius: 0.2rem;\n    border: 1pt solid white;\n    padding: 0 0.2rem ! important;\n    margin: 0 0.2rem ! important;\n}\n.etfx {\n    font-size: x-large;\n}\n.lex {\n  color: var(--lex-color);;\n}\n#colormapplus, #colormapmin, .ecolormapmin {\n  font-weight: bold;\n  border-radius: 0.1rem;\n  background-color: #eeeeff;\n  padding: 0 1rem;\n  margin: 0 1rem;\n}\n.clr {\n  font-style: italic;\n  font-size: small;\n}\n.clmap,.eclmap {\n  padding: 0;\n}\n.children,.children.ltr {\n    display: flex;\n    border: 0;\n    background-color: #ffffff;\n    justify-content: flex-start;\n    align-items: flex-start;\n    align-content: flex-start;\n}\n.children.stretch {\n    align-items: stretch;\n}\n.children.hor {\n    flex-flow: row nowrap;\n}\n.children.hor.wrap {\n    flex-flow: row wrap;\n}\n.children.ver {\n    flex-flow: column nowrap;\n}\n.children.ver.wrap {\n    flex-flow: column wrap;\n}\n.contnr {\n    width: fit-content;\n    display: flex;\n    justify-content: flex-start;\n    align-items: flex-start;\n    align-content: flex-start;\n    flex-flow: column nowrap;\n    background: #ffffff none repeat scroll 0 0;\n    padding:  10px 2px 2px 2px;\n    margin: 16px 2px 2px 2px;\n    border-style: solid;\n    font-size: small;\n}\n.contnr.trm {\n    background-attachment: local;\n}\n.contnr.cnul {\n    padding:  0;\n    margin: 0;\n    border-style: solid;\n    font-size: xx-small;\n}\n.contnr.cnul,.lbl.cnul {\n    border-color: var(--border-color-nul);\n    border-width: var(--border-width-nul);\n    border-radius: var(--border-width-nul);\n}\n.contnr.c0,.lbl.c0 {\n    border-color: var(--border-color0);\n    border-width: var(--border-width0);\n    border-radius: var(--border-width0);\n}\n.contnr.c1,.lbl.c1 {\n    border-color: var(--border-color1);\n    border-width: var(--border-width1);\n    border-radius: var(--border-width1);\n}\n.contnr.c2,.lbl.c2 {\n    border-color: var(--border-color2);\n    border-width: var(--border-width2);\n    border-radius: var(--border-width2);\n}\n.contnr.c3,.lbl.c3 {\n    border-color: var(--border-color3);\n    border-width: var(--border-width3);\n    border-radius: var(--border-width3);\n}\n.contnr.c4,.lbl.c4 {\n    border-color: var(--border-color4);\n    border-width: var(--border-width4);\n    border-radius: var(--border-width4);\n}\nspan.plain {\n    /*display: inline-block;*/\n    display: inline-flex;\n    flex-flow: row wrap;\n    white-space: pre-wrap;\n}\nspan.break {\n  flex-basis: 100%;\n  height: 0;\n}\n.plain {\n    background-color: #ffffff;\n}\n.plain.l,.contnr.l,.contnr.l>.lbl {\n    border-left-style: dotted\n}\n.plain.r,.contnr.r,.contnr.r>.lbl {\n    border-right-style: dotted\n}\n.plain.lno,.contnr.lno,.contnr.lno>.lbl {\n    border-left-style: none\n}\n.plain.rno,.contnr.rno,.contnr.rno>.lbl {\n    border-right-style: none\n}\n.plain.l {\n    padding-left: 4px;\n    margin-left: 2px;\n    border-width: var(--border-width-plain);\n}\n.plain.r {\n    padding-right: 4px;\n    margin-right: 2px;\n    border-width: var(--border-width-plain);\n}\n.lbl {\n    font-family: monospace;\n    margin-top: -24px;\n    margin-left: 20px;\n    background: #ffffff none repeat scroll 0 0;\n    padding: 0 6px;\n    border-style: solid;\n    display: block;\n    color: var(--label)\n}\n.lbl.trm {\n    background-attachment: local;\n    margin-top: 2px;\n    margin-left: 2px;\n    padding: 2px 2px;\n    border-style: none;\n}\n.lbl.cnul {\n    font-size: xx-small;\n}\n.lbl.c0 {\n    font-size: small;\n}\n.lbl.c1 {\n    font-size: small;\n}\n.lbl.c2 {\n    font-size: medium;\n}\n.lbl.c3 {\n    font-size: medium;\n}\n.lbl.c4 {\n    font-size: large;\n}\n.occs, a:link.occs {\n    font-size: small;\n}\n\n/* PROVENANCE */\n\ndiv.prov {\n\tmargin: 40px;\n\tpadding: 20px;\n\tborder: 2px solid var(--fog-rim);\n}\ndiv.pline {\n\tdisplay: flex;\n\tflex-flow: row nowrap;\n\tjustify-content: stretch;\n\talign-items: baseline;\n}\ndiv.p2line {\n\tmargin-left: 2em;\n\tdisplay: flex;\n\tflex-flow: row nowrap;\n\tjustify-content: stretch;\n\talign-items: baseline;\n}\ndiv.psline {\n\tdisplay: flex;\n\tflex-flow: row nowrap;\n\tjustify-content: stretch;\n\talign-items: baseline;\n\tbackground-color: var(--gold-mist-back);\n}\ndiv.pname {\n\tflex: 0 0 5rem;\n\tfont-weight: bold;\n}\ndiv.pval {\n    flex: 1 1 auto;\n}\n\n/* KEYBOARD */\n.ccoff {\n  background-color: inherit;\n}\n.ccon {\n  background-color: yellow ! important;\n}\n.ccon,.ccoff {\n  padding: 0.2rem;\n  margin: 0.2rem;\n  border: 0.1rem solid var(--letter-box-border);\n  border-radius: 0.1rem;\n}\n.ccline {\n  font-size: xx-large ! important;\n  font-weight: bold;\n  line-height: 2em ! important;\n}\n/* TF header */\n\nsummary {\n  /* needed to override the normalize.less\n   * in the classical Jupyter Notebook\n   */\n  display: list-item ! important;\n}\n\n.fcorpus {\n  display: flex;\n  flex-flow: column nowrap;\n  justify-content: flex-start;\n  align-items: flex-start;\n  align-content: flex-start;\n  overflow: auto;\n}\n.frow {\n  display: flex;\n  flex-flow: row nowrap;\n  justify-content: flex-start;\n  align-items: flex-start;\n  align-content: flex-start;\n}\n.fmeta {\n  display: flex;\n  flex-flow: column nowrap;\n  justify-content: flex-start;\n  align-items: flex-start;\n  align-content: flex-start;\n}\n.fmetarow {\n  display: flex;\n  flex-flow: row nowrap;\n  justify-content: flex-start;\n  align-items: flex-start;\n  align-content: flex-start;\n}\n.fmetakey {\n  min-width: 8em;\n  font-family: monospace;\n}\n.fnamecat {\n  min-width: 8em;\n}\n.fnamecat.edge {\n  font-weight: bold;\n  font-style: italic;\n}\n.fmono {\n    font-family: monospace;\n}\n\n:root {\n\t--node:               hsla(120, 100%,  20%, 1.0  );\n\t--label:              hsla(  0, 100%,  20%, 1.0  );\n\t--tfsechead:          hsla(  0, 100%,  25%, 1.0  );\n\t--structure:          hsla(120, 100%,  25%, 1.0  );\n\t--features:           hsla(  0,   0%,  30%, 1.0  );\n  --text-color:         hsla( 60,  80%,  10%, 1.0  );\n  --lex-color:          hsla(220,  90%,  60%, 1.0  );\n  --meta-color:         hsla(  0,   0%,  90%, 0.7  );\n  --meta-width:         3px;\n  --border-color-nul:   hsla(  0,   0%,  90%, 0.5  );\n  --border-color0:      hsla(  0,   0%,  90%, 0.9  );\n  --border-color1:      hsla(  0,   0%,  80%, 0.9  );\n  --border-color2:      hsla(  0,   0%,  70%, 0.9  );\n  --border-color3:      hsla(  0,   0%,  80%, 0.8  );\n  --border-color4:      hsla(  0,   0%,  60%, 0.9  );\n\t--letter-box-border:  hsla(  0,   0%,  80%, 0.5  );\n  --border-width-nul:   2px;\n  --border-width0:      2px;\n  --border-width1:      3px;\n  --border-width2:      4px;\n  --border-width3:      6px;\n  --border-width4:      5px;\n  --border-width-plain: 2px;\n}\n.hl {\n  background-color: var(--hl-strong);\n}\nspan.hl {\n\tbackground-color: var(--hl-strong);\n\tborder-width: 0;\n\tborder-radius: 2px;\n\tborder-style: solid;\n}\ndiv.contnr.hl,div.lbl.hl {\n  background-color: var(--hl-strong);\n}\ndiv.contnr.hl {\n  border-color: var(--hl-rim) ! important;\n\tborder-width: 4px ! important;\n}\n\nspan.hlbx {\n\tborder-color: var(--hl-rim);\n\tborder-width: 4px ! important;\n\tborder-style: solid;\n\tborder-radius: 6px;\n  padding: 4px;\n  margin: 4px;\n}\n.ehl {\n  background-color: var(--ehl-strong);\n}\n\n:root {\n\t--hl-strong:        hsla( 60, 100%,  70%, 0.9  );\n\t--hl-rim:           hsla( 55,  80%,  50%, 1.0  );\n\t--ehl-strong:       hsla(240, 100%,  70%, 0.9  );\n}\n.full,.glyph,.punc {\n    font-family: \"Ezra SIL\", \"SBL Hebrew\", sans-serif;\n}\n.scriptpaleohebrew {\n    border: 1px dashed navy;\n}\n.scriptgreekcapital {\n    border: 1px dashed brown;\n}\n.langa {\n    text-decoration: underline;\n}\n.intl1 {\n    vertical-align: -0.25em;\n}\n.intl2 {\n    vertical-align: -0.5em;\n}\n.langg {\n    font-family: serif;\n    text-decoration: underline;\n}\n.vac1 {\n    background-color: #aaaaaa;\n    border 2pt solid #dd3333;\n    border-radius: 4pt;\n}\n.rem1 {\n    font-weight: bold;\n    color: red;\n    text-decoration: line-through;\n}\n.rem2 {\n    font-weight: bold;\n    color: maroon;\n    text-decoration: line-through;\n}\n.rec1 {\n    color: teal;\n    font-size: 80%;\n}\n.cor1 {\n    font-weight: bold;\n    color: dodgerblue;\n    text-decoration: overline;\n}\n.cor2 {\n    font-weight: bold;\n    color: navy;\n    text-decoration: overline;\n}\n.cor3 {\n    font-weight: bold;\n    color: navy;\n    text-decoration: overline;\n    vertical-align: super;\n}\n.alt1 {\n    text-decoration: overline;\n}\n\n/* UNSURE: italic*/\n\n.unc1 {\n    font-weight: bold;\n    color: #888888;\n}\n.unc2 {\n    font-weight: bold;\n    color: #bbbbbb;\n}\n.unc3 {\n    font-weight: bold;\n    color: #bbbbbb;\n    text-shadow: #cccccc 1px 1px;\n}\n.unc4 {\n    font-weight: bold;\n    color: #dddddd;\n    text-shadow: #eeeeee 2px 2px;\n}\n\n.empty {\n  color: #ff0000;\n}\n\n</style>"
     },
     "metadata": {},
     "output_type": "display_data"
    },
    {
     "data": {
      "text/plain": "<IPython.core.display.HTML object>",
      "text/html": "\n<script>\nglobalThis.copyChar = (el, c) => {\n    for (const el of document.getElementsByClassName('ccon')) {\n        el.className = 'ccoff'\n    }\n    el.className = 'ccon'\n    navigator.clipboard.writeText(String.fromCharCode(c))\n}\n</script>\n"
     },
     "metadata": {},
     "output_type": "display_data"
    },
    {
     "data": {
      "text/plain": "<IPython.core.display.HTML object>",
      "text/html": "<div><b>TF API:</b> names <a target=\"_blank\" href=\"https://annotation.github.io/text-fabric/tf/cheatsheet.html\" title=\"doc\">N F E L T S C TF Fs Fall Es Eall Cs Call</a> directly usable</div><hr>"
     },
     "metadata": {},
     "output_type": "display_data"
    }
   ],
   "source": [
    "from tf.app import use\n",
    "A = use(\"ETCBC/dss\", hoist=globals())"
   ]
  },
  {
   "cell_type": "markdown",
   "metadata": {},
   "source": [
    "You can see which features have been loaded, and if you click on a feature name, you find its documentation.\n",
    "If you hover over a name, you see where the feature is located on your system."
   ]
  },
  {
   "cell_type": "code",
   "execution_count": 4,
   "metadata": {
    "collapsed": false,
    "execution": {
     "iopub.execute_input": "2024-04-08T17:21:10.564847Z",
     "iopub.status.busy": "2024-04-08T17:21:10.564275Z",
     "iopub.status.idle": "2024-04-08T17:21:14.660160Z",
     "shell.execute_reply": "2024-04-08T17:21:14.658624Z",
     "shell.execute_reply.started": "2024-04-08T17:21:10.564809Z"
    },
    "ExecuteTime": {
     "end_time": "2024-04-15T15:45:14.037193Z",
     "start_time": "2024-04-15T15:45:13.989147Z"
    }
   },
   "outputs": [],
   "source": [
    "from tqdm import tqdm\n",
    "import re\n",
    "import pandas as pd\n",
    "import matplotlib.pyplot as plt\n",
    "from notebooks.utils import chars_to_delete, get_biblical_from_line, remove_chars\n",
    "\n",
    "def get_biblical_from_line(line):\n",
    "    \"\"\"\n",
    "    Returns the biblical section of a line.\n",
    "    \"\"\"\n",
    "    bib = F.biblical.v(line)\n",
    "    if bib == None:\n",
    "        return 'nonbib'\n",
    "    elif bib == 1:\n",
    "        return 'bib'\n",
    "    elif bib == 2:\n",
    "        return 'biblical_non_biblical'\n",
    "\n"
   ]
  },
  {
   "cell_type": "code",
   "execution_count": 11,
   "metadata": {
    "collapsed": false,
    "execution": {
     "iopub.execute_input": "2024-04-08T17:21:14.665748Z",
     "iopub.status.busy": "2024-04-08T17:21:14.665148Z",
     "iopub.status.idle": "2024-04-08T17:21:14.825595Z",
     "shell.execute_reply": "2024-04-08T17:21:14.820739Z",
     "shell.execute_reply.started": "2024-04-08T17:21:14.665715Z"
    },
    "ExecuteTime": {
     "end_time": "2024-04-15T15:46:19.845535Z",
     "start_time": "2024-04-15T15:46:19.789251Z"
    }
   },
   "outputs": [],
   "source": [
    "import yaml\n",
    "with open(f\"{BASE_DIR}/data/yamls/all_sectarian_texts.yaml\", \"r\") as f:\n",
    "    all_sectarian_texts = yaml.load(f, Loader=yaml.FullLoader)\n",
    "    all_sectarian_texts = {k: v for k, v in all_sectarian_texts.items() if len(v) > 0}\n",
    "    \n"
   ]
  },
  {
   "cell_type": "code",
   "execution_count": 12,
   "metadata": {
    "collapsed": false,
    "execution": {
     "iopub.execute_input": "2024-04-08T17:21:14.828738Z",
     "iopub.status.busy": "2024-04-08T17:21:14.827749Z",
     "iopub.status.idle": "2024-04-08T17:21:15.001706Z",
     "shell.execute_reply": "2024-04-08T17:21:14.996550Z",
     "shell.execute_reply.started": "2024-04-08T17:21:14.828703Z"
    },
    "ExecuteTime": {
     "end_time": "2024-04-15T15:46:21.373323Z",
     "start_time": "2024-04-15T15:46:21.320442Z"
    }
   },
   "outputs": [],
   "source": [
    "all_books_labeled = {\"sectarian_texts\": [], \"non_sectarian_texts\": [], \"unknown\": []}\n",
    "flatten = []\n",
    "for section in all_sectarian_texts.keys():\n",
    "    for scroll in all_sectarian_texts[section].keys():\n",
    "        for book in all_sectarian_texts[section][scroll]:\n",
    "            # print(f\"{section=}, {scroll=}, {book=}\")\n",
    "            flatten.append({\"section\": section, \"scroll\": scroll, \"book\": book})\n",
    "            \n",
    "        "
   ]
  },
  {
   "cell_type": "code",
   "execution_count": 13,
   "metadata": {
    "collapsed": false,
    "execution": {
     "iopub.execute_input": "2024-04-08T17:21:15.007929Z",
     "iopub.status.busy": "2024-04-08T17:21:15.007356Z",
     "iopub.status.idle": "2024-04-08T17:21:15.170839Z",
     "shell.execute_reply": "2024-04-08T17:21:15.169168Z",
     "shell.execute_reply.started": "2024-04-08T17:21:15.007891Z"
    },
    "ExecuteTime": {
     "end_time": "2024-04-15T15:46:22.184345Z",
     "start_time": "2024-04-15T15:46:22.124587Z"
    }
   },
   "outputs": [
    {
     "data": {
      "text/plain": "            section         scroll   book\n0   sectarian_texts            1QS    1QS\n1   sectarian_texts            4QS  4Q255\n2   sectarian_texts            4QS  4Q256\n3   sectarian_texts            4QS  4Q257\n4   sectarian_texts            4QS  4Q258\n..              ...            ...    ...\n94          unknown    Shir Shabat  4Q406\n95          unknown    Shir Shabat  4Q407\n96          unknown  Temple Scroll  11Q19\n97          unknown  Temple Scroll  11Q20\n98          unknown  Temple Scroll  11Q21\n\n[99 rows x 3 columns]",
      "text/html": "<div>\n<style scoped>\n    .dataframe tbody tr th:only-of-type {\n        vertical-align: middle;\n    }\n\n    .dataframe tbody tr th {\n        vertical-align: top;\n    }\n\n    .dataframe thead th {\n        text-align: right;\n    }\n</style>\n<table border=\"1\" class=\"dataframe\">\n  <thead>\n    <tr style=\"text-align: right;\">\n      <th></th>\n      <th>section</th>\n      <th>scroll</th>\n      <th>book</th>\n    </tr>\n  </thead>\n  <tbody>\n    <tr>\n      <th>0</th>\n      <td>sectarian_texts</td>\n      <td>1QS</td>\n      <td>1QS</td>\n    </tr>\n    <tr>\n      <th>1</th>\n      <td>sectarian_texts</td>\n      <td>4QS</td>\n      <td>4Q255</td>\n    </tr>\n    <tr>\n      <th>2</th>\n      <td>sectarian_texts</td>\n      <td>4QS</td>\n      <td>4Q256</td>\n    </tr>\n    <tr>\n      <th>3</th>\n      <td>sectarian_texts</td>\n      <td>4QS</td>\n      <td>4Q257</td>\n    </tr>\n    <tr>\n      <th>4</th>\n      <td>sectarian_texts</td>\n      <td>4QS</td>\n      <td>4Q258</td>\n    </tr>\n    <tr>\n      <th>...</th>\n      <td>...</td>\n      <td>...</td>\n      <td>...</td>\n    </tr>\n    <tr>\n      <th>94</th>\n      <td>unknown</td>\n      <td>Shir Shabat</td>\n      <td>4Q406</td>\n    </tr>\n    <tr>\n      <th>95</th>\n      <td>unknown</td>\n      <td>Shir Shabat</td>\n      <td>4Q407</td>\n    </tr>\n    <tr>\n      <th>96</th>\n      <td>unknown</td>\n      <td>Temple Scroll</td>\n      <td>11Q19</td>\n    </tr>\n    <tr>\n      <th>97</th>\n      <td>unknown</td>\n      <td>Temple Scroll</td>\n      <td>11Q20</td>\n    </tr>\n    <tr>\n      <th>98</th>\n      <td>unknown</td>\n      <td>Temple Scroll</td>\n      <td>11Q21</td>\n    </tr>\n  </tbody>\n</table>\n<p>99 rows × 3 columns</p>\n</div>"
     },
     "execution_count": 13,
     "metadata": {},
     "output_type": "execute_result"
    }
   ],
   "source": [
    "books_with_label = pd.DataFrame(flatten)\n",
    "relevant_books = books_with_label[\"book\"].to_list()\n",
    "books_with_label"
   ]
  },
  {
   "cell_type": "code",
   "execution_count": 14,
   "metadata": {
    "collapsed": false,
    "execution": {
     "iopub.execute_input": "2024-04-08T17:23:03.681120Z",
     "iopub.status.busy": "2024-04-08T17:23:03.680177Z",
     "iopub.status.idle": "2024-04-08T17:23:08.165655Z",
     "shell.execute_reply": "2024-04-08T17:23:08.162894Z",
     "shell.execute_reply.started": "2024-04-08T17:23:03.681065Z"
    },
    "ExecuteTime": {
     "end_time": "2024-04-15T15:46:26.537497Z",
     "start_time": "2024-04-15T15:46:23.336040Z"
    }
   },
   "outputs": [
    {
     "name": "stderr",
     "output_type": "stream",
     "text": [
      "100%|██████████| 52895/52895 [00:03<00:00, 16871.15it/s]\n"
     ]
    }
   ],
   "source": [
    "data = {}\n",
    "books = {}\n",
    "for line in tqdm(F.otype.s(\"line\")[:]):\n",
    "    book_and_chapter = A.sectionStrFromNode(line)\n",
    "    book = A.sectionStrFromNode(line).split(\" \")[0]\n",
    "    if book not in relevant_books:\n",
    "        continue\n",
    "    text = book_and_chapter + \"\\t\" + str(get_biblical_from_line(line)) + \"\\t\"+ T.text(line)\n",
    "    text = remove_chars(text).replace(\"\\xa0\", \"\").replace(\"׃\",\".\")\n",
    "    text = [text]\n",
    "    \n",
    "    if book not in data:\n",
    "        data[book] = [text]\n",
    "    else: \n",
    "        data[book].append(text)"
   ]
  },
  {
   "cell_type": "code",
   "execution_count": 15,
   "metadata": {
    "collapsed": false,
    "execution": {
     "iopub.execute_input": "2024-04-08T17:23:08.170429Z",
     "iopub.status.busy": "2024-04-08T17:23:08.169397Z",
     "iopub.status.idle": "2024-04-08T17:23:08.334465Z",
     "shell.execute_reply": "2024-04-08T17:23:08.333224Z",
     "shell.execute_reply.started": "2024-04-08T17:23:08.170377Z"
    },
    "ExecuteTime": {
     "end_time": "2024-04-15T15:46:27.101066Z",
     "start_time": "2024-04-15T15:46:26.997859Z"
    }
   },
   "outputs": [],
   "source": [
    "lst_for_df = []\n",
    "for book in data.keys():\n",
    "    for line in data[book]:\n",
    "        line_splitted = line[0].split(\"\\t\")\n",
    "        book = line_splitted[0].split(\" \")[0]\n",
    "        pasuk = line_splitted[0].split(\" \")[1]\n",
    "        bib_nonbib = line_splitted[1]\n",
    "        text = line_splitted[2] \n",
    "        lst_for_df.append({\"book\": book, \"pasuk\": pasuk, \"label\": bib_nonbib, \"text\": text})\n",
    "df = pd.DataFrame(lst_for_df)"
   ]
  },
  {
   "cell_type": "code",
   "execution_count": 16,
   "metadata": {
    "collapsed": false,
    "execution": {
     "iopub.execute_input": "2024-04-08T17:23:08.336911Z",
     "iopub.status.busy": "2024-04-08T17:23:08.336348Z",
     "iopub.status.idle": "2024-04-08T17:23:08.462303Z",
     "shell.execute_reply": "2024-04-08T17:23:08.460445Z",
     "shell.execute_reply.started": "2024-04-08T17:23:08.336872Z"
    },
    "ExecuteTime": {
     "end_time": "2024-04-15T15:46:27.910778Z",
     "start_time": "2024-04-15T15:46:27.866082Z"
    }
   },
   "outputs": [],
   "source": [
    "assert len(relevant_books) == len(set(df[\"book\"].unique()))"
   ]
  },
  {
   "cell_type": "code",
   "execution_count": 17,
   "metadata": {
    "collapsed": false,
    "execution": {
     "iopub.execute_input": "2024-04-08T17:23:08.467104Z",
     "iopub.status.busy": "2024-04-08T17:23:08.465957Z",
     "iopub.status.idle": "2024-04-08T17:23:08.600481Z",
     "shell.execute_reply": "2024-04-08T17:23:08.599143Z",
     "shell.execute_reply.started": "2024-04-08T17:23:08.467049Z"
    },
    "ExecuteTime": {
     "end_time": "2024-04-15T15:46:38.070693Z",
     "start_time": "2024-04-15T15:46:38.019993Z"
    }
   },
   "outputs": [],
   "source": [
    "df = pd.merge(df,books_with_label, how=\"inner\", on=\"book\")\n",
    "df = df.drop(\"label\",axis=1)\n",
    "df[\"label\"] = df[\"section\"]\n",
    "df = df[df[\"label\"] != \"unknown\"]\n"
   ]
  },
  {
   "cell_type": "code",
   "execution_count": 26,
   "metadata": {
    "ExecuteTime": {
     "end_time": "2024-04-08T17:19:18.106823Z",
     "start_time": "2024-04-08T17:19:17.890507Z"
    },
    "collapsed": false,
    "execution": {
     "iopub.execute_input": "2024-04-08T17:23:08.602951Z",
     "iopub.status.busy": "2024-04-08T17:23:08.602116Z",
     "iopub.status.idle": "2024-04-08T17:23:08.769628Z",
     "shell.execute_reply": "2024-04-08T17:23:08.768349Z",
     "shell.execute_reply.started": "2024-04-08T17:23:08.602916Z"
    }
   },
   "outputs": [],
   "source": [
    "\n",
    "df[\"word_count\"] = df[\"text\"].str.split(\" \").str.len()\n",
    "book_stats = (\n",
    "    df.groupby(\"book\")[\"word_count\"].agg([\"sum\", \"count\"]).sort_values(by=\"count\")\n",
    ")\n",
    "book_stats.columns = [\"word_count\", \"lines_count\"]\n",
    "label_stats = (\n",
    "    df.groupby(\"label\")[\"word_count\"].agg([\"sum\", \"count\"]).sort_values(by=\"count\")\n",
    ")\n",
    "label_stats.columns = [\"word_count\", \"lines_count\"]"
   ]
  },
  {
   "cell_type": "code",
   "execution_count": 27,
   "metadata": {
    "ExecuteTime": {
     "end_time": "2024-04-08T17:19:22.019010Z",
     "start_time": "2024-04-08T17:19:19.243377Z"
    },
    "collapsed": false,
    "execution": {
     "iopub.execute_input": "2024-04-08T17:23:08.771703Z",
     "iopub.status.busy": "2024-04-08T17:23:08.771068Z",
     "iopub.status.idle": "2024-04-08T17:23:10.860244Z",
     "shell.execute_reply": "2024-04-08T17:23:10.858988Z",
     "shell.execute_reply.started": "2024-04-08T17:23:08.771667Z"
    }
   },
   "outputs": [
    {
     "data": {
      "text/plain": [
       "Text(0.5, 1.0, 'Lines Count per label')"
      ]
     },
     "execution_count": 27,
     "metadata": {},
     "output_type": "execute_result"
    },
    {
     "data": {
      "image/png": "[encoded data removed]",
      "text/plain": [
       "<Figure size 1500x1000 with 4 Axes>"
      ]
     },
     "metadata": {},
     "output_type": "display_data"
    }
   ],
   "source": [
    "\n",
    "fig, ax = plt.subplots(2, 2, figsize=(15, 10))\n",
    "book_stats[\"word_count\"].hist(bins=100,ax=ax[0,0])\n",
    "book_stats[\"lines_count\"].hist(bins=100,ax=ax[0,1])\n",
    "label_stats[\"word_count\"].plot(kind=\"bar\",ax=ax[1,0])\n",
    "label_stats[\"lines_count\"].plot(kind=\"bar\",ax=ax[1,1])\n",
    "ax[0,0].set_title(\"Word Count per book\")\n",
    "ax[0,1].set_title(\"Lines Count per book\")\n",
    "ax[1,0].set_title(\"Word Count per label\")\n",
    "ax[1,1].set_title(\"Lines Count per label\")"
   ]
  },
  {
   "cell_type": "code",
   "execution_count": 28,
   "metadata": {
    "ExecuteTime": {
     "end_time": "2024-04-08T17:19:22.205559Z",
     "start_time": "2024-04-08T17:19:22.026752Z"
    },
    "collapsed": false,
    "execution": {
     "iopub.execute_input": "2024-04-08T17:23:10.864461Z",
     "iopub.status.busy": "2024-04-08T17:23:10.864041Z",
     "iopub.status.idle": "2024-04-08T17:23:11.003104Z",
     "shell.execute_reply": "2024-04-08T17:23:11.002002Z",
     "shell.execute_reply.started": "2024-04-08T17:23:10.864434Z"
    }
   },
   "outputs": [],
   "source": [
    "\n",
    "books_with_enough_data = book_stats[book_stats[\"word_count\"]>=60].sort_values(by=\"word_count\", ascending=False).index.to_list()\n",
    "df_filtered = df[df[\"book\"].isin(books_with_enough_data)]\n",
    "df_filtered = df_filtered[df_filtered[\"label\"]!=\"biblical_non_biblical\"]\n"
   ]
  },
  {
   "cell_type": "code",
   "execution_count": 29,
   "metadata": {
    "ExecuteTime": {
     "end_time": "2024-04-08T17:19:22.372701Z",
     "start_time": "2024-04-08T17:19:22.209290Z"
    },
    "collapsed": false,
    "execution": {
     "iopub.execute_input": "2024-04-08T17:23:11.005295Z",
     "iopub.status.busy": "2024-04-08T17:23:11.004796Z",
     "iopub.status.idle": "2024-04-08T17:23:11.135631Z",
     "shell.execute_reply": "2024-04-08T17:23:11.134341Z",
     "shell.execute_reply.started": "2024-04-08T17:23:11.005258Z"
    }
   },
   "outputs": [],
   "source": [
    "book_stats = (\n",
    "    df_filtered.groupby(\"book\")[\"word_count\"].agg([\"sum\", \"count\"]).sort_values(by=\"count\")\n",
    ")\n",
    "book_stats.columns = [\"word_count\", \"lines_count\"]\n",
    "label_stats = (\n",
    "    df_filtered.groupby(\"label\")[\"word_count\"].agg([\"sum\", \"count\"]).sort_values(by=\"count\")\n",
    ")\n",
    "label_stats.columns = [\"word_count\", \"lines_count\"]"
   ]
  },
  {
   "cell_type": "code",
   "execution_count": 30,
   "metadata": {
    "ExecuteTime": {
     "end_time": "2024-04-08T17:19:26.499219Z",
     "start_time": "2024-04-08T17:19:22.379939Z"
    },
    "collapsed": false,
    "execution": {
     "iopub.execute_input": "2024-04-08T17:23:11.372446Z",
     "iopub.status.busy": "2024-04-08T17:23:11.371879Z",
     "iopub.status.idle": "2024-04-08T17:23:13.293720Z",
     "shell.execute_reply": "2024-04-08T17:23:13.291757Z",
     "shell.execute_reply.started": "2024-04-08T17:23:11.372403Z"
    }
   },
   "outputs": [
    {
     "data": {
      "text/plain": [
       "Text(0.5, 1.0, 'Lines Count per label')"
      ]
     },
     "execution_count": 30,
     "metadata": {},
     "output_type": "execute_result"
    },
    {
     "data": {
      "image/png": "[encoded data removed]",
      "text/plain": [
       "<Figure size 1500x1000 with 4 Axes>"
      ]
     },
     "metadata": {},
     "output_type": "display_data"
    }
   ],
   "source": [
    "\n",
    "fig, ax = plt.subplots(2, 2, figsize=(15, 10))\n",
    "book_stats[\"word_count\"].hist(bins=100,ax=ax[0,0])\n",
    "book_stats[\"lines_count\"].hist(bins=100,ax=ax[0,1])\n",
    "label_stats[\"word_count\"].plot(kind=\"bar\",ax=ax[1,0])\n",
    "label_stats[\"lines_count\"].plot(kind=\"bar\",ax=ax[1,1])\n",
    "ax[0,0].set_title(\"Word Count per book\")\n",
    "ax[0,1].set_title(\"Lines Count per book\")\n",
    "ax[1,0].set_title(\"Word Count per label\")\n",
    "ax[1,1].set_title(\"Lines Count per label\")"
   ]
  },
  {
   "cell_type": "code",
   "outputs": [
    {
     "data": {
      "text/plain": "                  book  pasuk  text  section  scroll  word_count  book_pasuk\ntrain_test label                                                            \ntest       0       447    447   447      447     447         447         447\n           1      2745   2745  2745     2745    2745        2745        2745\ntrain      0      1043   1043  1043     1043    1043        1043        1043\n           1      6405   6405  6405     6405    6405        6405        6405",
      "text/html": "<div>\n<style scoped>\n    .dataframe tbody tr th:only-of-type {\n        vertical-align: middle;\n    }\n\n    .dataframe tbody tr th {\n        vertical-align: top;\n    }\n\n    .dataframe thead th {\n        text-align: right;\n    }\n</style>\n<table border=\"1\" class=\"dataframe\">\n  <thead>\n    <tr style=\"text-align: right;\">\n      <th></th>\n      <th></th>\n      <th>book</th>\n      <th>pasuk</th>\n      <th>text</th>\n      <th>section</th>\n      <th>scroll</th>\n      <th>word_count</th>\n      <th>book_pasuk</th>\n    </tr>\n    <tr>\n      <th>train_test</th>\n      <th>label</th>\n      <th></th>\n      <th></th>\n      <th></th>\n      <th></th>\n      <th></th>\n      <th></th>\n      <th></th>\n    </tr>\n  </thead>\n  <tbody>\n    <tr>\n      <th rowspan=\"2\" valign=\"top\">test</th>\n      <th>0</th>\n      <td>447</td>\n      <td>447</td>\n      <td>447</td>\n      <td>447</td>\n      <td>447</td>\n      <td>447</td>\n      <td>447</td>\n    </tr>\n    <tr>\n      <th>1</th>\n      <td>2745</td>\n      <td>2745</td>\n      <td>2745</td>\n      <td>2745</td>\n      <td>2745</td>\n      <td>2745</td>\n      <td>2745</td>\n    </tr>\n    <tr>\n      <th rowspan=\"2\" valign=\"top\">train</th>\n      <th>0</th>\n      <td>1043</td>\n      <td>1043</td>\n      <td>1043</td>\n      <td>1043</td>\n      <td>1043</td>\n      <td>1043</td>\n      <td>1043</td>\n    </tr>\n    <tr>\n      <th>1</th>\n      <td>6405</td>\n      <td>6405</td>\n      <td>6405</td>\n      <td>6405</td>\n      <td>6405</td>\n      <td>6405</td>\n      <td>6405</td>\n    </tr>\n  </tbody>\n</table>\n</div>"
     },
     "execution_count": 162,
     "metadata": {},
     "output_type": "execute_result"
    }
   ],
   "source": [
    "from sklearn.model_selection import train_test_split\n",
    "df_train, df_test = train_test_split(df_filtered, test_size=0.3, random_state=42, stratify=df_filtered[\"label\"])\n",
    "df_train[\"train_test\"]=\"train\"\n",
    "df_test[\"train_test\"]=\"test\"\n",
    "df_filtered = pd.concat([df_train, df_test])\n",
    "df_filtered.groupby([\"train_test\",\"label\"]).count()"
   ],
   "metadata": {
    "collapsed": false,
    "ExecuteTime": {
     "end_time": "2024-04-09T05:46:03.478285Z",
     "start_time": "2024-04-09T05:46:02.670433Z"
    }
   },
   "execution_count": 162
  },
  {
   "cell_type": "code",
   "outputs": [],
   "source": [
    "df_filtered[\"book_pasuk\"] = df_filtered[\"book\"] + \" \" + df_filtered[\"pasuk\"]\n",
    "\n",
    "df_filtered[[\"book_pasuk\", \"train_test\", \"label\"]].to_csv(\n",
    "        f\"DSS_sectarian_tf_labels.txt\",\n",
    "        sep=\"\\t\",\n",
    "        index=False,\n",
    "        header=False,\n",
    "    )\n",
    "df_filtered[\"text\"].to_csv(\n",
    "        f\"DSS_sectarian_tf_text.txt\", index=False, header=False\n",
    "    )"
   ],
   "metadata": {
    "collapsed": false,
    "ExecuteTime": {
     "end_time": "2024-04-09T05:47:19.588264Z",
     "start_time": "2024-04-09T05:47:19.457150Z"
    }
   },
   "execution_count": 164
  },
  {
   "cell_type": "code",
   "execution_count": 31,
   "metadata": {
    "ExecuteTime": {
     "end_time": "2024-04-08T17:19:35.013589Z",
     "start_time": "2024-04-08T17:19:33.294582Z"
    },
    "collapsed": false,
    "execution": {
     "iopub.execute_input": "2024-04-08T17:23:41.152018Z",
     "iopub.status.busy": "2024-04-08T17:23:41.151176Z",
     "iopub.status.idle": "2024-04-08T17:23:42.527500Z",
     "shell.execute_reply": "2024-04-08T17:23:42.525972Z",
     "shell.execute_reply.started": "2024-04-08T17:23:41.151977Z"
    }
   },
   "outputs": [],
   "source": [
    "from sklearn.feature_extraction.text import TfidfVectorizer\n",
    "from sklearn.naive_bayes import MultinomialNB\n",
    "from sklearn.model_selection import train_test_split\n",
    "from sklearn.metrics import accuracy_score, classification_report\n",
    "df_filtered_origin = df_filtered.copy()\n",
    "df_filtered[\"label\"] = df_filtered[\"label\"].map({\"sectarian_texts\": 1, \"non_sectarian_texts\": 0})\n",
    "td = TfidfVectorizer(max_features = 4500)\n",
    "X = df_filtered[\"text\"]\n",
    "y = df_filtered[\"label\"]\n",
    "X = td.fit_transform(X).toarray()\n",
    "X_train, X_test, y_train, y_test = train_test_split(X, y, test_size = 0.3,\n",
    "                                                    random_state = 0)\n"
   ]
  },
  {
   "cell_type": "code",
   "execution_count": 32,
   "metadata": {
    "ExecuteTime": {
     "end_time": "2024-04-08T17:20:06.804263Z",
     "start_time": "2024-04-08T17:20:06.502689Z"
    },
    "collapsed": false,
    "execution": {
     "iopub.execute_input": "2024-04-08T17:23:42.531608Z",
     "iopub.status.busy": "2024-04-08T17:23:42.531073Z",
     "iopub.status.idle": "2024-04-08T17:27:34.156575Z",
     "shell.execute_reply": "2024-04-08T17:27:34.151910Z",
     "shell.execute_reply.started": "2024-04-08T17:23:42.531576Z"
    }
   },
   "outputs": [
    {
     "name": "stderr",
     "output_type": "stream",
     "text": [
      " 20%|██        | 1/5 [00:01<00:07,  1.77s/it]"
     ]
    },
    {
     "name": "stdout",
     "output_type": "stream",
     "text": [
      "name='Logistic Regression'\n",
      "              precision    recall  f1-score   support\n",
      "\n",
      "           0       0.89      0.15      0.25       434\n",
      "           1       0.88      1.00      0.94      2758\n",
      "\n",
      "    accuracy                           0.88      3192\n",
      "   macro avg       0.89      0.57      0.59      3192\n",
      "weighted avg       0.88      0.88      0.84      3192\n"
     ]
    },
    {
     "name": "stderr",
     "output_type": "stream",
     "text": [
      " 40%|████      | 2/5 [00:51<01:30, 30.23s/it]"
     ]
    },
    {
     "name": "stdout",
     "output_type": "stream",
     "text": [
      "name='Linear Regression'\n",
      "              precision    recall  f1-score   support\n",
      "\n",
      "           0       0.27      0.38      0.32       434\n",
      "           1       0.90      0.84      0.87      2758\n",
      "\n",
      "    accuracy                           0.78      3192\n",
      "   macro avg       0.59      0.61      0.59      3192\n",
      "weighted avg       0.81      0.78      0.79      3192\n"
     ]
    },
    {
     "name": "stderr",
     "output_type": "stream",
     "text": [
      " 80%|████████  | 4/5 [03:50<00:59, 59.44s/it]"
     ]
    },
    {
     "name": "stdout",
     "output_type": "stream",
     "text": [
      "name='Random Forest'\n",
      "              precision    recall  f1-score   support\n",
      "\n",
      "           0       0.68      0.29      0.41       434\n",
      "           1       0.90      0.98      0.94      2758\n",
      "\n",
      "    accuracy                           0.89      3192\n",
      "   macro avg       0.79      0.63      0.67      3192\n",
      "weighted avg       0.87      0.89      0.86      3192\n",
      "\n",
      "name='Naive Bayes'\n",
      "              precision    recall  f1-score   support\n",
      "\n",
      "           0       0.90      0.13      0.22       434\n",
      "           1       0.88      1.00      0.93      2758\n",
      "\n",
      "    accuracy                           0.88      3192\n",
      "   macro avg       0.89      0.56      0.58      3192\n",
      "weighted avg       0.88      0.88      0.84      3192\n"
     ]
    },
    {
     "name": "stderr",
     "output_type": "stream",
     "text": [
      "100%|██████████| 5/5 [03:51<00:00, 46.29s/it]"
     ]
    },
    {
     "name": "stdout",
     "output_type": "stream",
     "text": [
      "name='SVM'\n",
      "              precision    recall  f1-score   support\n",
      "\n",
      "           0       0.69      0.37      0.48       434\n",
      "           1       0.91      0.97      0.94      2758\n",
      "\n",
      "    accuracy                           0.89      3192\n",
      "   macro avg       0.80      0.67      0.71      3192\n",
      "weighted avg       0.88      0.89      0.88      3192\n",
      "\n",
      "Logistic Regression: 0.881578947368421\n",
      "Linear Regression: 0.7788220551378446\n",
      "Random Forest: 0.8850250626566416\n",
      "Naive Bayes: 0.8793859649122807\n",
      "SVM: 0.8909774436090225\n"
     ]
    },
    {
     "name": "stderr",
     "output_type": "stream",
     "text": [
      "\n"
     ]
    }
   ],
   "source": [
    "from sklearn.linear_model import LogisticRegression, LinearRegression\n",
    "from sklearn.ensemble import RandomForestClassifier\n",
    "from sklearn.naive_bayes import MultinomialNB\n",
    "\n",
    "from sklearn.svm import LinearSVC\n",
    "\n",
    "from sklearn.metrics import accuracy_score\n",
    "\n",
    "import numpy as np\n",
    "\n",
    "\n",
    "from sklearn.metrics import confusion_matrix\n",
    "\n",
    "\n",
    "# Initialize models\n",
    "models = {\n",
    "    'Logistic Regression': LogisticRegression(max_iter=1000),\n",
    "    'Linear Regression': LinearRegression(),\n",
    "    'Random Forest': RandomForestClassifier(),\n",
    "    'Naive Bayes': MultinomialNB(),\n",
    "    'SVM': LinearSVC(),\n",
    "    'MultinomialNB': MultinomialNB()\n",
    "}\n",
    "\n",
    "# Initialize a dictionary to hold accuracy scores\n",
    "accuracy_scores = {}\n",
    "\n",
    "# Train and evaluate each model\n",
    "for name, model in tqdm(models.items()):\n",
    "    if name == 'Deep Learning':\n",
    "        # Fit deep learning model\n",
    "        model.fit(X_train, y_train, epochs=5, batch_size=32, verbose=0)\n",
    "        # Predictions\n",
    "        y_pred = model.predict(X_test).flatten()\n",
    "        # Convert probabilities to binary predictions using 0.5 threshold\n",
    "        y_pred = np.where(y_pred > 0.5, 1, 0)\n",
    "    elif name == 'Linear Regression':\n",
    "        # Fit linear regression model\n",
    "        model.fit(X_train, y_train)\n",
    "        # Predictions\n",
    "        y_pred = model.predict(X_test)\n",
    "        # Convert to binary predictions using 0.5 threshold\n",
    "        y_pred = np.where(y_pred > 0.5, 1, 0)\n",
    "    else:\n",
    "        # Fit model\n",
    "        model.fit(X_train, y_train)\n",
    "        # Predictions\n",
    "        y_pred = model.predict(X_test)\n",
    "    \n",
    "    # Calculate accuracy\n",
    "    accuracy = accuracy_score(y_test, y_pred)\n",
    "    accuracy_scores[name] = accuracy\n",
    "    print(f\"{name=}\")\n",
    "    print(classification_report(y_test, y_pred))\n",
    "    conf_matrix = confusion_matrix(y_test, y_pred, labels=np.unique(y_test))\n",
    "    print(conf_matrix)\n",
    "\n",
    "# Display the accuracy scores\n",
    "results = []\n",
    "for model_name, accuracy in accuracy_scores.items():\n",
    "    print(f\"{model_name}: {accuracy}\")\n",
    "    results.append((model_name, accuracy))\n"
   ]
  },
  {
   "cell_type": "code",
   "execution_count": 52,
   "metadata": {
    "ExecuteTime": {
     "end_time": "2024-04-08T15:22:12.630625Z",
     "start_time": "2024-04-08T15:22:11.720917Z"
    },
    "collapsed": false
   },
   "outputs": [
    {
     "data": {
      "text/plain": [
       "book       label              \n",
       "11Q5       non_sectarian_texts    116\n",
       "4Q381      non_sectarian_texts    110\n",
       "4Q223_224  non_sectarian_texts     54\n",
       "4Q221      non_sectarian_texts     25\n",
       "4Q216      non_sectarian_texts     18\n",
       "11Q12      non_sectarian_texts     14\n",
       "4Q217      non_sectarian_texts     12\n",
       "4Q219      non_sectarian_texts      9\n",
       "4Q222      non_sectarian_texts      8\n",
       "4Q380      non_sectarian_texts      7\n",
       "1Q18       non_sectarian_texts      3\n",
       "1Q17       non_sectarian_texts      2\n",
       "4Q174      sectarian_texts          1\n",
       "4Q173      sectarian_texts          1\n",
       "4Q220      non_sectarian_texts      1\n",
       "4Q171      sectarian_texts          1\n",
       "4Q266      sectarian_texts          1\n",
       "4Q429      sectarian_texts          1\n",
       "4Q511      sectarian_texts          1\n",
       "Name: count, dtype: int64"
      ]
     },
     "execution_count": 52,
     "metadata": {},
     "output_type": "execute_result"
    }
   ],
   "source": [
    "\n",
    "incorrect_predictions = y_test[y_test != y_pred]\n",
    "incorrect_predictions = df_filtered.loc[incorrect_predictions.index]\n",
    "incorrect_predictions.groupby(\"book\")[\"label\"].value_counts().sort_values(ascending=False)\n"
   ]
  },
  {
   "cell_type": "code",
   "execution_count": 66,
   "metadata": {
    "ExecuteTime": {
     "end_time": "2024-04-08T15:44:49.320149Z",
     "start_time": "2024-04-08T15:44:48.433608Z"
    },
    "collapsed": false
   },
   "outputs": [
    {
     "data": {
      "text/html": [
       "<div>\n",
       "<style scoped>\n",
       "    .dataframe tbody tr th:only-of-type {\n",
       "        vertical-align: middle;\n",
       "    }\n",
       "\n",
       "    .dataframe tbody tr th {\n",
       "        vertical-align: top;\n",
       "    }\n",
       "\n",
       "    .dataframe thead th {\n",
       "        text-align: right;\n",
       "    }\n",
       "</style>\n",
       "<table border=\"1\" class=\"dataframe\">\n",
       "  <thead>\n",
       "    <tr style=\"text-align: right;\">\n",
       "      <th></th>\n",
       "      <th>book</th>\n",
       "      <th>pasuk</th>\n",
       "      <th>text</th>\n",
       "      <th>word_count</th>\n",
       "      <th>section</th>\n",
       "      <th>scroll</th>\n",
       "      <th>label</th>\n",
       "    </tr>\n",
       "  </thead>\n",
       "  <tbody>\n",
       "    <tr>\n",
       "      <th>0</th>\n",
       "      <td>CD</td>\n",
       "      <td>1:1</td>\n",
       "      <td>ועתה שמעו כל יודעי צדק ובינו במעשי</td>\n",
       "      <td>9</td>\n",
       "      <td>sectarian_texts</td>\n",
       "      <td>CD</td>\n",
       "      <td>sectarian_texts</td>\n",
       "    </tr>\n",
       "    <tr>\n",
       "      <th>1</th>\n",
       "      <td>CD</td>\n",
       "      <td>1:2</td>\n",
       "      <td>אל . כי ריב לו עם כל בשר ומשפט יעשה בכל מנאציו .</td>\n",
       "      <td>14</td>\n",
       "      <td>sectarian_texts</td>\n",
       "      <td>CD</td>\n",
       "      <td>sectarian_texts</td>\n",
       "    </tr>\n",
       "    <tr>\n",
       "      <th>2</th>\n",
       "      <td>CD</td>\n",
       "      <td>1:3</td>\n",
       "      <td>כי במועלם אשר עזבוהו הסתיר פניו מישראל וממקדשו</td>\n",
       "      <td>9</td>\n",
       "      <td>sectarian_texts</td>\n",
       "      <td>CD</td>\n",
       "      <td>sectarian_texts</td>\n",
       "    </tr>\n",
       "    <tr>\n",
       "      <th>3</th>\n",
       "      <td>CD</td>\n",
       "      <td>1:4</td>\n",
       "      <td>ויתנם לחרב . ובזכרו ברית ראשנים השאיר שאירית</td>\n",
       "      <td>9</td>\n",
       "      <td>sectarian_texts</td>\n",
       "      <td>CD</td>\n",
       "      <td>sectarian_texts</td>\n",
       "    </tr>\n",
       "    <tr>\n",
       "      <th>4</th>\n",
       "      <td>CD</td>\n",
       "      <td>1:5</td>\n",
       "      <td>לישראל ולא נתנם לכלה . ובקץ חרון שנים שלוש מאות</td>\n",
       "      <td>11</td>\n",
       "      <td>sectarian_texts</td>\n",
       "      <td>CD</td>\n",
       "      <td>sectarian_texts</td>\n",
       "    </tr>\n",
       "    <tr>\n",
       "      <th>...</th>\n",
       "      <td>...</td>\n",
       "      <td>...</td>\n",
       "      <td>...</td>\n",
       "      <td>...</td>\n",
       "      <td>...</td>\n",
       "      <td>...</td>\n",
       "      <td>...</td>\n",
       "    </tr>\n",
       "    <tr>\n",
       "      <th>11518</th>\n",
       "      <td>11Q12</td>\n",
       "      <td>f12:2</td>\n",
       "      <td>ה</td>\n",
       "      <td>4</td>\n",
       "      <td>non_sectarian_texts</td>\n",
       "      <td>Book_of_Jubilees</td>\n",
       "      <td>non_sectarian_texts</td>\n",
       "    </tr>\n",
       "    <tr>\n",
       "      <th>11519</th>\n",
       "      <td>11Q12</td>\n",
       "      <td>f12:3</td>\n",
       "      <td>ל  .</td>\n",
       "      <td>5</td>\n",
       "      <td>non_sectarian_texts</td>\n",
       "      <td>Book_of_Jubilees</td>\n",
       "      <td>non_sectarian_texts</td>\n",
       "    </tr>\n",
       "    <tr>\n",
       "      <th>11520</th>\n",
       "      <td>11Q12</td>\n",
       "      <td>f13:1</td>\n",
       "      <td>ויו</td>\n",
       "      <td>4</td>\n",
       "      <td>non_sectarian_texts</td>\n",
       "      <td>Book_of_Jubilees</td>\n",
       "      <td>non_sectarian_texts</td>\n",
       "    </tr>\n",
       "    <tr>\n",
       "      <th>11521</th>\n",
       "      <td>11Q12</td>\n",
       "      <td>f13:2</td>\n",
       "      <td>פר א</td>\n",
       "      <td>5</td>\n",
       "      <td>non_sectarian_texts</td>\n",
       "      <td>Book_of_Jubilees</td>\n",
       "      <td>non_sectarian_texts</td>\n",
       "    </tr>\n",
       "    <tr>\n",
       "      <th>11522</th>\n",
       "      <td>11Q12</td>\n",
       "      <td>f13:3</td>\n",
       "      <td>ל  .</td>\n",
       "      <td>5</td>\n",
       "      <td>non_sectarian_texts</td>\n",
       "      <td>Book_of_Jubilees</td>\n",
       "      <td>non_sectarian_texts</td>\n",
       "    </tr>\n",
       "  </tbody>\n",
       "</table>\n",
       "<p>10640 rows × 7 columns</p>\n",
       "</div>"
      ],
      "text/plain": [
       "        book  pasuk                                               text  \\\n",
       "0         CD    1:1                ועתה שמעו כל יודעי צדק ובינו במעשי    \n",
       "1         CD    1:2  אל . כי ריב לו עם כל בשר ומשפט יעשה בכל מנאציו .    \n",
       "2         CD    1:3    כי במועלם אשר עזבוהו הסתיר פניו מישראל וממקדשו    \n",
       "3         CD    1:4      ויתנם לחרב . ובזכרו ברית ראשנים השאיר שאירית    \n",
       "4         CD    1:5   לישראל ולא נתנם לכלה . ובקץ חרון שנים שלוש מאות    \n",
       "...      ...    ...                                                ...   \n",
       "11518  11Q12  f12:2                                                ה     \n",
       "11519  11Q12  f12:3                                              ל  .    \n",
       "11520  11Q12  f13:1                                              ויו     \n",
       "11521  11Q12  f13:2                                             פר א     \n",
       "11522  11Q12  f13:3                                              ל  .    \n",
       "\n",
       "       word_count              section            scroll                label  \n",
       "0               9      sectarian_texts                CD      sectarian_texts  \n",
       "1              14      sectarian_texts                CD      sectarian_texts  \n",
       "2               9      sectarian_texts                CD      sectarian_texts  \n",
       "3               9      sectarian_texts                CD      sectarian_texts  \n",
       "4              11      sectarian_texts                CD      sectarian_texts  \n",
       "...           ...                  ...               ...                  ...  \n",
       "11518           4  non_sectarian_texts  Book_of_Jubilees  non_sectarian_texts  \n",
       "11519           5  non_sectarian_texts  Book_of_Jubilees  non_sectarian_texts  \n",
       "11520           4  non_sectarian_texts  Book_of_Jubilees  non_sectarian_texts  \n",
       "11521           5  non_sectarian_texts  Book_of_Jubilees  non_sectarian_texts  \n",
       "11522           5  non_sectarian_texts  Book_of_Jubilees  non_sectarian_texts  \n",
       "\n",
       "[10640 rows x 7 columns]"
      ]
     },
     "execution_count": 66,
     "metadata": {},
     "output_type": "execute_result"
    }
   ],
   "source": [
    "df_filtered"
   ]
  },
  {
   "cell_type": "code",
   "execution_count": 95,
   "metadata": {
    "ExecuteTime": {
     "end_time": "2024-04-08T16:32:48.212799Z",
     "start_time": "2024-04-08T16:32:47.987582Z"
    },
    "collapsed": false
   },
   "outputs": [
    {
     "data": {
      "text/plain": [
       "['ועתה',\n",
       " 'שמעו',\n",
       " 'כל',\n",
       " 'יודעי',\n",
       " 'צדק',\n",
       " 'ובינו',\n",
       " 'במעשי',\n",
       " 'אל',\n",
       " '.',\n",
       " 'כי',\n",
       " 'ריב',\n",
       " 'לו',\n",
       " 'עם',\n",
       " 'כל',\n",
       " 'בשר',\n",
       " 'ומשפט',\n",
       " 'יעשה',\n",
       " 'בכל',\n",
       " 'מנאציו',\n",
       " '.',\n",
       " 'כי',\n",
       " 'במועלם',\n",
       " 'אשר',\n",
       " 'עזבוהו',\n",
       " 'הסתיר',\n",
       " 'פניו',\n",
       " 'מישראל',\n",
       " 'וממקדשו',\n",
       " 'ויתנם',\n",
       " 'לחרב',\n",
       " '.',\n",
       " 'ובזכרו',\n",
       " 'ברית',\n",
       " 'ראשנים',\n",
       " 'השאיר',\n",
       " 'שאירית',\n",
       " 'לישראל',\n",
       " 'ולא',\n",
       " 'נתנם',\n",
       " 'לכלה',\n",
       " '.',\n",
       " 'ובקץ',\n",
       " 'חרון',\n",
       " 'שנים',\n",
       " 'שלוש',\n",
       " 'מאות',\n",
       " 'ותשעים',\n",
       " 'לתיתו',\n",
       " 'אותם',\n",
       " 'ביד',\n",
       " 'נבוכדנאצר',\n",
       " 'מלך',\n",
       " 'בבל',\n",
       " 'פקדם',\n",
       " '.',\n",
       " 'ויצמח',\n",
       " 'מישראל',\n",
       " 'ומאהרן',\n",
       " 'שורש',\n",
       " 'מטעת',\n",
       " 'לירוש',\n",
       " 'את',\n",
       " 'ארצו',\n",
       " 'ולדשן',\n",
       " 'בטוב',\n",
       " 'אדמתו',\n",
       " '.',\n",
       " 'ויבינו',\n",
       " 'בעונם',\n",
       " 'וידעו',\n",
       " 'כי',\n",
       " 'אנשים',\n",
       " 'אשימים',\n",
       " 'הם',\n",
       " '.',\n",
       " 'ויהיו',\n",
       " 'כעורים',\n",
       " 'וכימגששים',\n",
       " 'דרך',\n",
       " 'שנים',\n",
       " 'עשרים',\n",
       " '.',\n",
       " 'ויבן',\n",
       " 'אל',\n",
       " 'אל',\n",
       " 'מעשיהם',\n",
       " 'כי',\n",
       " 'בלב',\n",
       " 'שלם',\n",
       " 'דרשוהו',\n",
       " 'ויקם',\n",
       " 'להם',\n",
       " 'מורה',\n",
       " 'צדק',\n",
       " 'להדריכם',\n",
       " 'בדרך',\n",
       " 'לבו',\n",
       " '.',\n",
       " 'ויודע',\n",
       " 'לדורות',\n",
       " 'אחרונים',\n",
       " 'את',\n",
       " 'אשר',\n",
       " 'עשה',\n",
       " 'בדור',\n",
       " 'אחרון',\n",
       " 'בעדת',\n",
       " 'בוגדים',\n",
       " 'הם',\n",
       " 'סרי',\n",
       " 'דרך',\n",
       " '.',\n",
       " 'היא',\n",
       " 'העת',\n",
       " 'אשר',\n",
       " 'היה',\n",
       " 'כתוב',\n",
       " 'עליה',\n",
       " 'כפרה',\n",
       " 'סורירה',\n",
       " 'כן',\n",
       " 'סרר',\n",
       " 'ישראל',\n",
       " '.',\n",
       " 'בעמוד',\n",
       " 'איש',\n",
       " 'הלצון',\n",
       " 'אשר',\n",
       " 'הטיף',\n",
       " 'לישראל',\n",
       " 'מימי',\n",
       " 'כזב',\n",
       " 'ויתעם',\n",
       " 'בתוהו',\n",
       " 'לא',\n",
       " 'דרך',\n",
       " 'להשח',\n",
       " 'גבהות',\n",
       " 'עולם',\n",
       " 'ולסור',\n",
       " 'מנתיבות',\n",
       " 'צדק',\n",
       " 'ולסיע',\n",
       " 'גבול',\n",
       " 'אשר',\n",
       " 'גבלו',\n",
       " 'ראשנים',\n",
       " 'בנחלתם',\n",
       " 'למען',\n",
       " 'הדבק',\n",
       " 'בהם',\n",
       " 'את',\n",
       " 'אלות',\n",
       " 'בריתו',\n",
       " 'להסגירם',\n",
       " 'לחרב',\n",
       " 'נקמת',\n",
       " 'נקם',\n",
       " 'ברית',\n",
       " '.',\n",
       " 'בעבור',\n",
       " 'אשר',\n",
       " 'דרשו',\n",
       " 'בחלקות',\n",
       " 'ויבחרו',\n",
       " 'במהתלות',\n",
       " 'ויצפו',\n",
       " 'לפרצות',\n",
       " 'ויבחרו',\n",
       " 'בטוב',\n",
       " 'הצואר',\n",
       " 'ויצדיקו',\n",
       " 'רשע',\n",
       " 'וירשיעו',\n",
       " 'צדיק',\n",
       " '.',\n",
       " 'ויעבירו',\n",
       " 'ברית',\n",
       " 'ויפירו',\n",
       " 'חוק',\n",
       " 'ויגודו',\n",
       " 'על',\n",
       " 'נפש',\n",
       " 'צדיק',\n",
       " 'ובכל',\n",
       " 'הולכי',\n",
       " 'תמים',\n",
       " 'תעבה',\n",
       " 'נפשם',\n",
       " 'וירדפום',\n",
       " 'לחרב',\n",
       " 'ויסיסו',\n",
       " 'לריב',\n",
       " 'עם',\n",
       " '.',\n",
       " 'ויחר',\n",
       " 'אף',\n",
       " 'אל',\n",
       " 'בעדתם',\n",
       " 'להשם',\n",
       " 'את',\n",
       " 'כל',\n",
       " 'המונם',\n",
       " 'ומעשיהם',\n",
       " 'לנדה',\n",
       " 'לפניו',\n",
       " '.',\n",
       " 'ועתה',\n",
       " 'שמעו',\n",
       " 'אלי',\n",
       " 'כל',\n",
       " 'באי',\n",
       " 'ברית',\n",
       " 'ואגלה',\n",
       " 'אזנכם',\n",
       " 'בדרכי',\n",
       " 'רשעים',\n",
       " '.',\n",
       " 'אל',\n",
       " 'אהב',\n",
       " 'דעת',\n",
       " 'חכמה',\n",
       " 'ותושייה',\n",
       " 'הציב',\n",
       " 'לפניו',\n",
       " 'ערמה',\n",
       " 'ודעת',\n",
       " 'הם',\n",
       " 'ישרתוהו',\n",
       " '.',\n",
       " 'ארך',\n",
       " 'אפים',\n",
       " 'עמו',\n",
       " 'ורוב',\n",
       " 'סליחות',\n",
       " 'לכפר',\n",
       " 'בעד',\n",
       " 'שבי',\n",
       " 'פשע',\n",
       " '.',\n",
       " 'וכוח',\n",
       " 'וגבורה',\n",
       " 'וחמה',\n",
       " 'גדולה',\n",
       " 'בלהבי',\n",
       " 'אש',\n",
       " 'בידי',\n",
       " 'כל',\n",
       " 'מלאכי',\n",
       " 'חבל',\n",
       " 'על',\n",
       " 'סררי',\n",
       " 'דרך',\n",
       " 'ומתעבי',\n",
       " 'חק',\n",
       " 'לאין',\n",
       " 'שאירית',\n",
       " 'ופליטה',\n",
       " 'למו',\n",
       " '.',\n",
       " 'כי',\n",
       " 'לא',\n",
       " 'בחר',\n",
       " 'אל',\n",
       " 'בהם',\n",
       " 'מקדם',\n",
       " 'עולם',\n",
       " 'ובטרם',\n",
       " 'נוסדו',\n",
       " 'ידע',\n",
       " 'את',\n",
       " 'מעשיהם',\n",
       " '.',\n",
       " 'ויתעב',\n",
       " 'את',\n",
       " 'דורות',\n",
       " 'מדם',\n",
       " 'ויסתר',\n",
       " 'את',\n",
       " 'פניו',\n",
       " 'מן',\n",
       " 'הארץ',\n",
       " 'מיעד',\n",
       " 'תומם',\n",
       " '.',\n",
       " 'וידע',\n",
       " 'את',\n",
       " 'שני',\n",
       " 'מעמד',\n",
       " 'ומספר',\n",
       " 'ופרוש',\n",
       " 'קציהם',\n",
       " 'לכל',\n",
       " 'הוי',\n",
       " 'עולמים',\n",
       " 'ונהיית',\n",
       " 'עד',\n",
       " 'מה',\n",
       " 'יבוא',\n",
       " 'בקציהם',\n",
       " 'לכל',\n",
       " 'שני',\n",
       " 'עולם',\n",
       " '.',\n",
       " 'ובכולם',\n",
       " 'הקים',\n",
       " 'לו',\n",
       " 'קריאי',\n",
       " 'שם',\n",
       " 'למען',\n",
       " 'התיר',\n",
       " 'פליטה',\n",
       " 'לארץ',\n",
       " 'ולמלא',\n",
       " 'פני',\n",
       " 'תבל',\n",
       " 'מזרעם',\n",
       " '.',\n",
       " 'ויודיעם',\n",
       " 'ביד',\n",
       " 'משיחוי',\n",
       " 'רוח',\n",
       " 'קדשו',\n",
       " 'וחוזי',\n",
       " 'אמת',\n",
       " 'ובפרוש',\n",
       " 'שמו',\n",
       " 'שמותיהם',\n",
       " 'ואת',\n",
       " 'אשר',\n",
       " 'שנא',\n",
       " 'התעה',\n",
       " '.',\n",
       " 'ועתה',\n",
       " 'בנים',\n",
       " 'שמעו',\n",
       " 'לי',\n",
       " 'ואגלה',\n",
       " 'עיניכם',\n",
       " 'לראות',\n",
       " 'ולהבין',\n",
       " 'במעשי',\n",
       " 'אל',\n",
       " 'ולבחור',\n",
       " 'את',\n",
       " 'אשר',\n",
       " 'רצה',\n",
       " 'ולמאוס',\n",
       " 'כאשר',\n",
       " 'שנא',\n",
       " '.',\n",
       " 'להתהלך',\n",
       " 'תמים',\n",
       " 'בכל',\n",
       " 'דרכיו',\n",
       " 'ולא',\n",
       " 'לתור',\n",
       " 'במחשבות',\n",
       " 'יצר',\n",
       " 'אשמה',\n",
       " 'ועני',\n",
       " 'זנות',\n",
       " 'כי',\n",
       " 'רבים',\n",
       " 'תעו',\n",
       " 'בם',\n",
       " 'וגבורי',\n",
       " 'חיל',\n",
       " 'נכשלו',\n",
       " 'בם',\n",
       " 'מלפנים',\n",
       " 'ועד',\n",
       " 'הנה',\n",
       " '.',\n",
       " 'בלכתם',\n",
       " 'בשרירות',\n",
       " 'לבם',\n",
       " 'נפלו',\n",
       " 'עידי',\n",
       " 'עירי',\n",
       " 'השמים',\n",
       " 'בה',\n",
       " 'נאחזו',\n",
       " 'אשר',\n",
       " 'לא',\n",
       " 'שמרו',\n",
       " 'מצות',\n",
       " 'אל',\n",
       " '.',\n",
       " 'ובניהם',\n",
       " 'אשר',\n",
       " 'כרום',\n",
       " 'ארזים',\n",
       " 'גבהם',\n",
       " 'וכהרים',\n",
       " 'גויותיהם',\n",
       " 'כי',\n",
       " 'נפלו',\n",
       " '.',\n",
       " 'כל',\n",
       " 'בשר',\n",
       " 'אשר',\n",
       " 'היה',\n",
       " 'בחרבה',\n",
       " 'כי',\n",
       " 'גוע',\n",
       " 'ויהיו',\n",
       " 'כלא',\n",
       " 'היו',\n",
       " 'בעשותם',\n",
       " 'את',\n",
       " 'רצונם',\n",
       " 'ולא',\n",
       " 'שמרו',\n",
       " 'את',\n",
       " 'מצות',\n",
       " 'עשיהם',\n",
       " 'עד',\n",
       " 'אשר',\n",
       " 'חרה',\n",
       " 'אפו',\n",
       " 'בם',\n",
       " '.',\n",
       " 'בה',\n",
       " 'תעיו',\n",
       " 'בני',\n",
       " 'נח',\n",
       " 'ומשפחותיהם',\n",
       " 'בה',\n",
       " 'הם',\n",
       " 'נכרתים',\n",
       " '.',\n",
       " 'אברהם',\n",
       " 'לא',\n",
       " 'הלך',\n",
       " 'בה',\n",
       " 'ויעל',\n",
       " 'אוהב',\n",
       " 'בשמרו',\n",
       " 'מצות',\n",
       " 'אל',\n",
       " 'ולא',\n",
       " 'בחר',\n",
       " 'ברצון',\n",
       " 'רוחו',\n",
       " '.',\n",
       " 'וימסור',\n",
       " 'לישחק',\n",
       " 'וליעקב',\n",
       " 'וישמרו',\n",
       " 'ויכתבו',\n",
       " 'אוהבים',\n",
       " 'לאל',\n",
       " 'ובעלי',\n",
       " 'ברית',\n",
       " 'לעולם',\n",
       " '.',\n",
       " 'בני',\n",
       " 'יעקב',\n",
       " 'תעו',\n",
       " 'בם',\n",
       " 'ויענשו',\n",
       " 'לפני',\n",
       " 'משגותם',\n",
       " '.',\n",
       " 'ובניהם',\n",
       " 'במצרים',\n",
       " 'הלכו',\n",
       " 'בשרירות',\n",
       " 'לבם',\n",
       " 'להיעץ',\n",
       " 'על',\n",
       " 'מצות',\n",
       " 'אל',\n",
       " 'ולעשות',\n",
       " 'איש',\n",
       " 'הישר',\n",
       " 'בעיניו',\n",
       " 'ויאכלו',\n",
       " 'את',\n",
       " 'הדם',\n",
       " '.',\n",
       " 'ויכרת',\n",
       " 'זכורם',\n",
       " 'במדבר',\n",
       " 'להם',\n",
       " 'בקדש',\n",
       " 'עלו',\n",
       " 'ורשו',\n",
       " 'את',\n",
       " 'רוחם',\n",
       " 'ולא',\n",
       " 'שמעו',\n",
       " 'לקול',\n",
       " 'עשיהם',\n",
       " 'מצות',\n",
       " 'יוריהם',\n",
       " 'וירגנו',\n",
       " 'באהליהם',\n",
       " 'ויחר',\n",
       " 'אף',\n",
       " 'אל',\n",
       " 'בעדתם',\n",
       " '.',\n",
       " 'ובניהם',\n",
       " 'בו',\n",
       " 'אבדו',\n",
       " 'ומלכיהם',\n",
       " 'בו',\n",
       " 'נכרתו',\n",
       " 'וגיבוריהם',\n",
       " 'בו',\n",
       " 'אבדו',\n",
       " 'וארצם',\n",
       " 'בו',\n",
       " 'שממה',\n",
       " '.',\n",
       " 'בו',\n",
       " 'הבו',\n",
       " 'באי',\n",
       " 'הברית',\n",
       " 'הראשנים',\n",
       " 'ויסגרו',\n",
       " 'לחרב',\n",
       " 'בעזבם',\n",
       " 'את',\n",
       " 'ברית',\n",
       " 'אל',\n",
       " 'ויבחרו',\n",
       " 'ברצונם',\n",
       " 'ויתורו',\n",
       " 'אחרי',\n",
       " 'שרירות',\n",
       " 'לבם',\n",
       " 'לעשות',\n",
       " 'איש',\n",
       " 'את',\n",
       " 'רצונו',\n",
       " '.',\n",
       " 'ובמחזיקים',\n",
       " 'במצות',\n",
       " 'אל',\n",
       " 'אשר',\n",
       " 'נותרו',\n",
       " 'מהם',\n",
       " 'הקים',\n",
       " 'אל',\n",
       " 'את',\n",
       " 'בריתו',\n",
       " 'לישראל',\n",
       " 'עד',\n",
       " 'עולם',\n",
       " 'לגלות',\n",
       " 'להם',\n",
       " 'נסתרות',\n",
       " 'אשר',\n",
       " 'תעו',\n",
       " 'בם',\n",
       " 'כל',\n",
       " 'ישראל',\n",
       " 'שבתות',\n",
       " 'קדשו',\n",
       " 'ומועדי',\n",
       " 'כבודו',\n",
       " 'עידות',\n",
       " 'צדקו',\n",
       " 'ודרכי',\n",
       " 'אמתו',\n",
       " 'וחפצי',\n",
       " 'רצונו',\n",
       " 'אשר',\n",
       " 'יעשה',\n",
       " 'האדם',\n",
       " 'וחיה',\n",
       " 'בהם',\n",
       " 'פתח',\n",
       " 'לפניהם',\n",
       " '.',\n",
       " 'ויחפרו',\n",
       " 'באר',\n",
       " 'למים',\n",
       " 'רבים',\n",
       " 'ומואסיהם',\n",
       " 'לא',\n",
       " 'יחיה',\n",
       " '.',\n",
       " 'והם',\n",
       " 'התגוללו',\n",
       " 'בפשע',\n",
       " 'אנוש',\n",
       " 'ובדרכי',\n",
       " 'נדה',\n",
       " 'ויאמרו',\n",
       " 'כי',\n",
       " 'לנו',\n",
       " 'היא',\n",
       " '.',\n",
       " 'ואל',\n",
       " 'ברזי',\n",
       " 'פלאו',\n",
       " 'כפר',\n",
       " 'בעד',\n",
       " 'עונם',\n",
       " 'וישא',\n",
       " 'לפשעם',\n",
       " 'ויבן',\n",
       " 'להם',\n",
       " 'בית',\n",
       " 'נאמן',\n",
       " 'בישראל',\n",
       " 'אשר',\n",
       " 'לא',\n",
       " 'עמד',\n",
       " 'כמהו',\n",
       " 'למלפנים',\n",
       " 'ועד',\n",
       " 'הנה',\n",
       " '.',\n",
       " 'המחזיקים',\n",
       " 'בו',\n",
       " 'לחיי',\n",
       " 'נצח',\n",
       " 'וכל',\n",
       " 'כבוד',\n",
       " 'אדם',\n",
       " 'להם',\n",
       " 'הוא',\n",
       " 'כאשר',\n",
       " 'הקים',\n",
       " 'אל',\n",
       " 'להם',\n",
       " 'ביד',\n",
       " 'יחזקאל',\n",
       " 'הנביא',\n",
       " 'לאמר',\n",
       " 'הכהנים',\n",
       " 'והלוים',\n",
       " 'ובני',\n",
       " 'צדוק',\n",
       " 'אשר',\n",
       " 'שמרו',\n",
       " 'את',\n",
       " 'משמרת',\n",
       " 'מקדשי',\n",
       " 'בתעות',\n",
       " 'בני',\n",
       " 'ישראל',\n",
       " 'מעלי',\n",
       " 'הם',\n",
       " 'יגישו',\n",
       " 'לי',\n",
       " 'חלב',\n",
       " 'ודם',\n",
       " '.',\n",
       " 'הכהנים',\n",
       " 'הם',\n",
       " 'שבי',\n",
       " 'ישראל',\n",
       " 'היוצאים',\n",
       " 'מארץ',\n",
       " 'יהודה',\n",
       " 'והנלוים',\n",
       " 'עמהם',\n",
       " '.',\n",
       " 'ובני',\n",
       " 'צדוק',\n",
       " 'הם',\n",
       " 'בחירי',\n",
       " 'ישראל',\n",
       " 'קריאי',\n",
       " 'השם',\n",
       " 'העמדים',\n",
       " 'באחרית',\n",
       " 'הימים',\n",
       " '.',\n",
       " 'הנה',\n",
       " 'פרוש',\n",
       " 'שמותיהם',\n",
       " 'לתולדותם',\n",
       " 'וקץ',\n",
       " 'מעמדם',\n",
       " 'ומספר',\n",
       " 'צרותיהם',\n",
       " 'ושני',\n",
       " 'התגוררם',\n",
       " 'ופירוש',\n",
       " 'מעשיהם',\n",
       " '.',\n",
       " 'הקודש',\n",
       " 'שונים',\n",
       " 'אשר',\n",
       " 'כפר',\n",
       " 'אל',\n",
       " 'בעדם',\n",
       " 'ויצדיקו',\n",
       " 'צדיק',\n",
       " 'וירשיעו',\n",
       " 'רשע',\n",
       " '.',\n",
       " 'וכל',\n",
       " 'הבאים',\n",
       " 'אחריהם',\n",
       " 'לעשות',\n",
       " 'כפרוש',\n",
       " 'התורה',\n",
       " 'אשר',\n",
       " 'התוסרו',\n",
       " 'בו',\n",
       " 'הראשנים',\n",
       " 'עד',\n",
       " 'שלים',\n",
       " 'הקץ',\n",
       " 'השנים',\n",
       " 'האלה',\n",
       " '.',\n",
       " 'כברית',\n",
       " 'אשר',\n",
       " 'הקים',\n",
       " 'אל',\n",
       " 'לראשנים',\n",
       " 'לכפר',\n",
       " 'על',\n",
       " 'עונותיהם',\n",
       " 'כן',\n",
       " 'יכפר',\n",
       " 'אל',\n",
       " 'בעדם',\n",
       " '.',\n",
       " 'ובשלום',\n",
       " 'הקץ',\n",
       " 'למספר',\n",
       " 'השנים',\n",
       " 'האלה',\n",
       " 'אין',\n",
       " 'עוד',\n",
       " 'להשתפח',\n",
       " 'לבית',\n",
       " 'יהודה',\n",
       " 'כי',\n",
       " 'אם',\n",
       " 'לעמוד',\n",
       " 'איש',\n",
       " 'על',\n",
       " 'מצודו',\n",
       " '.',\n",
       " 'נבנתה',\n",
       " 'הגדר',\n",
       " 'רחק',\n",
       " 'החוק',\n",
       " 'ובכל',\n",
       " 'השנים',\n",
       " 'האלה',\n",
       " 'יהיה',\n",
       " 'בליעל',\n",
       " 'משולח',\n",
       " 'בישראל',\n",
       " 'כאשר',\n",
       " 'דבר',\n",
       " 'אל',\n",
       " 'ביד',\n",
       " 'ישעיה',\n",
       " 'הנביא',\n",
       " 'בן',\n",
       " 'אמוץ',\n",
       " 'לאמר',\n",
       " 'פחד',\n",
       " 'ופחת',\n",
       " 'ופח',\n",
       " 'עליך',\n",
       " 'יושב',\n",
       " 'הארץ',\n",
       " '.',\n",
       " 'פשרו',\n",
       " 'שלושת',\n",
       " 'מצודות',\n",
       " 'בליעל',\n",
       " 'אשר',\n",
       " 'אמר',\n",
       " 'עליהם',\n",
       " 'לוי',\n",
       " 'בן',\n",
       " 'יעקב',\n",
       " 'אשר',\n",
       " 'הוא',\n",
       " 'תפש',\n",
       " 'בהם',\n",
       " 'בישראל',\n",
       " 'ויתנם',\n",
       " 'פניהם',\n",
       " 'לשלושת',\n",
       " 'מיני',\n",
       " 'הצדק',\n",
       " '.',\n",
       " 'הראשונה',\n",
       " 'היא',\n",
       " 'הזנות',\n",
       " 'השנית',\n",
       " 'ההון',\n",
       " 'השלישית',\n",
       " 'טמא',\n",
       " 'המקדש',\n",
       " '.',\n",
       " 'העולה',\n",
       " 'מזה',\n",
       " 'יתפש',\n",
       " 'בזה',\n",
       " 'והניצל',\n",
       " 'מזה',\n",
       " 'יתפש',\n",
       " 'בזה',\n",
       " '.',\n",
       " 'בוני',\n",
       " 'החיץ',\n",
       " 'אשר',\n",
       " 'הלכו',\n",
       " 'אחרי',\n",
       " 'צו',\n",
       " 'הצו',\n",
       " 'הוא',\n",
       " 'מטיף',\n",
       " 'אשר',\n",
       " 'אמר',\n",
       " 'הטף',\n",
       " 'יטיפון',\n",
       " '.',\n",
       " 'הם',\n",
       " 'ניתפשים',\n",
       " 'בשתים',\n",
       " 'בזנות',\n",
       " 'לקחת',\n",
       " 'שתי',\n",
       " 'נשים',\n",
       " 'בחייהם',\n",
       " '.',\n",
       " 'ויסוד',\n",
       " 'הבריאה',\n",
       " 'זכר',\n",
       " 'ונקבה',\n",
       " 'ברא',\n",
       " 'אותם',\n",
       " '.',\n",
       " 'ובאי',\n",
       " 'התבה',\n",
       " 'שנים',\n",
       " 'שנים',\n",
       " 'באו',\n",
       " 'אל',\n",
       " 'התבה',\n",
       " '.',\n",
       " 'ועל',\n",
       " 'הנשיא',\n",
       " 'כתוב',\n",
       " 'לא',\n",
       " 'ירבה',\n",
       " 'לו',\n",
       " 'נשים',\n",
       " '.',\n",
       " 'ודויד',\n",
       " 'לא',\n",
       " 'קרא',\n",
       " 'בספר',\n",
       " 'התורה',\n",
       " 'החתום',\n",
       " 'אשר',\n",
       " 'היה',\n",
       " 'בארון',\n",
       " 'כי',\n",
       " 'לא',\n",
       " 'נפ',\n",
       " 'נפתח',\n",
       " 'בישראל',\n",
       " 'מיום',\n",
       " 'מות',\n",
       " 'אלעזר',\n",
       " 'ויהושע',\n",
       " 'ויושוע',\n",
       " 'והזקנים',\n",
       " 'אשר',\n",
       " 'עבדו',\n",
       " 'את',\n",
       " 'העשתרת',\n",
       " '.',\n",
       " 'ויטמון',\n",
       " 'נגלה',\n",
       " 'עד',\n",
       " 'עמוד',\n",
       " 'צדוק',\n",
       " '.',\n",
       " 'ויעלו',\n",
       " 'מעשי',\n",
       " 'דויד',\n",
       " 'מלבד',\n",
       " 'דם',\n",
       " 'אוריה',\n",
       " 'ויעזבם',\n",
       " 'לו',\n",
       " 'אל',\n",
       " '.',\n",
       " 'וגם',\n",
       " 'מטמאים',\n",
       " 'הם',\n",
       " 'את',\n",
       " 'המקדש',\n",
       " 'אשר',\n",
       " 'אין',\n",
       " 'הם',\n",
       " 'מבדיל',\n",
       " 'כתורה',\n",
       " 'ושוכבים',\n",
       " 'עם',\n",
       " 'הרואה',\n",
       " 'את',\n",
       " 'דם',\n",
       " 'זובה',\n",
       " '.',\n",
       " 'ולוקחים',\n",
       " 'איש',\n",
       " 'את',\n",
       " 'בת',\n",
       " 'אחיהו',\n",
       " 'ואת',\n",
       " 'בת',\n",
       " 'אחותו',\n",
       " '.',\n",
       " 'ומשה',\n",
       " 'אמר',\n",
       " 'אל',\n",
       " 'אחות',\n",
       " 'אמך',\n",
       " 'לא',\n",
       " 'תקרב',\n",
       " 'שאר',\n",
       " 'אמך',\n",
       " 'היא',\n",
       " '.',\n",
       " 'ומשפט',\n",
       " 'העריות',\n",
       " 'לזכרים',\n",
       " 'הוא',\n",
       " 'כתוב',\n",
       " 'וכהם',\n",
       " 'הנשים',\n",
       " '.',\n",
       " 'ואם',\n",
       " 'תגלה',\n",
       " 'בת',\n",
       " 'האח',\n",
       " 'את',\n",
       " 'ערות',\n",
       " 'אחי',\n",
       " 'אביה',\n",
       " 'והיא',\n",
       " 'שאר',\n",
       " '.',\n",
       " 'וגם',\n",
       " 'את',\n",
       " 'רוח',\n",
       " 'קדשיהם',\n",
       " 'טמאו',\n",
       " 'ובלשון',\n",
       " 'גדופים',\n",
       " 'פתחו',\n",
       " 'פה',\n",
       " 'על',\n",
       " 'חוקי',\n",
       " 'ברית',\n",
       " 'אל',\n",
       " 'לאמר',\n",
       " 'לא',\n",
       " 'נכונו',\n",
       " 'ותועבה',\n",
       " 'הם',\n",
       " 'מדברים',\n",
       " 'בם',\n",
       " '.',\n",
       " 'כלם',\n",
       " 'קדחי',\n",
       " 'אש',\n",
       " 'ומבערי',\n",
       " 'זיקות',\n",
       " 'קורי',\n",
       " 'עכביש',\n",
       " 'קוריהם',\n",
       " 'וביצי',\n",
       " 'צפעונים',\n",
       " 'ביציהם',\n",
       " '.',\n",
       " 'הקרוב',\n",
       " 'אליהם',\n",
       " 'לא',\n",
       " 'ינקה',\n",
       " '.',\n",
       " 'כהר',\n",
       " 'ביתו',\n",
       " 'כהרבותו',\n",
       " 'יאשם',\n",
       " 'כי',\n",
       " 'אם',\n",
       " 'נלחץ',\n",
       " '.',\n",
       " ...]"
      ]
     },
     "execution_count": 95,
     "metadata": {},
     "output_type": "execute_result"
    }
   ],
   "source": [
    "import nltk\n",
    "# nltk.download('punkt')\n",
    "text_by_book = df_filtered.groupby(\"book\")[\"text\"].apply(list).to_dict()\n",
    "sample = text_by_book[\"CD\"]\n",
    "sample = \"\".join(sample)\n",
    "# sample = df_filtered[\"text\"][0]\n",
    "tokens = nltk.word_tokenize(sample)\n",
    "tokens_length = [len(token) for token in tokens]\n",
    "tokens"
   ]
  },
  {
   "cell_type": "code",
   "execution_count": 96,
   "metadata": {
    "ExecuteTime": {
     "end_time": "2024-04-08T16:32:53.508834Z",
     "start_time": "2024-04-08T16:32:52.934271Z"
    },
    "collapsed": false
   },
   "outputs": [
    {
     "data": {
      "image/png": "[encoded data removed]",
      "text/plain": [
       "<Figure size 640x480 with 1 Axes>"
      ]
     },
     "metadata": {},
     "output_type": "display_data"
    },
    {
     "data": {
      "text/plain": [
       "<Axes: xlabel='Samples', ylabel='Counts'>"
      ]
     },
     "execution_count": 96,
     "metadata": {},
     "output_type": "execute_result"
    }
   ],
   "source": [
    "nltk.FreqDist(tokens_length).plot()"
   ]
  },
  {
   "cell_type": "code",
   "execution_count": 146,
   "metadata": {
    "collapsed": false,
    "ExecuteTime": {
     "end_time": "2024-04-08T17:47:45.468086Z",
     "start_time": "2024-04-08T17:47:35.429206Z"
    }
   },
   "outputs": [
    {
     "name": "stdout",
     "output_type": "stream",
     "text": [
      "Collecting gensim\r\n",
      "  Downloading gensim-4.3.2-cp311-cp311-macosx_10_9_x86_64.whl (24.1 MB)\r\n",
      "\u001B[2K     \u001B[90m━━━━━━━━━━━━━━━━━━━━━━━━━━━━━━━━━━━━━━━━\u001B[0m \u001B[32m24.1/24.1 MB\u001B[0m \u001B[31m10.4 MB/s\u001B[0m eta \u001B[36m0:00:00\u001B[0m00:01\u001B[0m00:01\u001B[0m\r\n",
      "\u001B[?25hRequirement already satisfied: numpy>=1.18.5 in /Users/yonatanlou/.pyenv/versions/3.11.4/envs/playground/lib/python3.11/site-packages (from gensim) (1.26.4)\r\n",
      "Requirement already satisfied: scipy>=1.7.0 in /Users/yonatanlou/.pyenv/versions/3.11.4/envs/playground/lib/python3.11/site-packages (from gensim) (1.13.0)\r\n",
      "Collecting smart-open>=1.8.1 (from gensim)\r\n",
      "  Downloading smart_open-7.0.4-py3-none-any.whl (61 kB)\r\n",
      "\u001B[2K     \u001B[90m━━━━━━━━━━━━━━━━━━━━━━━━━━━━━━━━━━━━━━━━\u001B[0m \u001B[32m61.2/61.2 kB\u001B[0m \u001B[31m2.0 MB/s\u001B[0m eta \u001B[36m0:00:00\u001B[0m\r\n",
      "\u001B[?25hRequirement already satisfied: wrapt in /Users/yonatanlou/.pyenv/versions/3.11.4/envs/playground/lib/python3.11/site-packages (from smart-open>=1.8.1->gensim) (1.16.0)\r\n",
      "Installing collected packages: smart-open, gensim\r\n",
      "Successfully installed gensim-4.3.2 smart-open-7.0.4\r\n",
      "\r\n",
      "\u001B[1m[\u001B[0m\u001B[34;49mnotice\u001B[0m\u001B[1;39;49m]\u001B[0m\u001B[39;49m A new release of pip is available: \u001B[0m\u001B[31;49m23.1.2\u001B[0m\u001B[39;49m -> \u001B[0m\u001B[32;49m24.0\u001B[0m\r\n",
      "\u001B[1m[\u001B[0m\u001B[34;49mnotice\u001B[0m\u001B[1;39;49m]\u001B[0m\u001B[39;49m To update, run: \u001B[0m\u001B[32;49mpip install --upgrade pip\u001B[0m\r\n"
     ]
    }
   ],
   "source": [
    "!pip install --upgrade gensim"
   ]
  },
  {
   "cell_type": "code",
   "outputs": [
    {
     "data": {
      "text/plain": "10640"
     },
     "execution_count": 149,
     "metadata": {},
     "output_type": "execute_result"
    }
   ],
   "source": [
    "import gensim\n",
    "from gensim.utils import simple_preprocess\n",
    "\n",
    "def sent_to_words(sentences):\n",
    "    for sentence in sentences:\n",
    "        yield(gensim.utils.simple_preprocess(str(sentence), deacc=True))  # deacc=True removes punctuations\n",
    "\n",
    "data = df_filtered[\"text\"].values.tolist()\n",
    "# data\n",
    "data_words = list(sent_to_words(data))\n",
    "data_words\n",
    "len(data_words)\n",
    "# print(data_words[:1][0][:30])"
   ],
   "metadata": {
    "collapsed": false,
    "ExecuteTime": {
     "end_time": "2024-04-08T17:50:27.711543Z",
     "start_time": "2024-04-08T17:50:27.413405Z"
    }
   },
   "execution_count": 149
  },
  {
   "cell_type": "code",
   "outputs": [],
   "source": [
    "# Build the bigram and trigram models\n",
    "bigram = gensim.models.Phrases(data_words, min_count=5, threshold=100) # higher threshold fewer phrases.\n",
    "trigram = gensim.models.Phrases(bigram[data_words], threshold=100)  \n",
    "\n",
    "# Faster way to get a sentence clubbed as a trigram/bigram\n",
    "bigram_mod = gensim.models.phrases.Phraser(bigram)\n",
    "trigram_mod = gensim.models.phrases.Phraser(trigram)"
   ],
   "metadata": {
    "collapsed": false,
    "ExecuteTime": {
     "end_time": "2024-04-08T17:50:53.273338Z",
     "start_time": "2024-04-08T17:50:52.379645Z"
    }
   },
   "execution_count": 150
  },
  {
   "cell_type": "code",
   "outputs": [
    {
     "data": {
      "text/plain": "array([1, 1, 0, ..., 1, 1, 1])"
     },
     "execution_count": 166,
     "metadata": {},
     "output_type": "execute_result"
    }
   ],
   "source": [
    "# df_filtered[\"section\"].\n",
    "from sklearn.preprocessing import LabelEncoder  \n",
    "\n",
    "encoder = LabelEncoder()\n",
    "encoder.fit_transform(df_filtered[\"section\"])"
   ],
   "metadata": {
    "collapsed": false,
    "ExecuteTime": {
     "end_time": "2024-04-09T06:04:55.485234Z",
     "start_time": "2024-04-09T06:04:54.622873Z"
    }
   },
   "execution_count": 166
  },
  {
   "cell_type": "code",
   "outputs": [
    {
     "data": {
      "text/plain": "1385         sectarian_texts\n8499         sectarian_texts\n6474     non_sectarian_texts\n11424    non_sectarian_texts\n6448     non_sectarian_texts\n                ...         \n2567         sectarian_texts\n1667         sectarian_texts\n4235         sectarian_texts\n10201        sectarian_texts\n4324         sectarian_texts\nName: section, Length: 10640, dtype: object"
     },
     "execution_count": 167,
     "metadata": {},
     "output_type": "execute_result"
    }
   ],
   "source": [
    "df_filtered[\"section\"]"
   ],
   "metadata": {
    "collapsed": false,
    "ExecuteTime": {
     "end_time": "2024-04-09T06:05:05.233207Z",
     "start_time": "2024-04-09T06:05:05.086898Z"
    }
   },
   "execution_count": 167
  },
  {
   "cell_type": "code",
   "outputs": [],
   "source": [],
   "metadata": {
    "collapsed": false
   }
  }
 ],
 "metadata": {
  "kernelspec": {
   "display_name": "Python 3 (ipykernel)",
   "language": "python",
   "name": "python3"
  },
  "language_info": {
   "codemirror_mode": {
    "name": "ipython",
    "version": 3
   },
   "file_extension": ".py",
   "mimetype": "text/x-python",
   "name": "python",
   "nbconvert_exporter": "python",
   "pygments_lexer": "ipython3",
   "version": "3.11.7"
  },
  "toc": {
   "base_numbering": 1,
   "nav_menu": {},
   "number_sections": true,
   "sideBar": true,
   "skip_h1_title": false,
   "title_cell": "Table of Contents",
   "title_sidebar": "Contents",
   "toc_cell": false,
   "toc_position": {},
   "toc_section_display": "block",
   "toc_window_display": false
  },
  "widgets": {
   "application/vnd.jupyter.widget-state+json": {
    "state": {},
    "version_major": 2,
    "version_minor": 0
   }
  }
 },
 "nbformat": 4,
 "nbformat_minor": 4
}
