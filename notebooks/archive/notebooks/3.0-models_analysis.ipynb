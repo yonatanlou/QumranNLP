{
 "cells": [
  {
   "cell_type": "code",
   "execution_count": 3,
   "id": "initial_id",
   "metadata": {
    "collapsed": true,
    "ExecuteTime": {
     "end_time": "2024-04-10T05:57:14.948222Z",
     "start_time": "2024-04-10T05:57:13.799198Z"
    }
   },
   "outputs": [],
   "source": [
    "from config import BASE_DIR\n",
    "import pandas as pd\n",
    "import numpy as np"
   ]
  },
  {
   "cell_type": "code",
   "outputs": [],
   "source": [
    "models_path = f\"{BASE_DIR}/models/bert_classifier/alephbert-base_sectarian_from_books_to_read_tf_data_sampled\""
   ],
   "metadata": {
    "collapsed": false,
    "ExecuteTime": {
     "end_time": "2024-04-10T05:57:14.956068Z",
     "start_time": "2024-04-10T05:57:14.951041Z"
    }
   },
   "id": "8925167a8fdf4603",
   "execution_count": 4
  },
  {
   "cell_type": "code",
   "outputs": [],
   "source": [
    "test_data = np.load(f\"{models_path}/test_data.npy\", allow_pickle=True)\n",
    "test_label = np.load(f\"{models_path}/test_label.npy\", allow_pickle=True)\n"
   ],
   "metadata": {
    "collapsed": false,
    "ExecuteTime": {
     "end_time": "2024-04-10T05:57:44.908157Z",
     "start_time": "2024-04-10T05:57:44.896782Z"
    }
   },
   "id": "7bfc4acb08406d67",
   "execution_count": 7
  },
  {
   "cell_type": "code",
   "outputs": [
    {
     "data": {
      "text/plain": "array(['ית ט      ם ואש', 'עוד', 'עוז שבת', ...,\n       'פרוש המשפטים למשכיל לבני אור להנזר מדרכי רשעה', '',\n       'נבנתה הגדר רחק החוק . ובכל השנים האלה יהיה בליעל משולח'],\n      dtype=object)"
     },
     "execution_count": 9,
     "metadata": {},
     "output_type": "execute_result"
    }
   ],
   "source": [
    "test_data"
   ],
   "metadata": {
    "collapsed": false,
    "ExecuteTime": {
     "end_time": "2024-04-10T05:57:49.627643Z",
     "start_time": "2024-04-10T05:57:49.619873Z"
    }
   },
   "id": "888c82199be66aab",
   "execution_count": 9
  },
  {
   "cell_type": "code",
   "outputs": [
    {
     "data": {
      "text/plain": "array([1, 1, 1, ..., 1, 1, 1])"
     },
     "execution_count": 10,
     "metadata": {},
     "output_type": "execute_result"
    }
   ],
   "source": [
    "test_label"
   ],
   "metadata": {
    "collapsed": false,
    "ExecuteTime": {
     "end_time": "2024-04-10T05:57:53.818206Z",
     "start_time": "2024-04-10T05:57:53.810494Z"
    }
   },
   "id": "67bf632669bfd625",
   "execution_count": 10
  },
  {
   "cell_type": "code",
   "outputs": [],
   "source": [
    "predictions = pd.read_csv(f\"{models_path}/test_predictions.csv\")"
   ],
   "metadata": {
    "collapsed": false,
    "ExecuteTime": {
     "end_time": "2024-04-10T05:58:24.591190Z",
     "start_time": "2024-04-10T05:58:24.581216Z"
    }
   },
   "id": "51dd7d2a58da1b42",
   "execution_count": 11
  },
  {
   "cell_type": "code",
   "outputs": [
    {
     "data": {
      "text/plain": "      True Label  Prediction\n0              1           1\n1              1           1\n2              1           1\n3              1           1\n4              1           1\n...          ...         ...\n3187           1           1\n3188           1           1\n3189           1           1\n3190           1           1\n3191           1           1\n\n[3192 rows x 2 columns]",
      "text/html": "<div>\n<style scoped>\n    .dataframe tbody tr th:only-of-type {\n        vertical-align: middle;\n    }\n\n    .dataframe tbody tr th {\n        vertical-align: top;\n    }\n\n    .dataframe thead th {\n        text-align: right;\n    }\n</style>\n<table border=\"1\" class=\"dataframe\">\n  <thead>\n    <tr style=\"text-align: right;\">\n      <th></th>\n      <th>True Label</th>\n      <th>Prediction</th>\n    </tr>\n  </thead>\n  <tbody>\n    <tr>\n      <th>0</th>\n      <td>1</td>\n      <td>1</td>\n    </tr>\n    <tr>\n      <th>1</th>\n      <td>1</td>\n      <td>1</td>\n    </tr>\n    <tr>\n      <th>2</th>\n      <td>1</td>\n      <td>1</td>\n    </tr>\n    <tr>\n      <th>3</th>\n      <td>1</td>\n      <td>1</td>\n    </tr>\n    <tr>\n      <th>4</th>\n      <td>1</td>\n      <td>1</td>\n    </tr>\n    <tr>\n      <th>...</th>\n      <td>...</td>\n      <td>...</td>\n    </tr>\n    <tr>\n      <th>3187</th>\n      <td>1</td>\n      <td>1</td>\n    </tr>\n    <tr>\n      <th>3188</th>\n      <td>1</td>\n      <td>1</td>\n    </tr>\n    <tr>\n      <th>3189</th>\n      <td>1</td>\n      <td>1</td>\n    </tr>\n    <tr>\n      <th>3190</th>\n      <td>1</td>\n      <td>1</td>\n    </tr>\n    <tr>\n      <th>3191</th>\n      <td>1</td>\n      <td>1</td>\n    </tr>\n  </tbody>\n</table>\n<p>3192 rows × 2 columns</p>\n</div>"
     },
     "execution_count": 12,
     "metadata": {},
     "output_type": "execute_result"
    }
   ],
   "source": [
    "predictions"
   ],
   "metadata": {
    "collapsed": false,
    "ExecuteTime": {
     "end_time": "2024-04-10T05:58:28.866582Z",
     "start_time": "2024-04-10T05:58:28.856708Z"
    }
   },
   "id": "cf7700871b1683ab",
   "execution_count": 12
  },
  {
   "cell_type": "code",
   "outputs": [
    {
     "data": {
      "text/plain": "array([0.85996241])"
     },
     "execution_count": 15,
     "metadata": {},
     "output_type": "execute_result"
    }
   ],
   "source": [
    "test_label.sum()/test_label.shape"
   ],
   "metadata": {
    "collapsed": false,
    "ExecuteTime": {
     "end_time": "2024-04-10T05:59:32.935110Z",
     "start_time": "2024-04-10T05:59:32.927994Z"
    }
   },
   "id": "1c846dc2c4b82ed8",
   "execution_count": 15
  },
  {
   "cell_type": "code",
   "outputs": [],
   "source": [
    "train_test_data = pd.read_csv(\"/Users/yonatanlou/dev/QumranNLP/data/hebrew_processed_files/2024-04-09_sectarian_classification/DSS_sectarian_tf_labels.txt\", sep=\"\\t\", header=None,names=[\"place\", \"train_test\",\"label\"])"
   ],
   "metadata": {
    "collapsed": false,
    "ExecuteTime": {
     "end_time": "2024-04-10T06:02:52.026966Z",
     "start_time": "2024-04-10T06:02:52.010597Z"
    }
   },
   "id": "817e2959effe0cc2",
   "execution_count": 23
  },
  {
   "cell_type": "code",
   "outputs": [
    {
     "data": {
      "text/plain": "                  place\ntrain_test label       \ntest       0        447\n           1       2745\ntrain      0       1043\n           1       6405",
      "text/html": "<div>\n<style scoped>\n    .dataframe tbody tr th:only-of-type {\n        vertical-align: middle;\n    }\n\n    .dataframe tbody tr th {\n        vertical-align: top;\n    }\n\n    .dataframe thead th {\n        text-align: right;\n    }\n</style>\n<table border=\"1\" class=\"dataframe\">\n  <thead>\n    <tr style=\"text-align: right;\">\n      <th></th>\n      <th></th>\n      <th>place</th>\n    </tr>\n    <tr>\n      <th>train_test</th>\n      <th>label</th>\n      <th></th>\n    </tr>\n  </thead>\n  <tbody>\n    <tr>\n      <th rowspan=\"2\" valign=\"top\">test</th>\n      <th>0</th>\n      <td>447</td>\n    </tr>\n    <tr>\n      <th>1</th>\n      <td>2745</td>\n    </tr>\n    <tr>\n      <th rowspan=\"2\" valign=\"top\">train</th>\n      <th>0</th>\n      <td>1043</td>\n    </tr>\n    <tr>\n      <th>1</th>\n      <td>6405</td>\n    </tr>\n  </tbody>\n</table>\n</div>"
     },
     "execution_count": 25,
     "metadata": {},
     "output_type": "execute_result"
    }
   ],
   "source": [
    "train_test_data.groupby([\"train_test\",\"label\"]).count()"
   ],
   "metadata": {
    "collapsed": false,
    "ExecuteTime": {
     "end_time": "2024-04-10T06:03:11.703630Z",
     "start_time": "2024-04-10T06:03:11.685403Z"
    }
   },
   "id": "695eba7e0ae9e824",
   "execution_count": 25
  },
  {
   "cell_type": "code",
   "outputs": [],
   "source": [],
   "metadata": {
    "collapsed": false
   },
   "id": "e68cf2a06c637c9d"
  }
 ],
 "metadata": {
  "kernelspec": {
   "display_name": "Python 3",
   "language": "python",
   "name": "python3"
  },
  "language_info": {
   "codemirror_mode": {
    "name": "ipython",
    "version": 2
   },
   "file_extension": ".py",
   "mimetype": "text/x-python",
   "name": "python",
   "nbconvert_exporter": "python",
   "pygments_lexer": "ipython2",
   "version": "2.7.6"
  }
 },
 "nbformat": 4,
 "nbformat_minor": 5
}
