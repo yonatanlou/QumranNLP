{
 "cells": [
  {
   "cell_type": "code",
   "execution_count": 5,
   "id": "initial_id",
   "metadata": {
    "collapsed": true,
    "ExecuteTime": {
     "end_time": "2023-09-30T02:01:05.623568Z",
     "start_time": "2023-09-30T02:01:05.623136Z"
    }
   },
   "outputs": [],
   "source": [
    "import pandas as pd\n",
    "CLUSTERS_RESULTS_RECONSTRUCTION_PATH = \"Results/Clusters_reconstruction\"\n",
    "CLUSTERS_RESULTS_PATH = \"Results/Clusters\""
   ]
  }
 ],
 "metadata": {
  "kernelspec": {
   "display_name": "Python 3",
   "language": "python",
   "name": "python3"
  },
  "language_info": {
   "codemirror_mode": {
    "name": "ipython",
    "version": 2
   },
   "file_extension": ".py",
   "mimetype": "text/x-python",
   "name": "python",
   "nbconvert_exporter": "python",
   "pygments_lexer": "ipython2",
   "version": "2.7.6"
  }
 },
 "nbformat": 4,
 "nbformat_minor": 5
}
